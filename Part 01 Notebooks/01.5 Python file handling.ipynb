{
 "cells": [
  {
   "cell_type": "markdown",
   "metadata": {
    "code_folding": [
     0
    ]
   },
   "source": [
    "# File handling: reading file content in,  writing file content out"
   ]
  },
  {
   "cell_type": "markdown",
   "metadata": {},
   "source": [
    "You can load local files into an IPython session by opening a file object and then using the `read()` function."
   ]
  },
  {
   "cell_type": "code",
   "execution_count": 1,
   "metadata": {
    "collapsed": false,
    "run_control": {
     "read_only": false
    }
   },
   "outputs": [
    {
     "name": "stdout",
     "output_type": "stream",
     "text": [
      "simpleTest.txt\tsimpleTest_copy.txt\r\n"
     ]
    }
   ],
   "source": [
    "# Look to see what files are in the 'data' folder using the command line ls command.\n",
    "!ls data"
   ]
  },
  {
   "cell_type": "code",
   "execution_count": 2,
   "metadata": {
    "collapsed": false,
    "run_control": {
     "read_only": false
    }
   },
   "outputs": [
    {
     "name": "stdout",
     "output_type": "stream",
     "text": [
      "\r",
      "\r\n",
      "This is a\r",
      "\r\n",
      "simple test to\r",
      "\r\n",
      "let you try \r",
      "\r\n",
      "a basic \r",
      "\r\n",
      "python\r",
      "\r\n",
      "file \r",
      "\r\n",
      "reading stream.\r",
      "\r\n",
      "\r",
      "\r\n"
     ]
    }
   ],
   "source": [
    "# Let's see what the operating system thinks is in the 'simpleTest.txt' file.\n",
    "!cat data/simpleTest.txt"
   ]
  },
  {
   "cell_type": "code",
   "execution_count": 3,
   "metadata": {
    "collapsed": false,
    "run_control": {
     "read_only": false
    }
   },
   "outputs": [
    {
     "data": {
      "text/plain": [
       "'\\nThis is a\\nsimple test to\\nlet you try \\na basic \\npython\\nfile \\nreading stream.\\n\\n'"
      ]
     },
     "execution_count": 3,
     "metadata": {},
     "output_type": "execute_result"
    }
   ],
   "source": [
    "f = open('data/simpleTest.txt')\n",
    "# read() will read the full file into a single string.\n",
    "txt = f.read()\n",
    "txt"
   ]
  },
  {
   "cell_type": "code",
   "execution_count": 4,
   "metadata": {
    "collapsed": false
   },
   "outputs": [
    {
     "name": "stdout",
     "output_type": "stream",
     "text": [
      "\n",
      "This is a\n",
      "simple test to\n",
      "let you try \n",
      "a basic \n",
      "python\n",
      "file \n",
      "reading stream.\n",
      "\n",
      "\n",
      "\n",
      "Here's another line...\n"
     ]
    }
   ],
   "source": [
    "#PT: Check to see what is in simpleTest_copy.txt file before we try to write to it\n",
    "y = open('data/simpleTest_copy.txt')\n",
    "txt2 = y.read()\n",
    "print(txt2)"
   ]
  },
  {
   "cell_type": "markdown",
   "metadata": {},
   "source": [
    "You can create and write to files by opening a file object with write status `w` and then using the `write()` function and close them with the `close()` method."
   ]
  },
  {
   "cell_type": "code",
   "execution_count": 5,
   "metadata": {
    "collapsed": false,
    "run_control": {
     "read_only": false
    }
   },
   "outputs": [
    {
     "data": {
      "text/plain": [
       "\"\\nThis is a\\nsimple test to\\nlet you try \\na basic \\npython\\nfile \\nreading stream.\\n\\n\\n\\nHere's another line...added by Pablo!\""
      ]
     },
     "execution_count": 5,
     "metadata": {},
     "output_type": "execute_result"
    }
   ],
   "source": [
    "txt = txt + \"\\n\\nHere's another line...added by Pablo!\"\n",
    "fout = open('data/simpleTest_copy.txt','w')\n",
    "fout.write(txt)\n",
    "fout.close()\n",
    "\n",
    "f2 = open('data/simpleTest_copy.txt')\n",
    "copytext = f2.read()\n",
    "f2.close()\n",
    "copytext\n"
   ]
  },
  {
   "cell_type": "code",
   "execution_count": 6,
   "metadata": {
    "collapsed": false,
    "run_control": {
     "read_only": false
    }
   },
   "outputs": [
    {
     "name": "stdout",
     "output_type": "stream",
     "text": [
      "simpleTest.txt\tsimpleTest_copy.txt\r\n"
     ]
    }
   ],
   "source": [
    "!ls data"
   ]
  },
  {
   "cell_type": "markdown",
   "metadata": {},
   "source": [
    "You can also use the `with` method to open a file and assign it to a variable. On exiting the `with` block, the file will automatically be closed. This example also demonstrates reading one line at a time from the file. "
   ]
  },
  {
   "cell_type": "code",
   "execution_count": 7,
   "metadata": {
    "collapsed": false,
    "run_control": {
     "read_only": false
    }
   },
   "outputs": [
    {
     "data": {
      "text/plain": [
       "['\\n',\n",
       " 'This is a\\n',\n",
       " 'simple test to\\n',\n",
       " 'let you try \\n',\n",
       " 'a basic \\n',\n",
       " 'python\\n',\n",
       " 'file \\n',\n",
       " 'reading stream.\\n',\n",
       " '\\n']"
      ]
     },
     "execution_count": 7,
     "metadata": {},
     "output_type": "execute_result"
    }
   ],
   "source": [
    "with open('data/simpleTest.txt') as f:\n",
    "    ls = [anewline for anewline in f.readlines()]\n",
    "ls"
   ]
  },
  {
   "cell_type": "markdown",
   "metadata": {},
   "source": [
    "You can load files from a URL using various helper libraries. \n",
    "\n",
    "Here is an example of the `requests` library [[documentation](http://docs.python-requests.org/en/latest/)] in use :"
   ]
  },
  {
   "cell_type": "code",
   "execution_count": 8,
   "metadata": {
    "collapsed": false,
    "run_control": {
     "read_only": false
    }
   },
   "outputs": [],
   "source": [
    "import requests"
   ]
  },
  {
   "cell_type": "code",
   "execution_count": 9,
   "metadata": {
    "collapsed": false,
    "run_control": {
     "read_only": false
    }
   },
   "outputs": [
    {
     "data": {
      "text/plain": [
       "b'<!DOCTYPE html>\\r\\n<html lang=\"en-GB\" class=\"no-js\">\\r\\n<head>\\r\\n    <meta charset=\"utf-8\">\\r\\n    <meta http-equiv=\"X-UA-Compatible\" content=\"IE=edge, chrome=1\">\\r\\n\\r\\n\\t<title>Distance Learning Courses and Adult Education - The Open University</title>\\r\\n\\t<meta charset=\"UTF-8\" /> \\r\\n\\t<meta name=\"description\" content=\"The Open University offers flexible part-time study, supported distance and open learning for undergraduate and postgraduate courses and qualifications.\" />\\r\\n\\t<meta name=\"keywords\" content=\"open university, distance, learning, study, employee development, research, course, qualification, uni\" />\\r\\n    <meta name=\"viewport\" content=\"width=device-width, initial-scale=1.0, maximum-scale=1.0, user-scalable=no\" />\\r\\n\\t<meta name=\\'botify-site-verification\\' content=\\'DLIaleBa0YW28cyXZJU9EpgqhYncIWGd\\'>\\r\\n\\r\\n<!-- Before head -->\\r\\n<!-- ou-head v1.0.1.11 --> <script type=\"text/javascript\" src=\"//cdn.optimizely.com/js/221317523.js\">//</script>  <!-- Google Tag Manager Generic Data Layer --> <!-- Make sure any site specific layers happen before this line --> <script>/*<![CDATA[*/dataLayer = [];/*]]>*/</script> <!-- End Google Tag Manager Generic Data Layer -->  <script type=\"text/javascript\" src=\"/ouheaders/js/headerfooter.min.js?1.0.1.11\"></script>  <!-- Stylesheets --><link rel=\"stylesheet\" type=\"text/css\" href=\"/ouheaders/gui/headerfooter.css?1.0.1.11\" media=\"screen, projection\" />  <!--[if lt IE 9]><link rel=\"stylesheet\" href=\"/ouheaders/gui/header-footer-ie.css\" /><![endif]--> <link rel=\"stylesheet\" href=\"/ouheaders/gui/headerfooter-print.css?1.0.1.11\" media=\"print\" />  <!-- End ou-head v1.0.1.11 -->\\r\\n<!-- After head -->\\r\\n\\r\\n     <script src=\"/oudigital/v3/eep/js/vendor/modernizr-2.6.2.min.js\"></script>\\r\\n\\r\\n\\r\\n    <link rel=\"stylesheet\" href=\"/oudigital/v3/eep/css/screen.css\">\\r\\n    <link rel=\"stylesheet\" href=\"/oudigital/v3/eep/css/kentico-custom-styles.css\">\\r\\n\\r\\n    <link rel=\"stylesheet\" href=\"/oudigital/v3/eep/css/dev.css\">\\r\\n\\r\\n\\t<link rel=\"stylesheet\" href=\"ouhome-assets/ouhome11.css\">\\r\\n\\r\\n    <!--[if lt IE 9]>\\r\\n    <link  rel=\"stylesheet\" href=\"/oudigital/v3/eep/css/ie8.css\">\\r\\n    <![endif]-->\\r\\n    <!--[if lt IE 8]>\\r\\n    <link  rel=\"stylesheet\" href=\"/oudigital/v3/eep/css/ie.css\">\\r\\n    <![endif]-->\\r\\n    <!--[if IE 7]>\\r\\n    <link  rel=\"stylesheet\" href=\"/oudigital/v3/eep/fonts/fontawesome/css/font-awesome-ie7.css\">\\r\\n    <![endif]-->\\r\\n\\r\\n    <link rel=\"stylesheet\" href=\"/oudigital/v3/eep/css/print.css\" media=\"print\">\\r\\n\\r\\n    <!-- favicons -->\\r\\n    <link rel=\"apple-touch-icon\" href=\"/oudigital/v3/external/img/favicons/apple-touch-icon.png\">\\r\\n    <link rel=\"icon\" href=\"/oudigital/v3/external/img/favicons/favicon.png\">\\r\\n    <link rel=\"shortcut icon\" href=\"/oudigital/v3/external/img/favicon.ico\">\\r\\n    <meta name=\"msapplication-TileColor\" content=\"#ffffff\">\\r\\n    <meta name=\"msapplication-TileImage\" content=\"/oudigital/v3/external/img/favicons/ie10-win8-tile-icon.png\">\\r\\n\\r\\n</head>\\r\\n<body class=\"LTR ContentBody\">\\r\\n\\r\\n<!-- Content here -->\\r\\n    <div id=\"int-site\" tabindex=\"-1\" style=\"outline: 0;\">\\r\\n\\r\\n<!--Before header -->\\r\\n<!-- ou-header v1.0.1.11 --> <!-- Google Tag Manager --> <noscript><iframe src=\"//www.googletagmanager.com/ns.html?id=GTM-PPS2SH\" height=\"0\" width=\"0\" style=\"display:none;visibility:hidden\" /></noscript> <script>/*<![CDATA[*/   (function(w,d,s,l,i){w[l]=w[l]||[];w[l].push({\\'gtm.start\\':  new Date().getTime(),event:\\'gtm.js\\'});var f=d.getElementsByTagName(s)[0],  j=d.createElement(s),dl=l!=\\'dataLayer\\'?\\'&amp;l=\\'+l:\\'\\';j.async=true;j.src=  \\'//www.googletagmanager.com/gtm.js?id=\\'+i+dl;f.parentNode.insertBefore(j,f);  })(window,document,\\'script\\',\\'dataLayer\\',\\'GTM-PPS2SH\\');    /*]]>*/</script> <!-- End Google Tag Manager -->  <div id=\"ou-header\"> <a class=\"ou-skip\" href=\"#int-content\" data-translate=\"true\"><i class=\"int-icon int-icon-arrow-circle-down\">&#xA0;</i> Skip to content </a> <div id=\"ou-logo\">       <a class=\"ou-logo england\" href=\"http://www.open.ac.uk/\" title=\"The Open University\">         <img src=\"/ouheaders/gui/sprite.png?1.0.1.11\" srcset=\"/ouheaders/gui/sprite.png?1.0.1.11 1x, /ouheaders/gui/sprite-x3.png 2x\" alt=\"The Open University\" />       </a>       <a class=\"ou-logo roi\" href=\"http://www.open.ac.uk/republic-of-ireland/\" title=\"The Open University\">         <img src=\"/ouheaders/gui/sprite.png?1.0.1.11\" srcset=\"/ouheaders/gui/sprite.png?1.0.1.11 1x, /ouheaders/gui/sprite-x3.png 2x\" alt=\"The Open University\" />       </a>       <a class=\"ou-logo nir\" href=\"http://www.open.ac.uk/northern-ireland/\" title=\"The Open University\">         <img src=\"/ouheaders/gui/sprite.png?1.0.1.11\" srcset=\"/ouheaders/gui/sprite.png?1.0.1.11 1x, /ouheaders/gui/sprite-x3.png 2x\" alt=\"The Open University\" />       </a>       <a class=\"ou-logo scotland\" href=\"http://www.open.ac.uk/scotland/\" title=\"The Open University\">         <img src=\"/ouheaders/gui/sprite.png?1.0.1.11\" srcset=\"/ouheaders/gui/sprite.png?1.0.1.11 1x, /ouheaders/gui/sprite-x3.png 2x\" alt=\"The Open University\" />       </a>       <a class=\"ou-logo wales\" href=\"http://www.open.ac.uk/wales/\" title=\"The Open University\">         <img src=\"/ouheaders/gui/sprite.png?1.0.1.11\" srcset=\"/ouheaders/gui/sprite.png?1.0.1.11 1x, /ouheaders/gui/sprite-x3.png 2x\" alt=\"The Open University\" />       </a>       <a class=\"ou-logo cymraeg\" href=\"http://www.open.ac.uk/wales/cy/\" title=\"The Open University\">         <img src=\"/ouheaders/gui/sprite.png?1.0.1.11\" srcset=\"/ouheaders/gui/sprite.png?1.0.1.11 1x, /ouheaders/gui/sprite-x3.png 2x\" alt=\"The Open University\" />       </a>       <a class=\"ou-logo nonav\" href=\"javascript:void(0);\" title=\"The Open University\">         <img src=\"/ouheaders/gui/sprite.png?1.0.1.11\" srcset=\"/ouheaders/gui/sprite.png?1.0.1.11 1x, /ouheaders/gui/sprite-x3.png 2x\" alt=\"The Open University\" />       </a>     </div><div class=\"ou-identity\"><p class=\"ou-identity-name\" /></div><a href=\"#\" class=\"ou-mobile-menu-toggle icon-up\" id=\"ou-mobile-menu-toggle\"><img src=\"/ouheaders/gui/sprite.png?1.0.1.11\" srcset=\"/ouheaders/gui/sprite.png?1.0.1.11 1x, /ouheaders/gui/sprite-x3.png 2x\" alt=\"Toggle service links\" title=\"Toggle service links\" /></a> <div id=\"ou-header-nav\"><div id=\"ou-service-links\" role=\"navigation\"><div id=\"ou-identity\"><p class=\"ou-identity-name\" /><p id=\"ou-identity-id\" /></div><ul><li class=\"ou-role-signin\" id=\"ou-signin1\"><a href=\"https://msds.open.ac.uk/signon/sams001.aspx\" id=\"ou-signin2\" data-translate=\"true\">Sign in</a><span>|</span></li><li class=\"ou-role-signout ou-header-remove\" id=\"ou-signout\"><a href=\"https://msds.open.ac.uk/signon/samsoff.aspx\" id=\"ou-signout2\" data-translate=\"true\">Sign out</a><span>|</span></li>       <li id=\"ou-myaccount\" class=\"ou-header-remove\">         <a href=\"https://msds.open.ac.uk/students/\" data-translate=\"true\">My Account</a>         <span>|</span>       </li>       <li id=\"ou-studenthome\" class=\"ou-header-remove\">         <a href=\"https://msds.open.ac.uk/students/\" data-translate=\"true\">StudentHome</a>         <span>|</span>       </li>       <li id=\"ou-tutorhome\" class=\"ou-header-remove\">         <a href=\"https://msds.open.ac.uk/tutorhome/\" data-translate=\"true\">TutorHome</a>         <span>|</span>       </li>       <li id=\"ou-intranethome\" class=\"ou-header-remove\">         <a href=\"http://intranet.open.ac.uk/oulife-home/\" data-translate=\"true\">IntranetHome</a>         <span>|</span>       </li>     <li id=\"ou-contact\"><a href=\"http://www.open.ac.uk/contact\" data-translate=\"true\" class=\"ou-ia-public\">Contact the OU</a><a href=\"http://www2.open.ac.uk/students/help/your-contacts\" data-translate=\"true\" class=\"ou-ia-student\">Contact the OU</a><a href=\"http://www2.open.ac.uk/tutors/help/who-to-contact\" data-translate=\"true\" class=\"ou-ia-tutor\">Contact the OU</a><span>|</span></li><li><a href=\"http://www.open.ac.uk/about/main/management/policies-and-statements/website-accessibility-open-university\" data-translate=\"true\" class=\"ou-display-public-tutor\">Accessibility</a><a href=\"http://www2.open.ac.uk/students/help/accessibility-using-a-computer-for-ou-study\" data-translate=\"true\" class=\"ou-ia-student\">Accessibility</a></li><li class=\"ou-search ou-ia-public\"><label for=\"ou-header-search-public\" class=\"ou-hide\" data-translate=\"true\">Search the OU</label><input type=\"search\" id=\"ou-header-search-public\" class=\"ou-header-search\" name=\"q\" data-translate=\"true\" placeholder=\"Search the OU\" onkeyup=\"javascript: onSearchBoxInput(event);\" /><div class=\"ou-button-container\"><button type=\"button\" value=\"Search\" form=\"ou-search\" onclick=\"submitSearch(\\'ou-header-search-public\\');\"><img src=\"/ouheaders/gui/sprite.png?1.0.1.11\" srcset=\"/ouheaders/gui/sprite.png?1.0.1.11 1x, /ouheaders/gui/sprite-x3.png 2x\" alt=\"Search\" title=\"Search\" /></button></div></li></ul></div><!-- end ou-service-links --><div class=\"ou-ia-nav\" id=\"ou-ia-nav\" role=\"navigation\">       <ul class=\"ou-ia-public\">         <li class=\"ou-ia-courses\">           <a href=\"http://www.open.ac.uk/courses/\">Courses</a>         </li>         <li class=\"ou-ia-postgraduate\">           <a href=\"http://www.open.ac.uk/postgraduate/\">Postgraduate</a>         </li>         <li class=\"ou-ia-research\">           <a href=\"http://www.open.ac.uk/research/\">Research</a>         </li>         <li class=\"ou-ia-about\">           <a href=\"http://www.open.ac.uk/about/\">About</a>         </li>         <li class=\"ou-ia-news\">           <a href=\"http://www3.open.ac.uk/media/\">News &amp; media</a>         </li>         <li class=\"ou-ia-business\">           <a href=\"http://www.open.ac.uk/business/\">Business</a>         </li>       </ul>     </div><!-- end ou-ia-nav --> </div><!--end ou-header-navigation--> </div><!-- End ou-header v1.0.1.11 -->\\r\\n<!--After header -->\\r\\n\\r\\n<main id=\"int-content\">\\r\\n\\r\\n<script type=\"text/javascript\">//<![CDATA[\\r\\n\\r\\nfunction findacrsesubmit()\\r\\n{\\r\\n\\tvar v = document.getElementById(\"findacrse\");\\r\\n\\tif (!v)return false;\\r\\n\\tv=$.trim(v.value);\\r\\n\\tif (v==\"\")return false;\\r\\n\\tv = v.replace(/ /g,\\'-\\').replace(/--/g,\\'-\\').replace(/--/g,\\'-\\');\\r\\n\\tdocument.location.href=\"http://www.open.ac.uk/courses/find/\" + v;\\r\\n\\treturn false;\\r\\n}\\r\\n\\r\\nfunction validate_signin()\\r\\n{\\r\\n\\tvar v = document.getElementById(\"ou-home-username\");\\r\\n\\tif (!v)return false;\\r\\n\\tv=$.trim(v.value);\\r\\n\\tif (v==\"\")return false;\\r\\n\\tv = document.getElementById(\"ou-home-password\");\\r\\n\\tif (!v)return false;\\r\\n\\tv=$.trim(v.value);\\r\\n\\tif (v==\"\")return false;\\r\\n\\treturn true;\\r\\n}\\r\\n\\r\\nfunction check_countrycode() \\r\\n{\\r\\n\\tvar s = 0;\\r\\n\\tvar url = window.location.href;\\r\\n\\tif (url) s = url.indexOf(\"?c=\");\\r\\n\\tif (s <= 0) return;\\r\\n\\tvar t = url.substr(s+3);\\r\\n\\ts = t.indexOf(\"&\");\\r\\n\\tif (s > 0) t = t.substr(0, s);\\r\\n\\tif (t.length != 5 || t.charAt(2) != \\'|\\') return;\\r\\n\\tvar now = new Date();\\r\\n\\tnow.setFullYear(now.getFullYear() + 1);\\r\\n\\tdocument.cookie = \"OU_CountryCode=\" + t + \";expires=\" + now.toUTCString() + \";domain=.open.ac.uk;path=/\";\\r\\n}\\r\\n\\r\\ncheck_countrycode();\\r\\n\\r\\n//]]></script>\\r\\n\\r\\n<div class=\"int-container\">\\r\\n<div class=\"homepage int-banner dark-blue\">\\r\\n                <div class=\"int-row\">\\r\\n                                <div class=\"int-grid6\">\\r\\n                                                <h1>We\\'re committed to supporting you.</h1>\\r\\n                                                <p>Our students rate us consistently highly in student satisfaction surveys. In fact, our student satisfaction levels are as high as Durham University\\'s.</p>\\r\\n\\t\\t\\t\\t\\t\\t\\t\\t\\t\\t\\t\\t<p>And in the Times Higher Education awards 2016, we\\'re shortlisted in the category of \\'outstanding support for students\\'.</p>\\r\\n                                                <form action=\"http://www.open.ac.uk/courses/atoz\" method=\"get\"><p><input type=\"submit\" value=\"Browse A-Z of courses\"></p></form>\\r\\n                                </div>\\r\\n                                <span class=\"int-grid6 image\"></span>\\r\\n                </div>\\r\\n</div>\\r\\n</div>\\r\\n\\r\\n<br>\\r\\n\\r\\n<div class=\"int-container\">\\r\\n\\t<div class=\"int-container\">\\r\\n\\t\\t<div id=\"ou-home-video\">\\r\\n\\t\\t\\t<div class=\"int-row\">\\r\\n\\t\\t\\t    <div class=\"int-grid7\">\\r\\n\\t\\t\\t\\t\\t<h2>New: Postgraduate loans</h2>\\r\\n\\t\\t\\t\\t\\t<p>Are you living in England and considering postgraduate study with us? Have you heard about the new Postgraduate Loan scheme? It applies from 1st August 2016, and offers up to &#163;10,000 to cover study fees and living expenses.</p>\\r\\n\\t\\t\\t\\t\\t<form action=\"http://www.open.ac.uk/postgraduate/fees-and-funding\" method=\"get\"><p><input type=\"submit\" value=\"Learn more about postgraduate loans\" /></p></form>\\r\\n\\t\\t\\t    </div>\\r\\n\\t\\t\\t    <div class=\"int-grid5\">\\r\\n\\t\\t\\t\\t\\t<div class=\\'video-container video-container-mast\\'>\\r\\n\\t\\t\\t\\t\\t\\t<iframe src=\\'http://player.open.ac.uk/embed/b7fbf83108\\' height=\\'100%\\' width=\\'100%\\' frameborder=\\'0\\' allowfullscreen=\\'\\' webkitallowfullscreen=\\'\\' mozallowfullscreen=\\'\\'></iframe>\\r\\n\\t\\t\\t\\t\\t</div>\\r\\n\\t\\t\\t    </div>\\r\\n\\t\\t\\t</div>\\r\\n\\t\\t</div>\\r\\n\\t</div>\\r\\n</div>\\r\\n\\r\\n<br />\\r\\n\\r\\n<div class=\"int-container\">\\r\\n\\t<div class=\"int-row\">\\r\\n\\t\\t<article class=\"int-grid4\">\\r\\n\\t\\t\\t<div><img alt=\"Full Width\" class=\"fullwidth\" src=\"ouhome-assets/home-about.jpg\" /></div>\\r\\n\\t\\t\\t<h2>About the OU</h2>\\r\\n\\t\\t\\t<p>The Open University\\'s mission is to be open to people, places, methods and ideas. Read <a href=\"http://www.open.ac.uk/about/\">About the OU</a>, and visit the OU in <a href=\"http://www.open.ac.uk/northern-ireland/\">Northern Ireland</a>, <a href=\"http://www.open.ac.uk/republic-of-ireland/\">Republic of Ireland</a>, <a href=\"http://www.open.ac.uk/scotland/\">Scotland</a> and <a href=\"http://www.open.ac.uk/wales/\">Wales</a>.</p>\\r\\n\\t\\t</article>\\r\\n\\t\\t<article class=\"int-grid4\">\\r\\n\\t\\t\\t<div><img alt=\"Full Width\" class=\"fullwidth\" src=\"ouhome-assets/home-research.jpg\" /></div>\\r\\n\\t\\t\\t<h2>Research at the OU</h2>\\r\\n\\t\\t\\t<p>The OU does world-leading innovative research and development which influences policy and enriches lives.<br />\\r\\n           <a class=\"int-inline-icon-link\" href=\"http://www.open.ac.uk/research/\"><span>Find out how research changes the world</span>&nbsp;</a></p>\\r\\n\\t\\t</article>\\r\\n\\t\\t<article class=\"int-grid4\">\\r\\n\\t\\t\\t<div><img alt=\"Full Width\" class=\"fullwidth\" src=\"ouhome-assets/home-students.jpg\" /></div>\\r\\n\\t\\t\\t<h2>Free learning</h2>\\r\\n\\t\\t\\t<p>Hundreds of free extracts from OU courses. Try interactives, watch videos and see a full guide to OU programmes on TV and radio.<br />\\r\\n           <a class=\"int-inline-icon-link\" href=\"http://www.open.edu/openlearn/free-courses\"><span>Start your learning journey with our free courses on OpenLearn</span>&nbsp;</a></p>\\r\\n\\t\\t</article>\\r\\n\\t</div>\\r\\n</div>\\r\\n\\r\\n<br />\\r\\n\\r\\n<form method=\"get\" action=\"http://www.open.ac.uk/courses/find/\" onsubmit=\"return findacrsesubmit()\">\\r\\n\\r\\n<div class=\"interaction\">\\r\\n\\t<div class=\"int-container\">\\r\\n\\t\\t<div class=\"int-search-box\">\\r\\n            <h2>Find a course</h2>\\r\\n\\t<fieldset>\\r\\n    <div class=\"int-row\">\\r\\n        <div>\\r\\n            <input type=\"text\" id=\"findacrse\" placeholder=\"\" />\\r\\n        </div>\\r\\n        <button class=\"int-button\">\\r\\n            Browse subject\\r\\n        </button>\\r\\n    </div>\\r\\n\\t</fieldset>\\r\\n\\r\\n\\t<p>If you can\\'t find what you\\'re looking for, try our wider <a href=\"http://search.open.ac.uk/public/\">OU search</a>. Or see <a href=\"http://www.open.ac.uk/postgraduate\">postgraduate</a>.</p>\\r\\n\\t\\t</div>\\r\\n\\t</div>\\r\\n\\t<hr>\\r\\n</div>\\r\\n</form>\\r\\n\\r\\n<div class=\"int-promo\">\\r\\n\\t<div class=\"int-container\">\\r\\n\\t\\t<div class=\"int-row\">\\r\\n\\t\\t\\t<div class=\"int-grid6\">\\r\\n\\t\\t\\t\\t<div class=\"int-notice int-notice-icon int-notice-icon-people\">\\r\\n\\t\\t\\t\\t\\t<h2>Are you an employer?</h2>\\r\\n\\t\\t\\t\\t\\t<p class=\"int-intro-text\">\\r\\n\\t\\t\\t\\t\\t\\tGet professional skills for your staff<br>\\r\\n\\t\\t\\t\\t\\t\\twith our unique learning method.\\r\\n\\t\\t\\t\\t\\t</p>\\r\\n\\t\\t\\t\\t\\t<p>\\r\\n\\t\\t\\t\\t\\t\\t<a href=\"http://www.open.ac.uk/employers/\" class=\"int-inline-icon-link\">\\r\\n\\t\\t\\t\\t\\t\\t\\t<span>Learn more about employers at the OU</span> \\r\\n\\t\\t\\t\\t\\t\\t\\t<i class=\"int-icon int-icon-chevron-right\"></i> \\r\\n\\t\\t\\t\\t\\t\\t</a>\\r\\n\\t\\t\\t\\t\\t</p>\\r\\n\\t\\t\\t\\t</div>\\r\\n\\t\\t\\t</div>\\r\\n\\t\\t\\t<div class=\"int-grid6\">\\r\\n\\t\\t\\t\\t<div class=\"int-notice int-notice-icon int-notice-icon-award\">\\r\\n\\t\\t\\t\\t\\t<h2>Already have a degree?</h2>\\r\\n\\t\\t\\t\\t\\t<p class=\"int-intro-text\">\\r\\n\\t\\t\\t\\t\\t\\tJoin the OU postgraduate programme<br>\\r\\n\\t\\t\\t\\t\\t\\tto extend your qualifications.\\r\\n\\t\\t\\t\\t\\t</p>\\r\\n\\t\\t\\t\\t\\t<p>\\r\\n\\t\\t\\t\\t\\t\\t<a href=\"/postgraduate\" class=\"int-inline-icon-link\">\\r\\n\\t\\t\\t\\t\\t\\t\\t<span>Learn more about postgraduate degrees</span> \\r\\n\\t\\t\\t\\t\\t\\t\\t<i class=\"int-icon int-icon-chevron-right\"></i> \\r\\n\\t\\t\\t\\t\\t\\t</a>\\r\\n\\t\\t\\t\\t\\t</p>\\r\\n\\t\\t\\t\\t</div>\\t\\t\\r\\n\\t\\t\\t</div>\\r\\n\\t\\t</div>\\r\\n\\t</div>\\r\\n</div>\\r\\n\\r\\n<br />\\r\\n\\r\\n<div class=\"int-container\">\\r\\n\\t<h2>Study OU courses</h2>\\r\\n\\t<div class=\\'int-row\\'>\\r\\n\\t\\t<article class=\"int-grid4\" >\\r\\n\\t\\t\\t<div class=\\'video-wrapper\\'>\\r\\n\\t\\t\\t\\t<div class=\\'video-container\\'>\\r\\n\\t\\t\\t\\t<iframe src=\\'http://player.open.ac.uk/embed/4efbc0eb64\\' height=\\'100%\\' width=\\'100%\\' frameborder=\\'0\\' allowfullscreen=\\'\\' webkitallowfullscreen=\\'\\' mozallowfullscreen=\\'\\'></iframe></div>\\r\\n\\t\\t\\t</div>\\r\\n\\t\\t\\t<h3>Careers</h3>\\r\\n\\t\\t\\t<p>An OU qualification says \\'employ me\\'. Whether you want to start a new career or go further in your current job, we can help.<br />\\r\\n\\t\\t\\t<a class=\"int-inline-icon-link\" href=\"http://www.open.ac.uk/courses/careers\"><span>Find out more about OU study for your career</span>&nbsp;</a></p>\\r\\n\\t\\t</article>\\r\\n\\t\\t\\r\\n\\t\\t<article class=\"int-grid4\" >\\r\\n\\t\\t\\t<div class=\\'video-wrapper\\'>\\r\\n\\t\\t\\t\\t<div class=\\'video-container\\'>\\r\\n\\t\\t\\t\\t<iframe src=\\'http://player.open.ac.uk/embed/b839c6a698\\' height=\\'100%\\' width=\\'100%\\' frameborder=\\'0\\' allowfullscreen=\\'\\' webkitallowfullscreen=\\'\\' mozallowfullscreen=\\'\\'></iframe></div>\\r\\n\\t\\t\\t</div>\\r\\n\\t\\t\\t<h3>What it\\'s like to study</h3>\\r\\n\\t\\t\\t<p>The OU does world-leading innovative research and development which influences policy and enriches lives.<br />\\r\\n\\t\\t\\t<a class=\"int-inline-icon-link\" href=\"http://www.open.ac.uk/courses/what-study-like\"><span>More about what it\\'s like to study at the OU</span>&nbsp;</a></p>\\r\\n\\t\\t</article>\\r\\n\\t\\t\\r\\n\\t\\t<article class=\"int-grid4\" >\\r\\n\\t\\t\\t<div class=\\'video-wrapper\\'>\\r\\n\\t\\t\\t\\t<div class=\\'video-container\\'>\\r\\n\\t\\t\\t\\t<iframe src=\\'http://player.open.ac.uk/embed/a8bb478d38\\' height=\\'100%\\' width=\\'100%\\' frameborder=\\'0\\' allowfullscreen=\\'\\' webkitallowfullscreen=\\'\\' mozallowfullscreen=\\'\\'></iframe></div>\\r\\n\\t\\t\\t</div>\\r\\n\\t\\t\\t<h3>Can I do it?</h3>\\r\\n\\t\\t\\t<p>Whether you need help with finding the time, an Access module to ease you into university study or support with a disability, we can help.<br />\\r\\n\\t\\t\\t<a class=\"int-inline-icon-link\" href=\"http://www.open.ac.uk/courses/do-it\"><span>Find out how the OU can help you reach your goals</span>&nbsp;</a></p>\\r\\n\\t\\t</article>\\t\\r\\n\\t</div>\\r\\n</div>\\r\\n\\r\\n\\r\\n<br />\\r\\n\\r\\n<div class=\"int-container\" id=\"ou-home-news\">\\r\\n\\t<h2>News at the OU</h2>\\r\\n\\t<div class=\"int-row\">\\r\\n\\t\\t<article class=\"int-grid4\">\\r\\n\\t\\t\\t<p><a class=\"ou-home-news\" id=\"ouhome-news-link1\"><strong id=\"ouhome-news-hl1\"></strong><br />\\r\\n\\t\\t\\t<span id=\"ouhome-news-body1\"></span></a></p>\\r\\n\\t\\t</article>\\r\\n\\t\\t<article class=\"int-grid4\">\\r\\n\\t\\t\\t<p><a class=\"ou-home-news\" id=\"ouhome-news-link2\"><strong id=\"ouhome-news-hl2\"></strong><br />\\r\\n\\t\\t\\t<span id=\"ouhome-news-body2\"></span></a></p>\\r\\n\\t\\t</article>\\r\\n\\t\\t<article class=\"int-grid4\">\\r\\n\\t\\t\\t<p><a class=\"ou-home-news\" id=\"ouhome-news-link3\"><strong id=\"ouhome-news-hl3\"></strong><br />\\r\\n\\t\\t\\t<span id=\"ouhome-news-body3\"></span></a></p>\\r\\n\\t\\t</article>\\r\\n\\t</div>\\r\\n</div>\\r\\n\\r\\n<br />\\r\\n\\r\\n<form method=\"post\" action=\"https://msds.open.ac.uk/signon/SAMS001A.aspx\" onsubmit=\"return validate_signin()\">\\r\\n    <div class=\"int-courses-hero interaction\">\\r\\n        <div id=\"ou-home-signin\">\\r\\n            <div class=\"int-container\">\\r\\n                <fieldset>\\r\\n                    <legend class=\"int-hide\">Sign in</legend>\\r\\n                    <h2>Sign in</h2>\\r\\n                    <div class=\"int-row\">\\r\\n                        <div class=\"int-grid5\">\\r\\n                            <label for=\"ou-home-username\">Username</label>\\r\\n                            <input name=\"username\" type=\"text\" size=\"8\" maxlength=\"160\" class=\"ou-home-text\" id=\"ou-home-username\" placeholder=\"Username\" aria-describedby=\"usernameHelpText\">\\r\\n                            <p id=\"usernameHelpText\">Your username is either the email address you signed up with or, for students and staff, your OU computer username or PI.</p>\\r\\n                        </div>\\r\\n                        <div class=\"int-grid5\">\\r\\n                            <label for=\"ou-home-password\">Password</label>\\r\\n                            <input name=\"password\" type=\"password\" size=\"8\" maxlength=\"30\" class=\"ou-home-text\" id=\"ou-home-password\" placeholder=\"Password\" aria-describedby=\"passwordHelpText\">\\r\\n                            <p id=\"passwordHelpText\"><a href=\"https://msds.open.ac.uk/signon/SAMSDefault/SAMSReset1_Default.aspx\">Forgotten password</a>, or <a href=\"http://www.open.ac.uk/students/help/\">need help?</a></p>\\r\\n                        </div>\\r\\n                        <div class=\"int-grid2\">\\r\\n                            <label for=\"ou-home-sign-in\" class=\"cl-mobile-hidden\">&nbsp;</label>\\r\\n                            <input type=\"submit\" value=\"Sign in\" id=\"ou-home-sign-in\" class=\"cl-floatRight-sm\">\\r\\n                        </div>\\r\\n                    </div>\\r\\n                </fieldset>\\r\\n            </div>\\r\\n        </div>\\r\\n    </div>\\r\\n    <input type=\"hidden\" name=\"FromURL\" value=\"https://msds.open.ac.uk/students/\">\\r\\n</form>\\r\\n\\r\\n      <!-- Back to top -->\\r\\n      <div id=\"int-btn-top\" class=\"btn-top\">\\r\\n\\t\\t\\t\\t<a href=\"#int-site\"><i class=\"int-icon int-icon-chevron-up\"></i><span> Back to top</span></a>\\r\\n\\t</div>\\r\\n</main>\\r\\n<!--Before footer -->\\r\\n<!-- ou-footer v1.0.1.11 --> <div id=\"ou-org-footer\" class=\"ou-footer\" role=\"contentinfo\"><div class=\"ou-container\"><div class=\"ou-header\"><div class=\"ou-crest\"><img src=\"/ouheaders/gui/sprite.png\" srcset=\"/ouheaders/gui/sprite.png 1x, /ouheaders/gui/sprite-x3.png 2x\" alt=\"\" /></div><div class=\"ou-footer-title\"><h3 data-translate=\"true\">The Open University</h3></div></div><div class=\"ou-footer-nav\"> \\t\\t\\t<div id=\"ou-ia-public\"> \\t\\t\\t\\t<ul> \\t\\t\\t\\t\\t<li> \\t\\t\\t\\t\\t\\t<a href=\"http://www.open.ac.uk/contact\" class=\"ou-ia-public\" data-translate=\"true\">Contact the OU</a> \\t\\t\\t\\t\\t\\t<a href=\"http://www2.open.ac.uk/tutors/help/who-to-contact\" class=\"ou-ia-tutor\" data-translate=\"true\">Contact the OU</a> \\t\\t\\t\\t\\t</li> \\t\\t\\t\\t\\t<li> \\t\\t\\t\\t\\t\\t<a href=\"http://www3.open.ac.uk/employment/\" data-translate=\"true\">Jobs</a> \\t\\t\\t\\t\\t</li> \\t\\t\\t\\t\\t<li> \\t\\t\\t\\t\\t\\t<a href=\"http://www.open.ac.uk/about/main/management/policies-and-statements/website-accessibility-open-university\" data-translate=\"true\">Accessibility</a> \\t\\t\\t\\t\\t</li> \\t\\t\\t\\t\\t<li> \\t\\t\\t\\t\\t\\t<a href=\"http://www.open.ac.uk/wales/cy\">Cymraeg</a> \\t\\t\\t\\t\\t</li> \\t\\t\\t\\t\\t<li> \\t\\t\\t\\t\\t\\t<a href=\"http://www.open.ac.uk/about/main/admin-and-governance/policies-and-statements/conditions-use-open-university-websites\" data-translate=\"true\">Conditions of use</a> \\t\\t\\t\\t\\t</li> \\t\\t\\t\\t\\t<li> \\t\\t\\t\\t\\t\\t<a href=\"http://www.open.ac.uk/about/main/admin-and-governance/policies-and-statements/website-privacy-the-ou\" data-translate=\"true\">Privacy and cookies</a> \\t\\t\\t\\t\\t</li> \\t\\t\\t\\t\\t<li> \\t\\t\\t\\t\\t\\t<a href=\"http://www.open.ac.uk/about/main/admin-and-governance/policies-and-statements/copyright-ou-websites\" data-translate=\"true\">Copyright</a> \\t\\t\\t\\t\\t</li> \\t\\t\\t\\t</ul> \\t\\t\\t</div>       <div id=\"ou-ia-student\" role=\"tablist\">         <div class=\"ou-row\">           <div class=\"ou-grid3\">             <ul>               <li>                 <h4 class=\"ou-collapsible-footer\" id=\"ou-footer-ou-community-toggle\" aria-controls=\"ou-footer-ou-community\" role=\"tab\" tabindex=\"-1\">                   <span>OU Community</span>                   <span class=\"ou-mobile-menu-toggle icon-up\">                     <img src=\"/ouheaders/gui/sprite.png\" srcset=\"/ouheaders/gui/sprite.png 1x, /ouheaders/gui/sprite-x3.png 2x\" alt=\"Menu toggle\" title=\"Menu toggle\" />                   </span>                 </h4>                 <div class=\"ou-mobile-menu-toggle\" id=\"ou-footer-ou-community\" aria-labelledby=\"ou-footer-ou-community-toggle\" role=\"tabpanel\">                   <ul class=\"ou-inline\">                     <li class=\"facebook\">                       <a href=\"https://www.facebook.com/theopenuniversity\" title=\"Facebook\">                         <span>                           <img src=\"/ouheaders/gui/sprite.png\" srcset=\"/ouheaders/gui/sprite.png 1x, /ouheaders/gui/sprite-x3.png 2x\" alt=\"Facebook\" title=\"Facebook\" />                         </span>                       </a>                     </li>                     <li class=\"twitter\">                       <a href=\"https://twitter.com/OpenUniversity\" title=\"Twitter\">                         <span>                           <img src=\"/ouheaders/gui/sprite.png\" srcset=\"/ouheaders/gui/sprite.png 1x, /ouheaders/gui/sprite-x3.png 2x\" alt=\"Twitter\" title=\"Twitter\" />                         </span>                       </a>                     </li>                     <li class=\"youtube\">                       <a href=\"https://www.youtube.com/ou\" title=\"Youtube\">                         <span>                           <img src=\"/ouheaders/gui/sprite.png\" srcset=\"/ouheaders/gui/sprite.png 1x, /ouheaders/gui/sprite-x3.png 2x\" alt=\"YouTube\" title=\"YouTube\" />                         </span>                       </a>                     </li>                     <li class=\"linkedin\">                       <a href=\"https://www.linkedin.com/edu/school?id=12659&amp;trk=edu-cp-title\" title=\"LinkedIn\">                         <span>                           <img src=\"/ouheaders/gui/sprite.png\" srcset=\"/ouheaders/gui/sprite.png 1x, /ouheaders/gui/sprite-x3.png 2x\" alt=\"LinkedIn\" title=\"LinkedIn\" />                         </span>                       </a>                     </li>                     <li class=\"googleplus\">                       <a href=\"https://plus.google.com/+TheOpenUniversity\" title=\"Google+\">                         <span>                           <img src=\"/ouheaders/gui/sprite.png\" srcset=\"/ouheaders/gui/sprite.png 1x, /ouheaders/gui/sprite-x3.png 2x\" alt=\"Google+\" title=\"Google+\" />                         </span>                       </a>                     </li>                   </ul>                   <ul>                     <li>                       <a href=\"http://www.open.edu/openlearn/\">                         OpenLearn: free                         learning                       </a>                     </li>                     <li>                       <a href=\"http://www.open.edu/openlearn/whats-on/ou-on-the-bbc-week\">OU on TV and radio</a>                     </li>                   </ul>                 </div>                 <hr />                 <h4 class=\"ou-collapsible-footer\" id=\"ou-footer-ou-students-community-toggle\" aria-controls=\"ou-footer-ou-students-community\" role=\"tab\" tabindex=\"-1\">                   <span>OU Students Community</span>                   <span class=\"ou-mobile-menu-toggle icon-up\">                     <img src=\"/ouheaders/gui/sprite.png\" srcset=\"/ouheaders/gui/sprite.png 1x, /ouheaders/gui/sprite-x3.png 2x\" alt=\"Menu toggle\" title=\"Menu toggle\" />                   </span>                 </h4>                 <ul class=\"ou-mobile-menu-toggle\" id=\"ou-footer-ou-students-community\" aria-labelledby=\"ou-footer-ou-students-community-toggle\">                   <li>                     <a href=\"http://www.open.ac.uk/ousa/\">                       OU Students                       Association                     </a>                   </li>                   <li>                     <a href=\"http://www.open.ac.uk/ousa/shop-ousa\">                       OU Students                       Shop (including exam papers)                     </a>                   </li>                   <li>                     <a href=\"http://learn1.open.ac.uk/course/view.php?id=100061\">OU Students Forums</a>                   </li>                   <li>                     <a href=\"https://www.facebook.com/OUstudents\">                       OU Students on                       Facebook                     </a>                   </li>                   <li>                     <a href=\"https://twitter.com/OUstudents\">                       OU Students on                       Twitter                     </a>                   </li>                   <li>                     <a href=\"http://www.open.ac.uk/ousa/freshers\">                       OU Students                       Freshers                     </a>                   </li>                 </ul>               </li>             </ul>           </div>           <div class=\"ou-grid3\">             <h4 class=\"ou-collapsible-footer\" id=\"ou-footer-support-toggle\" aria-controls=\"ou-footer-support\" role=\"tab\" tabindex=\"-1\">               <span>Support</span>               <span class=\"ou-mobile-menu-toggle icon-up\">                 <img src=\"/ouheaders/gui/sprite.png\" srcset=\"/ouheaders/gui/sprite.png 1x, /ouheaders/gui/sprite-x3.png 2x\" alt=\"Menu toggle\" title=\"Menu toggle\" />               </span>             </h4>             <div class=\"ou-mobile-menu-toggle\" id=\"ou-footer-support\" aria-labelledby=\"ou-footer-support-toggle\">               <p>                 Find your personal contacts including your tutor and student support                 team:               </p>               <a href=\"http://www2.open.ac.uk/students/help/your-contacts\">                 Your                 contacts               </a>               <hr />               <p>                 For help and support relating to the University\\'s computing                 resources:               </p>               <a href=\"http://learn1.open.ac.uk/course/view.php?id=100001\">                 Computing                 Guide               </a>               <a href=\"http://learn1.open.ac.uk/admin/tool/redirector/redirect.php/chd\">Computing Helpdesk</a>               <hr />               <p>                 For information, advice and guidance on using the library,                 referencing styles or finding journals, ebooks and articles for your                 assignments:               </p>               <a href=\"http://www.open.ac.uk/library/help-and-support\">                 Library help                 and support               </a>             </div>           </div>           <div class=\"ou-grid3\">             <ul>               <li>                 <h4 class=\"ou-collapsible-footer\" id=\"ou-footer-study-toggle\" aria-controls=\"ou-footer-study\" role=\"tab\" tabindex=\"-1\">                   <span>Study</span>                   <span class=\"ou-mobile-menu-toggle icon-up\">                     <img src=\"/ouheaders/gui/sprite.png\" srcset=\"/ouheaders/gui/sprite.png 1x, /ouheaders/gui/sprite-x3.png 2x\" alt=\"Menu toggle\" title=\"Menu toggle\" />                   </span>                 </h4>                 <ul class=\"ou-mobile-menu-toggle\" id=\"ou-footer-study\" aria-labelledby=\"ou-footer-study-toggle\">                   <li>                     <a href=\"http://www2.open.ac.uk/students/careers/\">Careers</a>                   </li>                   <li>                     <a href=\"http://www2.open.ac.uk/students/help\">                       Help                       Centre                     </a>                   </li>                   <li>                     <a href=\"http://www.open.ac.uk/library/\">Library</a>                   </li>                   <li>                     <a href=\"https://msds.open.ac.uk/students/study-record.aspx\">Study planning and funding</a>                   </li>                 </ul>               </li>             </ul>           </div>           <div class=\"ou-grid3\">             <ul>               <li>                 <h4 class=\"ou-collapsible-footer\" id=\"ou-footer-policy-toggle\" aria-controls=\"ou-footer-policy\" role=\"tab\" tabindex=\"-1\">                   <span>Policy</span>                   <span class=\"ou-mobile-menu-toggle icon-up\">                     <img src=\"/ouheaders/gui/sprite.png\" srcset=\"/ouheaders/gui/sprite.png 1x, /ouheaders/gui/sprite-x3.png 2x\" alt=\"Menu toggle\" title=\"Menu toggle\" />                   </span>                 </h4>                 <ul class=\"ou-mobile-menu-toggle\" id=\"ou-footer-policy\" aria-labelledby=\"ou-footer-policy-toggle\">                   <li>                     <a href=\"http://www2.open.ac.uk/students/help/accessibility-using-a-computer-for-ou-study\">Accessibility</a>                   </li>                   <li>                     <a href=\"http://www.open.ac.uk/about/main/management/policies-and-statements/conditions-use-open-university-websites\">Conditions of use</a>                   </li>                   <li>                     <a href=\"http://www.open.ac.uk/about/main/management/policies-and-statements/copyright-ou-websites\">Copyright</a>                   </li>                   <li>                     <a href=\"http://www.open.ac.uk/wales/cy\">Cymraeg</a>                   </li>                   <li>                     <a href=\"http://www.open.ac.uk/about/main/management/policies-and-statements/website-privacy-ou\">Privacy and cookies</a>                   </li>                   <li>                     <a href=\"http://www.open.ac.uk/students/charter/\">                       Student                       Charter and policies                     </a>                   </li>                 </ul>               </li>             </ul>           </div>         </div>       </div> \\t\\t <div class=\"ou-small-print\"><p class=\"ou-copyright\"><small> &#xA9;<span id=\"ou-copyright-year\">9999</span>. <span data-translate=\"true\" id=\"ou-footer-statement\" /></small></p> </div> </div> </div> </div> <!-- End ou-footer v1.0.1.11 -->\\r\\n<!-- After footer -->\\r\\n\\r\\n    </div>\\r\\n\\r\\n    <input type=\"hidden\" id=\"loaded-components\" value=\"\">\\r\\n\\r\\n\\r\\n    <script src=\"/oudigital/v3/eep/js/vendor/jquery-1.10.2.min.js\"></script>\\r\\n\\t<script src=\"/oudigital/v3/eep/js/vendor/min/jquery-ui-1.10.4.custom.min.js\"></script>\\r\\n    <script src=\"/oudigital/v3/eep/js/ou.eep.js\"></script>\\r\\n\\r\\n    <script src=\"/oudigital/v3/core/js/vendor/jquery.actual.js\"></script>\\r\\n    <script src=\"/oudigital/v3/eep/js/vendor/jquery.placeholder.js\"></script>\\r\\n    <script src=\"/oudigital/v3/eep/js/vendor/jquery.smartresize.js\"></script>\\r\\n    <script src=\"/oudigital/v3/eep/js/vendor/cookies.js\"></script>\\r\\n\\r\\n    <!--[if lt IE 9]>\\r\\n    <script src=\"/oudigital/v3/eep/js/vendor/respond.js\"></script>\\r\\n    <![endif]-->\\r\\n\\r\\n\\r\\n\\r\\n\\t<script src=\"/oudigital/v3/eep/js/main.js\"></script>\\r\\n\\t<script src=\"headlines/ouhome2014.js\"></script>\\r\\n\\r\\n</body>\\r\\n</html>\\r\\n'"
      ]
     },
     "execution_count": 9,
     "metadata": {},
     "output_type": "execute_result"
    }
   ],
   "source": [
    "webRequest = requests.get('http://www.open.ac.uk')\n",
    "webRequest.content"
   ]
  },
  {
   "cell_type": "markdown",
   "metadata": {},
   "source": [
    "We'll see how to parse the content returned by `requests.get()` later in the module."
   ]
  },
  {
   "cell_type": "markdown",
   "metadata": {},
   "source": [
    "## What next?"
   ]
  },
  {
   "cell_type": "markdown",
   "metadata": {},
   "source": [
    "In this short collection of Notebooks we've given a quick recap of the key elements of the Python language that we will be assuming you know (that is, won't be explaining in detail) as we work through the module. \n",
    "\n",
    "If Python is completely new to you, you will find it useful to work through the ['standard' Python tutorial](https://docs.python.org/3/tutorial/index.html).\n",
    "\n",
    "However, if you have some previous programming experience then inspection of the code, and a little bit of experimentation, can also get you a long way."
   ]
  },
  {
   "cell_type": "markdown",
   "metadata": {},
   "source": [
    "That's it for the Notebook activities in this Python bootcamp.\n",
    "\n",
    "See you next week..."
   ]
  }
 ],
 "metadata": {
  "kernelspec": {
   "display_name": "Python 3",
   "language": "python",
   "name": "python3"
  },
  "language_info": {
   "codemirror_mode": {
    "name": "ipython",
    "version": 3
   },
   "file_extension": ".py",
   "mimetype": "text/x-python",
   "name": "python",
   "nbconvert_exporter": "python",
   "pygments_lexer": "ipython3",
   "version": "3.4.3"
  }
 },
 "nbformat": 4,
 "nbformat_minor": 0
}
