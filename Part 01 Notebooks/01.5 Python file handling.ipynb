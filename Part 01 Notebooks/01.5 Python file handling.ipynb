{
 "cells": [
  {
   "cell_type": "markdown",
   "metadata": {
    "code_folding": [
     0
    ]
   },
   "source": [
    "# File handling: reading file content in,  writing file content out"
   ]
  },
  {
   "cell_type": "markdown",
   "metadata": {},
   "source": [
    "You can load local files into an IPython session by opening a file object and then using the `read()` function."
   ]
  },
  {
   "cell_type": "code",
   "execution_count": null,
   "metadata": {
    "collapsed": false,
    "run_control": {
     "read_only": false
    }
   },
   "outputs": [],
   "source": [
    "# Look to see what files are in the 'data' folder using the command line ls command.\n",
    "!ls data"
   ]
  },
  {
   "cell_type": "code",
   "execution_count": null,
   "metadata": {
    "collapsed": false,
    "run_control": {
     "read_only": false
    }
   },
   "outputs": [],
   "source": [
    "# Let's see what the operating system thinks is in the 'simpleTest.txt' file.\n",
    "!cat data/simpleTest.txt"
   ]
  },
  {
   "cell_type": "code",
   "execution_count": null,
   "metadata": {
    "collapsed": false,
    "run_control": {
     "read_only": false
    }
   },
   "outputs": [],
   "source": [
    "f = open('data/simpleTest.txt')\n",
    "# read() will read the full file into a single string.\n",
    "txt = f.read()\n",
    "txt"
   ]
  },
  {
   "cell_type": "markdown",
   "metadata": {},
   "source": [
    "You can create and write to files by opening a file object with write status `w` and then using the `write()` function and close them with the `close()` method."
   ]
  },
  {
   "cell_type": "code",
   "execution_count": null,
   "metadata": {
    "collapsed": false,
    "run_control": {
     "read_only": false
    }
   },
   "outputs": [],
   "source": [
    "txt = txt + \"\\n\\nHere's another line...\"\n",
    "fout = open('data/simpleTest_copy.txt','w')\n",
    "fout.write(txt)\n",
    "fout.close()\n",
    "\n",
    "f2 = open('data/simpleTest_copy.txt')\n",
    "copytext = f2.read()\n",
    "f2.close()\n",
    "copytext\n"
   ]
  },
  {
   "cell_type": "code",
   "execution_count": null,
   "metadata": {
    "collapsed": false,
    "run_control": {
     "read_only": false
    }
   },
   "outputs": [],
   "source": [
    "!ls data"
   ]
  },
  {
   "cell_type": "markdown",
   "metadata": {},
   "source": [
    "You can also use the `with` method to open a file and assign it to a variable. On exiting the `with` block, the file will automatically be closed. This example also demonstrates reading one line at a time from the file. "
   ]
  },
  {
   "cell_type": "code",
   "execution_count": null,
   "metadata": {
    "collapsed": false,
    "run_control": {
     "read_only": false
    }
   },
   "outputs": [],
   "source": [
    "with open('data/simpleTest.txt') as f:\n",
    "    ls = [anewline for anewline in f.readlines()]\n",
    "ls"
   ]
  },
  {
   "cell_type": "markdown",
   "metadata": {},
   "source": [
    "You can load files from a URL using various helper libraries. \n",
    "\n",
    "Here is an example of the `requests` library [[documentation](http://docs.python-requests.org/en/latest/)] in use :"
   ]
  },
  {
   "cell_type": "code",
   "execution_count": null,
   "metadata": {
    "collapsed": false,
    "run_control": {
     "read_only": false
    }
   },
   "outputs": [],
   "source": [
    "import requests"
   ]
  },
  {
   "cell_type": "code",
   "execution_count": null,
   "metadata": {
    "collapsed": false,
    "run_control": {
     "read_only": false
    }
   },
   "outputs": [],
   "source": [
    "webRequest = requests.get('http://www.open.ac.uk')\n",
    "webRequest.content"
   ]
  },
  {
   "cell_type": "markdown",
   "metadata": {},
   "source": [
    "We'll see how to parse the content returned by `requests.get()` later in the module."
   ]
  },
  {
   "cell_type": "markdown",
   "metadata": {},
   "source": [
    "## What next?"
   ]
  },
  {
   "cell_type": "markdown",
   "metadata": {},
   "source": [
    "In this short collection of Notebooks we've given a quick recap of the key elements of the Python language that we will be assuming you know (that is, won't be explaining in detail) as we work through the module. \n",
    "\n",
    "If Python is completely new to you, you will find it useful to work through the ['standard' Python tutorial](https://docs.python.org/3/tutorial/index.html).\n",
    "\n",
    "However, if you have some previous programming experience then inspection of the code, and a little bit of experimentation, can also get you a long way."
   ]
  },
  {
   "cell_type": "markdown",
   "metadata": {},
   "source": [
    "That's it for the Notebook activities in this Python bootcamp.\n",
    "\n",
    "See you next week..."
   ]
  }
 ],
 "metadata": {
  "kernelspec": {
   "display_name": "Python 3",
   "language": "python",
   "name": "python3"
  },
  "language_info": {
   "codemirror_mode": {
    "name": "ipython",
    "version": 3
   },
   "file_extension": ".py",
   "mimetype": "text/x-python",
   "name": "python",
   "nbconvert_exporter": "python",
   "pygments_lexer": "ipython3",
   "version": "3.4.3"
  }
 },
 "nbformat": 4,
 "nbformat_minor": 0
}
