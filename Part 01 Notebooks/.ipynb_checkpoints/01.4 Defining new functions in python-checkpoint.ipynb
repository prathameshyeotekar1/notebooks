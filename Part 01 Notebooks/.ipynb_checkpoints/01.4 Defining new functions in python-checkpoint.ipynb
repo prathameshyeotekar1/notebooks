{
 "cells": [
  {
   "cell_type": "markdown",
   "metadata": {},
   "source": [
    "# Control flow statements and defining Python functions"
   ]
  },
  {
   "cell_type": "markdown",
   "metadata": {},
   "source": [
    "## Control flow"
   ]
  },
  {
   "cell_type": "markdown",
   "metadata": {},
   "source": [
    "We have already seen elements of control flow, such as for loops for iterating through list memberships, or conditional statements as used in the if/else ternary statement or as part of a list comprehension. \n",
    "\n",
    "Here's a more complete recap:"
   ]
  },
  {
   "cell_type": "markdown",
   "metadata": {},
   "source": [
    "### Iterating over lists and ranges"
   ]
  },
  {
   "cell_type": "code",
   "execution_count": null,
   "metadata": {
    "collapsed": false,
    "run_control": {
     "read_only": false
    }
   },
   "outputs": [],
   "source": [
    "# Iterate through a list.\n",
    "# The end='' prevents the printing of a new line character; \n",
    "#       further print outputs will appear on the same line.\n",
    "for x in ['this', 'that', 'the other' ]:\n",
    "    print(x, end=''),\n",
    "print ('...but where does this go? ')\n",
    "\n",
    "# Note that print puts a space between each element of a comma-separated list, \n",
    "print('a', 'b', 'c')\n",
    "# but that sep='=' allows you to change that, \n",
    "# setting sep='' runs the text togther, without spaces.\n",
    "print('a', 'b', 'c', sep='=')\n",
    "\n",
    "# Iterate through a range of numbers\n",
    "for x in range(3): print(x),"
   ]
  },
  {
   "cell_type": "code",
   "execution_count": null,
   "metadata": {
    "collapsed": false,
    "run_control": {
     "read_only": false
    }
   },
   "outputs": [],
   "source": [
    "# Ranges can also be more elaborate; as with list indices \n",
    "#   be careful of the upper fencepost value.\n",
    "for x in range(2,4): print(x),\n",
    "print('')\n",
    "\n",
    "# You can add a step value to the iteration loop control.\n",
    "for x in range(10, 15, 2): print(x),"
   ]
  },
  {
   "cell_type": "markdown",
   "metadata": {},
   "source": [
    "### Conditional expressions"
   ]
  },
  {
   "cell_type": "code",
   "execution_count": null,
   "metadata": {
    "collapsed": false,
    "run_control": {
     "read_only": false
    }
   },
   "outputs": [],
   "source": [
    "# First set variables a and b to the same value.\n",
    "a = b = 4\n",
    "\n",
    "# Test a condition and act if true.\n",
    "if a>b:\n",
    "    print('bigger')\n",
    "\n",
    "# Test a condition and act one way or another depending on the result.\n",
    "if a>b:\n",
    "    print('bigger')\n",
    "else:\n",
    "    print('smaller')\n",
    "\n",
    "# If you think you need an else but don't know what to do there yet, use pass.\n",
    "if a>b:\n",
    "    print('bigger')\n",
    "else:\n",
    "    #erm - what do I do here?\n",
    "    pass\n",
    "    \n",
    "# Test over multiple conditions.\n",
    "if a>b:\n",
    "    print('bigger')\n",
    "elif a<b:\n",
    "    print('smaller')\n",
    "else:\n",
    "    print('same')\n",
    "\n",
    "# Nesting tests by using indentation.\n",
    "if a!=b:\n",
    "    if a>b:\n",
    "        print('bigger')\n",
    "    else:\n",
    "        print('smaller')\n",
    "else:\n",
    "    print('same')"
   ]
  },
  {
   "cell_type": "markdown",
   "metadata": {},
   "source": [
    "### Conditional loops"
   ]
  },
  {
   "cell_type": "code",
   "execution_count": null,
   "metadata": {
    "collapsed": false,
    "run_control": {
     "read_only": false
    }
   },
   "outputs": [],
   "source": [
    "# Loop under the control of some condition.\n",
    "a = 1\n",
    "while a<5:\n",
    "    print(a, end=''),\n",
    "    a += 1\n",
    "print('Done')\n",
    "\n",
    "# We can also break out of a loop.\n",
    "while a<10:\n",
    "    print(a, end=''),\n",
    "    a += 1\n",
    "    if a==8:\n",
    "        break\n",
    "print('Done')\n",
    "\n",
    "# Or we can skip an item by breaking out of a loop and continuing with its next iteration.\n",
    "while a<15:\n",
    "    if a==12:\n",
    "        a += 1\n",
    "        continue\n",
    "    print(a, end=''),\n",
    "    a += 1\n",
    "print('Done')"
   ]
  },
  {
   "cell_type": "code",
   "execution_count": null,
   "metadata": {
    "collapsed": false,
    "run_control": {
     "read_only": false
    }
   },
   "outputs": [],
   "source": [
    "# Wrapping statements in a try/except handler will attempt to \n",
    "#   execute the statements in the try block.\n",
    "# If an error is raised, the code execution passes to the except block.\n",
    "try:\n",
    "    1+'one'\n",
    "except:\n",
    "    print('oops')"
   ]
  },
  {
   "cell_type": "code",
   "execution_count": null,
   "metadata": {
    "collapsed": false,
    "run_control": {
     "read_only": false
    }
   },
   "outputs": [],
   "source": [
    "# The execution doesn't undo any completed statements in the try block.\n",
    "# In the following, the error happens after the a=2 assignment in the try block, \n",
    "#   so this assignment is not undone when execution switches to the except block.\n",
    "a = 1\n",
    "try:\n",
    "    a = 2\n",
    "    b = a+'sr'\n",
    "except:\n",
    "    pass\n",
    "a"
   ]
  },
  {
   "cell_type": "markdown",
   "metadata": {},
   "source": [
    "## Python and white space"
   ]
  },
  {
   "cell_type": "markdown",
   "metadata": {},
   "source": [
    "The white space used to create indentations within a block is significant. \n",
    "Notebooks are set so that each indentation level for a block requires 4 spaces at the start of the line for each level.\n",
    "\n",
    "The IPython Notebook code cells are sensitive to code block levels and will try to set indentation appropriately. The first characters of a line turn red if the indentation is identified as incorrect, although it is possible to confuse the Notebook sometimes. Any incorrect indentation will be identified as a syntax error when the code cell is run."
   ]
  },
  {
   "cell_type": "markdown",
   "metadata": {
    "activity": "activity"
   },
   "source": [
    "## Activity\n",
    "Insert a code cell below and try to write a simple *while* loop that will print out the numbers 1 to 5. Notice what action the editor takes to set indentations when you enter the *while* block.  Now try putting extra spaces in the indentation, or removing some white space to see how incorrect indentation is identified."
   ]
  },
  {
   "cell_type": "markdown",
   "metadata": {
    "activity": "activityAns",
    "code_folding": [
     0
    ]
   },
   "source": [
    "#### A solution appears below: \n",
    "but do try to follow the activity before you look at the solution."
   ]
  },
  {
   "cell_type": "code",
   "execution_count": null,
   "metadata": {
    "activity": "activity",
    "code_folding": [
     0
    ],
    "collapsed": false,
    "run_control": {
     "read_only": false
    }
   },
   "outputs": [],
   "source": [
    "#solution <note: click on the small triangle to 'unfold' the code in this cell>\n",
    "a = 1\n",
    "while a <= 5:\n",
    "    print(a)\n",
    "    a += 1\n",
    "print('Done')"
   ]
  },
  {
   "cell_type": "markdown",
   "metadata": {
    "code_folding": [
     0
    ]
   },
   "source": [
    "## Chunking your code: functions"
   ]
  },
  {
   "cell_type": "code",
   "execution_count": null,
   "metadata": {
    "collapsed": false,
    "run_control": {
     "read_only": false
    }
   },
   "outputs": [],
   "source": [
    "# Functions let you structure your code in convenient ways.\n",
    "def compare(a,b):\n",
    "    comp = 'same'\n",
    "    if a>b:\n",
    "        comp = 'bigger'\n",
    "    elif a<b:\n",
    "        comp = 'smaller'\n",
    "    return comp\n",
    "\n",
    "print(compare(7,8))"
   ]
  },
  {
   "cell_type": "code",
   "execution_count": null,
   "metadata": {
    "collapsed": false,
    "run_control": {
     "read_only": false
    }
   },
   "outputs": [],
   "source": [
    "# The function is named and defined in the IPython session \n",
    "#     so it can be called across Notebook cells.\n",
    "print(compare(3,3))\n",
    "print(compare(2,1))"
   ]
  },
  {
   "cell_type": "code",
   "execution_count": null,
   "metadata": {
    "collapsed": false,
    "run_control": {
     "read_only": false
    }
   },
   "outputs": [],
   "source": [
    "# We can call functions from other functions.\n",
    "def compare2(a,b):\n",
    "    return \"{0} is {1} than {2}\".format( a, compare(a,b), b)\n",
    "\n",
    "print(compare2(3,5))"
   ]
  },
  {
   "cell_type": "code",
   "execution_count": null,
   "metadata": {
    "collapsed": false,
    "run_control": {
     "read_only": false
    }
   },
   "outputs": [],
   "source": [
    "# We can return multiple values from a function as a tuple.\n",
    "def compare3(a,b):\n",
    "    return a-b, compare2(a,b)\n",
    "\n",
    "compare3(5,8)"
   ]
  },
  {
   "cell_type": "code",
   "execution_count": null,
   "metadata": {
    "collapsed": false,
    "run_control": {
     "read_only": false
    }
   },
   "outputs": [],
   "source": [
    "# We can pass those returned values into separate variables \n",
    "# as this is a tuple.\n",
    "x, y = compare3(5,8)\n",
    "print(y)"
   ]
  },
  {
   "cell_type": "code",
   "execution_count": null,
   "metadata": {
    "collapsed": false,
    "run_control": {
     "read_only": false
    }
   },
   "outputs": [],
   "source": [
    "# Take care when passing lists into functions - they are still passed by reference!\n",
    "def passByVal_listTest(l):\n",
    "    l.append('adding this inside the function')\n",
    "\n",
    "l1 = ['this', 'that']\n",
    "l2 = l1\n",
    "l3 = list(l1)\n",
    "\n",
    "passByVal_listTest(l1)\n",
    "\n",
    "print(l1)\n",
    "print(l2)\n",
    "print(l3)"
   ]
  },
  {
   "cell_type": "code",
   "execution_count": null,
   "metadata": {
    "collapsed": false,
    "run_control": {
     "read_only": false
    }
   },
   "outputs": [],
   "source": [
    "# The simple types are passed into functions by value.\n",
    "def passByVal_intTest(i):\n",
    "    i = i+1\n",
    "    return i\n",
    "\n",
    "j=5\n",
    "passByVal_intTest(j)\n",
    "print(j)\n",
    "print(passByVal_intTest(j))\n",
    "\n",
    "# Test this with a string.\n",
    "def passByVal_strTest(s):\n",
    "    s = s+'added'\n",
    "    return s\n",
    "\n",
    "q = \"example string\"\n",
    "passByVal_strTest(q)\n",
    "print(q)\n",
    "print(passByVal_strTest(q))\n",
    "print(q) \n"
   ]
  },
  {
   "cell_type": "code",
   "execution_count": null,
   "metadata": {
    "collapsed": false,
    "run_control": {
     "read_only": false
    }
   },
   "outputs": [],
   "source": [
    "# What do you think will happen with a dict?\n",
    "def passByVal_dictTest(d):\n",
    "    d['added'] = 'item'\n",
    "\n",
    "d1 = {'this':'that'}\n",
    "d2 = d1\n",
    "d3 = d1.copy()\n",
    "passByVal_dictTest(d2)\n",
    "\n",
    "print(d1)\n",
    "print(d2)\n",
    "print(d3)"
   ]
  },
  {
   "cell_type": "code",
   "execution_count": null,
   "metadata": {
    "collapsed": false,
    "run_control": {
     "read_only": false
    }
   },
   "outputs": [],
   "source": [
    "# Anonymous functions, also called lambda functions, \n",
    "#   can be thought of as 'headless'. That is, without a naming bit at the front.\n",
    "\n",
    "# We would typically define and call a function as follows.\n",
    "def notHeadless(x):\n",
    "    return x*x*x\n",
    "print(notHeadless(5))\n",
    "\n",
    "# Here's an anonymous equivalent defined 'on the fly'.\n",
    "#  Note that the object the lamda function is applied to appears in brackets \n",
    "#  after the function definition text.\n",
    "print((lambda x: x*x*x)(5))\n",
    "\n",
    "# It is also possible to assign the lambda function to a variable and use \n",
    "#   the variable name as the function name.\n",
    "y = lambda x: x*x*x\n",
    "print(y(5))"
   ]
  },
  {
   "cell_type": "markdown",
   "metadata": {},
   "source": [
    "## Importing Python code libraries"
   ]
  },
  {
   "cell_type": "code",
   "execution_count": null,
   "metadata": {
    "collapsed": false,
    "run_control": {
     "read_only": false
    }
   },
   "outputs": [],
   "source": [
    "# And finally, we can of course import Python libraries.\n",
    "import datetime"
   ]
  },
  {
   "cell_type": "code",
   "execution_count": null,
   "metadata": {
    "collapsed": false,
    "run_control": {
     "read_only": false
    }
   },
   "outputs": [],
   "source": [
    "# And make use of their contents in other cells...\n",
    "datetime.datetime.now()"
   ]
  },
  {
   "cell_type": "code",
   "execution_count": null,
   "metadata": {
    "collapsed": false,
    "run_control": {
     "read_only": false
    }
   },
   "outputs": [],
   "source": [
    "# We can also import libraries from packages, and rename them with \n",
    "#  a convenient shorthand name.\n",
    "import datetime as dt1\n",
    "print ( dt1.datetime.now() )\n",
    "\n",
    "from datetime import datetime as dt2\n",
    "print( dt2.now() )"
   ]
  },
  {
   "cell_type": "markdown",
   "metadata": {},
   "source": [
    "## What next?"
   ]
  },
  {
   "cell_type": "markdown",
   "metadata": {},
   "source": [
    "If you are working through this Notebook as part of an inline exercise, return to the module materials now.\n",
    "\n",
    "If you are working through this set of Notebooks as a whole, move  on to the next step in the bootcamp: `01.5 Python file handling`. "
   ]
  }
 ],
 "metadata": {
  "kernelspec": {
   "display_name": "Python 3",
   "language": "python",
   "name": "python3"
  },
  "language_info": {
   "codemirror_mode": {
    "name": "ipython",
    "version": 3
   },
   "file_extension": ".py",
   "mimetype": "text/x-python",
   "name": "python",
   "nbconvert_exporter": "python",
   "pygments_lexer": "ipython3",
   "version": "3.4.3"
  }
 },
 "nbformat": 4,
 "nbformat_minor": 0
}
