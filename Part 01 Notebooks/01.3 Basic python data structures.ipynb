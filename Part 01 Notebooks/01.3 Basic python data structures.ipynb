{
 "cells": [
  {
   "cell_type": "markdown",
   "metadata": {},
   "source": [
    "# Object collections"
   ]
  },
  {
   "cell_type": "markdown",
   "metadata": {},
   "source": [
    "As well as the 'atomic' object types you saw earlier - strings, booleans, integer and floating-point numbers, Python also allows us to represent different collections of objects using:\n",
    "\n",
    "* *lists* (ordered lists of elements of any type and any length)\n",
    "* *tuples* (ordered elements of a fixed length, with a particular *arity*, that is, number of elements)\n",
    "* *sets* (only contain unique elements, of any length)\n",
    "* *dicts* (associative arrays of any length, known as dictionaries).\n",
    "\n",
    "Let's look at each of them in turn. Feel free to play around with the examples to get a feel for what the different representations can do (*actually that's a general instruction: use the examples in the Notebooks as starting points for you to explore and develop your understanding*). For each code cell below, read it, try to predict the outputs, then click on the cell to select it, run the cell, then check your answer.   Try some variations of the code by changing the cell contents, or create a new cell below and explore your variations in that.\n",
    "\n",
    "Note:  the rest of this Notebook is presented in a very terse and summarised form, and is intended to recap key aspects of the Python programming language. If the idea of programming in general, and programming in Python in particular, really is alien to you, you may find it useful to view the code fragments as the sort of thing that goes to work when you select an application menu option or press Enter on a form based user interface. However, you should probably also work through an introductory  Python tutorial such as the 'standard' Python tutorial mentioned in Notebook `01.1 Getting started with IPython and Notebooks`."
   ]
  },
  {
   "cell_type": "markdown",
   "metadata": {},
   "source": [
    "## Lists"
   ]
  },
  {
   "cell_type": "markdown",
   "metadata": {},
   "source": [
    "Lists are most frequently defined using square brackets, []. Things we commonly want to do with lists are *add* things to them (particularly to the end of them), *extract* items or sequences of items from them, and *sort* them. Here's a quick review of how to do these operations in Python. \n",
    "\n",
    "Run the code to see what happens at each step. Feel free to try your own related experiments in a code cell to get a feel for what's going on."
   ]
  },
  {
   "cell_type": "code",
   "execution_count": null,
   "metadata": {
    "collapsed": false,
    "run_control": {
     "read_only": false
    }
   },
   "outputs": [],
   "source": [
    "# Define a list.\n",
    "x = ['apples', 'oranges', 7, 'pears']\n",
    "print(x)\n",
    "\n",
    "# How many items in the list?\n",
    "print( len(x) )\n",
    "\n",
    "# Append something to the end of the list.\n",
    "x.append(8)\n",
    "print(x)\n",
    "\n",
    "# Or \"add\" something to the end of the list.\n",
    "x = x+['radishes',\"cauliflowers\"]\n",
    "print(x)"
   ]
  },
  {
   "cell_type": "code",
   "execution_count": null,
   "metadata": {
    "collapsed": false,
    "run_control": {
     "read_only": false
    }
   },
   "outputs": [],
   "source": [
    "# Set y to equal the list x. In fact, this is a pass by reference assignment.\n",
    "y = x\n",
    "print(y)\n",
    "\n",
    "# So if it was pass by reference, what happens here?\n",
    "x.append(\"lemonade\")\n",
    "print(y)\n",
    "\n",
    "# Both x and y are pointing to (referencing) the same list (the one originally assigned to x);\n",
    "#    so change x and you see the change in y, \n",
    "#    change y and you see the change in x - they are referencing the same list.\n",
    "\n",
    "# To make y reference (point to) a new list created \n",
    "#   from the value of the list x at a particular point in time:\n",
    "y = list(x)\n",
    "x.append(\"soda\")\n",
    "print(x)\n",
    "print(y)"
   ]
  },
  {
   "cell_type": "code",
   "execution_count": null,
   "metadata": {
    "collapsed": false,
    "run_control": {
     "read_only": false
    }
   },
   "outputs": [],
   "source": [
    "# The pass by reference model does not apply to simple type assignments.\n",
    "p = 2\n",
    "q = p\n",
    "print(p, q)\n",
    "\n",
    "p = 3\n",
    "print(p, q)\n",
    "# Simple types are assigned as pass by value; a new value is copied to the variable.\n",
    "\n",
    "\n",
    "# But you must remember to watch out for the list behaviour.\n",
    "p = [2]\n",
    "q = p\n",
    "print(p, q)\n",
    "\n",
    "p.append(3)\n",
    "print(p, q)"
   ]
  },
  {
   "cell_type": "code",
   "execution_count": null,
   "metadata": {
    "collapsed": false,
    "run_control": {
     "read_only": false
    }
   },
   "outputs": [],
   "source": [
    "# Remember our global variable x from earlier?\n",
    "print(x)\n",
    "\n",
    "# Show the third element of the list (all lists indexes start at 0).\n",
    "print(x[2])\n",
    "\n",
    "# Show the last element of the list.\n",
    "print(x[-1])\n",
    "# hmm, I wonder what happens for other negative index values?  Why not try it?"
   ]
  },
  {
   "cell_type": "code",
   "execution_count": null,
   "metadata": {
    "collapsed": false,
    "run_control": {
     "read_only": false
    }
   },
   "outputs": [],
   "source": [
    "# Show the first to the third element of the list - watch the final fencepost!\n",
    "print(x[0:3])\n",
    "\n",
    "# You can omit the 0 if you want to show all elements from the start of the list.\n",
    "print(x[:3])\n",
    "\n",
    "# For x[M:N], list item with index M is the first item (index starts at 0) and N-1 the last.\n",
    "# There will be M-N items in the slice.\n",
    "# Show the second to the third element of the list - the index starts at 0 and \n",
    "#   watch the final fencepost!\n",
    "print(x[1:3])\n",
    "\n",
    "# Show from the last-but-one element of the list to the end of the list.  \n",
    "print(x[-2:])\n",
    "\n",
    "# What do you think will happen here?\n",
    "print(x[-2:-1])\n",
    "# Remember, for x[M:N], the item with index N is not included in the output slice, \n",
    "#                                the slice finishes at the item with index N-1.\n"
   ]
  },
  {
   "cell_type": "code",
   "execution_count": null,
   "metadata": {
    "collapsed": false,
    "run_control": {
     "read_only": false
    }
   },
   "outputs": [],
   "source": [
    "# Strings can be sorted. So, take this randomly ordered list.\n",
    "x = ['apples', 'oranges', 'pears', 'radishes', 'cauliflowers']\n",
    "print(x)\n",
    "\n",
    "# Now sort it alphabetically.\n",
    "x.sort()\n",
    "print(x)\n",
    "\n",
    "# Sort on the length of each string.\n",
    "x.sort(key=len)\n",
    "print(x)\n",
    "\n",
    "# Sort in reverse order.\n",
    "x.sort(reverse=True)\n",
    "print(x)\n",
    "\n",
    "# And sort in reverse order of length.\n",
    "x.sort(key=len, reverse=True)\n",
    "print(x)\n",
    "\n",
    "# Here's another way of sorting a list; there are often several \n",
    "#   ways of doing the same thing in Python.\n",
    "x = sorted( ['apples', 'oranges', 'pears', 'radishes', 'cauliflowers'] )\n",
    "print(x)\n"
   ]
  },
  {
   "cell_type": "code",
   "execution_count": null,
   "metadata": {
    "collapsed": false,
    "run_control": {
     "read_only": false
    }
   },
   "outputs": [],
   "source": [
    "# List members can be joined together into a single string - with the list \n",
    "#     elements seperated by a supplied string.\n",
    "print('::'.join( x ) )"
   ]
  },
  {
   "cell_type": "code",
   "execution_count": null,
   "metadata": {
    "collapsed": false,
    "run_control": {
     "read_only": false
    }
   },
   "outputs": [],
   "source": [
    "# We can iterate (loop) through the members of a list.\n",
    "for item in x:\n",
    "    print(item)\n",
    "    "
   ]
  },
  {
   "cell_type": "code",
   "execution_count": null,
   "metadata": {
    "collapsed": false,
    "run_control": {
     "read_only": false
    }
   },
   "outputs": [],
   "source": [
    "# In Python, white space/indentation is meaningful and is used to group lines into blocks.\n",
    "# What do you think the following will do?\n",
    "for item in x:\n",
    "    print(item)\n",
    "    print('============')"
   ]
  },
  {
   "cell_type": "code",
   "execution_count": null,
   "metadata": {
    "collapsed": false,
    "run_control": {
     "read_only": false
    }
   },
   "outputs": [],
   "source": [
    "# What about this one?\n",
    "for item in x:\n",
    "    print(item)\n",
    "print('============')"
   ]
  },
  {
   "cell_type": "code",
   "execution_count": null,
   "metadata": {
    "collapsed": false,
    "run_control": {
     "read_only": false
    }
   },
   "outputs": [],
   "source": [
    "# We can test to see if an item is in a list.\n",
    "txt = [False]\n",
    "\n",
    "if 'apples' in x:\n",
    "    txt = [True]\n",
    "\n",
    "if \"cabbages\" in x:\n",
    "    txt.append(True)\n",
    "else:\n",
    "    txt.append(False)\n",
    "    \n",
    "print(txt)"
   ]
  },
  {
   "cell_type": "code",
   "execution_count": null,
   "metadata": {
    "collapsed": false,
    "run_control": {
     "read_only": false
    }
   },
   "outputs": [],
   "source": [
    "# We can generate lists based on filtering a parent list.\n",
    "\n",
    "# In general, Python supports a qualified assignment as a ternary operation. \n",
    "#   Change the value of temp to be above 15, and see what happens here.\n",
    "temp = 12\n",
    "comfort = \"Warm\" if temp>15 else \"Chilly\"\n",
    "print(comfort)\n",
    "\n",
    "# We can use this in a list comprehension - a shorthand way of filtering a list based on a condition.\n",
    "x = ['apples', 'oranges', 'pears', 'radishes', 'cauliflowers']\n",
    "y = [item for item in x if len(item) > 6] \n",
    "print(y)\n",
    "#You should see that the elements of y all have a length greater than 6 characters.\n",
    "\n",
    "# In the following, the condition filters the list to be only negative numbers and \n",
    "#   then the number has the **2 applied.  So, y will be the square of the negative numbers\n",
    "#   in the original list.\n",
    "y = [num**2 for num in [-10, -5, 0, 1, 2] if num<0]\n",
    "print(y)\n"
   ]
  },
  {
   "cell_type": "markdown",
   "metadata": {},
   "source": [
    "## Tuples"
   ]
  },
  {
   "cell_type": "markdown",
   "metadata": {},
   "source": [
    "Tuples are ordered sequences that can also be unpacked into separate variables."
   ]
  },
  {
   "cell_type": "code",
   "execution_count": null,
   "metadata": {
    "collapsed": false,
    "run_control": {
     "read_only": false
    }
   },
   "outputs": [],
   "source": [
    "tuple1 = 1, 2, 3, 4, 5\n",
    "print(tuple1)\n",
    "\n",
    "tuple2 = (\"this\", 'that', 'the other')\n",
    "print(tuple2)\n",
    "\n",
    "# We can unpack tuples into separate variables.\n",
    "a, b, c = tuple2\n",
    "print(b)\n",
    "\n",
    "# Note that the length of the tuple and the number of variables has to agree.\n",
    "x,y,z = tuple1"
   ]
  },
  {
   "cell_type": "code",
   "execution_count": null,
   "metadata": {
    "collapsed": false,
    "run_control": {
     "read_only": false
    }
   },
   "outputs": [],
   "source": [
    "# Convert a tuple to a list.\n",
    "list1 = list(tuple1)\n",
    "print(list1)\n",
    "\n",
    "# Compile two lists into a list of tuples.\n",
    "list2 = [1, 2, 3]\n",
    "list3 = ['one', 'two', 'three']\n",
    "\n",
    "combination = zip(list2, list3)\n",
    "\n",
    "# Imagine two parts of a zip being zipped together... \n",
    "#   the resulting object then needs to be made into a list to print it.\n",
    "\n",
    "print(list(combination))\n",
    "\n",
    "#Also, the zip finishes when the end of the shortest tuple is reached.\n",
    "combination2 = zip(list1, list3)\n",
    "print(list(combination2))"
   ]
  },
  {
   "cell_type": "markdown",
   "metadata": {},
   "source": [
    "## Sets"
   ]
  },
  {
   "cell_type": "markdown",
   "metadata": {},
   "source": [
    "Sets are unordered collections of distinct (no duplicates) objects."
   ]
  },
  {
   "cell_type": "code",
   "execution_count": null,
   "metadata": {
    "collapsed": false,
    "run_control": {
     "read_only": false
    }
   },
   "outputs": [],
   "source": [
    "# Make two sets of 'distinct' objects.\n",
    "set1 = set( ['apples', 'bananas', \"pears\", 'apples' ] )\n",
    "\n",
    "set2 = { 'apples', 'oranges', 'limes', 'limes' }\n",
    "\n",
    "print(set1)\n",
    "print(set2)"
   ]
  },
  {
   "cell_type": "markdown",
   "metadata": {},
   "source": [
    " Normal set operations can be applied to them."
   ]
  },
  {
   "cell_type": "code",
   "execution_count": null,
   "metadata": {
    "collapsed": false,
    "run_control": {
     "read_only": false
    }
   },
   "outputs": [],
   "source": [
    "# Intersection ('and').\n",
    "print(set1 & set2)\n",
    "print(set1.intersection(set2))\n",
    "\n",
    "# Union ('or')\n",
    "print(set1 | set2)\n",
    "print(set1.union(set2))\n"
   ]
  },
  {
   "cell_type": "code",
   "execution_count": null,
   "metadata": {
    "collapsed": false,
    "run_control": {
     "read_only": false
    }
   },
   "outputs": [],
   "source": [
    "# Set difference ('in the first set but not the second').\n",
    "print(set1 - set2)\n",
    "print(set2 - set1)\n",
    "print(set2.difference(set1))\n",
    "\n",
    "# In one set but not the other (also known as 'exclusive or').\n",
    "print(set1 ^ set2)\n",
    "print(set2.symmetric_difference(set1))"
   ]
  },
  {
   "cell_type": "code",
   "execution_count": null,
   "metadata": {
    "collapsed": false,
    "run_control": {
     "read_only": false
    }
   },
   "outputs": [],
   "source": [
    "# There are conditions to check if one set is a superset or subset of another.\n",
    "print({'apples','pears'}.issuperset(set1))\n",
    "print({'apples','pears'}.issubset(set1))\n",
    "\n",
    "print(set1.issuperset({'apples','pears'}))\n",
    "\n",
    "# Sets are 'disjoint' if they have no elements in common.\n",
    "print(set1.isdisjoint(set2))"
   ]
  },
  {
   "cell_type": "code",
   "execution_count": null,
   "metadata": {
    "collapsed": false,
    "run_control": {
     "read_only": false
    }
   },
   "outputs": [],
   "source": [
    "# Convert a set to a list.\n",
    "print(list({ 1, 2, 3}))\n",
    "\n",
    "# Convert a list to a set.\n",
    "print(set([1, 2, 3, 3, 3, 4]))"
   ]
  },
  {
   "cell_type": "markdown",
   "metadata": {},
   "source": [
    "## Dicts"
   ]
  },
  {
   "cell_type": "markdown",
   "metadata": {},
   "source": [
    "A *dict* is an associative array, a data structure capable of storing key-value pairs (also known as a dictionary)."
   ]
  },
  {
   "cell_type": "code",
   "execution_count": null,
   "metadata": {
    "collapsed": false,
    "run_control": {
     "read_only": false
    }
   },
   "outputs": [],
   "source": [
    "# A key-value pair looks like <key>:<value>; the following has two key-value pairs.\n",
    "dict1 = { 'courseCode':'TM351', 'workingTitle':'The Data Course'}\n",
    "print( dict1 )\n",
    "print( dict1['courseCode'] )\n",
    "print()\n",
    "\n",
    "# Add additional values to the dict, the dict now has three key-value pairs.\n",
    "dict1['points'] = 30\n",
    "print( dict1 )\n",
    "print()\n",
    "\n",
    "# We can iterate through the key values in the dict.\n",
    "print ('Here are the keys in dict1:')\n",
    "for key in dict1:\n",
    "    print(key)\n",
    "print()\n",
    "\n",
    "# We can then use the key to index particular values in the dict.\n",
    "print ('Here are the values for each key in dict1')\n",
    "for key in dict1:\n",
    "    print(dict1[key])"
   ]
  },
  {
   "cell_type": "code",
   "execution_count": null,
   "metadata": {
    "collapsed": false,
    "run_control": {
     "read_only": false
    }
   },
   "outputs": [],
   "source": [
    "# We can create complex combinations of collection objects.\n",
    "# A list of course dicts; the list below has two elements each a dict which has two parts.\n",
    "courseList = [{ 'courseCode':'TM351', 'workingTitle':'The Data Course'},\n",
    "              { 'courseCode':'TU100', 'workingTitle':'The Foundation Course'}]\n",
    "# Each item in the list is a dict, which we can then unpack.\n",
    "for course in courseList:\n",
    "    print(course['courseCode'], course['workingTitle'])"
   ]
  },
  {
   "cell_type": "code",
   "execution_count": null,
   "metadata": {
    "collapsed": false,
    "run_control": {
     "read_only": false
    }
   },
   "outputs": [],
   "source": [
    "# Recall the pass by reference properties of lists? \n",
    "# It is the same for dicts.\n",
    "dict1 = {'workingTitle': 'The Data Course', 'courseCode': 'TM351'}\n",
    "dict2 = dict1\n",
    "print(dict2)\n",
    "\n",
    "# If we add a new attribure to dict1, we see dict2 is referencing it (pointing to it).\n",
    "dict1['level'] = 3\n",
    "print(dict2)\n",
    "\n",
    "# To create a new dict from a current one we copy() the contents.\n",
    "dict2 = dict1.copy()\n",
    "dict1['facultyCode'] = 'TM'\n",
    "print(dict2)\n",
    "print(dict1)"
   ]
  },
  {
   "cell_type": "code",
   "execution_count": null,
   "metadata": {
    "collapsed": false,
    "run_control": {
     "read_only": false
    }
   },
   "outputs": [],
   "source": [
    "# Here's a way we can create a dict from a list of tuples \n",
    "#   containing (key,value) pairs.\n",
    "list1 = ['one', 'two', 'three']\n",
    "list2 = [1, 2, 3]\n",
    "combination = list(zip(list1, list2))\n",
    "print(combination)\n",
    "# The code above creates and prints a list of (key,value) tuples.\n",
    "# The code below creates the dict from this list of tuples.\n",
    "dictCombo = {}\n",
    "for key,value in combination:\n",
    "    dictCombo[key] = value\n",
    "# And then we can display it:\n",
    "dictCombo"
   ]
  },
  {
   "cell_type": "markdown",
   "metadata": {},
   "source": [
    "## Displaying Python object methods and attributes"
   ]
  },
  {
   "cell_type": "markdown",
   "metadata": {},
   "source": [
    "If you have a Python object you can list the methods and attributes it supports by using the `dir()` command."
   ]
  },
  {
   "cell_type": "code",
   "execution_count": null,
   "metadata": {
    "collapsed": false,
    "run_control": {
     "read_only": false
    }
   },
   "outputs": [],
   "source": [
    "dir(dictCombo)"
   ]
  },
  {
   "cell_type": "code",
   "execution_count": null,
   "metadata": {
    "collapsed": false,
    "run_control": {
     "read_only": false
    }
   },
   "outputs": [],
   "source": [
    "dir(list1)"
   ]
  },
  {
   "cell_type": "markdown",
   "metadata": {},
   "source": [
    "## What next?"
   ]
  },
  {
   "cell_type": "markdown",
   "metadata": {},
   "source": [
    "If you are working through this Notebook as part of an inline exercise, return to the module materials now.\n",
    "\n",
    "If you are working through this set of Notebooks as a whole, move  on to the next step in the bootcamp: `01.4 Defining new functions in Python`."
   ]
  },
  {
   "cell_type": "code",
   "execution_count": null,
   "metadata": {
    "collapsed": true
   },
   "outputs": [],
   "source": []
  }
 ],
 "metadata": {
  "kernelspec": {
   "display_name": "Python 3",
   "language": "python",
   "name": "python3"
  },
  "language_info": {
   "codemirror_mode": {
    "name": "ipython",
    "version": 3
   },
   "file_extension": ".py",
   "mimetype": "text/x-python",
   "name": "python",
   "nbconvert_exporter": "python",
   "pygments_lexer": "ipython3",
   "version": "3.4.3"
  }
 },
 "nbformat": 4,
 "nbformat_minor": 0
}
