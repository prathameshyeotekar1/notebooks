{
 "cells": [
  {
   "cell_type": "markdown",
   "metadata": {},
   "source": [
    "# Accident analysis map-reduce\n",
    "This Notebook takes you through how to create map-reduce based queries in MongoDB.\n",
    "\n",
    "Note that this database only just fits in the memory of the VM. Before you start the activities in this Notebook, make sure you have no other running Notebooks. \n",
    "\n",
    "If any of the queries takes more than a few minutes to complete, it's probably because one of the shard servers has run out of memory and failed. Rerun the first three cells and try again. \n",
    "\n",
    "If you get more than a couple of failures, reboot the whole VM (_not_ suspend) and try again."
   ]
  },
  {
   "cell_type": "markdown",
   "metadata": {},
   "source": [
    "Stop the single-server Mongo instance and start the shard cluster. Look at the output of this command: it could well have failures the first time you run it. If so, just run it again until it works."
   ]
  },
  {
   "cell_type": "code",
   "execution_count": null,
   "metadata": {
    "collapsed": false,
    "run_control": {
     "read_only": false
    }
   },
   "outputs": [],
   "source": [
    "!sudo service mongod stop\n",
    "!sudo /etc/mongo-shards-down\n",
    "!sudo /etc/mongo-shards-up"
   ]
  },
  {
   "cell_type": "code",
   "execution_count": null,
   "metadata": {
    "collapsed": true,
    "run_control": {
     "read_only": false
    }
   },
   "outputs": [],
   "source": [
    "# Import the required libraries and open the connection to Mongo\n",
    "\n",
    "import collections\n",
    "import datetime\n",
    "import matplotlib as mpl\n",
    "\n",
    "import pandas as pd\n",
    "import scipy.stats\n",
    "\n",
    "import folium\n",
    "import uuid\n",
    "\n",
    "import pymongo\n",
    "\n",
    "# Needed to create map-reduce jobs\n",
    "from bson.code import Code"
   ]
  },
  {
   "cell_type": "code",
   "execution_count": null,
   "metadata": {
    "collapsed": true,
    "run_control": {
     "read_only": false
    }
   },
   "outputs": [],
   "source": [
    "# Open a connection to the Mongo server, open the accidents database and name the collections of accidents and labels\n",
    "\n",
    "# Note the different port number for this cluster\n",
    "client = pymongo.MongoClient('mongodb://localhost:27017/')\n",
    "\n",
    "db = client.accidents\n",
    "accidents = db.accidents\n",
    "labels = db.labels\n",
    "roads = db.roads"
   ]
  },
  {
   "cell_type": "markdown",
   "metadata": {},
   "source": [
    "## Rerun cells above\n",
    "If a map-reduce query fails, try rerunning the cells above to restart the Mongo shard cluster."
   ]
  },
  {
   "cell_type": "code",
   "execution_count": null,
   "metadata": {
    "collapsed": false,
    "run_control": {
     "read_only": false
    }
   },
   "outputs": [],
   "source": [
    "# Load the expanded names of keys and human-readable codes into memory\n",
    "\n",
    "expanded_name = collections.defaultdict(str)\n",
    "for e in labels.find({'expanded': {\"$exists\": True}}):\n",
    "    expanded_name[e['label']] = e['expanded']\n",
    "    \n",
    "label_of = collections.defaultdict(str)\n",
    "for l in labels.find({'codes': {\"$exists\": True}}):\n",
    "    for c in l['codes']:\n",
    "        try:\n",
    "            label_of[l['label'], int(c)] = l['codes'][c]\n",
    "        except ValueError: \n",
    "            label_of[l['label'], c] = l['codes'][c]"
   ]
  },
  {
   "cell_type": "markdown",
   "metadata": {},
   "source": [
    "## Map-reduce\n",
    "To start, a very simple query that finds the number of casualties in each district local authority. \n",
    "\n",
    "These functions will serve as a template for all the later examples."
   ]
  },
  {
   "cell_type": "code",
   "execution_count": null,
   "metadata": {
    "collapsed": false,
    "run_control": {
     "read_only": false
    }
   },
   "outputs": [],
   "source": [
    "# Mapping: for each document, emit the number of casualties for this accident, \n",
    "#  with the key of the district code.\n",
    "# Note that we can't consistently use the dot notation for keys as JavaScript\n",
    "#  doesn't like bracket characters in variable names.\n",
    "\n",
    "mapper = Code(\"\"\"\n",
    "    function () {\n",
    "        emit(this['Local_Authority_(Highway)'], \n",
    "            {Number_of_Casualties: this.Number_of_Casualties});\n",
    "    }\n",
    "\"\"\")"
   ]
  },
  {
   "cell_type": "code",
   "execution_count": null,
   "metadata": {
    "collapsed": false,
    "run_control": {
     "read_only": false
    }
   },
   "outputs": [],
   "source": [
    "# Reducing: this will be passed a set of casualty numbers, all with the \n",
    "#  same district code. Reducing them is easy: just add up all the numbers\n",
    "\n",
    "reducer = Code(\"\"\"\n",
    "    function(key, emits) {\n",
    "        var total = {Number_of_Casualties : 0}\n",
    "        for (var i in emits) {\n",
    "            total.Number_of_Casualties += emits[i].Number_of_Casualties;\n",
    "        }\n",
    "        return total;\n",
    "    }\n",
    "\"\"\")"
   ]
  },
  {
   "cell_type": "code",
   "execution_count": null,
   "metadata": {
    "collapsed": false,
    "run_control": {
     "read_only": false
    }
   },
   "outputs": [],
   "source": [
    "result = accidents.map_reduce(mapper, reducer, 'myresults')\n",
    "result"
   ]
  },
  {
   "cell_type": "markdown",
   "metadata": {},
   "source": [
    "The result is stored in a temporary collection. We can either use the `result` variable to access that collection, or we could open a new PyMongo connection to it."
   ]
  },
  {
   "cell_type": "code",
   "execution_count": null,
   "metadata": {
    "collapsed": false,
    "run_control": {
     "read_only": false
    }
   },
   "outputs": [],
   "source": [
    "[r for r in result.find(limit=5)]"
   ]
  },
  {
   "cell_type": "code",
   "execution_count": null,
   "metadata": {
    "collapsed": false,
    "run_control": {
     "read_only": false
    },
    "scrolled": true
   },
   "outputs": [],
   "source": [
    "# Place the results in a pandas Series for plotting.\n",
    "casualties_by_district_ss = pd.Series(\n",
    "    {label_of['Local_Authority_(Highway)', r['_id']] : \n",
    "     r['value']['Number_of_Casualties']\n",
    "     for r in result.find()})\n",
    "casualties_by_district_ss"
   ]
  },
  {
   "cell_type": "code",
   "execution_count": null,
   "metadata": {
    "collapsed": false,
    "run_control": {
     "read_only": false
    }
   },
   "outputs": [],
   "source": [
    "casualties_by_district_ss[['Aberdeenshire', 'Bedford', 'Wolverhampton']].plot(kind='bar', legend=False)"
   ]
  },
  {
   "cell_type": "markdown",
   "metadata": {},
   "source": [
    "## Map-reduce with a query\n",
    "We can also add a `query` to the `map_reduce` call. Only documents that match the query will be included in the mapping phase. In this case, we can use the query to restrict the processing to only accidents that occurred in 2009."
   ]
  },
  {
   "cell_type": "code",
   "execution_count": null,
   "metadata": {
    "collapsed": false,
    "run_control": {
     "read_only": false
    }
   },
   "outputs": [],
   "source": [
    "result = accidents.map_reduce(mapper, reducer, 'myresults', \n",
    "            query = {'Datetime': {\"$gte\": datetime.datetime(2009, 1, 1), \n",
    "                                 \"$lt\": datetime.datetime(2010, 1, 1)}})\n",
    "result"
   ]
  },
  {
   "cell_type": "code",
   "execution_count": null,
   "metadata": {
    "collapsed": false,
    "run_control": {
     "read_only": false
    }
   },
   "outputs": [],
   "source": [
    "[r for r in result.find(limit=5)]"
   ]
  },
  {
   "cell_type": "code",
   "execution_count": null,
   "metadata": {
    "collapsed": false,
    "run_control": {
     "read_only": false
    },
    "scrolled": true
   },
   "outputs": [],
   "source": [
    "# Place the results in a pandas Series for plotting.\n",
    "casualties_by_district_09_ss = pd.Series(\n",
    "    {label_of['Local_Authority_(Highway)', r['_id']] : \n",
    "     r['value']['Number_of_Casualties']\n",
    "     for r in result.find()})\n",
    "casualties_by_district_09_ss"
   ]
  },
  {
   "cell_type": "code",
   "execution_count": null,
   "metadata": {
    "collapsed": false,
    "run_control": {
     "read_only": false
    }
   },
   "outputs": [],
   "source": [
    "casualties_by_district_09_ss[['Aberdeenshire', 'Bedford', 'Wolverhampton']].plot(kind='bar', legend=False)"
   ]
  },
  {
   "cell_type": "markdown",
   "metadata": {},
   "source": [
    "## Map-reduce with a composite key for intermediate results\n",
    "There are a lot of district authorities. Let's look at the number of accidents per district authority, split by year. To keep the combinations of authority and year separate, we need to include both values in the key for the intermediate result documents."
   ]
  },
  {
   "cell_type": "code",
   "execution_count": null,
   "metadata": {
    "collapsed": false,
    "run_control": {
     "read_only": false
    }
   },
   "outputs": [],
   "source": [
    "# A very similar mapping function to the one above, but this time the key is a compound one, \n",
    "#  consisting of the district code and the year of the accident.\n",
    "\n",
    "mapper = Code(\"\"\"\n",
    "    function () {\n",
    "        emit({district : this['Local_Authority_(Highway)'], year : this.Datetime.getFullYear()}, \n",
    "            {Number_of_Casualties: this.Number_of_Casualties});\n",
    "    }\n",
    "\"\"\")"
   ]
  },
  {
   "cell_type": "code",
   "execution_count": null,
   "metadata": {
    "collapsed": false,
    "run_control": {
     "read_only": false
    }
   },
   "outputs": [],
   "source": [
    "# The reducer is the same as above. The data for the different categories is kept separate\n",
    "#  by the different values for the key.\n",
    "reducer = Code(\"\"\"\n",
    "    function(key, emits) {\n",
    "        var total = {Number_of_Casualties : 0}\n",
    "        for (var i in emits) {\n",
    "            total.Number_of_Casualties += emits[i].Number_of_Casualties;\n",
    "        }\n",
    "        return total;\n",
    "    }\n",
    "\"\"\")"
   ]
  },
  {
   "cell_type": "code",
   "execution_count": null,
   "metadata": {
    "collapsed": false,
    "run_control": {
     "read_only": false
    }
   },
   "outputs": [],
   "source": [
    "result = accidents.map_reduce(mapper, reducer, 'myresults')\n",
    "result"
   ]
  },
  {
   "cell_type": "code",
   "execution_count": null,
   "metadata": {
    "collapsed": false,
    "run_control": {
     "read_only": false
    }
   },
   "outputs": [],
   "source": [
    "# How many district-year pairs are there?\n",
    "result.find().count()"
   ]
  },
  {
   "cell_type": "code",
   "execution_count": null,
   "metadata": {
    "collapsed": false,
    "run_control": {
     "read_only": false
    }
   },
   "outputs": [],
   "source": [
    "# What do the results look like?\n",
    "[r for r in result.find(limit=5)]"
   ]
  },
  {
   "cell_type": "markdown",
   "metadata": {},
   "source": [
    "We can now put these results in a DataFrame."
   ]
  },
  {
   "cell_type": "code",
   "execution_count": null,
   "metadata": {
    "collapsed": false,
    "run_control": {
     "read_only": false
    },
    "scrolled": true
   },
   "outputs": [],
   "source": [
    "casualties_by_district_year_long_df = pd.DataFrame([\n",
    "    {'District name': label_of['Local_Authority_(Highway)', r['_id']['district']],\n",
    "     'District code': r['_id']['district'],\n",
    "     'Year': datetime.datetime(int(r['_id']['year']), 12, 31),\n",
    "     'Number_of_Casualties': r['value']['Number_of_Casualties']}\n",
    "    for r in result.find()])\n",
    "casualties_by_district_year_long_df"
   ]
  },
  {
   "cell_type": "code",
   "execution_count": null,
   "metadata": {
    "collapsed": false,
    "run_control": {
     "read_only": false
    }
   },
   "outputs": [],
   "source": [
    "casualties_by_district_year_df = casualties_by_district_year_long_df.pivot('Year', 'District name', 'Number_of_Casualties')\n",
    "casualties_by_district_year_df"
   ]
  },
  {
   "cell_type": "code",
   "execution_count": null,
   "metadata": {
    "collapsed": false,
    "run_control": {
     "read_only": false
    }
   },
   "outputs": [],
   "source": [
    "casualties_by_district_year_df[['Aberdeenshire', 'Bedford', 'Wolverhampton']].plot()"
   ]
  },
  {
   "cell_type": "markdown",
   "metadata": {
    "activity": "activity"
   },
   "source": [
    "## Activity 1\n",
    "Use map-reduce to find the number of casualties per police force per year.\n",
    "\n",
    "The solution is in the [`16.3solutions`](16.3solutions.ipynb) Notebook."
   ]
  },
  {
   "cell_type": "code",
   "execution_count": null,
   "metadata": {
    "collapsed": false,
    "run_control": {
     "read_only": false
    }
   },
   "outputs": [],
   "source": [
    "# Insert your solution here."
   ]
  },
  {
   "cell_type": "markdown",
   "metadata": {
    "activity": "activity"
   },
   "source": [
    "## Activity 2\n",
    "\n",
    "Use map-reduce to find the number of accidents from 2009-12, broken down by month. Place the results in a *pandas* Series and plot it. Ensure you get the same answers as we found using the aggregation pipeline earlier. (This pipeline is repeated below.)\n",
    "\n",
    "Notes:\n",
    "1. The JavaScript function `.Datetime.getMonth()` will return the month number.\n",
    "2. JavaScript has its month numbers in the range 0-11, not the 1-12 that Python's `datetime.datetime` expects.\n",
    "3. Construct the *pandas* Series by passing it a `dict` of `<date>: <count>` pairs so that the resulting Series is in the right order, whatever order the results are returned by Mongo.\n",
    "\n",
    "The solution is in the [`16.3solutions`](16.3solutions.ipynb) Notebook."
   ]
  },
  {
   "cell_type": "code",
   "execution_count": null,
   "metadata": {
    "collapsed": true
   },
   "outputs": [],
   "source": [
    "# Solution using aggregation pipeline\n",
    "results = accidents.aggregate([\n",
    "    {'$project': {'month': {'$month': '$Datetime'},\n",
    "                  'year': {'$year': '$Datetime'}}},\n",
    "    {'$group': {'_id': {'month': '$month', 'year': '$year'},\n",
    "                'count': {'$sum': 1}}},\n",
    "    {'$sort': {'_id': 1}}\n",
    "])\n",
    "\n",
    "accidents_by_month_ap_ss = pd.Series({datetime.datetime(m['_id']['year'], m['_id']['month'], 1):\n",
    "                                m['count'] for m in results})\n",
    "# A hack to change the dates to the end of the month\n",
    "accidents_by_month_ap_ss.index = accidents_by_month_ap_ss.index.to_period('M').to_timestamp('M')\n",
    "accidents_by_month_ap_ss"
   ]
  },
  {
   "cell_type": "code",
   "execution_count": null,
   "metadata": {
    "collapsed": false,
    "run_control": {
     "read_only": false
    }
   },
   "outputs": [],
   "source": [
    "accidents_by_month_ap_ss.plot()"
   ]
  },
  {
   "cell_type": "code",
   "execution_count": null,
   "metadata": {
    "collapsed": false,
    "run_control": {
     "read_only": false
    }
   },
   "outputs": [],
   "source": [
    "# Insert your solution here."
   ]
  },
  {
   "cell_type": "markdown",
   "metadata": {},
   "source": [
    "## Multiple emissions\n",
    "The `map` function can emit any number of results for each document, though it cannot look at any other documents in the database. For this example, we can look at the number of casualties in each age band over time. The mapper here emits one intermediate result document for each casualty sub-document in each accident."
   ]
  },
  {
   "cell_type": "code",
   "execution_count": null,
   "metadata": {
    "collapsed": false,
    "run_control": {
     "read_only": false
    }
   },
   "outputs": [],
   "source": [
    "mapper = Code(\"\"\"\n",
    "    function () {\n",
    "        for (var i in this.Casualties) {\n",
    "            emit({age_band : this.Casualties[i].Age_Band_of_Casualty, year : this.Datetime.getFullYear()}, \n",
    "                {Number_of_Casualties: 1});\n",
    "        }\n",
    "    }\n",
    "\"\"\")"
   ]
  },
  {
   "cell_type": "code",
   "execution_count": null,
   "metadata": {
    "collapsed": false,
    "run_control": {
     "read_only": false
    }
   },
   "outputs": [],
   "source": [
    "reducer = Code(\"\"\"\n",
    "    function(key, emits) {\n",
    "        var total = {Number_of_Casualties : 0}\n",
    "        for (var i in emits) {\n",
    "            total.Number_of_Casualties += emits[i].Number_of_Casualties;\n",
    "        }\n",
    "        return total;\n",
    "    }\n",
    "\"\"\")"
   ]
  },
  {
   "cell_type": "code",
   "execution_count": null,
   "metadata": {
    "collapsed": false,
    "run_control": {
     "read_only": false
    }
   },
   "outputs": [],
   "source": [
    "result = accidents.map_reduce(mapper, reducer, 'myresults')\n",
    "result"
   ]
  },
  {
   "cell_type": "code",
   "execution_count": null,
   "metadata": {
    "collapsed": false,
    "run_control": {
     "read_only": false
    }
   },
   "outputs": [],
   "source": [
    "[r for r in result.find(limit=5)]"
   ]
  },
  {
   "cell_type": "code",
   "execution_count": null,
   "metadata": {
    "collapsed": false,
    "run_control": {
     "read_only": false
    },
    "scrolled": true
   },
   "outputs": [],
   "source": [
    "casualties_by_age_year_long_df = pd.DataFrame([\n",
    "        {'Age_Band_of_Casualty': r['_id']['age_band'],\n",
    "         'year': r['_id']['year'],\n",
    "         'Number_of_Casualties': r['value']['Number_of_Casualties']}\n",
    "        for r in result.find()\n",
    "    ])\n",
    "casualties_by_age_year_long_df"
   ]
  },
  {
   "cell_type": "code",
   "execution_count": null,
   "metadata": {
    "collapsed": false,
    "run_control": {
     "read_only": false
    }
   },
   "outputs": [],
   "source": [
    "casualties_by_age_year_df = casualties_by_age_year_long_df.pivot('Age_Band_of_Casualty', \n",
    "                                                                 'year', \n",
    "                                                                 'Number_of_Casualties')\n",
    "casualties_by_age_year_df.index = [\"Unknown\"] + [label_of['Age_Band_of_Casualty', i] \n",
    "                                                 for i in casualties_by_age_year_df.index[1:]]\n",
    "casualties_by_age_year_df.columns = [datetime.datetime(int(y), 12, 31) \n",
    "                                     for y in casualties_by_age_year_df.columns]\n",
    "casualties_by_age_year_df"
   ]
  },
  {
   "cell_type": "markdown",
   "metadata": {},
   "source": [
    "We can plot the age distribution of casualties, showing each age band as a sequence of bars for the sequence of years:"
   ]
  },
  {
   "cell_type": "code",
   "execution_count": null,
   "metadata": {
    "collapsed": false,
    "run_control": {
     "read_only": false
    }
   },
   "outputs": [],
   "source": [
    "# Just 2012 data\n",
    "casualties_by_age_year_df[datetime.datetime(2012, 12, 31)].plot(kind='bar')"
   ]
  },
  {
   "cell_type": "code",
   "execution_count": null,
   "metadata": {
    "collapsed": false,
    "run_control": {
     "read_only": false
    }
   },
   "outputs": [],
   "source": [
    "ax = casualties_by_age_year_df.plot(kind='bar')\n",
    "ax.legend(loc='center left', bbox_to_anchor=(1, 0.5))"
   ]
  },
  {
   "cell_type": "markdown",
   "metadata": {},
   "source": [
    "With this data, it's difficult to determine if some age groups are more prone to be involved in accidents than others, as the road census data doesn't include information about the ages of the vehicle occupants.\n",
    "\n",
    "For instance, the drop in casualty numbers for 16–20 year olds could be because of increased road safety measures, or it could be because fewer young people were driving."
   ]
  },
  {
   "cell_type": "markdown",
   "metadata": {
    "activity": "activity"
   },
   "source": [
    "## Activity 3\n",
    "Do particular ages of people drive particular types of vehicle?\n",
    "\n",
    "Use a map-reduce query to show how `Age_Band_of_Driver` correlates with `Vehicle_Type`. Use a chi-squared test to see if there are significant differences between vehicle types.\n",
    "\n",
    "Note: Take account of how many people there are for each driver age/vehicle type combination. Remember that every cell in the results you use for the chi-squared test should have a value of at least 5.\n",
    "\n",
    "The solution is in the [`16.3solutions`](16.3solutions.ipynb) Notebook."
   ]
  },
  {
   "cell_type": "code",
   "execution_count": null,
   "metadata": {
    "collapsed": true,
    "run_control": {
     "read_only": false
    }
   },
   "outputs": [],
   "source": [
    "# Insert your solution here."
   ]
  },
  {
   "cell_type": "markdown",
   "metadata": {
    "activity": "activity"
   },
   "source": [
    "## Activity 4\n",
    "It's a bit of a cliché that middle-aged men suffer a mid-life crisis and deal with it by buying a large motorbike in a vain attempt to recapture their lost youth. Does this actually happen?\n",
    "\n",
    "Develop a map-reduce query to show the number of accidents involving motorcycles, split by age of driver, sex of driver, and capacity of motorcycle.\n",
    "\n",
    "Do the proportions of motorcycle engine size vary by age? Use a statistical test to see if any change is significant. As the numbers of male and female riders are very different, do this test for all riders, and treating male and female riders separately.\n",
    "\n",
    "Notes: \n",
    "\n",
    "* You're after vehicle types 2-5 inclusive.\n",
    "* This query is right on the limit of what this VM will support. When you do the map-reduce, restrict the results to just 2011 and 2012, rather than all the data. Add `query = {'Datetime': {\"$gte\": datetime.datetime(2011, 1, 1)}}` to the `map_reduce()` call.\n",
    "\n",
    "The solution is in the [`16.3solutions`](16.3solutions.ipynb) Notebook."
   ]
  },
  {
   "cell_type": "code",
   "execution_count": null,
   "metadata": {
    "collapsed": true,
    "run_control": {
     "read_only": false
    }
   },
   "outputs": [],
   "source": [
    "# Insert your solution here."
   ]
  },
  {
   "cell_type": "markdown",
   "metadata": {},
   "source": [
    "## Clean up"
   ]
  },
  {
   "cell_type": "code",
   "execution_count": null,
   "metadata": {
    "collapsed": false,
    "run_control": {
     "read_only": false
    }
   },
   "outputs": [],
   "source": [
    "!sudo /etc/mongo-shards-down\n",
    "!sudo service mongod start"
   ]
  },
  {
   "cell_type": "markdown",
   "metadata": {
    "collapsed": true,
    "run_control": {
     "read_only": false
    }
   },
   "source": [
    "## What next?\n",
    "If you are working through this Notebook as part of an inline exercise, return to the module materials now.\n",
    "\n",
    "If you are working through this set of Notebooks as a whole, you've completed the Part 16 Notebooks."
   ]
  }
 ],
 "metadata": {
  "kernelspec": {
   "display_name": "Python 3",
   "language": "python",
   "name": "python3"
  },
  "language_info": {
   "codemirror_mode": {
    "name": "ipython",
    "version": 3
   },
   "file_extension": ".py",
   "mimetype": "text/x-python",
   "name": "python",
   "nbconvert_exporter": "python",
   "pygments_lexer": "ipython3",
   "version": "3.4.3"
  }
 },
 "nbformat": 4,
 "nbformat_minor": 0
}
