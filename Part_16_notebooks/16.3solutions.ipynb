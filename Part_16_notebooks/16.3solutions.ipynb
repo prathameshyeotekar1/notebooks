{
 "cells": [
  {
   "cell_type": "markdown",
   "metadata": {
    "commentate": true
   },
   "source": [
    "# Not stand alone\n",
    "In contrast to most \"solution\" notebooks, this notebook isn't stand-alone. That's because running the MongoDB cluster means you shouldn't be running several notebooks at once. To see the results of these solutions, you'll have to copy to code into the [[`16.3 Accident analysis map-reduce`](16.1 Accident analysis map-reduce.ipynb) notebook."
   ]
  },
  {
   "cell_type": "markdown",
   "metadata": {
    "run_control": {
     "read_only": false
    }
   },
   "source": [
    "# Activity 1"
   ]
  },
  {
   "cell_type": "markdown",
   "metadata": {},
   "source": [
    "This follows very closely the example using local authorities."
   ]
  },
  {
   "cell_type": "code",
   "execution_count": null,
   "metadata": {
    "collapsed": true,
    "run_control": {
     "read_only": false
    }
   },
   "outputs": [],
   "source": [
    "mapper = Code(\"\"\"\n",
    "    function () {\n",
    "        emit({police_force : this.Police_Force, year : this.Datetime.getFullYear()}, \n",
    "            {Number_of_Casualties: this.Number_of_Casualties});\n",
    "    }\n",
    "\"\"\")"
   ]
  },
  {
   "cell_type": "code",
   "execution_count": null,
   "metadata": {
    "collapsed": true,
    "run_control": {
     "read_only": false
    }
   },
   "outputs": [],
   "source": [
    "reducer = Code(\"\"\"\n",
    "    function(key, emits) {\n",
    "        var total = {Number_of_Casualties : 0}\n",
    "        for (var i in emits) {\n",
    "            total.Number_of_Casualties += emits[i].Number_of_Casualties;\n",
    "        }\n",
    "        return total;\n",
    "    }\n",
    "\"\"\")"
   ]
  },
  {
   "cell_type": "code",
   "execution_count": null,
   "metadata": {
    "collapsed": true,
    "run_control": {
     "read_only": false
    }
   },
   "outputs": [],
   "source": [
    "result = accidents.map_reduce(mapper, reducer, 'myresults')\n",
    "result"
   ]
  },
  {
   "cell_type": "code",
   "execution_count": null,
   "metadata": {
    "collapsed": true,
    "run_control": {
     "read_only": false
    }
   },
   "outputs": [],
   "source": [
    "[r for r in result.find(limit=5)]"
   ]
  },
  {
   "cell_type": "code",
   "execution_count": null,
   "metadata": {
    "collapsed": true,
    "run_control": {
     "read_only": false
    }
   },
   "outputs": [],
   "source": [
    "casualties_by_pf_year_long_df = pd.DataFrame([\n",
    "    {'District name': label_of['Police_Force', r['_id']['police_force']],\n",
    "     'District code': r['_id']['police_force'],\n",
    "     'Year': datetime.datetime(int(r['_id']['year']), 12, 31),\n",
    "     'Number_of_Casualties': r['value']['Number_of_Casualties']}\n",
    "    for r in result.find()])\n",
    "casualties_by_pf_year_long_df"
   ]
  },
  {
   "cell_type": "code",
   "execution_count": null,
   "metadata": {
    "collapsed": true,
    "run_control": {
     "read_only": false
    }
   },
   "outputs": [],
   "source": [
    "casualties_by_pf_year_df = casualties_by_pf_year_long_df.pivot('Year', 'District name', 'Number_of_Casualties')\n",
    "casualties_by_pf_year_df"
   ]
  },
  {
   "cell_type": "code",
   "execution_count": null,
   "metadata": {
    "collapsed": true,
    "run_control": {
     "read_only": false
    }
   },
   "outputs": [],
   "source": [
    "casualties_by_pf_year_df['Thames Valley'].plot()"
   ]
  },
  {
   "cell_type": "code",
   "execution_count": null,
   "metadata": {
    "collapsed": true,
    "run_control": {
     "read_only": false
    }
   },
   "outputs": [],
   "source": [
    "casualties_by_pf_year_df['Thames Valley'].plot(ylim=(0, casualties_by_pf_year_df['Thames Valley'].max() * 1.1))"
   ]
  },
  {
   "cell_type": "markdown",
   "metadata": {},
   "source": [
    "# Activity 2"
   ]
  },
  {
   "cell_type": "code",
   "execution_count": null,
   "metadata": {
    "collapsed": true,
    "run_control": {
     "read_only": false
    }
   },
   "outputs": [],
   "source": [
    "mapper = Code(\"\"\"\n",
    "    function () {\n",
    "        emit({month : this.Datetime.getMonth(), year : this.Datetime.getFullYear()}, \n",
    "            {Number_of_Accidents: 1});\n",
    "    }\n",
    "\"\"\")"
   ]
  },
  {
   "cell_type": "code",
   "execution_count": null,
   "metadata": {
    "collapsed": true,
    "run_control": {
     "read_only": false
    }
   },
   "outputs": [],
   "source": [
    "reducer = Code(\"\"\"\n",
    "    function(key, emits) {\n",
    "        var total = {Number_of_Accidents : 0}\n",
    "        for (var i in emits) {\n",
    "            total.Number_of_Accidents += emits[i].Number_of_Accidents;\n",
    "        }\n",
    "        return total;\n",
    "    }\n",
    "\"\"\")"
   ]
  },
  {
   "cell_type": "code",
   "execution_count": null,
   "metadata": {
    "collapsed": true,
    "run_control": {
     "read_only": false
    }
   },
   "outputs": [],
   "source": [
    "result = accidents.map_reduce(mapper, reducer, 'myresults')\n",
    "result"
   ]
  },
  {
   "cell_type": "code",
   "execution_count": null,
   "metadata": {
    "collapsed": true,
    "run_control": {
     "read_only": false
    }
   },
   "outputs": [],
   "source": [
    "result.find().count()"
   ]
  },
  {
   "cell_type": "code",
   "execution_count": null,
   "metadata": {
    "collapsed": true,
    "run_control": {
     "read_only": false
    }
   },
   "outputs": [],
   "source": [
    "[r for r in result.find(limit=5)]"
   ]
  },
  {
   "cell_type": "code",
   "execution_count": null,
   "metadata": {
    "collapsed": true,
    "run_control": {
     "read_only": false
    }
   },
   "outputs": [],
   "source": [
    "accidents_by_month_mr_ss = pd.Series({datetime.datetime(int(m['_id']['year']), \n",
    "                                      int(m['_id']['month']+1), 1): \n",
    "                    m['value']['Number_of_Accidents'] for m in result.find()})\n",
    "# A hack to change the dates to the end of the month\n",
    "accidents_by_month_mr_ss.index = accidents_by_month_mr_ss.index.to_period('M').to_timestamp('M')\n",
    "accidents_by_month_mr_ss"
   ]
  },
  {
   "cell_type": "code",
   "execution_count": null,
   "metadata": {
    "collapsed": true,
    "run_control": {
     "read_only": false
    }
   },
   "outputs": [],
   "source": [
    "pd.DataFrame({'aggregation': accidents_by_month_ap_ss, 'map-reduce': accidents_by_month_mr_ss}).plot()"
   ]
  },
  {
   "cell_type": "markdown",
   "metadata": {},
   "source": [
    "Compare the two results and see if they're the same."
   ]
  },
  {
   "cell_type": "code",
   "execution_count": null,
   "metadata": {
    "collapsed": true,
    "run_control": {
     "read_only": false
    }
   },
   "outputs": [],
   "source": [
    "(accidents_by_month_ap_ss - accidents_by_month_mr_ss).sum()"
   ]
  },
  {
   "cell_type": "code",
   "execution_count": null,
   "metadata": {
    "collapsed": true,
    "run_control": {
     "read_only": false
    }
   },
   "outputs": [],
   "source": [
    "(accidents_by_month_ap_ss - accidents_by_month_mr_ss).plot()"
   ]
  },
  {
   "cell_type": "markdown",
   "metadata": {},
   "source": [
    "# Activity 3"
   ]
  },
  {
   "cell_type": "code",
   "execution_count": null,
   "metadata": {
    "collapsed": true,
    "run_control": {
     "read_only": false
    }
   },
   "outputs": [],
   "source": [
    "mapper = Code(\"\"\"\n",
    "    function () {\n",
    "        for (var i in this.Vehicles) {\n",
    "            emit({age_band : this.Vehicles[i].Age_Band_of_Driver, vehicle_type : this.Vehicles[i].Vehicle_Type}, \n",
    "                {count: 1});\n",
    "        }\n",
    "    }\n",
    "\"\"\")"
   ]
  },
  {
   "cell_type": "code",
   "execution_count": null,
   "metadata": {
    "collapsed": true,
    "run_control": {
     "read_only": false
    }
   },
   "outputs": [],
   "source": [
    "reducer = Code(\"\"\"\n",
    "    function(key, emits) {\n",
    "        var total = {count : 0}\n",
    "        for (var i in emits) {\n",
    "            total.count += emits[i].count;\n",
    "        }\n",
    "        return total;\n",
    "    }\n",
    "\"\"\")"
   ]
  },
  {
   "cell_type": "code",
   "execution_count": null,
   "metadata": {
    "collapsed": true,
    "run_control": {
     "read_only": false
    }
   },
   "outputs": [],
   "source": [
    "result = accidents.map_reduce(mapper, reducer, 'myresults')\n",
    "result"
   ]
  },
  {
   "cell_type": "code",
   "execution_count": null,
   "metadata": {
    "collapsed": true,
    "run_control": {
     "read_only": false
    }
   },
   "outputs": [],
   "source": [
    "[r for r in result.find(limit=20)]"
   ]
  },
  {
   "cell_type": "code",
   "execution_count": null,
   "metadata": {
    "collapsed": true,
    "run_control": {
     "read_only": false
    }
   },
   "outputs": [],
   "source": [
    "drivers_by_age_vtype_long_df = pd.DataFrame([\n",
    "        {'Age_Band_of_Driver': r['_id']['age_band'],\n",
    "         'Vehicle_Type': r['_id']['vehicle_type'],\n",
    "         'Number_of_Drivers': r['value']['count']}\n",
    "        for r in result.find()\n",
    "    ])\n",
    "drivers_by_age_vtype_long_df"
   ]
  },
  {
   "cell_type": "code",
   "execution_count": null,
   "metadata": {
    "collapsed": true,
    "run_control": {
     "read_only": false
    }
   },
   "outputs": [],
   "source": [
    "drivers_by_age_vtype_df = drivers_by_age_vtype_long_df.pivot('Age_Band_of_Driver', \n",
    "                                                             'Vehicle_Type', \n",
    "                                                             'Number_of_Drivers')\n",
    "drivers_by_age_vtype_df.index = [label_of['Age_Band_of_Driver', i] \n",
    "                                                 for i in drivers_by_age_vtype_df.index]\n",
    "drivers_by_age_vtype_df.columns = [label_of['Vehicle_Type', c] \n",
    "                                     for c in drivers_by_age_vtype_df.columns]\n",
    "drivers_by_age_vtype_df.fillna(0, inplace=True)\n",
    "drivers_by_age_vtype_df "
   ]
  },
  {
   "cell_type": "code",
   "execution_count": null,
   "metadata": {
    "collapsed": true,
    "run_control": {
     "read_only": false
    }
   },
   "outputs": [],
   "source": [
    "ax = drivers_by_age_vtype_df.plot(kind='bar')\n",
    "ax.legend(loc='center left', bbox_to_anchor=(1, 0.5))"
   ]
  },
  {
   "cell_type": "code",
   "execution_count": null,
   "metadata": {
    "collapsed": true,
    "run_control": {
     "read_only": false
    }
   },
   "outputs": [],
   "source": [
    "ax = drivers_by_age_vtype_df.loc[['26 - 35', '36 - 45', '46 - 55']].plot(kind='bar')\n",
    "ax.legend(loc='center left', bbox_to_anchor=(1, 0.5))"
   ]
  },
  {
   "cell_type": "code",
   "execution_count": null,
   "metadata": {
    "collapsed": true,
    "run_control": {
     "read_only": false
    }
   },
   "outputs": [],
   "source": [
    "ax = drivers_by_age_vtype_df['Car'].plot(kind='bar')\n",
    "ax.legend(loc='center left', bbox_to_anchor=(1, 0.5))"
   ]
  },
  {
   "cell_type": "markdown",
   "metadata": {},
   "source": [
    "Don't include rows and columns with too few values in a cell: there are too few to generate meaningful results.\n",
    "\n",
    "Start by dropping drivers aged 15 and under."
   ]
  },
  {
   "cell_type": "code",
   "execution_count": null,
   "metadata": {
    "collapsed": true,
    "run_control": {
     "read_only": false
    }
   },
   "outputs": [],
   "source": [
    "small_dav_df = drivers_by_age_vtype_df.iloc[4:]\n",
    "small_dav_df"
   ]
  },
  {
   "cell_type": "markdown",
   "metadata": {},
   "source": [
    "Then keep only the columns where every cell has at least 5 items."
   ]
  },
  {
   "cell_type": "code",
   "execution_count": null,
   "metadata": {
    "collapsed": true,
    "run_control": {
     "read_only": false
    }
   },
   "outputs": [],
   "source": [
    "small_dav_df = small_dav_df.loc[:, (small_dav_df > 5).all(axis=0) ]\n",
    "small_dav_df"
   ]
  },
  {
   "cell_type": "code",
   "execution_count": null,
   "metadata": {
    "collapsed": true,
    "run_control": {
     "read_only": false
    }
   },
   "outputs": [],
   "source": [
    "expected_dav_df = pd.DataFrame({c: {r: (small_dav_df[c].sum() * \n",
    "                                                small_dav_df.loc[r].sum() / \n",
    "                                                small_dav_df.sum().sum() )\n",
    "                  for r in small_dav_df[c].index} \n",
    "              for c in small_dav_df}\n",
    ")\n",
    "expected_dav_df"
   ]
  },
  {
   "cell_type": "code",
   "execution_count": null,
   "metadata": {
    "collapsed": true,
    "run_control": {
     "read_only": false
    }
   },
   "outputs": [],
   "source": [
    "scipy.stats.chisquare(small_dav_df, expected_dav_df, axis=None)"
   ]
  },
  {
   "cell_type": "markdown",
   "metadata": {},
   "source": [
    "This is an extremely small _p_ value, so we can reject the null hypothesis that age band of driver and vehicle type are independent."
   ]
  },
  {
   "cell_type": "markdown",
   "metadata": {},
   "source": [
    "# Activity 4"
   ]
  },
  {
   "cell_type": "code",
   "execution_count": null,
   "metadata": {
    "collapsed": true,
    "run_control": {
     "read_only": false
    }
   },
   "outputs": [],
   "source": [
    "mapper = Code(\"\"\"\n",
    "    function () {\n",
    "        for (var i in this.Vehicles) {\n",
    "            if (this.Vehicles[i].Vehicle_Type >= 2 && this.Vehicles[i].Vehicle_Type <= 5) {\n",
    "                emit({age_band : this.Vehicles[i].Age_Band_of_Driver, \n",
    "                        vehicle_type : this.Vehicles[i].Vehicle_Type,\n",
    "                        sex : this.Vehicles[i].Sex_of_Driver}, \n",
    "                    {count : 1});\n",
    "            }\n",
    "        }\n",
    "    }\n",
    "\"\"\")"
   ]
  },
  {
   "cell_type": "code",
   "execution_count": null,
   "metadata": {
    "collapsed": true,
    "run_control": {
     "read_only": false
    }
   },
   "outputs": [],
   "source": [
    "reducer = Code(\"\"\"\n",
    "    function(key, emits) {\n",
    "        var total = {count : 0}\n",
    "        for (var i in emits) {\n",
    "            total.count += emits[i].count;\n",
    "        }\n",
    "        return total;\n",
    "    }\n",
    "\"\"\")"
   ]
  },
  {
   "cell_type": "code",
   "execution_count": null,
   "metadata": {
    "collapsed": true,
    "run_control": {
     "read_only": false
    }
   },
   "outputs": [],
   "source": [
    "result = accidents.map_reduce(mapper, reducer, 'myresults',\n",
    "                              query = {'Datetime': {\"$gte\": datetime.datetime(2011, 1, 1)}})\n",
    "result"
   ]
  },
  {
   "cell_type": "code",
   "execution_count": null,
   "metadata": {
    "collapsed": false,
    "run_control": {
     "read_only": false
    }
   },
   "outputs": [],
   "source": [
    "[r for r in result.find(limit=5)]"
   ]
  },
  {
   "cell_type": "code",
   "execution_count": null,
   "metadata": {
    "collapsed": false,
    "run_control": {
     "read_only": false
    },
    "scrolled": true
   },
   "outputs": [],
   "source": [
    "riders_by_age_vtype_sex_long_df = pd.DataFrame([\n",
    "        {'Age_Band': r['_id']['age_band'],\n",
    "         'Vehicle_Type': r['_id']['vehicle_type'],\n",
    "         'Sex': r['_id']['sex'],\n",
    "         'n': r['value']['count']}\n",
    "        for r in result.find()\n",
    "    ])\n",
    "riders_by_age_vtype_sex_long_df"
   ]
  },
  {
   "cell_type": "code",
   "execution_count": null,
   "metadata": {
    "collapsed": false,
    "run_control": {
     "read_only": false
    }
   },
   "outputs": [],
   "source": [
    "riders_by_age_vtype_sex_df = riders_by_age_vtype_sex_long_df.pivot_table(\n",
    "    columns=['Age_Band', 'Sex'],\n",
    "    index='Vehicle_Type',\n",
    "    values='n')\n",
    "riders_by_age_vtype_sex_df"
   ]
  },
  {
   "cell_type": "code",
   "execution_count": null,
   "metadata": {
    "collapsed": false,
    "run_control": {
     "read_only": false
    }
   },
   "outputs": [],
   "source": [
    "riders_by_age_vtype_sex_df.index = [label_of['Vehicle_Type', i] \n",
    "                                    for i in riders_by_age_vtype_sex_df.index]\n",
    "riders_by_age_vtype_sex_df"
   ]
  },
  {
   "cell_type": "code",
   "execution_count": null,
   "metadata": {
    "collapsed": false,
    "run_control": {
     "read_only": false
    }
   },
   "outputs": [],
   "source": [
    "riders_by_age_vtype_sex_df.columns.set_levels(\n",
    "    [label_of['Age_Band_of_Driver', a] \n",
    "     for a in riders_by_age_vtype_sex_df.columns.levels[0]], 0, inplace=True)\n",
    "riders_by_age_vtype_sex_df.columns.set_levels(\n",
    "    [label_of['Sex_of_Driver', a] \n",
    "     for a in riders_by_age_vtype_sex_df.columns.levels[1]], 1, inplace=True)\n",
    "riders_by_age_vtype_sex_df"
   ]
  },
  {
   "cell_type": "code",
   "execution_count": null,
   "metadata": {
    "collapsed": false,
    "run_control": {
     "read_only": false
    }
   },
   "outputs": [],
   "source": [
    "riders_avs_df = riders_by_age_vtype_sex_df.loc[:, (slice('16 - 20','56 - 65'), ['Male','Female'])]\n",
    "riders_avs_df"
   ]
  },
  {
   "cell_type": "markdown",
   "metadata": {
    "collapsed": true,
    "run_control": {
     "read_only": false
    }
   },
   "source": [
    "Plot the data for men and women separately. Note the different numbers of accidents."
   ]
  },
  {
   "cell_type": "code",
   "execution_count": null,
   "metadata": {
    "collapsed": false,
    "run_control": {
     "read_only": false
    }
   },
   "outputs": [],
   "source": [
    "ax = riders_avs_df.T.xs('Female', level='Sex').plot()\n",
    "ax.legend(loc='center left', bbox_to_anchor=(1, 0.5))"
   ]
  },
  {
   "cell_type": "code",
   "execution_count": null,
   "metadata": {
    "collapsed": false,
    "run_control": {
     "read_only": false
    }
   },
   "outputs": [],
   "source": [
    "ax = riders_avs_df.T.xs('Male', level='Sex').plot()\n",
    "ax.legend(loc='center left', bbox_to_anchor=(1, 0.5))"
   ]
  },
  {
   "cell_type": "markdown",
   "metadata": {},
   "source": [
    "It certainly looks like there's an excess of accidents involving men in their 40s on powerful motorbikes."
   ]
  },
  {
   "cell_type": "code",
   "execution_count": null,
   "metadata": {
    "collapsed": false,
    "run_control": {
     "read_only": false
    }
   },
   "outputs": [],
   "source": [
    "expected_riders_avs_df = pd.DataFrame({c: {r: (riders_avs_df[c].sum() * \n",
    "                                                riders_avs_df.loc[r].sum() / \n",
    "                                                riders_avs_df.sum().sum() )\n",
    "                  for r in riders_avs_df[c].index} \n",
    "              for c in riders_avs_df}\n",
    ")\n",
    "expected_riders_avs_df.columns.names = ['Age band', 'Sex']\n",
    "expected_riders_avs_df.plot()\n",
    "expected_riders_avs_df"
   ]
  },
  {
   "cell_type": "code",
   "execution_count": null,
   "metadata": {
    "collapsed": false,
    "run_control": {
     "read_only": false
    }
   },
   "outputs": [],
   "source": [
    "riders_avs_f_df = riders_avs_df.xs('Female', level='Sex', axis=1)\n",
    "expected_riders_avs_f_df = pd.DataFrame({c: {r: (riders_avs_f_df[c].sum() * \n",
    "                                                riders_avs_f_df.loc[r].sum() / \n",
    "                                                riders_avs_f_df.sum().sum() )\n",
    "                  for r in riders_avs_f_df[c].index} \n",
    "              for c in riders_avs_f_df}\n",
    ")\n",
    "expected_riders_avs_f_df.plot()\n",
    "expected_riders_avs_f_df"
   ]
  },
  {
   "cell_type": "code",
   "execution_count": null,
   "metadata": {
    "collapsed": false,
    "run_control": {
     "read_only": false
    }
   },
   "outputs": [],
   "source": [
    "riders_avs_m_df = riders_avs_df.xs('Male', level='Sex', axis=1)\n",
    "expected_riders_avs_m_df = pd.DataFrame({c: {r: (riders_avs_m_df[c].sum() * \n",
    "                                                riders_avs_m_df.loc[r].sum() / \n",
    "                                                riders_avs_m_df.sum().sum() )\n",
    "                  for r in riders_avs_m_df[c].index} \n",
    "              for c in riders_avs_m_df}\n",
    ")\n",
    "expected_riders_avs_m_df.plot()\n",
    "expected_riders_avs_m_df"
   ]
  },
  {
   "cell_type": "code",
   "execution_count": null,
   "metadata": {
    "collapsed": false,
    "run_control": {
     "read_only": false
    }
   },
   "outputs": [],
   "source": [
    "scipy.stats.chisquare(riders_avs_df, expected_riders_avs_df, axis=None)"
   ]
  },
  {
   "cell_type": "code",
   "execution_count": null,
   "metadata": {
    "collapsed": false,
    "run_control": {
     "read_only": false
    }
   },
   "outputs": [],
   "source": [
    "scipy.stats.chisquare(riders_avs_f_df, expected_riders_avs_f_df, axis=None)"
   ]
  },
  {
   "cell_type": "code",
   "execution_count": null,
   "metadata": {
    "collapsed": false,
    "run_control": {
     "read_only": false
    }
   },
   "outputs": [],
   "source": [
    "scipy.stats.chisquare(riders_avs_m_df, expected_riders_avs_m_df, axis=None)"
   ]
  },
  {
   "cell_type": "markdown",
   "metadata": {
    "collapsed": true,
    "run_control": {
     "read_only": false
    }
   },
   "source": [
    "In all cases, the mix of motorcycles ridden does change significantly with age of rider."
   ]
  }
 ],
 "metadata": {
  "kernelspec": {
   "display_name": "Python 3",
   "language": "python",
   "name": "python3"
  },
  "language_info": {
   "codemirror_mode": {
    "name": "ipython",
    "version": 3
   },
   "file_extension": ".py",
   "mimetype": "text/x-python",
   "name": "python",
   "nbconvert_exporter": "python",
   "pygments_lexer": "ipython3",
   "version": "3.4.3"
  }
 },
 "nbformat": 4,
 "nbformat_minor": 0
}
