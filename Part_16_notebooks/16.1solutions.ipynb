{
 "cells": [
  {
   "cell_type": "markdown",
   "metadata": {
    "commentate": true
   },
   "source": [
    "# Not stand alone\n",
    "In contrast to most \"solution\" notebooks, this notebook isn't stand-alone. That's because running the MongoDB cluster means you shouldn't be running several notebooks at once. To see the results of these solutions, you'll have to copy to code into the [[`16.1 Accidents over time`](16.1 Accidents over time.ipynb) notebook."
   ]
  },
  {
   "cell_type": "markdown",
   "metadata": {
    "run_control": {
     "read_only": false
    }
   },
   "source": [
    "# Activity 1"
   ]
  },
  {
   "cell_type": "code",
   "execution_count": null,
   "metadata": {
    "collapsed": false,
    "run_control": {
     "read_only": false
    }
   },
   "outputs": [],
   "source": [
    "# Solution\n",
    "pipeline = [\n",
    "    {'$group': {'_id': '$AADFYear',\n",
    "                'count': {'$sum': '$FdAll_MV'}}},\n",
    "    {'$sort': {'_id': 1}}\n",
    "]\n",
    "results = list(roads.aggregate(pipeline))\n",
    "results"
   ]
  },
  {
   "cell_type": "code",
   "execution_count": null,
   "metadata": {
    "collapsed": true,
    "run_control": {
     "read_only": false
    }
   },
   "outputs": [],
   "source": [
    "traffic_volume_by_year = pd.Series([y['count'] for y in results], \n",
    "          index=pd.to_datetime([datetime.datetime(y['_id'], 12, 31) for y in results]))\n",
    "traffic_volume_by_year.plot()"
   ]
  },
  {
   "cell_type": "markdown",
   "metadata": {},
   "source": [
    "Let's take the traffic for just 2009–12, and plot it with zero on the *y*-axis."
   ]
  },
  {
   "cell_type": "code",
   "execution_count": null,
   "metadata": {
    "collapsed": true,
    "run_control": {
     "read_only": false
    }
   },
   "outputs": [],
   "source": [
    "pipeline = [\n",
    "    {'$match': {'AADFYear': {'$lte': 2012}}},\n",
    "    {'$group': {'_id': '$AADFYear',\n",
    "                'count': {'$sum': '$FdAll_MV'}}},\n",
    "    {'$sort': {'_id': 1}}\n",
    "]\n",
    "results = list(roads.aggregate(pipeline))\n",
    "traffic_volume_by_year = pd.Series([y['count'] for y in results], \n",
    "          index=pd.to_datetime([datetime.datetime(y['_id'], 12, 31) for y in results]))\n",
    "traffic_volume_by_year.plot(ylim=(0, traffic_volume_by_year.max() * 1.1))"
   ]
  },
  {
   "cell_type": "markdown",
   "metadata": {},
   "source": [
    "Traffic rates barely changed over the same period. It looks like some accident prevention methods have worked. "
   ]
  },
  {
   "cell_type": "markdown",
   "metadata": {
    "run_control": {
     "read_only": false
    }
   },
   "source": [
    "# Activity 2"
   ]
  },
  {
   "cell_type": "code",
   "execution_count": null,
   "metadata": {
    "collapsed": true,
    "run_control": {
     "read_only": false
    }
   },
   "outputs": [],
   "source": [
    "# Generate the data.\n",
    "pipeline = [\n",
    "    {'$project': {'Accident_Severity': '$Accident_Severity',\n",
    "                  'year': {'$year': '$Datetime'}}},\n",
    "    {'$group': {'_id': {'Accident_Severity': '$Accident_Severity',\n",
    "                        'year': '$year'},\n",
    "                'count': {'$sum': 1}}},\n",
    "    {'$sort': {'_id': 1}}\n",
    "]\n",
    "results = list(accidents.aggregate(pipeline))\n",
    "results"
   ]
  },
  {
   "cell_type": "code",
   "execution_count": null,
   "metadata": {
    "collapsed": true,
    "run_control": {
     "read_only": false
    }
   },
   "outputs": [],
   "source": [
    "severity_by_year_long_df = pd.DataFrame([\n",
    "        {'Accident_Severity': r['_id']['Accident_Severity'],\n",
    "         'year': r['_id']['year'],\n",
    "         'count': r['count']}\n",
    "        for r in results\n",
    "    ])\n",
    "severity_by_year_long_df"
   ]
  },
  {
   "cell_type": "code",
   "execution_count": null,
   "metadata": {
    "collapsed": true,
    "run_control": {
     "read_only": false
    }
   },
   "outputs": [],
   "source": [
    "severity_by_year_df = severity_by_year_long_df.pivot('year', 'Accident_Severity', 'count')\n",
    "severity_by_year_df.columns = [label_of['Accident_Severity', c] for c in severity_by_year_df.columns]\n",
    "severity_by_year_df"
   ]
  },
  {
   "cell_type": "code",
   "execution_count": null,
   "metadata": {
    "collapsed": true,
    "run_control": {
     "read_only": false
    }
   },
   "outputs": [],
   "source": [
    "severity_by_year_df.plot()"
   ]
  },
  {
   "cell_type": "markdown",
   "metadata": {},
   "source": [
    "The trends are difficult to spot because there are so many more slight accidents compared to the other types. What if we plot the trends using different y axes?"
   ]
  },
  {
   "cell_type": "code",
   "execution_count": null,
   "metadata": {
    "collapsed": true,
    "run_control": {
     "read_only": false
    }
   },
   "outputs": [],
   "source": [
    "severity_by_year_df['Slight'].plot(legend=True)\n",
    "severity_by_year_df['Serious'].plot(secondary_y=True, legend=True)\n",
    "severity_by_year_df['Fatal'].plot(secondary_y=True, legend=True)"
   ]
  },
  {
   "cell_type": "markdown",
   "metadata": {
    "collapsed": true,
    "run_control": {
     "read_only": false
    }
   },
   "source": [
    "This plot shows that the numbers of fatal and serious accidents have declined slightly faster than slight accidents. \n",
    "\n",
    "Now we have the data, do pairwise Pearson's *R*<sup>2</sup> tests to see if the correlations are significant. If the mix of accidents changes, we should expect to see non-significant correlations."
   ]
  },
  {
   "cell_type": "code",
   "execution_count": null,
   "metadata": {
    "collapsed": true,
    "run_control": {
     "read_only": false
    }
   },
   "outputs": [],
   "source": [
    "scipy.stats.pearsonr(severity_by_year_df['Slight'], severity_by_year_df['Serious'])"
   ]
  },
  {
   "cell_type": "code",
   "execution_count": null,
   "metadata": {
    "collapsed": true,
    "run_control": {
     "read_only": false
    }
   },
   "outputs": [],
   "source": [
    "scipy.stats.pearsonr(severity_by_year_df['Slight'], severity_by_year_df['Fatal'])"
   ]
  },
  {
   "cell_type": "code",
   "execution_count": null,
   "metadata": {
    "collapsed": true,
    "run_control": {
     "read_only": false
    }
   },
   "outputs": [],
   "source": [
    "scipy.stats.pearsonr(severity_by_year_df['Serious'], severity_by_year_df['Fatal'])"
   ]
  },
  {
   "cell_type": "markdown",
   "metadata": {},
   "source": [
    "These results all have _p_ values (the second of the two returned) greater than 0.05, so we cannot reject the null hypothesis that the trends are uncorrelated. In other words, we cannot say that the proportions of accidents have remained the same."
   ]
  }
 ],
 "metadata": {
  "kernelspec": {
   "display_name": "Python 3",
   "language": "python",
   "name": "python3"
  },
  "language_info": {
   "codemirror_mode": {
    "name": "ipython",
    "version": 3
   },
   "file_extension": ".py",
   "mimetype": "text/x-python",
   "name": "python",
   "nbconvert_exporter": "python",
   "pygments_lexer": "ipython3",
   "version": "3.4.3"
  }
 },
 "nbformat": 4,
 "nbformat_minor": 0
}
