{
 "cells": [
  {
   "cell_type": "code",
   "execution_count": null,
   "metadata": {
    "collapsed": true,
    "run_control": {
     "read_only": false
    }
   },
   "outputs": [],
   "source": [
    "# Import the required libraries\n",
    "\n",
    "import pymongo\n",
    "import datetime\n",
    "import collections\n",
    "\n",
    "import pandas as pd\n",
    "import scipy.stats"
   ]
  },
  {
   "cell_type": "code",
   "execution_count": null,
   "metadata": {
    "collapsed": true,
    "run_control": {
     "read_only": false
    }
   },
   "outputs": [],
   "source": [
    "# Open a connection to the Mongo server, open the accidents database and name the collections of accidents and labels\n",
    "client = pymongo.MongoClient('mongodb://localhost:27351/')\n",
    "\n",
    "db = client.accidents\n",
    "accidents = db.accidents\n",
    "labels = db.labels"
   ]
  },
  {
   "cell_type": "code",
   "execution_count": null,
   "metadata": {
    "collapsed": true,
    "run_control": {
     "read_only": false
    }
   },
   "outputs": [],
   "source": [
    "# Load the expanded names of keys and human-readable codes into memory\n",
    "\n",
    "expanded_name = collections.defaultdict(str)\n",
    "for e in labels.find({'expanded': {\"$exists\": True}}):\n",
    "    expanded_name[e['label']] = e['expanded']\n",
    "    \n",
    "label_of = collections.defaultdict(str)\n",
    "for l in labels.find({'codes': {\"$exists\": True}}):\n",
    "    for c in l['codes']:\n",
    "        try:\n",
    "            label_of[l['label'], int(c)] = l['codes'][c]\n",
    "        except ValueError: \n",
    "            label_of[l['label'], c] = l['codes'][c]"
   ]
  },
  {
   "cell_type": "markdown",
   "metadata": {
    "run_control": {
     "read_only": false
    }
   },
   "source": [
    "# Activity 1"
   ]
  },
  {
   "cell_type": "code",
   "execution_count": null,
   "metadata": {
    "collapsed": false,
    "run_control": {
     "read_only": false
    }
   },
   "outputs": [],
   "source": [
    "big_accidents = [a for a in accidents.find({'Number_of_Casualties': {'$gt': 8}}, \n",
    "                                           ['Accident_Index', \n",
    "                                            'Number_of_Casualties', 'Number_of_Vehicles', \n",
    "                                            'Vehicles.Vehicle_Type', 'Vehicles.Vehicle_Reference', \n",
    "                                            'Casualties.Vehicle_Reference'])]\n",
    "len(big_accidents)"
   ]
  },
  {
   "cell_type": "code",
   "execution_count": null,
   "metadata": {
    "collapsed": false,
    "run_control": {
     "read_only": false
    }
   },
   "outputs": [],
   "source": [
    "big_accidents"
   ]
  },
  {
   "cell_type": "code",
   "execution_count": null,
   "metadata": {
    "collapsed": false,
    "run_control": {
     "read_only": false
    }
   },
   "outputs": [],
   "source": [
    "for a in big_accidents:\n",
    "    print('Acc index {}; {} casualties, {} vehicles'.format(a['Accident_Index'], \n",
    "                                                            a['Number_of_Casualties'], \n",
    "                                                            a['Number_of_Vehicles']))\n",
    "    for v in a['Vehicles']:\n",
    "        print('\\t{}: {} casualties'.format(label_of[('Vehicle_Type', v['Vehicle_Type'])].split()[0],\n",
    "                                           len([c \n",
    "                                                for c in a['Casualties'] \n",
    "                                                if c['Vehicle_Reference'] == v['Vehicle_Reference']])\n",
    "                                           ))"
   ]
  },
  {
   "cell_type": "markdown",
   "metadata": {},
   "source": [
    "Many of these involve buses and minibuses, which explains why the accidents with the most casualties have few vehicles: they're all the passengers on a bus."
   ]
  },
  {
   "cell_type": "markdown",
   "metadata": {},
   "source": [
    "# Activity 2"
   ]
  },
  {
   "cell_type": "code",
   "execution_count": null,
   "metadata": {
    "collapsed": false,
    "run_control": {
     "read_only": false
    }
   },
   "outputs": [],
   "source": [
    "# What are the vehicle types?\n",
    "[(code, label_of[(key, code)]) for key, code in label_of if key == 'Vehicle_Type']"
   ]
  },
  {
   "cell_type": "code",
   "execution_count": null,
   "metadata": {
    "collapsed": false,
    "run_control": {
     "read_only": false
    }
   },
   "outputs": [],
   "source": [
    "# Build a DataFrame, one row for each accident\n",
    "coach_unrolled_df = pd.DataFrame(list(accidents.find({'Vehicles.Vehicle_Type': {'$in': [10, 11]}}, \n",
    "                                                       ['Number_of_Casualties', 'Number_of_Vehicles'])))\n",
    "len(coach_unrolled_df)"
   ]
  },
  {
   "cell_type": "code",
   "execution_count": null,
   "metadata": {
    "collapsed": false,
    "run_control": {
     "read_only": false
    }
   },
   "outputs": [],
   "source": [
    "# Build a DataFrame, one row for each accident\n",
    "non_coach_unrolled_df = pd.DataFrame(list(accidents.find({'Vehicles.Vehicle_Type': {'$not': {'$in': [10, 11]}}}, \n",
    "                                                       ['Number_of_Casualties', 'Number_of_Vehicles'])))\n",
    "len(non_coach_unrolled_df)"
   ]
  },
  {
   "cell_type": "markdown",
   "metadata": {},
   "source": [
    "Check we've got them all ..."
   ]
  },
  {
   "cell_type": "code",
   "execution_count": null,
   "metadata": {
    "collapsed": false,
    "run_control": {
     "read_only": false
    }
   },
   "outputs": [],
   "source": [
    "len(coach_unrolled_df) + len(non_coach_unrolled_df) == accidents.find().count()"
   ]
  },
  {
   "cell_type": "markdown",
   "metadata": {},
   "source": [
    "### Find the regression for non-coach accidents"
   ]
  },
  {
   "cell_type": "code",
   "execution_count": null,
   "metadata": {
    "collapsed": false,
    "run_control": {
     "read_only": false
    },
    "scrolled": true
   },
   "outputs": [],
   "source": [
    "# Count the number of each severity\n",
    "coach_df = pd.crosstab(coach_unrolled_df['Number_of_Casualties'], \n",
    "                                      coach_unrolled_df['Number_of_Vehicles'])\n",
    "coach_df"
   ]
  },
  {
   "cell_type": "code",
   "execution_count": null,
   "metadata": {
    "collapsed": false,
    "run_control": {
     "read_only": false
    }
   },
   "outputs": [],
   "source": [
    "coach_regressionline = scipy.stats.linregress(coach_unrolled_df['Number_of_Casualties'],\n",
    "                                       coach_unrolled_df['Number_of_Vehicles'])\n",
    "\n",
    "# The regression line is of the form y = m x + b\n",
    "coach_m = coach_regressionline[0]\n",
    "coach_b = coach_regressionline[1]\n",
    "(coach_m, coach_b)"
   ]
  },
  {
   "cell_type": "code",
   "execution_count": null,
   "metadata": {
    "collapsed": false,
    "run_control": {
     "read_only": false
    }
   },
   "outputs": [],
   "source": [
    "# Reshape\n",
    "coach_long_df = coach_df.stack().reset_index()\n",
    "coach_long_df\n",
    "\n",
    "plt.scatter(coach_long_df['Number_of_Casualties'], \n",
    "            coach_long_df['Number_of_Vehicles'],\n",
    "            s=np.sqrt(coach_long_df[0])*1.5,\n",
    "            alpha=0.5\n",
    "            )\n",
    "\n",
    "x = np.linspace(0, 30, 20)\n",
    "plt.plot(x, coach_m*x + coach_b)\n",
    "\n",
    "plt.xlabel('Number of casualties')\n",
    "plt.ylabel('Number of vehicles')\n",
    "plt.show()"
   ]
  },
  {
   "cell_type": "code",
   "execution_count": null,
   "metadata": {
    "collapsed": false,
    "run_control": {
     "read_only": false
    }
   },
   "outputs": [],
   "source": [
    "scipy.stats.pearsonr(coach_unrolled_df['Number_of_Casualties'], \n",
    "                     coach_unrolled_df['Number_of_Vehicles'])"
   ]
  },
  {
   "cell_type": "markdown",
   "metadata": {},
   "source": [
    "This shows very little correlation, and the extremely small *p* value means we can reject the null hypothesis that the number of casualties is independent of the number of vehicles. In other words, there's small but real correlation: more vehicles leads to more casualties."
   ]
  },
  {
   "cell_type": "markdown",
   "metadata": {},
   "source": [
    "### Find the regression for coach accidents"
   ]
  },
  {
   "cell_type": "code",
   "execution_count": null,
   "metadata": {
    "collapsed": false,
    "run_control": {
     "read_only": false
    }
   },
   "outputs": [],
   "source": [
    "# Count the number of each severity\n",
    "non_coach_df = pd.crosstab(non_coach_unrolled_df['Number_of_Casualties'], \n",
    "                                      non_coach_unrolled_df['Number_of_Vehicles'])\n",
    "non_coach_df"
   ]
  },
  {
   "cell_type": "code",
   "execution_count": null,
   "metadata": {
    "collapsed": false,
    "run_control": {
     "read_only": false
    }
   },
   "outputs": [],
   "source": [
    "non_coach_regressionline = scipy.stats.linregress(non_coach_unrolled_df['Number_of_Casualties'],\n",
    "                                       non_coach_unrolled_df['Number_of_Vehicles'])\n",
    "\n",
    "# The regression line is of the form y = m x + b\n",
    "non_coach_m = non_coach_regressionline[0]\n",
    "non_coach_b = non_coach_regressionline[1]\n",
    "(non_coach_m, non_coach_b)"
   ]
  },
  {
   "cell_type": "code",
   "execution_count": null,
   "metadata": {
    "collapsed": false,
    "run_control": {
     "read_only": false
    }
   },
   "outputs": [],
   "source": [
    "# Reshape\n",
    "non_coach_long_df = non_coach_df.stack().reset_index()\n",
    "non_coach_long_df\n",
    "\n",
    "plt.scatter(non_coach_long_df['Number_of_Casualties'], \n",
    "            non_coach_long_df['Number_of_Vehicles'],\n",
    "            s=np.sqrt(non_coach_long_df[0])*1.5,\n",
    "            alpha=0.5\n",
    "            )\n",
    "\n",
    "x = np.linspace(0, 30, 20)\n",
    "plt.plot(x, non_coach_m*x + non_coach_b)\n",
    "\n",
    "plt.xlabel('Number of casualties')\n",
    "plt.ylabel('Number of vehicles')\n",
    "plt.show()"
   ]
  },
  {
   "cell_type": "code",
   "execution_count": null,
   "metadata": {
    "collapsed": false,
    "run_control": {
     "read_only": false
    }
   },
   "outputs": [],
   "source": [
    "scipy.stats.pearsonr(non_coach_unrolled_df['Number_of_Casualties'], \n",
    "                     non_coach_unrolled_df['Number_of_Vehicles'])"
   ]
  },
  {
   "cell_type": "markdown",
   "metadata": {},
   "source": [
    "This shows even less correlation than the case for non-coach accidents. Again, the very small *p* value means we can reject the null hypothesis that the number of casualties is independent of the number of vehicles. In other words, there's a slight, but real, correlation, between the number of vehicles and the number of accidents."
   ]
  }
 ],
 "metadata": {
  "kernelspec": {
   "display_name": "Python 3",
   "language": "python",
   "name": "python3"
  },
  "language_info": {
   "codemirror_mode": {
    "name": "ipython",
    "version": 3
   },
   "file_extension": ".py",
   "mimetype": "text/x-python",
   "name": "python",
   "nbconvert_exporter": "python",
   "pygments_lexer": "ipython3",
   "version": "3.4.3"
  }
 },
 "nbformat": 4,
 "nbformat_minor": 0
}
