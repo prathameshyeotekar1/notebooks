{
 "cells": [
  {
   "cell_type": "markdown",
   "metadata": {},
   "source": [
    "# Basic CRUD\n",
    "\n",
    "This Notebook will take you through a few basic operations with a dummy database, just to see how the basic CRUD (Create, Read, Update, Delete) operations work.\n",
    "\n",
    "We're using the [PyMongo](http://api.mongodb.org/python/current/) module to allow Python to connect to MongoDB. The Notebooks in the module will describe most of the features of PyMongo you need, but you should refer to the [API documentation](http://api.mongodb.org/python/current/api/index.html) as necessary to understand the detail and nuance of PyMongo. PyMongo is also a fairly thin wrapper on MongoDB, so you may need to refer to the [MongoDB reference](http://docs.mongodb.org/manual/reference/) for some of the details and *MongoDB: The Definitive Guide* for context and background.\n",
    "\n",
    "This Notebook only covers the basic of CRUD operations. You'll use more sophisticated queries in Parts 15 and 16."
   ]
  },
  {
   "cell_type": "code",
   "execution_count": 1,
   "metadata": {
    "activity": false,
    "collapsed": false,
    "run_control": {
     "read_only": false
    }
   },
   "outputs": [],
   "source": [
    "# Import the required libraries\n",
    "\n",
    "import pymongo\n",
    "from datetime import datetime\n",
    "\n",
    "import pandas as pd"
   ]
  },
  {
   "cell_type": "code",
   "execution_count": 2,
   "metadata": {
    "activity": false,
    "collapsed": false,
    "run_control": {
     "read_only": false
    }
   },
   "outputs": [],
   "source": [
    "# Open a connection to the Mongo server\n",
    "client = pymongo.MongoClient('mongodb://localhost:27351/')"
   ]
  },
  {
   "cell_type": "code",
   "execution_count": 3,
   "metadata": {
    "collapsed": false,
    "run_control": {
     "read_only": false
    }
   },
   "outputs": [
    {
     "name": "stdout",
     "output_type": "stream",
     "text": [
      "DB doesn't exist yet.\n"
     ]
    }
   ],
   "source": [
    "try:\n",
    "    client.drop_database(dw_db)\n",
    "except NameError:\n",
    "    print(\"DB doesn't exist yet.\")"
   ]
  },
  {
   "cell_type": "code",
   "execution_count": 4,
   "metadata": {
    "activity": false,
    "collapsed": false,
    "run_control": {
     "read_only": false
    }
   },
   "outputs": [],
   "source": [
    "# Create a doctorwho database and a test_collection within it.\n",
    "dw_db = client.doctorwho\n",
    "tc = dw_db.test_collection"
   ]
  },
  {
   "cell_type": "markdown",
   "metadata": {},
   "source": [
    "Note that database and collection creation in MongoDB is *lazy*: the database and collection aren't actually created in the DBMS until the first document is written."
   ]
  },
  {
   "cell_type": "markdown",
   "metadata": {},
   "source": [
    "## Data structures and conversion\n",
    "\n",
    "PyMongo handles automatically most of the translation between Python data structures and the JSON structures that Mongo uses. This table summarises the main equivalences.\n",
    "\n",
    "| Document DB term | JSON structure | Python structure |\n",
    "|------------------|----------------|------------------|\n",
    "| Document or sub-document | Object | dict  |\n",
    "| List | Array | list |\n",
    "| Key | String | string |\n",
    "| String | String | string |\n",
    "| Number | Number | int or float, depending |\n",
    "| Date | Date | datetime.datetime object |\n",
    "| Object IDs | BSON ObjectId | BSON ObjectId |\n",
    "\n",
    "MongoDB uses BSON, a binary version of JSON, internally. You can generally ignore this, except when you want to create new ObjectIds for documents."
   ]
  },
  {
   "cell_type": "markdown",
   "metadata": {},
   "source": [
    "## Create\n",
    "Let's insert a few simple documents, just to get started.\n",
    "\n",
    "Note that keys in a document have to be strings, but the values can be almost anything."
   ]
  },
  {
   "cell_type": "code",
   "execution_count": 5,
   "metadata": {
    "activity": false,
    "collapsed": false,
    "run_control": {
     "read_only": false
    }
   },
   "outputs": [],
   "source": [
    "# Insert a single document\n",
    "tc.insert_one({'name': 'William', 'birthyear': 1908})\n",
    "\n",
    "# Insert a few (zip takes some lists and returns a list of tuples)\n",
    "for n, b in zip('Patrick Jon Tom Peter Colin Sylvester Paul Christopher David Matt Peter'.split(),\n",
    "                [1920, 1919, 1934, 1951, 1943, 1943, 1959, 1964, 1971, 1982, 1958]):\n",
    "    tc.insert_one({'name': n, 'birthyear': b})"
   ]
  },
  {
   "cell_type": "markdown",
   "metadata": {},
   "source": [
    "## Read\n",
    "`find_one()` will return a single (arbitrary) document. Note that Mongo automatically adds an `_id` field to each document. You can override this if you really want to, but we won't bother."
   ]
  },
  {
   "cell_type": "code",
   "execution_count": 6,
   "metadata": {
    "activity": false,
    "collapsed": false,
    "run_control": {
     "read_only": false
    }
   },
   "outputs": [
    {
     "data": {
      "text/plain": [
       "{'_id': ObjectId('58923dbbf203c62f0bfdc891'),\n",
       " 'birthyear': 1908,\n",
       " 'name': 'William'}"
      ]
     },
     "execution_count": 6,
     "metadata": {},
     "output_type": "execute_result"
    }
   ],
   "source": [
    "tc.find_one()"
   ]
  },
  {
   "cell_type": "markdown",
   "metadata": {},
   "source": [
    "The `pymongo` library does the type conversion for us:"
   ]
  },
  {
   "cell_type": "code",
   "execution_count": 7,
   "metadata": {
    "activity": false,
    "collapsed": false,
    "run_control": {
     "read_only": false
    }
   },
   "outputs": [
    {
     "data": {
      "text/plain": [
       "dict"
      ]
     },
     "execution_count": 7,
     "metadata": {},
     "output_type": "execute_result"
    }
   ],
   "source": [
    "type(tc.find_one())"
   ]
  },
  {
   "cell_type": "markdown",
   "metadata": {},
   "source": [
    "If we give a dict of some key-value pairs, `find_one()` will return a document that matches them.\n",
    "\n",
    "This is **selecting**, choosing only the documents we're interested in."
   ]
  },
  {
   "cell_type": "code",
   "execution_count": 8,
   "metadata": {
    "activity": false,
    "collapsed": false,
    "run_control": {
     "read_only": false
    }
   },
   "outputs": [
    {
     "data": {
      "text/plain": [
       "{'_id': ObjectId('58923dbbf203c62f0bfdc895'),\n",
       " 'birthyear': 1951,\n",
       " 'name': 'Peter'}"
      ]
     },
     "execution_count": 8,
     "metadata": {},
     "output_type": "execute_result"
    }
   ],
   "source": [
    "tc.find_one({'name': 'Peter'})"
   ]
  },
  {
   "cell_type": "markdown",
   "metadata": {
    "activity": "activityAns"
   },
   "source": [
    "### Activity 1\n",
    "Find a document for someone born in 1943.\n",
    "\n",
    "The solution is in the [`14.1solutions`](14.1solutions.ipynb) Notebook."
   ]
  },
  {
   "cell_type": "code",
   "execution_count": 10,
   "metadata": {
    "activity": false,
    "collapsed": false,
    "run_control": {
     "read_only": false
    }
   },
   "outputs": [
    {
     "data": {
      "text/plain": [
       "{'_id': ObjectId('58923dbbf203c62f0bfdc896'),\n",
       " 'birthyear': 1943,\n",
       " 'name': 'Colin'}"
      ]
     },
     "execution_count": 10,
     "metadata": {},
     "output_type": "execute_result"
    }
   ],
   "source": [
    "# Insert your solution here\n",
    "tc.find_one({'birthyear':1943})"
   ]
  },
  {
   "cell_type": "markdown",
   "metadata": {},
   "source": [
    "`find()` will find all the documents that match the query, and returns a cursor that can be iterated over to retrieve the documents one by one. Again, the query acts to **select** the documents we want."
   ]
  },
  {
   "cell_type": "code",
   "execution_count": 11,
   "metadata": {
    "activity": false,
    "collapsed": false,
    "run_control": {
     "read_only": false
    }
   },
   "outputs": [
    {
     "data": {
      "text/plain": [
       "<pymongo.cursor.Cursor at 0xafeed74c>"
      ]
     },
     "execution_count": 11,
     "metadata": {},
     "output_type": "execute_result"
    }
   ],
   "source": [
    "tc.find({'name': 'Peter'})"
   ]
  },
  {
   "cell_type": "markdown",
   "metadata": {},
   "source": [
    "This returns a PyMongo `cursor` object, which acts like an iterable in most cases. \n",
    "\n",
    "If we convert the `cursor` to a `list`, we get a list of `dict`s that are the found documents. Just look at a few, to save waiting for Jupyter to display the result.)"
   ]
  },
  {
   "cell_type": "code",
   "execution_count": 12,
   "metadata": {
    "collapsed": false,
    "run_control": {
     "read_only": false
    }
   },
   "outputs": [
    {
     "data": {
      "text/plain": [
       "[{'_id': ObjectId('58923dbbf203c62f0bfdc895'),\n",
       "  'birthyear': 1951,\n",
       "  'name': 'Peter'},\n",
       " {'_id': ObjectId('58923dbbf203c62f0bfdc89c'),\n",
       "  'birthyear': 1958,\n",
       "  'name': 'Peter'}]"
      ]
     },
     "execution_count": 12,
     "metadata": {},
     "output_type": "execute_result"
    }
   ],
   "source": [
    "list(tc.find({'name': 'Peter'}))"
   ]
  },
  {
   "cell_type": "markdown",
   "metadata": {},
   "source": [
    "We can iterate directly over the cursor, but this is a one-pass-only process. The cursor remembers where it is in the set of results and carries on from there. For instance, if we ask for some items and print them:"
   ]
  },
  {
   "cell_type": "code",
   "execution_count": 13,
   "metadata": {
    "activity": false,
    "collapsed": false,
    "run_control": {
     "read_only": false
    }
   },
   "outputs": [
    {
     "name": "stdout",
     "output_type": "stream",
     "text": [
      "{'name': 'Peter', '_id': ObjectId('58923dbbf203c62f0bfdc895'), 'birthyear': 1951}\n",
      "{'name': 'Peter', '_id': ObjectId('58923dbbf203c62f0bfdc89c'), 'birthyear': 1958}\n"
     ]
    }
   ],
   "source": [
    "cursor = tc.find({'name': 'Peter'})\n",
    "for p in cursor:\n",
    "    print(p)"
   ]
  },
  {
   "cell_type": "markdown",
   "metadata": {},
   "source": [
    "…and then try to print them again, we get nothing: all the results have already been processed."
   ]
  },
  {
   "cell_type": "code",
   "execution_count": 14,
   "metadata": {
    "activity": false,
    "collapsed": false,
    "run_control": {
     "read_only": false
    }
   },
   "outputs": [],
   "source": [
    "for p in cursor:\n",
    "    print(p)"
   ]
  },
  {
   "cell_type": "markdown",
   "metadata": {},
   "source": [
    "This manual handling of cursors isn't that useful, as we'll generally be consuming the entire set of returned documents all at once. But if the dataset is very large, you'll need to repeatedly consume and process part of the results, summarising as you go. Parts 15 and 16 will show you other ways of handling very large datasets in Mongo."
   ]
  },
  {
   "cell_type": "markdown",
   "metadata": {},
   "source": [
    "The cursor can tell us how many documents will match the query."
   ]
  },
  {
   "cell_type": "code",
   "execution_count": 15,
   "metadata": {
    "activity": false,
    "collapsed": false,
    "run_control": {
     "read_only": false
    }
   },
   "outputs": [
    {
     "data": {
      "text/plain": [
       "2"
      ]
     },
     "execution_count": 15,
     "metadata": {},
     "output_type": "execute_result"
    }
   ],
   "source": [
    "tc.find({'name': 'Peter'}).count()"
   ]
  },
  {
   "cell_type": "code",
   "execution_count": 16,
   "metadata": {
    "collapsed": false,
    "run_control": {
     "read_only": false
    }
   },
   "outputs": [
    {
     "data": {
      "text/plain": [
       "12"
      ]
     },
     "execution_count": 16,
     "metadata": {},
     "output_type": "execute_result"
    }
   ],
   "source": [
    "tc.find().count()"
   ]
  },
  {
   "cell_type": "markdown",
   "metadata": {},
   "source": [
    "An optional second argument to `find()` specifies the key-value pairs to return. If you give a list of keys, `find()` will return just those plus the `_id`. \n",
    "\n",
    "This is how PyMongo does **projection**, returning only some parts of the found documents."
   ]
  },
  {
   "cell_type": "code",
   "execution_count": 17,
   "metadata": {
    "activity": false,
    "collapsed": false,
    "run_control": {
     "read_only": false
    }
   },
   "outputs": [
    {
     "name": "stdout",
     "output_type": "stream",
     "text": [
      "{'_id': ObjectId('58923dbbf203c62f0bfdc895'), 'birthyear': 1951}\n",
      "{'_id': ObjectId('58923dbbf203c62f0bfdc89c'), 'birthyear': 1958}\n"
     ]
    }
   ],
   "source": [
    "for p in tc.find({'name': 'Peter'}, ['birthyear']):\n",
    "    print(p)"
   ]
  },
  {
   "cell_type": "markdown",
   "metadata": {},
   "source": [
    "You'll notice that Mongo returns the document `_id`. It always does that unless we specifically ask it not to. \n",
    "\n",
    "The 'list of keys' notation is a shorthand for the full specification for which keys to return. Mongo expects a dict of keys to include or exclude. If the keys in that projection specification have a value `1`, the key is included; if they have a value `0`, they're excluded. You can only include or exclude keys in one projection (i.e. all 1s or all 0s), with the exception of the `_id` key. (See _MongoDB: The Definitive Guide_ for details).\n",
    "\n",
    "For instance, the previous query could be specified as:"
   ]
  },
  {
   "cell_type": "code",
   "execution_count": 18,
   "metadata": {
    "collapsed": false,
    "run_control": {
     "read_only": false
    }
   },
   "outputs": [
    {
     "name": "stdout",
     "output_type": "stream",
     "text": [
      "{'_id': ObjectId('58923dbbf203c62f0bfdc895'), 'birthyear': 1951}\n",
      "{'_id': ObjectId('58923dbbf203c62f0bfdc89c'), 'birthyear': 1958}\n"
     ]
    }
   ],
   "source": [
    "for p in tc.find({'name': 'Peter'}, {'birthyear': 1}):\n",
    "    print(p)"
   ]
  },
  {
   "cell_type": "markdown",
   "metadata": {},
   "source": [
    "or, to exclude the `_id`:"
   ]
  },
  {
   "cell_type": "code",
   "execution_count": 19,
   "metadata": {
    "collapsed": false,
    "run_control": {
     "read_only": false
    }
   },
   "outputs": [
    {
     "name": "stdout",
     "output_type": "stream",
     "text": [
      "{'birthyear': 1951}\n",
      "{'birthyear': 1958}\n"
     ]
    }
   ],
   "source": [
    "for p in tc.find({'name': 'Peter'}, {'birthyear': 1, '_id': 0}):\n",
    "    print(p)"
   ]
  },
  {
   "cell_type": "markdown",
   "metadata": {
    "activity": "activityAns"
   },
   "source": [
    "### Activity 2\n",
    "How many people were born in 1943? What are their names?\n",
    "\n",
    "\n",
    "The solution is in the [`14.1solutions`](14.1solutions.ipynb) Notebook."
   ]
  },
  {
   "cell_type": "code",
   "execution_count": 21,
   "metadata": {
    "activity": false,
    "collapsed": false,
    "run_control": {
     "read_only": false
    }
   },
   "outputs": [
    {
     "data": {
      "text/plain": [
       "2"
      ]
     },
     "execution_count": 21,
     "metadata": {},
     "output_type": "execute_result"
    }
   ],
   "source": [
    "# Insert your solution here\n",
    "tc.find({'birthyear':1943}).count()"
   ]
  },
  {
   "cell_type": "markdown",
   "metadata": {},
   "source": [
    "We can also limit the number of documents returned by `find()` by using the `limit` keyword argument. This is very useful when exploring large datasets and we're developing queries. \n",
    "\n",
    "The ordering of documents is arbitrary, so in the example below we can't dictate which three documents will be retrieved."
   ]
  },
  {
   "cell_type": "code",
   "execution_count": 22,
   "metadata": {
    "collapsed": false,
    "run_control": {
     "read_only": false
    }
   },
   "outputs": [
    {
     "name": "stdout",
     "output_type": "stream",
     "text": [
      "{'name': 'William', '_id': ObjectId('58923dbbf203c62f0bfdc891'), 'birthyear': 1908}\n",
      "{'name': 'Patrick', '_id': ObjectId('58923dbbf203c62f0bfdc892'), 'birthyear': 1920}\n",
      "{'name': 'Jon', '_id': ObjectId('58923dbbf203c62f0bfdc893'), 'birthyear': 1919}\n",
      "{'name': 'Tom', '_id': ObjectId('58923dbbf203c62f0bfdc894'), 'birthyear': 1934}\n",
      "{'name': 'Colin', '_id': ObjectId('58923dbbf203c62f0bfdc896'), 'birthyear': 1943}\n",
      "{'name': 'Sylvester', '_id': ObjectId('58923dbbf203c62f0bfdc897'), 'birthyear': 1943}\n"
     ]
    }
   ],
   "source": [
    "for p in tc.find({'birthyear': {'$lt': 1950}}, ['name', 'birthyear']):\n",
    "    print(p)"
   ]
  },
  {
   "cell_type": "code",
   "execution_count": 23,
   "metadata": {
    "collapsed": false,
    "run_control": {
     "read_only": false
    }
   },
   "outputs": [
    {
     "name": "stdout",
     "output_type": "stream",
     "text": [
      "{'name': 'William', '_id': ObjectId('58923dbbf203c62f0bfdc891'), 'birthyear': 1908}\n",
      "{'name': 'Patrick', '_id': ObjectId('58923dbbf203c62f0bfdc892'), 'birthyear': 1920}\n",
      "{'name': 'Jon', '_id': ObjectId('58923dbbf203c62f0bfdc893'), 'birthyear': 1919}\n"
     ]
    }
   ],
   "source": [
    "for p in tc.find({'birthyear': {'$lt': 1950}}, ['name', 'birthyear'], limit=3):\n",
    "    print(p)"
   ]
  },
  {
   "cell_type": "markdown",
   "metadata": {},
   "source": [
    "### Reading into DataFrames\n",
    "We can create a _pandas_ DataFrame from a `list` of `dicts`, where each key in the `dict`s becomes a column in the DataFrame. This means we can convert the results of the `find()` directly into a _pandas_ DataFrame. (Note the `list` lurking in the middle.)"
   ]
  },
  {
   "cell_type": "code",
   "execution_count": 24,
   "metadata": {
    "collapsed": false,
    "run_control": {
     "read_only": false
    }
   },
   "outputs": [
    {
     "data": {
      "text/html": [
       "<div>\n",
       "<table border=\"1\" class=\"dataframe\">\n",
       "  <thead>\n",
       "    <tr style=\"text-align: right;\">\n",
       "      <th></th>\n",
       "      <th>_id</th>\n",
       "      <th>birthyear</th>\n",
       "      <th>name</th>\n",
       "    </tr>\n",
       "  </thead>\n",
       "  <tbody>\n",
       "    <tr>\n",
       "      <th>0</th>\n",
       "      <td>58923dbbf203c62f0bfdc891</td>\n",
       "      <td>1908</td>\n",
       "      <td>William</td>\n",
       "    </tr>\n",
       "    <tr>\n",
       "      <th>1</th>\n",
       "      <td>58923dbbf203c62f0bfdc892</td>\n",
       "      <td>1920</td>\n",
       "      <td>Patrick</td>\n",
       "    </tr>\n",
       "    <tr>\n",
       "      <th>2</th>\n",
       "      <td>58923dbbf203c62f0bfdc893</td>\n",
       "      <td>1919</td>\n",
       "      <td>Jon</td>\n",
       "    </tr>\n",
       "    <tr>\n",
       "      <th>3</th>\n",
       "      <td>58923dbbf203c62f0bfdc894</td>\n",
       "      <td>1934</td>\n",
       "      <td>Tom</td>\n",
       "    </tr>\n",
       "    <tr>\n",
       "      <th>4</th>\n",
       "      <td>58923dbbf203c62f0bfdc895</td>\n",
       "      <td>1951</td>\n",
       "      <td>Peter</td>\n",
       "    </tr>\n",
       "    <tr>\n",
       "      <th>5</th>\n",
       "      <td>58923dbbf203c62f0bfdc896</td>\n",
       "      <td>1943</td>\n",
       "      <td>Colin</td>\n",
       "    </tr>\n",
       "    <tr>\n",
       "      <th>6</th>\n",
       "      <td>58923dbbf203c62f0bfdc897</td>\n",
       "      <td>1943</td>\n",
       "      <td>Sylvester</td>\n",
       "    </tr>\n",
       "    <tr>\n",
       "      <th>7</th>\n",
       "      <td>58923dbbf203c62f0bfdc898</td>\n",
       "      <td>1959</td>\n",
       "      <td>Paul</td>\n",
       "    </tr>\n",
       "    <tr>\n",
       "      <th>8</th>\n",
       "      <td>58923dbbf203c62f0bfdc899</td>\n",
       "      <td>1964</td>\n",
       "      <td>Christopher</td>\n",
       "    </tr>\n",
       "    <tr>\n",
       "      <th>9</th>\n",
       "      <td>58923dbbf203c62f0bfdc89a</td>\n",
       "      <td>1971</td>\n",
       "      <td>David</td>\n",
       "    </tr>\n",
       "    <tr>\n",
       "      <th>10</th>\n",
       "      <td>58923dbbf203c62f0bfdc89b</td>\n",
       "      <td>1982</td>\n",
       "      <td>Matt</td>\n",
       "    </tr>\n",
       "    <tr>\n",
       "      <th>11</th>\n",
       "      <td>58923dbbf203c62f0bfdc89c</td>\n",
       "      <td>1958</td>\n",
       "      <td>Peter</td>\n",
       "    </tr>\n",
       "  </tbody>\n",
       "</table>\n",
       "</div>"
      ],
      "text/plain": [
       "                         _id  birthyear         name\n",
       "0   58923dbbf203c62f0bfdc891       1908      William\n",
       "1   58923dbbf203c62f0bfdc892       1920      Patrick\n",
       "2   58923dbbf203c62f0bfdc893       1919          Jon\n",
       "3   58923dbbf203c62f0bfdc894       1934          Tom\n",
       "4   58923dbbf203c62f0bfdc895       1951        Peter\n",
       "5   58923dbbf203c62f0bfdc896       1943        Colin\n",
       "6   58923dbbf203c62f0bfdc897       1943    Sylvester\n",
       "7   58923dbbf203c62f0bfdc898       1959         Paul\n",
       "8   58923dbbf203c62f0bfdc899       1964  Christopher\n",
       "9   58923dbbf203c62f0bfdc89a       1971        David\n",
       "10  58923dbbf203c62f0bfdc89b       1982         Matt\n",
       "11  58923dbbf203c62f0bfdc89c       1958        Peter"
      ]
     },
     "execution_count": 24,
     "metadata": {},
     "output_type": "execute_result"
    }
   ],
   "source": [
    "pd.DataFrame(list(tc.find({})))"
   ]
  },
  {
   "cell_type": "markdown",
   "metadata": {},
   "source": [
    "## Update\n",
    "\n",
    "Things have moved on a bit from the _MongoDB: The Definitive Guide_ book. \n",
    "\n",
    "There are now several commands for changing a document. `replace_one()` takes two arguments: a specification of the document to update (in the same way as `find()`) and a document it's replaced with. The entirety of the document is replaced with the one given. If multiple documents match the query, an arbitrary one is replaced.\n",
    "\n",
    "In most cases, you'll want `update_one()` or `update_many()`. These both take two arguments: a specification of the document(s) to update, and a description of the changes to make to those documents. The changes are specified by `$set`, `$push`, and similar operations.\n",
    "\n",
    "All of these operations return an `UpdateResult`, which can be interrogated to find what effect the update had on the collection.\n",
    "\n",
    "Let's say we want to add a surname to one of the records:"
   ]
  },
  {
   "cell_type": "code",
   "execution_count": 25,
   "metadata": {
    "activity": false,
    "collapsed": false,
    "run_control": {
     "read_only": false
    }
   },
   "outputs": [
    {
     "name": "stdout",
     "output_type": "stream",
     "text": [
      "{'name': 'Patrick', '_id': ObjectId('58923dbbf203c62f0bfdc892'), 'birthyear': 1920}\n"
     ]
    }
   ],
   "source": [
    "patrick = tc.find_one({'name': 'Patrick'})\n",
    "print(patrick)"
   ]
  },
  {
   "cell_type": "code",
   "execution_count": 26,
   "metadata": {
    "activity": false,
    "collapsed": false,
    "run_control": {
     "read_only": false
    }
   },
   "outputs": [
    {
     "data": {
      "text/plain": [
       "(1, 1)"
      ]
     },
     "execution_count": 26,
     "metadata": {},
     "output_type": "execute_result"
    }
   ],
   "source": [
    "r = tc.update_one({'name': 'Patrick'}, {'$set': {'surname': 'Troughton'}})\n",
    "r.matched_count, r.modified_count"
   ]
  },
  {
   "cell_type": "markdown",
   "metadata": {},
   "source": [
    "(One document found, one updated.)\n",
    "\n",
    "If we now look for the updated document, we see the change:"
   ]
  },
  {
   "cell_type": "code",
   "execution_count": 27,
   "metadata": {
    "activity": false,
    "collapsed": false,
    "run_control": {
     "read_only": false
    }
   },
   "outputs": [
    {
     "name": "stdout",
     "output_type": "stream",
     "text": [
      "{'name': 'Patrick', '_id': ObjectId('58923dbbf203c62f0bfdc892'), 'surname': 'Troughton', 'birthyear': 1920}\n"
     ]
    }
   ],
   "source": [
    "for p in tc.find({'name': 'Patrick'}):\n",
    "    print(p)"
   ]
  },
  {
   "cell_type": "markdown",
   "metadata": {},
   "source": [
    "To update every document that matches the query, use the `update_many()` operation. (This update just tags some documents with the `multi_updated` key.)"
   ]
  },
  {
   "cell_type": "code",
   "execution_count": 28,
   "metadata": {
    "activity": false,
    "collapsed": false,
    "run_control": {
     "read_only": false
    }
   },
   "outputs": [
    {
     "data": {
      "text/plain": [
       "(2, 2)"
      ]
     },
     "execution_count": 28,
     "metadata": {},
     "output_type": "execute_result"
    }
   ],
   "source": [
    "r = tc.update_many({'name': 'Peter'}, {'$set': {'multi_updated': True}})\n",
    "r.matched_count, r.modified_count"
   ]
  },
  {
   "cell_type": "code",
   "execution_count": 29,
   "metadata": {
    "activity": false,
    "collapsed": false,
    "run_control": {
     "read_only": false
    }
   },
   "outputs": [
    {
     "name": "stdout",
     "output_type": "stream",
     "text": [
      "{'name': 'William', '_id': ObjectId('58923dbbf203c62f0bfdc891'), 'birthyear': 1908}\n",
      "{'name': 'Patrick', '_id': ObjectId('58923dbbf203c62f0bfdc892'), 'surname': 'Troughton', 'birthyear': 1920}\n",
      "{'name': 'Jon', '_id': ObjectId('58923dbbf203c62f0bfdc893'), 'birthyear': 1919}\n",
      "{'name': 'Tom', '_id': ObjectId('58923dbbf203c62f0bfdc894'), 'birthyear': 1934}\n",
      "{'multi_updated': True, 'name': 'Peter', '_id': ObjectId('58923dbbf203c62f0bfdc895'), 'birthyear': 1951}\n",
      "{'name': 'Colin', '_id': ObjectId('58923dbbf203c62f0bfdc896'), 'birthyear': 1943}\n",
      "{'name': 'Sylvester', '_id': ObjectId('58923dbbf203c62f0bfdc897'), 'birthyear': 1943}\n",
      "{'name': 'Paul', '_id': ObjectId('58923dbbf203c62f0bfdc898'), 'birthyear': 1959}\n",
      "{'name': 'Christopher', '_id': ObjectId('58923dbbf203c62f0bfdc899'), 'birthyear': 1964}\n",
      "{'name': 'David', '_id': ObjectId('58923dbbf203c62f0bfdc89a'), 'birthyear': 1971}\n",
      "{'name': 'Matt', '_id': ObjectId('58923dbbf203c62f0bfdc89b'), 'birthyear': 1982}\n",
      "{'multi_updated': True, 'name': 'Peter', '_id': ObjectId('58923dbbf203c62f0bfdc89c'), 'birthyear': 1958}\n"
     ]
    }
   ],
   "source": [
    "for p in tc.find():\n",
    "    print(p)"
   ]
  },
  {
   "cell_type": "markdown",
   "metadata": {},
   "source": [
    "You can see that the two Peters were updated. \n",
    "\n",
    "We can remove the additional key with the `$unset` modifier (the value we're updating it to is ignored):"
   ]
  },
  {
   "cell_type": "code",
   "execution_count": 30,
   "metadata": {
    "activity": false,
    "collapsed": false,
    "run_control": {
     "read_only": false
    }
   },
   "outputs": [
    {
     "name": "stdout",
     "output_type": "stream",
     "text": [
      "{'name': 'William', '_id': ObjectId('58923dbbf203c62f0bfdc891'), 'birthyear': 1908}\n",
      "{'name': 'Patrick', '_id': ObjectId('58923dbbf203c62f0bfdc892'), 'surname': 'Troughton', 'birthyear': 1920}\n",
      "{'name': 'Jon', '_id': ObjectId('58923dbbf203c62f0bfdc893'), 'birthyear': 1919}\n",
      "{'name': 'Tom', '_id': ObjectId('58923dbbf203c62f0bfdc894'), 'birthyear': 1934}\n",
      "{'name': 'Peter', '_id': ObjectId('58923dbbf203c62f0bfdc895'), 'birthyear': 1951}\n",
      "{'name': 'Colin', '_id': ObjectId('58923dbbf203c62f0bfdc896'), 'birthyear': 1943}\n",
      "{'name': 'Sylvester', '_id': ObjectId('58923dbbf203c62f0bfdc897'), 'birthyear': 1943}\n",
      "{'name': 'Paul', '_id': ObjectId('58923dbbf203c62f0bfdc898'), 'birthyear': 1959}\n",
      "{'name': 'Christopher', '_id': ObjectId('58923dbbf203c62f0bfdc899'), 'birthyear': 1964}\n",
      "{'name': 'David', '_id': ObjectId('58923dbbf203c62f0bfdc89a'), 'birthyear': 1971}\n",
      "{'name': 'Matt', '_id': ObjectId('58923dbbf203c62f0bfdc89b'), 'birthyear': 1982}\n",
      "{'name': 'Peter', '_id': ObjectId('58923dbbf203c62f0bfdc89c'), 'birthyear': 1958}\n"
     ]
    }
   ],
   "source": [
    "tc.update_many({'name': 'Peter'}, {'$unset': {'multi_updated': ''}})\n",
    "for p in tc.find():\n",
    "    print(p)"
   ]
  },
  {
   "cell_type": "markdown",
   "metadata": {},
   "source": [
    "The 'many' approach can only give the same value to each matching document. If we want to give a different value to each document, we have to specify each document in turn in the update. This is efficient if we use the document's `_id`, as that's indexed:"
   ]
  },
  {
   "cell_type": "code",
   "execution_count": null,
   "metadata": {
    "activity": false,
    "collapsed": false,
    "run_control": {
     "read_only": false
    }
   },
   "outputs": [],
   "source": [
    "import datetime\n",
    "for p in tc.find():\n",
    "    tc.update_one({'_id': p['_id']}, {'$set': {'age': datetime.datetime.now().year - p['birthyear']}})\n",
    "pd.DataFrame(list(tc.find({},{})))"
   ]
  },
  {
   "cell_type": "markdown",
   "metadata": {
    "activity": "activityAns"
   },
   "source": [
    "### Activity 3\n",
    "Classify the people into two groups. Those born in 1945 or earlier should be labelled as `'age': 'old'`, while the others should be labelled as `'age': 'young'`.\n",
    "\n",
    "Store the results in a new DataFrame.\n",
    "\n",
    "The solution is in the [`14.1solutions`](14.1solutions.ipynb) Notebook."
   ]
  },
  {
   "cell_type": "code",
   "execution_count": 48,
   "metadata": {
    "collapsed": false,
    "run_control": {
     "read_only": false
    }
   },
   "outputs": [
    {
     "data": {
      "text/html": [
       "<div>\n",
       "<table border=\"1\" class=\"dataframe\">\n",
       "  <thead>\n",
       "    <tr style=\"text-align: right;\">\n",
       "      <th></th>\n",
       "      <th>_id</th>\n",
       "      <th>age</th>\n",
       "      <th>birthyear</th>\n",
       "      <th>name</th>\n",
       "      <th>surname</th>\n",
       "    </tr>\n",
       "  </thead>\n",
       "  <tbody>\n",
       "    <tr>\n",
       "      <th>0</th>\n",
       "      <td>58923dbbf203c62f0bfdc891</td>\n",
       "      <td>old</td>\n",
       "      <td>1908</td>\n",
       "      <td>William</td>\n",
       "      <td>NaN</td>\n",
       "    </tr>\n",
       "    <tr>\n",
       "      <th>1</th>\n",
       "      <td>58923dbbf203c62f0bfdc892</td>\n",
       "      <td>old</td>\n",
       "      <td>1920</td>\n",
       "      <td>Patrick</td>\n",
       "      <td>Troughton</td>\n",
       "    </tr>\n",
       "    <tr>\n",
       "      <th>2</th>\n",
       "      <td>58923dbbf203c62f0bfdc893</td>\n",
       "      <td>old</td>\n",
       "      <td>1919</td>\n",
       "      <td>Jon</td>\n",
       "      <td>NaN</td>\n",
       "    </tr>\n",
       "    <tr>\n",
       "      <th>3</th>\n",
       "      <td>58923dbbf203c62f0bfdc894</td>\n",
       "      <td>old</td>\n",
       "      <td>1934</td>\n",
       "      <td>Tom</td>\n",
       "      <td>NaN</td>\n",
       "    </tr>\n",
       "    <tr>\n",
       "      <th>4</th>\n",
       "      <td>58923dbbf203c62f0bfdc895</td>\n",
       "      <td>young</td>\n",
       "      <td>1951</td>\n",
       "      <td>Peter</td>\n",
       "      <td>NaN</td>\n",
       "    </tr>\n",
       "    <tr>\n",
       "      <th>5</th>\n",
       "      <td>58923dbbf203c62f0bfdc896</td>\n",
       "      <td>old</td>\n",
       "      <td>1943</td>\n",
       "      <td>Colin</td>\n",
       "      <td>NaN</td>\n",
       "    </tr>\n",
       "    <tr>\n",
       "      <th>6</th>\n",
       "      <td>58923dbbf203c62f0bfdc897</td>\n",
       "      <td>old</td>\n",
       "      <td>1943</td>\n",
       "      <td>Sylvester</td>\n",
       "      <td>NaN</td>\n",
       "    </tr>\n",
       "    <tr>\n",
       "      <th>7</th>\n",
       "      <td>58923dbbf203c62f0bfdc898</td>\n",
       "      <td>young</td>\n",
       "      <td>1959</td>\n",
       "      <td>Paul</td>\n",
       "      <td>NaN</td>\n",
       "    </tr>\n",
       "    <tr>\n",
       "      <th>8</th>\n",
       "      <td>58923dbbf203c62f0bfdc899</td>\n",
       "      <td>young</td>\n",
       "      <td>1964</td>\n",
       "      <td>Christopher</td>\n",
       "      <td>NaN</td>\n",
       "    </tr>\n",
       "    <tr>\n",
       "      <th>9</th>\n",
       "      <td>58923dbbf203c62f0bfdc89a</td>\n",
       "      <td>young</td>\n",
       "      <td>1971</td>\n",
       "      <td>David</td>\n",
       "      <td>NaN</td>\n",
       "    </tr>\n",
       "    <tr>\n",
       "      <th>10</th>\n",
       "      <td>58923dbbf203c62f0bfdc89b</td>\n",
       "      <td>young</td>\n",
       "      <td>1982</td>\n",
       "      <td>Matt</td>\n",
       "      <td>NaN</td>\n",
       "    </tr>\n",
       "    <tr>\n",
       "      <th>11</th>\n",
       "      <td>58923dbbf203c62f0bfdc89c</td>\n",
       "      <td>young</td>\n",
       "      <td>1958</td>\n",
       "      <td>Peter</td>\n",
       "      <td>NaN</td>\n",
       "    </tr>\n",
       "  </tbody>\n",
       "</table>\n",
       "</div>"
      ],
      "text/plain": [
       "                         _id    age  birthyear         name    surname\n",
       "0   58923dbbf203c62f0bfdc891    old       1908      William        NaN\n",
       "1   58923dbbf203c62f0bfdc892    old       1920      Patrick  Troughton\n",
       "2   58923dbbf203c62f0bfdc893    old       1919          Jon        NaN\n",
       "3   58923dbbf203c62f0bfdc894    old       1934          Tom        NaN\n",
       "4   58923dbbf203c62f0bfdc895  young       1951        Peter        NaN\n",
       "5   58923dbbf203c62f0bfdc896    old       1943        Colin        NaN\n",
       "6   58923dbbf203c62f0bfdc897    old       1943    Sylvester        NaN\n",
       "7   58923dbbf203c62f0bfdc898  young       1959         Paul        NaN\n",
       "8   58923dbbf203c62f0bfdc899  young       1964  Christopher        NaN\n",
       "9   58923dbbf203c62f0bfdc89a  young       1971        David        NaN\n",
       "10  58923dbbf203c62f0bfdc89b  young       1982         Matt        NaN\n",
       "11  58923dbbf203c62f0bfdc89c  young       1958        Peter        NaN"
      ]
     },
     "execution_count": 48,
     "metadata": {},
     "output_type": "execute_result"
    }
   ],
   "source": [
    "# Insert your solution here\n",
    "tc.update_many({'birthyear': {'$lte': 1945}}, {'$set': {'age': 'old'}})\n",
    "tc.update_many({'birthyear': {'$gt': 1945}}, {'$set': {'age': 'young'}})\n",
    "pd.DataFrame(list(tc.find({})))"
   ]
  },
  {
   "cell_type": "markdown",
   "metadata": {},
   "source": [
    "## Embedded documents\n",
    "\n",
    "Values in documents can be themselves documents. For instance, we can encapsulate each person's name in a sub-document."
   ]
  },
  {
   "cell_type": "code",
   "execution_count": 49,
   "metadata": {
    "activity": false,
    "collapsed": false,
    "run_control": {
     "read_only": false
    }
   },
   "outputs": [
    {
     "name": "stdout",
     "output_type": "stream",
     "text": [
      "{'name': {'surname': 'Hartnell', 'forename': 'William'}, '_id': ObjectId('5892437ef203c62f0bfdc89d'), 'birthyear': 1908}\n",
      "{'name': {'surname': 'Troughton', 'forename': 'Patrick'}, '_id': ObjectId('5892437ef203c62f0bfdc89e'), 'birthyear': 1920}\n",
      "{'name': {'surname': 'Pertwee', 'forename': 'Jon'}, '_id': ObjectId('5892437ef203c62f0bfdc89f'), 'birthyear': 1919}\n",
      "{'name': {'surname': 'Baker', 'forename': 'Tom'}, '_id': ObjectId('5892437ef203c62f0bfdc8a0'), 'birthyear': 1934}\n",
      "{'name': {'surname': 'Davison', 'forename': 'Peter'}, '_id': ObjectId('5892437ef203c62f0bfdc8a1'), 'birthyear': 1951}\n",
      "{'name': {'surname': 'Baker', 'forename': 'Colin'}, '_id': ObjectId('5892437ef203c62f0bfdc8a2'), 'birthyear': 1943}\n",
      "{'name': {'surname': 'McCoy', 'forename': 'Sylvester'}, '_id': ObjectId('5892437ef203c62f0bfdc8a3'), 'birthyear': 1943}\n",
      "{'name': {'surname': 'McGann', 'forename': 'Paul'}, '_id': ObjectId('5892437ef203c62f0bfdc8a4'), 'birthyear': 1959}\n",
      "{'name': {'surname': 'Eccleston', 'forename': 'Christopher'}, '_id': ObjectId('5892437ef203c62f0bfdc8a5'), 'birthyear': 1964}\n",
      "{'name': {'surname': 'Tennant', 'forename': 'David'}, '_id': ObjectId('5892437ef203c62f0bfdc8a6'), 'birthyear': 1971}\n",
      "{'name': {'surname': 'Smith', 'forename': 'Matt'}, '_id': ObjectId('5892437ef203c62f0bfdc8a7'), 'birthyear': 1982}\n",
      "{'name': {'surname': 'Capaldi', 'forename': 'Peter'}, '_id': ObjectId('5892437ef203c62f0bfdc8a8'), 'birthyear': 1958}\n"
     ]
    }
   ],
   "source": [
    "tc.drop()\n",
    "# Insert a few\n",
    "for f, s, b in zip('William Patrick Jon Tom Peter Colin Sylvester Paul Christopher David Matt Peter'.split(),\n",
    "                   'Hartnell Troughton Pertwee Baker Davison Baker McCoy McGann Eccleston Tennant Smith Capaldi'.split(),\n",
    "                [1908, 1920, 1919, 1934, 1951, 1943, 1943, 1959, 1964, 1971, 1982, 1958]):\n",
    "    tc.insert_one({'name': {'forename': f, 'surname': s}, 'birthyear': b})\n",
    "for p in tc.find():\n",
    "    print(p)"
   ]
  },
  {
   "cell_type": "markdown",
   "metadata": {},
   "source": [
    "We can also include a list of notable stories for each person. Note the use of the dot notation to identify keys in a sub-document."
   ]
  },
  {
   "cell_type": "code",
   "execution_count": 50,
   "metadata": {
    "activity": false,
    "collapsed": false,
    "run_control": {
     "read_only": false
    }
   },
   "outputs": [
    {
     "data": {
      "text/plain": [
       "(1, 1)"
      ]
     },
     "execution_count": 50,
     "metadata": {},
     "output_type": "execute_result"
    }
   ],
   "source": [
    "r = tc.update_one({'name.forename': 'William', 'name.surname': 'Hartnell'},\n",
    "        {'$set': {'episodes': ['An Unearthly Child', 'The Daleks', 'The Tenth Planet']}})\n",
    "r.matched_count, r.modified_count"
   ]
  },
  {
   "cell_type": "code",
   "execution_count": 51,
   "metadata": {
    "activity": false,
    "collapsed": false,
    "run_control": {
     "read_only": false
    }
   },
   "outputs": [
    {
     "data": {
      "text/plain": [
       "{'_id': ObjectId('5892437ef203c62f0bfdc89d'),\n",
       " 'birthyear': 1908,\n",
       " 'episodes': ['An Unearthly Child', 'The Daleks', 'The Tenth Planet'],\n",
       " 'name': {'forename': 'William', 'surname': 'Hartnell'}}"
      ]
     },
     "execution_count": 51,
     "metadata": {},
     "output_type": "execute_result"
    }
   ],
   "source": [
    "tc.find_one({'name.forename': 'William'})"
   ]
  },
  {
   "cell_type": "markdown",
   "metadata": {},
   "source": [
    "There's lots more information on this in *MongoDB: The Definitive Guide*, the [MongoDB documentation](http://docs.mongodb.org/manual/reference/), and the [PyMongo documentation](http://api.mongodb.org/python/current/api/index.html)."
   ]
  },
  {
   "cell_type": "markdown",
   "metadata": {},
   "source": [
    "# Importing data\n",
    "Now we've seen the basics of how Mongo works, let's import and process a larger dataset.\n",
    "\n",
    "The rest of this Notebook shows you how to import data from CSV files into MongoDB. In this example, we're using the data from the [Ultimate Doctor Who](http://www.ultimatedoctorwho.com/) site, though with some modifications to remove duplicate column names in the file.\n",
    "\n",
    "First, let's take a look at the data in the CSV file."
   ]
  },
  {
   "cell_type": "code",
   "execution_count": 52,
   "metadata": {
    "collapsed": false,
    "run_control": {
     "read_only": false
    }
   },
   "outputs": [
    {
     "name": "stdout",
     "output_type": "stream",
     "text": [
      "Story ID,Year,Season,Title,No. of parts,Pt. 1 air date,Pt. 1 viewers (in millons),Pt. 2 air date,Pt.2 viewers,Pt. 3 air date,Pt.3 viewers,Pt. 4 air date,Pt.4 viewers,Pt.5 air date,Pt. 5 viewers,Pt.6 air date,Pt.6 viewers,Pt. 7 air date,Pt.7 viewers,pt. 8 air date,pt. 8 viewers,pt. 9 air date,pt. 9 viewers,pt. 10 air date,pt. 10 viewers,pt. 11 air date,pt. 11 viewers,pt. 12 air date,pt. 12 viewers,Type of Broadcast,Doctor Number,Doctor,Guest Doctor(s),Companion 1,Companion 2,Companion 3,Companion 4,Companion 5,Companion 6,Companion 7,Companion 8,Appearance of UNIT,Recurring Villains,Firsts\r\n",
      "1,1963,1,An Unearthly Child,4,11/26/63,4.4,11/30/63,5.9,12/7/63,6.9,12/14/63,6.4,,,,,,,,,,,,,,,,,Serial,1,William Hartnell,,Susan Foreman,Barbara Wright,Ian Chesterton,,,,,,,,\r\n",
      "2,1964,1,The Daleks,7,12/21/63,6.9,12/28/13,6.4,1/4/64,8.9,1/11/64,9.9,1/18/64,9.9,1/25/64,10.4,2/1/64,10.4,,,,,,,,,,,Serial,1,William Hartnell,,Susan Foreman,Barbara Wright,Ian Chesterton,,,,,,,Daleks,\r\n",
      "3,1964,1,The Edge of Destruction,2,2/8/64,10.4,2/15/64,9.9,,,,,,,,,,,,,,,,,,,,,Serial,1,William Hartnell,,Susan Foreman,Barbara Wright,Ian Chesterton,,,,,,,,\r\n",
      "4,1964,1,Marco Polo,7,2/22/64,9.4,2/29/64,9.4,3/7/64,9.4,3/14/64,9.9,3/21/64,9.4,3/28/64,8.4,4/4/64,10.4,,,,,,,,,,,Serial,1,William Hartnell,,Susan Foreman,Barbara Wright,Ian Chesterton,,,,,,,,\r\n",
      "5,1964,1,The Keys of Marinus,6,4/11/64,9.9,4/18/64,9.4,4/25/64,9.9,5/2/64,10.4,5/9/64,7.9,5/16/64,6.9,,,,,,,,,,,,,Serial,1,William Hartnell,,Susan Foreman,Barbara Wright,Ian Chesterton,,,,,,,,\r\n",
      "6,1964,1,The Aztecs,4,5/23/64,7.4,5/30/64,7.4,6/6/64,7.9,6/13/64,7.4,,,,,,,,,,,,,,,,,Serial,1,William Hartnell,,Susan Foreman,Barbara Wright,Ian Chesterton,,,,,,,,\r\n",
      "7,1964,1,The Sensorites,6,6/20/64,7.9,6/27/64,6.9,7/11/64,7.4,7/18/64,5.5,7/25/64,6.9,8/1/64,6.9,,,,,,,,,,,,,Serial,1,William Hartnell,,Susan Foreman,Barbara Wright,Ian Chesterton,,,,,,,,\r\n",
      "8,1964,1,The Reign of Terror,6,8/8/64,6.9,8/15/64,6.9,8/22/64,6.9,8/29/64,6.4,9/5/64,6.9,9/12/64,6.4,,,,,,,,,,,,,Serial,1,William Hartnell,,Susan Foreman,Barbara Wright,Ian Chesterton,,,,,,,,\r\n",
      "9,1964,2,Planet of Giants,3,10/31/64,8.4,11/7/64,8.4,11/14/64,8.9,,,,,,,,,,,,,,,,,,,Serial,1,William Hartnell,,Susan Foreman,Barbara Wright,Ian Chesterton,,,,,,,,\r\n"
     ]
    }
   ],
   "source": [
    "!head data/Ultimate_Doctor_Who_resave.csv"
   ]
  },
  {
   "cell_type": "markdown",
   "metadata": {},
   "source": [
    "The command to import files into Mongo is `mongoimport`. It imports a file into a specified collection in the specified database. It takes a number of parameters, but these are the most useful to you:\n",
    "\n",
    "* `drop` drops the collection if it exists already\n",
    "* `db` and `collection` specify where the imported data should go\n",
    "* `headerline` indicates that the first line in the file contains the column names, which will be used as keys for the created documents\n",
    "* `ignoreBlanks` means that keys with empty values will not be created in the imported documents\n",
    "* `file` tells `mongoimport` where the data resides."
   ]
  },
  {
   "cell_type": "code",
   "execution_count": 53,
   "metadata": {
    "collapsed": false,
    "run_control": {
     "read_only": false
    }
   },
   "outputs": [
    {
     "name": "stdout",
     "output_type": "stream",
     "text": [
      "2017-02-01T20:24:45.182+0000\tconnected to: localhost:27351\r\n",
      "2017-02-01T20:24:45.182+0000\tdropping: doctorwho.episodes\r\n",
      "2017-02-01T20:24:45.205+0000\timported 244 documents\r\n"
     ]
    }
   ],
   "source": [
    "!/etc/mongodb/bin/mongoimport --port 27351 --drop --db doctorwho --collection episodes \\\n",
    "    --type csv --headerline --ignoreBlanks \\\n",
    "    --file data/Ultimate_Doctor_Who_resave.csv"
   ]
  },
  {
   "cell_type": "code",
   "execution_count": 54,
   "metadata": {
    "collapsed": true,
    "run_control": {
     "read_only": false
    }
   },
   "outputs": [],
   "source": [
    "# Open the imported database and collection.\n",
    "episodes = dw_db.episodes"
   ]
  },
  {
   "cell_type": "code",
   "execution_count": 55,
   "metadata": {
    "collapsed": false,
    "run_control": {
     "read_only": false
    }
   },
   "outputs": [
    {
     "data": {
      "text/plain": [
       "244"
      ]
     },
     "execution_count": 55,
     "metadata": {},
     "output_type": "execute_result"
    }
   ],
   "source": [
    "episodes.find().count()"
   ]
  },
  {
   "cell_type": "code",
   "execution_count": 56,
   "metadata": {
    "collapsed": false,
    "run_control": {
     "read_only": false
    }
   },
   "outputs": [
    {
     "data": {
      "text/plain": [
       "{'Companion 1': 'Susan Foreman',\n",
       " 'Companion 2': 'Barbara Wright',\n",
       " 'Companion 3': 'Ian Chesterton',\n",
       " 'Doctor': 'William Hartnell',\n",
       " 'Doctor Number': 1,\n",
       " 'No': {' of parts': 4},\n",
       " 'Pt': {' 1 air date': '11/26/63',\n",
       "  ' 1 viewers (in millons)': 4.4,\n",
       "  ' 2 air date': '11/30/63',\n",
       "  ' 3 air date': '12/7/63',\n",
       "  ' 4 air date': '12/14/63',\n",
       "  '2 viewers': 5.9,\n",
       "  '3 viewers': 6.9,\n",
       "  '4 viewers': 6.4},\n",
       " 'Season': 1,\n",
       " 'Story ID': 1,\n",
       " 'Title': 'An Unearthly Child',\n",
       " 'Type of Broadcast': 'Serial',\n",
       " 'Year': 1963,\n",
       " '_id': ObjectId('5892440db563b6cf4c342190')}"
      ]
     },
     "execution_count": 56,
     "metadata": {},
     "output_type": "execute_result"
    }
   ],
   "source": [
    "episodes.find_one()"
   ]
  },
  {
   "cell_type": "markdown",
   "metadata": {},
   "source": [
    "Note that `mongoimport` treats dots in the column names as names of keys within sub-documents, so the column name 'No. of parts' becomes a sub-document within a 'No' key."
   ]
  },
  {
   "cell_type": "markdown",
   "metadata": {},
   "source": [
    "## Cleaning\n",
    "As with most imported data, this dataset needs some cleaning to massage it into shape. For instance, we might want to collect the various companions into one list in the document, while deleting the individual fields.\n",
    "\n",
    "`$push` adds an item to a list (and creates it if it doesn't exist). `$unset` removes a key from a document. This next cell will remove the separate `Companion` key-values and push them into a list of `Companions`."
   ]
  },
  {
   "cell_type": "code",
   "execution_count": 57,
   "metadata": {
    "collapsed": true,
    "run_control": {
     "read_only": false
    }
   },
   "outputs": [],
   "source": [
    "for e in episodes.find():\n",
    "    for key in list(e.keys()):\n",
    "        if key.startswith('Companion '):\n",
    "            episodes.update_one({'_id': e['_id']}, {'$push': {'Companions': e[key]},\n",
    "                                                '$unset': {key: 1}})"
   ]
  },
  {
   "cell_type": "code",
   "execution_count": 58,
   "metadata": {
    "collapsed": false,
    "run_control": {
     "read_only": false
    }
   },
   "outputs": [
    {
     "data": {
      "text/plain": [
       "{'Companions': ['Susan Foreman', 'Ian Chesterton', 'Barbara Wright'],\n",
       " 'Doctor': 'William Hartnell',\n",
       " 'Doctor Number': 1,\n",
       " 'No': {' of parts': 4},\n",
       " 'Pt': {' 1 air date': '11/26/63',\n",
       "  ' 1 viewers (in millons)': 4.4,\n",
       "  ' 2 air date': '11/30/63',\n",
       "  ' 3 air date': '12/7/63',\n",
       "  ' 4 air date': '12/14/63',\n",
       "  '2 viewers': 5.9,\n",
       "  '3 viewers': 6.9,\n",
       "  '4 viewers': 6.4},\n",
       " 'Season': 1,\n",
       " 'Story ID': 1,\n",
       " 'Title': 'An Unearthly Child',\n",
       " 'Type of Broadcast': 'Serial',\n",
       " 'Year': 1963,\n",
       " '_id': ObjectId('5892440db563b6cf4c342190')}"
      ]
     },
     "execution_count": 58,
     "metadata": {},
     "output_type": "execute_result"
    }
   ],
   "source": [
    "episodes.find_one()"
   ]
  },
  {
   "cell_type": "markdown",
   "metadata": {
    "activity": "activity"
   },
   "source": [
    "### Activity 4\n",
    "* Note that this activity is optional, and is more of a programming exercise than really teaching you much about MongoDB. You'll miss nothing by just looking at the solution.\n",
    "\n",
    "Create a list of sub-documents, one for each part. Each part sub-document should contain the part number, air date, and number of viewers. For example:\n",
    "\n",
    "`'Parts': [{'Number': 1, 'Air date': datetime.datetime(1963, 11, 26, 0, 0), 'Viewers': 4.4},\n",
    "    {'Number': 2, 'Air date': datetime.datetime(1963, 11, 30, 0, 0), 'Viewers': 5.9},\n",
    "    {'Number': 3, 'Air date': datetime.datetime(1963, 12, 7, 0, 0), 'Viewers': 6.9},\n",
    "    {'Number': 4, 'Air date': datetime.datetime(1963, 12, 14, 0, 0), 'Viewers': 6.4}]`\n",
    "\n",
    "Note that parts are sometimes identifeid by `Pt`, sometimes by `pt`, and that everything's case sensitive.\n",
    "\n",
    "Note that POSIX date conversions assume that '11/26/63' means 11 November 2063, so you'll need to fiddle with the years. The magic incantation is:\n",
    "\n",
    "`d = datetime.strptime('11/26/63', '%m/%d/%y')\n",
    "d = d.replace(year=(d.year - 100))`\n",
    "\n",
    "(hoping that the year isn't 2400 or 2000).\n",
    "\n",
    "Finally, note that if you update documents while iterating over many of them, Mongo may decide to return the updated document to you later in the same iteration (i.e. you may end up processing the same document more than once). Either check whether a document has been updated before you start processing it again, or use a _snapshot query_ which doesn't exhibit this behaviour. The format for snapshot queries is to include `modifiers={\"$snapshot\": True}` as a keyword parameter to `find()`.\n",
    "\n",
    "The solution is in the [`14.1solutions`](14.1solutions.ipynb) Notebook."
   ]
  },
  {
   "cell_type": "code",
   "execution_count": null,
   "metadata": {
    "collapsed": true,
    "run_control": {
     "read_only": false
    }
   },
   "outputs": [],
   "source": [
    "# Try your code here"
   ]
  },
  {
   "cell_type": "markdown",
   "metadata": {},
   "source": [
    "## Clean up\n",
    "Drop this test database"
   ]
  },
  {
   "cell_type": "code",
   "execution_count": null,
   "metadata": {
    "activity": false,
    "collapsed": false,
    "run_control": {
     "read_only": false
    }
   },
   "outputs": [],
   "source": [
    "client.drop_database(dw_db)"
   ]
  },
  {
   "cell_type": "markdown",
   "metadata": {
    "activity": false,
    "collapsed": false,
    "run_control": {
     "read_only": false
    }
   },
   "source": [
    "## What next?\n",
    "If you are working through this Notebook as part of an inline exercise, return to the module materials now.\n",
    "\n",
    "If you are working through this set of Notebooks as a whole, move on to `14.2 Introduction to accidents`."
   ]
  }
 ],
 "metadata": {
  "kernelspec": {
   "display_name": "Python 3",
   "language": "python",
   "name": "python3"
  },
  "language_info": {
   "codemirror_mode": {
    "name": "ipython",
    "version": 3
   },
   "file_extension": ".py",
   "mimetype": "text/x-python",
   "name": "python",
   "nbconvert_exporter": "python",
   "pygments_lexer": "ipython3",
   "version": "3.4.3"
  }
 },
 "nbformat": 4,
 "nbformat_minor": 0
}
