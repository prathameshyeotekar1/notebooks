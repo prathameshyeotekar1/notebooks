{
 "cells": [
  {
   "cell_type": "markdown",
   "metadata": {},
   "source": [
    "# Introduction to the accidents dataset\n",
    "In this Notebook, you'll take your first look at the accidents dataset. We'll only be looking at the accidents for 2012, as that's all that will fit into the 32-bit MongoDB instance running on the virtual machine. \n",
    "\n",
    "This dataset contains details of every road traffic accident in Britain in 2012. The data is anonymised, but the date, time, and location of the accidents is recorded, along with the number and severity of casualties.\n",
    "\n",
    "It will reinforce some of the ways of querying data with MongoDB and recap some ways of using *pandas* to analyse the data. "
   ]
  },
  {
   "cell_type": "code",
   "execution_count": 2,
   "metadata": {
    "collapsed": false,
    "run_control": {
     "read_only": false
    }
   },
   "outputs": [],
   "source": [
    "# Import the required libraries\n",
    "\n",
    "import pymongo\n",
    "import datetime\n",
    "import collections\n",
    "\n",
    "import pandas as pd\n",
    "import scipy.stats"
   ]
  },
  {
   "cell_type": "code",
   "execution_count": 3,
   "metadata": {
    "collapsed": false,
    "run_control": {
     "read_only": false
    }
   },
   "outputs": [],
   "source": [
    "# Open a connection to the Mongo server, open the accidents database and name the collections of accidents and labels\n",
    "client = pymongo.MongoClient('mongodb://localhost:27351/')\n",
    "\n",
    "db = client.accidents\n",
    "accidents = db.accidents\n",
    "labels = db.labels"
   ]
  },
  {
   "cell_type": "code",
   "execution_count": 4,
   "metadata": {
    "collapsed": false,
    "run_control": {
     "read_only": false
    }
   },
   "outputs": [],
   "source": [
    "# Load the expanded names of keys and human-readable codes into memory\n",
    "# Don't bother reading this cell yet: we'll use it in a bit.\n",
    "\n",
    "expanded_name = collections.defaultdict(str)\n",
    "for e in labels.find({'expanded': {\"$exists\": True}}):\n",
    "    expanded_name[e['label']] = e['expanded']\n",
    "    \n",
    "label_of = collections.defaultdict(str)\n",
    "for l in labels.find({'codes': {\"$exists\": True}}):\n",
    "    for c in l['codes']:\n",
    "        try:\n",
    "            label_of[l['label'], int(c)] = l['codes'][c]\n",
    "        except ValueError: \n",
    "            label_of[l['label'], c] = l['codes'][c]"
   ]
  },
  {
   "cell_type": "markdown",
   "metadata": {},
   "source": [
    "# A note on speed limits\n",
    "The speed limit data in this dataset shows the speed limit of the road at the location of the accident. It says nothing about the speed of any particular vehicle, so you can't use this data to infer anything about whether speeding causes more accidents. However, it's reasonable to assume that vehicles will often be going faster in a 60mph zone than in a 30mph zone."
   ]
  },
  {
   "cell_type": "markdown",
   "metadata": {},
   "source": [
    "# Getting a single document\n",
    "`find_one()` is the basic method for returning a single document from a collection. With no arguments, it just returns the first document it finds (chosen arbitrarily by Mongo)."
   ]
  },
  {
   "cell_type": "code",
   "execution_count": 5,
   "metadata": {
    "collapsed": false,
    "run_control": {
     "read_only": false
    },
    "scrolled": true
   },
   "outputs": [
    {
     "data": {
      "text/plain": [
       "{'1st_Road_Class': 3,\n",
       " '1st_Road_Number': 308,\n",
       " '2nd_Road_Class': 5,\n",
       " '2nd_Road_Number': 0,\n",
       " 'Accident_Index': '201201BS70001',\n",
       " 'Accident_Severity': 3,\n",
       " 'Carriageway_Hazards': 0,\n",
       " 'Casualties': [{'Age_Band_of_Casualty': 7,\n",
       "   'Bus_or_Coach_Passenger': 0,\n",
       "   'Car_Passenger': 0,\n",
       "   'Casualty_Class': 1,\n",
       "   'Casualty_Home_Area_Type': 1,\n",
       "   'Casualty_Reference': 1,\n",
       "   'Casualty_Severity': 3,\n",
       "   'Casualty_Type': 1,\n",
       "   'Pedestrian_Location': 0,\n",
       "   'Pedestrian_Movement': 0,\n",
       "   'Pedestrian_Road_Maintenance_Worker': 0,\n",
       "   'Sex_of_Casualty': 1,\n",
       "   'Vehicle_Reference': 2}],\n",
       " 'Date': '19/01/2012',\n",
       " 'Datetime': datetime.datetime(2012, 1, 19, 20, 35),\n",
       " 'Day_of_Week': 5,\n",
       " 'Did_Police_Officer_Attend_Scene_of_Accident': 1,\n",
       " 'Junction_Control': 2,\n",
       " 'Junction_Detail': 6,\n",
       " 'LSOA_of_Accident_Location': 'E01002821',\n",
       " 'Latitude': 51.493429,\n",
       " 'Light_Conditions': 4,\n",
       " 'Local_Authority_(District)': 12,\n",
       " 'Local_Authority_(Highway)': 'E09000020',\n",
       " 'Location_Easting_OSGR': 527200,\n",
       " 'Location_Northing_OSGR': 178760,\n",
       " 'Longitude': -0.169101,\n",
       " 'Number_of_Casualties': 1,\n",
       " 'Number_of_Vehicles': 2,\n",
       " 'Pedestrian_Crossing-Human_Control': 0,\n",
       " 'Pedestrian_Crossing-Physical_Facilities': 5,\n",
       " 'Police_Force': 1,\n",
       " 'Road_Surface_Conditions': 1,\n",
       " 'Road_Type': 6,\n",
       " 'Special_Conditions_at_Site': 0,\n",
       " 'Speed_limit': 30,\n",
       " 'Time': '20:35',\n",
       " 'Urban_or_Rural_Area': 1,\n",
       " 'Vehicles': [{'1st_Point_of_Impact': 4,\n",
       "   'Age_Band_of_Driver': 4,\n",
       "   'Age_of_Vehicle': 5,\n",
       "   'Driver_Home_Area_Type': 1,\n",
       "   'Driver_IMD_Decile': 7,\n",
       "   'Engine_Capacity_(CC)': 1390,\n",
       "   'Hit_Object_in_Carriageway': 0,\n",
       "   'Hit_Object_off_Carriageway': 0,\n",
       "   'Journey_Purpose_of_Driver': 6,\n",
       "   'Junction_Location': 8,\n",
       "   'Propulsion_Code': 1,\n",
       "   'Sex_of_Driver': 2,\n",
       "   'Skidding_and_Overturning': 0,\n",
       "   'Towing_and_Articulation': 0,\n",
       "   'Vehicle_Leaving_Carriageway': 0,\n",
       "   'Vehicle_Location-Restricted_Lane': 0,\n",
       "   'Vehicle_Manoeuvre': 9,\n",
       "   'Vehicle_Reference': 1,\n",
       "   'Vehicle_Type': 9,\n",
       "   'Was_Vehicle_Left_Hand_Drive?': 1},\n",
       "  {'1st_Point_of_Impact': 1,\n",
       "   'Age_Band_of_Driver': 7,\n",
       "   'Age_of_Vehicle': -1,\n",
       "   'Driver_Home_Area_Type': 1,\n",
       "   'Driver_IMD_Decile': 3,\n",
       "   'Engine_Capacity_(CC)': -1,\n",
       "   'Hit_Object_in_Carriageway': 0,\n",
       "   'Hit_Object_off_Carriageway': 0,\n",
       "   'Journey_Purpose_of_Driver': 6,\n",
       "   'Junction_Location': 8,\n",
       "   'Propulsion_Code': -1,\n",
       "   'Sex_of_Driver': 1,\n",
       "   'Skidding_and_Overturning': 0,\n",
       "   'Towing_and_Articulation': 0,\n",
       "   'Vehicle_Leaving_Carriageway': 0,\n",
       "   'Vehicle_Location-Restricted_Lane': 0,\n",
       "   'Vehicle_Manoeuvre': 18,\n",
       "   'Vehicle_Reference': 2,\n",
       "   'Vehicle_Type': 1,\n",
       "   'Was_Vehicle_Left_Hand_Drive?': 1}],\n",
       " 'Weather_Conditions': 1,\n",
       " '_id': ObjectId('52a9c97c92c4e16686d13265'),\n",
       " 'loc': {'coordinates': [-0.169101, 51.493429], 'type': 'Point'}}"
      ]
     },
     "execution_count": 5,
     "metadata": {},
     "output_type": "execute_result"
    }
   ],
   "source": [
    "accidents.find_one()"
   ]
  },
  {
   "cell_type": "markdown",
   "metadata": {},
   "source": [
    "That's quite a bit of data, and it's not that useful to select an arbitrary accident report. Let's pull out an accident that happened in a 70 mph zone. We do that by giving a document that must match one in the database before it's returned."
   ]
  },
  {
   "cell_type": "code",
   "execution_count": 6,
   "metadata": {
    "collapsed": false,
    "run_control": {
     "read_only": false
    },
    "scrolled": true
   },
   "outputs": [
    {
     "data": {
      "text/plain": [
       "{'1st_Road_Class': 3,\n",
       " '1st_Road_Number': 404,\n",
       " '2nd_Road_Class': -1,\n",
       " '2nd_Road_Number': 0,\n",
       " 'Accident_Index': '201201CW10890',\n",
       " 'Accident_Severity': 3,\n",
       " 'Carriageway_Hazards': 0,\n",
       " 'Casualties': [{'Age_Band_of_Casualty': 4,\n",
       "   'Bus_or_Coach_Passenger': 0,\n",
       "   'Car_Passenger': 0,\n",
       "   'Casualty_Class': 1,\n",
       "   'Casualty_Home_Area_Type': -1,\n",
       "   'Casualty_Reference': 1,\n",
       "   'Casualty_Severity': 3,\n",
       "   'Casualty_Type': 9,\n",
       "   'Pedestrian_Location': 0,\n",
       "   'Pedestrian_Movement': 0,\n",
       "   'Pedestrian_Road_Maintenance_Worker': 0,\n",
       "   'Sex_of_Casualty': 1,\n",
       "   'Vehicle_Reference': 1}],\n",
       " 'Date': '06/07/2012',\n",
       " 'Datetime': datetime.datetime(2012, 7, 6, 1, 25),\n",
       " 'Day_of_Week': 6,\n",
       " 'Did_Police_Officer_Attend_Scene_of_Accident': 1,\n",
       " 'Junction_Control': -1,\n",
       " 'Junction_Detail': 0,\n",
       " 'LSOA_of_Accident_Location': 'E01004702',\n",
       " 'Latitude': 51.519946,\n",
       " 'Light_Conditions': 4,\n",
       " 'Local_Authority_(District)': 1,\n",
       " 'Local_Authority_(Highway)': 'E09000033',\n",
       " 'Location_Easting_OSGR': 526780,\n",
       " 'Location_Northing_OSGR': 181700,\n",
       " 'Longitude': -0.174092,\n",
       " 'Number_of_Casualties': 1,\n",
       " 'Number_of_Vehicles': 2,\n",
       " 'Pedestrian_Crossing-Human_Control': 0,\n",
       " 'Pedestrian_Crossing-Physical_Facilities': 0,\n",
       " 'Police_Force': 1,\n",
       " 'Road_Surface_Conditions': 2,\n",
       " 'Road_Type': 3,\n",
       " 'Special_Conditions_at_Site': 0,\n",
       " 'Speed_limit': 70,\n",
       " 'Time': '01:25',\n",
       " 'Urban_or_Rural_Area': 1,\n",
       " 'Vehicles': [{'1st_Point_of_Impact': 3,\n",
       "   'Age_Band_of_Driver': 4,\n",
       "   'Age_of_Vehicle': 7,\n",
       "   'Driver_Home_Area_Type': -1,\n",
       "   'Driver_IMD_Decile': -1,\n",
       "   'Engine_Capacity_(CC)': 1598,\n",
       "   'Hit_Object_in_Carriageway': 0,\n",
       "   'Hit_Object_off_Carriageway': 7,\n",
       "   'Journey_Purpose_of_Driver': 6,\n",
       "   'Junction_Location': 0,\n",
       "   'Propulsion_Code': 1,\n",
       "   'Sex_of_Driver': 1,\n",
       "   'Skidding_and_Overturning': 0,\n",
       "   'Towing_and_Articulation': 0,\n",
       "   'Vehicle_Leaving_Carriageway': 1,\n",
       "   'Vehicle_Location-Restricted_Lane': 0,\n",
       "   'Vehicle_Manoeuvre': 18,\n",
       "   'Vehicle_Reference': 1,\n",
       "   'Vehicle_Type': 9,\n",
       "   'Was_Vehicle_Left_Hand_Drive?': 1},\n",
       "  {'1st_Point_of_Impact': 4,\n",
       "   'Age_Band_of_Driver': 4,\n",
       "   'Age_of_Vehicle': 9,\n",
       "   'Driver_Home_Area_Type': 1,\n",
       "   'Driver_IMD_Decile': 2,\n",
       "   'Engine_Capacity_(CC)': 1598,\n",
       "   'Hit_Object_in_Carriageway': 0,\n",
       "   'Hit_Object_off_Carriageway': 0,\n",
       "   'Journey_Purpose_of_Driver': 6,\n",
       "   'Junction_Location': 0,\n",
       "   'Propulsion_Code': 1,\n",
       "   'Sex_of_Driver': 1,\n",
       "   'Skidding_and_Overturning': 0,\n",
       "   'Towing_and_Articulation': 0,\n",
       "   'Vehicle_Leaving_Carriageway': 0,\n",
       "   'Vehicle_Location-Restricted_Lane': 0,\n",
       "   'Vehicle_Manoeuvre': 18,\n",
       "   'Vehicle_Reference': 2,\n",
       "   'Vehicle_Type': 9,\n",
       "   'Was_Vehicle_Left_Hand_Drive?': 1}],\n",
       " 'Weather_Conditions': 1,\n",
       " '_id': ObjectId('52a9c97c92c4e16686d13914'),\n",
       " 'loc': {'coordinates': [-0.174092, 51.519946], 'type': 'Point'}}"
      ]
     },
     "execution_count": 6,
     "metadata": {},
     "output_type": "execute_result"
    }
   ],
   "source": [
    "accidents.find_one({'Speed_limit': 70})"
   ]
  },
  {
   "cell_type": "markdown",
   "metadata": {},
   "source": [
    "If we give more than one key-value pair in the query document, the returned document must match all of them (an AND). For instance, to find an accident in a 30mph zone that involved two vehicles and one casualty, we specify that information in the query document:"
   ]
  },
  {
   "cell_type": "code",
   "execution_count": null,
   "metadata": {
    "collapsed": false,
    "run_control": {
     "read_only": false
    },
    "scrolled": true
   },
   "outputs": [],
   "source": [
    "accidents.find_one({'Speed_limit': 30, 'Number_of_Vehicles': 2, 'Number_of_Casualties': 1})"
   ]
  },
  {
   "cell_type": "markdown",
   "metadata": {},
   "source": [
    "Recall that we can limit the key-value pairs returned by specifying the second argument to `find_one()`. \n",
    "\n",
    "This combines *selection* (the speed limit, one casualty, and two vehicles) and *projection* (only retrieving some parts of the document)."
   ]
  },
  {
   "cell_type": "code",
   "execution_count": null,
   "metadata": {
    "collapsed": false,
    "run_control": {
     "read_only": false
    }
   },
   "outputs": [],
   "source": [
    "accidents.find_one({'Speed_limit': 30, 'Number_of_Casualties': 1, 'Number_of_Vehicles': 2}, \n",
    "                   ['Accident_Index', 'Speed_limit', 'Number_of_Casualties', 'Number_of_Vehicles'])"
   ]
  },
  {
   "cell_type": "markdown",
   "metadata": {},
   "source": [
    "# Finding multiple documents\n",
    "If we want to find more than one document at a time, we use the imaginatively named `find()` function."
   ]
  },
  {
   "cell_type": "markdown",
   "metadata": {},
   "source": [
    "One useful thing the cursor can do is tell us how many documents match."
   ]
  },
  {
   "cell_type": "code",
   "execution_count": null,
   "metadata": {
    "collapsed": false,
    "run_control": {
     "read_only": false
    }
   },
   "outputs": [],
   "source": [
    "accidents.find({'Speed_limit': 30, 'Number_of_Casualties': 1, 'Number_of_Vehicles': 2}).count()"
   ]
  },
  {
   "cell_type": "markdown",
   "metadata": {},
   "source": [
    "With this dataset, the `limit` query keyword is extremely useful when exploring, as it stops us being overwhelmed by data. Let's create a small DataFrame to pick out a few attributes of a few accidents.\n",
    "\n",
    "Recall that the output of `find()` is an iterator of `dict`s. If we convert the iterator to a `list`, we can create a DataFrame directly."
   ]
  },
  {
   "cell_type": "code",
   "execution_count": null,
   "metadata": {
    "collapsed": false,
    "run_control": {
     "read_only": false
    }
   },
   "outputs": [],
   "source": [
    "pd.DataFrame(list(accidents.find({'Speed_limit': 30, 'Number_of_Casualties': 1, 'Number_of_Vehicles': 2}, \n",
    "                                 ['Accident_Index', 'Accident_Severity', 'Road_Type','Weather_Conditions'],\n",
    "                                 limit=10)))"
   ]
  },
  {
   "cell_type": "markdown",
   "metadata": {
    "activity": "activity"
   },
   "source": [
    "### Activity 1\n",
    "How many accidents were there at less than 30mph?\n",
    "\n",
    "Create a DataFrame that holds the accident index, number of vehicles, and number of casualties for each accident, where the speed limit is less than 30mph. \n",
    "\n",
    "(You may find it useful to revise 'Query criteria' in _MongoDB: The Definitive Guide_.)\n",
    "\n",
    "The solution is in the [`14.2solutions`](14.2solutions.ipynb) Notebook."
   ]
  },
  {
   "cell_type": "code",
   "execution_count": null,
   "metadata": {
    "collapsed": true,
    "run_control": {
     "read_only": false
    }
   },
   "outputs": [],
   "source": [
    "#Insert your solution here"
   ]
  },
  {
   "cell_type": "markdown",
   "metadata": {},
   "source": [
    "# Expanding the codes\n",
    "A lot of the information in this dataset is recorded as codes rather than human-readable labels. The `labels` collection contains the labels for each code. \n",
    "\n",
    "Here are some examples for both looking up individual values and seeing what labels and codes there are. Treat these as recipes for your own explorations."
   ]
  },
  {
   "cell_type": "markdown",
   "metadata": {},
   "source": [
    "The `labels` collection contains the human-readable labels for all the codes in in the accident descriptions. We can ask for the labels and codes for `Road_Type`:"
   ]
  },
  {
   "cell_type": "code",
   "execution_count": null,
   "metadata": {
    "collapsed": false,
    "run_control": {
     "read_only": false
    }
   },
   "outputs": [],
   "source": [
    "labels.find_one({'label': 'Road_Type'})"
   ]
  },
  {
   "cell_type": "markdown",
   "metadata": {},
   "source": [
    "We can ask for the label of on particular type of road."
   ]
  },
  {
   "cell_type": "code",
   "execution_count": null,
   "metadata": {
    "collapsed": false,
    "run_control": {
     "read_only": false
    }
   },
   "outputs": [],
   "source": [
    "labels.find_one({'label': 'Road_Type'})['codes']['6']"
   ]
  },
  {
   "cell_type": "markdown",
   "metadata": {},
   "source": [
    "We can ask for all the labels:"
   ]
  },
  {
   "cell_type": "code",
   "execution_count": null,
   "metadata": {
    "collapsed": false,
    "run_control": {
     "read_only": false
    }
   },
   "outputs": [],
   "source": [
    "road_types = []\n",
    "road_code_labels = labels.find_one({'label': 'Road_Type'})['codes']\n",
    "for code in road_code_labels:\n",
    "    road_types.append(road_code_labels[code])\n",
    "road_types"
   ]
  },
  {
   "cell_type": "markdown",
   "metadata": {},
   "source": [
    "But, rather than doing lots of `append`s in a `for` loop, there's a more idiomatic Python approach: a _list comprehension_."
   ]
  },
  {
   "cell_type": "code",
   "execution_count": null,
   "metadata": {
    "collapsed": false,
    "run_control": {
     "read_only": false
    }
   },
   "outputs": [],
   "source": [
    "[road_code_labels[code] for code in road_code_labels]"
   ]
  },
  {
   "cell_type": "markdown",
   "metadata": {},
   "source": [
    "To make things easier, the piece of code at the top of the notebook loads all the labels and codes into a `dict` called `label_of`. You can find the label of a code for a key by looking in there. The dict's keys are 2-tuples; the first element is the accident document's key we're looking up and the second is the code. The value is the human-readable label for that code. "
   ]
  },
  {
   "cell_type": "code",
   "execution_count": null,
   "metadata": {
    "collapsed": false,
    "run_control": {
     "read_only": false
    }
   },
   "outputs": [],
   "source": [
    "label_of[('Road_Type', 6)]"
   ]
  },
  {
   "cell_type": "markdown",
   "metadata": {},
   "source": [
    "Note that we dn't need the brackets around the 2-tuple when Python knows that's what we mean, which can make the code a little more readable."
   ]
  },
  {
   "cell_type": "code",
   "execution_count": null,
   "metadata": {
    "collapsed": false,
    "run_control": {
     "read_only": false
    }
   },
   "outputs": [],
   "source": [
    "label_of['Road_Type', 6]"
   ]
  },
  {
   "cell_type": "markdown",
   "metadata": {},
   "source": [
    "You can find all the codes and labels for a key by walking over the `dict`:"
   ]
  },
  {
   "cell_type": "code",
   "execution_count": null,
   "metadata": {
    "collapsed": false,
    "run_control": {
     "read_only": false
    }
   },
   "outputs": [],
   "source": [
    "road_types = []\n",
    "for (key, code) in label_of:\n",
    "    if key == 'Road_Type':\n",
    "        road_types.append(label_of[key, code])\n",
    "road_types"
   ]
  },
  {
   "cell_type": "markdown",
   "metadata": {},
   "source": [
    "or, more idiomatically, with a list comprehension. Note how the important parts of the cell above, the `for` and `if`, are still in the comprehension form."
   ]
  },
  {
   "cell_type": "code",
   "execution_count": null,
   "metadata": {
    "collapsed": false,
    "run_control": {
     "read_only": false
    }
   },
   "outputs": [],
   "source": [
    "[label_of[key, code] \n",
    " for (key, code) in label_of \n",
    " if key == 'Road_Type']"
   ]
  },
  {
   "cell_type": "markdown",
   "metadata": {},
   "source": [
    "You can return the code with the label by wrapping them in a `tuple`. Again, note that we don't always need brackets aroun the tuple. The brackets are needed in the \"return\" position, but not in the `for` statement."
   ]
  },
  {
   "cell_type": "code",
   "execution_count": null,
   "metadata": {
    "collapsed": false,
    "run_control": {
     "read_only": false
    }
   },
   "outputs": [],
   "source": [
    "[(code, label_of[key, code]) \n",
    " for key, code in label_of \n",
    " if key == 'Road_Type']"
   ]
  },
  {
   "cell_type": "markdown",
   "metadata": {
    "activity": "activityAns"
   },
   "source": [
    "### Activity 2\n",
    "Find and display the document in the `labels` collection that stores details of weather conditions. \n",
    "\n",
    "Use the `label_of` dict to find all the labels for `Weather_Conditions`.\n",
    "\n",
    "Use the `label_of` dict in a list comprehension to find all the labels for `Weather_Conditions` that refer to wind. Note that you can include more than one `if` clause in a list comprehension: just put them one after the other, like this:\n",
    "\n",
    "    ```[item for item in thing if condition1 if condition2]```\n",
    "    \n",
    "It will only return items where both conditions are true.\n",
    "\n",
    "The solution is in the [`14.2solutions`](14.2solutions.ipynb) Notebook."
   ]
  },
  {
   "cell_type": "code",
   "execution_count": null,
   "metadata": {
    "collapsed": true,
    "run_control": {
     "read_only": false
    }
   },
   "outputs": [],
   "source": [
    "# Insert your solution here"
   ]
  },
  {
   "cell_type": "markdown",
   "metadata": {},
   "source": [
    "Some keys in the documents are themselves cryptic, and the human-readable expanions of them are available in the `labels` collection. `expanded_name` dict gives their full names. You'll see these more in Part 15 when we look at the road census data."
   ]
  },
  {
   "cell_type": "code",
   "execution_count": null,
   "metadata": {
    "collapsed": false,
    "run_control": {
     "read_only": false
    }
   },
   "outputs": [],
   "source": [
    "# What does 'FdHGVR4' mean?\n",
    "labels.find_one({'label': 'FdHGVR4'})"
   ]
  },
  {
   "cell_type": "markdown",
   "metadata": {},
   "source": [
    "The `expanded_name` dict also gives their full names. You'll see these more in Part 15 when we look at the road census data."
   ]
  },
  {
   "cell_type": "code",
   "execution_count": null,
   "metadata": {
    "collapsed": false,
    "run_control": {
     "read_only": false
    }
   },
   "outputs": [],
   "source": [
    "# What does 'FdHGVR4' mean?\n",
    "expanded_name['FdHGVR4']"
   ]
  },
  {
   "cell_type": "markdown",
   "metadata": {},
   "source": [
    "We can see which keys have labels for codes:"
   ]
  },
  {
   "cell_type": "markdown",
   "metadata": {},
   "source": [
    "## Back to queries\n",
    "Armed with this information, we can repeat the query earlier and list the accident indexes together with the human-readable data."
   ]
  },
  {
   "cell_type": "markdown",
   "metadata": {
    "activity": "activity"
   },
   "source": [
    "### Activity 3\n",
    "The earlier query is below, but it prints the results rather than putting them in a DataFrame."
   ]
  },
  {
   "cell_type": "code",
   "execution_count": null,
   "metadata": {
    "activity": "activity",
    "collapsed": false,
    "run_control": {
     "read_only": false
    }
   },
   "outputs": [],
   "source": [
    "for a in accidents.find({'Speed_limit': 30, 'Number_of_Casualties': 1, 'Number_of_Vehicles': 2}, \n",
    "                                 ['Accident_Index', 'Accident_Severity', 'Road_Type','Weather_Conditions'],\n",
    "                                 limit=10):\n",
    "    print(a['Accident_Index'],  \n",
    "          a['Accident_Severity'],\n",
    "          a['Road_Type'], \n",
    "          a['Weather_Conditions'],\n",
    "          a['_id'])"
   ]
  },
  {
   "cell_type": "markdown",
   "metadata": {
    "activity": "activity"
   },
   "source": [
    "Repeat this query, but print the labels of the accident severity, road type, and weather conditions (e.g. \n",
    "```\n",
    "201201BS70001 Slight Single carriageway Fine no high winds\n",
    "```\n",
    ")\n",
    "\n",
    "The solution is in the [`14.2solutions`](14.2solutions.ipynb) Notebook."
   ]
  },
  {
   "cell_type": "code",
   "execution_count": null,
   "metadata": {
    "collapsed": true,
    "run_control": {
     "read_only": false
    }
   },
   "outputs": [],
   "source": [
    "# Insert your solution here"
   ]
  },
  {
   "cell_type": "markdown",
   "metadata": {},
   "source": [
    "In this case, storing the looked-up values in the DataFrame is tricker, as we can't just use the dicts that come out of the `find()`. We have to do some processing and manually build a new dict for each document found."
   ]
  },
  {
   "cell_type": "code",
   "execution_count": null,
   "metadata": {
    "collapsed": false,
    "run_control": {
     "read_only": false
    }
   },
   "outputs": [],
   "source": [
    "pd.DataFrame([\n",
    "        {'Accident_Index': a['Accident_Index'],\n",
    "          'Accident_Severity': label_of['Accident_Severity', a['Accident_Severity']],\n",
    "          'Road_Type': label_of['Road_Type', a['Road_Type']], \n",
    "          'Weather_Conditions': label_of['Weather_Conditions', a['Weather_Conditions']]}\n",
    "        for a in accidents.find({'Speed_limit': 30, \n",
    "                                 'Number_of_Casualties': 1, 'Number_of_Vehicles': 2}, limit=10)])                  "
   ]
  },
  {
   "cell_type": "markdown",
   "metadata": {},
   "source": [
    "# Investigating the accident data\n",
    "## Severities at one speed\n",
    "We can now start to investigate the data. What are the proportions of accident severities in 30mph zones?\n",
    "\n",
    "Note that the basic `find()` just returns documents: it can't do any aggregation and doesn't have anything like SQL's `GROUP BY` clause. In Part 15, we'll look at Mongo's aggregation pipelines, where we can get Mongo to do this kind of processing for us.\n",
    "\n",
    "First, we'll collect the summary numbers ..."
   ]
  },
  {
   "cell_type": "code",
   "execution_count": null,
   "metadata": {
    "collapsed": false,
    "run_control": {
     "read_only": false
    }
   },
   "outputs": [],
   "source": [
    "# Build a DataFrame, one row for each accident\n",
    "severities_30_unrolled_df = pd.DataFrame(list(accidents.find({'Speed_limit': 30}, ['Accident_Severity'])))\n",
    "\n",
    "# Count the number of each severity\n",
    "severities_30_ss = severities_30_unrolled_df['Accident_Severity'].value_counts()\n",
    "severities_30_ss"
   ]
  },
  {
   "cell_type": "markdown",
   "metadata": {},
   "source": [
    "...and plot them."
   ]
  },
  {
   "cell_type": "code",
   "execution_count": null,
   "metadata": {
    "collapsed": false,
    "run_control": {
     "read_only": false
    }
   },
   "outputs": [],
   "source": [
    "severities_30_ss.sort_index().plot(kind='bar')"
   ]
  },
  {
   "cell_type": "markdown",
   "metadata": {},
   "source": [
    "...or, using the `label_of` dict to find the human-readable labels:"
   ]
  },
  {
   "cell_type": "code",
   "execution_count": null,
   "metadata": {
    "collapsed": false,
    "run_control": {
     "read_only": false
    }
   },
   "outputs": [],
   "source": [
    "severities_30_ss.sort_index(inplace=True)\n",
    "severities_30_ss.index = [label_of['Accident_Severity', r] for r in severities_30_ss.index]\n",
    "severities_30_ss"
   ]
  },
  {
   "cell_type": "code",
   "execution_count": null,
   "metadata": {
    "collapsed": false,
    "run_control": {
     "read_only": false
    }
   },
   "outputs": [],
   "source": [
    "severities_30_ss.plot(kind='bar')"
   ]
  },
  {
   "cell_type": "markdown",
   "metadata": {
    "activity": "activityAns"
   },
   "source": [
    "### Activity 4\n",
    "What are the numbers of accidents at each severity in 60mph zones? Show your results as a bar chart.\n",
    "\n",
    "The solution is in the [`14.2solutions`](14.2solutions.ipynb) Notebook."
   ]
  },
  {
   "cell_type": "code",
   "execution_count": null,
   "metadata": {
    "collapsed": false,
    "run_control": {
     "read_only": false
    }
   },
   "outputs": [],
   "source": [
    "# Insert your solution here."
   ]
  },
  {
   "cell_type": "markdown",
   "metadata": {},
   "source": [
    "## Severities across speeds\n",
    "It's a bit tedious doing one speed at a time. Let's summarise all the data and put it in a *pandas* DataFrame so we can see it all together. \n",
    "\n",
    "Let's start by building a DataFrame with one row for each accident. We can then count the number of rows at each speed/severity combination with a _pandas_ `crosstab`. "
   ]
  },
  {
   "cell_type": "code",
   "execution_count": null,
   "metadata": {
    "collapsed": false,
    "run_control": {
     "read_only": false
    },
    "scrolled": true
   },
   "outputs": [],
   "source": [
    "# Build a DataFrame, one row for each accident\n",
    "severity_by_speed_unrolled_df = pd.DataFrame(list(accidents.find({}, ['Speed_limit', 'Accident_Severity'])))\n",
    "\n",
    "# Count the number of each severity\n",
    "severity_by_speed_df = pd.crosstab(severity_by_speed_unrolled_df['Speed_limit'], \n",
    "                                   severity_by_speed_unrolled_df['Accident_Severity'])\n",
    "severity_by_speed_df"
   ]
  },
  {
   "cell_type": "markdown",
   "metadata": {},
   "source": [
    "We can make the DataFrame more informative by relabelling the columns."
   ]
  },
  {
   "cell_type": "code",
   "execution_count": null,
   "metadata": {
    "collapsed": false,
    "run_control": {
     "read_only": false
    }
   },
   "outputs": [],
   "source": [
    "# Relabel the columns\n",
    "severity_by_speed_df.columns = [label_of['Accident_Severity', s] for s in severity_by_speed_df.columns]\n",
    "severity_by_speed_df"
   ]
  },
  {
   "cell_type": "code",
   "execution_count": null,
   "metadata": {
    "collapsed": false,
    "run_control": {
     "read_only": false
    }
   },
   "outputs": [],
   "source": [
    "severity_by_speed_df.plot(kind='bar')"
   ]
  },
  {
   "cell_type": "markdown",
   "metadata": {},
   "source": [
    "As an aside, it's sometimes useful to move the graph legend off to the side. Use this reformulation of the plotting to do so."
   ]
  },
  {
   "cell_type": "code",
   "execution_count": null,
   "metadata": {
    "collapsed": false,
    "run_control": {
     "read_only": false
    }
   },
   "outputs": [],
   "source": [
    "ax = severity_by_speed_df.plot(kind='bar')\n",
    "ax.legend(loc='center left', bbox_to_anchor=(1, 0.5))"
   ]
  },
  {
   "cell_type": "markdown",
   "metadata": {},
   "source": [
    "As you can see, there are a lot more accidents in 30mph zones than at any other speed limit. We'll have to account for that when we do some more detailed analysis later."
   ]
  },
  {
   "cell_type": "markdown",
   "metadata": {
    "activity": "activityAns"
   },
   "source": [
    "### Activity 5\n",
    "What are the proportions of accident severities by junction type (roundabout, crossroads, etc)?\n",
    "\n",
    "This is a more in-depth activity than before, so I've broken it down into steps.\n",
    "\n",
    "* What are the different types of junction? You'll need to look at the `label_of` dict to find the right key\n",
    "* What different severities happen at each junction type?\n",
    "\n",
    "Comment on your results.\n",
    "\n",
    "The solution is in the [`14.2solutions`](14.2solutions.ipynb) Notebook."
   ]
  },
  {
   "cell_type": "code",
   "execution_count": null,
   "metadata": {
    "collapsed": true,
    "run_control": {
     "read_only": false
    }
   },
   "outputs": [],
   "source": [
    "# Insert your solution here. \n",
    "# You will likely need several cells to complete this activity"
   ]
  },
  {
   "cell_type": "markdown",
   "metadata": {},
   "source": [
    "# Looking at subdocuments\n",
    "Each `accident` document contains two lists of subdocuments: one for each casualty, and one for each vehicle involved in the accident. How can we analyse those subdocuments?\n",
    "\n",
    "Let's look at the distribution of ages across all accidents, but restrict our investigation to just the area around Milton Keynes, the home of The Open University. \n",
    "\n",
    "Is there any metadata about the accidents that relates to Milton Keynes?"
   ]
  },
  {
   "cell_type": "code",
   "execution_count": null,
   "metadata": {
    "collapsed": false,
    "run_control": {
     "read_only": false
    }
   },
   "outputs": [],
   "source": [
    "# All the labels that are to do with 'Milton'.\n",
    "[(k, c, label_of[k, c]) for k, c in label_of if 'Milton' in label_of[k, c]]"
   ]
  },
  {
   "cell_type": "markdown",
   "metadata": {},
   "source": [
    "While the district authority looks like the one that would have most meaning for people, the \"highway\" district authority is the one used by the rest of UK government. \n",
    "\n",
    "The casualty and vehicle subdocuments are held in arrays/lists, as there are different numbers of them for each accidents. This means we need to iterate over the casualty list within each accident. \n",
    "\n",
    "One way to get to the ages is by explicit two-level iteration, building up a list of age bands."
   ]
  },
  {
   "cell_type": "code",
   "execution_count": null,
   "metadata": {
    "collapsed": false,
    "run_control": {
     "read_only": false
    }
   },
   "outputs": [],
   "source": [
    "age_bands_of_casualties_list = []\n",
    "for a in accidents.find({'Local_Authority_(Highway)': 'E06000042'}):\n",
    "    for c in a['Casualties']:\n",
    "        age_bands_of_casualties_list += [c['Age_Band_of_Casualty']]\n",
    "        \n",
    "aboc_ss = pd.Series(age_bands_of_casualties_list)\n",
    "aboc_ss.count(), aboc_ss.head(10)"
   ]
  },
  {
   "cell_type": "markdown",
   "metadata": {},
   "source": [
    "We can now use standard _pandas_ operations on the series, such as counting how many casualties there are in each age band."
   ]
  },
  {
   "cell_type": "code",
   "execution_count": null,
   "metadata": {
    "collapsed": false,
    "run_control": {
     "read_only": false
    }
   },
   "outputs": [],
   "source": [
    "age_bands_of_casualties_ss = aboc_ss.value_counts()\n",
    "age_bands_of_casualties_ss"
   ]
  },
  {
   "cell_type": "markdown",
   "metadata": {},
   "source": [
    "We can do the same thing with a comprehension, to avoid all the list appending. Note that there are two iterators in the comprehension, and they are in the same order as the nested `for` statements above."
   ]
  },
  {
   "cell_type": "code",
   "execution_count": null,
   "metadata": {
    "collapsed": false,
    "run_control": {
     "read_only": false
    }
   },
   "outputs": [],
   "source": [
    "aboc_ss = pd.Series(c['Age_Band_of_Casualty']\n",
    "                    for a in accidents.find({'Local_Authority_(Highway)': 'E06000042'})\n",
    "                    for c in a['Casualties'])\n",
    "\n",
    "age_bands_of_casualties_ss = aboc_ss.value_counts()\n",
    "age_bands_of_casualties_ss"
   ]
  },
  {
   "cell_type": "markdown",
   "metadata": {},
   "source": [
    "Finally, we can skip the intermediate `aboc` series by combining the Series creation and counting stages."
   ]
  },
  {
   "cell_type": "code",
   "execution_count": null,
   "metadata": {
    "collapsed": false,
    "run_control": {
     "read_only": false
    }
   },
   "outputs": [],
   "source": [
    "age_bands_of_casualties_ss = pd.Series(c['Age_Band_of_Casualty']\n",
    "                    for a in accidents.find({'Local_Authority_(Highway)': 'E06000042'})\n",
    "                    for c in a['Casualties']).value_counts()\n",
    "age_bands_of_casualties_ss"
   ]
  },
  {
   "cell_type": "code",
   "execution_count": null,
   "metadata": {
    "collapsed": false,
    "run_control": {
     "read_only": false
    }
   },
   "outputs": [],
   "source": [
    "age_bands_of_casualties_ss.sort_index(inplace=True)\n",
    "age_bands_of_casualties_ss"
   ]
  },
  {
   "cell_type": "code",
   "execution_count": null,
   "metadata": {
    "collapsed": false,
    "run_control": {
     "read_only": false
    }
   },
   "outputs": [],
   "source": [
    "pd.Series(age_bands_of_casualties_ss).plot(kind='bar')"
   ]
  },
  {
   "cell_type": "markdown",
   "metadata": {},
   "source": [
    "That's similar to what we'd expect, with fewer young and old casualties as there will be fewer of them on the road."
   ]
  },
  {
   "cell_type": "markdown",
   "metadata": {
    "activity": "activity"
   },
   "source": [
    "### Activity 6\n",
    "We can also ask if different age people respond to injuries differently. In other words, are old people more frail and so therefore more likely to be seriously or fatally injured?\n",
    "\n",
    "Following the examples above, let's build a DataFrame that counts the number of casualties for each age band / severity combination, and use the human-readable labels for the data rather than the codes.\n",
    "\n",
    "You should end up with a `DataFrame` called `severity_by_age_df` that looks like this:\n",
    "\n",
    "\n",
    "Severity | Fatal | Serious | Slight\n",
    "-|-|-|-\n",
    "Unknown | 0 | 0 | 8\n",
    "0 - 5 | 0 | 3 | 20\n",
    "6 - 10 | 0 | 1 | 28\n",
    "11 - 15 | 0 | 3 | 34\n",
    "16 - 20 | 1 | 11 | 115\n",
    "21 - 25 | 1 | 16 | 133\n",
    "26 - 35 | 2 | 15 | 219\n",
    "36 - 45 | 3 | 12 | 168\n",
    "46 - 55 | 0 | 10 | 125\n",
    "56 - 65 | 1 | 7 | 63\n",
    "66 - 75 | 0 | 9 | 28\n",
    "Over 75 | 2 | 2 | 20\n",
    "\n",
    "The solution is in the [`14.2solutions`](14.2solutions.ipynb) Notebook."
   ]
  },
  {
   "cell_type": "code",
   "execution_count": null,
   "metadata": {
    "collapsed": true,
    "run_control": {
     "read_only": false
    }
   },
   "outputs": [],
   "source": [
    "# Insert your solution here."
   ]
  },
  {
   "cell_type": "markdown",
   "metadata": {},
   "source": [
    "Now you have the age data, can we plot it to see what it means?"
   ]
  },
  {
   "cell_type": "code",
   "execution_count": null,
   "metadata": {
    "collapsed": false,
    "run_control": {
     "read_only": false
    }
   },
   "outputs": [],
   "source": [
    "severity_by_age_df.plot()"
   ]
  },
  {
   "cell_type": "markdown",
   "metadata": {},
   "source": [
    "The number of `slight` casualties is (thankfully) much larger than the other severities, so it's difficult to see if the proportions in different age bands remain similar. We can try plotting the data in separate graphs, mindful that the y-axis scales will be different in each graph. (It will show if there's a different pattern across severities.)"
   ]
  },
  {
   "cell_type": "code",
   "execution_count": null,
   "metadata": {
    "collapsed": false,
    "run_control": {
     "read_only": false
    }
   },
   "outputs": [],
   "source": [
    "severity_by_age_df.plot(subplots='True')"
   ]
  },
  {
   "cell_type": "markdown",
   "metadata": {},
   "source": [
    "…or on one graph, using secondary y axis for non-slight casualties."
   ]
  },
  {
   "cell_type": "code",
   "execution_count": null,
   "metadata": {
    "collapsed": false,
    "run_control": {
     "read_only": false
    }
   },
   "outputs": [],
   "source": [
    "severity_by_age_df['Slight'].plot()\n",
    "severity_by_age_df['Serious'].plot(secondary_y=True)\n",
    "severity_by_age_df['Fatal'].plot(secondary_y=True)"
   ]
  },
  {
   "cell_type": "markdown",
   "metadata": {},
   "source": [
    "There doesn't seem to be a vast difference in the proportion of casualties. (The number of deaths is too low to draw any firm conclusions from.)"
   ]
  },
  {
   "cell_type": "markdown",
   "metadata": {},
   "source": [
    "## Size of accidents: comparing numbers of vehicles and casualties\n",
    "Some accidents are 'big' and some are 'small'. There are two obvious ways of describing such accidents: the number of casualties or the number of vehicles. We'd expect these two measures to be correlated. Let's find out if that's the case."
   ]
  },
  {
   "cell_type": "markdown",
   "metadata": {},
   "source": [
    "First, we'll read the sizes of accidents from the database and count them, as before"
   ]
  },
  {
   "cell_type": "code",
   "execution_count": null,
   "metadata": {
    "collapsed": false,
    "run_control": {
     "read_only": false
    },
    "scrolled": true
   },
   "outputs": [],
   "source": [
    "# Build a DataFrame, one row for each accident\n",
    "cas_veh_unrolled_df = pd.DataFrame(list(accidents.find({}, ['Number_of_Casualties', 'Number_of_Vehicles'])))\n",
    "\n",
    "# Count the number of each severity\n",
    "cas_veh_df = pd.crosstab(cas_veh_unrolled_df['Number_of_Casualties'], \n",
    "                                      cas_veh_unrolled_df['Number_of_Vehicles'])\n",
    "cas_veh_df"
   ]
  },
  {
   "cell_type": "markdown",
   "metadata": {},
   "source": [
    "We want to plot this data as a scatter plot, but that function requires a sequences of casualty numbers, vehicle numbers, and counts of accidents for each pair. To convert this data into three sequences, we'll use the `stack()` and `reset_index()` methods you saw earlier."
   ]
  },
  {
   "cell_type": "code",
   "execution_count": null,
   "metadata": {
    "collapsed": false,
    "run_control": {
     "read_only": false
    },
    "scrolled": true
   },
   "outputs": [],
   "source": [
    "cas_veh_long_df = cas_veh_df.stack().reset_index()\n",
    "cas_veh_long_df"
   ]
  },
  {
   "cell_type": "markdown",
   "metadata": {},
   "source": [
    "We can now plot the number of accidents at each casualty/vehicle combination on a *scatter chart*, a scatter plot that additionally uses the _size_ of each point to communicate information about a dimension of the data. In this case, we'll scale the point size by the number of accidents of that 'size'."
   ]
  },
  {
   "cell_type": "code",
   "execution_count": null,
   "metadata": {
    "collapsed": false,
    "run_control": {
     "read_only": false
    }
   },
   "outputs": [],
   "source": [
    "plt.scatter(cas_veh_long_df['Number_of_Casualties'], \n",
    "            cas_veh_long_df['Number_of_Vehicles'],\n",
    "            s=np.sqrt(cas_veh_long_df[0])*1.5,\n",
    "            alpha=0.5\n",
    "            )\n",
    "plt.xlabel('Number of casualties')\n",
    "plt.ylabel('Number of vehicles')\n",
    "plt.show()"
   ]
  },
  {
   "cell_type": "markdown",
   "metadata": {},
   "source": [
    "There are a number of outliers, so let's remove them to see the rest of the points more easily. Limiting the data to 20 vehicles and 10 casualties looks reasonable."
   ]
  },
  {
   "cell_type": "code",
   "execution_count": null,
   "metadata": {
    "collapsed": false,
    "run_control": {
     "read_only": false
    }
   },
   "outputs": [],
   "source": [
    "small_cvcl_df = cas_veh_long_df[(cas_veh_long_df['Number_of_Casualties'] <= 10) & \n",
    "                                (cas_veh_long_df['Number_of_Vehicles'] <= 20)]\n",
    "\n",
    "plt.scatter(small_cvcl_df['Number_of_Casualties'], \n",
    "            small_cvcl_df['Number_of_Vehicles'],\n",
    "            s=np.sqrt(small_cvcl_df[0])*3,\n",
    "            alpha=0.5\n",
    "            )\n",
    "plt.xlabel('Number of casualties')\n",
    "plt.ylabel('Number of vehicles')\n",
    "plt.show()"
   ]
  },
  {
   "cell_type": "markdown",
   "metadata": {},
   "source": [
    "Now we have some data plotted, can we say anything about the correlation of the two different metrics for 'size' of accident? From first impressions, there's not much correlation between the two measures: most of the accidents are small in both number of casualties and vehicles, and tend to be in the lower-left corner."
   ]
  },
  {
   "cell_type": "markdown",
   "metadata": {},
   "source": [
    "The obvious first step is to find the line of best fit, and then plot it.\n",
    "\n",
    "Unfortunately, finding a regression line requires the data to be 'unrolled', with one row for each accident. The `cas_veh_unrolled_df` has this information, but we need to pull out the relevant columns."
   ]
  },
  {
   "cell_type": "code",
   "execution_count": null,
   "metadata": {
    "collapsed": false,
    "run_control": {
     "read_only": false
    }
   },
   "outputs": [],
   "source": [
    "cas_veh_unrolled_df.head()"
   ]
  },
  {
   "cell_type": "code",
   "execution_count": null,
   "metadata": {
    "collapsed": false,
    "run_control": {
     "read_only": false
    }
   },
   "outputs": [],
   "source": [
    "regressionline = scipy.stats.linregress(cas_veh_unrolled_df['Number_of_Casualties'],\n",
    "                                       cas_veh_unrolled_df['Number_of_Vehicles'])\n",
    "# The regression line is of the form y = m x + b\n",
    "m = regressionline[0]\n",
    "b = regressionline[1]\n",
    "(m, b)"
   ]
  },
  {
   "cell_type": "markdown",
   "metadata": {},
   "source": [
    "Now, plot the regression line on top of the scatter plot"
   ]
  },
  {
   "cell_type": "code",
   "execution_count": null,
   "metadata": {
    "collapsed": false,
    "run_control": {
     "read_only": false
    }
   },
   "outputs": [],
   "source": [
    "plt.scatter(small_cvcl_df['Number_of_Casualties'], \n",
    "            small_cvcl_df['Number_of_Vehicles'],\n",
    "            s=np.sqrt(small_cvcl_df[0])*3,\n",
    "            alpha=0.5\n",
    "            )\n",
    "plt.xlabel('Number of casualties')\n",
    "plt.ylabel('Number of vehicles')\n",
    "\n",
    "x = np.linspace(0, 30, 20)\n",
    "plt.plot(x, m*x + b)\n",
    "\n",
    "plt.show()"
   ]
  },
  {
   "cell_type": "markdown",
   "metadata": {},
   "source": [
    "There is a line of best fit, but it doesn't seem to describe the data very well. In the next Notebook, we'll look at how to get a better handle on the this correlation."
   ]
  },
  {
   "cell_type": "markdown",
   "metadata": {
    "activity": "activity"
   },
   "source": [
    "### Activity 7\n",
    "\n",
    "How does the number of vehicles in an accident vary with the speed limit?\n",
    "\n",
    "Find the results, find the line of best fit, then plot the data and line of best fit on a scatter graph.\n",
    "\n",
    "The solution is in the [`14.2solutions`](14.2solutions.ipynb) Notebook."
   ]
  },
  {
   "cell_type": "code",
   "execution_count": null,
   "metadata": {
    "collapsed": true,
    "run_control": {
     "read_only": false
    }
   },
   "outputs": [],
   "source": [
    "# Insert your solution here."
   ]
  },
  {
   "cell_type": "markdown",
   "metadata": {
    "collapsed": false,
    "run_control": {
     "read_only": false
    }
   },
   "source": [
    "## What next?\n",
    "If you are working through this Notebook as part of an inline exercise, return to the module materials now.\n",
    "\n",
    "If you are working through this set of Notebooks as a whole, move on to `14.3 Using statistical tests`."
   ]
  }
 ],
 "metadata": {
  "kernelspec": {
   "display_name": "Python 3",
   "language": "python",
   "name": "python3"
  },
  "language_info": {
   "codemirror_mode": {
    "name": "ipython",
    "version": 3
   },
   "file_extension": ".py",
   "mimetype": "text/x-python",
   "name": "python",
   "nbconvert_exporter": "python",
   "pygments_lexer": "ipython3",
   "version": "3.4.3"
  }
 },
 "nbformat": 4,
 "nbformat_minor": 0
}
