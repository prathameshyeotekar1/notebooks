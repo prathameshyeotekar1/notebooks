{
 "cells": [
  {
   "cell_type": "markdown",
   "metadata": {},
   "source": [
    "# Basic CRUD\n",
    "\n",
    "This Notebook will take you through a few basic operations with a dummy database, just to see how the basic CRUD (Create, Read, Update, Delete) operations work.\n",
    "\n",
    "We're using the [PyMongo](http://api.mongodb.org/python/current/) module to allow Python to connect to MongoDB. The Notebooks in the module will describe most of the features of PyMongo you need, but you should refer to the [API documentation](http://api.mongodb.org/python/current/api/index.html) as necessary to understand the detail and nuance of PyMongo. PyMongo is also a fairly thin wrapper on MongoDB, so you may need to refer to the [MongoDB reference](http://docs.mongodb.org/manual/reference/) for some of the details and *MongoDB: The Definitive Guide* for context and background.\n",
    "\n",
    "This Notebook only covers the basic of CRUD operations. You'll use more sophisticated queries in Parts 15 and 16."
   ]
  },
  {
   "cell_type": "code",
   "execution_count": 1,
   "metadata": {
    "activity": false,
    "collapsed": false,
    "run_control": {
     "read_only": false
    }
   },
   "outputs": [],
   "source": [
    "# Import the required libraries\n",
    "\n",
    "import pymongo\n",
    "from datetime import datetime\n",
    "\n",
    "import pandas as pd"
   ]
  },
  {
   "cell_type": "code",
   "execution_count": 2,
   "metadata": {
    "activity": false,
    "collapsed": false,
    "run_control": {
     "read_only": false
    }
   },
   "outputs": [],
   "source": [
    "# Open a connection to the Mongo server\n",
    "client = pymongo.MongoClient('mongodb://localhost:27351/')"
   ]
  },
  {
   "cell_type": "code",
   "execution_count": 3,
   "metadata": {
    "collapsed": false,
    "run_control": {
     "read_only": false
    }
   },
   "outputs": [
    {
     "name": "stdout",
     "output_type": "stream",
     "text": [
      "DB doesn't exist yet.\n"
     ]
    }
   ],
   "source": [
    "try:\n",
    "    client.drop_database(dw_db)\n",
    "except NameError:\n",
    "    print(\"DB doesn't exist yet.\")"
   ]
  },
  {
   "cell_type": "code",
   "execution_count": 4,
   "metadata": {
    "activity": false,
    "collapsed": false,
    "run_control": {
     "read_only": false
    }
   },
   "outputs": [],
   "source": [
    "# Create a doctorwho database and a test_collection within it.\n",
    "dw_db = client.doctorwho\n",
    "tc = dw_db.test_collection"
   ]
  },
  {
   "cell_type": "markdown",
   "metadata": {},
   "source": [
    "Note that database and collection creation in MongoDB is *lazy*: the database and collection aren't actually created in the DBMS until the first document is written."
   ]
  },
  {
   "cell_type": "markdown",
   "metadata": {},
   "source": [
    "## Data structures and conversion\n",
    "\n",
    "PyMongo handles automatically most of the translation between Python data structures and the JSON structures that Mongo uses. This table summarises the main equivalences.\n",
    "\n",
    "| Document DB term | JSON structure | Python structure |\n",
    "|------------------|----------------|------------------|\n",
    "| Document or sub-document | Object | dict  |\n",
    "| List | Array | list |\n",
    "| Key | String | string |\n",
    "| String | String | string |\n",
    "| Number | Number | int or float, depending |\n",
    "| Date | Date | datetime.datetime object |\n",
    "| Object IDs | BSON ObjectId | BSON ObjectId |\n",
    "\n",
    "MongoDB uses BSON, a binary version of JSON, internally. You can generally ignore this, except when you want to create new ObjectIds for documents."
   ]
  },
  {
   "cell_type": "markdown",
   "metadata": {},
   "source": [
    "## Create\n",
    "Let's insert a few simple documents, just to get started.\n",
    "\n",
    "Note that keys in a document have to be strings, but the values can be almost anything."
   ]
  },
  {
   "cell_type": "code",
   "execution_count": 5,
   "metadata": {
    "activity": false,
    "collapsed": false,
    "run_control": {
     "read_only": false
    }
   },
   "outputs": [],
   "source": [
    "# Insert a single document\n",
    "tc.insert_one({'name': 'William', 'birthyear': 1908})\n",
    "\n",
    "# Insert a few (zip takes some lists and returns a list of tuples)\n",
    "for n, b in zip('Patrick Jon Tom Peter Colin Sylvester Paul Christopher David Matt Peter'.split(),\n",
    "                [1920, 1919, 1934, 1951, 1943, 1943, 1959, 1964, 1971, 1982, 1958]):\n",
    "    tc.insert_one({'name': n, 'birthyear': b})"
   ]
  },
  {
   "cell_type": "markdown",
   "metadata": {},
   "source": [
    "## Read\n",
    "`find_one()` will return a single (arbitrary) document. Note that Mongo automatically adds an `_id` field to each document. You can override this if you really want to, but we won't bother."
   ]
  },
  {
   "cell_type": "code",
   "execution_count": null,
   "metadata": {
    "activity": false,
    "collapsed": false,
    "run_control": {
     "read_only": false
    }
   },
   "outputs": [],
   "source": [
    "tc.find_one()"
   ]
  },
  {
   "cell_type": "markdown",
   "metadata": {},
   "source": [
    "The `pymongo` library does the type conversion for us:"
   ]
  },
  {
   "cell_type": "code",
   "execution_count": null,
   "metadata": {
    "activity": false,
    "collapsed": false,
    "run_control": {
     "read_only": false
    }
   },
   "outputs": [],
   "source": [
    "type(tc.find_one())"
   ]
  },
  {
   "cell_type": "markdown",
   "metadata": {},
   "source": [
    "If we give a dict of some key-value pairs, `find_one()` will return a document that matches them.\n",
    "\n",
    "This is **selecting**, choosing only the documents we're interested in."
   ]
  },
  {
   "cell_type": "code",
   "execution_count": null,
   "metadata": {
    "activity": false,
    "collapsed": false,
    "run_control": {
     "read_only": false
    }
   },
   "outputs": [],
   "source": [
    "tc.find_one({'name': 'Peter'})"
   ]
  },
  {
   "cell_type": "markdown",
   "metadata": {
    "activity": "activityAns"
   },
   "source": [
    "### Activity 1\n",
    "Find a document for someone born in 1943.\n",
    "\n",
    "The solution is in the [`14.1solutions`](14.1solutions.ipynb) Notebook."
   ]
  },
  {
   "cell_type": "code",
   "execution_count": null,
   "metadata": {
    "activity": false,
    "collapsed": false,
    "run_control": {
     "read_only": false
    }
   },
   "outputs": [],
   "source": [
    "# Insert your solution here"
   ]
  },
  {
   "cell_type": "markdown",
   "metadata": {},
   "source": [
    "`find()` will find all the documents that match the query, and returns a cursor that can be iterated over to retrieve the documents one by one. Again, the query acts to **select** the documents we want."
   ]
  },
  {
   "cell_type": "code",
   "execution_count": null,
   "metadata": {
    "activity": false,
    "collapsed": false,
    "run_control": {
     "read_only": false
    }
   },
   "outputs": [],
   "source": [
    "tc.find({'name': 'Peter'})"
   ]
  },
  {
   "cell_type": "markdown",
   "metadata": {},
   "source": [
    "This returns a PyMongo `cursor` object, which acts like an iterable in most cases. \n",
    "\n",
    "If we convert the `cursor` to a `list`, we get a list of `dict`s that are the found documents. Just look at a few, to save waiting for Jupyter to display the result.)"
   ]
  },
  {
   "cell_type": "code",
   "execution_count": null,
   "metadata": {
    "collapsed": false,
    "run_control": {
     "read_only": false
    }
   },
   "outputs": [],
   "source": [
    "list(tc.find({'name': 'Peter'}))"
   ]
  },
  {
   "cell_type": "markdown",
   "metadata": {},
   "source": [
    "We can iterate directly over the cursor, but this is a one-pass-only process. The cursor remembers where it is in the set of results and carries on from there. For instance, if we ask for some items and print them:"
   ]
  },
  {
   "cell_type": "code",
   "execution_count": null,
   "metadata": {
    "activity": false,
    "collapsed": false,
    "run_control": {
     "read_only": false
    }
   },
   "outputs": [],
   "source": [
    "cursor = tc.find({'name': 'Peter'})\n",
    "for p in cursor:\n",
    "    print(p)"
   ]
  },
  {
   "cell_type": "markdown",
   "metadata": {},
   "source": [
    "…and then try to print them again, we get nothing: all the results have already been processed."
   ]
  },
  {
   "cell_type": "code",
   "execution_count": null,
   "metadata": {
    "activity": false,
    "collapsed": false,
    "run_control": {
     "read_only": false
    }
   },
   "outputs": [],
   "source": [
    "for p in cursor:\n",
    "    print(p)"
   ]
  },
  {
   "cell_type": "markdown",
   "metadata": {},
   "source": [
    "This manual handling of cursors isn't that useful, as we'll generally be consuming the entire set of returned documents all at once. But if the dataset is very large, you'll need to repeatedly consume and process part of the results, summarising as you go. Parts 15 and 16 will show you other ways of handling very large datasets in Mongo."
   ]
  },
  {
   "cell_type": "markdown",
   "metadata": {},
   "source": [
    "The cursor can tell us how many documents will match the query."
   ]
  },
  {
   "cell_type": "code",
   "execution_count": null,
   "metadata": {
    "activity": false,
    "collapsed": false,
    "run_control": {
     "read_only": false
    }
   },
   "outputs": [],
   "source": [
    "tc.find({'name': 'Peter'}).count()"
   ]
  },
  {
   "cell_type": "code",
   "execution_count": null,
   "metadata": {
    "collapsed": false,
    "run_control": {
     "read_only": false
    }
   },
   "outputs": [],
   "source": [
    "tc.find().count()"
   ]
  },
  {
   "cell_type": "markdown",
   "metadata": {},
   "source": [
    "An optional second argument to `find()` specifies the key-value pairs to return. If you give a list of keys, `find()` will return just those plus the `_id`. \n",
    "\n",
    "This is how PyMongo does **projection**, returning only some parts of the found documents."
   ]
  },
  {
   "cell_type": "code",
   "execution_count": null,
   "metadata": {
    "activity": false,
    "collapsed": false,
    "run_control": {
     "read_only": false
    }
   },
   "outputs": [],
   "source": [
    "for p in tc.find({'name': 'Peter'}, ['birthyear']):\n",
    "    print(p)"
   ]
  },
  {
   "cell_type": "markdown",
   "metadata": {},
   "source": [
    "You'll notice that Mongo returns the document `_id`. It always does that unless we specifically ask it not to. \n",
    "\n",
    "The 'list of keys' notation is a shorthand for the full specification for which keys to return. Mongo expects a dict of keys to include or exclude. If the keys in that projection specification have a value `1`, the key is included; if they have a value `0`, they're excluded. You can only include or exclude keys in one projection (i.e. all 1s or all 0s), with the exception of the `_id` key. (See _MongoDB: The Definitive Guide_ for details).\n",
    "\n",
    "For instance, the previous query could be specified as:"
   ]
  },
  {
   "cell_type": "code",
   "execution_count": null,
   "metadata": {
    "collapsed": false,
    "run_control": {
     "read_only": false
    }
   },
   "outputs": [],
   "source": [
    "for p in tc.find({'name': 'Peter'}, {'birthyear': 1}):\n",
    "    print(p)"
   ]
  },
  {
   "cell_type": "markdown",
   "metadata": {},
   "source": [
    "or, to exclude the `_id`:"
   ]
  },
  {
   "cell_type": "code",
   "execution_count": null,
   "metadata": {
    "collapsed": false,
    "run_control": {
     "read_only": false
    }
   },
   "outputs": [],
   "source": [
    "for p in tc.find({'name': 'Peter'}, {'birthyear': 1, '_id': 0}):\n",
    "    print(p)"
   ]
  },
  {
   "cell_type": "markdown",
   "metadata": {
    "activity": "activityAns"
   },
   "source": [
    "### Activity 2\n",
    "How many people were born in 1943? What are their names?\n",
    "\n",
    "\n",
    "The solution is in the [`14.1solutions`](14.1solutions.ipynb) Notebook."
   ]
  },
  {
   "cell_type": "code",
   "execution_count": null,
   "metadata": {
    "activity": false,
    "collapsed": false,
    "run_control": {
     "read_only": false
    }
   },
   "outputs": [],
   "source": [
    "# Insert your solution here"
   ]
  },
  {
   "cell_type": "markdown",
   "metadata": {},
   "source": [
    "We can also limit the number of documents returned by `find()` by using the `limit` keyword argument. This is very useful when exploring large datasets and we're developing queries. \n",
    "\n",
    "The ordering of documents is arbitrary, so in the example below we can't dictate which three documents will be retrieved."
   ]
  },
  {
   "cell_type": "code",
   "execution_count": null,
   "metadata": {
    "collapsed": false,
    "run_control": {
     "read_only": false
    }
   },
   "outputs": [],
   "source": [
    "for p in tc.find({'birthyear': {'$lt': 1950}}, ['name', 'birthyear']):\n",
    "    print(p)"
   ]
  },
  {
   "cell_type": "code",
   "execution_count": null,
   "metadata": {
    "collapsed": false,
    "run_control": {
     "read_only": false
    }
   },
   "outputs": [],
   "source": [
    "for p in tc.find({'birthyear': {'$lt': 1950}}, ['name', 'birthyear'], limit=3):\n",
    "    print(p)"
   ]
  },
  {
   "cell_type": "markdown",
   "metadata": {},
   "source": [
    "### Reading into DataFrames\n",
    "We can create a _pandas_ DataFrame from a `list` of `dicts`, where each key in the `dict`s becomes a column in the DataFrame. This means we can convert the results of the `find()` directly into a _pandas_ DataFrame. (Note the `list` lurking in the middle.)"
   ]
  },
  {
   "cell_type": "code",
   "execution_count": null,
   "metadata": {
    "collapsed": false,
    "run_control": {
     "read_only": false
    }
   },
   "outputs": [],
   "source": [
    "pd.DataFrame(list(tc.find({})))"
   ]
  },
  {
   "cell_type": "markdown",
   "metadata": {},
   "source": [
    "## Update\n",
    "\n",
    "Things have moved on a bit from the _MongoDB: The Definitive Guide_ book. \n",
    "\n",
    "There are now several commands for changing a document. `replace_one()` takes two arguments: a specification of the document to update (in the same way as `find()`) and a document it's replaced with. The entirety of the document is replaced with the one given. If multiple documents match the query, an arbitrary one is replaced.\n",
    "\n",
    "In most cases, you'll want `update_one()` or `update_many()`. These both take two arguments: a specification of the document(s) to update, and a description of the changes to make to those documents. The changes are specified by `$set`, `$push`, and similar operations.\n",
    "\n",
    "All of these operations return an `UpdateResult`, which can be interrogated to find what effect the update had on the collection.\n",
    "\n",
    "Let's say we want to add a surname to one of the records:"
   ]
  },
  {
   "cell_type": "code",
   "execution_count": null,
   "metadata": {
    "activity": false,
    "collapsed": false,
    "run_control": {
     "read_only": false
    }
   },
   "outputs": [],
   "source": [
    "patrick = tc.find_one({'name': 'Patrick'})\n",
    "print(patrick)"
   ]
  },
  {
   "cell_type": "code",
   "execution_count": null,
   "metadata": {
    "activity": false,
    "collapsed": false,
    "run_control": {
     "read_only": false
    }
   },
   "outputs": [],
   "source": [
    "r = tc.update_one({'name': 'Patrick'}, {'$set': {'surname': 'Troughton'}})\n",
    "r.matched_count, r.modified_count"
   ]
  },
  {
   "cell_type": "markdown",
   "metadata": {},
   "source": [
    "(One document found, one updated.)\n",
    "\n",
    "If we now look for the updated document, we see the change:"
   ]
  },
  {
   "cell_type": "code",
   "execution_count": null,
   "metadata": {
    "activity": false,
    "collapsed": false,
    "run_control": {
     "read_only": false
    }
   },
   "outputs": [],
   "source": [
    "for p in tc.find({'name': 'Patrick'}):\n",
    "    print(p)"
   ]
  },
  {
   "cell_type": "markdown",
   "metadata": {},
   "source": [
    "To update every document that matches the query, use the `update_many()` operation. (This update just tags some documents with the `multi_updated` key.)"
   ]
  },
  {
   "cell_type": "code",
   "execution_count": null,
   "metadata": {
    "activity": false,
    "collapsed": false,
    "run_control": {
     "read_only": false
    }
   },
   "outputs": [],
   "source": [
    "r = tc.update_many({'name': 'Peter'}, {'$set': {'multi_updated': True}})\n",
    "r.matched_count, r.modified_count"
   ]
  },
  {
   "cell_type": "code",
   "execution_count": null,
   "metadata": {
    "activity": false,
    "collapsed": false,
    "run_control": {
     "read_only": false
    }
   },
   "outputs": [],
   "source": [
    "for p in tc.find():\n",
    "    print(p)"
   ]
  },
  {
   "cell_type": "markdown",
   "metadata": {},
   "source": [
    "You can see that the two Peters were updated. \n",
    "\n",
    "We can remove the additional key with the `$unset` modifier (the value we're updating it to is ignored):"
   ]
  },
  {
   "cell_type": "code",
   "execution_count": null,
   "metadata": {
    "activity": false,
    "collapsed": false,
    "run_control": {
     "read_only": false
    }
   },
   "outputs": [],
   "source": [
    "tc.update_many({'name': 'Peter'}, {'$unset': {'multi_updated': ''}})\n",
    "for p in tc.find():\n",
    "    print(p)"
   ]
  },
  {
   "cell_type": "markdown",
   "metadata": {},
   "source": [
    "The 'many' approach can only give the same value to each matching document. If we want to give a different value to each document, we have to specify each document in turn in the update. This is efficient if we use the document's `_id`, as that's indexed:"
   ]
  },
  {
   "cell_type": "code",
   "execution_count": null,
   "metadata": {
    "activity": false,
    "collapsed": false,
    "run_control": {
     "read_only": false
    }
   },
   "outputs": [],
   "source": [
    "import datetime\n",
    "for p in tc.find():\n",
    "    tc.update_one({'_id': p['_id']}, {'$set': {'age': datetime.datetime.now().year - p['birthyear']}})\n",
    "for p in tc.find():\n",
    "    print(p)"
   ]
  },
  {
   "cell_type": "markdown",
   "metadata": {
    "activity": "activityAns"
   },
   "source": [
    "### Activity 3\n",
    "Classify the people into two groups. Those born in 1945 or earlier should be labelled as `'age': 'old'`, while the others should be labelled as `'age': 'young'`.\n",
    "\n",
    "Store the results in a new DataFrame.\n",
    "\n",
    "The solution is in the [`14.1solutions`](14.1solutions.ipynb) Notebook."
   ]
  },
  {
   "cell_type": "code",
   "execution_count": null,
   "metadata": {
    "collapsed": false,
    "run_control": {
     "read_only": false
    }
   },
   "outputs": [],
   "source": [
    "# Insert your solution here"
   ]
  },
  {
   "cell_type": "markdown",
   "metadata": {},
   "source": [
    "## Embedded documents\n",
    "\n",
    "Values in documents can be themselves documents. For instance, we can encapsulate each person's name in a sub-document."
   ]
  },
  {
   "cell_type": "code",
   "execution_count": null,
   "metadata": {
    "activity": false,
    "collapsed": false,
    "run_control": {
     "read_only": false
    }
   },
   "outputs": [],
   "source": [
    "tc.drop()\n",
    "# Insert a few\n",
    "for f, s, b in zip('William Patrick Jon Tom Peter Colin Sylvester Paul Christopher David Matt Peter'.split(),\n",
    "                   'Hartnell Troughton Pertwee Baker Davison Baker McCoy McGann Eccleston Tennant Smith Capaldi'.split(),\n",
    "                [1908, 1920, 1919, 1934, 1951, 1943, 1943, 1959, 1964, 1971, 1982, 1958]):\n",
    "    tc.insert_one({'name': {'forename': f, 'surname': s}, 'birthyear': b})\n",
    "for p in tc.find():\n",
    "    print(p)"
   ]
  },
  {
   "cell_type": "markdown",
   "metadata": {},
   "source": [
    "We can also include a list of notable stories for each person. Note the use of the dot notation to identify keys in a sub-document."
   ]
  },
  {
   "cell_type": "code",
   "execution_count": null,
   "metadata": {
    "activity": false,
    "collapsed": false,
    "run_control": {
     "read_only": false
    }
   },
   "outputs": [],
   "source": [
    "r = tc.update_one({'name.forename': 'William', 'name.surname': 'Hartnell'},\n",
    "        {'$set': {'episodes': ['An Unearthly Child', 'The Daleks', 'The Tenth Planet']}})\n",
    "r.matched_count, r.modified_count"
   ]
  },
  {
   "cell_type": "code",
   "execution_count": null,
   "metadata": {
    "activity": false,
    "collapsed": false,
    "run_control": {
     "read_only": false
    }
   },
   "outputs": [],
   "source": [
    "tc.find_one({'name.forename': 'William'})"
   ]
  },
  {
   "cell_type": "markdown",
   "metadata": {},
   "source": [
    "There's lots more information on this in *MongoDB: The Definitive Guide*, the [MongoDB documentation](http://docs.mongodb.org/manual/reference/), and the [PyMongo documentation](http://api.mongodb.org/python/current/api/index.html)."
   ]
  },
  {
   "cell_type": "markdown",
   "metadata": {},
   "source": [
    "# Importing data\n",
    "Now we've seen the basics of how Mongo works, let's import and process a larger dataset.\n",
    "\n",
    "The rest of this Notebook shows you how to import data from CSV files into MongoDB. In this example, we're using the data from the [Ultimate Doctor Who](http://www.ultimatedoctorwho.com/) site, though with some modifications to remove duplicate column names in the file.\n",
    "\n",
    "First, let's take a look at the data in the CSV file."
   ]
  },
  {
   "cell_type": "code",
   "execution_count": null,
   "metadata": {
    "collapsed": false,
    "run_control": {
     "read_only": false
    }
   },
   "outputs": [],
   "source": [
    "!head data/Ultimate_Doctor_Who_resave.csv"
   ]
  },
  {
   "cell_type": "markdown",
   "metadata": {},
   "source": [
    "The command to import files into Mongo is `mongoimport`. It imports a file into a specified collection in the specified database. It takes a number of parameters, but these are the most useful to you:\n",
    "\n",
    "* `drop` drops the collection if it exists already\n",
    "* `db` and `collection` specify where the imported data should go\n",
    "* `headerline` indicates that the first line in the file contains the column names, which will be used as keys for the created documents\n",
    "* `ignoreBlanks` means that keys with empty values will not be created in the imported documents\n",
    "* `file` tells `mongoimport` where the data resides."
   ]
  },
  {
   "cell_type": "code",
   "execution_count": null,
   "metadata": {
    "collapsed": false,
    "run_control": {
     "read_only": false
    }
   },
   "outputs": [],
   "source": [
    "!/etc/mongodb/bin/mongoimport --port 27351 --drop --db doctorwho --collection episodes \\\n",
    "    --type csv --headerline --ignoreBlanks \\\n",
    "    --file data/Ultimate_Doctor_Who_resave.csv"
   ]
  },
  {
   "cell_type": "code",
   "execution_count": null,
   "metadata": {
    "collapsed": true,
    "run_control": {
     "read_only": false
    }
   },
   "outputs": [],
   "source": [
    "# Open the imported database and collection.\n",
    "episodes = dw_db.episodes"
   ]
  },
  {
   "cell_type": "code",
   "execution_count": null,
   "metadata": {
    "collapsed": false,
    "run_control": {
     "read_only": false
    }
   },
   "outputs": [],
   "source": [
    "episodes.find().count()"
   ]
  },
  {
   "cell_type": "code",
   "execution_count": null,
   "metadata": {
    "collapsed": false,
    "run_control": {
     "read_only": false
    }
   },
   "outputs": [],
   "source": [
    "episodes.find_one()"
   ]
  },
  {
   "cell_type": "markdown",
   "metadata": {},
   "source": [
    "Note that `mongoimport` treats dots in the column names as names of keys within sub-documents, so the column name 'No. of parts' becomes a sub-document within a 'No' key."
   ]
  },
  {
   "cell_type": "markdown",
   "metadata": {},
   "source": [
    "## Cleaning\n",
    "As with most imported data, this dataset needs some cleaning to massage it into shape. For instance, we might want to collect the various companions into one list in the document, while deleting the individual fields.\n",
    "\n",
    "`$push` adds an item to a list (and creates it if it doesn't exist). `$unset` removes a key from a document. This next cell will remove the separate `Companion` key-values and push them into a list of `Companions`."
   ]
  },
  {
   "cell_type": "code",
   "execution_count": null,
   "metadata": {
    "collapsed": true,
    "run_control": {
     "read_only": false
    }
   },
   "outputs": [],
   "source": [
    "for e in episodes.find():\n",
    "    for key in list(e.keys()):\n",
    "        if key.startswith('Companion '):\n",
    "            episodes.update_one({'_id': e['_id']}, {'$push': {'Companions': e[key]},\n",
    "                                                '$unset': {key: 1}})"
   ]
  },
  {
   "cell_type": "code",
   "execution_count": null,
   "metadata": {
    "collapsed": false,
    "run_control": {
     "read_only": false
    }
   },
   "outputs": [],
   "source": [
    "episodes.find_one()"
   ]
  },
  {
   "cell_type": "markdown",
   "metadata": {
    "activity": "activity"
   },
   "source": [
    "### Activity 4\n",
    "* Note that this activity is optional, and is more of a programming exercise than really teaching you much about MongoDB. You'll miss nothing by just looking at the solution.\n",
    "\n",
    "Create a list of sub-documents, one for each part. Each part sub-document should contain the part number, air date, and number of viewers. For example:\n",
    "\n",
    "`'Parts': [{'Number': 1, 'Air date': datetime.datetime(1963, 11, 26, 0, 0), 'Viewers': 4.4},\n",
    "    {'Number': 2, 'Air date': datetime.datetime(1963, 11, 30, 0, 0), 'Viewers': 5.9},\n",
    "    {'Number': 3, 'Air date': datetime.datetime(1963, 12, 7, 0, 0), 'Viewers': 6.9},\n",
    "    {'Number': 4, 'Air date': datetime.datetime(1963, 12, 14, 0, 0), 'Viewers': 6.4}]`\n",
    "\n",
    "Note that parts are sometimes identifeid by `Pt`, sometimes by `pt`, and that everything's case sensitive.\n",
    "\n",
    "Note that POSIX date conversions assume that '11/26/63' means 11 November 2063, so you'll need to fiddle with the years. The magic incantation is:\n",
    "\n",
    "`d = datetime.strptime('11/26/63', '%m/%d/%y')\n",
    "d = d.replace(year=(d.year - 100))`\n",
    "\n",
    "(hoping that the year isn't 2400 or 2000).\n",
    "\n",
    "Finally, note that if you update documents while iterating over many of them, Mongo may decide to return the updated document to you later in the same iteration (i.e. you may end up processing the same document more than once). Either check whether a document has been updated before you start processing it again, or use a _snapshot query_ which doesn't exhibit this behaviour. The format for snapshot queries is to include `modifiers={\"$snapshot\": True}` as a keyword parameter to `find()`.\n",
    "\n",
    "The solution is in the [`14.1solutions`](14.1solutions.ipynb) Notebook."
   ]
  },
  {
   "cell_type": "code",
   "execution_count": null,
   "metadata": {
    "collapsed": true,
    "run_control": {
     "read_only": false
    }
   },
   "outputs": [],
   "source": [
    "# Try your code here"
   ]
  },
  {
   "cell_type": "markdown",
   "metadata": {},
   "source": [
    "## Clean up\n",
    "Drop this test database"
   ]
  },
  {
   "cell_type": "code",
   "execution_count": null,
   "metadata": {
    "activity": false,
    "collapsed": false,
    "run_control": {
     "read_only": false
    }
   },
   "outputs": [],
   "source": [
    "client.drop_database(dw_db)"
   ]
  },
  {
   "cell_type": "markdown",
   "metadata": {
    "activity": false,
    "collapsed": false,
    "run_control": {
     "read_only": false
    }
   },
   "source": [
    "## What next?\n",
    "If you are working through this Notebook as part of an inline exercise, return to the module materials now.\n",
    "\n",
    "If you are working through this set of Notebooks as a whole, move on to `14.2 Introduction to accidents`."
   ]
  }
 ],
 "metadata": {
  "kernelspec": {
   "display_name": "Python 3",
   "language": "python",
   "name": "python3"
  },
  "language_info": {
   "codemirror_mode": {
    "name": "ipython",
    "version": 3
   },
   "file_extension": ".py",
   "mimetype": "text/x-python",
   "name": "python",
   "nbconvert_exporter": "python",
   "pygments_lexer": "ipython3",
   "version": "3.4.3"
  }
 },
 "nbformat": 4,
 "nbformat_minor": 0
}
