{
 "cells": [
  {
   "cell_type": "code",
   "execution_count": null,
   "metadata": {
    "collapsed": true,
    "run_control": {
     "read_only": false
    }
   },
   "outputs": [],
   "source": [
    "# Import the required libraries\n",
    "\n",
    "import pymongo\n",
    "from datetime import datetime\n",
    "\n",
    "import pandas as pd"
   ]
  },
  {
   "cell_type": "code",
   "execution_count": null,
   "metadata": {
    "collapsed": true,
    "run_control": {
     "read_only": false
    }
   },
   "outputs": [],
   "source": [
    "# Open a connection to the Mongo server\n",
    "client = pymongo.MongoClient('mongodb://localhost:27351/')"
   ]
  },
  {
   "cell_type": "code",
   "execution_count": null,
   "metadata": {
    "collapsed": true,
    "run_control": {
     "read_only": false
    }
   },
   "outputs": [],
   "source": [
    "# Create a doctorwho database and a test_collection within it.\n",
    "dw_db = client.doctorwho\n",
    "tc = dw_db.test_collection\n",
    "episodes = dw_db.episodes"
   ]
  },
  {
   "cell_type": "markdown",
   "metadata": {},
   "source": [
    "# Activity 1"
   ]
  },
  {
   "cell_type": "code",
   "execution_count": null,
   "metadata": {
    "collapsed": false,
    "run_control": {
     "read_only": false
    }
   },
   "outputs": [],
   "source": [
    "tc.find_one({'birthyear': 1943})"
   ]
  },
  {
   "cell_type": "markdown",
   "metadata": {},
   "source": [
    "# Activity 2"
   ]
  },
  {
   "cell_type": "code",
   "execution_count": null,
   "metadata": {
    "collapsed": false,
    "run_control": {
     "read_only": false
    }
   },
   "outputs": [],
   "source": [
    "# How many people were born in 1943?\n",
    "tc.find({'birthyear': 1943}).count()"
   ]
  },
  {
   "cell_type": "code",
   "execution_count": null,
   "metadata": {
    "collapsed": false,
    "run_control": {
     "read_only": false
    }
   },
   "outputs": [],
   "source": [
    "# What are the names of people born in 1943?\n",
    "list(tc.find({'birthyear': 1943}, {'name': 1, '_id': 0}))"
   ]
  },
  {
   "cell_type": "markdown",
   "metadata": {},
   "source": [
    "# Activity 3"
   ]
  },
  {
   "cell_type": "code",
   "execution_count": null,
   "metadata": {
    "collapsed": false,
    "run_control": {
     "read_only": false
    }
   },
   "outputs": [],
   "source": [
    "for p in tc.find():\n",
    "    if p['birthyear'] <= 1945:\n",
    "        tc.update_one({'_id': p['_id']}, {'$set': {'age': 'old'}})\n",
    "    else:\n",
    "        tc.update_one({'_id': p['_id']}, {'$set': {'age': 'young'}})\n",
    "\n",
    "pd.DataFrame(list(tc.find({}, {'_id': 0})))"
   ]
  },
  {
   "cell_type": "markdown",
   "metadata": {},
   "source": [
    "# Activity 4"
   ]
  },
  {
   "cell_type": "code",
   "execution_count": null,
   "metadata": {
    "collapsed": false,
    "run_control": {
     "read_only": false
    }
   },
   "outputs": [],
   "source": [
    "for e in episodes.find():\n",
    "    clean_parts = {}\n",
    "    parts = e['Pt']\n",
    "    if 'pt' in e:\n",
    "        parts.update(e['pt'])\n",
    "    for p in parts:\n",
    "        k = p.strip()\n",
    "        n = int(k[:2])\n",
    "        if n not in clean_parts:\n",
    "            clean_parts[n] = {'Number': n}\n",
    "        if 'date' in k:\n",
    "            d = datetime.strptime(parts[p], '%m/%d/%y')\n",
    "            clean_parts[n]['Air date'] = d.replace(year=(d.year - 100))\n",
    "        if 'viewers' in k:\n",
    "            clean_parts[n]['Viewers'] = parts[p]\n",
    "    assert len(clean_parts.values()) == e['No'][' of parts']\n",
    "    episodes.update_one({'_id': e['_id']}, {'$set': {'Parts': list(clean_parts.values())}})\n",
    "    \n",
    "r = episodes.update_many({}, {'$unset': {'Pt': 1, 'pt': 1}})\n",
    "r.matched_count, r.modified_count"
   ]
  },
  {
   "cell_type": "code",
   "execution_count": null,
   "metadata": {
    "collapsed": false,
    "run_control": {
     "read_only": false
    }
   },
   "outputs": [],
   "source": [
    "episodes.find_one({'Season': 1, 'Story ID': 4})"
   ]
  },
  {
   "cell_type": "code",
   "execution_count": null,
   "metadata": {
    "collapsed": true,
    "run_control": {
     "read_only": false
    }
   },
   "outputs": [],
   "source": []
  }
 ],
 "metadata": {
  "kernelspec": {
   "display_name": "Python 3",
   "language": "python",
   "name": "python3"
  },
  "language_info": {
   "codemirror_mode": {
    "name": "ipython",
    "version": 3
   },
   "file_extension": ".py",
   "mimetype": "text/x-python",
   "name": "python",
   "nbconvert_exporter": "python",
   "pygments_lexer": "ipython3",
   "version": "3.4.3"
  }
 },
 "nbformat": 4,
 "nbformat_minor": 0
}
