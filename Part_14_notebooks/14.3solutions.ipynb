{
 "cells": [
  {
   "cell_type": "code",
   "execution_count": null,
   "metadata": {
    "collapsed": true,
    "run_control": {
     "read_only": false
    }
   },
   "outputs": [],
   "source": [
    "# Import the required libraries\n",
    "\n",
    "import pymongo\n",
    "import datetime\n",
    "import collections\n",
    "\n",
    "import pandas as pd\n",
    "import scipy.stats"
   ]
  },
  {
   "cell_type": "code",
   "execution_count": null,
   "metadata": {
    "collapsed": false,
    "run_control": {
     "read_only": false
    }
   },
   "outputs": [],
   "source": [
    "# Open a connection to the Mongo server, open the accidents database and name the collections of accidents and labels\n",
    "# client = pymongo.MongoClient('mongodb://localhost:27017/')\n",
    "client = pymongo.MongoClient('mongodb://localhost:27351/')\n",
    "\n",
    "db = client.accidents\n",
    "accidents = db.accidents\n",
    "labels = db.labels"
   ]
  },
  {
   "cell_type": "code",
   "execution_count": null,
   "metadata": {
    "collapsed": true,
    "run_control": {
     "read_only": false
    }
   },
   "outputs": [],
   "source": [
    "# Load the expanded names of keys and human-readable codes into memory\n",
    "\n",
    "expanded_name = collections.defaultdict(str)\n",
    "for e in labels.find({'expanded': {\"$exists\": True}}):\n",
    "    expanded_name[e['label']] = e['expanded']\n",
    "    \n",
    "label_of = collections.defaultdict(str)\n",
    "for l in labels.find({'codes': {\"$exists\": True}}):\n",
    "    for c in l['codes']:\n",
    "        try:\n",
    "            label_of[l['label'], int(c)] = l['codes'][c]\n",
    "        except ValueError: \n",
    "            label_of[l['label'], c] = l['codes'][c]"
   ]
  },
  {
   "cell_type": "markdown",
   "metadata": {},
   "source": [
    "# Activity 1"
   ]
  },
  {
   "cell_type": "code",
   "execution_count": null,
   "metadata": {
    "collapsed": false,
    "run_control": {
     "read_only": false
    }
   },
   "outputs": [],
   "source": [
    "sorted([(code, label_of[key, code]) for key, code in label_of if key == 'Age_Band_of_Driver'])"
   ]
  },
  {
   "cell_type": "code",
   "execution_count": null,
   "metadata": {
    "collapsed": false,
    "run_control": {
     "read_only": false
    }
   },
   "outputs": [],
   "source": [
    "sorted([(code, label_of[key, code]) for key, code in label_of if key == 'Age_Band_of_Casualty'])"
   ]
  },
  {
   "cell_type": "code",
   "execution_count": null,
   "metadata": {
    "collapsed": false,
    "run_control": {
     "read_only": false
    }
   },
   "outputs": [],
   "source": [
    "sorted([(code, label_of[key, code]) for key, code in label_of if key == 'Casualty_Class'])"
   ]
  },
  {
   "cell_type": "code",
   "execution_count": null,
   "metadata": {
    "collapsed": false,
    "run_control": {
     "read_only": false
    },
    "scrolled": true
   },
   "outputs": [],
   "source": [
    "driver_passenger_unrolled_df = pd.DataFrame([\n",
    "    {'Age_Band_of_Driver': v['Age_Band_of_Driver'], \n",
    "     'Age_Band_of_Casualty': c['Age_Band_of_Casualty']}\n",
    "    for a in accidents.find({})\n",
    "    for c in a['Casualties']\n",
    "    for v in a['Vehicles']\n",
    "    if c['Vehicle_Reference'] == v['Vehicle_Reference']\n",
    "    if c['Casualty_Class'] == 2\n",
    "    if c['Age_Band_of_Casualty'] != -1\n",
    "    if v['Age_Band_of_Driver'] != -1 ])\n",
    "driver_passenger_unrolled_df"
   ]
  },
  {
   "cell_type": "code",
   "execution_count": null,
   "metadata": {
    "collapsed": false,
    "run_control": {
     "read_only": false
    },
    "scrolled": true
   },
   "outputs": [],
   "source": [
    "driver_passenger_df = pd.crosstab(driver_passenger_unrolled_df['Age_Band_of_Driver'],\n",
    "                                  driver_passenger_unrolled_df['Age_Band_of_Casualty'])\n",
    "driver_passenger_df"
   ]
  },
  {
   "cell_type": "code",
   "execution_count": null,
   "metadata": {
    "collapsed": false,
    "run_control": {
     "read_only": false
    },
    "scrolled": true
   },
   "outputs": [],
   "source": [
    "driver_passenger_long_df = driver_passenger_df.stack().reset_index()\n",
    "driver_passenger_long_df"
   ]
  },
  {
   "cell_type": "code",
   "execution_count": null,
   "metadata": {
    "collapsed": false,
    "run_control": {
     "read_only": false
    }
   },
   "outputs": [],
   "source": [
    "plt.scatter(driver_passenger_long_df['Age_Band_of_Driver'], \n",
    "            driver_passenger_long_df['Age_Band_of_Casualty'],\n",
    "            s=np.sqrt(driver_passenger_long_df[0])*1.5,\n",
    "            alpha=0.5 )\n",
    "plt.xlabel('Driver age band')\n",
    "plt.ylabel('Passenger age band')\n",
    "\n",
    "plt.show()"
   ]
  },
  {
   "cell_type": "markdown",
   "metadata": {},
   "source": [
    "We can now apply the `spearmanr` function to calculate Spearman's *ρ* (rho) value of correlation. \n",
    "\n",
    "Note that we have to give each accident on its own row: if there are 44,000 passenger casualties, the `spearman` function must be passed lists with 44,000 items.\n",
    "\n",
    "Recall that values near +1 show good positive correlation, values near -1 show good negative correlation, and values near 0 show no particular correlation. The `scipy` function returns a second value, the *p* value of the result. "
   ]
  },
  {
   "cell_type": "code",
   "execution_count": null,
   "metadata": {
    "collapsed": false,
    "run_control": {
     "read_only": false
    }
   },
   "outputs": [],
   "source": [
    "scipy.stats.spearmanr(driver_passenger_unrolled_df['Age_Band_of_Driver'], \n",
    "                      driver_passenger_unrolled_df['Age_Band_of_Casualty'])"
   ]
  },
  {
   "cell_type": "markdown",
   "metadata": {},
   "source": [
    "This shows a resonable correlation: the older the driver, the older the passengers. \n",
    "\n",
    "The *p* value of zero means that this correlation cannot be explained by chance: we should reject the null hypothesis that the ages of drivers and passengers are unrelated. In other words, the correlation is a real one."
   ]
  },
  {
   "cell_type": "markdown",
   "metadata": {},
   "source": [
    "# Activity 2"
   ]
  },
  {
   "cell_type": "code",
   "execution_count": null,
   "metadata": {
    "collapsed": false,
    "run_control": {
     "read_only": false
    }
   },
   "outputs": [],
   "source": [
    "# What are the weather types?\n",
    "[(code, label_of[key, code]) for key, code in label_of if key == 'Weather_Conditions']"
   ]
  },
  {
   "cell_type": "code",
   "execution_count": null,
   "metadata": {
    "collapsed": false,
    "run_control": {
     "read_only": false
    },
    "scrolled": true
   },
   "outputs": [],
   "source": [
    "# Build a DataFrame, one row for each accident\n",
    "speed_by_weather_unrolled_df = pd.DataFrame(list(accidents.find({}, ['Speed_limit', 'Weather_Conditions'])))\n",
    "\n",
    "# Count the number of each severity\n",
    "speed_by_weather_df = pd.crosstab(speed_by_weather_unrolled_df['Speed_limit'], \n",
    "                                      speed_by_weather_unrolled_df['Weather_Conditions'])\n"
   ]
  },
  {
   "cell_type": "code",
   "execution_count": null,
   "metadata": {
    "collapsed": false,
    "run_control": {
     "read_only": false
    }
   },
   "outputs": [],
   "source": [
    "speed_by_weather_df"
   ]
  },
  {
   "cell_type": "code",
   "execution_count": null,
   "metadata": {
    "collapsed": false,
    "run_control": {
     "read_only": false
    }
   },
   "outputs": [],
   "source": [
    "speed_by_weather_df.columns = [label_of['Weather_Conditions', w] for w in speed_by_weather_df.columns]\n",
    "speed_by_weather_df"
   ]
  },
  {
   "cell_type": "markdown",
   "metadata": {},
   "source": [
    "We need to remove some of the rows and columns, to ensure that every cell has at least 5 elements. Let's remove the 10 and 20mph zone data, and the 'missing' weather column."
   ]
  },
  {
   "cell_type": "code",
   "execution_count": null,
   "metadata": {
    "collapsed": false,
    "run_control": {
     "read_only": false
    }
   },
   "outputs": [],
   "source": [
    "# speed_by_weather_df.drop('Data missing or out of range', axis=1, inplace=True)\n",
    "speed_by_weather_df.drop(10, axis=0, inplace=True)\n",
    "speed_by_weather_df.drop(20, axis=0, inplace=True)\n",
    "speed_by_weather_df"
   ]
  },
  {
   "cell_type": "code",
   "execution_count": null,
   "metadata": {
    "collapsed": false,
    "run_control": {
     "read_only": false
    }
   },
   "outputs": [],
   "source": [
    "ax = speed_by_weather_df.plot(kind='bar')\n",
    "ax.legend(loc='center left', bbox_to_anchor=(1, 0.5))"
   ]
  },
  {
   "cell_type": "code",
   "execution_count": null,
   "metadata": {
    "collapsed": true,
    "run_control": {
     "read_only": false
    }
   },
   "outputs": [],
   "source": [
    "#Copied from main notebook\n",
    "def expected_of_df(actual_df):\n",
    "    df = pd.DataFrame(\n",
    "        {c: \n",
    "         {r: actual_df[c].sum() * actual_df.loc[r].sum() / actual_df.sum().sum()\n",
    "                  for r in actual_df[c].index} \n",
    "              for c in actual_df})\n",
    "    df = df[actual_df.columns]\n",
    "    df = df.reindex(actual_df.index)\n",
    "    return df"
   ]
  },
  {
   "cell_type": "code",
   "execution_count": null,
   "metadata": {
    "collapsed": false,
    "run_control": {
     "read_only": false
    }
   },
   "outputs": [],
   "source": [
    "expected_speed_by_weather_df = expected_of_df(speed_by_weather_df)\n",
    "expected_speed_by_weather_df"
   ]
  },
  {
   "cell_type": "code",
   "execution_count": null,
   "metadata": {
    "collapsed": false,
    "run_control": {
     "read_only": false
    }
   },
   "outputs": [],
   "source": [
    "ax = expected_speed_by_weather_df.plot(kind='bar')\n",
    "ax.legend(loc='center left', bbox_to_anchor=(1, 0.5))"
   ]
  },
  {
   "cell_type": "code",
   "execution_count": null,
   "metadata": {
    "collapsed": false,
    "run_control": {
     "read_only": false
    }
   },
   "outputs": [],
   "source": [
    "scipy.stats.chisquare(speed_by_weather_df, expected_speed_by_weather_df, axis=None)"
   ]
  },
  {
   "cell_type": "markdown",
   "metadata": {},
   "source": [
    "The very small *p* value shows that this is a significant result: weather conditions affect accident rates differently on different roads.\n",
    "\n",
    "Note that the chi-squared test doesn't tell us anything about *how* the weather conditions affect accident rates, only that they do."
   ]
  }
 ],
 "metadata": {
  "kernelspec": {
   "display_name": "Python 3",
   "language": "python",
   "name": "python3"
  },
  "language_info": {
   "codemirror_mode": {
    "name": "ipython",
    "version": 3
   },
   "file_extension": ".py",
   "mimetype": "text/x-python",
   "name": "python",
   "nbconvert_exporter": "python",
   "pygments_lexer": "ipython3",
   "version": "3.4.3"
  }
 },
 "nbformat": 4,
 "nbformat_minor": 0
}
