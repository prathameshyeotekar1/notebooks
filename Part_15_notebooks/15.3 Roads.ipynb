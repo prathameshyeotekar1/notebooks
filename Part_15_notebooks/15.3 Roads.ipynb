{
 "cells": [
  {
   "cell_type": "markdown",
   "metadata": {},
   "source": [
    "# Roads\n",
    "\n",
    "This Notebook will show you the roads dataset and integrate it with the accidents data."
   ]
  },
  {
   "cell_type": "markdown",
   "metadata": {},
   "source": [
    "First, some boilerplate imports."
   ]
  },
  {
   "cell_type": "code",
   "execution_count": null,
   "metadata": {
    "collapsed": false,
    "run_control": {
     "read_only": false
    }
   },
   "outputs": [],
   "source": [
    "# Import the required libraries\n",
    "\n",
    "import pymongo\n",
    "import datetime\n",
    "import collections\n",
    "\n",
    "import pandas as pd\n",
    "import scipy.stats\n",
    "\n",
    "import matplotlib as mpl\n",
    "\n",
    "mpl.rcParams['figure.figsize'] = (15, 15) # Reset the base size of figures so they're large enough to be useful.\n",
    "\n",
    "import folium"
   ]
  },
  {
   "cell_type": "code",
   "execution_count": null,
   "metadata": {
    "collapsed": false,
    "run_control": {
     "read_only": false
    }
   },
   "outputs": [],
   "source": [
    "# Open a connection to the Mongo server, open the accidents database and name the collections of accidents and labels\n",
    "client = pymongo.MongoClient('mongodb://localhost:27351/')\n",
    "\n",
    "db = client.accidents\n",
    "accidents = db.accidents\n",
    "labels = db.labels\n",
    "roads = db.roads"
   ]
  },
  {
   "cell_type": "code",
   "execution_count": null,
   "metadata": {
    "collapsed": false,
    "run_control": {
     "read_only": false
    }
   },
   "outputs": [],
   "source": [
    "# Load the expanded names of keys and human-readable codes into memory\n",
    "expanded_name = collections.defaultdict(str)\n",
    "for e in labels.find({'expanded': {\"$exists\": True}}):\n",
    "    expanded_name[e['label']] = e['expanded']\n",
    "    \n",
    "label_of = collections.defaultdict(str)\n",
    "for l in labels.find({'codes': {\"$exists\": True}}):\n",
    "    for c in l['codes']:\n",
    "        try:\n",
    "            label_of[l['label'], int(c)] = l['codes'][c]\n",
    "        except ValueError: \n",
    "            label_of[l['label'], c] = l['codes'][c]"
   ]
  },
  {
   "cell_type": "code",
   "execution_count": null,
   "metadata": {
    "collapsed": true,
    "run_control": {
     "read_only": false
    }
   },
   "outputs": [],
   "source": [
    "def results_to_table(results, index_name, column_name, results_name, \n",
    "                     fillna=None,\n",
    "                     relabel_index=False, relabel_columns=False,\n",
    "                     index_label=None, column_label=None):\n",
    "    \n",
    "    # Move items in dicts-of-dicts to the top level.\n",
    "    def flatten(d):\n",
    "        new_d = {}\n",
    "        for k in d:\n",
    "            if isinstance(d[k], dict):\n",
    "                new_d.update(flatten(d[k]))\n",
    "            else:\n",
    "                new_d[k] = d[k]\n",
    "        return new_d\n",
    "\n",
    "    df = pd.DataFrame([flatten(r) for r in results])\n",
    "    df = df.pivot(index=index_name, columns=column_name, values=results_name)\n",
    "    \n",
    "    # Optionally, fiddle with names and labels to make the DataFrame pretty.\n",
    "    if not fillna is None:\n",
    "        df.fillna(fillna, inplace=True)\n",
    "    if relabel_columns:\n",
    "        df.columns = [label_of[column_name, c] for c in df.columns]\n",
    "    if relabel_index:\n",
    "        df.index = [label_of[index_name, r] for r in df.index]\n",
    "    if column_label:\n",
    "        df.columns.name = column_label\n",
    "    else:\n",
    "        df.columns.name = column_name\n",
    "    if index_label:\n",
    "        df.index.name = index_label\n",
    "    else:\n",
    "        df.index.name = index_name\n",
    "    return df"
   ]
  },
  {
   "cell_type": "markdown",
   "metadata": {},
   "source": [
    "## Looking at roads\n",
    "\n",
    "What's in a 'road' document?"
   ]
  },
  {
   "cell_type": "code",
   "execution_count": null,
   "metadata": {
    "collapsed": false,
    "run_control": {
     "read_only": false
    },
    "scrolled": true
   },
   "outputs": [],
   "source": [
    "roads.find_one()"
   ]
  },
  {
   "cell_type": "markdown",
   "metadata": {},
   "source": [
    "It's a section of road with totals of different vehicle types that passed along that section. Road sections have two ends, either junctions or region boundaries. The `Fd...` keys are the number of vehicles of a particular class that passed this point (in the forward direction, but there's no 'reverse' direction specified)."
   ]
  },
  {
   "cell_type": "markdown",
   "metadata": {},
   "source": [
    "What do the codes mean?"
   ]
  },
  {
   "cell_type": "code",
   "execution_count": null,
   "metadata": {
    "collapsed": false,
    "run_control": {
     "read_only": false
    }
   },
   "outputs": [],
   "source": [
    "expanded_name['FdAll_MV']"
   ]
  },
  {
   "cell_type": "code",
   "execution_count": null,
   "metadata": {
    "collapsed": false,
    "run_control": {
     "read_only": false
    }
   },
   "outputs": [],
   "source": [
    "expanded_name['FdHGVA6']"
   ]
  },
  {
   "cell_type": "markdown",
   "metadata": {},
   "source": [
    "What are the road categories?"
   ]
  },
  {
   "cell_type": "code",
   "execution_count": null,
   "metadata": {
    "collapsed": false,
    "run_control": {
     "read_only": false
    }
   },
   "outputs": [],
   "source": [
    "[(c, label_of['RCat', c]) for k, c in label_of if k == 'RCat']"
   ]
  },
  {
   "cell_type": "markdown",
   "metadata": {},
   "source": [
    "Note that not every road segment has a location. We'll have to bear that in mind when doing geographic analysis of the roads dataset."
   ]
  },
  {
   "cell_type": "code",
   "execution_count": null,
   "metadata": {
    "collapsed": false,
    "run_control": {
     "read_only": false
    }
   },
   "outputs": [],
   "source": [
    "roads.find({'loc': {'$exists': False}}).count()"
   ]
  },
  {
   "cell_type": "code",
   "execution_count": null,
   "metadata": {
    "collapsed": false,
    "run_control": {
     "read_only": false
    }
   },
   "outputs": [],
   "source": [
    "roads.find({'loc': {'$exists': True}}).count()"
   ]
  },
  {
   "cell_type": "markdown",
   "metadata": {},
   "source": [
    "## Plotting some road points\n",
    "\n",
    "To start with, let's just plot some road segments on the map to see where they are. We'll reuse the map-making procedures fron Notebook 15.1."
   ]
  },
  {
   "cell_type": "code",
   "execution_count": null,
   "metadata": {
    "collapsed": true,
    "run_control": {
     "read_only": false
    }
   },
   "outputs": [],
   "source": [
    "def add_accidents_markers(the_map, query, number_of_sides=5, fill_color='#769d96', limit=0,\n",
    "                     radius=5, rotation=54):\n",
    "    for a in accidents.find(query, \n",
    "                            ['loc.coordinates'],\n",
    "                            limit=limit):\n",
    "        folium.RegularPolygonMarker(location=[a['loc']['coordinates'][1], a['loc']['coordinates'][0]], \n",
    "                     number_of_sides=number_of_sides, radius=radius, rotation=rotation,\n",
    "                                   fill_color=fill_color).add_to(the_map)  "
   ]
  },
  {
   "cell_type": "code",
   "execution_count": null,
   "metadata": {
    "collapsed": false,
    "run_control": {
     "read_only": false
    }
   },
   "outputs": [],
   "source": [
    "def add_roads_markers(the_map, query, number_of_sides=5, fill_color='#769d96', limit=0,\n",
    "                     radius=5, rotation=54):\n",
    "    for r in roads.find(query, \n",
    "                        ['loc.coordinates'],\n",
    "                       limit=limit):\n",
    "        folium.RegularPolygonMarker(location=[r['loc']['coordinates'][1], r['loc']['coordinates'][0]], \n",
    "                     number_of_sides=number_of_sides, radius=radius, rotation=rotation,\n",
    "                                   fill_color=fill_color).add_to(the_map)    "
   ]
  },
  {
   "cell_type": "code",
   "execution_count": null,
   "metadata": {
    "collapsed": false,
    "run_control": {
     "read_only": false
    }
   },
   "outputs": [],
   "source": [
    "m = folium.Map([55, -3], zoom_start=6)    \n",
    "\n",
    "add_roads_markers(m, {'loc': {'$exists': True}}, limit=1000)\n",
    "m"
   ]
  },
  {
   "cell_type": "markdown",
   "metadata": {},
   "source": [
    "This clearly shows that the road data covers Britain, but nothing in Ireland."
   ]
  },
  {
   "cell_type": "markdown",
   "metadata": {},
   "source": [
    "## Milton Keynes\n",
    "Let's zoom in a bit on Milton Keynes, the home of the Open University. This polygon defines the area we're interested in."
   ]
  },
  {
   "cell_type": "code",
   "execution_count": null,
   "metadata": {
    "collapsed": false,
    "run_control": {
     "read_only": false
    }
   },
   "outputs": [],
   "source": [
    "milton_keynes = {'type': 'Polygon',\n",
    "                               'coordinates': [[[-0.869719, 52.066547], \n",
    "                                                [-0.651709, 52.066547], \n",
    "                                                [-0.651709, 51.997161], \n",
    "                                                [-0.869719, 51.997161],\n",
    "                                                [-0.869719, 52.066547]\n",
    "                                                ]]}\n",
    "\n",
    "min_mk_lat = min(p[1] for p in milton_keynes['coordinates'][0])\n",
    "max_mk_lat = max(p[1] for p in milton_keynes['coordinates'][0])\n",
    "min_mk_lon = min(p[0] for p in milton_keynes['coordinates'][0])\n",
    "max_mk_lon = max(p[0] for p in milton_keynes['coordinates'][0])\n",
    "\n",
    "mk_centre = [min_mk_lat + (max_mk_lat - min_mk_lat) / 2, min_mk_lon + (max_mk_lon - min_mk_lon) / 2]\n",
    "\n",
    "mk_region_query = {'loc': {'$geoWithin': {'$geometry': milton_keynes}}}"
   ]
  },
  {
   "cell_type": "code",
   "execution_count": null,
   "metadata": {
    "collapsed": false,
    "run_control": {
     "read_only": false
    }
   },
   "outputs": [],
   "source": [
    "roads.find(mk_region_query).count()"
   ]
  },
  {
   "cell_type": "code",
   "execution_count": null,
   "metadata": {
    "collapsed": false,
    "run_control": {
     "read_only": false
    },
    "scrolled": false
   },
   "outputs": [],
   "source": [
    "[r for r in roads.find(mk_region_query, \n",
    "                       {'FdAll_MV':1, 'Road':1, 'RCat':1, 'LenNet':1, '_id':0})]"
   ]
  },
  {
   "cell_type": "code",
   "execution_count": null,
   "metadata": {
    "collapsed": false,
    "run_control": {
     "read_only": false
    }
   },
   "outputs": [],
   "source": [
    "mk_region_query"
   ]
  },
  {
   "cell_type": "code",
   "execution_count": null,
   "metadata": {
    "collapsed": false,
    "run_control": {
     "read_only": false
    }
   },
   "outputs": [],
   "source": [
    "m = folium.Map(mk_centre, zoom_start=12)    \n",
    "add_accidents_markers(m, mk_region_query, fill_color='#ff0000', number_of_sides=6, radius=4)\n",
    "add_roads_markers(m, mk_region_query, fill_color='#0000ff', number_of_sides=4, radius=10)\n",
    "m"
   ]
  },
  {
   "cell_type": "markdown",
   "metadata": {},
   "source": [
    "This clearly shows that not all the roads have traffic flow data. "
   ]
  },
  {
   "cell_type": "markdown",
   "metadata": {},
   "source": [
    "# Exploring the roads data\n",
    "Let's have a look at some of the numbers associated with the traffic flow data. We'll load the data into a DataFrame and make some graphs."
   ]
  },
  {
   "cell_type": "code",
   "execution_count": null,
   "metadata": {
    "collapsed": false,
    "run_control": {
     "read_only": false
    }
   },
   "outputs": [],
   "source": [
    "mpl.rcParams['figure.figsize'] = (8, 8)"
   ]
  },
  {
   "cell_type": "markdown",
   "metadata": {},
   "source": [
    "How many of each type of road section are there, and how long are they?"
   ]
  },
  {
   "cell_type": "code",
   "execution_count": null,
   "metadata": {
    "collapsed": false,
    "run_control": {
     "read_only": false
    }
   },
   "outputs": [],
   "source": [
    "pipeline = [{'$group': {'_id': '$RCat',\n",
    "                        'length': {'$avg': '$LenNet'},\n",
    "                        'count': {'$sum': 1}}}]\n",
    "results = list(roads.aggregate(pipeline))\n",
    "results"
   ]
  },
  {
   "cell_type": "code",
   "execution_count": null,
   "metadata": {
    "collapsed": false,
    "run_control": {
     "read_only": false
    }
   },
   "outputs": [],
   "source": [
    "road_lens_df = pd.DataFrame(results)\n",
    "road_lens_df.set_index('_id', inplace=True)\n",
    "road_lens_df.index.name = 'RCat'\n",
    "road_lens_df['category'] = [label_of['RCat', c] for c in road_lens_df.index]\n",
    "road_lens_df"
   ]
  },
  {
   "cell_type": "code",
   "execution_count": null,
   "metadata": {
    "collapsed": false,
    "run_control": {
     "read_only": false
    }
   },
   "outputs": [],
   "source": [
    "plt.scatter(road_lens_df['count'], \n",
    "            road_lens_df['length']\n",
    "            )\n",
    "plt.xlabel('Count')\n",
    "plt.ylabel('Total length')\n",
    "for r in road_lens_df.iterrows():\n",
    "    plt.annotate(r[1]['category'], xy=(r[1]['count'], r[1]['length']),\n",
    "                xytext=(10, 5), textcoords = 'offset points')\n",
    "plt.show()"
   ]
  },
  {
   "cell_type": "markdown",
   "metadata": {},
   "source": [
    "Unsurprisingly, rural road sections are longer than urban road sections. There are more \"principal\" than \"trunk\" road sections, probably because \"trunk\" roads are designated major routes.\n",
    "\n",
    "But what are the principal motorways?"
   ]
  },
  {
   "cell_type": "code",
   "execution_count": null,
   "metadata": {
    "collapsed": false,
    "run_control": {
     "read_only": false
    },
    "scrolled": true
   },
   "outputs": [],
   "source": [
    "roads.distinct('Road', {'RCat': 'PM'})"
   ]
  },
  {
   "cell_type": "markdown",
   "metadata": {},
   "source": [
    "The average lengths shown so far don't tell us about the distribution of lengths of different roads."
   ]
  },
  {
   "cell_type": "code",
   "execution_count": null,
   "metadata": {
    "collapsed": false,
    "run_control": {
     "read_only": false
    }
   },
   "outputs": [],
   "source": [
    "road_lengths_df = pd.DataFrame(list(roads.find({}, ['RCat', 'LenNet'])))\n",
    "road_lengths_df.describe()"
   ]
  },
  {
   "cell_type": "code",
   "execution_count": null,
   "metadata": {
    "collapsed": false,
    "run_control": {
     "read_only": false
    }
   },
   "outputs": [],
   "source": [
    "road_lengths_df['LenNet'].hist()"
   ]
  },
  {
   "cell_type": "markdown",
   "metadata": {},
   "source": [
    "Most road sections are very short, with a few that are longer. \n",
    "\n",
    "Is there are difference between rural and urban sections?"
   ]
  },
  {
   "cell_type": "code",
   "execution_count": null,
   "metadata": {
    "collapsed": false,
    "run_control": {
     "read_only": false
    },
    "scrolled": true
   },
   "outputs": [],
   "source": [
    "isUrban = road_lengths_df.apply(lambda r: r['RCat'][1] == 'U', axis=1)\n",
    "isRural = road_lengths_df.apply(lambda r: r['RCat'][1] == 'R', axis=1)"
   ]
  },
  {
   "cell_type": "code",
   "execution_count": null,
   "metadata": {
    "collapsed": false,
    "run_control": {
     "read_only": false
    }
   },
   "outputs": [],
   "source": [
    "road_lengths_df[isUrban]['LenNet'].describe()"
   ]
  },
  {
   "cell_type": "code",
   "execution_count": null,
   "metadata": {
    "collapsed": false,
    "run_control": {
     "read_only": false
    }
   },
   "outputs": [],
   "source": [
    "road_lengths_df[isRural]['LenNet'].describe()"
   ]
  },
  {
   "cell_type": "code",
   "execution_count": null,
   "metadata": {
    "collapsed": false,
    "run_control": {
     "read_only": false
    }
   },
   "outputs": [],
   "source": [
    "fig = plt.figure()\n",
    "ax = fig.add_subplot(111)\n",
    "\n",
    "road_lengths_df[isUrban]['LenNet'].hist(ax=ax, alpha=0.5, color='red')\n",
    "road_lengths_df[isRural]['LenNet'].hist(ax=ax, alpha=0.5, color='green')"
   ]
  },
  {
   "cell_type": "markdown",
   "metadata": {},
   "source": [
    "This shows that, while both urban and rural roads have a similar shape of road length distributions (many short sections with some longer sections), the rural roads are much longer than the urban ones."
   ]
  },
  {
   "cell_type": "markdown",
   "metadata": {},
   "source": [
    "## Looing at districts\n",
    "Which districts have the most roads, and the longest roads?\n",
    "\n",
    "We'll use a pipeline to find the data and plot it on a scatter plot."
   ]
  },
  {
   "cell_type": "code",
   "execution_count": null,
   "metadata": {
    "collapsed": false,
    "run_control": {
     "read_only": false
    }
   },
   "outputs": [],
   "source": [
    "pipeline = [{'$group': {'_id': '$ONS LA Name',\n",
    "                        'length': {'$sum': '$LenNet'},\n",
    "                        'count': {'$sum': 1}}}]\n",
    "results = list(roads.aggregate(pipeline))\n",
    "results"
   ]
  },
  {
   "cell_type": "code",
   "execution_count": null,
   "metadata": {
    "collapsed": false,
    "run_control": {
     "read_only": false
    },
    "scrolled": true
   },
   "outputs": [],
   "source": [
    "ons_lens_df = pd.DataFrame(results)\n",
    "ons_lens_df.set_index('_id', inplace=True)\n",
    "ons_lens_df.index.name = 'LA'\n",
    "ons_lens_df"
   ]
  },
  {
   "cell_type": "code",
   "execution_count": null,
   "metadata": {
    "collapsed": false,
    "run_control": {
     "read_only": false
    }
   },
   "outputs": [],
   "source": [
    "plt.scatter(ons_lens_df['count'], \n",
    "            ons_lens_df['length']\n",
    "            )\n",
    "plt.xlabel('Count')\n",
    "plt.ylabel('Total length')\n",
    "plt.show()"
   ]
  },
  {
   "cell_type": "markdown",
   "metadata": {},
   "source": [
    "What are those two outliers (longest roads and most roads)?"
   ]
  },
  {
   "cell_type": "code",
   "execution_count": null,
   "metadata": {
    "collapsed": false,
    "run_control": {
     "read_only": false
    }
   },
   "outputs": [],
   "source": [
    "# Which district has the most road sections?\n",
    "ons_lens_df.loc[ons_lens_df['count'].idxmax()]"
   ]
  },
  {
   "cell_type": "code",
   "execution_count": null,
   "metadata": {
    "collapsed": false,
    "run_control": {
     "read_only": false
    }
   },
   "outputs": [],
   "source": [
    "# Which district has the longest total of road sections?\n",
    "ons_lens_df.loc[ons_lens_df['length'].idxmax()]"
   ]
  },
  {
   "cell_type": "markdown",
   "metadata": {
    "activity": "activity"
   },
   "source": [
    "### Activity 1\n",
    "Which districts have the most, and longest, road networks, when split between rural and urban?\n",
    "\n",
    "Generate data that shows the number of road segments, and total length of road segments, grouped by both district and whether the road is rural or urban. Create scatter plots to show districts by rural road count vs urban road count, and rural road length vs urban road length. \n",
    "\n",
    "Comment on your findings.\n",
    "\n",
    "**Hint**: You can tell is a road is rural or urban from the second character of the road category code, `R` or `U`. If you're using an aggregation pipeline to find the data, use `'class': {'$substr': ['$RCat', 1, 1]}` inside a `$project` stage to pick out the appropriate character.\n",
    "\n",
    "The solution is in the [`15.3solutions`](15.3solutions.ipynb) Notebook."
   ]
  },
  {
   "cell_type": "code",
   "execution_count": null,
   "metadata": {
    "collapsed": true,
    "run_control": {
     "read_only": false
    }
   },
   "outputs": [],
   "source": [
    "# Insert your solution here."
   ]
  },
  {
   "cell_type": "markdown",
   "metadata": {},
   "source": [
    "## Traffic volume distributions\n",
    "What can we tell about how heavily used different roads are?"
   ]
  },
  {
   "cell_type": "code",
   "execution_count": null,
   "metadata": {
    "collapsed": false,
    "run_control": {
     "read_only": false
    },
    "scrolled": true
   },
   "outputs": [],
   "source": [
    "traffic_volume_df = pd.DataFrame(list(roads.find({}, ['Road', 'RCat', 'LenNet', 'FdAll_MV'])))\n",
    "traffic_volume_df.describe()"
   ]
  },
  {
   "cell_type": "code",
   "execution_count": null,
   "metadata": {
    "collapsed": false,
    "run_control": {
     "read_only": false
    }
   },
   "outputs": [],
   "source": [
    "traffic_volume_df['FdAll_MV'].hist(bins=20)"
   ]
  },
  {
   "cell_type": "code",
   "execution_count": null,
   "metadata": {
    "collapsed": false,
    "run_control": {
     "read_only": false
    }
   },
   "outputs": [],
   "source": [
    "plt.scatter(traffic_volume_df['FdAll_MV'], \n",
    "            traffic_volume_df['LenNet']\n",
    "            )\n",
    "plt.xlabel('Volume')\n",
    "plt.ylabel('Length')\n",
    "plt.show()"
   ]
  },
  {
   "cell_type": "code",
   "execution_count": null,
   "metadata": {
    "collapsed": false,
    "run_control": {
     "read_only": false
    }
   },
   "outputs": [],
   "source": [
    "isUrban = traffic_volume_df.apply(lambda r: r['RCat'][1] == 'U', axis=1)\n",
    "isRural = traffic_volume_df.apply(lambda r: r['RCat'][1] == 'R', axis=1)"
   ]
  },
  {
   "cell_type": "code",
   "execution_count": null,
   "metadata": {
    "collapsed": false,
    "run_control": {
     "read_only": false
    }
   },
   "outputs": [],
   "source": [
    "fig = plt.figure()\n",
    "ax = fig.add_subplot(111)\n",
    "\n",
    "traffic_volume_df[isUrban]['FdAll_MV'].hist(ax=ax, alpha=0.5, color='red', bins=20)\n",
    "traffic_volume_df[isRural]['FdAll_MV'].hist(ax=ax, alpha=0.5, color='green', bins=20)"
   ]
  },
  {
   "cell_type": "code",
   "execution_count": null,
   "metadata": {
    "collapsed": false,
    "run_control": {
     "read_only": false
    }
   },
   "outputs": [],
   "source": [
    "fig = plt.figure()\n",
    "ax = fig.add_subplot(111)\n",
    "\n",
    "rurals = traffic_volume_df[isRural].sample(300)\n",
    "urbans = traffic_volume_df[isUrban].sample(300)\n",
    "\n",
    "ax.scatter(rurals['FdAll_MV'], rurals['LenNet'],\n",
    "           color='green', alpha=0.3\n",
    "            )\n",
    "ax.scatter(urbans['FdAll_MV'], urbans['LenNet'],\n",
    "           color='red', alpha=0.3\n",
    "            )\n",
    "\n",
    "plt.xlabel('Volume')\n",
    "plt.ylabel('Length')\n",
    "plt.show()"
   ]
  },
  {
   "cell_type": "markdown",
   "metadata": {},
   "source": [
    "This shows the different types of road use between rural and urban: urban roads tend to have higher volumes on shorter segments than rural areas."
   ]
  },
  {
   "cell_type": "code",
   "execution_count": null,
   "metadata": {
    "collapsed": false,
    "run_control": {
     "read_only": false
    }
   },
   "outputs": [],
   "source": [
    "# What road segment has the highest traffic?\n",
    "traffic_volume_df.iloc[traffic_volume_df['FdAll_MV'].idxmax()]['Road']"
   ]
  },
  {
   "cell_type": "code",
   "execution_count": null,
   "metadata": {
    "collapsed": false,
    "run_control": {
     "read_only": false
    }
   },
   "outputs": [],
   "source": [
    "# What are the busiest road sections?\n",
    "traffic_volume_df.sort_values(by='FdAll_MV', ascending=False).head(10)"
   ]
  },
  {
   "cell_type": "markdown",
   "metadata": {
    "activity": "activityAns"
   },
   "source": [
    "### Activity 2\n",
    "Do different types of roads have different mixes of traffic? For each road category, find the average daily flow when averaged across all road segments of that category. Place the results in a DataFrame and plot them as a bar chart.\n",
    "\n",
    "Investigate whether the mix of vehicle types is different on different road types. Use a suitable statistical test to determine if the differences you see are significant (you may want to refer back to Notebook 14.3).\n",
    "\n",
    "Use just the total HGV counts, not the counts for each type of goods vehicle.\n",
    "\n",
    "The solution is in the [`15.3solutions`](15.3solutions.ipynb) Notebook."
   ]
  },
  {
   "cell_type": "code",
   "execution_count": null,
   "metadata": {
    "collapsed": false,
    "run_control": {
     "read_only": false
    }
   },
   "outputs": [],
   "source": [
    "# Insert your solution here."
   ]
  },
  {
   "cell_type": "markdown",
   "metadata": {},
   "source": [
    "## What next?\n",
    "If you are working through this Notebook as part of an inline exercise, return to the module materials now.\n",
    "\n",
    "If you are working through this set of Notebooks as a whole, move on to `15.4 Allocating accidents to roads`."
   ]
  }
 ],
 "metadata": {
  "kernelspec": {
   "display_name": "Python 3",
   "language": "python",
   "name": "python3"
  },
  "language_info": {
   "codemirror_mode": {
    "name": "ipython",
    "version": 3
   },
   "file_extension": ".py",
   "mimetype": "text/x-python",
   "name": "python",
   "nbconvert_exporter": "python",
   "pygments_lexer": "ipython3",
   "version": "3.4.3"
  }
 },
 "nbformat": 4,
 "nbformat_minor": 0
}
