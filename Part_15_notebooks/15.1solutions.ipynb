{
 "cells": [
  {
   "cell_type": "code",
   "execution_count": null,
   "metadata": {
    "collapsed": true,
    "run_control": {
     "read_only": false
    }
   },
   "outputs": [],
   "source": [
    "# Import the required libraries and open the connection to Mongo\n",
    "\n",
    "import collections\n",
    "import datetime\n",
    "import matplotlib as mpl\n",
    "mpl.rcParams['figure.figsize'] = (15, 15) # Reset the base size of figures so they're large enough to be useful.\n",
    "\n",
    "import pandas as pd\n",
    "import scipy.stats\n",
    "\n",
    "import folium\n",
    "\n",
    "import pymongo"
   ]
  },
  {
   "cell_type": "code",
   "execution_count": null,
   "metadata": {
    "collapsed": true,
    "run_control": {
     "read_only": false
    }
   },
   "outputs": [],
   "source": [
    "# Open a connection to the Mongo server, open the accidents database and name the collections of accidents and labels\n",
    "client = pymongo.MongoClient('mongodb://localhost:27351/')\n",
    "\n",
    "db = client.accidents\n",
    "accidents = db.accidents\n",
    "labels = db.labels\n",
    "roads = db.roads"
   ]
  },
  {
   "cell_type": "code",
   "execution_count": null,
   "metadata": {
    "collapsed": true,
    "run_control": {
     "read_only": false
    }
   },
   "outputs": [],
   "source": [
    "# Load the expanded names of keys and human-readable codes into memory\n",
    "expanded_name = collections.defaultdict(str)\n",
    "for e in labels.find({'expanded': {\"$exists\": True}}):\n",
    "    expanded_name[e['label']] = e['expanded']\n",
    "    \n",
    "label_of = collections.defaultdict(str)\n",
    "for l in labels.find({'codes': {\"$exists\": True}}):\n",
    "    for c in l['codes']:\n",
    "        try:\n",
    "            label_of[l['label'], int(c)] = l['codes'][c]\n",
    "        except ValueError: \n",
    "            label_of[l['label'], c] = l['codes'][c]"
   ]
  },
  {
   "cell_type": "code",
   "execution_count": null,
   "metadata": {
    "collapsed": true,
    "run_control": {
     "read_only": false
    }
   },
   "outputs": [],
   "source": [
    "# def make_map(location, width=800, height=800, zoom_start=9):\n",
    "#     m = folium.Map(location=location, width=width, height=height, zoom_start=zoom_start)\n",
    "#     m.save('folium-map-' + uuid.uuid4().hex + '.html')\n",
    "#     m.render_iframe = True\n",
    "#     return m"
   ]
  },
  {
   "cell_type": "code",
   "execution_count": null,
   "metadata": {
    "collapsed": true,
    "run_control": {
     "read_only": false
    }
   },
   "outputs": [],
   "source": [
    "def add_accidents_markers(the_map, query, number_of_sides=5, fill_color='#769d96', \n",
    "                     radius=5, rotation=54):\n",
    "    for a in accidents.find(query, \n",
    "                        ['loc.coordinates']):\n",
    "        folium.RegularPolygonMarker(location=[a['loc']['coordinates'][1], a['loc']['coordinates'][0]], \n",
    "                     number_of_sides=number_of_sides, radius=radius, rotation=rotation,\n",
    "                                   fill_color=fill_color).add_to(the_map)   "
   ]
  },
  {
   "cell_type": "code",
   "execution_count": null,
   "metadata": {
    "collapsed": true,
    "run_control": {
     "read_only": false
    }
   },
   "outputs": [],
   "source": [
    "def map_centre_from_points(query):\n",
    "    latlons = list(zip(*[(a['loc']['coordinates'][1], \n",
    "                      a['loc']['coordinates'][0]) \n",
    "                    for a in accidents.find(query, \n",
    "                        ['loc.coordinates'])]))\n",
    "    max_lat = max(latlons[0])\n",
    "    max_lon = max(latlons[1])\n",
    "    min_lat = min(latlons[0])\n",
    "    min_lon = min(latlons[1]) \n",
    "    return [min_lat + (max_lat - min_lat) / 2,\n",
    "            min_lon + (max_lon - min_lon) / 2]"
   ]
  },
  {
   "cell_type": "markdown",
   "metadata": {},
   "source": [
    "### Activity 1"
   ]
  },
  {
   "cell_type": "code",
   "execution_count": null,
   "metadata": {
    "collapsed": false,
    "run_control": {
     "read_only": false
    }
   },
   "outputs": [],
   "source": [
    "query = {'$or': \n",
    "         [{'1st_Road_Class': 1},\n",
    "          {'2nd_Road_Class': 1},\n",
    "          {'1st_Road_Class': 2},\n",
    "          {'2nd_Road_Class': 2}],\n",
    "         'Accident_Severity': {'$in': [1, 2]}}\n",
    "\n",
    "m = folium.Map([55, -3], zoom_start=6)    \n",
    "add_accidents_markers(m, query)\n",
    "m"
   ]
  },
  {
   "cell_type": "markdown",
   "metadata": {},
   "source": [
    "### Activity 2"
   ]
  },
  {
   "cell_type": "code",
   "execution_count": null,
   "metadata": {
    "collapsed": false,
    "run_control": {
     "read_only": false
    }
   },
   "outputs": [],
   "source": [
    "# Find the codes of the local authorities\n",
    "[(code, label, label_of[label, code]) for label, code in label_of \n",
    " if 'Cornwall' in label_of[label, code]]"
   ]
  },
  {
   "cell_type": "code",
   "execution_count": null,
   "metadata": {
    "collapsed": false,
    "run_control": {
     "read_only": false
    }
   },
   "outputs": [],
   "source": [
    "query = {'Local_Authority_(Highway)': 'E06000052'}\n",
    "\n",
    "map_centre = map_centre_from_points(query)\n",
    "\n",
    "m = folium.Map(map_centre, zoom_start=9)\n",
    "add_accidents_markers(m, query)\n",
    "m"
   ]
  },
  {
   "cell_type": "markdown",
   "metadata": {},
   "source": [
    "### Activity 3\n",
    "\n",
    "I'm basing this on the town of Buckingham."
   ]
  },
  {
   "cell_type": "code",
   "execution_count": null,
   "metadata": {
    "collapsed": false,
    "run_control": {
     "read_only": false
    }
   },
   "outputs": [],
   "source": [
    "region = {'loc': \n",
    "          {'$nearSphere':\n",
    "           {'$geometry': \n",
    "            {'type': 'Point', \n",
    "             'coordinates': [-0.987645, 51.999326]},\n",
    "            '$maxDistance': 10000}}}\n",
    "\n",
    "map_centre = map_centre_from_points(region)\n",
    "\n",
    "m = folium.Map(map_centre, zoom_start=11)    \n",
    "add_accidents_markers(m, region)\n",
    "m"
   ]
  },
  {
   "cell_type": "code",
   "execution_count": null,
   "metadata": {
    "collapsed": true,
    "run_control": {
     "read_only": false
    }
   },
   "outputs": [],
   "source": [
    "buckingham = {'type': 'Polygon',\n",
    "              'coordinates': [[[-1.212961, 52.133015],\n",
    "                               [-0.762329, 52.133015],\n",
    "                               [-0.762329, 51.865637],\n",
    "                               [-1.212961, 51.865637],\n",
    "                               [-1.212961, 52.133015]\n",
    "                              ]]}\n",
    "\n",
    "min_buck_lat = min(p[1] for p in buckingham['coordinates'][0])\n",
    "max_buck_lat = max(p[1] for p in buckingham['coordinates'][0])\n",
    "min_buck_lon = min(p[0] for p in buckingham['coordinates'][0])\n",
    "max_buck_lon = max(p[0] for p in buckingham['coordinates'][0])\n",
    "\n",
    "buckingham_centre = [min_buck_lat + (max_buck_lat - min_buck_lat) / 2, \n",
    "                     min_buck_lon + (max_buck_lon - min_buck_lon) / 2]\n",
    "\n",
    "buckingham_region_query = {'loc': {'$geoWithin': {'$geometry': buckingham}}}"
   ]
  },
  {
   "cell_type": "code",
   "execution_count": null,
   "metadata": {
    "collapsed": false,
    "run_control": {
     "read_only": false
    }
   },
   "outputs": [],
   "source": [
    "m = folium.Map(buckingham_centre, zoom_start=11)    \n",
    "add_accidents_markers(m, buckingham_region_query)\n",
    "m"
   ]
  },
  {
   "cell_type": "code",
   "execution_count": null,
   "metadata": {
    "collapsed": true,
    "run_control": {
     "read_only": false
    }
   },
   "outputs": [],
   "source": [
    "def merge_dicts(this, other):\n",
    "    this_copy = this.copy()\n",
    "    for k in other:\n",
    "        this_copy[k] = other[k]\n",
    "    return this_copy"
   ]
  },
  {
   "cell_type": "code",
   "execution_count": null,
   "metadata": {
    "collapsed": false,
    "run_control": {
     "read_only": false
    }
   },
   "outputs": [],
   "source": [
    "m = folium.Map(buckingham_centre, zoom_start=11) \n",
    "\n",
    "add_accidents_markers(m, merge_dicts(buckingham_region_query, {'Accident_Severity': 1}),\n",
    "    fill_color='#ff0000', number_of_sides=5, radius=10, rotation=54)\n",
    "\n",
    "add_accidents_markers(m, merge_dicts(buckingham_region_query, {'Accident_Severity': 2}),\n",
    "    fill_color='#ffff00', number_of_sides=4, radius=7, rotation=0)\n",
    "\n",
    "add_accidents_markers(m, merge_dicts(buckingham_region_query, {'Accident_Severity': 3}),\n",
    "    fill_color='#00ff00', number_of_sides=3, radius=5, rotation=30)\n",
    "m"
   ]
  },
  {
   "cell_type": "markdown",
   "metadata": {},
   "source": [
    "## Activity 4: Colour code accidents by number of vehicles"
   ]
  },
  {
   "cell_type": "code",
   "execution_count": null,
   "metadata": {
    "collapsed": true,
    "run_control": {
     "read_only": false
    }
   },
   "outputs": [],
   "source": [
    "milton_keynes = {'type': 'Polygon',\n",
    "                 'coordinates': [[[-0.877025, 52.092317],\n",
    "                                  [-0.651709, 52.092317],\n",
    "                                  [-0.651709, 51.958628],\n",
    "                                  [-0.877025, 51.958268],\n",
    "                                  [-0.877025, 52.092317]\n",
    "                                 ]]}\n",
    "\n",
    "min_mk_lat = min(p[1] for p in milton_keynes['coordinates'][0])\n",
    "max_mk_lat = max(p[1] for p in milton_keynes['coordinates'][0])\n",
    "min_mk_lon = min(p[0] for p in milton_keynes['coordinates'][0])\n",
    "max_mk_lon = max(p[0] for p in milton_keynes['coordinates'][0])\n",
    "\n",
    "mk_centre = [min_mk_lat + (max_mk_lat - min_mk_lat) / 2, min_mk_lon + (max_mk_lon - min_mk_lon) / 2]\n",
    "\n",
    "mk_region_query = {'loc': {'$geoWithin': {'$geometry': milton_keynes}}}"
   ]
  },
  {
   "cell_type": "code",
   "execution_count": null,
   "metadata": {
    "collapsed": false,
    "run_control": {
     "read_only": false
    },
    "scrolled": false
   },
   "outputs": [],
   "source": [
    "# Categories used:\n",
    "#  <=1 vehicles: white\n",
    "#  2-3 vehicles: green\n",
    "#  4-6 vehicles: yellow\n",
    "#  >=7 vehicles: red\n",
    "\n",
    "m = folium.Map(mk_centre, zoom_start=12) \n",
    "\n",
    "add_accidents_markers(m, merge_dicts(mk_region_query, {'Number_of_Vehicles': {'$lte': 1}}),\n",
    "    fill_color='#ffffff', number_of_sides=9, radius=5, rotation=0)\n",
    "\n",
    "add_accidents_markers(m, merge_dicts(mk_region_query, {'Number_of_Vehicles': {'$gte': 2, '$lte': 3}}),\n",
    "    fill_color='#00ff00', number_of_sides=5, radius=5, rotation=54)\n",
    "\n",
    "add_accidents_markers(m, merge_dicts(mk_region_query, {'Number_of_Vehicles': {'$gte': 4, '$lte': 6}}),\n",
    "    fill_color='#ffff00', number_of_sides=4, radius=9, rotation=0)\n",
    "\n",
    "add_accidents_markers(m, merge_dicts(mk_region_query, {'Number_of_Vehicles': {'$gt': 6}}),\n",
    "    fill_color='#ff0000', number_of_sides=5, radius=11, rotation=54)\n",
    "m"
   ]
  },
  {
   "cell_type": "code",
   "execution_count": null,
   "metadata": {
    "collapsed": true,
    "run_control": {
     "read_only": false
    }
   },
   "outputs": [],
   "source": []
  }
 ],
 "metadata": {
  "kernelspec": {
   "display_name": "Python 3",
   "language": "python",
   "name": "python3"
  },
  "language_info": {
   "codemirror_mode": {
    "name": "ipython",
    "version": 3
   },
   "file_extension": ".py",
   "mimetype": "text/x-python",
   "name": "python",
   "nbconvert_exporter": "python",
   "pygments_lexer": "ipython3",
   "version": "3.4.3"
  }
 },
 "nbformat": 4,
 "nbformat_minor": 0
}
