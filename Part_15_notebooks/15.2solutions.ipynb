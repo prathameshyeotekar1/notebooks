{
 "cells": [
  {
   "cell_type": "code",
   "execution_count": null,
   "metadata": {
    "code_folding": [],
    "collapsed": true,
    "run_control": {
     "read_only": false
    }
   },
   "outputs": [],
   "source": [
    "# Import the required libraries\n",
    "\n",
    "import pymongo\n",
    "import datetime\n",
    "import collections\n",
    "\n",
    "import pandas as pd\n",
    "import scipy.stats"
   ]
  },
  {
   "cell_type": "code",
   "execution_count": null,
   "metadata": {
    "collapsed": true,
    "run_control": {
     "read_only": false
    }
   },
   "outputs": [],
   "source": [
    "# Open a connection to the Mongo server, open the accidents database and name the collections of accidents and labels\n",
    "client = pymongo.MongoClient('mongodb://localhost:27351/')\n",
    "\n",
    "db = client.accidents\n",
    "accidents = db.accidents\n",
    "labels = db.labels"
   ]
  },
  {
   "cell_type": "code",
   "execution_count": null,
   "metadata": {
    "collapsed": true,
    "run_control": {
     "read_only": false
    }
   },
   "outputs": [],
   "source": [
    "# Load the expanded names of keys and human-readable codes into memory\n",
    "\n",
    "expanded_name = collections.defaultdict(str)\n",
    "for e in labels.find({'expanded': {\"$exists\": True}}):\n",
    "    expanded_name[e['label']] = e['expanded']\n",
    "    \n",
    "label_of = collections.defaultdict(str)\n",
    "for l in labels.find({'codes': {\"$exists\": True}}):\n",
    "    for c in l['codes']:\n",
    "        try:\n",
    "            label_of[l['label'], int(c)] = l['codes'][c]\n",
    "        except ValueError: \n",
    "            label_of[l['label'], c] = l['codes'][c]"
   ]
  },
  {
   "cell_type": "markdown",
   "metadata": {},
   "source": [
    "# Activity 1"
   ]
  },
  {
   "cell_type": "code",
   "execution_count": null,
   "metadata": {
    "collapsed": false,
    "run_control": {
     "read_only": false
    }
   },
   "outputs": [],
   "source": [
    "# Pull out all the accidents at 30mph or above, group by speed and severity, \n",
    "#   and show totals at each speed/severity combination.\n",
    "pipeline = [{'$match': {'Speed_limit': {'$gte': 30}}},\n",
    "            {'$group': {'_id': {'Speed_limit': '$Speed_limit', \n",
    "                                'Accident_Severity': '$Accident_Severity'},\n",
    "                        'num_accidents': {'$sum': 1}}}]\n",
    "results = list(accidents.aggregate(pipeline))\n",
    "results"
   ]
  },
  {
   "cell_type": "markdown",
   "metadata": {},
   "source": [
    "# Activity 2"
   ]
  },
  {
   "cell_type": "code",
   "execution_count": null,
   "metadata": {
    "collapsed": false,
    "run_control": {
     "read_only": false
    },
    "scrolled": true
   },
   "outputs": [],
   "source": [
    "results_long_df = pd.DataFrame([\n",
    "        {'Accident_Severity': r['_id']['Accident_Severity'], \n",
    "         'Speed_limit': r['_id']['Speed_limit'], \n",
    "         'num_accidents': r['num_accidents']}\n",
    "        for r in results])\n",
    "results_long_df"
   ]
  },
  {
   "cell_type": "code",
   "execution_count": null,
   "metadata": {
    "collapsed": false,
    "run_control": {
     "read_only": false
    }
   },
   "outputs": [],
   "source": [
    "results_df = results_long_df.pivot(index='Speed_limit',columns='Accident_Severity', values='num_accidents')\n",
    "results_df.columns = [label_of['Accident_Severity', c] for c in results_df.columns]\n",
    "results_df.columns.name = \"Severity\"\n",
    "results_df.index.name = \"Speed limit\"\n",
    "results_df"
   ]
  },
  {
   "cell_type": "markdown",
   "metadata": {},
   "source": [
    "A lot of the tasks in this section will end up producing results in a similar form: a list of groups, each with a key consisting of two items. Rather than getting distracted by repeatedly applying the same sequence of reshaping steps, we can build a small function to do it for us:"
   ]
  },
  {
   "cell_type": "code",
   "execution_count": null,
   "metadata": {
    "collapsed": false,
    "run_control": {
     "read_only": false
    }
   },
   "outputs": [],
   "source": [
    "def results_to_table(results, index_name, column_name, results_name, \n",
    "                     fillna=None,\n",
    "                     relabel_index=False, relabel_columns=False,\n",
    "                     index_label=None, column_label=None):\n",
    "    \n",
    "    # Move items in dicts-of-dicts to the top level.\n",
    "    def flatten(d):\n",
    "        new_d = {}\n",
    "        for k in d:\n",
    "            if isinstance(d[k], dict):\n",
    "                new_d.update(flatten(d[k]))\n",
    "            else:\n",
    "                new_d[k] = d[k]\n",
    "        return new_d\n",
    "\n",
    "    df = pd.DataFrame([flatten(r) for r in results])\n",
    "    df = df.pivot(index=index_name, columns=column_name, values=results_name)\n",
    "    \n",
    "    # Optionally, fiddle with names and labels to make the DataFrame pretty.\n",
    "    if not fillna is None:\n",
    "        df.fillna(fillna, inplace=True)\n",
    "    if relabel_columns:\n",
    "        df.columns = [label_of[column_name, c] for c in df.columns]\n",
    "    if relabel_index:\n",
    "        df.index = [label_of[index_name, r] for r in df.index]\n",
    "    if column_label:\n",
    "        df.columns.name = column_label\n",
    "    else:\n",
    "        df.columns.name = column_name\n",
    "    if index_label:\n",
    "        df.index.name = index_label\n",
    "    else:\n",
    "        df.index.name = index_name\n",
    "    return df"
   ]
  },
  {
   "cell_type": "markdown",
   "metadata": {},
   "source": [
    "The function in use:"
   ]
  },
  {
   "cell_type": "code",
   "execution_count": null,
   "metadata": {
    "collapsed": false,
    "run_control": {
     "read_only": false
    }
   },
   "outputs": [],
   "source": [
    "results_df = results_long_df.pivot(index='Speed_limit',columns='Accident_Severity', values='num_accidents')\n",
    "results_df.columns = [label_of['Accident_Severity', c] for c in results_df.columns]\n",
    "results_df"
   ]
  },
  {
   "cell_type": "code",
   "execution_count": null,
   "metadata": {
    "collapsed": false,
    "run_control": {
     "read_only": false
    }
   },
   "outputs": [],
   "source": [
    "ax = results_df.plot(kind='bar')\n",
    "ax.legend(loc='center left', bbox_to_anchor=(1, 0.5))"
   ]
  },
  {
   "cell_type": "markdown",
   "metadata": {},
   "source": [
    "# Activity 3"
   ]
  },
  {
   "cell_type": "code",
   "execution_count": null,
   "metadata": {
    "collapsed": false,
    "run_control": {
     "read_only": false
    }
   },
   "outputs": [],
   "source": [
    "pipeline = [{'$group': {'_id': {'Number_of_Casualties': '$Number_of_Casualties', \n",
    "                                'Number_of_Vehicles': '$Number_of_Vehicles'},\n",
    "                        'num_accidents': {'$sum': 1}}}]\n",
    "results = list(accidents.aggregate(pipeline))\n",
    "results"
   ]
  },
  {
   "cell_type": "code",
   "execution_count": null,
   "metadata": {
    "collapsed": false,
    "run_control": {
     "read_only": false
    }
   },
   "outputs": [],
   "source": [
    "results_to_table(results, 'Number_of_Casualties', 'Number_of_Vehicles', 'num_accidents', fillna=0)"
   ]
  },
  {
   "cell_type": "markdown",
   "metadata": {},
   "source": [
    "# Activity 4"
   ]
  },
  {
   "cell_type": "code",
   "execution_count": null,
   "metadata": {
    "collapsed": false,
    "run_control": {
     "read_only": false
    },
    "scrolled": true
   },
   "outputs": [],
   "source": [
    "pipeline = [{'$match': {'Speed_limit': {'$gte': 30}}},\n",
    "            {'$group': {'_id': {'Junction_Detail': '$Junction_Detail', \n",
    "                                'Accident_Severity': '$Accident_Severity'},\n",
    "                        'num_accidents': {'$sum': 1}}}]\n",
    "results = list(accidents.aggregate(pipeline))\n",
    "results"
   ]
  },
  {
   "cell_type": "code",
   "execution_count": null,
   "metadata": {
    "collapsed": false,
    "run_control": {
     "read_only": false
    }
   },
   "outputs": [],
   "source": [
    "results_df = results_to_table(results, 'Junction_Detail', 'Accident_Severity', 'num_accidents',\n",
    "                 fillna=0,\n",
    "                 relabel_index=True, relabel_columns=True, \n",
    "                 index_label=\"Junction detail\", column_label=\"Accident severity\")\n",
    "results_df"
   ]
  },
  {
   "cell_type": "code",
   "execution_count": null,
   "metadata": {
    "collapsed": false,
    "run_control": {
     "read_only": false
    }
   },
   "outputs": [],
   "source": [
    "ax = results_df.plot(kind='bar')\n",
    "ax.legend(loc='center left', bbox_to_anchor=(1, 0.5))"
   ]
  },
  {
   "cell_type": "markdown",
   "metadata": {},
   "source": [
    "# Activity 5\n",
    "Create a group for each speed limit, then `project` to calculate the average numbers of casualties and vehicles."
   ]
  },
  {
   "cell_type": "code",
   "execution_count": null,
   "metadata": {
    "collapsed": false,
    "run_control": {
     "read_only": false
    }
   },
   "outputs": [],
   "source": [
    "pipeline = [{'$group': {'_id': {'Speed_limit': '$Speed_limit'},\n",
    "                                 'total_casualties': {'$sum': '$Number_of_Casualties'},\n",
    "                                 'total_vehicles': {'$sum': '$Number_of_Vehicles'},\n",
    "                                 'num_accidents': {'$sum': 1}}},\n",
    "            {'$project': {'Speed_limit': '$_id.Speed_limit',\n",
    "                                   '_id': 0,\n",
    "                                   'average_casualties': {'$divide': ['$total_casualties', '$num_accidents']},\n",
    "                                   'average_vehicles': {'$divide': ['$total_vehicles', '$num_accidents']}}},\n",
    "            {'$sort': {'Speed_limit': 1}}]\n",
    "results = list(accidents.aggregate(pipeline))\n",
    "results"
   ]
  },
  {
   "cell_type": "code",
   "execution_count": null,
   "metadata": {
    "collapsed": false,
    "run_control": {
     "read_only": false
    }
   },
   "outputs": [],
   "source": [
    "# Put the results in a DataFrame\n",
    "results_df = pd.DataFrame(\n",
    "    {'Average Casualties': {r['Speed_limit']: r['average_casualties'] for r in results},\n",
    "     'Average Vehicles': {r['Speed_limit']: r['average_vehicles'] for r in results}})\n",
    "results_df.index.name = 'Speed limit'\n",
    "results_df"
   ]
  },
  {
   "cell_type": "code",
   "execution_count": null,
   "metadata": {
    "collapsed": false,
    "run_control": {
     "read_only": false
    }
   },
   "outputs": [],
   "source": [
    "ax = results_df.plot(kind='bar')\n",
    "ax.legend(loc='center left', bbox_to_anchor=(1, 0.5))"
   ]
  },
  {
   "cell_type": "markdown",
   "metadata": {},
   "source": [
    "# Activity 6"
   ]
  },
  {
   "cell_type": "code",
   "execution_count": null,
   "metadata": {
    "collapsed": false,
    "run_control": {
     "read_only": false
    },
    "scrolled": true
   },
   "outputs": [],
   "source": [
    "pipeline = [{'$unwind': '$Casualties'},\n",
    "            {'$group': {'_id': {'Age_Band_of_Casualty': '$Casualties.Age_Band_of_Casualty',\n",
    "                                'Casualty_Severity': '$Casualties.Casualty_Severity'},\n",
    "                        'num_accidents': {'$sum': 1}}}]\n",
    "results = list(accidents.aggregate(pipeline))\n",
    "results"
   ]
  },
  {
   "cell_type": "code",
   "execution_count": null,
   "metadata": {
    "collapsed": false,
    "run_control": {
     "read_only": false
    }
   },
   "outputs": [],
   "source": [
    "rdf = results_to_table(results, 'Age_Band_of_Casualty', 'Casualty_Severity', 'num_accidents',\n",
    "                       fillna=0,\n",
    "                 relabel_index=True, relabel_columns=True, \n",
    "                 index_label=\"Age band of casualty\", column_label=\"Casualty severity\")\n",
    "rdf.index = ['Unknown'] + list(rdf.index[1:])\n",
    "rdf"
   ]
  },
  {
   "cell_type": "code",
   "execution_count": null,
   "metadata": {
    "collapsed": false,
    "run_control": {
     "read_only": false
    }
   },
   "outputs": [],
   "source": [
    "ax = results_df.plot(kind='bar')\n",
    "ax.legend(loc='center left', bbox_to_anchor=(1, 0.5))"
   ]
  },
  {
   "cell_type": "markdown",
   "metadata": {},
   "source": [
    "# Activity 7\n",
    "This is a complex query, so I've described the stages in the pipeline below."
   ]
  },
  {
   "cell_type": "code",
   "execution_count": null,
   "metadata": {
    "collapsed": false,
    "run_control": {
     "read_only": false
    },
    "scrolled": true
   },
   "outputs": [],
   "source": [
    "pipeline = [\n",
    "    # 1: keep only the lists of subdocuments\n",
    "    {'$project': {'Vehicles': 1, 'Casualties': 1}},\n",
    "    \n",
    "    # 2: unwind the lists\n",
    "    {'$unwind': '$Vehicles'},\n",
    "    {'$unwind': '$Casualties'},\n",
    "    \n",
    "    #3: discard the documents we know we won't need\n",
    "    {'$match': {'Casualties.Casualty_Class': 2,\n",
    "                'Casualties.Age_Band_of_Casualty': {'$ne': -1},\n",
    "                'Vehicles.Age_Band_of_Driver': {'$ne': -1}}},\n",
    "    \n",
    "    # 4: flag documents that have a the correct vehicle for this casualty\n",
    "    {'$project': {'casualty_for_vehicle': {'$eq': ['$Vehicles.Vehicle_Reference', '$Casualties.Vehicle_Reference']},\n",
    "                  'Age_Band_of_Driver': '$Vehicles.Age_Band_of_Driver',\n",
    "                  'Age_Band_of_Casualty': '$Casualties.Age_Band_of_Casualty'}},\n",
    "    \n",
    "    # 5: retain only those documents with the flag set\n",
    "    {'$match': {'casualty_for_vehicle': True}},\n",
    "    \n",
    "    # 6: count documents in each group\n",
    "    {'$group': {'_id': {'Age_Band_of_Driver': '$Age_Band_of_Driver',\n",
    "                        'Age_Band_of_Casualty': '$Age_Band_of_Casualty'}, \n",
    "                'count': {'$sum': 1}}}\n",
    "]\n",
    "results = list(accidents.aggregate(pipeline))\n",
    "results"
   ]
  },
  {
   "cell_type": "markdown",
   "metadata": {},
   "source": [
    "Fuller explanation of the stages.\n",
    "\n",
    "1. We're only interested in the contents of the casualty and vehicle sub-documents, so we can discard all the information about the accident as a whole.\n",
    "1. Unwind both lists of subdocuments. This gives a new document for each combination of vehicle and casualty in the accident. For example, if there were two vehicles and three casualties involved in an accident, these `unwind` stages would produce six documents, one for each vehicle/casualty combination.\n",
    "1. We can discard some of these documents now. We keep only documents where the age band of both driver and casualty are known, and where the casualty is a passenger.\n",
    "1. Vehicles and casualties have a vehicle reference. We would like to match directly on them, keeping only documents where they're the same. Unfortunately, Mongo doesn't allow that. Therefore, we create a new key in the document, which is `True` if the casualty and vehicle match, `False` otherwise. We also drop other keys apart from the age bands.\n",
    "1. Now we can filter and on the `casualty_for_vehicle` flag from the previous step, and retain only those documents where it's set.\n",
    "1. Finally, do the standard grouping and counting to find the results we're after."
   ]
  },
  {
   "cell_type": "code",
   "execution_count": null,
   "metadata": {
    "collapsed": false,
    "run_control": {
     "read_only": false
    }
   },
   "outputs": [],
   "source": [
    "results_df = results_to_table(results, 'Age_Band_of_Casualty', 'Age_Band_of_Driver', 'count',\n",
    "                 fillna=0,\n",
    "                 relabel_index=True, relabel_columns=True, \n",
    "                 index_label=\"Age band of casualty\", column_label=\"Age band of driver\")\n",
    "results_df"
   ]
  },
  {
   "cell_type": "code",
   "execution_count": null,
   "metadata": {
    "collapsed": false,
    "run_control": {
     "read_only": false
    }
   },
   "outputs": [],
   "source": [
    "results_unlabelled_df = results_to_table(results, 'Age_Band_of_Casualty', 'Age_Band_of_Driver', 'count',\n",
    "                 fillna=0,\n",
    "                 index_label=\"Age band of casualty\", column_label=\"Age band of driver\")\n",
    "results_unlabelled_df"
   ]
  },
  {
   "cell_type": "code",
   "execution_count": null,
   "metadata": {
    "collapsed": false,
    "run_control": {
     "read_only": false
    },
    "scrolled": true
   },
   "outputs": [],
   "source": [
    "results_long_df = results_unlabelled_df.stack().reset_index()\n",
    "results_long_df"
   ]
  },
  {
   "cell_type": "code",
   "execution_count": null,
   "metadata": {
    "collapsed": false,
    "run_control": {
     "read_only": false
    }
   },
   "outputs": [],
   "source": [
    "plt.scatter(results_long_df['Age band of casualty'], \n",
    "            results_long_df['Age band of driver'],\n",
    "            s=np.sqrt(results_long_df[0])*1.5,\n",
    "            alpha=0.5\n",
    "            )\n",
    "plt.xlabel('Age band of casualty')\n",
    "plt.ylabel('Age band of driver')\n",
    "plt.show()"
   ]
  },
  {
   "cell_type": "code",
   "execution_count": null,
   "metadata": {
    "collapsed": false,
    "run_control": {
     "read_only": false
    }
   },
   "outputs": [],
   "source": [
    "drivers, passengers = zip(*[(group['_id']['Age_Band_of_Driver'], group['_id']['Age_Band_of_Casualty']) \n",
    "    for group in results \n",
    "    for _ in range(group['count'])] )\n",
    "\n",
    "scipy.stats.spearmanr(drivers, passengers)  "
   ]
  },
  {
   "cell_type": "markdown",
   "metadata": {},
   "source": [
    "The _p_ value of zero means this correlation cannot be explained by chance: there is some connection between the ages of drivers and passengers. "
   ]
  }
 ],
 "metadata": {
  "kernelspec": {
   "display_name": "Python 3",
   "language": "python",
   "name": "python3"
  },
  "language_info": {
   "codemirror_mode": {
    "name": "ipython",
    "version": 3
   },
   "file_extension": ".py",
   "mimetype": "text/x-python",
   "name": "python",
   "nbconvert_exporter": "python",
   "pygments_lexer": "ipython3",
   "version": "3.4.3"
  }
 },
 "nbformat": 4,
 "nbformat_minor": 0
}
