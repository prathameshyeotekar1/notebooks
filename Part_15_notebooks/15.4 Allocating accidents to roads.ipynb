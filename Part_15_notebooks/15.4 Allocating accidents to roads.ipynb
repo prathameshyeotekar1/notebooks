{
 "cells": [
  {
   "cell_type": "markdown",
   "metadata": {},
   "source": [
    "# Allocating accidents to roads\n",
    "\n",
    "This Notebook will allocate accidents to the appropriate road segment. This will allow you to find accident hotspots based on accident rates relative to traffic density."
   ]
  },
  {
   "cell_type": "markdown",
   "metadata": {},
   "source": [
    "First, some boilerplate imports."
   ]
  },
  {
   "cell_type": "code",
   "execution_count": null,
   "metadata": {
    "collapsed": false,
    "run_control": {
     "read_only": false
    }
   },
   "outputs": [],
   "source": [
    "# Import the required libraries\n",
    "\n",
    "import pymongo\n",
    "import datetime\n",
    "import collections\n",
    "\n",
    "import pandas as pd\n",
    "import scipy.stats"
   ]
  },
  {
   "cell_type": "code",
   "execution_count": null,
   "metadata": {
    "collapsed": false,
    "run_control": {
     "read_only": false
    }
   },
   "outputs": [],
   "source": [
    "# Open a connection to the Mongo server, open the accidents database and name the collections of accidents and labels\n",
    "client = pymongo.MongoClient('mongodb://localhost:27351/')\n",
    "\n",
    "db = client.accidents\n",
    "accidents = db.accidents\n",
    "labels = db.labels\n",
    "roads = db.roads"
   ]
  },
  {
   "cell_type": "code",
   "execution_count": null,
   "metadata": {
    "collapsed": false,
    "run_control": {
     "read_only": false
    }
   },
   "outputs": [],
   "source": [
    "# Load the expanded names of keys and human-readable codes into memory\n",
    "expanded_name = collections.defaultdict(str)\n",
    "for e in labels.find({'expanded': {\"$exists\": True}}):\n",
    "    expanded_name[e['label']] = e['expanded']\n",
    "    \n",
    "label_of = collections.defaultdict(str)\n",
    "for l in labels.find({'codes': {\"$exists\": True}}):\n",
    "    for c in l['codes']:\n",
    "        try:\n",
    "            label_of[l['label'], int(c)] = l['codes'][c]\n",
    "        except ValueError: \n",
    "            label_of[l['label'], c] = l['codes'][c]"
   ]
  },
  {
   "cell_type": "markdown",
   "metadata": {},
   "source": [
    "You'd expect the number of accidents to vary proportionally with the number of vehicles on a road, and the number of vehicle journeys to vary with population. This means that simply looking at the number of accidents in a location or region doesn't tell us much about the risk of using that road.\n",
    "\n",
    "To start work on the 'danger' of each road section, we need to identify which accidents took place on it. \n",
    "\n",
    "The simple approach is to associate each accident with the nearest road census point. However, this has two problems. One is that the accident may be on a minor road that isn't associated with the traffic census point. The other is that the road on which the accident occurs may not be the one with the closest road census point (for instance, if the accident occurs near a junction).\n",
    "\n",
    "Therefore, we need to annotate each road census document with the accidents that occur on that road section. To avoid too much duplication, we'll just annotate the `road` document with the relevant accident indexes. If we want more details about the accidents, we can look them up directly from the `accidents` collection."
   ]
  },
  {
   "cell_type": "markdown",
   "metadata": {
    "activity": "activity"
   },
   "source": [
    "### Activity 1\n",
    "Convert the road information in the `accident` document into the standard name as used in the `road` document.\n",
    "\n",
    "You're starting with information like this:"
   ]
  },
  {
   "cell_type": "code",
   "execution_count": null,
   "metadata": {
    "activity": "activity",
    "collapsed": false,
    "run_control": {
     "read_only": false
    }
   },
   "outputs": [],
   "source": [
    "pd.DataFrame(list(accidents.find({}, ['1st_Road_Class', '1st_Road_Number', '2nd_Road_Class', '2nd_Road_Number'], \n",
    "                                 limit=5)),\n",
    "             columns=['1st_Road_Class', '1st_Road_Number', '2nd_Road_Class', '2nd_Road_Number'])"
   ]
  },
  {
   "cell_type": "markdown",
   "metadata": {
    "activity": "activity"
   },
   "source": [
    "... and this ..."
   ]
  },
  {
   "cell_type": "code",
   "execution_count": null,
   "metadata": {
    "activity": "activity",
    "collapsed": false,
    "run_control": {
     "read_only": false
    }
   },
   "outputs": [],
   "source": [
    "sorted((code, label_of[label, code]) for label, code in label_of \n",
    " if label == '2nd_Road_Class')"
   ]
  },
  {
   "cell_type": "markdown",
   "metadata": {
    "activity": "activity"
   },
   "source": [
    "and you have to convert it to the 'typical' road numbers like this:"
   ]
  },
  {
   "cell_type": "code",
   "execution_count": null,
   "metadata": {
    "activity": "activity",
    "collapsed": false,
    "run_control": {
     "read_only": false
    }
   },
   "outputs": [],
   "source": [
    "pd.DataFrame(list(roads.find({}, ['Road', 'RCat'], limit=5)),\n",
    "                             columns=['Road', 'RCat'])"
   ]
  },
  {
   "cell_type": "code",
   "execution_count": null,
   "metadata": {
    "activity": "activity",
    "collapsed": false,
    "run_control": {
     "read_only": false
    }
   },
   "outputs": [],
   "source": [
    "sorted((code, label_of[label, code]) for label, code in label_of \n",
    " if label == 'RCat')"
   ]
  },
  {
   "cell_type": "markdown",
   "metadata": {
    "activity": "activity"
   },
   "source": [
    "Pay particular attention to A(M) roads: they're not handled consistently in the data.\n",
    "\n",
    "The solution is in the [`15.4solutions`](15.4solutions.ipynb) Notebook."
   ]
  },
  {
   "cell_type": "code",
   "execution_count": null,
   "metadata": {
    "collapsed": false,
    "run_control": {
     "read_only": false
    }
   },
   "outputs": [],
   "source": [
    "# Insert your solution here."
   ]
  },
  {
   "cell_type": "markdown",
   "metadata": {
    "activity": "activity"
   },
   "source": [
    "### Activity 2\n",
    "When given an accident, find the closest road census document for the same road. Return `None` if there isn't one for this road.\n",
    "\n",
    "Note that the relevant road could be for either the accident's first or second recorded road.\n",
    "\n",
    "Also note that you'll need to add\n",
    "\n",
    "```\n",
    "from bson.son import SON\n",
    "```\n",
    "\n",
    "and use the direct MongoDB command `geoNear` to find the nearest road segment to a given point. \n",
    "\n",
    "```\n",
    "road_result = db.command(SON([('geoNear', 'roads'), \n",
    "                ('near', <the given point>),\n",
    "                ('spherical', True),\n",
    "                ('query', <document for additional features on road segment>),\n",
    "                ('limit', 1)]))\n",
    "```\n",
    "For example, the cell below will pick an arbitrary accident, then find the motorway segment nearest to it."
   ]
  },
  {
   "cell_type": "code",
   "execution_count": null,
   "metadata": {
    "activity": "activity",
    "collapsed": false,
    "run_control": {
     "read_only": false
    }
   },
   "outputs": [],
   "source": [
    "from bson.son import SON\n",
    "\n",
    "a = accidents.find_one()\n",
    "print(a['Accident_Index'], a['loc'])\n",
    "\n",
    "nearest_road_result = db.command(SON([('geoNear', 'roads'), \n",
    "                ('near', a['loc']),                      \n",
    "                ('spherical', True),\n",
    "                ('query', {'RCat': 'TM'}),\n",
    "                ('limit', 1)]))\n",
    "\n",
    "print(nearest_road_result['results'][0]['obj']['CP'], \n",
    "      nearest_road_result['results'][0]['obj']['ONS LA Name'],\n",
    "      nearest_road_result['results'][0]['obj']['Road'])"
   ]
  },
  {
   "cell_type": "markdown",
   "metadata": {
    "activity": "activity"
   },
   "source": [
    "The solution is in the [`15.4solutions`](15.4solutions.ipynb) Notebook."
   ]
  },
  {
   "cell_type": "code",
   "execution_count": null,
   "metadata": {
    "collapsed": false,
    "run_control": {
     "read_only": false
    }
   },
   "outputs": [],
   "source": [
    "# Insert your solution here."
   ]
  },
  {
   "cell_type": "markdown",
   "metadata": {
    "activity": "activity"
   },
   "source": [
    "### Activity 3\n",
    "For each accident, add its `Accident_Index` to the nearest relevant road census point. Each road census point should have a **list** of accident indexes if there are any accidents nearby.\n",
    "\n",
    "Note that this could take **several hours** to run to completion, so you should test it works on a small set of road records first. \n",
    "\n",
    "Notes:\n",
    "1. Use the `$push` update operator to add to the list of accident indexes\n",
    "2. Make sure this process is [idempotent](https://en.wikipedia.org/wiki/Idempotence#Computer_science_meaning): you don't want accident indexes added again if you run the procedure again (do a bulk `$unset` before you start).\n",
    "\n",
    "The solution is in the [`15.4solutions`](15.4solutions.ipynb) Notebook."
   ]
  },
  {
   "cell_type": "code",
   "execution_count": null,
   "metadata": {
    "collapsed": false,
    "run_control": {
     "read_only": false
    }
   },
   "outputs": [],
   "source": [
    "# Insert your solution here."
   ]
  },
  {
   "cell_type": "markdown",
   "metadata": {},
   "source": [
    "## Summary\n",
    "This Notebook has worked through how to relate datasets to give different perspectives on the same phenomenon. Differing occurrences of accidents across space, time, and conditions is interesting, but can only give a partial picture if we don't have an understanding of the background rate of unremarkable journeys. However, different datasets are unlikely to ever align perfectly and will require some manipulation to allow the lessons from one set to be applied to another. \n",
    "\n",
    "The next Notebook looks at what new insights we can gain from the combination of these two datasets."
   ]
  },
  {
   "cell_type": "markdown",
   "metadata": {},
   "source": [
    "## What next?\n",
    "If you are working through this Notebook as part of an inline exercise, return to the module materials now.\n",
    "\n",
    "If you are working through this set of Notebooks as a whole, move on to `15.5 Investigating accident rates`.\n"
   ]
  }
 ],
 "metadata": {
  "kernelspec": {
   "display_name": "Python 3",
   "language": "python",
   "name": "python3"
  },
  "language_info": {
   "codemirror_mode": {
    "name": "ipython",
    "version": 3
   },
   "file_extension": ".py",
   "mimetype": "text/x-python",
   "name": "python",
   "nbconvert_exporter": "python",
   "pygments_lexer": "ipython3",
   "version": "3.4.3"
  }
 },
 "nbformat": 4,
 "nbformat_minor": 0
}
