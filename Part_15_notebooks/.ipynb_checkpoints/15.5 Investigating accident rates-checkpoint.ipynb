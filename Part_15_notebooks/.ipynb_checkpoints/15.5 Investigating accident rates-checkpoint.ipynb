{
 "cells": [
  {
   "cell_type": "markdown",
   "metadata": {},
   "source": [
    "# Investigating accident rates\n",
    "\n",
    "Now that you have the number of accidents for some road segments, you can investigate and find accident hotspots."
   ]
  },
  {
   "cell_type": "markdown",
   "metadata": {},
   "source": [
    "First, some boilerplate imports."
   ]
  },
  {
   "cell_type": "code",
   "execution_count": 1,
   "metadata": {
    "collapsed": true,
    "run_control": {
     "read_only": false
    }
   },
   "outputs": [],
   "source": [
    "# Import the required libraries and open the connection to Mongo\n",
    "\n",
    "import collections\n",
    "import datetime\n",
    "import matplotlib as mpl\n",
    "\n",
    "import pandas as pd\n",
    "import scipy.stats\n",
    "\n",
    "import folium\n",
    "\n",
    "import pymongo"
   ]
  },
  {
   "cell_type": "code",
   "execution_count": 2,
   "metadata": {
    "collapsed": true,
    "run_control": {
     "read_only": false
    }
   },
   "outputs": [],
   "source": [
    "# Open a connection to the Mongo server, open the accidents database and name the collections of accidents and labels\n",
    "client = pymongo.MongoClient('mongodb://localhost:27351/')\n",
    "\n",
    "db = client.accidents\n",
    "accidents = db.accidents\n",
    "labels = db.labels\n",
    "roads = db.roads"
   ]
  },
  {
   "cell_type": "code",
   "execution_count": 3,
   "metadata": {
    "collapsed": true,
    "run_control": {
     "read_only": false
    }
   },
   "outputs": [],
   "source": [
    "# Load the expanded names of keys and human-readable codes into memory\n",
    "expanded_name = collections.defaultdict(str)\n",
    "for e in labels.find({'expanded': {\"$exists\": True}}):\n",
    "    expanded_name[e['label']] = e['expanded']\n",
    "    \n",
    "label_of = collections.defaultdict(str)\n",
    "for l in labels.find({'codes': {\"$exists\": True}}):\n",
    "    for c in l['codes']:\n",
    "        try:\n",
    "            label_of[l['label'], int(c)] = l['codes'][c]\n",
    "        except ValueError: \n",
    "            label_of[l['label'], c] = l['codes'][c]"
   ]
  },
  {
   "cell_type": "code",
   "execution_count": 4,
   "metadata": {
    "collapsed": true,
    "run_control": {
     "read_only": false
    }
   },
   "outputs": [],
   "source": [
    "def add_accidents_markers(the_map, query, number_of_sides=5, fill_color='#769d96', limit=0,\n",
    "                     radius=5, rotation=54):\n",
    "    for a in accidents.find(query, \n",
    "                            ['loc.coordinates'],\n",
    "                            limit=limit):\n",
    "        folium.RegularPolygonMarker(location=[a['loc']['coordinates'][1], a['loc']['coordinates'][0]], \n",
    "                     number_of_sides=number_of_sides, radius=radius, rotation=rotation,\n",
    "                                   fill_color=fill_color).add_to(the_map)  "
   ]
  },
  {
   "cell_type": "code",
   "execution_count": 5,
   "metadata": {
    "collapsed": true,
    "run_control": {
     "read_only": false
    }
   },
   "outputs": [],
   "source": [
    "def add_roads_markers(the_map, query, number_of_sides=5, fill_color='#769d96', limit=0,\n",
    "                     radius=5, rotation=54):\n",
    "    for r in roads.find(query, \n",
    "                        ['loc.coordinates'],\n",
    "                       limit=limit):\n",
    "        folium.RegularPolygonMarker(location=[r['loc']['coordinates'][1], r['loc']['coordinates'][0]], \n",
    "                     number_of_sides=number_of_sides, radius=radius, rotation=rotation,\n",
    "                                   fill_color=fill_color).add_to(the_map)   "
   ]
  },
  {
   "cell_type": "markdown",
   "metadata": {},
   "source": [
    "## Exploring accident counts\n",
    "Now that most of the road segments are annotated with the accidents that are nearby, we can investigate accident rates."
   ]
  },
  {
   "cell_type": "code",
   "execution_count": null,
   "metadata": {
    "collapsed": false,
    "run_control": {
     "read_only": false
    },
    "scrolled": true
   },
   "outputs": [],
   "source": [
    "# Build a DataFrame, one row for each accident\n",
    "nac_unrolled_df = pd.DataFrame(list(roads.find({}, ['nearby_accident_count'])))\n",
    "\n",
    "# Count the number of each severity\n",
    "nac_ss = nac_unrolled_df['nearby_accident_count'].value_counts()\n",
    "nac_ss"
   ]
  },
  {
   "cell_type": "code",
   "execution_count": null,
   "metadata": {
    "collapsed": false,
    "run_control": {
     "read_only": false
    }
   },
   "outputs": [],
   "source": [
    "nac_ss.plot()"
   ]
  },
  {
   "cell_type": "markdown",
   "metadata": {},
   "source": [
    "It's obvious that most road segments have only a few accidents allocated to them, while a few have many.\n",
    "\n",
    "Let's take a look at where the most accident-prone road segments are."
   ]
  },
  {
   "cell_type": "code",
   "execution_count": null,
   "metadata": {
    "collapsed": false,
    "run_control": {
     "read_only": false
    }
   },
   "outputs": [],
   "source": [
    "m = folium.Map([55, -3], zoom_start=6)    \n",
    "add_roads_markers(m, {'loc': {'$exists': True},\n",
    "                      'nearby_accident_count': {'$gte': 40}})\n",
    "m"
   ]
  },
  {
   "cell_type": "markdown",
   "metadata": {},
   "source": [
    "Nothing particularly illuminating. Most of the accident-prone road sections are in central London, which isn't a great surprise."
   ]
  },
  {
   "cell_type": "code",
   "execution_count": null,
   "metadata": {
    "collapsed": true,
    "run_control": {
     "read_only": false
    }
   },
   "outputs": [],
   "source": [
    "milton_keynes = {'type': 'Polygon',\n",
    "                 'coordinates': [[[-0.877025, 52.092317],\n",
    "                                  [-0.651709, 52.092317],\n",
    "                                  [-0.651709, 51.958628],\n",
    "                                  [-0.877025, 51.958268],\n",
    "                                  [-0.877025, 52.092317]\n",
    "                                 ]]}\n",
    "\n",
    "min_mk_lat = min(p[1] for p in milton_keynes['coordinates'][0])\n",
    "max_mk_lat = max(p[1] for p in milton_keynes['coordinates'][0])\n",
    "min_mk_lon = min(p[0] for p in milton_keynes['coordinates'][0])\n",
    "max_mk_lon = max(p[0] for p in milton_keynes['coordinates'][0])\n",
    "\n",
    "mk_centre = [min_mk_lat + (max_mk_lat - min_mk_lat) / 2, min_mk_lon + (max_mk_lon - min_mk_lon) / 2]\n",
    "\n",
    "mk_region_query = {'loc': {'$geoWithin': {'$geometry': milton_keynes}}}"
   ]
  },
  {
   "cell_type": "code",
   "execution_count": null,
   "metadata": {
    "collapsed": false,
    "run_control": {
     "read_only": false
    },
    "scrolled": false
   },
   "outputs": [],
   "source": [
    "import math \n",
    "\n",
    "m = folium.Map(mk_centre, zoom_start=9)    \n",
    "query = {'loc':\n",
    "                      {'$nearSphere':\n",
    "                       {'$geometry': \n",
    "                        {'type': 'Point', 'coordinates': list(reversed(mk_centre))},\n",
    "                        '$maxDistance': 50000}}}\n",
    "\n",
    "for r in roads.find(query):\n",
    "    folium.RegularPolygonMarker(location=[r['loc']['coordinates'][1], r['loc']['coordinates'][0]], \n",
    "                     number_of_sides=9, fill_color='#ff0000',\n",
    "                    radius=(math.log10(r['nearby_accident_count']+1)*6)).add_to(m)\n",
    "\n",
    "m"
   ]
  },
  {
   "cell_type": "markdown",
   "metadata": {},
   "source": [
    "Nothing immediately obvious leaps out about accident hotspots. There seem to be large numbers of accidents near towns, but that is likely because there are lots of road segments and drivers near towns. "
   ]
  },
  {
   "cell_type": "markdown",
   "metadata": {},
   "source": [
    "Raw 'number of accidents' per road section isn't that interesting, as the road sections are different lengths. We could look at the number of accidents per kilometre, or the number of accidents per vehicle-kilometre. "
   ]
  },
  {
   "cell_type": "code",
   "execution_count": null,
   "metadata": {
    "collapsed": false,
    "run_control": {
     "read_only": false
    },
    "scrolled": true
   },
   "outputs": [],
   "source": [
    "pipeline = []\n",
    "pipeline = [{'$project': {'_id': '$CP',\n",
    "                          'accidents_per_km': {'$divide': ['$nearby_accident_count', '$LenNet']}}}]\n",
    "\n",
    "a_per_km_df = pd.DataFrame(list(roads.aggregate(pipeline)))\n",
    "a_per_km_df.set_index('_id', inplace=True)\n",
    "a_per_km_df.index.name = 'CP'\n",
    "a_per_km_df"
   ]
  },
  {
   "cell_type": "code",
   "execution_count": null,
   "metadata": {
    "collapsed": false,
    "run_control": {
     "read_only": false
    }
   },
   "outputs": [],
   "source": [
    "a_per_km_df['accidents_per_km'].hist()\n",
    "a_per_km_df['accidents_per_km'].describe()"
   ]
  },
  {
   "cell_type": "markdown",
   "metadata": {},
   "source": [
    "There's a road with 310 accidents per kilometre? Where?"
   ]
  },
  {
   "cell_type": "code",
   "execution_count": null,
   "metadata": {
    "collapsed": false,
    "run_control": {
     "read_only": false
    }
   },
   "outputs": [],
   "source": [
    "a_per_km_df.loc[a_per_km_df['accidents_per_km'].idxmax()]"
   ]
  },
  {
   "cell_type": "code",
   "execution_count": null,
   "metadata": {
    "collapsed": false,
    "run_control": {
     "read_only": false
    },
    "scrolled": true
   },
   "outputs": [],
   "source": [
    "roads.find_one({'CP': int(a_per_km_df['accidents_per_km'].idxmax())})"
   ]
  },
  {
   "cell_type": "markdown",
   "metadata": {
    "activity": "activity"
   },
   "source": [
    "### Activity 1\n",
    "Find the number of accidents per kilometre, and the number of accidents per vehicle-kilometre, for each road category.\n",
    "\n",
    "(Use the `FdAll_MV` data for the number of vehicles using a road section.)\n",
    "\n",
    "The solution is in the [`15.5solutions`](15.5solutions.ipynb) Notebook."
   ]
  },
  {
   "cell_type": "code",
   "execution_count": null,
   "metadata": {
    "collapsed": false,
    "run_control": {
     "read_only": false
    }
   },
   "outputs": [],
   "source": [
    "# Insert your solution here."
   ]
  },
  {
   "cell_type": "markdown",
   "metadata": {
    "activity": "activity"
   },
   "source": [
    "### Activity 2\n",
    "Plot a map of the road sections within 50km of Milton Keynes with accidents, with the size of marker dependent on the accidents per vehicle-km on that road section. If a road section doesn't have a meaningful accident per vehicle-km, it should be discarded from the display.\n",
    "\n",
    "Note that the accident rate per vehicle-kilometre spans several orders of magnitude, so you should use a marker size based on the logarithm of the rate. \n",
    "\n",
    "The solution is in the [`15.5solutions`](15.5solutions.ipynb) Notebook."
   ]
  },
  {
   "cell_type": "code",
   "execution_count": null,
   "metadata": {
    "collapsed": false,
    "run_control": {
     "read_only": false
    }
   },
   "outputs": [],
   "source": [
    "# Insert your solution here."
   ]
  },
  {
   "cell_type": "markdown",
   "metadata": {
    "activity": "activity"
   },
   "source": [
    "### Activity 3\n",
    "What's the most dangerous road segment in Milton Keynes?\n",
    "\n",
    "The solution is in the [`15.5solutions`](15.5solutions.ipynb) Notebook."
   ]
  },
  {
   "cell_type": "code",
   "execution_count": null,
   "metadata": {
    "collapsed": false,
    "run_control": {
     "read_only": false
    }
   },
   "outputs": [],
   "source": [
    "# Insert your solution here."
   ]
  },
  {
   "cell_type": "markdown",
   "metadata": {
    "activity": "activity"
   },
   "source": [
    "### Activity 4\n",
    "What are the proportions of casualty class (e.g. `accident.Casualty_Class`) for accidents that occur on different road classes? Are there significant differences between the proportions of casualty classes?\n",
    "\n",
    "The solution is in the [`15.5solutions`](15.5solutions.ipynb) Notebook."
   ]
  },
  {
   "cell_type": "code",
   "execution_count": null,
   "metadata": {
    "collapsed": true,
    "run_control": {
     "read_only": false
    }
   },
   "outputs": [],
   "source": [
    "mpl.rcParams['figure.figsize'] = (8, 8)"
   ]
  },
  {
   "cell_type": "code",
   "execution_count": null,
   "metadata": {
    "collapsed": false,
    "run_control": {
     "read_only": false
    }
   },
   "outputs": [],
   "source": [
    "# Insert your solution here."
   ]
  },
  {
   "cell_type": "markdown",
   "metadata": {},
   "source": [
    "## Summary\n",
    "The combination of traffic volume data and accident data allows us to get a richer and more nuanced view of road safety. Rather than just looking for areas with many accidents, we can look at where the accident rate is highest compared to the traffic volumes. \n",
    "\n",
    "This is a typical part of data investigations and is one you'll come back to in this module, particularly in the EMA."
   ]
  },
  {
   "cell_type": "markdown",
   "metadata": {
    "collapsed": false,
    "run_control": {
     "read_only": false
    }
   },
   "source": [
    "## What next?\n",
    "If you are working through this Notebook as part of an inline exercise, return to the module materials now.\n",
    "\n",
    "If you are working through this set of Notebooks as a whole, you've completed the Part 15 Notebooks. It's time to move on to Part 16."
   ]
  }
 ],
 "metadata": {
  "kernelspec": {
   "display_name": "Python 3",
   "language": "python",
   "name": "python3"
  },
  "language_info": {
   "codemirror_mode": {
    "name": "ipython",
    "version": 3
   },
   "file_extension": ".py",
   "mimetype": "text/x-python",
   "name": "python",
   "nbconvert_exporter": "python",
   "pygments_lexer": "ipython3",
   "version": "3.4.3"
  }
 },
 "nbformat": 4,
 "nbformat_minor": 0
}
