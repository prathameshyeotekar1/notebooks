{
 "cells": [
  {
   "cell_type": "markdown",
   "metadata": {},
   "source": [
    "# Mapping accidents\n",
    "\n",
    "This Notebook will take you through the basics of geospatial querying and plotting data on a map."
   ]
  },
  {
   "cell_type": "markdown",
   "metadata": {},
   "source": [
    "First, some boilerplate imports."
   ]
  },
  {
   "cell_type": "code",
   "execution_count": null,
   "metadata": {
    "collapsed": false,
    "run_control": {
     "read_only": false
    }
   },
   "outputs": [],
   "source": [
    "# Import the required libraries and open the connection to Mongo\n",
    "\n",
    "import collections\n",
    "import datetime\n",
    "import matplotlib as mpl\n",
    "mpl.rcParams['figure.figsize'] = (15, 15) # Reset the base size of figures so they're large enough to be useful.\n",
    "\n",
    "import pandas as pd\n",
    "import scipy.stats\n",
    "\n",
    "import folium\n",
    "\n",
    "import pymongo\n",
    "from bson.objectid import ObjectId\n",
    "from bson.son import SON"
   ]
  },
  {
   "cell_type": "code",
   "execution_count": null,
   "metadata": {
    "collapsed": false,
    "run_control": {
     "read_only": false
    }
   },
   "outputs": [],
   "source": [
    "# Open a connection to the Mongo server, open the accidents database and name the collections of accidents and labels\n",
    "client = pymongo.MongoClient('mongodb://localhost:27351/')\n",
    "\n",
    "db = client.accidents\n",
    "accidents = db.accidents\n",
    "labels = db.labels\n",
    "roads = db.roads"
   ]
  },
  {
   "cell_type": "code",
   "execution_count": null,
   "metadata": {
    "collapsed": true,
    "run_control": {
     "read_only": false
    }
   },
   "outputs": [],
   "source": [
    "# Load the expanded names of keys and human-readable codes into memory\n",
    "expanded_name = collections.defaultdict(str)\n",
    "for e in labels.find({'expanded': {\"$exists\": True}}):\n",
    "    expanded_name[e['label']] = e['expanded']\n",
    "    \n",
    "label_of = collections.defaultdict(str)\n",
    "for l in labels.find({'codes': {\"$exists\": True}}):\n",
    "    for c in l['codes']:\n",
    "        try:\n",
    "            label_of[l['label'], int(c)] = l['codes'][c]\n",
    "        except ValueError: \n",
    "            label_of[l['label'], c] = l['codes'][c]"
   ]
  },
  {
   "cell_type": "markdown",
   "metadata": {},
   "source": [
    "## Plotting some accidents\n",
    "\n",
    "To start with, let's just plot some accidents on the map to see how it's done. Depending on which thousand accidents MongoDB picks, you may need to move and zoom the map to see the points.\n",
    "\n",
    "The map generation part of this should be familiar to you from Part 5. The only difference is the use of the `uuid` methods to generate a unique name for each map, to save thinking of a unique name for each map."
   ]
  },
  {
   "cell_type": "code",
   "execution_count": null,
   "metadata": {
    "collapsed": false,
    "run_control": {
     "read_only": false
    },
    "scrolled": false
   },
   "outputs": [],
   "source": [
    "m = folium.Map(location=[55, -3], width=500, height=800, zoom_start=6)\n",
    "\n",
    "for a in accidents.find({}, ['loc.coordinates'], limit=1000):\n",
    "    folium.RegularPolygonMarker(location=[a['loc']['coordinates'][1], a['loc']['coordinates'][0]], \n",
    "                     number_of_sides=5, radius=5, rotation=54).add_to(m)\n",
    "m"
   ]
  },
  {
   "cell_type": "markdown",
   "metadata": {},
   "source": [
    "Let's see if we can plot the UK motorway network by where the accidents are. `Road_Class` tells us they type of road the accident was on."
   ]
  },
  {
   "cell_type": "code",
   "execution_count": null,
   "metadata": {
    "collapsed": false,
    "run_control": {
     "read_only": false
    }
   },
   "outputs": [],
   "source": [
    "[(c, l, label_of[l, c]) for l, c in label_of  if \"Road_Class\" in l ]"
   ]
  },
  {
   "cell_type": "markdown",
   "metadata": {},
   "source": [
    "This leaves us with a decision: to A(M) roads count as motorways? Let's say yes, and include them in the query. \n",
    "\n",
    "But before we do that, how many accidents are there?"
   ]
  },
  {
   "cell_type": "code",
   "execution_count": null,
   "metadata": {
    "collapsed": false,
    "run_control": {
     "read_only": false
    }
   },
   "outputs": [],
   "source": [
    "accidents.find({'$or': [{'1st_Road_Class': 1}, \n",
    "                                 {'2nd_Road_Class': 1},\n",
    "                                 {'1st_Road_Class': 2}, \n",
    "                                 {'2nd_Road_Class': 2}]}).count()"
   ]
  },
  {
   "cell_type": "markdown",
   "metadata": {},
   "source": [
    "That's quite a lot. We don't need that many to show the idea. We can restrict the subset by date, picking just the accidents in January 2012. How many are those are there?"
   ]
  },
  {
   "cell_type": "code",
   "execution_count": null,
   "metadata": {
    "collapsed": false,
    "run_control": {
     "read_only": false
    }
   },
   "outputs": [],
   "source": [
    "accidents.find({'$or': [{'1st_Road_Class': 1}, \n",
    "                                 {'2nd_Road_Class': 1},\n",
    "                                 {'1st_Road_Class': 2}, \n",
    "                                 {'2nd_Road_Class': 2}],\n",
    "               'Datetime': {'$lte': datetime.datetime(2012, 1, 31)}}).count()"
   ]
  },
  {
   "cell_type": "markdown",
   "metadata": {},
   "source": [
    "A better number. Let's plot them."
   ]
  },
  {
   "cell_type": "code",
   "execution_count": null,
   "metadata": {
    "collapsed": false,
    "run_control": {
     "read_only": false
    }
   },
   "outputs": [],
   "source": [
    "m = folium.Map(location=[55, -3], width=500, height=800, zoom_start=6)\n",
    "\n",
    "for a in accidents.find({'$or': [{'1st_Road_Class': 1}, \n",
    "                                 {'2nd_Road_Class': 1},\n",
    "                                 {'1st_Road_Class': 2}, \n",
    "                                 {'2nd_Road_Class': 2}],\n",
    "               'Datetime': {'$lte': datetime.datetime(2012, 1, 31)}}, \n",
    "                        ['loc.coordinates']):\n",
    "    folium.RegularPolygonMarker(location=[a['loc']['coordinates'][1], a['loc']['coordinates'][0]], \n",
    "                     number_of_sides=5, radius=5, rotation=54).add_to(m)\n",
    "m"
   ]
  },
  {
   "cell_type": "markdown",
   "metadata": {},
   "source": [
    "## Making a function\n",
    "There's a lot of boilerplate to do with adding markers. Let's wrap it up in a function. \n",
    "\n",
    "(I've also added some other parameters we'll use later.)"
   ]
  },
  {
   "cell_type": "code",
   "execution_count": null,
   "metadata": {
    "collapsed": true,
    "run_control": {
     "read_only": false
    }
   },
   "outputs": [],
   "source": [
    "# def make_map(location, width=800, height=800, zoom_start=9):\n",
    "#     m = folium.Map(location=location, width=width, height=height, zoom_start=zoom_start)\n",
    "#     m.save('folium-map-' + uuid.uuid4().hex + '.html')\n",
    "#     m.render_iframe = True\n",
    "#     return m"
   ]
  },
  {
   "cell_type": "code",
   "execution_count": null,
   "metadata": {
    "collapsed": true,
    "run_control": {
     "read_only": false
    }
   },
   "outputs": [],
   "source": [
    "def add_accidents_markers(the_map, query, limit=0,\n",
    "                          number_of_sides=5, fill_color='#769d96', \n",
    "                          radius=5, rotation=54):\n",
    "    for a in accidents.find(query,\n",
    "                            ['loc.coordinates'],\n",
    "                            limit=limit):\n",
    "        folium.RegularPolygonMarker(location=[a['loc']['coordinates'][1], a['loc']['coordinates'][0]], \n",
    "                     number_of_sides=number_of_sides, radius=radius, rotation=rotation,\n",
    "                                   fill_color=fill_color).add_to(the_map)    "
   ]
  },
  {
   "cell_type": "markdown",
   "metadata": {},
   "source": [
    "What patch is covered by the North Wales police force (code 60)?\n",
    "\n",
    "(Note that `zip(*list_of_lists)` is the Python idiom for \"transpose\", similar to the _pandas_ `.T` method.)"
   ]
  },
  {
   "cell_type": "code",
   "execution_count": null,
   "metadata": {
    "collapsed": false,
    "run_control": {
     "read_only": false
    }
   },
   "outputs": [],
   "source": [
    "list(zip(*[[0, 1, 2], [10, 11, 12], [100, 101, 102], [1000, 1001, 1002]]))"
   ]
  },
  {
   "cell_type": "code",
   "execution_count": null,
   "metadata": {
    "collapsed": false,
    "run_control": {
     "read_only": false
    },
    "scrolled": false
   },
   "outputs": [],
   "source": [
    "latlons = list(zip(*[(a['loc']['coordinates'][1], \n",
    "                      a['loc']['coordinates'][0]) \n",
    "                    for a in accidents.find({'Police_Force': 60}, \n",
    "                        ['loc.coordinates'])]))\n",
    "max_lat = max(latlons[0])\n",
    "max_lon = max(latlons[1])\n",
    "min_lat = min(latlons[0])\n",
    "min_lon = min(latlons[1])\n",
    "    \n",
    "m = folium.Map([min_lat + (max_lat - min_lat) / 2, \n",
    "                        min_lon + (max_lon - min_lon) / 2], \n",
    "               zoom_start=9)    \n",
    "\n",
    "add_accidents_markers(m, {'Police_Force': 60})\n",
    "m"
   ]
  },
  {
   "cell_type": "markdown",
   "metadata": {},
   "source": [
    "Again, a lot of boilerplate. Let's wrap the code to find the centre of a map into a function as well."
   ]
  },
  {
   "cell_type": "code",
   "execution_count": null,
   "metadata": {
    "collapsed": true,
    "run_control": {
     "read_only": false
    }
   },
   "outputs": [],
   "source": [
    "def map_centre_from_points(query):\n",
    "    latlons = list(zip(*[(a['loc']['coordinates'][1], \n",
    "                      a['loc']['coordinates'][0]) \n",
    "                    for a in accidents.find(query, \n",
    "                        ['loc.coordinates'])]))\n",
    "    max_lat = max(latlons[0])\n",
    "    max_lon = max(latlons[1])\n",
    "    min_lat = min(latlons[0])\n",
    "    min_lon = min(latlons[1]) \n",
    "    return [min_lat + (max_lat - min_lat) / 2,\n",
    "            min_lon + (max_lon - min_lon) / 2]"
   ]
  },
  {
   "cell_type": "code",
   "execution_count": null,
   "metadata": {
    "collapsed": false,
    "run_control": {
     "read_only": false
    },
    "scrolled": false
   },
   "outputs": [],
   "source": [
    "query = {'Police_Force': 60}\n",
    "\n",
    "map_centre = map_centre_from_points(query)\n",
    "  \n",
    "m = folium.Map(map_centre, zoom_start=9)\n",
    "add_accidents_markers(m, query)\n",
    "m"
   ]
  },
  {
   "cell_type": "markdown",
   "metadata": {
    "activity": "activity"
   },
   "source": [
    "### Activity 1\n",
    "Plot the locations of all fatal and serious accidents that occurred on motorways.\n",
    "\n",
    "The solution is in the [`15.1solutions`](15.1solutions.ipynb) Notebook."
   ]
  },
  {
   "cell_type": "code",
   "execution_count": null,
   "metadata": {
    "collapsed": false,
    "run_control": {
     "read_only": false
    }
   },
   "outputs": [],
   "source": [
    "# Insert your solution here."
   ]
  },
  {
   "cell_type": "markdown",
   "metadata": {
    "activity": "activity"
   },
   "source": [
    "### Activity 2\n",
    "Plot the accidents covered by the Cornwall local authority. Recall that local authorities are listed as `Local_Authority_(Highway)` in the dataset.\n",
    "\n",
    "The solution is in the [`15.1solutions`](15.1solutions.ipynb) Notebook."
   ]
  },
  {
   "cell_type": "code",
   "execution_count": null,
   "metadata": {
    "collapsed": false,
    "run_control": {
     "read_only": false
    }
   },
   "outputs": [],
   "source": [
    "# Insert your solution here."
   ]
  },
  {
   "cell_type": "markdown",
   "metadata": {},
   "source": [
    "## Milton Keynes\n",
    "Let's zoom in a bit on Milton Keynes (MK), the home of the Open University. Let's start by just plotting all the accidents that occurred near MK."
   ]
  },
  {
   "cell_type": "code",
   "execution_count": null,
   "metadata": {
    "collapsed": false,
    "run_control": {
     "read_only": false
    }
   },
   "outputs": [],
   "source": [
    "region = {'loc': \n",
    "          {'$nearSphere':\n",
    "           {'$geometry': \n",
    "            {'type': 'Point', \n",
    "             'coordinates': [-0.7601851, 52.0395099]},\n",
    "            '$maxDistance': 10000}}}\n",
    "\n",
    "map_centre = map_centre_from_points(region)\n",
    "\n",
    "m = folium.Map(map_centre, zoom_start=12)    \n",
    "add_accidents_markers(m, region)\n",
    "m"
   ]
  },
  {
   "cell_type": "markdown",
   "metadata": {},
   "source": [
    "This bit of JSON defines the bounding rectangle around Milton Keynes. We'll use it to filter the set of accidents more closely."
   ]
  },
  {
   "cell_type": "code",
   "execution_count": null,
   "metadata": {
    "collapsed": false,
    "run_control": {
     "read_only": false
    }
   },
   "outputs": [],
   "source": [
    "milton_keynes = {'type': 'Polygon',\n",
    "                 'coordinates': [[[-0.877025, 52.092317],\n",
    "                                  [-0.651709, 52.092317],\n",
    "                                  [-0.651709, 51.958628],\n",
    "                                  [-0.877025, 51.958268],\n",
    "                                  [-0.877025, 52.092317]\n",
    "                                 ]]}\n",
    "\n",
    "min_mk_lat = min(p[1] for p in milton_keynes['coordinates'][0])\n",
    "max_mk_lat = max(p[1] for p in milton_keynes['coordinates'][0])\n",
    "min_mk_lon = min(p[0] for p in milton_keynes['coordinates'][0])\n",
    "max_mk_lon = max(p[0] for p in milton_keynes['coordinates'][0])\n",
    "\n",
    "mk_centre = [min_mk_lat + (max_mk_lat - min_mk_lat) / 2, min_mk_lon + (max_mk_lon - min_mk_lon) / 2]\n",
    "\n",
    "mk_region_query = {'loc': {'$geoWithin': {'$geometry': milton_keynes}}}"
   ]
  },
  {
   "cell_type": "code",
   "execution_count": null,
   "metadata": {
    "collapsed": false,
    "run_control": {
     "read_only": false
    },
    "scrolled": true
   },
   "outputs": [],
   "source": [
    "m = folium.Map(mk_centre, zoom_start=12)    \n",
    "add_accidents_markers(m, mk_region_query)\n",
    "m"
   ]
  },
  {
   "cell_type": "markdown",
   "metadata": {},
   "source": [
    "Let's plot the different accident severities in different colours.\n",
    "\n",
    "First, a function to merge the additional query terms for the different types into the existing location-specifying query."
   ]
  },
  {
   "cell_type": "code",
   "execution_count": null,
   "metadata": {
    "collapsed": false,
    "run_control": {
     "read_only": false
    }
   },
   "outputs": [],
   "source": [
    "def merge_dicts(this, other):\n",
    "    this_copy = this.copy()\n",
    "    for k in other:\n",
    "        this_copy[k] = other[k]\n",
    "    return this_copy\n",
    "\n",
    "# Use like:\n",
    "a_dict = {'k1': 1, 'k2': 2}\n",
    "merge_dicts(a_dict, {'add1': 100})"
   ]
  },
  {
   "cell_type": "code",
   "execution_count": null,
   "metadata": {
    "collapsed": false,
    "run_control": {
     "read_only": false
    }
   },
   "outputs": [],
   "source": [
    "m = folium.Map(mk_centre, zoom_start=12) \n",
    "\n",
    "add_accidents_markers(m, merge_dicts(mk_region_query, {'Accident_Severity': 1}),\n",
    "    fill_color='#ff0000', number_of_sides=5, radius=10, rotation=54)\n",
    "\n",
    "add_accidents_markers(m, merge_dicts(mk_region_query, {'Accident_Severity': 2}),\n",
    "    fill_color='#ffff00', number_of_sides=4, radius=7, rotation=0)\n",
    "\n",
    "add_accidents_markers(m, merge_dicts(mk_region_query, {'Accident_Severity': 3}),\n",
    "    fill_color='#00ff00', number_of_sides=3, radius=5, rotation=30)\n",
    "m"
   ]
  },
  {
   "cell_type": "markdown",
   "metadata": {
    "activity": "activityAns"
   },
   "source": [
    "### Activity 3 \n",
    "Plot the accidents around your home or workplace.\n",
    "\n",
    "Do the accidents occur where you would expect?\n",
    "\n",
    "Note the overly complex structure of the `polygon`, e.g. `milton_keynes`: it's defined as a list containing a list of two-element lists, where each of the innermost lists is a longitude-latitude pair. Also notice that the polygon is defined as a closed path, and it's closed by giving the first point in the path twice.\n",
    "\n",
    "The solution is in the [`15.1solutions`](15.1solutions.ipynb) Notebook."
   ]
  },
  {
   "cell_type": "code",
   "execution_count": null,
   "metadata": {
    "collapsed": false,
    "run_control": {
     "read_only": false
    }
   },
   "outputs": [],
   "source": [
    "milton_keynes"
   ]
  },
  {
   "cell_type": "code",
   "execution_count": null,
   "metadata": {
    "collapsed": false,
    "run_control": {
     "read_only": false
    }
   },
   "outputs": [],
   "source": [
    "# Insert your solution here."
   ]
  },
  {
   "cell_type": "markdown",
   "metadata": {
    "activity": "activityAns"
   },
   "source": [
    "### Activity 4\n",
    "\n",
    "Colour code accidents by number of vehicles.\n",
    "\n",
    "Find an appropriate set of bins for the number of vehicles involved in an accident (about four should do). Plot the accidents in a region with the points colour coded to show the size of the accident.\n",
    "\n",
    "Milton Keynes has good range of accident sizes, if your own neighbourhood is safe.\n",
    "\n",
    "The solution is in the [`15.1solutions`](15.1solutions.ipynb) Notebook."
   ]
  },
  {
   "cell_type": "code",
   "execution_count": null,
   "metadata": {
    "collapsed": false,
    "run_control": {
     "read_only": false
    }
   },
   "outputs": [],
   "source": [
    "# Insert your solution here."
   ]
  },
  {
   "cell_type": "markdown",
   "metadata": {
    "collapsed": false,
    "run_control": {
     "read_only": false
    }
   },
   "source": [
    "## What next?\n",
    "If you are working through this Notebook as part of an inline exercise, return to the module materials now.\n",
    "\n",
    "If you are working through this set of Notebooks as a whole, move on to `15.2 Aggregation pipeline`."
   ]
  }
 ],
 "metadata": {
  "kernelspec": {
   "display_name": "Python 3",
   "language": "python",
   "name": "python3"
  },
  "language_info": {
   "codemirror_mode": {
    "name": "ipython",
    "version": 3
   },
   "file_extension": ".py",
   "mimetype": "text/x-python",
   "name": "python",
   "nbconvert_exporter": "python",
   "pygments_lexer": "ipython3",
   "version": "3.4.3"
  }
 },
 "nbformat": 4,
 "nbformat_minor": 0
}
