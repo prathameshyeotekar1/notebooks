{
 "cells": [
  {
   "cell_type": "code",
   "execution_count": null,
   "metadata": {
    "collapsed": true,
    "run_control": {
     "read_only": false
    }
   },
   "outputs": [],
   "source": [
    "# Import the required libraries\n",
    "\n",
    "import pymongo\n",
    "import datetime\n",
    "import collections\n",
    "\n",
    "import pandas as pd\n",
    "import scipy.stats\n",
    "\n",
    "import folium\n",
    "import uuid\n",
    "\n",
    "from bson.objectid import ObjectId\n",
    "from bson.son import SON"
   ]
  },
  {
   "cell_type": "code",
   "execution_count": null,
   "metadata": {
    "collapsed": true,
    "run_control": {
     "read_only": false
    }
   },
   "outputs": [],
   "source": [
    "# Open a connection to the Mongo server, open the accidents database and name the collections of accidents and labels\n",
    "client = pymongo.MongoClient('mongodb://localhost:27351/')\n",
    "\n",
    "db = client.accidents\n",
    "accidents = db.accidents\n",
    "labels = db.labels\n",
    "roads = db.roads"
   ]
  },
  {
   "cell_type": "code",
   "execution_count": null,
   "metadata": {
    "collapsed": true,
    "run_control": {
     "read_only": false
    }
   },
   "outputs": [],
   "source": [
    "# Load the expanded names of keys and human-readable codes into memory\n",
    "expanded_name = collections.defaultdict(str)\n",
    "for e in labels.find({'expanded': {\"$exists\": True}}):\n",
    "    expanded_name[e['label']] = e['expanded']\n",
    "    \n",
    "label_of = collections.defaultdict(str)\n",
    "for l in labels.find({'codes': {\"$exists\": True}}):\n",
    "    for c in l['codes']:\n",
    "        try:\n",
    "            label_of[l['label'], int(c)] = l['codes'][c]\n",
    "        except ValueError: \n",
    "            label_of[l['label'], c] = l['codes'][c]"
   ]
  },
  {
   "cell_type": "markdown",
   "metadata": {},
   "source": [
    "# Activity 1"
   ]
  },
  {
   "cell_type": "code",
   "execution_count": null,
   "metadata": {
    "collapsed": false,
    "run_control": {
     "read_only": false
    }
   },
   "outputs": [],
   "source": [
    "# Solution\n",
    "def normalise_road_name(road_class, road_number):\n",
    "    if road_number == 0:\n",
    "        return None\n",
    "    if road_class == 1:\n",
    "        return 'M' + str(road_number)\n",
    "    elif road_class == 2:\n",
    "        if road_number == 1:\n",
    "            return 'A1(M)'\n",
    "        else:\n",
    "            return 'A' + str(road_number) + 'M'\n",
    "    elif road_class >= 3 and road_class <= 5:\n",
    "        return label_of[('2nd_Road_Class', road_class)] + str(road_number)\n",
    "    else:\n",
    "        return None"
   ]
  },
  {
   "cell_type": "code",
   "execution_count": null,
   "metadata": {
    "collapsed": false,
    "run_control": {
     "read_only": false
    }
   },
   "outputs": [],
   "source": [
    "# Test it works\n",
    "[(normalise_road_name(a['1st_Road_Class'], a['1st_Road_Number']), \n",
    "  normalise_road_name(a['2nd_Road_Class'], a['2nd_Road_Number'])) \n",
    " for a in accidents.find(limit=20)]"
   ]
  },
  {
   "cell_type": "markdown",
   "metadata": {},
   "source": [
    "# Activity 2"
   ]
  },
  {
   "cell_type": "code",
   "execution_count": null,
   "metadata": {
    "collapsed": false,
    "run_control": {
     "read_only": false
    }
   },
   "outputs": [],
   "source": [
    "# Solution\n",
    "def road_for_accident(accident):\n",
    "    first_road_name = normalise_road_name(accident['1st_Road_Class'], accident['1st_Road_Number'])\n",
    "    second_road_name = normalise_road_name(accident['2nd_Road_Class'], accident['2nd_Road_Number'])\n",
    "    if first_road_name:\n",
    "        first_road_result = db.command(SON([('geoNear', 'roads'), \n",
    "                ('near', accident['loc']),\n",
    "                ('spherical', True),\n",
    "                ('query', {'Road': first_road_name}),\n",
    "                ('limit', 1)]))\n",
    "    else:\n",
    "        first_road_result = {'results': []}\n",
    "    if second_road_name:\n",
    "        second_road_result = db.command(SON([('geoNear', 'roads'), \n",
    "                ('near', accident['loc']),\n",
    "                ('spherical', True),\n",
    "                ('query', {'Road': second_road_name}),\n",
    "                ('limit', 1)]))\n",
    "    else:\n",
    "        second_road_result = {'results': []}\n",
    "\n",
    "    all_results = first_road_result['results'] + second_road_result['results']\n",
    "    sorted_results = sorted(all_results, key=lambda r: r['dis'])\n",
    "    \n",
    "    if sorted_results:\n",
    "        nearest_road = sorted_results[0]['obj']\n",
    "        return nearest_road\n",
    "    else:\n",
    "        return None"
   ]
  },
  {
   "cell_type": "code",
   "execution_count": null,
   "metadata": {
    "collapsed": false,
    "run_control": {
     "read_only": false
    }
   },
   "outputs": [],
   "source": [
    "# Test it works\n",
    "road_for_accident(accidents.find_one())"
   ]
  },
  {
   "cell_type": "code",
   "execution_count": null,
   "metadata": {
    "collapsed": false,
    "run_control": {
     "read_only": false
    }
   },
   "outputs": [],
   "source": [
    "# Test it works a lot\n",
    "res = []\n",
    "for a in accidents.find(limit=20):\n",
    "    rfa = road_for_accident(a)\n",
    "    if rfa:\n",
    "        res.append((rfa['Road'], rfa['CP'],\n",
    "                    normalise_road_name(a['1st_Road_Class'], a['1st_Road_Number']),\n",
    "                    normalise_road_name(a['2nd_Road_Class'], a['2nd_Road_Number'])))\n",
    "    else:\n",
    "        res.append((None, None,\n",
    "                    normalise_road_name(a['1st_Road_Class'], a['1st_Road_Number']),\n",
    "                    normalise_road_name(a['2nd_Road_Class'], a['2nd_Road_Number'])))\n",
    "res"
   ]
  },
  {
   "cell_type": "markdown",
   "metadata": {},
   "source": [
    "# Activity 3"
   ]
  },
  {
   "cell_type": "code",
   "execution_count": null,
   "metadata": {
    "code_folding": [],
    "collapsed": false,
    "run_control": {
     "read_only": false
    }
   },
   "outputs": [],
   "source": [
    "# Solution\n",
    "\n",
    "# First, remove all the existing cached accident indexes\n",
    "roads.update_many({}, {'$unset': {'nearby_accidents': True},\n",
    "                  '$set': {'nearby_accident_count': 0}})\n",
    "\n",
    "# Include the accident indexes in the road documents.\n",
    "#   Also maintain a count of how many accidents there are for each record.\n",
    "for a in accidents.find():\n",
    "    rfa = road_for_accident(a)\n",
    "    if rfa and ('nearby_accidents' not in rfa or a['Accident_Index'] not in rfa['nearby_accidents']):\n",
    "        roads.update_one({'_id': rfa['_id']}, {'$push': {'nearby_accidents': a['Accident_Index']},\n",
    "                                           '$inc': {'nearby_accident_count': 1}})"
   ]
  },
  {
   "cell_type": "code",
   "execution_count": null,
   "metadata": {
    "code_folding": [],
    "collapsed": false,
    "run_control": {
     "read_only": false
    }
   },
   "outputs": [],
   "source": [
    "list(roads.find({'CP': 16854}))"
   ]
  },
  {
   "cell_type": "code",
   "execution_count": null,
   "metadata": {
    "collapsed": true,
    "run_control": {
     "read_only": false
    }
   },
   "outputs": [],
   "source": []
  }
 ],
 "metadata": {
  "kernelspec": {
   "display_name": "Python 3",
   "language": "python",
   "name": "python3"
  },
  "language_info": {
   "codemirror_mode": {
    "name": "ipython",
    "version": 3
   },
   "file_extension": ".py",
   "mimetype": "text/x-python",
   "name": "python",
   "nbconvert_exporter": "python",
   "pygments_lexer": "ipython3",
   "version": "3.4.3"
  }
 },
 "nbformat": 4,
 "nbformat_minor": 0
}
