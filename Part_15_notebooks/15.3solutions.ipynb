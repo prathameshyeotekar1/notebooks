{
 "cells": [
  {
   "cell_type": "code",
   "execution_count": null,
   "metadata": {
    "collapsed": true,
    "run_control": {
     "read_only": false
    }
   },
   "outputs": [],
   "source": [
    "# Import the required libraries\n",
    "\n",
    "import pymongo\n",
    "import datetime\n",
    "import collections\n",
    "\n",
    "import pandas as pd\n",
    "import scipy.stats\n",
    "\n",
    "import folium\n",
    "import uuid"
   ]
  },
  {
   "cell_type": "code",
   "execution_count": null,
   "metadata": {
    "collapsed": true,
    "run_control": {
     "read_only": false
    }
   },
   "outputs": [],
   "source": [
    "# Open a connection to the Mongo server, open the accidents database and name the collections of accidents and labels\n",
    "client = pymongo.MongoClient('mongodb://localhost:27351/')\n",
    "\n",
    "db = client.accidents\n",
    "accidents = db.accidents\n",
    "labels = db.labels\n",
    "roads = db.roads"
   ]
  },
  {
   "cell_type": "code",
   "execution_count": null,
   "metadata": {
    "collapsed": true,
    "run_control": {
     "read_only": false
    }
   },
   "outputs": [],
   "source": [
    "# Load the expanded names of keys and human-readable codes into memory\n",
    "expanded_name = collections.defaultdict(str)\n",
    "for e in labels.find({'expanded': {\"$exists\": True}}):\n",
    "    expanded_name[e['label']] = e['expanded']\n",
    "    \n",
    "label_of = collections.defaultdict(str)\n",
    "for l in labels.find({'codes': {\"$exists\": True}}):\n",
    "    for c in l['codes']:\n",
    "        try:\n",
    "            label_of[l['label'], int(c)] = l['codes'][c]\n",
    "        except ValueError: \n",
    "            label_of[l['label'], c] = l['codes'][c]"
   ]
  },
  {
   "cell_type": "code",
   "execution_count": null,
   "metadata": {
    "collapsed": true,
    "run_control": {
     "read_only": false
    }
   },
   "outputs": [],
   "source": [
    "def results_to_table(results, index_name, column_name, results_name, \n",
    "                     fillna=None,\n",
    "                     relabel_index=False, relabel_columns=False,\n",
    "                     index_label=None, column_label=None):\n",
    "    \n",
    "    # Move items in dicts-of-dicts to the top level.\n",
    "    def flatten(d):\n",
    "        new_d = {}\n",
    "        for k in d:\n",
    "            if isinstance(d[k], dict):\n",
    "                new_d.update(flatten(d[k]))\n",
    "            else:\n",
    "                new_d[k] = d[k]\n",
    "        return new_d\n",
    "\n",
    "    df = pd.DataFrame([flatten(r) for r in results])\n",
    "    df = df.pivot(index=index_name, columns=column_name, values=results_name)\n",
    "    \n",
    "    # Optionally, fiddle with names and labels to make the DataFrame pretty.\n",
    "    if not fillna is None:\n",
    "        df.fillna(fillna, inplace=True)\n",
    "    if relabel_columns:\n",
    "        df.columns = [label_of[column_name, c] for c in df.columns]\n",
    "    if relabel_index:\n",
    "        df.index = [label_of[index_name, r] for r in df.index]\n",
    "    if column_label:\n",
    "        df.columns.name = column_label\n",
    "    else:\n",
    "        df.columns.name = column_name\n",
    "    if index_label:\n",
    "        df.index.name = index_label\n",
    "    else:\n",
    "        df.index.name = index_name\n",
    "    return df"
   ]
  },
  {
   "cell_type": "markdown",
   "metadata": {},
   "source": [
    "# Activity 1"
   ]
  },
  {
   "cell_type": "code",
   "execution_count": null,
   "metadata": {
    "collapsed": false,
    "run_control": {
     "read_only": false
    }
   },
   "outputs": [],
   "source": [
    "pipeline = [\n",
    "    {'$project': {'ONS LA Name': '$ONS LA Name',\n",
    "                  'class': {'$substr': ['$RCat', 1, 1]},\n",
    "                  'LenNet': '$LenNet'}},\n",
    "    {'$match': {'class': {'$in': ['R', 'U']}}},\n",
    "    {'$group': {'_id': {'ONS_LA_Name': '$ONS LA Name', \n",
    "                        'class': '$class'},\n",
    "                    'length': {'$sum': '$LenNet'},\n",
    "                    'count': {'$sum': 1}}}]\n",
    "results = list(roads.aggregate(pipeline))\n",
    "results"
   ]
  },
  {
   "cell_type": "code",
   "execution_count": null,
   "metadata": {
    "collapsed": false,
    "run_control": {
     "read_only": false
    },
    "scrolled": true
   },
   "outputs": [],
   "source": [
    "ons_class_df = results_to_table(results, 'ONS_LA_Name', 'class', 'count', fillna=0)\n",
    "ons_class_df"
   ]
  },
  {
   "cell_type": "code",
   "execution_count": null,
   "metadata": {
    "collapsed": false,
    "run_control": {
     "read_only": false
    }
   },
   "outputs": [],
   "source": [
    "plt.scatter(ons_class_df['R'], \n",
    "            ons_class_df['U']\n",
    "            )\n",
    "plt.xlabel('No rural')\n",
    "plt.ylabel('No urban')\n",
    "plt.show()"
   ]
  },
  {
   "cell_type": "code",
   "execution_count": null,
   "metadata": {
    "collapsed": false,
    "run_control": {
     "read_only": false
    }
   },
   "outputs": [],
   "source": [
    "# Which is that district in the top-right corner?\n",
    "ons_class_df.loc[ons_class_df['R'].idxmax()]"
   ]
  },
  {
   "cell_type": "markdown",
   "metadata": {},
   "source": [
    "Find the most rural and urban districts."
   ]
  },
  {
   "cell_type": "code",
   "execution_count": null,
   "metadata": {
    "collapsed": false,
    "run_control": {
     "read_only": false
    }
   },
   "outputs": [],
   "source": [
    "ons_class_df.sort_values('U', ascending=False).head()"
   ]
  },
  {
   "cell_type": "code",
   "execution_count": null,
   "metadata": {
    "collapsed": false,
    "run_control": {
     "read_only": false
    }
   },
   "outputs": [],
   "source": [
    "ons_class_df.sort_values('R', ascending=False).head()"
   ]
  },
  {
   "cell_type": "code",
   "execution_count": null,
   "metadata": {
    "collapsed": false,
    "run_control": {
     "read_only": false
    }
   },
   "outputs": [],
   "source": [
    "ons_class_df[(ons_class_df['R'] > 150) | (ons_class_df['U'] > 150)]"
   ]
  },
  {
   "cell_type": "code",
   "execution_count": null,
   "metadata": {
    "collapsed": false,
    "run_control": {
     "read_only": false
    },
    "scrolled": true
   },
   "outputs": [],
   "source": [
    "ons_class_df[(ons_class_df['R'] < 2) | (ons_class_df['U'] < 2)]"
   ]
  },
  {
   "cell_type": "markdown",
   "metadata": {},
   "source": [
    "Now to look at the road lengths."
   ]
  },
  {
   "cell_type": "code",
   "execution_count": null,
   "metadata": {
    "collapsed": false,
    "run_control": {
     "read_only": false
    },
    "scrolled": true
   },
   "outputs": [],
   "source": [
    "ons_class_len_df = results_to_table(results, 'ONS_LA_Name', 'class', 'length', fillna=0)\n",
    "ons_class_len_df"
   ]
  },
  {
   "cell_type": "code",
   "execution_count": null,
   "metadata": {
    "collapsed": false,
    "run_control": {
     "read_only": false
    }
   },
   "outputs": [],
   "source": [
    "plt.scatter(ons_class_len_df['R'], \n",
    "            ons_class_len_df['U']\n",
    "            )\n",
    "plt.xlabel('Len rural')\n",
    "plt.ylabel('Len urban')\n",
    "plt.show()"
   ]
  },
  {
   "cell_type": "markdown",
   "metadata": {},
   "source": [
    "Again, look at the most urban and most rural."
   ]
  },
  {
   "cell_type": "code",
   "execution_count": null,
   "metadata": {
    "collapsed": false,
    "run_control": {
     "read_only": false
    }
   },
   "outputs": [],
   "source": [
    "ons_class_len_df.sort_values('U', ascending=False).head()"
   ]
  },
  {
   "cell_type": "code",
   "execution_count": null,
   "metadata": {
    "collapsed": false,
    "run_control": {
     "read_only": false
    }
   },
   "outputs": [],
   "source": [
    "ons_class_len_df.sort_values('R', ascending=False).head()"
   ]
  },
  {
   "cell_type": "markdown",
   "metadata": {},
   "source": [
    "There are a lot of districts on that left hand edge of the scatter plot. Can we pick them out? How about by finding the ratio of urban:rural lengths, and finding the outliers."
   ]
  },
  {
   "cell_type": "code",
   "execution_count": null,
   "metadata": {
    "collapsed": false,
    "run_control": {
     "read_only": false
    },
    "scrolled": true
   },
   "outputs": [],
   "source": [
    "ons_class_len_df['UvR'] = ons_class_len_df['U'] / ons_class_len_df['R']\n",
    "ons_class_len_df.sort_values('UvR').head(10)"
   ]
  },
  {
   "cell_type": "code",
   "execution_count": null,
   "metadata": {
    "collapsed": false,
    "run_control": {
     "read_only": false
    },
    "scrolled": true
   },
   "outputs": [],
   "source": [
    "ons_class_len_df.sort_values('UvR', ascending=False).head(10)"
   ]
  },
  {
   "cell_type": "markdown",
   "metadata": {},
   "source": [
    "How many districts are urban-only?"
   ]
  },
  {
   "cell_type": "code",
   "execution_count": null,
   "metadata": {
    "collapsed": false,
    "run_control": {
     "read_only": false
    }
   },
   "outputs": [],
   "source": [
    "ons_class_len_df[ons_class_len_df['R'] == 0].count(), ons_class_len_df.count()"
   ]
  },
  {
   "cell_type": "code",
   "execution_count": null,
   "metadata": {
    "collapsed": false,
    "run_control": {
     "read_only": false
    }
   },
   "outputs": [],
   "source": [
    "24/206"
   ]
  },
  {
   "cell_type": "markdown",
   "metadata": {},
   "source": [
    "### Observations\n",
    "There are 206 districts. 24 of them (about 12%) are entirely urban, with no rural road sections. Five are entirely rural. The entirely urban districts are in the centers of large cities, with London being dominant here.\n",
    "\n",
    "Several districts have many and long sections in both categories. This includes several London communter belt districts (Kent, Surrey, Hertfordshire) districts. "
   ]
  },
  {
   "cell_type": "markdown",
   "metadata": {},
   "source": [
    "## Activity 2"
   ]
  },
  {
   "cell_type": "code",
   "execution_count": null,
   "metadata": {
    "collapsed": false,
    "run_control": {
     "read_only": false
    },
    "scrolled": true
   },
   "outputs": [],
   "source": [
    "pipeline = [{'$group': {'_id': '$RCat',\n",
    "                                 'Fd2WMV': {'$avg': '$Fd2WMV'},\n",
    "                                 'FdBUS': {'$avg': '$FdBUS'},\n",
    "                                 'FdCar': {'$avg': '$FdCar'},\n",
    "                                 'FdHGV': {'$avg': '$FdHGV'},\n",
    "                                 'FdLGV': {'$avg': '$FdLGV'},\n",
    "                                 'FdPC': {'$avg': '$FdPC'}}}]\n",
    "\n",
    "results = list(roads.aggregate(pipeline))\n",
    "results"
   ]
  },
  {
   "cell_type": "code",
   "execution_count": null,
   "metadata": {
    "collapsed": false,
    "run_control": {
     "read_only": false
    }
   },
   "outputs": [],
   "source": [
    "# Put the results in a DataFrame\n",
    "\n",
    "results_df = pd.DataFrame(results)\n",
    "results_df.set_index('_id', inplace=True)\n",
    "results_df.index = [label_of['RCat', r] for r in results_df.index]\n",
    "results_df.columns = [expanded_name[c] for c in results_df.columns]\n",
    "results_df"
   ]
  },
  {
   "cell_type": "code",
   "execution_count": null,
   "metadata": {
    "collapsed": false,
    "run_control": {
     "read_only": false
    }
   },
   "outputs": [],
   "source": [
    "results_df.plot(kind='bar')"
   ]
  },
  {
   "cell_type": "markdown",
   "metadata": {},
   "source": [
    "To see if the vehicle mixes are different on different roads, we'll have to use a chi-squared test. First, we need to ignore the pedal cycles category, as there are no cyclists on motorways. Then we can find the expected volumes for each vehicle type, assuming no variation between road types."
   ]
  },
  {
   "cell_type": "code",
   "execution_count": null,
   "metadata": {
    "collapsed": false,
    "run_control": {
     "read_only": false
    }
   },
   "outputs": [],
   "source": [
    "reduced_results_df = results_df.drop('Pedal cycles', 1)\n",
    "reduced_results_df.sort_index(axis=0, inplace=True)\n",
    "reduced_results_df.sort_index(axis=1, inplace=True)\n",
    "reduced_results_df"
   ]
  },
  {
   "cell_type": "code",
   "execution_count": null,
   "metadata": {
    "collapsed": true,
    "run_control": {
     "read_only": false
    }
   },
   "outputs": [],
   "source": [
    "# Reused from notebook 14.3\n",
    "def expected_of_df(actual_df):\n",
    "    df = pd.DataFrame(\n",
    "        {c: \n",
    "         {r: actual_df[c].sum() * actual_df.loc[r].sum() / actual_df.sum().sum()\n",
    "                  for r in actual_df[c].index} \n",
    "              for c in actual_df})\n",
    "    # Fix the order of columns and rows\n",
    "    df = df[actual_df.columns]\n",
    "    df = df.reindex(actual_df.index)\n",
    "    return df"
   ]
  },
  {
   "cell_type": "code",
   "execution_count": null,
   "metadata": {
    "collapsed": false,
    "run_control": {
     "read_only": false
    }
   },
   "outputs": [],
   "source": [
    "expected_results_df = expected_of_df(reduced_results_df)\n",
    "expected_results_df"
   ]
  },
  {
   "cell_type": "code",
   "execution_count": null,
   "metadata": {
    "collapsed": false,
    "run_control": {
     "read_only": false
    }
   },
   "outputs": [],
   "source": [
    "scipy.stats.chisquare(reduced_results_df, expected_results_df, axis=None)"
   ]
  },
  {
   "cell_type": "markdown",
   "metadata": {},
   "source": [
    "Yes, different road types really do have different traffic mixes."
   ]
  }
 ],
 "metadata": {
  "kernelspec": {
   "display_name": "Python 3",
   "language": "python",
   "name": "python3"
  },
  "language_info": {
   "codemirror_mode": {
    "name": "ipython",
    "version": 3
   },
   "file_extension": ".py",
   "mimetype": "text/x-python",
   "name": "python",
   "nbconvert_exporter": "python",
   "pygments_lexer": "ipython3",
   "version": "3.4.3"
  }
 },
 "nbformat": 4,
 "nbformat_minor": 0
}
