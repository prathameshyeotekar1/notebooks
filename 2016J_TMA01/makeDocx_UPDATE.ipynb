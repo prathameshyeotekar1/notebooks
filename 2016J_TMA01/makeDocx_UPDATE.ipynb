{
 "cells": [
  {
   "cell_type": "markdown",
   "metadata": {},
   "source": [
    "Put your student identifier in the variable <code>pid</code>. Note that it needs to be a string, so ensure that it is enclosed in quotes."
   ]
  },
  {
   "cell_type": "code",
   "execution_count": 5,
   "metadata": {
    "collapsed": true,
    "run_control": {
     "read_only": false
    }
   },
   "outputs": [],
   "source": [
    "pid_str='C4451553'"
   ]
  },
  {
   "cell_type": "markdown",
   "metadata": {},
   "source": [
    "First convert the notebooks to html:"
   ]
  },
  {
   "cell_type": "code",
   "execution_count": 6,
   "metadata": {
    "collapsed": false,
    "run_control": {
     "read_only": false
    }
   },
   "outputs": [
    {
     "name": "stdout",
     "output_type": "stream",
     "text": [
      "[NbConvertApp] Converting notebook 2016J_TMA01_q1.ipynb to markdown\n",
      "[NbConvertApp] Writing 8885 bytes to 2016J_TMA01_q1.md\n",
      "[NbConvertApp] Converting notebook 2016J_TMA01_q2.ipynb to markdown\n",
      "[NbConvertApp] Writing 17450 bytes to 2016J_TMA01_q2.md\n",
      "[NbConvertApp] Converting notebook 2016J_TMA01_q3.ipynb to markdown\n",
      "[NbConvertApp] Writing 16984 bytes to 2016J_TMA01_q3.md\n"
     ]
    }
   ],
   "source": [
    "!jupyter nbconvert --to=markdown 2016J_TMA01_q1.ipynb 2016J_TMA01_q2.ipynb 2016J_TMA01_q3.ipynb"
   ]
  },
  {
   "cell_type": "markdown",
   "metadata": {},
   "source": [
    "Next convert the html files into a single docx file, and rename the docx file into a format named with your student identifier.\n",
    "    "
   ]
  },
  {
   "cell_type": "code",
   "execution_count": 7,
   "metadata": {
    "collapsed": false,
    "run_control": {
     "read_only": false
    }
   },
   "outputs": [],
   "source": [
    "\n",
    "!pandoc -t docx -o {pid_str}_TMA01_2016J.docx 2016J_TMA01_q1.md 2016J_TMA01_q2.md 2016J_TMA01_q3.md\n"
   ]
  },
  {
   "cell_type": "markdown",
   "metadata": {},
   "source": [
    "And finally, create the zip file containing the Word document, the individual notebooks and the markdown forms of the notebooks"
   ]
  },
  {
   "cell_type": "code",
   "execution_count": 8,
   "metadata": {
    "collapsed": false,
    "run_control": {
     "read_only": false
    }
   },
   "outputs": [
    {
     "name": "stdout",
     "output_type": "stream",
     "text": [
      "updating: data/ (stored 0%)\n",
      "updating: data/buildings_download_12072016.csv (deflated 77%)\n",
      "updating: C4451553_TMA01_2016J.docx (deflated 4%)\n",
      "updating: 2016J_TMA01_q2.ipynb (deflated 77%)\n",
      "updating: 2016J_TMA01_q1.md (deflated 59%)\n",
      "updating: 2016J_TMA01_q2.md (deflated 68%)\n",
      "updating: 2016J_TMA01_q3.md (deflated 67%)\n",
      "  adding: data/.DS_Store (deflated 97%)\n",
      "  adding: data/buildings_cleaned.csv (deflated 79%)\n",
      "  adding: data/Manhole.csv (deflated 79%)\n",
      "  adding: data/Manhole_cleaned.csv (deflated 95%)\n"
     ]
    }
   ],
   "source": [
    "!zip -ur {pid_str}_TMA01_2016J.zip data {pid_str}_TMA01_2016J.docx 2016J_TMA01_q1.ipynb 2016J_TMA01_q2.ipynb 2016J_TMA01_q3.ipynb 2016J_TMA01_q1.md 2016J_TMA01_q2.md 2016J_TMA01_q3.md"
   ]
  }
 ],
 "metadata": {
  "kernelspec": {
   "display_name": "Python 3",
   "language": "python",
   "name": "python3"
  },
  "language_info": {
   "codemirror_mode": {
    "name": "ipython",
    "version": 3
   },
   "file_extension": ".py",
   "mimetype": "text/x-python",
   "name": "python",
   "nbconvert_exporter": "python",
   "pygments_lexer": "ipython3",
   "version": "3.4.3"
  }
 },
 "nbformat": 4,
 "nbformat_minor": 0
}
