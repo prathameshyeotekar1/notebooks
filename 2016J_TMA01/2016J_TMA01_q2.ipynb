{
 "cells": [
  {
   "cell_type": "markdown",
   "metadata": {},
   "source": [
    "# TMA 01, question 2"
   ]
  },
  {
   "cell_type": "markdown",
   "metadata": {},
   "source": [
    "**Name**: [Pablo Toledo]\n",
    "    \n",
    "**PI**: [C4451553]"
   ]
  },
  {
   "cell_type": "markdown",
   "metadata": {
    "collapsed": true,
    "run_control": {
     "read_only": false
    }
   },
   "source": [
    "This TMA question gives you the opportunity to demonstrate your mastery of the techniques in carrying out a small-scale data analysis. In the TMA, you will apply some of the ideas that you've seen in the module so far.\n",
    "\n",
    "Specifically, this question requires you to obtain and clean two datasets, combine and reshape them, and graphically present the cleaned data. All the techniques required to answer this question can be found in Parts 2-5, and are illustrated in the associated notebooks."
   ]
  },
  {
   "cell_type": "markdown",
   "metadata": {
    "collapsed": true
   },
   "source": [
    "In question 1, you started looking at the Devon manholes dataset. In this question, you are required to combine some of the information from this dataset with some data from the Devon County Council Property Assets dataset, which you can download from this site:\n",
    "\n",
    "    https://data.gov.uk/dataset/dcc-property-assets\n",
    "\n"
   ]
  },
  {
   "cell_type": "markdown",
   "metadata": {},
   "source": [
    "For this question, you are asked to produce a graphical representation of the number of manhole covers, and the number of schools, in each parish in Devon."
   ]
  },
  {
   "cell_type": "markdown",
   "metadata": {},
   "source": [
    "To do this, you must produce a pandas dataframe, so that for each parish in Devon, the number of manhole covers is listed, and the number of schools in the parish. The final dataframe should look something like this:\n"
   ]
  },
  {
   "cell_type": "markdown",
   "metadata": {},
   "source": [
    "\n",
    "||Parish|Number_of_manhole_covers|Number_of_schools|\n",
    "|---|---|---|---|\n",
    "|**0**|Sourton CP | 45 | 12 |\n",
    "|**1**|Northam CP | 23 | 1 |\n",
    "|$\\vdots$ | $\\vdots$ | $\\vdots$ | $\\vdots$ |"
   ]
  },
  {
   "cell_type": "markdown",
   "metadata": {},
   "source": [
    "\n",
    "(although note that the figures 45, 12, 23 and 1 are just for illustration; they are not necessarily the correct values for the question).\n"
   ]
  },
  {
   "cell_type": "markdown",
   "metadata": {},
   "source": [
    "You should then construct a plot showing the number of manhole covers and the number of schools for each parish, and give an explanation of what you believe the plot shows."
   ]
  },
  {
   "cell_type": "markdown",
   "metadata": {},
   "source": [
    "This question requires that you complete a number of tasks:\n",
    "\n",
    "1. You must obtain the datasets from the two sites. This task uses the techniques described in Part 2.\n",
    "\n",
    "2. You need to examine the datasets. You should consider questions such as how missing data is handled, whether there is any dirtiness or ambiguity in the data, and any differences in how data is represented in the two datasets. This task uses the techniques described in Part 3, section 2.\n",
    "\n",
    "3. You will need to capture the data in a dataframe in the form described above. This task uses the techniques described in Part 3, section 3 and Part 4.\n",
    "\n",
    "4. Finally, you should select a visualisation method for the data in the dataset, and present a plot of the data, with a description of how you think it should be interpreted. This task uses the techniques described in Part 5.\n"
   ]
  },
  {
   "cell_type": "markdown",
   "metadata": {},
   "source": [
    "It is crucial for this question to bear in mind that at each stage, you must describe what you have done in sufficient detail that someone could replicate your work. This means that you must:\n",
    "\n",
    "* explain what any code that you have written does, and execute it in the body of your submitted notebook,\n",
    "\n",
    "* where you have used tools that are not accessed via python or the Notebooks (such as OpenRefine), you should include some screenshots to show what you did, and to help the marker understand your thinking,\n",
    "\n",
    "* clearly explain any assumptions or simplifications that you have made about the data, and\n",
    "\n",
    "* interpret your final results in the context of these assumptions and simplifications.\n"
   ]
  },
  {
   "cell_type": "markdown",
   "metadata": {},
   "source": [
    "Some guidance on presentation:\n",
    "\n",
    "* You must present your answer in this notebook.\n",
    "    \n",
    "* Do not put too much text or code into each notebook cell. Each cell should contain one or two paragraphs at most, or around ten lines of python.\n",
    "\n",
    "* Ensure that in your code, you use meaningful variable names.\n",
    "\n",
    "* You should have a specific cell whose return value is the dataframe described above.\n",
    "\n",
    "* You should have a specific cell which plots the data in the dataframe."
   ]
  },
  {
   "cell_type": "markdown",
   "metadata": {},
   "source": [
    "### 40 marks"
   ]
  },
  {
   "cell_type": "markdown",
   "metadata": {},
   "source": [
    "PART 1 - ACQUIRING THE DATA\n",
    "To begin with, I downloaded the manhole cover data as a CSV file from \n",
    "the following site: https://data.gov.uk/dataset/manholes-in-devon. Both CSV, JSON and XML formats were available, but given the simple tabular nature of the manhole cover data, there seemed little benefit in working with JSON or XML data (both of which are better suited structured document data).\n",
    "\n",
    "We've also been provided with property assets data (again, in CSV format),\n",
    "previously downloaded from https://data.gov.uk/dataset/dcc-property-assets"
   ]
  },
  {
   "cell_type": "markdown",
   "metadata": {},
   "source": [
    "PART 2 - \n",
    "On inspecting the manhole cover data, we can see that we have a simple table, with one row per manhole cover. Each row has the following attributes: ITEM_TYPE_NAME, ITEM_UID, STREET_DESCRIPTOR, ITEM_IDENTITY_CODE, START_DATE, PARISH_NAME, MATERIAL_TYPE_NAME, EASTING, NORTHING."
   ]
  },
  {
   "cell_type": "markdown",
   "metadata": {},
   "source": [
    "Immediately see that there are a number of missing values for MATERIAL_TYPE_NAME and the STREET_DESCRIPTOR set to 'Dummy Street'. Of most concern to us however are missing values for PARISH_NAME (represented by question marks), as we will certainly need these to calculate the number of manhole covers per parish."
   ]
  },
  {
   "cell_type": "markdown",
   "metadata": {},
   "source": [
    "We will therefore have to do some data cleansing here, and either fix these rows (by extrapolating the parish from the STREET_DESCRIPTOR, EASTING or NORTHING) or remove them altogether. Once this is done we can remove all columns apart from ITEM_TYPE_NAME and PARISH_NAME, and then create a pivot table to show the number of manhole covers per parish name."
   ]
  },
  {
   "cell_type": "markdown",
   "metadata": {},
   "source": [
    "Now looking at the buildings data, we can again see we have a simple table, this time with each row representing a building in the Devon area. Each row has the following attributes: SITE_UPRN, SITE_NAME, PRIMARY_ADDRESS, STREET, LOCALITY, TOWN, COUNTY, POSTCODE, GIA, EASTING, NORTHING, PARISH, DISTRICT, SUBCLIENT, SITESTATUS, SITEFUNCTIONDETAIL. \n",
    "\n",
    "Of these columns, we are only interested in PARISH, SUBLCIENT (which holds the class of building e.g. 'Education schools', 'youth services') and SITEFUNCTIONDETAIL (which holds the type of building e.g. 'pre-school', 'primary school', 'secondary school' etc.)."
   ]
  },
  {
   "cell_type": "markdown",
   "metadata": {},
   "source": [
    "On looking briefly at the buildings data, it is apparent that there are entries for a number of different types of schools, such as pre-school, primary school, secondary school, special schools etc. This throws up an interesting question regarding the task. Should we include all types of school in the final count of schools per parish, or only mainstream primary and secondary schools? I decided that we should only include schools that form mandatory education, i.e. primary school, secondary school, as this is what is most commonly understood by the term 'school'.\n",
    "\n",
    "This data appears complete from a cursory glance, but for some reason every other row is blank. These will have to be removed before we can use the data to calculate the school count per parish."
   ]
  },
  {
   "cell_type": "markdown",
   "metadata": {},
   "source": [
    "In order to create the final dataframe, with the count of manhole covers and schools for each parish, we will have to join the above 2 tables using the parish name. In order to do this we must first ensure the data is harmonised, so that parish names (and boundaries) are consistent across both datasets, otherwise the resulting table will be incorrect."
   ]
  },
  {
   "cell_type": "markdown",
   "metadata": {},
   "source": [
    "PART 2 - CLEANSING THE DATA USING OPEN REFINE\n",
    "To begin with, I'll use Open Refine to clean the manhole cover data, and create a new CSV file (called manhole_cleaned.csv) which can be imported into a Panda Dataframe.\n",
    "\n",
    "I'll first import the downloaded CSV file, using the default CSV encodings. I uncheck the 'store blank rows' option, as we have no need to do so. We have 77964 rows, and the preview of the first 10 looks reasonable, giving me confidence the import was successful.  \n",
    "\n",
    "Working left to right, the first thing I do is check that each row is of type MANHOLE. Using the text facet option from the ITEM_TYPE_NAME, we can see that this is indeed the case. \n",
    "\n",
    "<img src=\"openrefine_screenshot1.png\">"
   ]
  },
  {
   "cell_type": "markdown",
   "metadata": {},
   "source": [
    "Next we'll deal with rows where the PARISH_NAME column is populated with a '?'. Using the text facet feature we can see there are 324 of those. These rows have to be either fixed, or removed. Initially, I thought that each row with a missing parish could by fixed by either by using the STREET_DESCRIPTOR, or a combination of EASTING and NORTHING to look up the location on a map and then work out the parish. However, I wondered if there might be other reasons as to why the parish wasn't populated. Perhaps some manhole covers didn't fall within a specific parish? Some quick research into parishes indeed reveal that some areas are 'unparished', which might explain some of these rows (see https://en.wikipedia.org/wiki/List_of_civil_parishes_in_Devon). There may be other reasons for these rows - missing data for instance. But 328 rows out of 77,964 represents just 0.4% of the size of the dataset, and so the effect of removing them should be negligible on the final analysis. I therefore remove them using the 'Remove matching rows' option. Open refine now shows no rows with a '?' for a parish name. \n",
    "\n",
    "<img src=\"openrefine_screenshot2.png\">"
   ]
  },
  {
   "cell_type": "markdown",
   "metadata": {},
   "source": [
    "Next, we can remove the unwanted columns and just retain ITEM_TYPE_NAME and PARISH_NAME. Again, we can select these columns in Open Refine and select Edit Column > Remove this column. \n",
    "\n",
    "<img src=\"openrefine_screenshot3.png\">\n",
    "\n",
    "Now I export the data as a CSV, saving it to a file called manhole_cleaned.csv."
   ]
  },
  {
   "cell_type": "markdown",
   "metadata": {},
   "source": [
    "Next, I'll clean the buildings data in a similar fashion. On importing the data into Open Refine I uncheck the 'store blank rows' option, which removes the blank rows. The preview looks good, and we have 1276 rows of data."
   ]
  },
  {
   "cell_type": "markdown",
   "metadata": {},
   "source": [
    "I notice the last row has a value 'road' for its SITE_UPRN, with a site name of  'ENTRY TO HANDLE ROAD SCHEMES LEASES and PTR's' . Clearly this row is attempting to capture a road instead of a building, so I remove it.\n",
    "\n",
    "<img src=\"openrefine_screenshot4.png\">"
   ]
  },
  {
   "cell_type": "markdown",
   "metadata": {},
   "source": [
    "Next I select only those rows with a SITEFUNCTIONDETAIL of 'Primary School', 'Secondary School' and 'Secondard School - Foundation'. There are 509 matching rows. I notice something interesting. For each school more than 1 building may be listed. For example, CLYST HYDON PRIMARY SCHOOL has 3 sites: MAIN SCHOOL SITE, DETACHED PLAYING FIELD and VILLAGE HALL SITE. Clearly we don't want to count individual buildings as this will distort the figures. In order to get a count of unique schools we will therefore have to group individual school buildings together. The postcode field seems like our best bet for doing this (the above 3 buildings all share the same postcode). If the postcode represents the school main site, rather than the postcode of the individual building, then this grouping will work. If on the other hand it represents the postcode of the building, then we have have an issue if some schools which had various buildings spread out geographically. We can check this after we've applied the grouping, and apply a further grouping as required."
   ]
  },
  {
   "cell_type": "markdown",
   "metadata": {},
   "source": [
    "Next I invert the selection and remove all the non-school rows. Then I remove unwanted columns - SITE_UPRN, PRIMARY_ADDRESS, GIA, EASTING, NORTHING, DISTRICT, SUBCLIENT, SITESTATUS, SITEFUNCTIONDETAIL. I retain PARISH, and STREET, LOCALITY, TOWN, COUNTY, POSTCODE in order to group buildings by school. I then export the cleaned data and save it to buildings_cleaned.csv.\n",
    "\n",
    "<img src=\"openrefine_screenshot5.png\">"
   ]
  },
  {
   "cell_type": "markdown",
   "metadata": {},
   "source": [
    "PART 3 - CAPTURING THE DATA IN A DATAFRAME.\n",
    "First, I'll import the manhole cover data into a dataframe:"
   ]
  },
  {
   "cell_type": "code",
   "execution_count": 1,
   "metadata": {
    "collapsed": false
   },
   "outputs": [
    {
     "data": {
      "text/html": [
       "<div>\n",
       "<table border=\"1\" class=\"dataframe\">\n",
       "  <thead>\n",
       "    <tr style=\"text-align: right;\">\n",
       "      <th></th>\n",
       "      <th>ITEM_TYPE_NAME</th>\n",
       "      <th>PARISH_NAME</th>\n",
       "    </tr>\n",
       "  </thead>\n",
       "  <tbody>\n",
       "    <tr>\n",
       "      <th>0</th>\n",
       "      <td>MANHOLE</td>\n",
       "      <td>Okehampton Hamlets CP</td>\n",
       "    </tr>\n",
       "    <tr>\n",
       "      <th>1</th>\n",
       "      <td>MANHOLE</td>\n",
       "      <td>Okehampton Hamlets CP</td>\n",
       "    </tr>\n",
       "    <tr>\n",
       "      <th>2</th>\n",
       "      <td>MANHOLE</td>\n",
       "      <td>Sourton CP</td>\n",
       "    </tr>\n",
       "    <tr>\n",
       "      <th>3</th>\n",
       "      <td>MANHOLE</td>\n",
       "      <td>Sourton CP</td>\n",
       "    </tr>\n",
       "    <tr>\n",
       "      <th>4</th>\n",
       "      <td>MANHOLE</td>\n",
       "      <td>Okehampton Hamlets CP</td>\n",
       "    </tr>\n",
       "  </tbody>\n",
       "</table>\n",
       "</div>"
      ],
      "text/plain": [
       "  ITEM_TYPE_NAME            PARISH_NAME\n",
       "0        MANHOLE  Okehampton Hamlets CP\n",
       "1        MANHOLE  Okehampton Hamlets CP\n",
       "2        MANHOLE             Sourton CP\n",
       "3        MANHOLE             Sourton CP\n",
       "4        MANHOLE  Okehampton Hamlets CP"
      ]
     },
     "execution_count": 1,
     "metadata": {},
     "output_type": "execute_result"
    }
   ],
   "source": [
    "#import panads and dataframe library\n",
    "import pandas as pd\n",
    "from pandas import DataFrame\n",
    "\n",
    "#read manhole_cleaned.csv file into dataframe\n",
    "manhole_df = pd.read_csv('data/Manhole_cleaned.csv')\n",
    "\n",
    "#check the dataframe looks ok\n",
    "manhole_df.head(5)"
   ]
  },
  {
   "cell_type": "code",
   "execution_count": 2,
   "metadata": {
    "collapsed": false
   },
   "outputs": [
    {
     "data": {
      "text/html": [
       "<div>\n",
       "<table border=\"1\" class=\"dataframe\">\n",
       "  <thead>\n",
       "    <tr style=\"text-align: right;\">\n",
       "      <th></th>\n",
       "      <th>ITEM_TYPE_NAME</th>\n",
       "    </tr>\n",
       "    <tr>\n",
       "      <th>PARISH_NAME</th>\n",
       "      <th></th>\n",
       "    </tr>\n",
       "  </thead>\n",
       "  <tbody>\n",
       "    <tr>\n",
       "      <th>Abbotsham CP</th>\n",
       "      <td>120</td>\n",
       "    </tr>\n",
       "    <tr>\n",
       "      <th>Abbotskerswell CP</th>\n",
       "      <td>124</td>\n",
       "    </tr>\n",
       "    <tr>\n",
       "      <th>All Saints CP</th>\n",
       "      <td>12</td>\n",
       "    </tr>\n",
       "    <tr>\n",
       "      <th>Alverdiscott CP</th>\n",
       "      <td>43</td>\n",
       "    </tr>\n",
       "    <tr>\n",
       "      <th>Alwington CP</th>\n",
       "      <td>90</td>\n",
       "    </tr>\n",
       "  </tbody>\n",
       "</table>\n",
       "</div>"
      ],
      "text/plain": [
       "                   ITEM_TYPE_NAME\n",
       "PARISH_NAME                      \n",
       "Abbotsham CP                  120\n",
       "Abbotskerswell CP             124\n",
       "All Saints CP                  12\n",
       "Alverdiscott CP                43\n",
       "Alwington CP                   90"
      ]
     },
     "execution_count": 2,
     "metadata": {},
     "output_type": "execute_result"
    }
   ],
   "source": [
    "#next, we want a count of manholes for each parish\n",
    "manhole_df.pivot_table(index=['PARISH_NAME'], aggfunc='count').head(5) #gives count of manholes for each parish"
   ]
  },
  {
   "cell_type": "code",
   "execution_count": 3,
   "metadata": {
    "collapsed": false
   },
   "outputs": [
    {
     "data": {
      "text/html": [
       "<div>\n",
       "<table border=\"1\" class=\"dataframe\">\n",
       "  <thead>\n",
       "    <tr style=\"text-align: right;\">\n",
       "      <th></th>\n",
       "      <th>SITE_NAME</th>\n",
       "      <th>STREET</th>\n",
       "      <th>LOCALITY</th>\n",
       "      <th>TOWN</th>\n",
       "      <th>COUNTY</th>\n",
       "      <th>POSTCODE</th>\n",
       "      <th>PARISH</th>\n",
       "    </tr>\n",
       "  </thead>\n",
       "  <tbody>\n",
       "    <tr>\n",
       "      <th>0</th>\n",
       "      <td>AXMINSTER  COMMUNITY PRIMARY SCHOOL</td>\n",
       "      <td>STONEY LANE</td>\n",
       "      <td>NaN</td>\n",
       "      <td>AXMINSTER</td>\n",
       "      <td>DEVON</td>\n",
       "      <td>EX135BU</td>\n",
       "      <td>Axminster CP</td>\n",
       "    </tr>\n",
       "    <tr>\n",
       "      <th>1</th>\n",
       "      <td>BROADCLYST  PRIMARY SCHOOL</td>\n",
       "      <td>SCHOOL LANE</td>\n",
       "      <td>BROADCLYST</td>\n",
       "      <td>EXETER</td>\n",
       "      <td>DEVON</td>\n",
       "      <td>EX53JG</td>\n",
       "      <td>Broad Clyst CP</td>\n",
       "    </tr>\n",
       "    <tr>\n",
       "      <th>2</th>\n",
       "      <td>CHERITON BISHOP COMMUNITY PRIMARY SCHOOL-MAIN ...</td>\n",
       "      <td>CHURCH LANE</td>\n",
       "      <td>CHERITON BISHOP</td>\n",
       "      <td>EXETER</td>\n",
       "      <td>DEVON</td>\n",
       "      <td>EX66HY</td>\n",
       "      <td>Cheriton Bishop CP</td>\n",
       "    </tr>\n",
       "    <tr>\n",
       "      <th>3</th>\n",
       "      <td>CHERITON BISHOP COMMUNITY PRIMARY SCHOOL-ASHES...</td>\n",
       "      <td>CHURCH LANE</td>\n",
       "      <td>CHERITON BISHOP</td>\n",
       "      <td>EXETER</td>\n",
       "      <td>DEVON</td>\n",
       "      <td>EX66HY</td>\n",
       "      <td>Cheriton Bishop CP</td>\n",
       "    </tr>\n",
       "    <tr>\n",
       "      <th>4</th>\n",
       "      <td>CLYST HYDON PRIMARY SCHOOL-MAIN SCHOOL SITE</td>\n",
       "      <td>NaN</td>\n",
       "      <td>CLYST HYDON</td>\n",
       "      <td>CULLOMPTON</td>\n",
       "      <td>DEVON</td>\n",
       "      <td>EX152ND</td>\n",
       "      <td>Clyst Hydon CP</td>\n",
       "    </tr>\n",
       "    <tr>\n",
       "      <th>5</th>\n",
       "      <td>CLYST HYDON PRIMARY SCHOOL-DETACHED PLAYING FIELD</td>\n",
       "      <td>NaN</td>\n",
       "      <td>CLYST HYDON</td>\n",
       "      <td>CULLOMPTON</td>\n",
       "      <td>DEVON</td>\n",
       "      <td>EX152ND</td>\n",
       "      <td>Clyst Hydon CP</td>\n",
       "    </tr>\n",
       "  </tbody>\n",
       "</table>\n",
       "</div>"
      ],
      "text/plain": [
       "                                           SITE_NAME       STREET  \\\n",
       "0                AXMINSTER  COMMUNITY PRIMARY SCHOOL  STONEY LANE   \n",
       "1                         BROADCLYST  PRIMARY SCHOOL  SCHOOL LANE   \n",
       "2  CHERITON BISHOP COMMUNITY PRIMARY SCHOOL-MAIN ...  CHURCH LANE   \n",
       "3  CHERITON BISHOP COMMUNITY PRIMARY SCHOOL-ASHES...  CHURCH LANE   \n",
       "4        CLYST HYDON PRIMARY SCHOOL-MAIN SCHOOL SITE          NaN   \n",
       "5  CLYST HYDON PRIMARY SCHOOL-DETACHED PLAYING FIELD          NaN   \n",
       "\n",
       "          LOCALITY        TOWN COUNTY POSTCODE              PARISH  \n",
       "0              NaN   AXMINSTER  DEVON  EX135BU        Axminster CP  \n",
       "1       BROADCLYST      EXETER  DEVON   EX53JG      Broad Clyst CP  \n",
       "2  CHERITON BISHOP      EXETER  DEVON   EX66HY  Cheriton Bishop CP  \n",
       "3  CHERITON BISHOP      EXETER  DEVON   EX66HY  Cheriton Bishop CP  \n",
       "4      CLYST HYDON  CULLOMPTON  DEVON  EX152ND      Clyst Hydon CP  \n",
       "5      CLYST HYDON  CULLOMPTON  DEVON  EX152ND      Clyst Hydon CP  "
      ]
     },
     "execution_count": 3,
     "metadata": {},
     "output_type": "execute_result"
    }
   ],
   "source": [
    "#now lets import the buildings data\n",
    "#read buildings_cleaned.csv file into dataframe\n",
    "buildings_df = pd.read_csv('data/buildings_cleaned.csv')\n",
    "\n",
    "#check the dataframe looks ok\n",
    "buildings_df.head(6)"
   ]
  },
  {
   "cell_type": "code",
   "execution_count": 4,
   "metadata": {
    "collapsed": false
   },
   "outputs": [
    {
     "data": {
      "text/plain": [
       "343"
      ]
     },
     "execution_count": 4,
     "metadata": {},
     "output_type": "execute_result"
    }
   ],
   "source": [
    "#next, we want to ignore any rows where the postcode has already been used, so that we get one row per school, \n",
    "#instead of one row per building\n",
    "buildings_df.drop_duplicates(subset='POSTCODE', inplace='true')\n",
    "buildings_df.shape[0]\n",
    "#this results in 345 rows, but I realise that this de-duplication relies on the postcode format being exactly the \n",
    "#same in each case. Any additional whitespaces would prevent de-duplication. Therefore I reclean the buildings data, \n",
    "#removing any white spaces, and retry the operation. This now shows 343 rows.\n",
    "\n"
   ]
  },
  {
   "cell_type": "markdown",
   "metadata": {},
   "source": [
    "<img src=\"openrefine_screenshot6.png\">"
   ]
  },
  {
   "cell_type": "code",
   "execution_count": 5,
   "metadata": {
    "collapsed": false
   },
   "outputs": [
    {
     "data": {
      "text/html": [
       "<div>\n",
       "<table border=\"1\" class=\"dataframe\">\n",
       "  <thead>\n",
       "    <tr style=\"text-align: right;\">\n",
       "      <th></th>\n",
       "      <th>SITE_NAME</th>\n",
       "      <th>STREET</th>\n",
       "      <th>LOCALITY</th>\n",
       "      <th>TOWN</th>\n",
       "      <th>COUNTY</th>\n",
       "      <th>POSTCODE</th>\n",
       "      <th>PARISH</th>\n",
       "    </tr>\n",
       "  </thead>\n",
       "  <tbody>\n",
       "    <tr>\n",
       "      <th>0</th>\n",
       "      <td>AXMINSTER  COMMUNITY PRIMARY SCHOOL</td>\n",
       "      <td>STONEY LANE</td>\n",
       "      <td>NaN</td>\n",
       "      <td>AXMINSTER</td>\n",
       "      <td>DEVON</td>\n",
       "      <td>EX135BU</td>\n",
       "      <td>Axminster CP</td>\n",
       "    </tr>\n",
       "    <tr>\n",
       "      <th>1</th>\n",
       "      <td>BROADCLYST  PRIMARY SCHOOL</td>\n",
       "      <td>SCHOOL LANE</td>\n",
       "      <td>BROADCLYST</td>\n",
       "      <td>EXETER</td>\n",
       "      <td>DEVON</td>\n",
       "      <td>EX53JG</td>\n",
       "      <td>Broad Clyst CP</td>\n",
       "    </tr>\n",
       "    <tr>\n",
       "      <th>2</th>\n",
       "      <td>CHERITON BISHOP COMMUNITY PRIMARY SCHOOL-MAIN ...</td>\n",
       "      <td>CHURCH LANE</td>\n",
       "      <td>CHERITON BISHOP</td>\n",
       "      <td>EXETER</td>\n",
       "      <td>DEVON</td>\n",
       "      <td>EX66HY</td>\n",
       "      <td>Cheriton Bishop CP</td>\n",
       "    </tr>\n",
       "    <tr>\n",
       "      <th>4</th>\n",
       "      <td>CLYST HYDON PRIMARY SCHOOL-MAIN SCHOOL SITE</td>\n",
       "      <td>NaN</td>\n",
       "      <td>CLYST HYDON</td>\n",
       "      <td>CULLOMPTON</td>\n",
       "      <td>DEVON</td>\n",
       "      <td>EX152ND</td>\n",
       "      <td>Clyst Hydon CP</td>\n",
       "    </tr>\n",
       "    <tr>\n",
       "      <th>7</th>\n",
       "      <td>CLYST ST MARY PRIMARY SCHOOL-MAIN SCHOOL SITE</td>\n",
       "      <td>NaN</td>\n",
       "      <td>CLYST ST MARY</td>\n",
       "      <td>EXETER</td>\n",
       "      <td>DEVON</td>\n",
       "      <td>EX51BG</td>\n",
       "      <td>Clyst St. Mary CP</td>\n",
       "    </tr>\n",
       "    <tr>\n",
       "      <th>9</th>\n",
       "      <td>COLYTON PRIMARY SCHOOL</td>\n",
       "      <td>THE BUTTS</td>\n",
       "      <td>WEST STREET</td>\n",
       "      <td>COLYTON</td>\n",
       "      <td>DEVON</td>\n",
       "      <td>EX246NU</td>\n",
       "      <td>Colyton CP</td>\n",
       "    </tr>\n",
       "  </tbody>\n",
       "</table>\n",
       "</div>"
      ],
      "text/plain": [
       "                                           SITE_NAME       STREET  \\\n",
       "0                AXMINSTER  COMMUNITY PRIMARY SCHOOL  STONEY LANE   \n",
       "1                         BROADCLYST  PRIMARY SCHOOL  SCHOOL LANE   \n",
       "2  CHERITON BISHOP COMMUNITY PRIMARY SCHOOL-MAIN ...  CHURCH LANE   \n",
       "4        CLYST HYDON PRIMARY SCHOOL-MAIN SCHOOL SITE          NaN   \n",
       "7      CLYST ST MARY PRIMARY SCHOOL-MAIN SCHOOL SITE          NaN   \n",
       "9                             COLYTON PRIMARY SCHOOL    THE BUTTS   \n",
       "\n",
       "          LOCALITY        TOWN COUNTY POSTCODE              PARISH  \n",
       "0              NaN   AXMINSTER  DEVON  EX135BU        Axminster CP  \n",
       "1       BROADCLYST      EXETER  DEVON   EX53JG      Broad Clyst CP  \n",
       "2  CHERITON BISHOP      EXETER  DEVON   EX66HY  Cheriton Bishop CP  \n",
       "4      CLYST HYDON  CULLOMPTON  DEVON  EX152ND      Clyst Hydon CP  \n",
       "7    CLYST ST MARY      EXETER  DEVON   EX51BG   Clyst St. Mary CP  \n",
       "9      WEST STREET     COLYTON  DEVON  EX246NU          Colyton CP  "
      ]
     },
     "execution_count": 5,
     "metadata": {},
     "output_type": "execute_result"
    }
   ],
   "source": [
    "#previewing the buildings dataframe we can now see there are no longer any duplicate postcodes:\n",
    "buildings_df.head(6)"
   ]
  },
  {
   "cell_type": "code",
   "execution_count": null,
   "metadata": {
    "collapsed": true
   },
   "outputs": [],
   "source": []
  }
 ],
 "metadata": {
  "kernelspec": {
   "display_name": "Python 3",
   "language": "python",
   "name": "python3"
  },
  "language_info": {
   "codemirror_mode": {
    "name": "ipython",
    "version": 3
   },
   "file_extension": ".py",
   "mimetype": "text/x-python",
   "name": "python",
   "nbconvert_exporter": "python",
   "pygments_lexer": "ipython3",
   "version": "3.4.3"
  }
 },
 "nbformat": 4,
 "nbformat_minor": 0
}
