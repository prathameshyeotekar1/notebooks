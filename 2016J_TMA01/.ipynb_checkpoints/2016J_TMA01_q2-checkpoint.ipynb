{
 "cells": [
  {
   "cell_type": "markdown",
   "metadata": {},
   "source": [
    "# TMA 01, question 2"
   ]
  },
  {
   "cell_type": "markdown",
   "metadata": {},
   "source": [
    "**Name**: [Pablo Toledo]\n",
    "    \n",
    "**PI**: [C4451553]"
   ]
  },
  {
   "cell_type": "markdown",
   "metadata": {
    "collapsed": true,
    "run_control": {
     "read_only": false
    }
   },
   "source": [
    "This TMA question gives you the opportunity to demonstrate your mastery of the techniques in carrying out a small-scale data analysis. In the TMA, you will apply some of the ideas that you've seen in the module so far.\n",
    "\n",
    "Specifically, this question requires you to obtain and clean two datasets, combine and reshape them, and graphically present the cleaned data. All the techniques required to answer this question can be found in Parts 2-5, and are illustrated in the associated notebooks."
   ]
  },
  {
   "cell_type": "markdown",
   "metadata": {
    "collapsed": true
   },
   "source": [
    "In question 1, you started looking at the Devon manholes dataset. In this question, you are required to combine some of the information from this dataset with some data from the Devon County Council Property Assets dataset, which you can download from this site:\n",
    "\n",
    "    https://data.gov.uk/dataset/dcc-property-assets\n",
    "\n"
   ]
  },
  {
   "cell_type": "markdown",
   "metadata": {},
   "source": [
    "For this question, you are asked to produce a graphical representation of the number of manhole covers, and the number of schools, in each parish in Devon."
   ]
  },
  {
   "cell_type": "markdown",
   "metadata": {},
   "source": [
    "To do this, you must produce a pandas dataframe, so that for each parish in Devon, the number of manhole covers is listed, and the number of schools in the parish. The final dataframe should look something like this:\n"
   ]
  },
  {
   "cell_type": "markdown",
   "metadata": {},
   "source": [
    "\n",
    "||Parish|Number_of_manhole_covers|Number_of_schools|\n",
    "|---|---|---|---|\n",
    "|**0**|Sourton CP | 45 | 12 |\n",
    "|**1**|Northam CP | 23 | 1 |\n",
    "|$\\vdots$ | $\\vdots$ | $\\vdots$ | $\\vdots$ |"
   ]
  },
  {
   "cell_type": "markdown",
   "metadata": {},
   "source": [
    "\n",
    "(although note that the figures 45, 12, 23 and 1 are just for illustration; they are not necessarily the correct values for the question).\n"
   ]
  },
  {
   "cell_type": "markdown",
   "metadata": {},
   "source": [
    "You should then construct a plot showing the number of manhole covers and the number of schools for each parish, and give an explanation of what you believe the plot shows."
   ]
  },
  {
   "cell_type": "markdown",
   "metadata": {},
   "source": [
    "This question requires that you complete a number of tasks:\n",
    "\n",
    "1. You must obtain the datasets from the two sites. This task uses the techniques described in Part 2.\n",
    "\n",
    "2. You need to examine the datasets. You should consider questions such as how missing data is handled, whether there is any dirtiness or ambiguity in the data, and any differences in how data is represented in the two datasets. This task uses the techniques described in Part 3, section 2.\n",
    "\n",
    "3. You will need to capture the data in a dataframe in the form described above. This task uses the techniques described in Part 3, section 3 and Part 4.\n",
    "\n",
    "4. Finally, you should select a visualisation method for the data in the dataset, and present a plot of the data, with a description of how you think it should be interpreted. This task uses the techniques described in Part 5.\n"
   ]
  },
  {
   "cell_type": "markdown",
   "metadata": {},
   "source": [
    "It is crucial for this question to bear in mind that at each stage, you must describe what you have done in sufficient detail that someone could replicate your work. This means that you must:\n",
    "\n",
    "* explain what any code that you have written does, and execute it in the body of your submitted notebook,\n",
    "\n",
    "* where you have used tools that are not accessed via python or the Notebooks (such as OpenRefine), you should include some screenshots to show what you did, and to help the marker understand your thinking,\n",
    "\n",
    "* clearly explain any assumptions or simplifications that you have made about the data, and\n",
    "\n",
    "* interpret your final results in the context of these assumptions and simplifications.\n"
   ]
  },
  {
   "cell_type": "markdown",
   "metadata": {},
   "source": [
    "Some guidance on presentation:\n",
    "\n",
    "* You must present your answer in this notebook.\n",
    "    \n",
    "* Do not put too much text or code into each notebook cell. Each cell should contain one or two paragraphs at most, or around ten lines of python.\n",
    "\n",
    "* Ensure that in your code, you use meaningful variable names.\n",
    "\n",
    "* You should have a specific cell whose return value is the dataframe described above.\n",
    "\n",
    "* You should have a specific cell which plots the data in the dataframe."
   ]
  },
  {
   "cell_type": "markdown",
   "metadata": {},
   "source": [
    "### 40 marks"
   ]
  },
  {
   "cell_type": "markdown",
   "metadata": {},
   "source": [
    "PART 1 - ACQUIRING THE DATA\n",
    "To begin with, I downloaded the manhole cover data as a CSV file from \n",
    "the following site: https://data.gov.uk/dataset/manholes-in-devon. Both CSV, JSON and XML formats were available, but given the simple tabular nature of the manhole cover data, there seemed little benefit in working with JSON or XML data (both of which are better suited structured document data).\n",
    "\n",
    "We've also been provided with property assets data (again, in CSV format),\n",
    "previously downloaded from https://data.gov.uk/dataset/dcc-property-assets"
   ]
  },
  {
   "cell_type": "markdown",
   "metadata": {},
   "source": [
    "PART 2 - \n",
    "On inspecting the manhole cover data, we can see that we have a simple table, with one row per manhole cover. Each row has the following attributes: ITEM_TYPE_NAME, ITEM_UID, STREET_DESCRIPTOR, ITEM_IDENTITY_CODE, START_DATE, PARISH_NAME, MATERIAL_TYPE_NAME, EASTING, NORTHING."
   ]
  },
  {
   "cell_type": "markdown",
   "metadata": {},
   "source": [
    "Immediately see that there are a number of missing values for MATERIAL_TYPE_NAME and the STREET_DESCRIPTOR set to 'Dummy Street'. Of most concern to us however are missing values for PARISH_NAME (represented by question marks), as we will certainly need these to calculate the number of manhole covers per parish."
   ]
  },
  {
   "cell_type": "markdown",
   "metadata": {},
   "source": [
    "We will therefore have to do some data cleansing here, and either fix these rows (by extrapolating the parish from the STREET_DESCRIPTOR, EASTING or NORTHING) or remove them altogether. Once this is done we can remove all columns apart from ITEM_TYPE_NAME and PARISH_NAME, and then create a pivot table to show the number of manhole covers per parish name."
   ]
  },
  {
   "cell_type": "markdown",
   "metadata": {},
   "source": [
    "Now looking at the buildings data, we can again see we have a simple table, this time with each row representing a building in the Devon area. Each row has the following attributes: SITE_UPRN, SITE_NAME, PRIMARY_ADDRESS, STREET, LOCALITY, TOWN, COUNTY, POSTCODE, GIA, EASTING, NORTHING, PARISH, DISTRICT, SUBCLIENT, SITESTATUS, SITEFUNCTIONDETAIL. \n",
    "\n",
    "Of these columns, we are only interested in PARISH, SUBLCIENT (which holds the class of building e.g. 'Education schools', 'youth services') and SITEFUNCTIONDETAIL (which holds the type of building e.g. 'pre-school', 'primary school', 'secondary school' etc.)."
   ]
  },
  {
   "cell_type": "markdown",
   "metadata": {},
   "source": [
    "On looking briefly at the buildings data, it is apparent that there are entries for a number of different types of schools, such as pre-school, primary school, secondary school, special schools etc. This throws up an interesting question regarding the task. Should we include all types of school in the final count of schools per parish, or only mainstream primary and secondary schools? I decided that we should only include schools that form mandatory education, i.e. primary school, secondary school, as this is what is most commonly understood by the term 'school'.\n",
    "\n",
    "This data appears complete from a cursory glance, but for some reason every other row is blank. These will have to be removed before we can use the data to calculate the school count per parish."
   ]
  },
  {
   "cell_type": "markdown",
   "metadata": {},
   "source": [
    "In order to create the final dataframe, with the count of manhole covers and schools for each parish, we will have to join the above 2 tables using the parish name. In order to do this we must first ensure the data is harmonised, so that parish names (and boundaries) are consistent across both datasets, otherwise the resulting table will be incorrect."
   ]
  },
  {
   "cell_type": "markdown",
   "metadata": {},
   "source": [
    "PART 2 - CLEANSING THE DATA USING OPEN REFINE\n",
    "To begin with, I'll use Open Refine to clean the manhole cover data, and create a new CSV file (called manhole_cleaned.csv) which can be imported into a Panda Dataframe.\n",
    "\n",
    "I'll first import the downloaded CSV file, using the default CSV encodings. I uncheck the 'store blank rows' option, as we have no need to do so. We have 77964 rows, and the preview of the first 10 looks reasonable, giving me confidence the import was successful.  \n",
    "\n",
    "Working left to right, the first thing I do is check that each row is of type MANHOLE. Using the text facet option from the ITEM_TYPE_NAME, we can see that this is indeed the case. \n",
    "\n",
    "<img src=\"openrefine_screenshot1.png\">"
   ]
  },
  {
   "cell_type": "markdown",
   "metadata": {},
   "source": [
    "Next we'll deal with rows where the PARISH_NAME column is populated with a '?'. Using the text facet feature we can see there are 324 of those. These rows have to be either fixed, or removed. Initially, I thought that each row with a missing parish could by fixed by either by using the STREET_DESCRIPTOR, or a combination of EASTING and NORTHING to look up the location on a map and then work out the parish. However, I wondered if there might be other reasons as to why the parish wasn't populated. Perhaps some manhole covers didn't fall within a specific parish? Some quick research into parishes indeed reveal that some areas are 'unparished', which might explain some of these rows (see https://en.wikipedia.org/wiki/List_of_civil_parishes_in_Devon). There may be other reasons for these rows - missing data for instance. But 328 rows out of 77,964 represents just 0.4% of the size of the dataset, and so the effect of removing them should be negligible on the final analysis. I therefore remove them using the 'Remove matching rows' option. Open refine now shows no rows with a '?' for a parish name. \n",
    "\n",
    "<img src=\"openrefine_screenshot2.png\">"
   ]
  },
  {
   "cell_type": "markdown",
   "metadata": {},
   "source": [
    "Next, we can remove the unwanted columns and just retain ITEM_TYPE_NAME and PARISH_NAME. Again, we can select these columns in Open Refine and select Edit Column > Remove this column. \n",
    "\n",
    "<img src=\"openrefine_screenshot3.png\">\n",
    "\n",
    "Now I export the data as a CSV, saving it to a file called manhole_cleaned.csv."
   ]
  },
  {
   "cell_type": "markdown",
   "metadata": {},
   "source": [
    "Next, I'll clean the buildings data in a similar fashion. On importing the data into Open Refine I uncheck the 'store blank rows' option, which removes the blank rows. The preview looks good, and we have 1276 rows of data."
   ]
  },
  {
   "cell_type": "markdown",
   "metadata": {},
   "source": [
    "I notice the last row has a value 'road' for its SITE_UPRN, with a site name of  'ENTRY TO HANDLE ROAD SCHEMES LEASES and PTR's' . Clearly this row is attempting to capture a road instead of a building, so I remove it.\n",
    "\n",
    "<img src=\"openrefine_screenshot4.png\">"
   ]
  },
  {
   "cell_type": "markdown",
   "metadata": {},
   "source": [
    "Next I select only those rows with a SITEFUNCTIONDETAIL of 'Primary School', 'Secondary School' and 'Secondard School - Foundation'. There are 509 matching rows. I notice something interesting. For each school more than 1 building may be listed. For example, CLYST HYDON PRIMARY SCHOOL has 3 sites: MAIN SCHOOL SITE, DETACHED PLAYING FIELD and VILLAGE HALL SITE. Clearly we don't want to count individual buildings as this will distort the figures. In order to get a count of unique schools we will therefore have to group individual school buildings together. The postcode field seems like our best bet for doing this (the above 3 buildings all share the same postcode). If the postcode represents the school main site, rather than the postcode of the individual building, then this grouping will work. If on the other hand it represents the postcode of the building, then we have have an issue if some schools which had various buildings spread out geographically. We can check this after we've applied the grouping, and apply a further grouping as required."
   ]
  },
  {
   "cell_type": "markdown",
   "metadata": {},
   "source": [
    "Next I invert the selection and remove all the non-school rows. Then I remove unwanted columns - SITE_UPRN, PRIMARY_ADDRESS, GIA, EASTING, NORTHING, DISTRICT, SUBCLIENT, SITESTATUS, SITEFUNCTIONDETAIL. I retain PARISH, and STREET, LOCALITY, TOWN, COUNTY, POSTCODE in order to group buildings by school. I then export the cleaned data and save it to buildings_cleaned.csv.\n",
    "\n",
    "<img src=\"openrefine_screenshot5.png\">"
   ]
  },
  {
   "cell_type": "markdown",
   "metadata": {},
   "source": [
    "PART 3 - CAPTURING THE DATA IN A DATAFRAME.\n",
    "First, I'll import the manhole cover data into a dataframe:"
   ]
  },
  {
   "cell_type": "code",
   "execution_count": 1,
   "metadata": {
    "collapsed": false,
    "run_control": {
     "read_only": false
    }
   },
   "outputs": [
    {
     "data": {
      "text/html": [
       "<div>\n",
       "<table border=\"1\" class=\"dataframe\">\n",
       "  <thead>\n",
       "    <tr style=\"text-align: right;\">\n",
       "      <th></th>\n",
       "      <th>ITEM_TYPE_NAME</th>\n",
       "      <th>PARISH_NAME</th>\n",
       "    </tr>\n",
       "  </thead>\n",
       "  <tbody>\n",
       "    <tr>\n",
       "      <th>0</th>\n",
       "      <td>MANHOLE</td>\n",
       "      <td>Okehampton Hamlets CP</td>\n",
       "    </tr>\n",
       "    <tr>\n",
       "      <th>1</th>\n",
       "      <td>MANHOLE</td>\n",
       "      <td>Okehampton Hamlets CP</td>\n",
       "    </tr>\n",
       "    <tr>\n",
       "      <th>2</th>\n",
       "      <td>MANHOLE</td>\n",
       "      <td>Sourton CP</td>\n",
       "    </tr>\n",
       "    <tr>\n",
       "      <th>3</th>\n",
       "      <td>MANHOLE</td>\n",
       "      <td>Sourton CP</td>\n",
       "    </tr>\n",
       "    <tr>\n",
       "      <th>4</th>\n",
       "      <td>MANHOLE</td>\n",
       "      <td>Okehampton Hamlets CP</td>\n",
       "    </tr>\n",
       "  </tbody>\n",
       "</table>\n",
       "</div>"
      ],
      "text/plain": [
       "  ITEM_TYPE_NAME            PARISH_NAME\n",
       "0        MANHOLE  Okehampton Hamlets CP\n",
       "1        MANHOLE  Okehampton Hamlets CP\n",
       "2        MANHOLE             Sourton CP\n",
       "3        MANHOLE             Sourton CP\n",
       "4        MANHOLE  Okehampton Hamlets CP"
      ]
     },
     "execution_count": 1,
     "metadata": {},
     "output_type": "execute_result"
    }
   ],
   "source": [
    "#import panads and dataframe library\n",
    "import pandas as pd\n",
    "from pandas import DataFrame\n",
    "\n",
    "#read manhole_cleaned.csv file into dataframe\n",
    "manholes_df = pd.read_csv('data/Manhole_cleaned.csv')\n",
    "\n",
    "#check the dataframe looks ok\n",
    "manholes_df.head(5)"
   ]
  },
  {
   "cell_type": "code",
   "execution_count": 2,
   "metadata": {
    "collapsed": false,
    "run_control": {
     "read_only": false
    }
   },
   "outputs": [
    {
     "data": {
      "text/html": [
       "<div>\n",
       "<table border=\"1\" class=\"dataframe\">\n",
       "  <thead>\n",
       "    <tr style=\"text-align: right;\">\n",
       "      <th></th>\n",
       "      <th>PARISH</th>\n",
       "      <th>TOTAL_MANHOLES</th>\n",
       "    </tr>\n",
       "  </thead>\n",
       "  <tbody>\n",
       "    <tr>\n",
       "      <th>0</th>\n",
       "      <td>Abbotsham CP</td>\n",
       "      <td>120</td>\n",
       "    </tr>\n",
       "    <tr>\n",
       "      <th>1</th>\n",
       "      <td>Abbotskerswell CP</td>\n",
       "      <td>124</td>\n",
       "    </tr>\n",
       "    <tr>\n",
       "      <th>2</th>\n",
       "      <td>All Saints CP</td>\n",
       "      <td>12</td>\n",
       "    </tr>\n",
       "    <tr>\n",
       "      <th>3</th>\n",
       "      <td>Alverdiscott CP</td>\n",
       "      <td>43</td>\n",
       "    </tr>\n",
       "    <tr>\n",
       "      <th>4</th>\n",
       "      <td>Alwington CP</td>\n",
       "      <td>90</td>\n",
       "    </tr>\n",
       "  </tbody>\n",
       "</table>\n",
       "</div>"
      ],
      "text/plain": [
       "              PARISH  TOTAL_MANHOLES\n",
       "0       Abbotsham CP             120\n",
       "1  Abbotskerswell CP             124\n",
       "2      All Saints CP              12\n",
       "3    Alverdiscott CP              43\n",
       "4       Alwington CP              90"
      ]
     },
     "execution_count": 2,
     "metadata": {},
     "output_type": "execute_result"
    }
   ],
   "source": [
    "#next, we want a count of manholes for each parish. \n",
    "manholes_df = manholes_df.groupby('PARISH_NAME').count() #gives count of manholes for each parish\n",
    "#we need to give the dataframe a new index, so that parish is just another normal column.\n",
    "manholes_df = manholes_df.reset_index()\n",
    "#lets rename ITEM_TYPE_NAME to TOTAL_MANHOLES as this is more meaningful. Also lets rename PARISH_NAME to PARISH as\n",
    "#this is how its referred to in the buildings data, and we'll eventually need to join on that column.\n",
    "manholes_df.rename(columns={'PARISH_NAME': 'PARISH', 'ITEM_TYPE_NAME': 'TOTAL_MANHOLES'}, inplace=True)\n",
    "manholes_df.head(5)"
   ]
  },
  {
   "cell_type": "code",
   "execution_count": 3,
   "metadata": {
    "collapsed": false,
    "run_control": {
     "read_only": false
    }
   },
   "outputs": [
    {
     "data": {
      "text/plain": [
       "411"
      ]
     },
     "execution_count": 3,
     "metadata": {},
     "output_type": "execute_result"
    }
   ],
   "source": [
    "#lets check the number of rows..\n",
    "manholes_df.shape[0]"
   ]
  },
  {
   "cell_type": "code",
   "execution_count": 4,
   "metadata": {
    "collapsed": true,
    "run_control": {
     "read_only": false
    }
   },
   "outputs": [],
   "source": [
    "#we have 411 rows, with each row representing a parish and the TOTAL_MANHOLES field representing the total number of \n",
    "#manholes in that parish"
   ]
  },
  {
   "cell_type": "code",
   "execution_count": 5,
   "metadata": {
    "collapsed": false,
    "run_control": {
     "read_only": false
    }
   },
   "outputs": [
    {
     "data": {
      "text/html": [
       "<div>\n",
       "<table border=\"1\" class=\"dataframe\">\n",
       "  <thead>\n",
       "    <tr style=\"text-align: right;\">\n",
       "      <th></th>\n",
       "      <th>SITE_NAME</th>\n",
       "      <th>STREET</th>\n",
       "      <th>LOCALITY</th>\n",
       "      <th>TOWN</th>\n",
       "      <th>COUNTY</th>\n",
       "      <th>POSTCODE</th>\n",
       "      <th>PARISH</th>\n",
       "    </tr>\n",
       "  </thead>\n",
       "  <tbody>\n",
       "    <tr>\n",
       "      <th>0</th>\n",
       "      <td>AXMINSTER  COMMUNITY PRIMARY SCHOOL</td>\n",
       "      <td>STONEY LANE</td>\n",
       "      <td>NaN</td>\n",
       "      <td>AXMINSTER</td>\n",
       "      <td>DEVON</td>\n",
       "      <td>EX135BU</td>\n",
       "      <td>Axminster CP</td>\n",
       "    </tr>\n",
       "    <tr>\n",
       "      <th>1</th>\n",
       "      <td>BROADCLYST  PRIMARY SCHOOL</td>\n",
       "      <td>SCHOOL LANE</td>\n",
       "      <td>BROADCLYST</td>\n",
       "      <td>EXETER</td>\n",
       "      <td>DEVON</td>\n",
       "      <td>EX53JG</td>\n",
       "      <td>Broad Clyst CP</td>\n",
       "    </tr>\n",
       "    <tr>\n",
       "      <th>2</th>\n",
       "      <td>CHERITON BISHOP COMMUNITY PRIMARY SCHOOL-MAIN ...</td>\n",
       "      <td>CHURCH LANE</td>\n",
       "      <td>CHERITON BISHOP</td>\n",
       "      <td>EXETER</td>\n",
       "      <td>DEVON</td>\n",
       "      <td>EX66HY</td>\n",
       "      <td>Cheriton Bishop CP</td>\n",
       "    </tr>\n",
       "    <tr>\n",
       "      <th>3</th>\n",
       "      <td>CHERITON BISHOP COMMUNITY PRIMARY SCHOOL-ASHES...</td>\n",
       "      <td>CHURCH LANE</td>\n",
       "      <td>CHERITON BISHOP</td>\n",
       "      <td>EXETER</td>\n",
       "      <td>DEVON</td>\n",
       "      <td>EX66HY</td>\n",
       "      <td>Cheriton Bishop CP</td>\n",
       "    </tr>\n",
       "    <tr>\n",
       "      <th>4</th>\n",
       "      <td>CLYST HYDON PRIMARY SCHOOL-MAIN SCHOOL SITE</td>\n",
       "      <td>NaN</td>\n",
       "      <td>CLYST HYDON</td>\n",
       "      <td>CULLOMPTON</td>\n",
       "      <td>DEVON</td>\n",
       "      <td>EX152ND</td>\n",
       "      <td>Clyst Hydon CP</td>\n",
       "    </tr>\n",
       "    <tr>\n",
       "      <th>5</th>\n",
       "      <td>CLYST HYDON PRIMARY SCHOOL-DETACHED PLAYING FIELD</td>\n",
       "      <td>NaN</td>\n",
       "      <td>CLYST HYDON</td>\n",
       "      <td>CULLOMPTON</td>\n",
       "      <td>DEVON</td>\n",
       "      <td>EX152ND</td>\n",
       "      <td>Clyst Hydon CP</td>\n",
       "    </tr>\n",
       "  </tbody>\n",
       "</table>\n",
       "</div>"
      ],
      "text/plain": [
       "                                           SITE_NAME       STREET  \\\n",
       "0                AXMINSTER  COMMUNITY PRIMARY SCHOOL  STONEY LANE   \n",
       "1                         BROADCLYST  PRIMARY SCHOOL  SCHOOL LANE   \n",
       "2  CHERITON BISHOP COMMUNITY PRIMARY SCHOOL-MAIN ...  CHURCH LANE   \n",
       "3  CHERITON BISHOP COMMUNITY PRIMARY SCHOOL-ASHES...  CHURCH LANE   \n",
       "4        CLYST HYDON PRIMARY SCHOOL-MAIN SCHOOL SITE          NaN   \n",
       "5  CLYST HYDON PRIMARY SCHOOL-DETACHED PLAYING FIELD          NaN   \n",
       "\n",
       "          LOCALITY        TOWN COUNTY POSTCODE              PARISH  \n",
       "0              NaN   AXMINSTER  DEVON  EX135BU        Axminster CP  \n",
       "1       BROADCLYST      EXETER  DEVON   EX53JG      Broad Clyst CP  \n",
       "2  CHERITON BISHOP      EXETER  DEVON   EX66HY  Cheriton Bishop CP  \n",
       "3  CHERITON BISHOP      EXETER  DEVON   EX66HY  Cheriton Bishop CP  \n",
       "4      CLYST HYDON  CULLOMPTON  DEVON  EX152ND      Clyst Hydon CP  \n",
       "5      CLYST HYDON  CULLOMPTON  DEVON  EX152ND      Clyst Hydon CP  "
      ]
     },
     "execution_count": 5,
     "metadata": {},
     "output_type": "execute_result"
    }
   ],
   "source": [
    "#now lets import the buildings data\n",
    "#read buildings_cleaned.csv file into dataframe\n",
    "buildings_df = pd.read_csv('data/buildings_cleaned.csv')\n",
    "\n",
    "#check the dataframe looks ok\n",
    "buildings_df.head(6)"
   ]
  },
  {
   "cell_type": "code",
   "execution_count": 6,
   "metadata": {
    "collapsed": false,
    "run_control": {
     "read_only": false
    }
   },
   "outputs": [
    {
     "data": {
      "text/plain": [
       "343"
      ]
     },
     "execution_count": 6,
     "metadata": {},
     "output_type": "execute_result"
    }
   ],
   "source": [
    "#next, we want to ignore any rows where the postcode has already been used, so that we get one row per school, \n",
    "#instead of one row per building\n",
    "buildings_df.drop_duplicates(subset='POSTCODE', inplace='true')\n",
    "buildings_df.shape[0]\n",
    "#this results in 345 rows, but I realise that this de-duplication relies on the postcode format being exactly the \n",
    "#same in each case. Any additional whitespaces would prevent de-duplication. Therefore I reclean the buildings data, \n",
    "#removing any white spaces, and retry the operation. This now shows 343 rows.\n",
    "\n"
   ]
  },
  {
   "cell_type": "markdown",
   "metadata": {},
   "source": [
    "<img src=\"openrefine_screenshot6.png\">"
   ]
  },
  {
   "cell_type": "code",
   "execution_count": 7,
   "metadata": {
    "collapsed": false,
    "run_control": {
     "read_only": false
    }
   },
   "outputs": [
    {
     "data": {
      "text/html": [
       "<div>\n",
       "<table border=\"1\" class=\"dataframe\">\n",
       "  <thead>\n",
       "    <tr style=\"text-align: right;\">\n",
       "      <th></th>\n",
       "      <th>SITE_NAME</th>\n",
       "      <th>STREET</th>\n",
       "      <th>LOCALITY</th>\n",
       "      <th>TOWN</th>\n",
       "      <th>COUNTY</th>\n",
       "      <th>POSTCODE</th>\n",
       "      <th>PARISH</th>\n",
       "    </tr>\n",
       "  </thead>\n",
       "  <tbody>\n",
       "    <tr>\n",
       "      <th>0</th>\n",
       "      <td>AXMINSTER  COMMUNITY PRIMARY SCHOOL</td>\n",
       "      <td>STONEY LANE</td>\n",
       "      <td>NaN</td>\n",
       "      <td>AXMINSTER</td>\n",
       "      <td>DEVON</td>\n",
       "      <td>EX135BU</td>\n",
       "      <td>Axminster CP</td>\n",
       "    </tr>\n",
       "    <tr>\n",
       "      <th>1</th>\n",
       "      <td>BROADCLYST  PRIMARY SCHOOL</td>\n",
       "      <td>SCHOOL LANE</td>\n",
       "      <td>BROADCLYST</td>\n",
       "      <td>EXETER</td>\n",
       "      <td>DEVON</td>\n",
       "      <td>EX53JG</td>\n",
       "      <td>Broad Clyst CP</td>\n",
       "    </tr>\n",
       "    <tr>\n",
       "      <th>2</th>\n",
       "      <td>CHERITON BISHOP COMMUNITY PRIMARY SCHOOL-MAIN ...</td>\n",
       "      <td>CHURCH LANE</td>\n",
       "      <td>CHERITON BISHOP</td>\n",
       "      <td>EXETER</td>\n",
       "      <td>DEVON</td>\n",
       "      <td>EX66HY</td>\n",
       "      <td>Cheriton Bishop CP</td>\n",
       "    </tr>\n",
       "    <tr>\n",
       "      <th>4</th>\n",
       "      <td>CLYST HYDON PRIMARY SCHOOL-MAIN SCHOOL SITE</td>\n",
       "      <td>NaN</td>\n",
       "      <td>CLYST HYDON</td>\n",
       "      <td>CULLOMPTON</td>\n",
       "      <td>DEVON</td>\n",
       "      <td>EX152ND</td>\n",
       "      <td>Clyst Hydon CP</td>\n",
       "    </tr>\n",
       "    <tr>\n",
       "      <th>7</th>\n",
       "      <td>CLYST ST MARY PRIMARY SCHOOL-MAIN SCHOOL SITE</td>\n",
       "      <td>NaN</td>\n",
       "      <td>CLYST ST MARY</td>\n",
       "      <td>EXETER</td>\n",
       "      <td>DEVON</td>\n",
       "      <td>EX51BG</td>\n",
       "      <td>Clyst St. Mary CP</td>\n",
       "    </tr>\n",
       "    <tr>\n",
       "      <th>9</th>\n",
       "      <td>COLYTON PRIMARY SCHOOL</td>\n",
       "      <td>THE BUTTS</td>\n",
       "      <td>WEST STREET</td>\n",
       "      <td>COLYTON</td>\n",
       "      <td>DEVON</td>\n",
       "      <td>EX246NU</td>\n",
       "      <td>Colyton CP</td>\n",
       "    </tr>\n",
       "  </tbody>\n",
       "</table>\n",
       "</div>"
      ],
      "text/plain": [
       "                                           SITE_NAME       STREET  \\\n",
       "0                AXMINSTER  COMMUNITY PRIMARY SCHOOL  STONEY LANE   \n",
       "1                         BROADCLYST  PRIMARY SCHOOL  SCHOOL LANE   \n",
       "2  CHERITON BISHOP COMMUNITY PRIMARY SCHOOL-MAIN ...  CHURCH LANE   \n",
       "4        CLYST HYDON PRIMARY SCHOOL-MAIN SCHOOL SITE          NaN   \n",
       "7      CLYST ST MARY PRIMARY SCHOOL-MAIN SCHOOL SITE          NaN   \n",
       "9                             COLYTON PRIMARY SCHOOL    THE BUTTS   \n",
       "\n",
       "          LOCALITY        TOWN COUNTY POSTCODE              PARISH  \n",
       "0              NaN   AXMINSTER  DEVON  EX135BU        Axminster CP  \n",
       "1       BROADCLYST      EXETER  DEVON   EX53JG      Broad Clyst CP  \n",
       "2  CHERITON BISHOP      EXETER  DEVON   EX66HY  Cheriton Bishop CP  \n",
       "4      CLYST HYDON  CULLOMPTON  DEVON  EX152ND      Clyst Hydon CP  \n",
       "7    CLYST ST MARY      EXETER  DEVON   EX51BG   Clyst St. Mary CP  \n",
       "9      WEST STREET     COLYTON  DEVON  EX246NU          Colyton CP  "
      ]
     },
     "execution_count": 7,
     "metadata": {},
     "output_type": "execute_result"
    }
   ],
   "source": [
    "#previewing the buildings dataframe we can now see there are no longer any duplicate postcodes:\n",
    "buildings_df.head(6)"
   ]
  },
  {
   "cell_type": "code",
   "execution_count": 8,
   "metadata": {
    "collapsed": false,
    "run_control": {
     "read_only": false
    }
   },
   "outputs": [
    {
     "data": {
      "text/html": [
       "<div>\n",
       "<table border=\"1\" class=\"dataframe\">\n",
       "  <thead>\n",
       "    <tr style=\"text-align: right;\">\n",
       "      <th></th>\n",
       "      <th>PARISH</th>\n",
       "      <th>POSTCODE</th>\n",
       "    </tr>\n",
       "  </thead>\n",
       "  <tbody>\n",
       "    <tr>\n",
       "      <th>0</th>\n",
       "      <td>Axminster CP</td>\n",
       "      <td>EX135BU</td>\n",
       "    </tr>\n",
       "    <tr>\n",
       "      <th>1</th>\n",
       "      <td>Broad Clyst CP</td>\n",
       "      <td>EX53JG</td>\n",
       "    </tr>\n",
       "    <tr>\n",
       "      <th>2</th>\n",
       "      <td>Cheriton Bishop CP</td>\n",
       "      <td>EX66HY</td>\n",
       "    </tr>\n",
       "    <tr>\n",
       "      <th>4</th>\n",
       "      <td>Clyst Hydon CP</td>\n",
       "      <td>EX152ND</td>\n",
       "    </tr>\n",
       "    <tr>\n",
       "      <th>7</th>\n",
       "      <td>Clyst St. Mary CP</td>\n",
       "      <td>EX51BG</td>\n",
       "    </tr>\n",
       "    <tr>\n",
       "      <th>9</th>\n",
       "      <td>Colyton CP</td>\n",
       "      <td>EX246NU</td>\n",
       "    </tr>\n",
       "  </tbody>\n",
       "</table>\n",
       "</div>"
      ],
      "text/plain": [
       "               PARISH POSTCODE\n",
       "0        Axminster CP  EX135BU\n",
       "1      Broad Clyst CP   EX53JG\n",
       "2  Cheriton Bishop CP   EX66HY\n",
       "4      Clyst Hydon CP  EX152ND\n",
       "7   Clyst St. Mary CP   EX51BG\n",
       "9          Colyton CP  EX246NU"
      ]
     },
     "execution_count": 8,
     "metadata": {},
     "output_type": "execute_result"
    }
   ],
   "source": [
    "#next, we can discard all columns apart from PARISH and POSTCODE. We'll use these 2 columns to get a count of postcodes \n",
    "#(i.e. schools) per parish. \n",
    "schools_df = DataFrame(buildings_df['PARISH'])\n",
    "schools_df['POSTCODE'] = buildings_df['POSTCODE']\n",
    "schools_df.head(6)"
   ]
  },
  {
   "cell_type": "code",
   "execution_count": 9,
   "metadata": {
    "collapsed": false,
    "run_control": {
     "read_only": false
    }
   },
   "outputs": [
    {
     "data": {
      "text/html": [
       "<div>\n",
       "<table border=\"1\" class=\"dataframe\">\n",
       "  <thead>\n",
       "    <tr style=\"text-align: right;\">\n",
       "      <th></th>\n",
       "      <th>PARISH</th>\n",
       "      <th>TOTAL_SCHOOLS</th>\n",
       "    </tr>\n",
       "  </thead>\n",
       "  <tbody>\n",
       "    <tr>\n",
       "      <th>0</th>\n",
       "      <td>Abbotsham CP</td>\n",
       "      <td>1</td>\n",
       "    </tr>\n",
       "    <tr>\n",
       "      <th>1</th>\n",
       "      <td>Abbotskerswell CP</td>\n",
       "      <td>1</td>\n",
       "    </tr>\n",
       "    <tr>\n",
       "      <th>2</th>\n",
       "      <td>All Saints CP</td>\n",
       "      <td>1</td>\n",
       "    </tr>\n",
       "    <tr>\n",
       "      <th>3</th>\n",
       "      <td>Ashburton CP</td>\n",
       "      <td>2</td>\n",
       "    </tr>\n",
       "    <tr>\n",
       "      <th>4</th>\n",
       "      <td>Ashwater CP</td>\n",
       "      <td>1</td>\n",
       "    </tr>\n",
       "  </tbody>\n",
       "</table>\n",
       "</div>"
      ],
      "text/plain": [
       "              PARISH  TOTAL_SCHOOLS\n",
       "0       Abbotsham CP              1\n",
       "1  Abbotskerswell CP              1\n",
       "2      All Saints CP              1\n",
       "3       Ashburton CP              2\n",
       "4        Ashwater CP              1"
      ]
     },
     "execution_count": 9,
     "metadata": {},
     "output_type": "execute_result"
    }
   ],
   "source": [
    "#next, we count the number of postcodes (schools) per parish:\n",
    "schools_df = DataFrame(schools_df.pivot_table(index=['PARISH'], aggfunc='count')) \n",
    "#Needed to use dataframe constructor to get static dataframe\n",
    "\n",
    "#we need to give the dataframe a new index, so that parish is just another normal column.\n",
    "schools_df = schools_df.reset_index()\n",
    "#lets rename the POSTCODE column to TOTAL_SCHOOLS as this is more meaningful\n",
    "schools_df.rename(columns={'POSTCODE': 'TOTAL_SCHOOLS'}, inplace=True)\n",
    "schools_df.head(5)"
   ]
  },
  {
   "cell_type": "code",
   "execution_count": 10,
   "metadata": {
    "collapsed": false,
    "run_control": {
     "read_only": false
    }
   },
   "outputs": [
    {
     "data": {
      "text/html": [
       "<div>\n",
       "<table border=\"1\" class=\"dataframe\">\n",
       "  <thead>\n",
       "    <tr style=\"text-align: right;\">\n",
       "      <th></th>\n",
       "      <th>PARISH</th>\n",
       "      <th>TOTAL_SCHOOLS</th>\n",
       "      <th>TOTAL_MANHOLES</th>\n",
       "    </tr>\n",
       "  </thead>\n",
       "  <tbody>\n",
       "    <tr>\n",
       "      <th>0</th>\n",
       "      <td>Abbotsham CP</td>\n",
       "      <td>1</td>\n",
       "      <td>120</td>\n",
       "    </tr>\n",
       "    <tr>\n",
       "      <th>1</th>\n",
       "      <td>Abbotskerswell CP</td>\n",
       "      <td>1</td>\n",
       "      <td>124</td>\n",
       "    </tr>\n",
       "    <tr>\n",
       "      <th>2</th>\n",
       "      <td>All Saints CP</td>\n",
       "      <td>1</td>\n",
       "      <td>12</td>\n",
       "    </tr>\n",
       "    <tr>\n",
       "      <th>3</th>\n",
       "      <td>Ashburton CP</td>\n",
       "      <td>2</td>\n",
       "      <td>620</td>\n",
       "    </tr>\n",
       "    <tr>\n",
       "      <th>4</th>\n",
       "      <td>Ashwater CP</td>\n",
       "      <td>1</td>\n",
       "      <td>14</td>\n",
       "    </tr>\n",
       "  </tbody>\n",
       "</table>\n",
       "</div>"
      ],
      "text/plain": [
       "              PARISH  TOTAL_SCHOOLS  TOTAL_MANHOLES\n",
       "0       Abbotsham CP              1             120\n",
       "1  Abbotskerswell CP              1             124\n",
       "2      All Saints CP              1              12\n",
       "3       Ashburton CP              2             620\n",
       "4        Ashwater CP              1              14"
      ]
     },
     "execution_count": 10,
     "metadata": {},
     "output_type": "execute_result"
    }
   ],
   "source": [
    "#finally, we want to join the schools_df table with the manholes_df table, on PARISH_NAME\n",
    "#we want an outer join to retain both columns\n",
    "schools_manholes_df = pd.merge(schools_df, manholes_df, on=['PARISH'], how='outer')\n",
    "schools_manholes_df.head(5)"
   ]
  },
  {
   "cell_type": "code",
   "execution_count": 11,
   "metadata": {
    "collapsed": false,
    "run_control": {
     "read_only": false
    }
   },
   "outputs": [
    {
     "data": {
      "text/plain": [
       "415"
      ]
     },
     "execution_count": 11,
     "metadata": {},
     "output_type": "execute_result"
    }
   ],
   "source": [
    "#lets check the number of rows...\n",
    "schools_manholes_df.shape[0]\n",
    "#the number of rows is 415. This compares to 411 rows in the manholes_df table. This indicates that we have at least \n",
    "#4 rows in this table with no corresponding TOTAL_MANHOLE value"
   ]
  },
  {
   "cell_type": "code",
   "execution_count": 12,
   "metadata": {
    "collapsed": false,
    "run_control": {
     "read_only": false
    }
   },
   "outputs": [
    {
     "data": {
      "text/html": [
       "<div>\n",
       "<table border=\"1\" class=\"dataframe\">\n",
       "  <thead>\n",
       "    <tr style=\"text-align: right;\">\n",
       "      <th></th>\n",
       "      <th>PARISH</th>\n",
       "      <th>TOTAL_SCHOOLS</th>\n",
       "      <th>TOTAL_MANHOLES</th>\n",
       "    </tr>\n",
       "  </thead>\n",
       "  <tbody>\n",
       "    <tr>\n",
       "      <th>15</th>\n",
       "      <td>Bickleigh (Mid Devon) CP</td>\n",
       "      <td>1</td>\n",
       "      <td>NaN</td>\n",
       "    </tr>\n",
       "    <tr>\n",
       "      <th>16</th>\n",
       "      <td>Bickleigh (South Hams) CP</td>\n",
       "      <td>1</td>\n",
       "      <td>NaN</td>\n",
       "    </tr>\n",
       "    <tr>\n",
       "      <th>107</th>\n",
       "      <td>Horwood, Lovacott and Newton Tracey CP</td>\n",
       "      <td>1</td>\n",
       "      <td>NaN</td>\n",
       "    </tr>\n",
       "    <tr>\n",
       "      <th>219</th>\n",
       "      <td>Woolfardisworthy (Torridge) CP</td>\n",
       "      <td>1</td>\n",
       "      <td>NaN</td>\n",
       "    </tr>\n",
       "    <tr>\n",
       "      <th>221</th>\n",
       "      <td>Alverdiscott CP</td>\n",
       "      <td>NaN</td>\n",
       "      <td>43</td>\n",
       "    </tr>\n",
       "  </tbody>\n",
       "</table>\n",
       "</div>"
      ],
      "text/plain": [
       "                                     PARISH  TOTAL_SCHOOLS  TOTAL_MANHOLES\n",
       "15                 Bickleigh (Mid Devon) CP              1             NaN\n",
       "16                Bickleigh (South Hams) CP              1             NaN\n",
       "107  Horwood, Lovacott and Newton Tracey CP              1             NaN\n",
       "219          Woolfardisworthy (Torridge) CP              1             NaN\n",
       "221                         Alverdiscott CP            NaN              43"
      ]
     },
     "execution_count": 12,
     "metadata": {},
     "output_type": "execute_result"
    }
   ],
   "source": [
    "#lets check for Nan values, as a result of parishes with no schools, or manholes:\n",
    "schools_manholes_df[pd.isnull(schools_manholes_df).any(axis=1)].head(5)"
   ]
  },
  {
   "cell_type": "code",
   "execution_count": 13,
   "metadata": {
    "collapsed": true,
    "run_control": {
     "read_only": false
    }
   },
   "outputs": [],
   "source": [
    "#lets populate any Nan values as 0. Note, 0 in this context will mean either there is no data available,\n",
    "#or that there is genuinely a zero value for TOTAL_SCHOOLS or TOTAL_MANHOLES\n",
    "schools_manholes_df.fillna(0, inplace=True)"
   ]
  },
  {
   "cell_type": "code",
   "execution_count": 14,
   "metadata": {
    "collapsed": false,
    "run_control": {
     "read_only": false
    }
   },
   "outputs": [
    {
     "data": {
      "text/html": [
       "<div>\n",
       "<table border=\"1\" class=\"dataframe\">\n",
       "  <thead>\n",
       "    <tr style=\"text-align: right;\">\n",
       "      <th></th>\n",
       "      <th>PARISH</th>\n",
       "      <th>TOTAL_SCHOOLS</th>\n",
       "      <th>TOTAL_MANHOLES</th>\n",
       "    </tr>\n",
       "  </thead>\n",
       "  <tbody>\n",
       "  </tbody>\n",
       "</table>\n",
       "</div>"
      ],
      "text/plain": [
       "Empty DataFrame\n",
       "Columns: [PARISH, TOTAL_SCHOOLS, TOTAL_MANHOLES]\n",
       "Index: []"
      ]
     },
     "execution_count": 14,
     "metadata": {},
     "output_type": "execute_result"
    }
   ],
   "source": [
    "#lets re-run the null check\n",
    "schools_manholes_df[pd.isnull(schools_manholes_df).any(axis=1)]"
   ]
  },
  {
   "cell_type": "markdown",
   "metadata": {},
   "source": [
    "Part 4 - Visualising the data\n",
    "Now that we've cleaned and transformed the data, we want to select an appropriate visualisation. As the data is discrete as opposed to continuous, I don't believe there would be any value in using a line plot. A bar plot would seem the natural choice, as this would allow us to compare the number of schools and manhole covers between parishes. To see if there were any relationship between number of schools and number of manhole covers in a parish, we could plot both bars on the same graph."
   ]
  },
  {
   "cell_type": "code",
   "execution_count": 15,
   "metadata": {
    "collapsed": false
   },
   "outputs": [
    {
     "data": {
      "text/html": [
       "<div>\n",
       "<table border=\"1\" class=\"dataframe\">\n",
       "  <thead>\n",
       "    <tr style=\"text-align: right;\">\n",
       "      <th></th>\n",
       "      <th>PARISH</th>\n",
       "      <th>TOTAL_SCHOOLS</th>\n",
       "      <th>TOTAL_MANHOLES</th>\n",
       "    </tr>\n",
       "  </thead>\n",
       "  <tbody>\n",
       "    <tr>\n",
       "      <th>228</th>\n",
       "      <td>Ashton CP</td>\n",
       "      <td>0</td>\n",
       "      <td>1</td>\n",
       "    </tr>\n",
       "    <tr>\n",
       "      <th>251</th>\n",
       "      <td>Bulkworthy CP</td>\n",
       "      <td>0</td>\n",
       "      <td>1</td>\n",
       "    </tr>\n",
       "    <tr>\n",
       "      <th>273</th>\n",
       "      <td>Coryton CP</td>\n",
       "      <td>0</td>\n",
       "      <td>1</td>\n",
       "    </tr>\n",
       "    <tr>\n",
       "      <th>300</th>\n",
       "      <td>Harford CP</td>\n",
       "      <td>0</td>\n",
       "      <td>1</td>\n",
       "    </tr>\n",
       "    <tr>\n",
       "      <th>317</th>\n",
       "      <td>Kennerleigh CP</td>\n",
       "      <td>0</td>\n",
       "      <td>1</td>\n",
       "    </tr>\n",
       "    <tr>\n",
       "      <th>326</th>\n",
       "      <td>Luffincott CP</td>\n",
       "      <td>0</td>\n",
       "      <td>1</td>\n",
       "    </tr>\n",
       "    <tr>\n",
       "      <th>392</th>\n",
       "      <td>Trentishoe CP</td>\n",
       "      <td>0</td>\n",
       "      <td>1</td>\n",
       "    </tr>\n",
       "    <tr>\n",
       "      <th>394</th>\n",
       "      <td>Twitchen CP</td>\n",
       "      <td>0</td>\n",
       "      <td>1</td>\n",
       "    </tr>\n",
       "    <tr>\n",
       "      <th>397</th>\n",
       "      <td>Virginstow CP</td>\n",
       "      <td>0</td>\n",
       "      <td>1</td>\n",
       "    </tr>\n",
       "    <tr>\n",
       "      <th>410</th>\n",
       "      <td>Woolfardisworthy CP (Mid Devon)</td>\n",
       "      <td>0</td>\n",
       "      <td>1</td>\n",
       "    </tr>\n",
       "  </tbody>\n",
       "</table>\n",
       "</div>"
      ],
      "text/plain": [
       "                              PARISH  TOTAL_SCHOOLS  TOTAL_MANHOLES\n",
       "228                        Ashton CP              0               1\n",
       "251                    Bulkworthy CP              0               1\n",
       "273                       Coryton CP              0               1\n",
       "300                       Harford CP              0               1\n",
       "317                   Kennerleigh CP              0               1\n",
       "326                    Luffincott CP              0               1\n",
       "392                    Trentishoe CP              0               1\n",
       "394                      Twitchen CP              0               1\n",
       "397                    Virginstow CP              0               1\n",
       "410  Woolfardisworthy CP (Mid Devon)              0               1"
      ]
     },
     "execution_count": 15,
     "metadata": {},
     "output_type": "execute_result"
    }
   ],
   "source": [
    "#to start with, lets sort the table by number of schools, and then by manholes\n",
    "schools_manholes_df.sort_values(['TOTAL_SCHOOLS', 'TOTAL_MANHOLES'], ascending=[1, 1], inplace=True)\n",
    "schools_manholes_df.head(10)"
   ]
  },
  {
   "cell_type": "code",
   "execution_count": 16,
   "metadata": {
    "collapsed": false
   },
   "outputs": [
    {
     "data": {
      "text/plain": [
       "221"
      ]
     },
     "execution_count": 16,
     "metadata": {},
     "output_type": "execute_result"
    }
   ],
   "source": [
    "#While the sort has worked, it does appear that there are a large number of parished with zero schools and 1 manhole. \n",
    "#I think there is a case for removing these any row with small numbers of schools, as they will just add noise to the final plot. \n",
    "#lets see how many rows with only 1 or more schools\n",
    "schools_manholes_df[(schools_manholes_df['TOTAL_SCHOOLS'] >=1)].shape[0]"
   ]
  },
  {
   "cell_type": "code",
   "execution_count": 17,
   "metadata": {
    "collapsed": false
   },
   "outputs": [
    {
     "data": {
      "text/plain": [
       "36"
      ]
     },
     "execution_count": 17,
     "metadata": {},
     "output_type": "execute_result"
    }
   ],
   "source": [
    "#this number is still very high (221), and will be hard to interpret the plot. Lets increase the threshold to 2 schools\n",
    "schools_manholes_df[(schools_manholes_df['TOTAL_SCHOOLS'] >=2)].shape[0]"
   ]
  },
  {
   "cell_type": "code",
   "execution_count": 18,
   "metadata": {
    "collapsed": false
   },
   "outputs": [
    {
     "data": {
      "text/plain": [
       "36"
      ]
     },
     "execution_count": 18,
     "metadata": {},
     "output_type": "execute_result"
    }
   ],
   "source": [
    "#36 is much more reasonable number of bars to plot, lets do that\n",
    "schools_manholes_df = schools_manholes_df[(schools_manholes_df['TOTAL_SCHOOLS'] >=2)] #delete unwanted rows\n",
    "schools_manholes_df.shape[0]"
   ]
  },
  {
   "cell_type": "code",
   "execution_count": 19,
   "metadata": {
    "collapsed": false
   },
   "outputs": [
    {
     "data": {
      "text/plain": [
       "<matplotlib.text.Text at 0xafdd124c>"
      ]
     },
     "execution_count": 19,
     "metadata": {},
     "output_type": "execute_result"
    },
    {
     "data": {
      "image/png": "[encoded data removed]",
      "text/plain": [
       "<matplotlib.figure.Figure at 0xafe02c8c>"
      ]
     },
     "metadata": {},
     "output_type": "display_data"
    }
   ],
   "source": [
    "schools_manholes_df.plot.bar(x='PARISH', title=\"Total Schools / Manhole Covers in Devon Parishes\", subplots=True,figsize=(30,20))\n",
    "plt.xlabel('Devon Parishes')\n",
    "plt.ylabel('Total Schools / Manhole Covers')"
   ]
  },
  {
   "cell_type": "code",
   "execution_count": 20,
   "metadata": {
    "collapsed": true
   },
   "outputs": [],
   "source": [
    "#This plot seems to show a possible correlation between number of schools, and number of manhole covers. Being able to \n",
    "#plot both variables as separate plots is useful. It would be nice to combine them onto the same plot, but the scale \n",
    "#of manhole covers (which run in the thousands) and schools (which run in single digits, apart from Exeter) mean we're \n",
    "#going to have to adjust the manhole numbers. Dividing by 100 should do the trick of bringing the numbers down sufficiently\n",
    "#that we can plot these variables on the same chart. Also, I am going to up the threshold of bars to only include those with\n",
    "#4 or more schools as the chart still looks too crowded, even at this size\n"
   ]
  },
  {
   "cell_type": "code",
   "execution_count": 21,
   "metadata": {
    "collapsed": false
   },
   "outputs": [
    {
     "data": {
      "text/plain": [
       "23"
      ]
     },
     "execution_count": 21,
     "metadata": {},
     "output_type": "execute_result"
    }
   ],
   "source": [
    "#exclude rows with less than 3 schools\n",
    "schools_manholes_df = schools_manholes_df[(schools_manholes_df['TOTAL_SCHOOLS'] >=3)] \n",
    "schools_manholes_df.shape[0]"
   ]
  },
  {
   "cell_type": "code",
   "execution_count": 22,
   "metadata": {
    "collapsed": false
   },
   "outputs": [],
   "source": [
    "#next, add another column to schools_manholes_df. We'll call it TOTAL_MANHOLES_HUNDREDS\n",
    "schools_manholes_df['TOTAL_MANHOLES_HUNDREDS'] = (schools_manholes_df['TOTAL_MANHOLES'] / 100)"
   ]
  },
  {
   "cell_type": "code",
   "execution_count": 23,
   "metadata": {
    "collapsed": false
   },
   "outputs": [
    {
     "data": {
      "text/html": [
       "<div>\n",
       "<table border=\"1\" class=\"dataframe\">\n",
       "  <thead>\n",
       "    <tr style=\"text-align: right;\">\n",
       "      <th></th>\n",
       "      <th>PARISH</th>\n",
       "      <th>TOTAL_SCHOOLS</th>\n",
       "      <th>TOTAL_MANHOLES</th>\n",
       "      <th>TOTAL_MANHOLES_HUNDREDS</th>\n",
       "    </tr>\n",
       "  </thead>\n",
       "  <tbody>\n",
       "    <tr>\n",
       "      <th>36</th>\n",
       "      <td>Broad Clyst CP</td>\n",
       "      <td>3</td>\n",
       "      <td>236</td>\n",
       "      <td>2.36</td>\n",
       "    </tr>\n",
       "    <tr>\n",
       "      <th>181</th>\n",
       "      <td>South Molton CP</td>\n",
       "      <td>3</td>\n",
       "      <td>552</td>\n",
       "      <td>5.52</td>\n",
       "    </tr>\n",
       "    <tr>\n",
       "      <th>7</th>\n",
       "      <td>Axminster CP</td>\n",
       "      <td>3</td>\n",
       "      <td>594</td>\n",
       "      <td>5.94</td>\n",
       "    </tr>\n",
       "    <tr>\n",
       "      <th>62</th>\n",
       "      <td>Crediton CP</td>\n",
       "      <td>3</td>\n",
       "      <td>747</td>\n",
       "      <td>7.47</td>\n",
       "    </tr>\n",
       "    <tr>\n",
       "      <th>202</th>\n",
       "      <td>Totnes CP</td>\n",
       "      <td>3</td>\n",
       "      <td>879</td>\n",
       "      <td>8.79</td>\n",
       "    </tr>\n",
       "  </tbody>\n",
       "</table>\n",
       "</div>"
      ],
      "text/plain": [
       "              PARISH  TOTAL_SCHOOLS  TOTAL_MANHOLES  TOTAL_MANHOLES_HUNDREDS\n",
       "36    Broad Clyst CP              3             236                     2.36\n",
       "181  South Molton CP              3             552                     5.52\n",
       "7       Axminster CP              3             594                     5.94\n",
       "62       Crediton CP              3             747                     7.47\n",
       "202        Totnes CP              3             879                     8.79"
      ]
     },
     "execution_count": 23,
     "metadata": {},
     "output_type": "execute_result"
    }
   ],
   "source": [
    "schools_manholes_df.head(5)"
   ]
  },
  {
   "cell_type": "code",
   "execution_count": 24,
   "metadata": {
    "collapsed": false
   },
   "outputs": [],
   "source": [
    "#The school and manhole totals are now of the same magnitude, so should plot well. We can now drop the TOTAL_MANHOLES \n",
    "#column:\n",
    "schools_manholes_df.drop('TOTAL_MANHOLES', axis=1, inplace=True)"
   ]
  },
  {
   "cell_type": "code",
   "execution_count": 25,
   "metadata": {
    "collapsed": false
   },
   "outputs": [
    {
     "data": {
      "text/html": [
       "<div>\n",
       "<table border=\"1\" class=\"dataframe\">\n",
       "  <thead>\n",
       "    <tr style=\"text-align: right;\">\n",
       "      <th></th>\n",
       "      <th>PARISH</th>\n",
       "      <th>TOTAL_SCHOOLS</th>\n",
       "      <th>TOTAL_MANHOLES_HUNDREDS</th>\n",
       "    </tr>\n",
       "  </thead>\n",
       "  <tbody>\n",
       "    <tr>\n",
       "      <th>36</th>\n",
       "      <td>Broad Clyst CP</td>\n",
       "      <td>3</td>\n",
       "      <td>2.36</td>\n",
       "    </tr>\n",
       "    <tr>\n",
       "      <th>181</th>\n",
       "      <td>South Molton CP</td>\n",
       "      <td>3</td>\n",
       "      <td>5.52</td>\n",
       "    </tr>\n",
       "    <tr>\n",
       "      <th>7</th>\n",
       "      <td>Axminster CP</td>\n",
       "      <td>3</td>\n",
       "      <td>5.94</td>\n",
       "    </tr>\n",
       "    <tr>\n",
       "      <th>62</th>\n",
       "      <td>Crediton CP</td>\n",
       "      <td>3</td>\n",
       "      <td>7.47</td>\n",
       "    </tr>\n",
       "    <tr>\n",
       "      <th>202</th>\n",
       "      <td>Totnes CP</td>\n",
       "      <td>3</td>\n",
       "      <td>8.79</td>\n",
       "    </tr>\n",
       "  </tbody>\n",
       "</table>\n",
       "</div>"
      ],
      "text/plain": [
       "              PARISH  TOTAL_SCHOOLS  TOTAL_MANHOLES_HUNDREDS\n",
       "36    Broad Clyst CP              3                     2.36\n",
       "181  South Molton CP              3                     5.52\n",
       "7       Axminster CP              3                     5.94\n",
       "62       Crediton CP              3                     7.47\n",
       "202        Totnes CP              3                     8.79"
      ]
     },
     "execution_count": 25,
     "metadata": {},
     "output_type": "execute_result"
    }
   ],
   "source": [
    "schools_manholes_df.head(5)"
   ]
  },
  {
   "cell_type": "code",
   "execution_count": 58,
   "metadata": {
    "collapsed": false
   },
   "outputs": [
    {
     "data": {
      "text/plain": [
       "<matplotlib.text.Text at 0xa55f5d6c>"
      ]
     },
     "execution_count": 58,
     "metadata": {},
     "output_type": "execute_result"
    },
    {
     "data": {
      "image/png": "[encoded data removed]",
      "text/plain": [
       "<matplotlib.figure.Figure at 0xa563ccec>"
      ]
     },
     "metadata": {},
     "output_type": "display_data"
    }
   ],
   "source": [
    "#now lets try to plot again. A horizonal, stacked chart seems to bring out the pattern better. I've also adjusted the\n",
    "#xticks to make it easier to read the values (as most are small), and with bar and line width to fit the bars closer \n",
    "#together and bring out the pattern.\n",
    "schools_manholes_df.plot.barh(x='PARISH', y=['TOTAL_SCHOOLS','TOTAL_MANHOLES_HUNDREDS'],\n",
    "                             title=\"Schools and Manhole Covers in Devon\", \n",
    "                             figsize=(12,18),\n",
    "                             xlim=(0, max(schools_manholes_df['TOTAL_MANHOLES_HUNDREDS']) + \n",
    "                                   max(schools_manholes_df['TOTAL_SCHOOLS']) + 5),\n",
    "                             stacked=True,\n",
    "                             color=['green','blue'],\n",
    "                             alpha=0.5,\n",
    "                             width=0.8,\n",
    "                             linewidth=0,\n",
    "                             xticks=range(0, 150, 5)\n",
    "                            )\n",
    "plt.ylabel('Parishes with 3 or more schools')\n",
    "plt.xlabel('Total Schools / Manhole Covers (hundreds)')"
   ]
  },
  {
   "cell_type": "markdown",
   "metadata": {},
   "source": [
    "This chart does seem to reveal a pattern in the data which in hindsight seems obvious: the higher the number of schools in a parish, the higher the number of manhole covers. This is not a precise linear relationship - looking at\n",
    "the 9 smallest parishes in this chart (with only 3 schools each), the number of manholes range from 200 to about 1200.\n",
    "There is a similar spread of values for total manholes for those parishes with 4 and 5 schools. However, the chart still shows a strong relationship with a step-change in the number of manholes as the number of schools increases. This could be explained by the fact that a higher number of schools in a parish indicates a higher population density, resulting in a need for a larger network of drains, which is therefore broadly reflected in a higher number of manhole covers."
   ]
  }
 ],
 "metadata": {
  "kernelspec": {
   "display_name": "Python 3",
   "language": "python",
   "name": "python3"
  },
  "language_info": {
   "codemirror_mode": {
    "name": "ipython",
    "version": 3
   },
   "file_extension": ".py",
   "mimetype": "text/x-python",
   "name": "python",
   "nbconvert_exporter": "python",
   "pygments_lexer": "ipython3",
   "version": "3.4.3"
  }
 },
 "nbformat": 4,
 "nbformat_minor": 0
}
