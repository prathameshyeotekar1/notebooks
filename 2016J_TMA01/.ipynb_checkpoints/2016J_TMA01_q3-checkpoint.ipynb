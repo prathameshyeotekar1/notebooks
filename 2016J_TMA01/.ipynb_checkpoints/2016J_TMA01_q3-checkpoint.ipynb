{
 "cells": [
  {
   "cell_type": "markdown",
   "metadata": {},
   "source": [
    "# TMA 01, question 3"
   ]
  },
  {
   "cell_type": "markdown",
   "metadata": {},
   "source": [
    "**Name**: [Pablo Toledo]\n",
    "    \n",
    "**PI**: [C4451553]"
   ]
  },
  {
   "cell_type": "markdown",
   "metadata": {},
   "source": [
    "\n",
    "In this question, you will examine a set of results of an Open University online quiz (iCMA). These are genuine results from a level 1 module, though the data has been anonymised by using cryptographic hashes to obscure personal information.\n",
    "\n",
    "The rubric for the iCMA was similar to that for TM351. Students are allowed to take the iCMA as many times as they like, with only their highest score counting. Students have to achieve a threshold score of 40% to pass this iCMA. The iCMA remained open until the module end date. \n",
    "\n",
    "The question has several parts, taking you through the data analysis pipeline. Most of the question parts concern with various analyses of the data. The final part of the question looks at some issues with anonymisation of the data.\n",
    "\n",
    "Record all your activity and observations in this notebook. Generate additional notebook cells as required. \n",
    "\n",
    "Ensure that you have made of copy of the TMA01_Question5 Notebook and renamed it so that it has your personal identifier (PI) at the front of the Notebook filename (i.e. YourPI_TMA01_Question5.ipynb). You must submit this notebook as part of your TMA submission."
   ]
  },
  {
   "cell_type": "code",
   "execution_count": 138,
   "metadata": {
    "collapsed": true,
    "run_control": {
     "read_only": false
    }
   },
   "outputs": [],
   "source": [
    "# Load the necessary libraries here:\n",
    "import pandas as pd\n",
    "import matplotlib.pyplot as plt\n",
    "import numpy as np\n",
    "\n",
    "# If you require additional libraries to answer any questions \n",
    "# then import them as necessary."
   ]
  },
  {
   "cell_type": "markdown",
   "metadata": {},
   "source": [
    "## <a name=\"contents\"></a> Contents\n",
    "* a) [Import and cleaning](#a) (8 marks)\n",
    "* b) [Number of attempts](#b) (4 marks)\n",
    "* c) [Timescales](#c) (3 marks)\n",
    "* d) [Time and day of quiz](#d) (8 marks)\n",
    "* e) [Difficulty of questions](#e) (7 marks)\n",
    "* f) [Data investigation summary](#f) (5 marks)\n",
    "* g) [Anonymisation and privacy](#g) (10 marks)"
   ]
  },
  {
   "cell_type": "markdown",
   "metadata": {},
   "source": [
    "# <a name=\"a\"></a> a)  Import and cleaning (8 marks) \n",
    "([Contents](#contents))\n",
    "\n",
    "In this part of the question you will load and prepare the data file. You will also quickly examine the data with summaries and visualisations.\n",
    "\n",
    "Read the csv file `data/icma.csv` into a DataFrame called `icma_df` and display the first 3 rows.\n",
    "\n",
    "Note that the 'Started on' and 'Completed' columns contain datetimes and should be converted on import. Also not that a single hyphen is used in the file to denote missing numerical data; hyphens should be converted to 'NA' on import.\n",
    "\n",
    "Also note that it can be easier to see the data if you transpose the dataframe you display: append `.T` to your display function call."
   ]
  },
  {
   "cell_type": "code",
   "execution_count": 154,
   "metadata": {
    "activity": "activity",
    "collapsed": false,
    "run_control": {
     "read_only": false
    },
    "scrolled": false
   },
   "outputs": [
    {
     "data": {
      "text/plain": [
       "834"
      ]
     },
     "execution_count": 154,
     "metadata": {},
     "output_type": "execute_result"
    }
   ],
   "source": [
    "#read icma.csv data into dataframe\n",
    "icma_df = pd.read_csv('data/icma.csv', parse_dates=['Started on','Completed'], na_values=['-'])\n",
    "#display first 3 rows\n",
    "icma_df.head(3).T\n"
   ]
  },
  {
   "cell_type": "markdown",
   "metadata": {},
   "source": [
    "Check to see how the columns are typed"
   ]
  },
  {
   "cell_type": "code",
   "execution_count": 140,
   "metadata": {
    "activity": "activity",
    "collapsed": false,
    "run_control": {
     "read_only": false
    },
    "scrolled": true
   },
   "outputs": [
    {
     "data": {
      "text/plain": [
       "Surname                         object\n",
       "First name                      object\n",
       "OU Computer Username            object\n",
       "Personal Identifier             object\n",
       "Institution                    float64\n",
       "Department                     float64\n",
       "Email address                   object\n",
       "State                           object\n",
       "Started on              datetime64[ns]\n",
       "Completed               datetime64[ns]\n",
       "Time taken                      object\n",
       "Grade/20.00                    float64\n",
       "Q. 1 /1.00                     float64\n",
       "Q. 2 /1.00                     float64\n",
       "Q. 3 /1.00                     float64\n",
       "Q. 4 /1.00                     float64\n",
       "Q. 5 /1.00                     float64\n",
       "Q. 6 /1.00                     float64\n",
       "Q. 7 /1.00                     float64\n",
       "Q. 8 /1.00                     float64\n",
       "Q. 9 /1.00                     float64\n",
       "Q. 10 /1.00                    float64\n",
       "Q. 11 /1.00                    float64\n",
       "Q. 12 /1.00                    float64\n",
       "Q. 13 /1.00                    float64\n",
       "Q. 14 /1.00                    float64\n",
       "Q. 15 /1.00                    float64\n",
       "Q. 16 /1.00                    float64\n",
       "Q. 17 /1.00                    float64\n",
       "Q. 18 /1.00                    float64\n",
       "Q. 19 /1.00                    float64\n",
       "Q. 20 /1.00                    float64\n",
       "dtype: object"
      ]
     },
     "execution_count": 140,
     "metadata": {},
     "output_type": "execute_result"
    }
   ],
   "source": [
    "# Enter your code here.\n",
    "icma_df.dtypes"
   ]
  },
  {
   "cell_type": "code",
   "execution_count": 141,
   "metadata": {
    "collapsed": false,
    "run_control": {
     "read_only": false
    },
    "scrolled": false
   },
   "outputs": [
    {
     "data": {
      "text/html": [
       "<div>\n",
       "<table border=\"1\" class=\"dataframe\">\n",
       "  <thead>\n",
       "    <tr style=\"text-align: right;\">\n",
       "      <th></th>\n",
       "      <th>0</th>\n",
       "      <th>1</th>\n",
       "      <th>2</th>\n",
       "    </tr>\n",
       "  </thead>\n",
       "  <tbody>\n",
       "    <tr>\n",
       "      <th>Surname</th>\n",
       "      <td>b7a1c60935d72dd330a48021b25ec0c4</td>\n",
       "      <td>8933e77b83eee991c3d3aae3c88b8176</td>\n",
       "      <td>aa8af604652b6b631f11061fe8c69809</td>\n",
       "    </tr>\n",
       "    <tr>\n",
       "      <th>First name</th>\n",
       "      <td>34f9e4c9be637c99f9b2cfb3f5d1994c</td>\n",
       "      <td>d3d2792b4f002c766a99bb7152ccf3ee</td>\n",
       "      <td>ec83707bbca209e51a65e9864ac8baeb</td>\n",
       "    </tr>\n",
       "    <tr>\n",
       "      <th>OU Computer Username</th>\n",
       "      <td>b675bd4a9a46ec179a894866ad80b71d</td>\n",
       "      <td>5759a8752ba4984049c0be67c7a6270f</td>\n",
       "      <td>b8fe6559c9ba7bd27819a5460c9359c8</td>\n",
       "    </tr>\n",
       "    <tr>\n",
       "      <th>Personal Identifier</th>\n",
       "      <td>ec0b15df629ce1fc564462e81ba6b267</td>\n",
       "      <td>7f30f4954957eb71909d7ec30ccb0e0a</td>\n",
       "      <td>4e74dca9c74ad198eeb162dac5193d9e</td>\n",
       "    </tr>\n",
       "    <tr>\n",
       "      <th>Institution</th>\n",
       "      <td>NaN</td>\n",
       "      <td>NaN</td>\n",
       "      <td>NaN</td>\n",
       "    </tr>\n",
       "    <tr>\n",
       "      <th>Department</th>\n",
       "      <td>NaN</td>\n",
       "      <td>NaN</td>\n",
       "      <td>NaN</td>\n",
       "    </tr>\n",
       "    <tr>\n",
       "      <th>Email address</th>\n",
       "      <td>b3d15cf86ba4dbbafa458124c09ca816</td>\n",
       "      <td>ff9114a689c8e5141f46cf1386b5ba9d</td>\n",
       "      <td>ec01fe85557bab32113d8fbb47b0685d</td>\n",
       "    </tr>\n",
       "    <tr>\n",
       "      <th>State</th>\n",
       "      <td>Finished</td>\n",
       "      <td>Finished</td>\n",
       "      <td>Finished</td>\n",
       "    </tr>\n",
       "    <tr>\n",
       "      <th>Started on</th>\n",
       "      <td>2016-01-29 06:56:00</td>\n",
       "      <td>2016-01-29 09:14:00</td>\n",
       "      <td>2016-01-29 11:16:00</td>\n",
       "    </tr>\n",
       "    <tr>\n",
       "      <th>Completed</th>\n",
       "      <td>2016-02-08 10:31:00</td>\n",
       "      <td>2016-01-30 22:10:00</td>\n",
       "      <td>2016-01-29 11:57:00</td>\n",
       "    </tr>\n",
       "    <tr>\n",
       "      <th>Time taken</th>\n",
       "      <td>10 days 03:35:00</td>\n",
       "      <td>1 days 12:56:00</td>\n",
       "      <td>0 days 00:41:00</td>\n",
       "    </tr>\n",
       "    <tr>\n",
       "      <th>Grade/20.00</th>\n",
       "      <td>17.44</td>\n",
       "      <td>19.78</td>\n",
       "      <td>19.69</td>\n",
       "    </tr>\n",
       "    <tr>\n",
       "      <th>Q. 1 /1.00</th>\n",
       "      <td>1</td>\n",
       "      <td>1</td>\n",
       "      <td>1</td>\n",
       "    </tr>\n",
       "    <tr>\n",
       "      <th>Q. 2 /1.00</th>\n",
       "      <td>1</td>\n",
       "      <td>1</td>\n",
       "      <td>1</td>\n",
       "    </tr>\n",
       "    <tr>\n",
       "      <th>Q. 3 /1.00</th>\n",
       "      <td>1</td>\n",
       "      <td>1</td>\n",
       "      <td>1</td>\n",
       "    </tr>\n",
       "    <tr>\n",
       "      <th>Q. 4 /1.00</th>\n",
       "      <td>1</td>\n",
       "      <td>1</td>\n",
       "      <td>1</td>\n",
       "    </tr>\n",
       "    <tr>\n",
       "      <th>Q. 5 /1.00</th>\n",
       "      <td>0.89</td>\n",
       "      <td>0.89</td>\n",
       "      <td>0.89</td>\n",
       "    </tr>\n",
       "    <tr>\n",
       "      <th>Q. 6 /1.00</th>\n",
       "      <td>0.89</td>\n",
       "      <td>1</td>\n",
       "      <td>1</td>\n",
       "    </tr>\n",
       "    <tr>\n",
       "      <th>Q. 7 /1.00</th>\n",
       "      <td>1</td>\n",
       "      <td>1</td>\n",
       "      <td>0.92</td>\n",
       "    </tr>\n",
       "    <tr>\n",
       "      <th>Q. 8 /1.00</th>\n",
       "      <td>1</td>\n",
       "      <td>1</td>\n",
       "      <td>0.89</td>\n",
       "    </tr>\n",
       "    <tr>\n",
       "      <th>Q. 9 /1.00</th>\n",
       "      <td>1</td>\n",
       "      <td>1</td>\n",
       "      <td>1</td>\n",
       "    </tr>\n",
       "    <tr>\n",
       "      <th>Q. 10 /1.00</th>\n",
       "      <td>0</td>\n",
       "      <td>1</td>\n",
       "      <td>1</td>\n",
       "    </tr>\n",
       "    <tr>\n",
       "      <th>Q. 11 /1.00</th>\n",
       "      <td>0.89</td>\n",
       "      <td>1</td>\n",
       "      <td>1</td>\n",
       "    </tr>\n",
       "    <tr>\n",
       "      <th>Q. 12 /1.00</th>\n",
       "      <td>1</td>\n",
       "      <td>1</td>\n",
       "      <td>1</td>\n",
       "    </tr>\n",
       "    <tr>\n",
       "      <th>Q. 13 /1.00</th>\n",
       "      <td>1</td>\n",
       "      <td>1</td>\n",
       "      <td>1</td>\n",
       "    </tr>\n",
       "    <tr>\n",
       "      <th>Q. 14 /1.00</th>\n",
       "      <td>1</td>\n",
       "      <td>1</td>\n",
       "      <td>1</td>\n",
       "    </tr>\n",
       "    <tr>\n",
       "      <th>Q. 15 /1.00</th>\n",
       "      <td>0.89</td>\n",
       "      <td>0.89</td>\n",
       "      <td>1</td>\n",
       "    </tr>\n",
       "    <tr>\n",
       "      <th>Q. 16 /1.00</th>\n",
       "      <td>1</td>\n",
       "      <td>1</td>\n",
       "      <td>1</td>\n",
       "    </tr>\n",
       "    <tr>\n",
       "      <th>Q. 17 /1.00</th>\n",
       "      <td>1</td>\n",
       "      <td>1</td>\n",
       "      <td>1</td>\n",
       "    </tr>\n",
       "    <tr>\n",
       "      <th>Q. 18 /1.00</th>\n",
       "      <td>1</td>\n",
       "      <td>1</td>\n",
       "      <td>1</td>\n",
       "    </tr>\n",
       "    <tr>\n",
       "      <th>Q. 19 /1.00</th>\n",
       "      <td>0.89</td>\n",
       "      <td>1</td>\n",
       "      <td>1</td>\n",
       "    </tr>\n",
       "    <tr>\n",
       "      <th>Q. 20 /1.00</th>\n",
       "      <td>0</td>\n",
       "      <td>1</td>\n",
       "      <td>1</td>\n",
       "    </tr>\n",
       "  </tbody>\n",
       "</table>\n",
       "</div>"
      ],
      "text/plain": [
       "                                                     0  \\\n",
       "Surname               b7a1c60935d72dd330a48021b25ec0c4   \n",
       "First name            34f9e4c9be637c99f9b2cfb3f5d1994c   \n",
       "OU Computer Username  b675bd4a9a46ec179a894866ad80b71d   \n",
       "Personal Identifier   ec0b15df629ce1fc564462e81ba6b267   \n",
       "Institution                                        NaN   \n",
       "Department                                         NaN   \n",
       "Email address         b3d15cf86ba4dbbafa458124c09ca816   \n",
       "State                                         Finished   \n",
       "Started on                         2016-01-29 06:56:00   \n",
       "Completed                          2016-02-08 10:31:00   \n",
       "Time taken                            10 days 03:35:00   \n",
       "Grade/20.00                                      17.44   \n",
       "Q. 1 /1.00                                           1   \n",
       "Q. 2 /1.00                                           1   \n",
       "Q. 3 /1.00                                           1   \n",
       "Q. 4 /1.00                                           1   \n",
       "Q. 5 /1.00                                        0.89   \n",
       "Q. 6 /1.00                                        0.89   \n",
       "Q. 7 /1.00                                           1   \n",
       "Q. 8 /1.00                                           1   \n",
       "Q. 9 /1.00                                           1   \n",
       "Q. 10 /1.00                                          0   \n",
       "Q. 11 /1.00                                       0.89   \n",
       "Q. 12 /1.00                                          1   \n",
       "Q. 13 /1.00                                          1   \n",
       "Q. 14 /1.00                                          1   \n",
       "Q. 15 /1.00                                       0.89   \n",
       "Q. 16 /1.00                                          1   \n",
       "Q. 17 /1.00                                          1   \n",
       "Q. 18 /1.00                                          1   \n",
       "Q. 19 /1.00                                       0.89   \n",
       "Q. 20 /1.00                                          0   \n",
       "\n",
       "                                                     1  \\\n",
       "Surname               8933e77b83eee991c3d3aae3c88b8176   \n",
       "First name            d3d2792b4f002c766a99bb7152ccf3ee   \n",
       "OU Computer Username  5759a8752ba4984049c0be67c7a6270f   \n",
       "Personal Identifier   7f30f4954957eb71909d7ec30ccb0e0a   \n",
       "Institution                                        NaN   \n",
       "Department                                         NaN   \n",
       "Email address         ff9114a689c8e5141f46cf1386b5ba9d   \n",
       "State                                         Finished   \n",
       "Started on                         2016-01-29 09:14:00   \n",
       "Completed                          2016-01-30 22:10:00   \n",
       "Time taken                             1 days 12:56:00   \n",
       "Grade/20.00                                      19.78   \n",
       "Q. 1 /1.00                                           1   \n",
       "Q. 2 /1.00                                           1   \n",
       "Q. 3 /1.00                                           1   \n",
       "Q. 4 /1.00                                           1   \n",
       "Q. 5 /1.00                                        0.89   \n",
       "Q. 6 /1.00                                           1   \n",
       "Q. 7 /1.00                                           1   \n",
       "Q. 8 /1.00                                           1   \n",
       "Q. 9 /1.00                                           1   \n",
       "Q. 10 /1.00                                          1   \n",
       "Q. 11 /1.00                                          1   \n",
       "Q. 12 /1.00                                          1   \n",
       "Q. 13 /1.00                                          1   \n",
       "Q. 14 /1.00                                          1   \n",
       "Q. 15 /1.00                                       0.89   \n",
       "Q. 16 /1.00                                          1   \n",
       "Q. 17 /1.00                                          1   \n",
       "Q. 18 /1.00                                          1   \n",
       "Q. 19 /1.00                                          1   \n",
       "Q. 20 /1.00                                          1   \n",
       "\n",
       "                                                     2  \n",
       "Surname               aa8af604652b6b631f11061fe8c69809  \n",
       "First name            ec83707bbca209e51a65e9864ac8baeb  \n",
       "OU Computer Username  b8fe6559c9ba7bd27819a5460c9359c8  \n",
       "Personal Identifier   4e74dca9c74ad198eeb162dac5193d9e  \n",
       "Institution                                        NaN  \n",
       "Department                                         NaN  \n",
       "Email address         ec01fe85557bab32113d8fbb47b0685d  \n",
       "State                                         Finished  \n",
       "Started on                         2016-01-29 11:16:00  \n",
       "Completed                          2016-01-29 11:57:00  \n",
       "Time taken                             0 days 00:41:00  \n",
       "Grade/20.00                                      19.69  \n",
       "Q. 1 /1.00                                           1  \n",
       "Q. 2 /1.00                                           1  \n",
       "Q. 3 /1.00                                           1  \n",
       "Q. 4 /1.00                                           1  \n",
       "Q. 5 /1.00                                        0.89  \n",
       "Q. 6 /1.00                                           1  \n",
       "Q. 7 /1.00                                        0.92  \n",
       "Q. 8 /1.00                                        0.89  \n",
       "Q. 9 /1.00                                           1  \n",
       "Q. 10 /1.00                                          1  \n",
       "Q. 11 /1.00                                          1  \n",
       "Q. 12 /1.00                                          1  \n",
       "Q. 13 /1.00                                          1  \n",
       "Q. 14 /1.00                                          1  \n",
       "Q. 15 /1.00                                          1  \n",
       "Q. 16 /1.00                                          1  \n",
       "Q. 17 /1.00                                          1  \n",
       "Q. 18 /1.00                                          1  \n",
       "Q. 19 /1.00                                          1  \n",
       "Q. 20 /1.00                                          1  "
      ]
     },
     "execution_count": 141,
     "metadata": {},
     "output_type": "execute_result"
    }
   ],
   "source": [
    "# Recalculate the 'Time taken' values.\n",
    "icma_df['Time taken'] = icma_df['Completed'] - icma_df['Started on']\n",
    "icma_df.head(3).T"
   ]
  },
  {
   "cell_type": "markdown",
   "metadata": {},
   "source": [
    "`describe()` the `icma_df` DataFrame. (Again, you may find the results easier to see if you transpose `.T` the description.)"
   ]
  },
  {
   "cell_type": "code",
   "execution_count": 142,
   "metadata": {
    "activity": "activity",
    "collapsed": false,
    "run_control": {
     "read_only": false
    },
    "scrolled": false
   },
   "outputs": [
    {
     "data": {
      "text/html": [
       "<div>\n",
       "<table border=\"1\" class=\"dataframe\">\n",
       "  <thead>\n",
       "    <tr style=\"text-align: right;\">\n",
       "      <th></th>\n",
       "      <th>count</th>\n",
       "      <th>mean</th>\n",
       "      <th>std</th>\n",
       "      <th>min</th>\n",
       "      <th>25%</th>\n",
       "      <th>50%</th>\n",
       "      <th>75%</th>\n",
       "      <th>max</th>\n",
       "    </tr>\n",
       "  </thead>\n",
       "  <tbody>\n",
       "    <tr>\n",
       "      <th>Institution</th>\n",
       "      <td>0</td>\n",
       "      <td>NaN</td>\n",
       "      <td>NaN</td>\n",
       "      <td>NaN</td>\n",
       "      <td>NaN</td>\n",
       "      <td>NaN</td>\n",
       "      <td>NaN</td>\n",
       "      <td>NaN</td>\n",
       "    </tr>\n",
       "    <tr>\n",
       "      <th>Department</th>\n",
       "      <td>0</td>\n",
       "      <td>NaN</td>\n",
       "      <td>NaN</td>\n",
       "      <td>NaN</td>\n",
       "      <td>NaN</td>\n",
       "      <td>NaN</td>\n",
       "      <td>NaN</td>\n",
       "      <td>NaN</td>\n",
       "    </tr>\n",
       "    <tr>\n",
       "      <th>Time taken</th>\n",
       "      <td>726</td>\n",
       "      <td>16 days 09:30:07.768595</td>\n",
       "      <td>29 days 07:00:03.466198</td>\n",
       "      <td>0 days 00:01:00</td>\n",
       "      <td>0 days 00:35:00</td>\n",
       "      <td>0 days 01:46:00</td>\n",
       "      <td>21 days 18:49:00</td>\n",
       "      <td>154 days 00:58:00</td>\n",
       "    </tr>\n",
       "    <tr>\n",
       "      <th>Grade/20.00</th>\n",
       "      <td>726</td>\n",
       "      <td>17.1574</td>\n",
       "      <td>2.75742</td>\n",
       "      <td>1</td>\n",
       "      <td>16.2875</td>\n",
       "      <td>17.765</td>\n",
       "      <td>18.935</td>\n",
       "      <td>20</td>\n",
       "    </tr>\n",
       "    <tr>\n",
       "      <th>Q. 1 /1.00</th>\n",
       "      <td>821</td>\n",
       "      <td>0.994348</td>\n",
       "      <td>0.0589023</td>\n",
       "      <td>0</td>\n",
       "      <td>1</td>\n",
       "      <td>1</td>\n",
       "      <td>1</td>\n",
       "      <td>1</td>\n",
       "    </tr>\n",
       "    <tr>\n",
       "      <th>Q. 2 /1.00</th>\n",
       "      <td>809</td>\n",
       "      <td>0.949184</td>\n",
       "      <td>0.149324</td>\n",
       "      <td>0</td>\n",
       "      <td>1</td>\n",
       "      <td>1</td>\n",
       "      <td>1</td>\n",
       "      <td>1</td>\n",
       "    </tr>\n",
       "    <tr>\n",
       "      <th>Q. 3 /1.00</th>\n",
       "      <td>796</td>\n",
       "      <td>0.895415</td>\n",
       "      <td>0.211043</td>\n",
       "      <td>0</td>\n",
       "      <td>1</td>\n",
       "      <td>1</td>\n",
       "      <td>1</td>\n",
       "      <td>1</td>\n",
       "    </tr>\n",
       "    <tr>\n",
       "      <th>Q. 4 /1.00</th>\n",
       "      <td>808</td>\n",
       "      <td>0.884814</td>\n",
       "      <td>0.24743</td>\n",
       "      <td>0</td>\n",
       "      <td>1</td>\n",
       "      <td>1</td>\n",
       "      <td>1</td>\n",
       "      <td>1</td>\n",
       "    </tr>\n",
       "    <tr>\n",
       "      <th>Q. 5 /1.00</th>\n",
       "      <td>782</td>\n",
       "      <td>0.903619</td>\n",
       "      <td>0.12584</td>\n",
       "      <td>0</td>\n",
       "      <td>0.89</td>\n",
       "      <td>0.89</td>\n",
       "      <td>1</td>\n",
       "      <td>1</td>\n",
       "    </tr>\n",
       "    <tr>\n",
       "      <th>Q. 6 /1.00</th>\n",
       "      <td>761</td>\n",
       "      <td>0.771498</td>\n",
       "      <td>0.247875</td>\n",
       "      <td>0</td>\n",
       "      <td>0.67</td>\n",
       "      <td>0.78</td>\n",
       "      <td>1</td>\n",
       "      <td>1</td>\n",
       "    </tr>\n",
       "    <tr>\n",
       "      <th>Q. 7 /1.00</th>\n",
       "      <td>747</td>\n",
       "      <td>0.872062</td>\n",
       "      <td>0.19409</td>\n",
       "      <td>0</td>\n",
       "      <td>0.83</td>\n",
       "      <td>1</td>\n",
       "      <td>1</td>\n",
       "      <td>1</td>\n",
       "    </tr>\n",
       "    <tr>\n",
       "      <th>Q. 8 /1.00</th>\n",
       "      <td>771</td>\n",
       "      <td>0.917082</td>\n",
       "      <td>0.169327</td>\n",
       "      <td>0</td>\n",
       "      <td>0.89</td>\n",
       "      <td>1</td>\n",
       "      <td>1</td>\n",
       "      <td>1</td>\n",
       "    </tr>\n",
       "    <tr>\n",
       "      <th>Q. 9 /1.00</th>\n",
       "      <td>743</td>\n",
       "      <td>0.881696</td>\n",
       "      <td>0.234323</td>\n",
       "      <td>0</td>\n",
       "      <td>0.89</td>\n",
       "      <td>1</td>\n",
       "      <td>1</td>\n",
       "      <td>1</td>\n",
       "    </tr>\n",
       "    <tr>\n",
       "      <th>Q. 10 /1.00</th>\n",
       "      <td>744</td>\n",
       "      <td>0.782298</td>\n",
       "      <td>0.259562</td>\n",
       "      <td>0</td>\n",
       "      <td>0.67</td>\n",
       "      <td>0.89</td>\n",
       "      <td>1</td>\n",
       "      <td>1</td>\n",
       "    </tr>\n",
       "    <tr>\n",
       "      <th>Q. 11 /1.00</th>\n",
       "      <td>755</td>\n",
       "      <td>0.926702</td>\n",
       "      <td>0.169854</td>\n",
       "      <td>0</td>\n",
       "      <td>0.89</td>\n",
       "      <td>1</td>\n",
       "      <td>1</td>\n",
       "      <td>1</td>\n",
       "    </tr>\n",
       "    <tr>\n",
       "      <th>Q. 12 /1.00</th>\n",
       "      <td>740</td>\n",
       "      <td>0.892689</td>\n",
       "      <td>0.207733</td>\n",
       "      <td>0</td>\n",
       "      <td>0.89</td>\n",
       "      <td>1</td>\n",
       "      <td>1</td>\n",
       "      <td>1</td>\n",
       "    </tr>\n",
       "    <tr>\n",
       "      <th>Q. 13 /1.00</th>\n",
       "      <td>757</td>\n",
       "      <td>0.985575</td>\n",
       "      <td>0.0739072</td>\n",
       "      <td>0.33</td>\n",
       "      <td>1</td>\n",
       "      <td>1</td>\n",
       "      <td>1</td>\n",
       "      <td>1</td>\n",
       "    </tr>\n",
       "    <tr>\n",
       "      <th>Q. 14 /1.00</th>\n",
       "      <td>748</td>\n",
       "      <td>0.875428</td>\n",
       "      <td>0.267047</td>\n",
       "      <td>0</td>\n",
       "      <td>1</td>\n",
       "      <td>1</td>\n",
       "      <td>1</td>\n",
       "      <td>1</td>\n",
       "    </tr>\n",
       "    <tr>\n",
       "      <th>Q. 15 /1.00</th>\n",
       "      <td>737</td>\n",
       "      <td>0.864274</td>\n",
       "      <td>0.20345</td>\n",
       "      <td>0</td>\n",
       "      <td>0.89</td>\n",
       "      <td>1</td>\n",
       "      <td>1</td>\n",
       "      <td>1</td>\n",
       "    </tr>\n",
       "    <tr>\n",
       "      <th>Q. 16 /1.00</th>\n",
       "      <td>754</td>\n",
       "      <td>0.993859</td>\n",
       "      <td>0.0478942</td>\n",
       "      <td>0.33</td>\n",
       "      <td>1</td>\n",
       "      <td>1</td>\n",
       "      <td>1</td>\n",
       "      <td>1</td>\n",
       "    </tr>\n",
       "    <tr>\n",
       "      <th>Q. 17 /1.00</th>\n",
       "      <td>749</td>\n",
       "      <td>0.934927</td>\n",
       "      <td>0.159529</td>\n",
       "      <td>0</td>\n",
       "      <td>1</td>\n",
       "      <td>1</td>\n",
       "      <td>1</td>\n",
       "      <td>1</td>\n",
       "    </tr>\n",
       "    <tr>\n",
       "      <th>Q. 18 /1.00</th>\n",
       "      <td>709</td>\n",
       "      <td>0.668491</td>\n",
       "      <td>0.3768</td>\n",
       "      <td>0</td>\n",
       "      <td>0.33</td>\n",
       "      <td>0.67</td>\n",
       "      <td>1</td>\n",
       "      <td>1</td>\n",
       "    </tr>\n",
       "    <tr>\n",
       "      <th>Q. 19 /1.00</th>\n",
       "      <td>716</td>\n",
       "      <td>0.838031</td>\n",
       "      <td>0.250563</td>\n",
       "      <td>0</td>\n",
       "      <td>0.67</td>\n",
       "      <td>1</td>\n",
       "      <td>1</td>\n",
       "      <td>1</td>\n",
       "    </tr>\n",
       "    <tr>\n",
       "      <th>Q. 20 /1.00</th>\n",
       "      <td>726</td>\n",
       "      <td>0.712617</td>\n",
       "      <td>0.343511</td>\n",
       "      <td>0</td>\n",
       "      <td>0.5</td>\n",
       "      <td>0.83</td>\n",
       "      <td>1</td>\n",
       "      <td>1</td>\n",
       "    </tr>\n",
       "  </tbody>\n",
       "</table>\n",
       "</div>"
      ],
      "text/plain": [
       "            count                     mean                      std  \\\n",
       "Institution     0                      NaN                      NaN   \n",
       "Department      0                      NaN                      NaN   \n",
       "Time taken    726  16 days 09:30:07.768595  29 days 07:00:03.466198   \n",
       "Grade/20.00   726                  17.1574                  2.75742   \n",
       "Q. 1 /1.00    821                 0.994348                0.0589023   \n",
       "Q. 2 /1.00    809                 0.949184                 0.149324   \n",
       "Q. 3 /1.00    796                 0.895415                 0.211043   \n",
       "Q. 4 /1.00    808                 0.884814                  0.24743   \n",
       "Q. 5 /1.00    782                 0.903619                  0.12584   \n",
       "Q. 6 /1.00    761                 0.771498                 0.247875   \n",
       "Q. 7 /1.00    747                 0.872062                  0.19409   \n",
       "Q. 8 /1.00    771                 0.917082                 0.169327   \n",
       "Q. 9 /1.00    743                 0.881696                 0.234323   \n",
       "Q. 10 /1.00   744                 0.782298                 0.259562   \n",
       "Q. 11 /1.00   755                 0.926702                 0.169854   \n",
       "Q. 12 /1.00   740                 0.892689                 0.207733   \n",
       "Q. 13 /1.00   757                 0.985575                0.0739072   \n",
       "Q. 14 /1.00   748                 0.875428                 0.267047   \n",
       "Q. 15 /1.00   737                 0.864274                  0.20345   \n",
       "Q. 16 /1.00   754                 0.993859                0.0478942   \n",
       "Q. 17 /1.00   749                 0.934927                 0.159529   \n",
       "Q. 18 /1.00   709                 0.668491                   0.3768   \n",
       "Q. 19 /1.00   716                 0.838031                 0.250563   \n",
       "Q. 20 /1.00   726                 0.712617                 0.343511   \n",
       "\n",
       "                         min              25%              50%  \\\n",
       "Institution              NaN              NaN              NaN   \n",
       "Department               NaN              NaN              NaN   \n",
       "Time taken   0 days 00:01:00  0 days 00:35:00  0 days 01:46:00   \n",
       "Grade/20.00                1          16.2875           17.765   \n",
       "Q. 1 /1.00                 0                1                1   \n",
       "Q. 2 /1.00                 0                1                1   \n",
       "Q. 3 /1.00                 0                1                1   \n",
       "Q. 4 /1.00                 0                1                1   \n",
       "Q. 5 /1.00                 0             0.89             0.89   \n",
       "Q. 6 /1.00                 0             0.67             0.78   \n",
       "Q. 7 /1.00                 0             0.83                1   \n",
       "Q. 8 /1.00                 0             0.89                1   \n",
       "Q. 9 /1.00                 0             0.89                1   \n",
       "Q. 10 /1.00                0             0.67             0.89   \n",
       "Q. 11 /1.00                0             0.89                1   \n",
       "Q. 12 /1.00                0             0.89                1   \n",
       "Q. 13 /1.00             0.33                1                1   \n",
       "Q. 14 /1.00                0                1                1   \n",
       "Q. 15 /1.00                0             0.89                1   \n",
       "Q. 16 /1.00             0.33                1                1   \n",
       "Q. 17 /1.00                0                1                1   \n",
       "Q. 18 /1.00                0             0.33             0.67   \n",
       "Q. 19 /1.00                0             0.67                1   \n",
       "Q. 20 /1.00                0              0.5             0.83   \n",
       "\n",
       "                          75%                max  \n",
       "Institution               NaN                NaN  \n",
       "Department                NaN                NaN  \n",
       "Time taken   21 days 18:49:00  154 days 00:58:00  \n",
       "Grade/20.00            18.935                 20  \n",
       "Q. 1 /1.00                  1                  1  \n",
       "Q. 2 /1.00                  1                  1  \n",
       "Q. 3 /1.00                  1                  1  \n",
       "Q. 4 /1.00                  1                  1  \n",
       "Q. 5 /1.00                  1                  1  \n",
       "Q. 6 /1.00                  1                  1  \n",
       "Q. 7 /1.00                  1                  1  \n",
       "Q. 8 /1.00                  1                  1  \n",
       "Q. 9 /1.00                  1                  1  \n",
       "Q. 10 /1.00                 1                  1  \n",
       "Q. 11 /1.00                 1                  1  \n",
       "Q. 12 /1.00                 1                  1  \n",
       "Q. 13 /1.00                 1                  1  \n",
       "Q. 14 /1.00                 1                  1  \n",
       "Q. 15 /1.00                 1                  1  \n",
       "Q. 16 /1.00                 1                  1  \n",
       "Q. 17 /1.00                 1                  1  \n",
       "Q. 18 /1.00                 1                  1  \n",
       "Q. 19 /1.00                 1                  1  \n",
       "Q. 20 /1.00                 1                  1  "
      ]
     },
     "execution_count": 142,
     "metadata": {},
     "output_type": "execute_result"
    }
   ],
   "source": [
    "# Enter your code here.\n",
    "icma_df.describe().T"
   ]
  },
  {
   "cell_type": "markdown",
   "metadata": {},
   "source": [
    "All iCMA attempts are recorded in the data, whether or not they are finished. The `State` column shows the completion state. What are the different values for State, and how many are in each state? How many questions were answered in each state?"
   ]
  },
  {
   "cell_type": "code",
   "execution_count": 143,
   "metadata": {
    "activity": "activity",
    "collapsed": false,
    "run_control": {
     "read_only": false
    },
    "scrolled": false
   },
   "outputs": [
    {
     "data": {
      "text/html": [
       "<div>\n",
       "<table border=\"1\" class=\"dataframe\">\n",
       "  <thead>\n",
       "    <tr style=\"text-align: right;\">\n",
       "      <th>State</th>\n",
       "      <th>Finished</th>\n",
       "      <th>In progress</th>\n",
       "    </tr>\n",
       "  </thead>\n",
       "  <tbody>\n",
       "    <tr>\n",
       "      <th>Surname</th>\n",
       "      <td>726</td>\n",
       "      <td>108</td>\n",
       "    </tr>\n",
       "    <tr>\n",
       "      <th>First name</th>\n",
       "      <td>726</td>\n",
       "      <td>108</td>\n",
       "    </tr>\n",
       "    <tr>\n",
       "      <th>OU Computer Username</th>\n",
       "      <td>726</td>\n",
       "      <td>108</td>\n",
       "    </tr>\n",
       "    <tr>\n",
       "      <th>Personal Identifier</th>\n",
       "      <td>726</td>\n",
       "      <td>108</td>\n",
       "    </tr>\n",
       "    <tr>\n",
       "      <th>Institution</th>\n",
       "      <td>0</td>\n",
       "      <td>0</td>\n",
       "    </tr>\n",
       "    <tr>\n",
       "      <th>Department</th>\n",
       "      <td>0</td>\n",
       "      <td>0</td>\n",
       "    </tr>\n",
       "    <tr>\n",
       "      <th>Email address</th>\n",
       "      <td>726</td>\n",
       "      <td>108</td>\n",
       "    </tr>\n",
       "    <tr>\n",
       "      <th>Started on</th>\n",
       "      <td>726</td>\n",
       "      <td>108</td>\n",
       "    </tr>\n",
       "    <tr>\n",
       "      <th>Completed</th>\n",
       "      <td>726</td>\n",
       "      <td>0</td>\n",
       "    </tr>\n",
       "    <tr>\n",
       "      <th>Time taken</th>\n",
       "      <td>726</td>\n",
       "      <td>0</td>\n",
       "    </tr>\n",
       "    <tr>\n",
       "      <th>Grade/20.00</th>\n",
       "      <td>726</td>\n",
       "      <td>0</td>\n",
       "    </tr>\n",
       "    <tr>\n",
       "      <th>Q. 1 /1.00</th>\n",
       "      <td>726</td>\n",
       "      <td>95</td>\n",
       "    </tr>\n",
       "    <tr>\n",
       "      <th>Q. 2 /1.00</th>\n",
       "      <td>724</td>\n",
       "      <td>85</td>\n",
       "    </tr>\n",
       "    <tr>\n",
       "      <th>Q. 3 /1.00</th>\n",
       "      <td>723</td>\n",
       "      <td>73</td>\n",
       "    </tr>\n",
       "    <tr>\n",
       "      <th>Q. 4 /1.00</th>\n",
       "      <td>723</td>\n",
       "      <td>85</td>\n",
       "    </tr>\n",
       "    <tr>\n",
       "      <th>Q. 5 /1.00</th>\n",
       "      <td>720</td>\n",
       "      <td>62</td>\n",
       "    </tr>\n",
       "    <tr>\n",
       "      <th>Q. 6 /1.00</th>\n",
       "      <td>717</td>\n",
       "      <td>44</td>\n",
       "    </tr>\n",
       "    <tr>\n",
       "      <th>Q. 7 /1.00</th>\n",
       "      <td>709</td>\n",
       "      <td>38</td>\n",
       "    </tr>\n",
       "    <tr>\n",
       "      <th>Q. 8 /1.00</th>\n",
       "      <td>713</td>\n",
       "      <td>58</td>\n",
       "    </tr>\n",
       "    <tr>\n",
       "      <th>Q. 9 /1.00</th>\n",
       "      <td>705</td>\n",
       "      <td>38</td>\n",
       "    </tr>\n",
       "    <tr>\n",
       "      <th>Q. 10 /1.00</th>\n",
       "      <td>705</td>\n",
       "      <td>39</td>\n",
       "    </tr>\n",
       "    <tr>\n",
       "      <th>Q. 11 /1.00</th>\n",
       "      <td>706</td>\n",
       "      <td>49</td>\n",
       "    </tr>\n",
       "    <tr>\n",
       "      <th>Q. 12 /1.00</th>\n",
       "      <td>701</td>\n",
       "      <td>39</td>\n",
       "    </tr>\n",
       "    <tr>\n",
       "      <th>Q. 13 /1.00</th>\n",
       "      <td>705</td>\n",
       "      <td>52</td>\n",
       "    </tr>\n",
       "    <tr>\n",
       "      <th>Q. 14 /1.00</th>\n",
       "      <td>704</td>\n",
       "      <td>44</td>\n",
       "    </tr>\n",
       "    <tr>\n",
       "      <th>Q. 15 /1.00</th>\n",
       "      <td>702</td>\n",
       "      <td>35</td>\n",
       "    </tr>\n",
       "    <tr>\n",
       "      <th>Q. 16 /1.00</th>\n",
       "      <td>705</td>\n",
       "      <td>49</td>\n",
       "    </tr>\n",
       "    <tr>\n",
       "      <th>Q. 17 /1.00</th>\n",
       "      <td>705</td>\n",
       "      <td>44</td>\n",
       "    </tr>\n",
       "    <tr>\n",
       "      <th>Q. 18 /1.00</th>\n",
       "      <td>689</td>\n",
       "      <td>20</td>\n",
       "    </tr>\n",
       "    <tr>\n",
       "      <th>Q. 19 /1.00</th>\n",
       "      <td>696</td>\n",
       "      <td>20</td>\n",
       "    </tr>\n",
       "    <tr>\n",
       "      <th>Q. 20 /1.00</th>\n",
       "      <td>696</td>\n",
       "      <td>30</td>\n",
       "    </tr>\n",
       "  </tbody>\n",
       "</table>\n",
       "</div>"
      ],
      "text/plain": [
       "State                 Finished  In progress\n",
       "Surname                    726          108\n",
       "First name                 726          108\n",
       "OU Computer Username       726          108\n",
       "Personal Identifier        726          108\n",
       "Institution                  0            0\n",
       "Department                   0            0\n",
       "Email address              726          108\n",
       "Started on                 726          108\n",
       "Completed                  726            0\n",
       "Time taken                 726            0\n",
       "Grade/20.00                726            0\n",
       "Q. 1 /1.00                 726           95\n",
       "Q. 2 /1.00                 724           85\n",
       "Q. 3 /1.00                 723           73\n",
       "Q. 4 /1.00                 723           85\n",
       "Q. 5 /1.00                 720           62\n",
       "Q. 6 /1.00                 717           44\n",
       "Q. 7 /1.00                 709           38\n",
       "Q. 8 /1.00                 713           58\n",
       "Q. 9 /1.00                 705           38\n",
       "Q. 10 /1.00                705           39\n",
       "Q. 11 /1.00                706           49\n",
       "Q. 12 /1.00                701           39\n",
       "Q. 13 /1.00                705           52\n",
       "Q. 14 /1.00                704           44\n",
       "Q. 15 /1.00                702           35\n",
       "Q. 16 /1.00                705           49\n",
       "Q. 17 /1.00                705           44\n",
       "Q. 18 /1.00                689           20\n",
       "Q. 19 /1.00                696           20\n",
       "Q. 20 /1.00                696           30"
      ]
     },
     "execution_count": 143,
     "metadata": {},
     "output_type": "execute_result"
    }
   ],
   "source": [
    "# First we group the table by state, and then apply the count function (we could also use a pivot table\n",
    "# but the results are the same). \n",
    "# If we then transpose the table we can easily see we have 2 kinds of states:'Finished' and 'In progress'\n",
    "# There are 726 'finished' ones (see Personal Identifier row), and 108 'In progress'\n",
    "# For each question we can now also see how many questions were answered (e.g. 726 of those students who \n",
    "# finished answered question 1, but only 95 who are still in progress have answered question 1)\n",
    "\n",
    "icma_df.groupby('State').count().T\n"
   ]
  },
  {
   "cell_type": "markdown",
   "metadata": {},
   "source": [
    "Use Pandas `hist()` to generate a histogram of number of tests for each Grade. As the test is out of 20, use 21 bins (0--20 inclusive). Add a suitable title (use `plt.title()`)."
   ]
  },
  {
   "cell_type": "code",
   "execution_count": 144,
   "metadata": {
    "activity": "activity",
    "collapsed": false,
    "run_control": {
     "read_only": false
    }
   },
   "outputs": [
    {
     "data": {
      "text/plain": [
       "array([[<matplotlib.axes._subplots.AxesSubplot object at 0xacfab46c>]], dtype=object)"
      ]
     },
     "execution_count": 144,
     "metadata": {},
     "output_type": "execute_result"
    },
    {
     "data": {
      "image/png": "[encoded data removed]",
      "text/plain": [
       "<matplotlib.figure.Figure at 0xad024c4c>"
      ]
     },
     "metadata": {},
     "output_type": "display_data"
    }
   ],
   "source": [
    "icma_df.hist(column='Grade/20.00', bins=range(21))\n",
    "#plt.title(\"Total tests per grade out of 20\")"
   ]
  },
  {
   "cell_type": "markdown",
   "metadata": {},
   "source": [
    "The above shows only completed tests. What are the marks awarded for 'In progress' tests?\n",
    "\n",
    "Hint: Sum the question scores. You need to tell .sum() to add by row, not column. Use `fillna()` to include rows with no answered questions."
   ]
  },
  {
   "cell_type": "code",
   "execution_count": 145,
   "metadata": {
    "activity": "activity",
    "collapsed": false,
    "run_control": {
     "read_only": false
    },
    "scrolled": false
   },
   "outputs": [
    {
     "data": {
      "text/plain": [
       "array([<matplotlib.axes._subplots.AxesSubplot object at 0xacf6620c>,\n",
       "       <matplotlib.axes._subplots.AxesSubplot object at 0xacf228ac>], dtype=object)"
      ]
     },
     "execution_count": 145,
     "metadata": {},
     "output_type": "execute_result"
    },
    {
     "data": {
      "image/png": "[encoded data removed]",
      "text/plain": [
       "<matplotlib.figure.Figure at 0xacf53dac>"
      ]
     },
     "metadata": {},
     "output_type": "display_data"
    }
   ],
   "source": [
    "# First, replace all NaNs with 0s, so we can calculate scores for 'in progress' students\n",
    "icma_df.fillna(0, inplace=True)\n",
    "# Next, recalculate all the students' scores\n",
    "\n",
    "#get list of columns, and discard all non-answer columns\n",
    "answer_columns = list(icma_df)\n",
    "answer_columns = answer_columns[12:]  \n",
    "\n",
    "#sum answer columns for each row, and update grade column with result \n",
    "icma_df['Grade/20.00'] = icma_df[answer_columns].sum(axis=1) \n",
    "\n",
    "#now we can replot the histogram, and also group by state to compare..\n",
    "icma_df.hist(column='Grade/20.00', bins=range(21), by=['State'], sharey=True)"
   ]
  },
  {
   "cell_type": "markdown",
   "metadata": {},
   "source": [
    "**Question:** \n",
    "What do these tables and charts tell you?  Comment on:\n",
    "\n",
    "1. the proportion of complete and incomplete quizzes, and which data is present or missing in which state.\n",
    "\n",
    "1. the range of values for the time taken.\n",
    "\n",
    "1. the ranges of the overall grade (`Grade/20.00`) and the marks for individual questions (`Q. 1/1.00` to `Q. 20/1.00`).\n",
    "\n",
    "1. the distribution of marks of complete and incomplete quizzes.\n",
    "\n",
    "1. the number of questions answered in quizzes."
   ]
  },
  {
   "cell_type": "markdown",
   "metadata": {
    "activity": "activity"
   },
   "source": [
    "**Write your answer here** _(200 words)_\n",
    "Looking at the table which shows the number of questions answered in each state, we can see that 726 students who finished (87%), and 108 who didn't (13%). \n",
    "\n",
    "The table of summary statistics shows us that the average time taken to complete a quiz is 16 days, 9 hours. However, the maximum time taken is an enormous 154 days, which is probably skewing the average. This is supported by a large standard deviation (29 days!), suggesting a highly spread out distribution. This probably suggests different study patterns for different students.\n",
    "\n",
    "While there is a large range in scores for each question (0 to 1 in most cases),\n",
    "the average score for each question is very high, with only 2 questions (Q18 and Q20) having a mean score of less than 0.75. Interestingly, one would expect the later questions to have lower scores due to being more difficult, but the data doesn't show this, with some extremely high average marks towards the end of the quiz (such as question 16 with an average of 99%!).\n",
    "\n",
    "In terms of the distribution of marks, we can see from the histogram that the majority of students scored 15 or above, with the average score for all students being 17.16. Students who didn't finish seemed to score higher in the earlier questions. However, we have to bear in mind that we are unable to tell if students genuinely scored lower in later questions, or if this is because they didn't complete the quiz (in which case we've assumed a score of 0).\n",
    "\n",
    "We can also see differences in how many students attempted a question, and how many gave up. Q1 for instance, was answered by 821 students (98%), compared to Q18 which was only answered by 709 students (83%).\n"
   ]
  },
  {
   "cell_type": "code",
   "execution_count": 146,
   "metadata": {
    "collapsed": true,
    "run_control": {
     "read_only": false
    }
   },
   "outputs": [],
   "source": [
    "# For convenience, hold the selectors for the completed and incomplete attempts\n",
    "finished = icma_df['State'] == 'Finished'\n",
    "in_progress = ~finished\n",
    "\n",
    "# e.g. icma_df[finished] is just the rows corresponding to finished attempts."
   ]
  },
  {
   "cell_type": "code",
   "execution_count": 147,
   "metadata": {
    "collapsed": true,
    "run_control": {
     "read_only": false
    }
   },
   "outputs": [],
   "source": [
    "# For convenience, hold a list of column names that store question marks.\n",
    "question_columns = ['Q. 1 /1.00', 'Q. 2 /1.00',\n",
    "       'Q. 3 /1.00', 'Q. 4 /1.00', 'Q. 5 /1.00', 'Q. 6 /1.00', 'Q. 7 /1.00',\n",
    "       'Q. 8 /1.00', 'Q. 9 /1.00', 'Q. 10 /1.00', 'Q. 11 /1.00', 'Q. 12 /1.00',\n",
    "       'Q. 13 /1.00', 'Q. 14 /1.00', 'Q. 15 /1.00', 'Q. 16 /1.00',\n",
    "       'Q. 17 /1.00', 'Q. 18 /1.00', 'Q. 19 /1.00', 'Q. 20 /1.00']\n",
    "\n",
    "# e.g. icma_df[question_columns] is just the columns for the individual questions"
   ]
  },
  {
   "cell_type": "markdown",
   "metadata": {},
   "source": [
    "Aspects of the data you will explore further are:\n",
    "\n",
    "1. how many attempts each student has made\n",
    "\n",
    "2. how the time taken for the iCMAs affects the score\n",
    "\n",
    "3. times and dates of starting and finishing iCMAs\n",
    "\n",
    "4. which questions are harder than others\n",
    "\n",
    "5. summarising these results and indicating interesting aspects\n",
    "\n",
    "6. anonymity and privacy of the data"
   ]
  },
  {
   "cell_type": "markdown",
   "metadata": {},
   "source": [
    "# <a name=\"b\"></a>b) Number of attempts (4 marks)\n",
    "([Contents](#contents))\n",
    "\n",
    "Students can make multiple attempts at a quiz. In this part of the question, you will see how many attempts different students made."
   ]
  },
  {
   "cell_type": "markdown",
   "metadata": {},
   "source": [
    "Count the number of attempts by each student.\n",
    "\n",
    "Store the results in a new data frame, `attempt_counts_df`. This new dataframe should have one row for each student, with the columns showing the number of quiz attempts for that student."
   ]
  },
  {
   "cell_type": "code",
   "execution_count": 148,
   "metadata": {
    "activity": "activity",
    "collapsed": false,
    "run_control": {
     "read_only": false
    },
    "scrolled": true
   },
   "outputs": [],
   "source": [
    "# Enter your code here\n"
   ]
  },
  {
   "cell_type": "markdown",
   "metadata": {},
   "source": [
    "Group `attempt_counts_df` by `Completed` to show the number of students who completed each number of quizzes. (For example, how many students completed no quiz attempts, how many completed 3 attempts, and so on.) Give both the numerical results and a bar chart visualisation."
   ]
  },
  {
   "cell_type": "code",
   "execution_count": 149,
   "metadata": {
    "activity": "activity",
    "collapsed": false,
    "run_control": {
     "read_only": false
    }
   },
   "outputs": [],
   "source": [
    "# Enter your code here\n"
   ]
  },
  {
   "cell_type": "markdown",
   "metadata": {},
   "source": [
    "Find the PIs of students that completed the quiz more than five times, and how many times they completed the quiz. Display the results in order of number of completed quizzes."
   ]
  },
  {
   "cell_type": "code",
   "execution_count": 150,
   "metadata": {
    "activity": "activity",
    "collapsed": false,
    "run_control": {
     "read_only": false
    }
   },
   "outputs": [],
   "source": [
    "# Enter your code here\n"
   ]
  },
  {
   "cell_type": "markdown",
   "metadata": {},
   "source": [
    "Find the PI of the student who completed the most number of quizzes. Show the datetime and overall grade of their attempts, in datetime order."
   ]
  },
  {
   "cell_type": "code",
   "execution_count": 151,
   "metadata": {
    "activity": "activity",
    "collapsed": false,
    "run_control": {
     "read_only": false
    }
   },
   "outputs": [],
   "source": [
    "# Enter your code here\n"
   ]
  },
  {
   "cell_type": "markdown",
   "metadata": {},
   "source": [
    "Many students started a quiz but did not complete any. What would their scores have been if they had pressed the \"submit\" button on the quiz? Plot the results as a histogram (with 21 bins).\n",
    "\n",
    "First, find the PIs of students with zero completed quizzes. \n",
    "\n",
    "_Hint:_ The Personal Identifier is the `index` of the `attempt_counts` DataFrame. Store the relevant Personal Identifiers in a variable called `zero_attempted`."
   ]
  },
  {
   "cell_type": "code",
   "execution_count": 152,
   "metadata": {
    "activity": "activity",
    "collapsed": false,
    "run_control": {
     "read_only": false
    },
    "scrolled": true
   },
   "outputs": [],
   "source": [
    "# Enter your code here\n"
   ]
  },
  {
   "cell_type": "markdown",
   "metadata": {},
   "source": [
    "The code below will select the rows of the `icma_df` DataFrame where the Personal Identifier is in the `zero_attempted` set you just identified. Use it to find the scores each of these quiz attempts would have been awarded had the student simply pressed 'submit'. Plot those results as a histogram (with 21 bins).\n",
    "\n",
    "Ensure you find the total per student, not the total per question."
   ]
  },
  {
   "cell_type": "code",
   "execution_count": 153,
   "metadata": {
    "collapsed": false,
    "run_control": {
     "read_only": false
    },
    "scrolled": true
   },
   "outputs": [
    {
     "ename": "NameError",
     "evalue": "name 'zero_attempted' is not defined",
     "output_type": "error",
     "traceback": [
      "\u001b[1;31m---------------------------------------------------------------------------\u001b[0m",
      "\u001b[1;31mNameError\u001b[0m                                 Traceback (most recent call last)",
      "\u001b[1;32m<ipython-input-153-8c28729666ab>\u001b[0m in \u001b[0;36m<module>\u001b[1;34m()\u001b[0m\n\u001b[1;32m----> 1\u001b[1;33m \u001b[0munsubmitted_attempts\u001b[0m \u001b[1;33m=\u001b[0m \u001b[0micma_df\u001b[0m\u001b[1;33m[\u001b[0m\u001b[0micma_df\u001b[0m\u001b[1;33m[\u001b[0m\u001b[1;34m'Personal Identifier'\u001b[0m\u001b[1;33m]\u001b[0m\u001b[1;33m.\u001b[0m\u001b[0misin\u001b[0m\u001b[1;33m(\u001b[0m\u001b[0mzero_attempted\u001b[0m\u001b[1;33m)\u001b[0m\u001b[1;33m]\u001b[0m\u001b[1;33m\u001b[0m\u001b[0m\n\u001b[0m\u001b[0;32m      2\u001b[0m \u001b[0munsubmitted_attempts\u001b[0m\u001b[1;33m\u001b[0m\u001b[0m\n",
      "\u001b[1;31mNameError\u001b[0m: name 'zero_attempted' is not defined"
     ]
    }
   ],
   "source": [
    "unsubmitted_attempts = icma_df[icma_df['Personal Identifier'].isin(zero_attempted)]\n",
    "unsubmitted_attempts"
   ]
  },
  {
   "cell_type": "code",
   "execution_count": null,
   "metadata": {
    "activity": "activity",
    "collapsed": false,
    "run_control": {
     "read_only": false
    }
   },
   "outputs": [],
   "source": [
    "# Enter your code here\n"
   ]
  },
  {
   "cell_type": "markdown",
   "metadata": {},
   "source": [
    "## Analysis\n",
    "What do these graphs and data extracts tell you about how students take quizzes?"
   ]
  },
  {
   "cell_type": "markdown",
   "metadata": {
    "activity": "activity"
   },
   "source": [
    "**Write your answer here** _(100 words)_\n"
   ]
  },
  {
   "cell_type": "markdown",
   "metadata": {},
   "source": [
    "# <a name=\"c\"></a> c) Timescales (3 marks)\n",
    "([Contents](#contents))\n",
    "\n",
    "Does the time taken to complete a quiz have any bearing on the score for that quiz attempt? In other words, does taking your time over a quiz lead to a higher mark, or vice versa?"
   ]
  },
  {
   "cell_type": "markdown",
   "metadata": {},
   "source": [
    "Add a new column to the `icma_df` DataFrame that holds the number of hours for that quiz attempt. \n",
    "\n",
    "The 'Time taken' data are `timedelta` objects. The `.total_seconds()` method of `timedelta` gives the number of seconds in that time interval. You will need to `.apply()` that function to every row of the `icma_df` DataFrame.\n",
    "\n",
    "`describe` the distribution of times. Plot a histogram of number of quiz attempts against time taken."
   ]
  },
  {
   "cell_type": "code",
   "execution_count": null,
   "metadata": {
    "activity": "activity",
    "collapsed": false,
    "run_control": {
     "read_only": false
    }
   },
   "outputs": [],
   "source": [
    "# Enter your code here\n"
   ]
  },
  {
   "cell_type": "code",
   "execution_count": null,
   "metadata": {
    "activity": "activity",
    "collapsed": false,
    "run_control": {
     "read_only": false
    }
   },
   "outputs": [],
   "source": [
    "# Enter your code here\n"
   ]
  },
  {
   "cell_type": "markdown",
   "metadata": {},
   "source": [
    "Many quizzes are completed quickly. How many are completed in less than two hours? Plot a histogram of number of quizzes completed by time. Include only the quizzes completed in less than two hours, and use 40 bins to show the detail."
   ]
  },
  {
   "cell_type": "code",
   "execution_count": null,
   "metadata": {
    "activity": "activity",
    "collapsed": false,
    "run_control": {
     "read_only": false
    }
   },
   "outputs": [],
   "source": [
    "# Enter your code here\n"
   ]
  },
  {
   "cell_type": "code",
   "execution_count": null,
   "metadata": {
    "activity": "activity",
    "collapsed": false,
    "run_control": {
     "read_only": false
    }
   },
   "outputs": [],
   "source": [
    "# Enter your code here\n"
   ]
  },
  {
   "cell_type": "markdown",
   "metadata": {},
   "source": [
    "Plot scatter plots of time taken against grade, for all attempts and for attempts completed within two hours."
   ]
  },
  {
   "cell_type": "code",
   "execution_count": null,
   "metadata": {
    "activity": "activity",
    "collapsed": false,
    "run_control": {
     "read_only": false
    }
   },
   "outputs": [],
   "source": [
    "# Enter your code here\n"
   ]
  },
  {
   "cell_type": "code",
   "execution_count": null,
   "metadata": {
    "activity": "activity",
    "collapsed": false,
    "run_control": {
     "read_only": false
    }
   },
   "outputs": [],
   "source": [
    "# Enter your code here\n"
   ]
  },
  {
   "cell_type": "markdown",
   "metadata": {},
   "source": [
    "## Analysis\n",
    "What does these plots and summaries of the data tell you about how the time to complete a quiz affects the score of that quiz?"
   ]
  },
  {
   "cell_type": "markdown",
   "metadata": {
    "activity": "activity"
   },
   "source": [
    "**Write your answer here** _(100 words)_\n"
   ]
  },
  {
   "cell_type": "markdown",
   "metadata": {},
   "source": [
    "# <a name=\"d\"></a> d) Time and day of quiz (8 marks)\n",
    "([Contents](#contents))\n",
    "\n",
    "Does when a quiz is started or finished have any effect on its grade?"
   ]
  },
  {
   "cell_type": "markdown",
   "metadata": {},
   "source": [
    "_Pandas_ doesn't like making scatter plots with time as one axis. This code will convert the start time of a quiz into an integer (number of seconds), add it to the `icma_df` DataFrame, then draw a scatter plot."
   ]
  },
  {
   "cell_type": "code",
   "execution_count": null,
   "metadata": {
    "collapsed": false,
    "run_control": {
     "read_only": false
    }
   },
   "outputs": [],
   "source": [
    "icma_df['Start'] = icma_df['Started on'].astype(np.int64)\n",
    "icma_df.plot.scatter(x='Start', y='Grade/20.00')"
   ]
  },
  {
   "cell_type": "markdown",
   "metadata": {},
   "source": [
    "Make a scatter plot of completion time against score."
   ]
  },
  {
   "cell_type": "code",
   "execution_count": null,
   "metadata": {
    "activity": "activity",
    "collapsed": false,
    "run_control": {
     "read_only": false
    }
   },
   "outputs": [],
   "source": [
    "# Enter your code here\n"
   ]
  },
  {
   "cell_type": "code",
   "execution_count": null,
   "metadata": {
    "collapsed": false,
    "run_control": {
     "read_only": false
    },
    "scrolled": true
   },
   "outputs": [],
   "source": [
    "# The following line of code maps dates to day of the week with Monday=0, Sunday=6\n",
    "icma_df['DoW'] = icma_df['Started on'].dt.weekday\n",
    "icma_df[:3].T"
   ]
  },
  {
   "cell_type": "markdown",
   "metadata": {},
   "source": [
    "How many quiz attempts were started on each day of the week? What were the average scores of those completed quiz attempts?\n",
    "\n",
    "Show the numeric results of each of these questions, and produce a bar chart of the results.\n",
    "\n",
    "Make a scatter plot of day of week against score."
   ]
  },
  {
   "cell_type": "code",
   "execution_count": null,
   "metadata": {
    "activity": "activity",
    "collapsed": false,
    "run_control": {
     "read_only": false
    }
   },
   "outputs": [],
   "source": [
    "# Show the number of quizzes started on each day of the week.\n",
    "# Enter your code here\n"
   ]
  },
  {
   "cell_type": "code",
   "execution_count": null,
   "metadata": {
    "activity": "activity",
    "collapsed": false,
    "run_control": {
     "read_only": false
    }
   },
   "outputs": [],
   "source": [
    "# Plot the results above as a bar chart.\n",
    "# Enter your code here\n"
   ]
  },
  {
   "cell_type": "code",
   "execution_count": null,
   "metadata": {
    "activity": "activity",
    "collapsed": false,
    "run_control": {
     "read_only": false
    }
   },
   "outputs": [],
   "source": [
    "# Show the mean score of quizzes started on each day of the week.\n",
    "# Enter your code here\n"
   ]
  },
  {
   "cell_type": "code",
   "execution_count": null,
   "metadata": {
    "activity": "activity",
    "collapsed": false,
    "run_control": {
     "read_only": false
    }
   },
   "outputs": [],
   "source": [
    "# Plot the results above as a bar chart.\n",
    "# Enter your code here\n"
   ]
  },
  {
   "cell_type": "code",
   "execution_count": null,
   "metadata": {
    "activity": "activity",
    "collapsed": false,
    "run_control": {
     "read_only": false
    },
    "scrolled": true
   },
   "outputs": [],
   "source": [
    "# Plot the results above as a scatter chart, of grade against day of week.\n",
    "# Enter your code here\n"
   ]
  },
  {
   "cell_type": "markdown",
   "metadata": {},
   "source": [
    "Perform the same analysis for time of day. Find the hour that each quiz was started, and give numerical and graphical representations of the number of quizzes completed each hour and their average score. Use intermediate steps as needed."
   ]
  },
  {
   "cell_type": "code",
   "execution_count": null,
   "metadata": {
    "activity": "activity",
    "collapsed": true,
    "run_control": {
     "read_only": false
    }
   },
   "outputs": [],
   "source": [
    "# Enter your code here\n"
   ]
  },
  {
   "cell_type": "markdown",
   "metadata": {},
   "source": [
    "Do the complete and incomplete quiz attempts have a different distribution of starting times?\n",
    "\n",
    "Generate two plots in one figure, with the finished quiz times above the in-progress quiz times. Give each plot a title and perhaps a different colour. (Keeping calls of \n",
    "```\n",
    "plt.tight_layout()\n",
    "fig.subplots_adjust(top=0.90)\n",
    "```\n",
    "to the very end of your code cell can improve the layout.)\n",
    "\n",
    "Use `reindex()` and `fillna()` to fill in any missing groups so that both graphs have the same number of data points."
   ]
  },
  {
   "cell_type": "code",
   "execution_count": null,
   "metadata": {
    "activity": "activity",
    "collapsed": false,
    "run_control": {
     "read_only": false
    }
   },
   "outputs": [],
   "source": [
    "fig = plt.figure(figsize=(8, 8))\n",
    "fig.suptitle(\"Attempts by hour\", fontsize='x-large')\n",
    "\n",
    "# Enter your code here\n",
    "\n",
    "# Keep these lines at the end\n",
    "plt.tight_layout()\n",
    "fig.subplots_adjust(top=0.90)"
   ]
  },
  {
   "cell_type": "markdown",
   "metadata": {},
   "source": [
    "## Analysis\n",
    "What does these plots and summaries of the data tell you about how the time of day quiz affects the score of that quiz?"
   ]
  },
  {
   "cell_type": "markdown",
   "metadata": {
    "activity": "activityAns"
   },
   "source": [
    "**Write your answer here** _(150 words)_\n"
   ]
  },
  {
   "cell_type": "markdown",
   "metadata": {},
   "source": [
    "# <a name=\"e\"></a> e) Difficulty of questions (7 marks)\n",
    "([Contents](#contents))\n",
    "\n",
    "Which questions are harder? \n",
    "\n",
    "Note that we can judge difficulty in two ways: lower grades for particular questions, or fewer questions answered (students tend to avoid questions they perceive as difficult)."
   ]
  },
  {
   "cell_type": "markdown",
   "metadata": {},
   "source": [
    "Generate graphs to show the number of scores for each question. Generate three graphs, for all attempts, completed quizzes, and in-progress quizzes. \n",
    "\n",
    "Plot the three graphs, one above the other, in one figure. Give each subplot a title and use different colours for each plot. Again, `plt.tight_layout()` and `fig.subplots_adjust()` may improve the appearance."
   ]
  },
  {
   "cell_type": "code",
   "execution_count": null,
   "metadata": {
    "activity": "activity",
    "collapsed": false,
    "run_control": {
     "read_only": false
    }
   },
   "outputs": [],
   "source": [
    "fig = plt.figure(figsize=(8, 10)) # Make the whole figure big enough to see the individual graphs.\n",
    "\n",
    "fig.suptitle(\"Number of attempts\", fontsize='x-large')\n",
    "\n",
    "# Enter your code here\n"
   ]
  },
  {
   "cell_type": "markdown",
   "metadata": {},
   "source": [
    "Create a scatter plot that shows the number of questions answered (_x_ axis) against the grade for that quiz attempt (_y_ axis). You may find it easier to add a column to the `icma_df` DataFrame to store the number of attempted questions."
   ]
  },
  {
   "cell_type": "code",
   "execution_count": null,
   "metadata": {
    "activity": "activity",
    "collapsed": false,
    "run_control": {
     "read_only": false
    },
    "scrolled": false
   },
   "outputs": [],
   "source": [
    "# Enter your code here\n"
   ]
  },
  {
   "cell_type": "markdown",
   "metadata": {},
   "source": [
    "Similar to the counts above, produce three charts that show the mean scores for each question. You should have one graph for all attempts, one for completed attemtps, and one for in-progress attempts. Ensure you are taking the average per question, not the score per attempt."
   ]
  },
  {
   "cell_type": "code",
   "execution_count": null,
   "metadata": {
    "activity": "activity",
    "collapsed": false,
    "run_control": {
     "read_only": false
    }
   },
   "outputs": [],
   "source": [
    "fig = plt.figure(figsize=(8, 10)) # Make the whole figure big enough to see the individual graphs.\n",
    "\n",
    "fig.suptitle(\"Mean scores\", fontsize='x-large')\n",
    "\n",
    "# Enter your code here\n"
   ]
  },
  {
   "cell_type": "markdown",
   "metadata": {},
   "source": [
    "Generate a bar chart that shows two columns for each question. One column should show the number of attempts at that question, the other column should show the mean score. You should rescale the number of question attempts to fit the range 0–1 so that the two types of data a visible on the same graph. \n",
    "\n",
    "Use only data from completed quiz attempts.\n",
    "\n",
    "You may need to generate intermediate DataFrames as you go. "
   ]
  },
  {
   "cell_type": "code",
   "execution_count": null,
   "metadata": {
    "activity": "activity",
    "collapsed": true,
    "run_control": {
     "read_only": false
    }
   },
   "outputs": [],
   "source": [
    "# Enter your code here\n"
   ]
  },
  {
   "cell_type": "markdown",
   "metadata": {},
   "source": [
    "## Analysis\n",
    "What does these plots and summaries of the data tell you about which questions are harder?"
   ]
  },
  {
   "cell_type": "markdown",
   "metadata": {
    "activity": "activity"
   },
   "source": [
    "**Write your answer here** _(150 words)_\n"
   ]
  },
  {
   "cell_type": "markdown",
   "metadata": {},
   "source": [
    "# <a name=\"f\"></a> f) Data investigation summary (5 marks)\n",
    "([Contents](#contents))\n",
    "\n",
    "Look back over the analysis you have produced. Summarise the main conclusions you have drawn from this work. Highlight how different results can be combined to deduce more about the dataset. Take note of these questions:\n",
    "\n",
    "* What conclusions can you draw about how and when students answer the iCMAs, and any effects that may have on the quiz grade? \n",
    "\n",
    "* What are the differences between the completed and in progress quiz attempts?\n",
    "\n",
    "If you were extending this exploration, how might you proceed? "
   ]
  },
  {
   "cell_type": "markdown",
   "metadata": {
    "activity": "activity"
   },
   "source": [
    "**Write your answer here**  _(400 words)_\n",
    "\n"
   ]
  },
  {
   "cell_type": "markdown",
   "metadata": {},
   "source": [
    "# <a name=\"g\"></a> g) Anonymisation and privacy (10 marks)\n",
    "([Contents](#contents))\n",
    "\n",
    "The raw data for this question contained students' full names, personal email addresses, OU computer usernames, and personal identifiers. Open University students, as part of their registration agreement, give permission to The Open University for their personal data to be used internally for analysis and research."
   ]
  },
  {
   "cell_type": "markdown",
   "metadata": {},
   "source": [
    "## i) (4 marks)\n",
    "What issues would there be in releasing this data for analysis by TM351 students? What laws would govern the disclosure of this data, and would unredacted data release be legal? In what way are full names, email addresses, OU computer usernames, and personal identifiers \"personal data\"? What other information in the dataset could be used to identify individuals?\n",
    "\n",
    "Justify your answers."
   ]
  },
  {
   "cell_type": "markdown",
   "metadata": {
    "activity": "activity"
   },
   "source": [
    "**Write your answer here**  _(300 words)_\n"
   ]
  },
  {
   "cell_type": "markdown",
   "metadata": {},
   "source": [
    "## ii) (4 marks)\n",
    "One approach to obscuring the data is to use a cryptographic hash function, such as MD5. Such a hash function is deterministic (each value always results in the same hash), one-way (the original value cannot be recovered from the hashed value), and collision-free (two different values will not generate the same hashed value). See the examples below:"
   ]
  },
  {
   "cell_type": "code",
   "execution_count": null,
   "metadata": {
    "collapsed": false,
    "run_control": {
     "read_only": false
    }
   },
   "outputs": [],
   "source": [
    "import hashlib\n",
    "\n",
    "print('TM351', hashlib.md5('TM351'.encode('ascii','ignore')).hexdigest())\n",
    "print('TM352', hashlib.md5('TM352'.encode('ascii','ignore')).hexdigest())\n",
    "print('tm351', hashlib.md5('tm351'.encode('ascii','ignore')).hexdigest())"
   ]
  },
  {
   "cell_type": "markdown",
   "metadata": {},
   "source": [
    "This technique could be used easily with the iCMA data by applying such a hash function to some of the data (name, email address, personal identifier, OU username) and only releasing the hashed values. \n",
    "\n",
    "What form of anonymisation is this? \n",
    "\n",
    "What are the advantages and disadvantages of this approach? How could data, obscured in this way, be used to deanonyimise some or all of the data? \n",
    "\n",
    "(For information, the data in this released dataset had the personal identifiers replaced (masked) by randomly-generated keys. Nonce values for other personal information were generated deterministically from the new personal identifiers. These values were then hashed and stored.)"
   ]
  },
  {
   "cell_type": "markdown",
   "metadata": {
    "activity": "activityAns"
   },
   "source": [
    "**Write your answer here**  _(250 words)_\n",
    "\n"
   ]
  },
  {
   "cell_type": "markdown",
   "metadata": {},
   "source": [
    "## iii) (2 marks)\n",
    "Give two other approaches that could be used to anonymise the iCMA data so it could be published for analysis? What are their disadvantages?"
   ]
  },
  {
   "cell_type": "markdown",
   "metadata": {
    "activity": "activityAns"
   },
   "source": [
    "**Write your answer here**  _(200 words)_\n"
   ]
  },
  {
   "cell_type": "markdown",
   "metadata": {
    "collapsed": true,
    "run_control": {
     "read_only": false
    }
   },
   "source": [
    "### 45 marks in total"
   ]
  }
 ],
 "metadata": {
  "kernelspec": {
   "display_name": "Python 3",
   "language": "python",
   "name": "python3"
  },
  "language_info": {
   "codemirror_mode": {
    "name": "ipython",
    "version": 3
   },
   "file_extension": ".py",
   "mimetype": "text/x-python",
   "name": "python",
   "nbconvert_exporter": "python",
   "pygments_lexer": "ipython3",
   "version": "3.4.3"
  }
 },
 "nbformat": 4,
 "nbformat_minor": 0
}
