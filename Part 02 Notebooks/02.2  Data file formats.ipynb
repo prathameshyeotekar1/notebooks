{
 "cells": [
  {
   "cell_type": "markdown",
   "metadata": {},
   "source": [
    "# Data file formats"
   ]
  },
  {
   "cell_type": "markdown",
   "metadata": {},
   "source": [
    "In this set of Notebooks you will learn how to work with a wide variety of file formats that are used to transport data around the web. The file formats you will explore include:\n",
    "\n",
    "- CSV (comma-separated values) files, and related variants (e.g. tab-delimited files)\n",
    "- JSON (JavaScript Object Notation) files\n",
    "\n",
    "We will also briefly refer to:\n",
    "\n",
    "- XLS (Excel spreadsheet) files\n",
    "- KML files\n",
    "- YAML files.\n",
    "\n",
    "The extent to which these various file formats are able to model different data structures may influence the appropriateness, or otherwise, of selecting a particular file format as a means of publishing a dataset.\n",
    "\n",
    "You will also learn how to detect different file encodings for text files."
   ]
  },
  {
   "cell_type": "markdown",
   "metadata": {},
   "source": [
    "## What next?"
   ]
  },
  {
   "cell_type": "markdown",
   "metadata": {},
   "source": [
    "If you are working through this Notebook as part of an inline exercise, return to the module materials now.\n",
    "\n",
    "If you are working through this set of Notebooks as a whole then let's look at file encodings so we can open the files we find: `02.2.0 Data file formats - file encodings`."
   ]
  }
 ],
 "metadata": {
  "kernelspec": {
   "display_name": "Python 3",
   "language": "python",
   "name": "python3"
  },
  "language_info": {
   "codemirror_mode": {
    "name": "ipython",
    "version": 3
   },
   "file_extension": ".py",
   "mimetype": "text/x-python",
   "name": "python",
   "nbconvert_exporter": "python",
   "pygments_lexer": "ipython3",
   "version": "3.4.3"
  }
 },
 "nbformat": 4,
 "nbformat_minor": 0
}
