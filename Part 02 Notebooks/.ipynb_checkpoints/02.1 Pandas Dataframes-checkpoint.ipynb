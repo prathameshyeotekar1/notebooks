{
 "cells": [
  {
   "cell_type": "markdown",
   "metadata": {
    "code_folding": [
     0
    ]
   },
   "source": [
    "# The *pandas* library: Series and DataFrames"
   ]
  },
  {
   "cell_type": "markdown",
   "metadata": {},
   "source": [
    "Python is a general-purpose scripting language. However, when working in a particular domain, such as the world of data, it can be useful to make use of code libraries that provide higher-level data structures and operations that are suited to that domain.\n",
    "\n",
    "A library we will be drawing on heavily in this module is *pandas*. If data is represented in an appropriate format, it can make it much easier to work with. *pandas* provides several such formats. In this Notebook, you will learn about two key *pandas* data structures: *Series* and a tabular data structure referred to as a *Dataframe*. \n",
    "\n",
    "To start with we need to load in the *pandas* library, by convention we associate this with the convenient label *pd*."
   ]
  },
  {
   "cell_type": "code",
   "execution_count": null,
   "metadata": {
    "code_folding": [
     0
    ],
    "collapsed": false,
    "run_control": {
     "read_only": false
    }
   },
   "outputs": [],
   "source": [
    "import pandas as pd"
   ]
  },
  {
   "cell_type": "markdown",
   "metadata": {},
   "source": [
    "Note there are several libraries that we shall often make use of when working with *pandas* that have been preloaded in to the Notebook 'for free' [[reference](http://ipython.org/ipython-doc/2/api/generated/IPython.core.magics.pylab.ht\n",
    "ml)].  However, as a reminder that many libraries we are using are not part of the standard Python code base we will include an `import` statement for the libraries we use. "
   ]
  },
  {
   "cell_type": "markdown",
   "metadata": {},
   "source": [
    "## Python recap: lists and dicts"
   ]
  },
  {
   "cell_type": "markdown",
   "metadata": {},
   "source": [
    "Python lists are flexible, mutable, data structures that can be used to represent an ordered list of objects."
   ]
  },
  {
   "cell_type": "code",
   "execution_count": null,
   "metadata": {
    "collapsed": false,
    "run_control": {
     "read_only": false
    }
   },
   "outputs": [],
   "source": [
    "simple_list = ['apples', 'oranges', 'bananas', 'pears']"
   ]
  },
  {
   "cell_type": "markdown",
   "metadata": {},
   "source": [
    "Associated with each list is a numerical *index* value, with a count starting at zero, that identifies the position of each list member. The *N*th list member has index value *N* - 1."
   ]
  },
  {
   "cell_type": "code",
   "execution_count": null,
   "metadata": {
    "collapsed": false,
    "run_control": {
     "read_only": false
    }
   },
   "outputs": [],
   "source": [
    "print(\"First list item (index value 1-1 = 0): simple_list[0] -> {0}\".format(simple_list[0]))\n",
    "print(\"Third list item (index value 3-1 = 2): simple_list[2] -> {0}\".format(simple_list[2]))"
   ]
  },
  {
   "cell_type": "markdown",
   "metadata": {},
   "source": [
    "Python also supports unordered *associative arrays* in the form of *dicts* that allow you to index a value by name:"
   ]
  },
  {
   "cell_type": "code",
   "execution_count": null,
   "metadata": {
    "collapsed": false,
    "run_control": {
     "read_only": false
    }
   },
   "outputs": [],
   "source": [
    "simple_dict = {1:'one', 2:'two', 4:'four', 3:'three'}\n",
    "print(\"Item with key (index) '4' has value: {0}\".format(simple_dict[4]))"
   ]
  },
  {
   "cell_type": "markdown",
   "metadata": {},
   "source": [
    "We can inspect the keys and the values contained within a dict by converting them into a list:"
   ]
  },
  {
   "cell_type": "code",
   "execution_count": null,
   "metadata": {
    "collapsed": false,
    "run_control": {
     "read_only": false
    }
   },
   "outputs": [],
   "source": [
    "print( list(simple_dict.keys()) )\n",
    "print( list(simple_dict.values()) )"
   ]
  },
  {
   "cell_type": "markdown",
   "metadata": {},
   "source": [
    "With a simple list or dict, we can use a list or dict comprehension to filter the contents of an object according to a test condition. For example, we can test against the value of the keys in a dict and generate a list containing associated dict values:"
   ]
  },
  {
   "cell_type": "code",
   "execution_count": null,
   "metadata": {
    "collapsed": false,
    "run_control": {
     "read_only": false
    }
   },
   "outputs": [],
   "source": [
    "[simple_dict[k] for k in simple_dict if k>2]"
   ]
  },
  {
   "cell_type": "code",
   "execution_count": null,
   "metadata": {
    "collapsed": false,
    "run_control": {
     "read_only": false
    }
   },
   "outputs": [],
   "source": [
    "# The following statement makes a new dict by swapping the keys and values \n",
    "#    contained in simple_dict and prints them out.\n",
    "alternative_dict = dict(zip(simple_dict.values(), simple_dict.keys()))\n",
    "print(list(alternative_dict.keys()))\n",
    "print(list(alternative_dict.values()))"
   ]
  },
  {
   "cell_type": "markdown",
   "metadata": {},
   "source": [
    "## *pandas* Series and DataFrames"
   ]
  },
  {
   "cell_type": "markdown",
   "metadata": {},
   "source": [
    "In the following sections you will be introduced to two powerful data representations supported by the pandas library: *Series* and *DataFrames*. The introduction provides a quick overview of some of the operations that are possible using these data structures. We will be revisiting many of the operations in more depth later in the module, so for now just try to get a feel for what's possible."
   ]
  },
  {
   "cell_type": "markdown",
   "metadata": {},
   "source": [
    "## Series"
   ]
  },
  {
   "cell_type": "markdown",
   "metadata": {},
   "source": [
    "A *pandas* *Series* combines the idea of a list with an additional index column, by default this is a numeric index starting at zero:"
   ]
  },
  {
   "cell_type": "code",
   "execution_count": null,
   "metadata": {
    "collapsed": false,
    "run_control": {
     "read_only": false
    }
   },
   "outputs": [],
   "source": [
    "pd.Series( ['one', 'two', 'three', 'four'] )"
   ]
  },
  {
   "cell_type": "markdown",
   "metadata": {},
   "source": [
    "We can simplify the text required to create a Series by loading the Series method in from the *pandas* library explicitly:"
   ]
  },
  {
   "cell_type": "code",
   "execution_count": null,
   "metadata": {
    "collapsed": false,
    "run_control": {
     "read_only": false
    }
   },
   "outputs": [],
   "source": [
    "from pandas import Series\n",
    "simple_series = Series( [101, 102, 103, 104] )\n",
    "simple_series"
   ]
  },
  {
   "cell_type": "markdown",
   "metadata": {},
   "source": [
    "We can index into a Series using the corresponding index value:"
   ]
  },
  {
   "cell_type": "code",
   "execution_count": null,
   "metadata": {
    "collapsed": false,
    "run_control": {
     "read_only": false
    }
   },
   "outputs": [],
   "source": [
    "simple_series[1]"
   ]
  },
  {
   "cell_type": "markdown",
   "metadata": {},
   "source": [
    "We can also grab several values at once if we pass the desired index values in as a list in the order we want them to be displayed:"
   ]
  },
  {
   "cell_type": "code",
   "execution_count": null,
   "metadata": {
    "collapsed": false,
    "run_control": {
     "read_only": false
    }
   },
   "outputs": [],
   "source": [
    "simple_series[ [1, 0, 3] ]"
   ]
  },
  {
   "cell_type": "markdown",
   "metadata": {},
   "source": [
    "In much the same way that we can inspect the keys used in a Python dict, we can inspect the index values used within a Series:"
   ]
  },
  {
   "cell_type": "code",
   "execution_count": null,
   "metadata": {
    "collapsed": false,
    "run_control": {
     "read_only": false
    }
   },
   "outputs": [],
   "source": [
    "simple_series.index"
   ]
  },
  {
   "cell_type": "markdown",
   "metadata": {},
   "source": [
    "We can also define our own index values:"
   ]
  },
  {
   "cell_type": "code",
   "execution_count": null,
   "metadata": {
    "collapsed": false,
    "run_control": {
     "read_only": false
    }
   },
   "outputs": [],
   "source": [
    "myindex_series = Series( ['apple', 'orange', 'pear', 'plum'], \n",
    "                         index=['one', 'two', 'three', 'four'] )\n",
    "print(myindex_series.index)\n",
    "myindex_series"
   ]
  },
  {
   "cell_type": "markdown",
   "metadata": {},
   "source": [
    "Again, it's easy enough to pull out several values from the Series by providing several of our own index values in a list:"
   ]
  },
  {
   "cell_type": "code",
   "execution_count": null,
   "metadata": {
    "collapsed": false,
    "run_control": {
     "read_only": false
    }
   },
   "outputs": [],
   "source": [
    "myindex_series[ ['two', 'four'] ]"
   ]
  },
  {
   "cell_type": "markdown",
   "metadata": {},
   "source": [
    "Series can also be created from a simple dict, where the unique key values become index values:"
   ]
  },
  {
   "cell_type": "code",
   "execution_count": null,
   "metadata": {
    "collapsed": false,
    "run_control": {
     "read_only": false
    }
   },
   "outputs": [],
   "source": [
    "Series( {'Q1':'Spring', 'Q2':'Summer', 'Q3':'Autumn', 'Q4':'Winter'} )"
   ]
  },
  {
   "cell_type": "code",
   "execution_count": null,
   "metadata": {
    "collapsed": false,
    "run_control": {
     "read_only": false
    }
   },
   "outputs": [],
   "source": [
    "Series({'Q1':'Spring', 'Q2':'Summer', 'Q3':'Autumn', 'Q4':'Winter'}, \n",
    "       index=['Q4', 'Q3', 'Q2', 'Q1'] )"
   ]
  },
  {
   "cell_type": "markdown",
   "metadata": {
    "activity": "activity",
    "code_folding": [
     0
    ]
   },
   "source": [
    "#### Exercise\n",
    "Construct a Series containing the names of the days of the week and a day number index, ordering the days Monday to Sunday with day index values 1 to 7.   Assign your series to a variable `days_of_the_week`. "
   ]
  },
  {
   "cell_type": "code",
   "execution_count": null,
   "metadata": {
    "activity": "activity",
    "collapsed": false,
    "run_control": {
     "read_only": false
    }
   },
   "outputs": [],
   "source": [
    "# YOUR CODE HERE  "
   ]
  },
  {
   "cell_type": "markdown",
   "metadata": {
    "activity": "activity"
   },
   "source": [
    "##### Sample solution below\n",
    "But please try to code your own solution before looking at the sample solution provided."
   ]
  },
  {
   "cell_type": "code",
   "execution_count": null,
   "metadata": {
    "activity": "activity",
    "code_folding": [
     0
    ],
    "collapsed": false,
    "run_control": {
     "read_only": false
    }
   },
   "outputs": [],
   "source": [
    "# Sample solution\n",
    "# first note that simply defining a Series without managing the index starts the indexing at zero.\n",
    "wrong_index_days_of_the_week = Series( ['Monday', 'Tuesday', 'Wednesday', 'Thursday', \n",
    "                                 'Friday', 'Saturday', 'Sunday'] )\n",
    "print(wrong_index_days_of_the_week)\n",
    "\n",
    "# So we need to supply the index even though it's a simple integer run of values\n",
    "days_of_the_week = Series( ['Monday', 'Tuesday', 'Wednesday', 'Thursday', \n",
    "                                 'Friday', 'Saturday', 'Sunday'],\n",
    "                          index=[1,2,3,4,5,6,7] )\n",
    "print(days_of_the_week)"
   ]
  },
  {
   "cell_type": "markdown",
   "metadata": {},
   "source": [
    "### 'Vector' operations with Series"
   ]
  },
  {
   "cell_type": "markdown",
   "metadata": {},
   "source": [
    "In certain respects, we can think of a Series as a vector. For example: if we multiply a Series by a scalar value, each member of the Series is multiplied by that value:"
   ]
  },
  {
   "cell_type": "code",
   "execution_count": null,
   "metadata": {
    "collapsed": false,
    "run_control": {
     "read_only": false
    }
   },
   "outputs": [],
   "source": [
    "5 * Series([1, 1, 2, 3, 4])"
   ]
  },
  {
   "cell_type": "code",
   "execution_count": null,
   "metadata": {
    "collapsed": false,
    "run_control": {
     "read_only": false
    }
   },
   "outputs": [],
   "source": [
    "# Similarly with other operations applied to a series.\n",
    "Series([6, 7, 3, 9, 1]) - 7.1"
   ]
  },
  {
   "cell_type": "code",
   "execution_count": null,
   "metadata": {
    "collapsed": false,
    "run_control": {
     "read_only": false
    }
   },
   "outputs": [],
   "source": [
    "# We can combine two series with simple operations.\n",
    "Series([1, 1, 2, 3, 4]) + Series([10, 10, 15, -15, -20])\n",
    "# But be careful if the two series are not the same length - try it and see what happens.\n"
   ]
  },
  {
   "cell_type": "markdown",
   "metadata": {},
   "source": [
    "### Filtering Series"
   ]
  },
  {
   "cell_type": "markdown",
   "metadata": {},
   "source": [
    "A very useful feature of Series is that we can filter their values by value. The *values* in the Series (*not* the index values) are tested against the condition and the Series elements that pass the test are returned, along with their index values."
   ]
  },
  {
   "cell_type": "code",
   "execution_count": null,
   "metadata": {
    "collapsed": false,
    "run_control": {
     "read_only": false
    }
   },
   "outputs": [],
   "source": [
    "simple_series[ simple_series > 102 ]"
   ]
  },
  {
   "cell_type": "markdown",
   "metadata": {},
   "source": [
    "This takes a little bit of thinking about. Let's see what the index expression (in the [ ]s) is returning:"
   ]
  },
  {
   "cell_type": "code",
   "execution_count": null,
   "metadata": {
    "collapsed": false,
    "run_control": {
     "read_only": false
    }
   },
   "outputs": [],
   "source": [
    "simple_series > 102"
   ]
  },
  {
   "cell_type": "markdown",
   "metadata": {},
   "source": [
    "Then, the index values that return `True` are used as the index value to return the Series values associated with them, which in `simple_series` are the values `103` and `104`."
   ]
  },
  {
   "cell_type": "markdown",
   "metadata": {},
   "source": [
    "### Aligning data in Series"
   ]
  },
  {
   "cell_type": "markdown",
   "metadata": {},
   "source": [
    "In many situations it can be useful to be able to add Series elements together where they share some common index values, even if the Series are presented in a different order. \n",
    "\n",
    "For example, imagine you have two separate Series containing the values of payments made to just the companies who worked on a particular project. Now suppose we want a `totalspend` Series which is the sum of the two Series elements for each company."
   ]
  },
  {
   "cell_type": "code",
   "execution_count": null,
   "metadata": {
    "collapsed": false,
    "run_control": {
     "read_only": false
    }
   },
   "outputs": [],
   "source": [
    "# The total spend Series for the four companies starts at zero.\n",
    "totalSpend = Series({\"Company A\":0, \"Company B\":0, \"Company C\":0, \"Company D\":0})\n",
    "totalSpend"
   ]
  },
  {
   "cell_type": "code",
   "execution_count": null,
   "metadata": {
    "collapsed": false,
    "run_control": {
     "read_only": false
    }
   },
   "outputs": [],
   "source": [
    "# project1 represents the company expenditures on one project, project2 is another project.\n",
    "project1 = Series([1000, 2000, 500], index=[\"Company A\", \"Company B\", \"Company C\"])\n",
    "project2 = Series([800, 2000 ], index=[\"Company D\", \"Company A\"])"
   ]
  },
  {
   "cell_type": "markdown",
   "metadata": {},
   "source": [
    "What happens if we try adding various combinations of `totalSpend`, `project1` and `project2`, treating them as vectors?"
   ]
  },
  {
   "cell_type": "code",
   "execution_count": null,
   "metadata": {
    "collapsed": false,
    "run_control": {
     "read_only": false
    }
   },
   "outputs": [],
   "source": [
    "totalSpend + project1"
   ]
  },
  {
   "cell_type": "code",
   "execution_count": null,
   "metadata": {
    "collapsed": false,
    "run_control": {
     "read_only": false
    }
   },
   "outputs": [],
   "source": [
    "project1 + project2"
   ]
  },
  {
   "cell_type": "markdown",
   "metadata": {},
   "source": [
    "If any index values don't match across both Series, then the sum for that index value returns *NaN* - not a number. However, using the Series *add* method we can force missing values to be treated as a particular value, such as 0, using a *fill_value* parameter."
   ]
  },
  {
   "cell_type": "code",
   "execution_count": null,
   "metadata": {
    "collapsed": false,
    "run_control": {
     "read_only": false
    }
   },
   "outputs": [],
   "source": [
    "totalSpend.add(project1, fill_value=0)"
   ]
  },
  {
   "cell_type": "markdown",
   "metadata": {},
   "source": [
    "The result of the `add()` method is itself a Series.  So, we can also chain the add expressions."
   ]
  },
  {
   "cell_type": "code",
   "execution_count": null,
   "metadata": {
    "collapsed": false,
    "run_control": {
     "read_only": false
    }
   },
   "outputs": [],
   "source": [
    "totalSpend.add(project1, fill_value=0).add(project2, fill_value=0)"
   ]
  },
  {
   "cell_type": "markdown",
   "metadata": {},
   "source": [
    "## DataFrames"
   ]
  },
  {
   "cell_type": "markdown",
   "metadata": {},
   "source": [
    "DataFrames are two-dimensional data tables in which rows of data have values spread across one or more columns, much like a sheet in a spreadsheet. Each column behaves as if it is a Series; a DataFrame can thus be thought of as a dict of Series, where dict keys correspond to column names. "
   ]
  },
  {
   "cell_type": "code",
   "execution_count": null,
   "metadata": {
    "collapsed": false,
    "run_control": {
     "read_only": false
    }
   },
   "outputs": [],
   "source": [
    "from pandas import DataFrame"
   ]
  },
  {
   "cell_type": "code",
   "execution_count": null,
   "metadata": {
    "collapsed": false,
    "run_control": {
     "read_only": false
    }
   },
   "outputs": [],
   "source": [
    "# courseData is a dict, with each key the name of a column, \n",
    "#   and each value a list of the values in that column.\n",
    "courseData = { 'courseCode': ['TM351', 'TU100', 'M269'],\n",
    "               'points':[30, 60, 30],\n",
    "               'level':['3', '1', '2']\n",
    "             }\n",
    "print(courseData)"
   ]
  },
  {
   "cell_type": "code",
   "execution_count": null,
   "metadata": {
    "collapsed": false,
    "run_control": {
     "read_only": false
    }
   },
   "outputs": [],
   "source": [
    "# DataFrame() turns the dict into a DataFrame:\n",
    "DataFrame(courseData)"
   ]
  },
  {
   "cell_type": "markdown",
   "metadata": {},
   "source": [
    "We can also create a DataFrame from a list of tuples - each tuple becomes a row, and we use `columns` to give a name to the columns:"
   ]
  },
  {
   "cell_type": "code",
   "execution_count": null,
   "metadata": {
    "collapsed": false,
    "run_control": {
     "read_only": false
    }
   },
   "outputs": [],
   "source": [
    "DataFrame([('a', 1, 2), ('b', 2, 3)], columns=[\"alpha\", 'num1', 'num2'])"
   ]
  },
  {
   "cell_type": "markdown",
   "metadata": {},
   "source": [
    "We can pull out any required column as a Series by using the column name as a key value..."
   ]
  },
  {
   "cell_type": "code",
   "execution_count": null,
   "metadata": {
    "collapsed": false,
    "run_control": {
     "read_only": false
    }
   },
   "outputs": [],
   "source": [
    "# ... either with column name as an index value between []s...\n",
    "course_df = DataFrame(courseData)\n",
    "course_df['courseCode']"
   ]
  },
  {
   "cell_type": "code",
   "execution_count": null,
   "metadata": {
    "collapsed": false,
    "run_control": {
     "read_only": false
    }
   },
   "outputs": [],
   "source": [
    "# ... or as an attribute of the DataFrame:\n",
    "course_df.courseCode"
   ]
  },
  {
   "cell_type": "markdown",
   "metadata": {},
   "source": [
    "To pull out several columns, provide a list of the column names you want to extract as index values:"
   ]
  },
  {
   "cell_type": "code",
   "execution_count": null,
   "metadata": {
    "collapsed": false,
    "run_control": {
     "read_only": false
    }
   },
   "outputs": [],
   "source": [
    "course_df[ ['courseCode', 'level'] ]"
   ]
  },
  {
   "cell_type": "markdown",
   "metadata": {},
   "source": [
    "We can force the ordering of columns in the DataFrame by means of the *columns* variable. If a column name is specified that does not have a match in the keys of the source data dict, an 'empty' column is created with all the values set to NaN: "
   ]
  },
  {
   "cell_type": "code",
   "execution_count": null,
   "metadata": {
    "collapsed": false,
    "run_control": {
     "read_only": false
    }
   },
   "outputs": [],
   "source": [
    "course_df = DataFrame( courseData, columns=['level', 'courseCode', 'title', 'points'])\n",
    "course_df"
   ]
  },
  {
   "cell_type": "markdown",
   "metadata": {},
   "source": [
    "We can populate a column with the same value in each cell using a 'scalar' assignment:"
   ]
  },
  {
   "cell_type": "code",
   "execution_count": null,
   "metadata": {
    "collapsed": false,
    "run_control": {
     "read_only": false
    }
   },
   "outputs": [],
   "source": [
    "course_df.title = 'Unknown'\n",
    "course_df"
   ]
  },
  {
   "cell_type": "markdown",
   "metadata": {},
   "source": [
    "We can also set column values from a Series:"
   ]
  },
  {
   "cell_type": "code",
   "execution_count": null,
   "metadata": {
    "collapsed": false,
    "run_control": {
     "read_only": false
    }
   },
   "outputs": [],
   "source": [
    "course_df.title = Series(['The data course', 'The foundation course', 'The algorithms course'])\n",
    "course_df"
   ]
  },
  {
   "cell_type": "markdown",
   "metadata": {},
   "source": [
    "We can pull out the values of a column in a similar way:"
   ]
  },
  {
   "cell_type": "code",
   "execution_count": null,
   "metadata": {
    "collapsed": false,
    "run_control": {
     "read_only": false
    }
   },
   "outputs": [],
   "source": [
    "course_df.title"
   ]
  },
  {
   "cell_type": "markdown",
   "metadata": {},
   "source": [
    "One of the reasons for using a library such as *pandas* is that it offers data structures that make working with data as easy as possible.  Sometimes, this requires a little careful thinking about how best to organise the data within a DataFrame.\n",
    "\n",
    "For example, for the course information DataFrame, it may be most useful to use the course codes as the index values."
   ]
  },
  {
   "cell_type": "code",
   "execution_count": null,
   "metadata": {
    "collapsed": false,
    "run_control": {
     "read_only": false
    }
   },
   "outputs": [],
   "source": [
    "course_df = course_df.set_index('courseCode')\n",
    "course_df"
   ]
  },
  {
   "cell_type": "markdown",
   "metadata": {},
   "source": [
    "The visual presentation of this is slightly misleading - it looks as if there may be a blank row with index value `courseCode`. But the size of the transformed table is correctly shown: one of the columns in the original DataFrame has moved from being a column in its own right to being the index column."
   ]
  },
  {
   "cell_type": "markdown",
   "metadata": {},
   "source": [
    "We can pull out one or more rows by referencing the appropriate index element(s) and the columns we wish to extract:"
   ]
  },
  {
   "cell_type": "code",
   "execution_count": null,
   "metadata": {
    "collapsed": false,
    "run_control": {
     "read_only": false
    }
   },
   "outputs": [],
   "source": [
    "course_df.ix[ ['TU100', 'TM351'], ['title', 'level'] ]"
   ]
  },
  {
   "cell_type": "markdown",
   "metadata": {},
   "source": [
    "If we identify a particular column, we can use an index value to pull out the value from the correspondingly indexed row and the chosen column:"
   ]
  },
  {
   "cell_type": "code",
   "execution_count": null,
   "metadata": {
    "collapsed": false,
    "run_control": {
     "read_only": false
    }
   },
   "outputs": [],
   "source": [
    "course_df.level['TM351']"
   ]
  },
  {
   "cell_type": "code",
   "execution_count": null,
   "metadata": {
    "collapsed": false,
    "run_control": {
     "read_only": false
    }
   },
   "outputs": [],
   "source": [
    "course_df['title']['TM351']"
   ]
  },
  {
   "cell_type": "markdown",
   "metadata": {},
   "source": [
    "We can also filter the rows of a DataFrame based on the values of one or more columns. We will cover this powerful feature in more depth later in the module."
   ]
  },
  {
   "cell_type": "code",
   "execution_count": null,
   "metadata": {
    "collapsed": false,
    "run_control": {
     "read_only": false
    }
   },
   "outputs": [],
   "source": [
    "course_df[course_df.points==30]"
   ]
  },
  {
   "cell_type": "markdown",
   "metadata": {},
   "source": [
    "You may recall that passing a column name in as the DataFrame key returns a Series containing the values of the column:"
   ]
  },
  {
   "cell_type": "code",
   "execution_count": null,
   "metadata": {
    "collapsed": false,
    "run_control": {
     "read_only": false
    }
   },
   "outputs": [],
   "source": [
    "course_df['title']"
   ]
  },
  {
   "cell_type": "markdown",
   "metadata": {},
   "source": [
    "Paraphrasing the author of pandas, Wes McKinney, writing in his book _Python for Data Analysis_, '[this apparent inconsistency] in syntax arose out of practicality and nothing more'. Pragmatic programming, as you might, FTW! (FTW is slang for 'for the win', a positive exclamation in gamer culture.)"
   ]
  },
  {
   "cell_type": "markdown",
   "metadata": {},
   "source": [
    "#### Unique items in a column"
   ]
  },
  {
   "cell_type": "markdown",
   "metadata": {},
   "source": [
    "We can pull out the unique values contained within a column very easily by applying the `unique()` function to the appropriate column:"
   ]
  },
  {
   "cell_type": "code",
   "execution_count": null,
   "metadata": {
    "collapsed": false,
    "run_control": {
     "read_only": false
    }
   },
   "outputs": [],
   "source": [
    "course_df['points'].unique()"
   ]
  },
  {
   "cell_type": "markdown",
   "metadata": {},
   "source": [
    "We can easily iterate through the items:"
   ]
  },
  {
   "cell_type": "code",
   "execution_count": null,
   "metadata": {
    "collapsed": false,
    "run_control": {
     "read_only": false
    }
   },
   "outputs": [],
   "source": [
    "for item in course_df['points'].unique():\n",
    "    print(item)"
   ]
  },
  {
   "cell_type": "markdown",
   "metadata": {},
   "source": [
    "To get a list rather than an array, make use of the `tolist()` helper function:"
   ]
  },
  {
   "cell_type": "code",
   "execution_count": null,
   "metadata": {
    "collapsed": false,
    "run_control": {
     "read_only": false
    }
   },
   "outputs": [],
   "source": [
    "course_df['points'].unique().tolist()"
   ]
  },
  {
   "cell_type": "markdown",
   "metadata": {},
   "source": [
    "#### Column typing in DataFrames"
   ]
  },
  {
   "cell_type": "markdown",
   "metadata": {},
   "source": [
    "In order to perform certain operations on a column, the column needs to be correctly typed - that is, all elements need to be of a particular type.\n",
    "\n",
    "You can check the type of each column in a DataFrame using the `.dtypes` attribute:"
   ]
  },
  {
   "cell_type": "code",
   "execution_count": null,
   "metadata": {
    "collapsed": false,
    "run_control": {
     "read_only": false
    }
   },
   "outputs": [],
   "source": [
    "course_df.dtypes"
   ]
  },
  {
   "cell_type": "markdown",
   "metadata": {},
   "source": [
    "Here we see that the `level` and `title` are classed as object types, but the `points` values have been identified as integers."
   ]
  },
  {
   "cell_type": "markdown",
   "metadata": {},
   "source": [
    "## Further information"
   ]
  },
  {
   "cell_type": "markdown",
   "metadata": {},
   "source": [
    "*pandas'* Series and DataFrame objects provide several more useful, and powerful, data-manipulation methods than have been described here. You will meet many of them later in the module, as and when they are required.  Ifyou want to read some more about these core *pandas'* data structures you can find some additional information at [*pandas*: Intro to Data Structures](http://pandas.pydata.org/pandas-docs/stable/dsintro.html)\n",
    "\n",
    "If you would like to learn about *pandas* in more depth, a copy of the book written by pandas' original developer, Wes McKinney, is available as an ebook via the OU Library: [Python for Data Analysis](http://proquestcombo.safaribooksonline.com.libezproxy.open.ac.uk/book/programming/python/9781449323592)"
   ]
  },
  {
   "cell_type": "markdown",
   "metadata": {},
   "source": [
    "## What next?"
   ]
  },
  {
   "cell_type": "markdown",
   "metadata": {},
   "source": [
    "Having hopefully got to grips with the *pandas'* very powerful tabular DataFrame representation, you now need to start filling them with data. \n",
    "\n",
    "If you are working through this Notebook as part of an inline exercise, return to the module materials now.\n",
    "\n",
    "If you are working through this set of Notebooks as a whole, move to the Notebook `02.2 Data file formats` to learn how to open files and parse their data contents into a *pandas* DataFrame."
   ]
  }
 ],
 "metadata": {
  "kernelspec": {
   "display_name": "Python 3",
   "language": "python",
   "name": "python3"
  },
  "language_info": {
   "codemirror_mode": {
    "name": "ipython",
    "version": 3
   },
   "file_extension": ".py",
   "mimetype": "text/x-python",
   "name": "python",
   "nbconvert_exporter": "python",
   "pygments_lexer": "ipython3",
   "version": "3.4.3"
  }
 },
 "nbformat": 4,
 "nbformat_minor": 0
}
