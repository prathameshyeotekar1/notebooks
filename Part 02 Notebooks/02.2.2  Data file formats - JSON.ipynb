{
 "cells": [
  {
   "cell_type": "markdown",
   "metadata": {},
   "source": [
    "## JSON files"
   ]
  },
  {
   "cell_type": "code",
   "execution_count": 1,
   "metadata": {
    "collapsed": false,
    "run_control": {
     "read_only": false
    }
   },
   "outputs": [],
   "source": [
    "# We'll load a couple of libraries that we'll be using in this Notebook.\n",
    "# 'requests' is an HTTP library - it allows us to get data from a URL address\n",
    "import requests\n",
    "import json\n",
    "import pandas as pd"
   ]
  },
  {
   "cell_type": "markdown",
   "metadata": {},
   "source": [
    "## Using the JSON library\n",
    "The Python `json` library provides a method, `json.loads()`, for parsing a string containing JSON data, that has been read in from a file via a web address, and converting it to a `dict`."
   ]
  },
  {
   "cell_type": "code",
   "execution_count": 2,
   "metadata": {
    "collapsed": false,
    "run_control": {
     "read_only": false
    }
   },
   "outputs": [
    {
     "data": {
      "text/plain": [
       "b'{\"result\":[{\"id\":\"http:\\\\/\\\\/data.ordnancesurvey.co.uk\\\\/id\\\\/postcodesector\\\\/MK76\",\"name\":\"MK7 6\",\"score\":1,\"match\":true,\"type\":[\"http:\\\\/\\\\/data.ordnancesurvey.co.uk\\\\/ontology\\\\/postcode\\\\/PostcodeSector\"]},{\"id\":\"http:\\\\/\\\\/data.ordnancesurvey.co.uk\\\\/id\\\\/postcodesector\\\\/MK77\",\"name\":\"MK7 7\",\"score\":1,\"match\":false,\"type\":[\"http:\\\\/\\\\/data.ordnancesurvey.co.uk\\\\/ontology\\\\/postcode\\\\/PostcodeSector\"]},{\"id\":\"http:\\\\/\\\\/data.ordnancesurvey.co.uk\\\\/id\\\\/postcodesector\\\\/MK78\",\"name\":\"MK7 8\",\"score\":1,\"match\":false,\"type\":[\"http:\\\\/\\\\/data.ordnancesurvey.co.uk\\\\/ontology\\\\/postcode\\\\/PostcodeSector\"]}]}'"
      ]
     },
     "execution_count": 2,
     "metadata": {},
     "output_type": "execute_result"
    }
   ],
   "source": [
    "# We start by getting the data from the web address - we can inspect its content directly.\n",
    "# This is data from the Ordanance Survey datasets.\n",
    "url = 'http://data.ordnancesurvey.co.uk/datasets/os-linked-data/apis/reconciliation?query=MK7&type=http%3A%2F%2Fdata.ordnancesurvey.co.uk%2Fontology%2Fpostcode%2FPostcodeSector&type_strict=any&limit=10'\n",
    "resp = requests.get(url)\n",
    "resp.content"
   ]
  },
  {
   "cell_type": "markdown",
   "metadata": {},
   "source": [
    "Sometimes we need to decode the data that is returned.\n",
    "\n",
    "If the response is preceded by a `b'`, as above, then we need to convert from *bytes* to a string representation by *decoding* the response."
   ]
  },
  {
   "cell_type": "code",
   "execution_count": 3,
   "metadata": {
    "collapsed": false,
    "run_control": {
     "read_only": false
    }
   },
   "outputs": [
    {
     "data": {
      "text/plain": [
       "{'result': [{'id': 'http://data.ordnancesurvey.co.uk/id/postcodesector/MK76',\n",
       "   'match': True,\n",
       "   'name': 'MK7 6',\n",
       "   'score': 1,\n",
       "   'type': ['http://data.ordnancesurvey.co.uk/ontology/postcode/PostcodeSector']},\n",
       "  {'id': 'http://data.ordnancesurvey.co.uk/id/postcodesector/MK77',\n",
       "   'match': False,\n",
       "   'name': 'MK7 7',\n",
       "   'score': 1,\n",
       "   'type': ['http://data.ordnancesurvey.co.uk/ontology/postcode/PostcodeSector']},\n",
       "  {'id': 'http://data.ordnancesurvey.co.uk/id/postcodesector/MK78',\n",
       "   'match': False,\n",
       "   'name': 'MK7 8',\n",
       "   'score': 1,\n",
       "   'type': ['http://data.ordnancesurvey.co.uk/ontology/postcode/PostcodeSector']}]}"
      ]
     },
     "execution_count": 3,
     "metadata": {},
     "output_type": "execute_result"
    }
   ],
   "source": [
    "data = json.loads(resp.content.decode('UTF8'))\n",
    "data"
   ]
  },
  {
   "cell_type": "markdown",
   "metadata": {},
   "source": [
    "The json library is quite short; additional documentation can be found at http://docs.python-guide.org/en/latest/scenarios/json/"
   ]
  },
  {
   "cell_type": "markdown",
   "metadata": {},
   "source": [
    "## *pandas* can handle JSON too"
   ]
  },
  {
   "cell_type": "markdown",
   "metadata": {},
   "source": [
    "The *pandas* `io.json` library has the `read_json()` function - it too reads from a web address."
   ]
  },
  {
   "cell_type": "code",
   "execution_count": 4,
   "metadata": {
    "collapsed": false,
    "run_control": {
     "read_only": false
    }
   },
   "outputs": [
    {
     "data": {
      "text/html": [
       "<div>\n",
       "<table border=\"1\" class=\"dataframe\">\n",
       "  <thead>\n",
       "    <tr style=\"text-align: right;\">\n",
       "      <th></th>\n",
       "      <th>result</th>\n",
       "    </tr>\n",
       "  </thead>\n",
       "  <tbody>\n",
       "    <tr>\n",
       "      <th>0</th>\n",
       "      <td>{'type': ['http://data.ordnancesurvey.co.uk/on...</td>\n",
       "    </tr>\n",
       "    <tr>\n",
       "      <th>1</th>\n",
       "      <td>{'type': ['http://data.ordnancesurvey.co.uk/on...</td>\n",
       "    </tr>\n",
       "    <tr>\n",
       "      <th>2</th>\n",
       "      <td>{'type': ['http://data.ordnancesurvey.co.uk/on...</td>\n",
       "    </tr>\n",
       "  </tbody>\n",
       "</table>\n",
       "</div>"
      ],
      "text/plain": [
       "                                              result\n",
       "0  {'type': ['http://data.ordnancesurvey.co.uk/on...\n",
       "1  {'type': ['http://data.ordnancesurvey.co.uk/on...\n",
       "2  {'type': ['http://data.ordnancesurvey.co.uk/on..."
      ]
     },
     "execution_count": 4,
     "metadata": {},
     "output_type": "execute_result"
    }
   ],
   "source": [
    "# The pandas function seems to handle the decoding seemlessly.\n",
    "# Can you see how the JSON data structure is mapped on to the shape of the resulting DataFrame?\n",
    "pd.io.json.read_json(url)"
   ]
  },
  {
   "cell_type": "markdown",
   "metadata": {},
   "source": [
    "We can then convert the resulting DataFrame (structured as a dict in each row, in case you hadn't spotted it) into a more regular DataFrame format."
   ]
  },
  {
   "cell_type": "code",
   "execution_count": 6,
   "metadata": {
    "collapsed": false,
    "run_control": {
     "read_only": false
    }
   },
   "outputs": [
    {
     "data": {
      "text/html": [
       "<div>\n",
       "<table border=\"1\" class=\"dataframe\">\n",
       "  <thead>\n",
       "    <tr style=\"text-align: right;\">\n",
       "      <th></th>\n",
       "      <th>id</th>\n",
       "      <th>match</th>\n",
       "      <th>name</th>\n",
       "      <th>score</th>\n",
       "      <th>type</th>\n",
       "    </tr>\n",
       "  </thead>\n",
       "  <tbody>\n",
       "    <tr>\n",
       "      <th>0</th>\n",
       "      <td>http://data.ordnancesurvey.co.uk/id/postcodese...</td>\n",
       "      <td>True</td>\n",
       "      <td>MK7 6</td>\n",
       "      <td>1</td>\n",
       "      <td>http://data.ordnancesurvey.co.uk/ontology/post...</td>\n",
       "    </tr>\n",
       "    <tr>\n",
       "      <th>0</th>\n",
       "      <td>http://data.ordnancesurvey.co.uk/id/postcodese...</td>\n",
       "      <td>False</td>\n",
       "      <td>MK7 7</td>\n",
       "      <td>1</td>\n",
       "      <td>http://data.ordnancesurvey.co.uk/ontology/post...</td>\n",
       "    </tr>\n",
       "    <tr>\n",
       "      <th>0</th>\n",
       "      <td>http://data.ordnancesurvey.co.uk/id/postcodese...</td>\n",
       "      <td>False</td>\n",
       "      <td>MK7 8</td>\n",
       "      <td>1</td>\n",
       "      <td>http://data.ordnancesurvey.co.uk/ontology/post...</td>\n",
       "    </tr>\n",
       "  </tbody>\n",
       "</table>\n",
       "</div>"
      ],
      "text/plain": [
       "                                                  id  match   name  score  \\\n",
       "0  http://data.ordnancesurvey.co.uk/id/postcodese...   True  MK7 6      1   \n",
       "0  http://data.ordnancesurvey.co.uk/id/postcodese...  False  MK7 7      1   \n",
       "0  http://data.ordnancesurvey.co.uk/id/postcodese...  False  MK7 8      1   \n",
       "\n",
       "                                                type  \n",
       "0  http://data.ordnancesurvey.co.uk/ontology/post...  \n",
       "0  http://data.ordnancesurvey.co.uk/ontology/post...  \n",
       "0  http://data.ordnancesurvey.co.uk/ontology/post...  "
      ]
     },
     "execution_count": 6,
     "metadata": {},
     "output_type": "execute_result"
    }
   ],
   "source": [
    "# Here's one way of converting that DataFrame, \n",
    "#     with a dict generated from the JSON in each row, to a DataFrame.\n",
    "d = pd.io.json.read_json(url)\n",
    "# Create a list to handle the DataFrame generated by each row.\n",
    "dfl=[]\n",
    "for row in d['result']:\n",
    "    # Convert the dict in each row to a DataFrame.\n",
    "    dfl.append(pd.DataFrame.from_dict(row))\n",
    "# Concatenate all the DataFrames:\n",
    "pd.concat(dfl)"
   ]
  },
  {
   "cell_type": "markdown",
   "metadata": {},
   "source": [
    "Alternatively, we can use the json library `json_loads()` output with the *pandas* `json_normalise()` function."
   ]
  },
  {
   "cell_type": "code",
   "execution_count": 10,
   "metadata": {
    "collapsed": false,
    "run_control": {
     "read_only": false
    }
   },
   "outputs": [
    {
     "ename": "KeyError",
     "evalue": "'result'",
     "output_type": "error",
     "traceback": [
      "\u001b[1;31m---------------------------------------------------------------------------\u001b[0m",
      "\u001b[1;31mKeyError\u001b[0m                                  Traceback (most recent call last)",
      "\u001b[1;32m<ipython-input-10-72bacef6106e>\u001b[0m in \u001b[0;36m<module>\u001b[1;34m()\u001b[0m\n\u001b[0;32m      1\u001b[0m \u001b[1;31m# There is a handy pandas io function that can help us normalise this data:\u001b[0m\u001b[1;33m\u001b[0m\u001b[1;33m\u001b[0m\u001b[0m\n\u001b[0;32m      2\u001b[0m \u001b[1;32mfrom\u001b[0m \u001b[0mpandas\u001b[0m\u001b[1;33m.\u001b[0m\u001b[0mio\u001b[0m\u001b[1;33m.\u001b[0m\u001b[0mjson\u001b[0m \u001b[1;32mimport\u001b[0m \u001b[0mjson_normalize\u001b[0m\u001b[1;33m\u001b[0m\u001b[0m\n\u001b[1;32m----> 3\u001b[1;33m \u001b[0mjson_normalize\u001b[0m\u001b[1;33m(\u001b[0m\u001b[0mdata\u001b[0m\u001b[1;33m[\u001b[0m\u001b[1;34m'result'\u001b[0m\u001b[1;33m]\u001b[0m\u001b[1;33m)\u001b[0m\u001b[1;33m\u001b[0m\u001b[0m\n\u001b[0m",
      "\u001b[1;31mKeyError\u001b[0m: 'result'"
     ]
    }
   ],
   "source": [
    "# There is a handy pandas io function that can help us normalise this data:\n",
    "from pandas.io.json import json_normalize\n",
    "json_normalize(data['result'])"
   ]
  },
  {
   "cell_type": "code",
   "execution_count": 9,
   "metadata": {
    "collapsed": false,
    "run_control": {
     "read_only": false
    }
   },
   "outputs": [
    {
     "data": {
      "text/plain": [
       "{'programme': {'categories': [{'broader': {'category': {'broader': {},\n",
       "      'has_topic_page': False,\n",
       "      'id': 'C00045',\n",
       "      'key': 'factual',\n",
       "      'sameAs': None,\n",
       "      'title': 'Factual',\n",
       "      'type': 'genre'}},\n",
       "    'has_topic_page': False,\n",
       "    'id': 'C00064',\n",
       "    'key': 'scienceandnature',\n",
       "    'narrower': [],\n",
       "    'sameAs': None,\n",
       "    'title': 'Science & Nature',\n",
       "    'type': 'genre'},\n",
       "   {'broader': {},\n",
       "    'has_topic_page': False,\n",
       "    'id': 'PT009',\n",
       "    'key': 'magazinesandreviews',\n",
       "    'narrower': [],\n",
       "    'sameAs': None,\n",
       "    'title': 'Magazines & Reviews',\n",
       "    'type': 'format'}],\n",
       "  'display_title': {'subtitle': 'Privacy or Freedom of Speech?',\n",
       "   'title': 'Click'},\n",
       "  'expected_child_count': None,\n",
       "  'first_broadcast_date': '2014-06-03T19:32:30+01:00',\n",
       "  'image': {'pid': 'p02090my'},\n",
       "  'links': [{'title': 'BBC News: Google: Who would want the right to be forgotten?',\n",
       "    'type': 'related_site',\n",
       "    'url': 'http://www.bbc.co.uk/news/magazine-27396981'},\n",
       "   {'title': 'Professor Luciano Floridi',\n",
       "    'type': 'related_site',\n",
       "    'url': 'http://www.oii.ox.ac.uk/people/?id=327'},\n",
       "   {'title': 'Hack In The Box Amsterdam 2014 ',\n",
       "    'type': 'related_site',\n",
       "    'url': 'http://haxpo.nl/hitb2014ams-conference/'},\n",
       "   {'title': 'BBC News: Microsoft translation system to help more use Welsh',\n",
       "    'type': 'related_site',\n",
       "    'url': 'http://www.bbc.co.uk/news/uk-wales-26287296'}],\n",
       "  'long_synopsis': \"The case of Mario Costeja Gonzalez, a Spaniard whose home was put up for auction 16 years ago because he was suffering financial difficulties, has just led to a ruling in the Court of Justice of the European Union forcing search engines to remove certain links from search results. Mr Gonzalez's request to have the details of his past deleted has led to a debate about the balance between the right to privacy and freedom of speech. Google has set up an expert committee to discuss how to deal with this thorny issue. Luciano Floridi, professor of Philosophy and Ethics of Information at the Oxford Internet Institute in England discusses how the committee should find a solution.  \\r\\n\\r\\nHack in the Box\\r\\nSecurity experts and hackers converged on Amsterdam in the Netherlands this week for the Hack in the Box event. Reporter Jonathan Kent talks to Gareth Mitchell about the event and discusses recent security attacks, like that of eBay recently, in which millions of people have had their personal details compromised and also a bug called Heartbleed which compromised the SSL protocol for transmitting private information across the internet. \\r\\n\\r\\nMachine Translating Welsh \\r\\nThe Welsh Assembly has been working with Microsoft to use machine translation to produce official documents simultaneously in Welsh and English. It is keen to encourage the use of Welsh which is currently spoken by 20% of the population. Gareth meets the translation team in Cardiff. \\r\\n\\r\\n(Photo: A man surfs the internet © AFP/Getty)\",\n",
       "  'media_type': 'audio',\n",
       "  'medium_synopsis': \"The Court of Justice of the European Union ruling on the 'right to be forgotten' online. Plus, security event Hack in the Box, and Welsh language now available on Microsoft's Bing.\",\n",
       "  'ownership': {'service': {'id': 'bbc_world_service',\n",
       "    'key': 'worldserviceradio',\n",
       "    'title': 'BBC World Service',\n",
       "    'type': 'radio'}},\n",
       "  'parent': {'programme': {'expected_child_count': None,\n",
       "    'first_broadcast_date': '2008-05-13T10:32:30+01:00',\n",
       "    'image': {'pid': 'p00zv8nc'},\n",
       "    'ownership': {'service': {'id': 'bbc_world_service',\n",
       "      'key': 'worldserviceradio',\n",
       "      'title': 'BBC World Service',\n",
       "      'type': 'radio'}},\n",
       "    'pid': 'p002w6r2',\n",
       "    'position': None,\n",
       "    'short_synopsis': 'Technological and digital news from around the world.',\n",
       "    'title': 'Click',\n",
       "    'type': 'brand'}},\n",
       "  'peers': {'next': {'first_broadcast_date': '2014-06-10T19:32:30+01:00',\n",
       "    'media_type': 'audio',\n",
       "    'pid': 'p0207qt1',\n",
       "    'position': None,\n",
       "    'title': 'Goal-line Technology',\n",
       "    'type': 'episode'},\n",
       "   'previous': {'first_broadcast_date': '2014-05-27T19:32:30+01:00',\n",
       "    'media_type': 'audio',\n",
       "    'pid': 'p01zdr24',\n",
       "    'position': None,\n",
       "    'title': 'TV White Space in Ghana',\n",
       "    'type': 'episode'}},\n",
       "  'pid': 'p01ztvcp',\n",
       "  'position': None,\n",
       "  'short_synopsis': \"The Court of Justice of the European Union ruling on the 'right to be forgotten' online\",\n",
       "  'supporting_content_items': [],\n",
       "  'title': 'Privacy or Freedom of Speech?',\n",
       "  'type': 'episode',\n",
       "  'versions': [{'canonical': 1,\n",
       "    'duration': 1710,\n",
       "    'pid': 'p01ztvfq',\n",
       "    'types': ['Original version']}]}}"
      ]
     },
     "execution_count": 9,
     "metadata": {},
     "output_type": "execute_result"
    }
   ],
   "source": [
    "# Let's have a look at the JSON from a BBC programme episode page \n",
    "#   such as http://www.bbc.co.uk/programmes/p01ztvcp.\n",
    "# NOTE- The ability to access this data directly may be removed at some future date. \n",
    "# The BBC is moving to the NITRO API http://developer.bbc.co.uk/content/nitro-quickstart\n",
    "#    when that happens, access to the content will require registering as a developer.\n",
    "\n",
    "url = 'http://www.bbc.co.uk/programmes/p01ztvcp.json'\n",
    "resp = requests.get(url)\n",
    "data = json.loads(resp.content.decode('utf8'))\n",
    "data"
   ]
  },
  {
   "cell_type": "code",
   "execution_count": 11,
   "metadata": {
    "collapsed": false,
    "run_control": {
     "read_only": false
    }
   },
   "outputs": [
    {
     "data": {
      "text/html": [
       "<div>\n",
       "<table border=\"1\" class=\"dataframe\">\n",
       "  <thead>\n",
       "    <tr style=\"text-align: right;\">\n",
       "      <th></th>\n",
       "      <th>programme</th>\n",
       "    </tr>\n",
       "  </thead>\n",
       "  <tbody>\n",
       "    <tr>\n",
       "      <th>categories</th>\n",
       "      <td>[{'sameAs': None, 'narrower': [], 'key': 'scie...</td>\n",
       "    </tr>\n",
       "    <tr>\n",
       "      <th>display_title</th>\n",
       "      <td>{'subtitle': 'Privacy or Freedom of Speech?', ...</td>\n",
       "    </tr>\n",
       "    <tr>\n",
       "      <th>expected_child_count</th>\n",
       "      <td>None</td>\n",
       "    </tr>\n",
       "    <tr>\n",
       "      <th>first_broadcast_date</th>\n",
       "      <td>2014-06-03T19:32:30+01:00</td>\n",
       "    </tr>\n",
       "    <tr>\n",
       "      <th>image</th>\n",
       "      <td>{'pid': 'p02090my'}</td>\n",
       "    </tr>\n",
       "    <tr>\n",
       "      <th>links</th>\n",
       "      <td>[{'url': 'http://www.bbc.co.uk/news/magazine-2...</td>\n",
       "    </tr>\n",
       "    <tr>\n",
       "      <th>long_synopsis</th>\n",
       "      <td>The case of Mario Costeja Gonzalez, a Spaniard...</td>\n",
       "    </tr>\n",
       "    <tr>\n",
       "      <th>media_type</th>\n",
       "      <td>audio</td>\n",
       "    </tr>\n",
       "    <tr>\n",
       "      <th>medium_synopsis</th>\n",
       "      <td>The Court of Justice of the European Union rul...</td>\n",
       "    </tr>\n",
       "    <tr>\n",
       "      <th>ownership</th>\n",
       "      <td>{'service': {'key': 'worldserviceradio', 'id':...</td>\n",
       "    </tr>\n",
       "    <tr>\n",
       "      <th>parent</th>\n",
       "      <td>{'programme': {'expected_child_count': None, '...</td>\n",
       "    </tr>\n",
       "    <tr>\n",
       "      <th>peers</th>\n",
       "      <td>{'next': {'media_type': 'audio', 'first_broadc...</td>\n",
       "    </tr>\n",
       "    <tr>\n",
       "      <th>pid</th>\n",
       "      <td>p01ztvcp</td>\n",
       "    </tr>\n",
       "    <tr>\n",
       "      <th>position</th>\n",
       "      <td>None</td>\n",
       "    </tr>\n",
       "    <tr>\n",
       "      <th>short_synopsis</th>\n",
       "      <td>The Court of Justice of the European Union rul...</td>\n",
       "    </tr>\n",
       "    <tr>\n",
       "      <th>supporting_content_items</th>\n",
       "      <td>[]</td>\n",
       "    </tr>\n",
       "    <tr>\n",
       "      <th>title</th>\n",
       "      <td>Privacy or Freedom of Speech?</td>\n",
       "    </tr>\n",
       "    <tr>\n",
       "      <th>type</th>\n",
       "      <td>episode</td>\n",
       "    </tr>\n",
       "    <tr>\n",
       "      <th>versions</th>\n",
       "      <td>[{'canonical': 1, 'pid': 'p01ztvfq', 'duration...</td>\n",
       "    </tr>\n",
       "  </tbody>\n",
       "</table>\n",
       "</div>"
      ],
      "text/plain": [
       "                                                                  programme\n",
       "categories                [{'sameAs': None, 'narrower': [], 'key': 'scie...\n",
       "display_title             {'subtitle': 'Privacy or Freedom of Speech?', ...\n",
       "expected_child_count                                                   None\n",
       "first_broadcast_date                              2014-06-03T19:32:30+01:00\n",
       "image                                                   {'pid': 'p02090my'}\n",
       "links                     [{'url': 'http://www.bbc.co.uk/news/magazine-2...\n",
       "long_synopsis             The case of Mario Costeja Gonzalez, a Spaniard...\n",
       "media_type                                                            audio\n",
       "medium_synopsis           The Court of Justice of the European Union rul...\n",
       "ownership                 {'service': {'key': 'worldserviceradio', 'id':...\n",
       "parent                    {'programme': {'expected_child_count': None, '...\n",
       "peers                     {'next': {'media_type': 'audio', 'first_broadc...\n",
       "pid                                                                p01ztvcp\n",
       "position                                                               None\n",
       "short_synopsis            The Court of Justice of the European Union rul...\n",
       "supporting_content_items                                                 []\n",
       "title                                         Privacy or Freedom of Speech?\n",
       "type                                                                episode\n",
       "versions                  [{'canonical': 1, 'pid': 'p01ztvfq', 'duration..."
      ]
     },
     "execution_count": 11,
     "metadata": {},
     "output_type": "execute_result"
    }
   ],
   "source": [
    "# As seen before, the read_json() function can read and parse this data directly.\n",
    "# But, the above is a nested structure.\n",
    "# Can you predict what sort of shape the resulting DataFrame is likely to take?\n",
    "tmp = pd.io.json.read_json('http://www.bbc.co.uk/programmes/p01ztvcp.json')\n",
    "tmp"
   ]
  },
  {
   "cell_type": "markdown",
   "metadata": {},
   "source": [
    "Not every JSON structure will map easily to a tablular form.  The structure above has several levels of nesting, but there are a few items at the top level that you can pull out.\n",
    "\n",
    "For deeply nested data structures that do not have a natural tabular representation, it probably makes sense to parse them using 'standard' Python methods - handling each row individually, or grouping commonly structured rows together. "
   ]
  },
  {
   "cell_type": "code",
   "execution_count": 12,
   "metadata": {
    "collapsed": false,
    "run_control": {
     "read_only": false
    }
   },
   "outputs": [
    {
     "data": {
      "text/html": [
       "<div>\n",
       "<table border=\"1\" class=\"dataframe\">\n",
       "  <thead>\n",
       "    <tr style=\"text-align: right;\">\n",
       "      <th></th>\n",
       "      <th>programme</th>\n",
       "    </tr>\n",
       "  </thead>\n",
       "  <tbody>\n",
       "    <tr>\n",
       "      <th>pid</th>\n",
       "      <td>p01ztvcp</td>\n",
       "    </tr>\n",
       "    <tr>\n",
       "      <th>title</th>\n",
       "      <td>Privacy or Freedom of Speech?</td>\n",
       "    </tr>\n",
       "    <tr>\n",
       "      <th>short_synopsis</th>\n",
       "      <td>The Court of Justice of the European Union rul...</td>\n",
       "    </tr>\n",
       "    <tr>\n",
       "      <th>long_synopsis</th>\n",
       "      <td>The case of Mario Costeja Gonzalez, a Spaniard...</td>\n",
       "    </tr>\n",
       "    <tr>\n",
       "      <th>first_broadcast_date</th>\n",
       "      <td>2014-06-03T19:32:30+01:00</td>\n",
       "    </tr>\n",
       "  </tbody>\n",
       "</table>\n",
       "</div>"
      ],
      "text/plain": [
       "                                                              programme\n",
       "pid                                                            p01ztvcp\n",
       "title                                     Privacy or Freedom of Speech?\n",
       "short_synopsis        The Court of Justice of the European Union rul...\n",
       "long_synopsis         The case of Mario Costeja Gonzalez, a Spaniard...\n",
       "first_broadcast_date                          2014-06-03T19:32:30+01:00"
      ]
     },
     "execution_count": 12,
     "metadata": {},
     "output_type": "execute_result"
    }
   ],
   "source": [
    "# For example, we can select particular rows by index value:\n",
    "rows = ['pid', 'title', 'short_synopsis', 'long_synopsis', 'first_broadcast_date']\n",
    "pd.io.json.read_json('http://www.bbc.co.uk/programmes/p01ztvcp.json').ix[rows]"
   ]
  },
  {
   "cell_type": "markdown",
   "metadata": {},
   "source": [
    "There is some degree of control over the way in which the *pandas* `read_json()` function can parse imported data.\n",
    "\n",
    "See the [pandas.io.json.read_json](http://pandas.pydata.org/pandas-docs/dev/generated/pandas.io.json.read_json.html) documentation for more information (particularly the `orient` parameter). The documentation also describes parameters for enabling automatic data conversions, where possible."
   ]
  },
  {
   "cell_type": "markdown",
   "metadata": {},
   "source": [
    "### Writing DataFrames to JSON files"
   ]
  },
  {
   "cell_type": "markdown",
   "metadata": {},
   "source": [
    "We can write a DataFrame to a JSON file using the `to_json()` method."
   ]
  },
  {
   "cell_type": "code",
   "execution_count": 16,
   "metadata": {
    "collapsed": false,
    "run_control": {
     "read_only": false
    }
   },
   "outputs": [
    {
     "name": "stdout",
     "output_type": "stream",
     "text": [
      "{\"programme\":{\"categories\":[{\"sameAs\":null,\"narrower\":[],\"key\":\"scienceandnature\",\"has_topic_page\":false,\"id\":\"C00064\",\"title\":\"Science & Nature\",\"broader\":{\"category\":{\"sameAs\":null,\"id\":\"C00045\",\"key\":\"factual\",\"has_topic_page\":false,\"title\":\"Factual\",\"broader\":{},\"type\":\"genre\"}},\"type\":\"genre\"},{\"sameAs\":null,\"narrower\":[],\"key\":\"magazinesandreviews\",\"has_topic_page\":false,\"id\":\"PT009\",\"title\":\"Magazines & Reviews\",\"broader\":{},\"type\":\"format\"}],\"display_title\":{\"subtitle\":\"Privacy or Freedom of Speech?\",\"title\":\"Click\"},\"expected_child_count\":null,\"first_broadcast_date\":\"2014-06-03T19:32:30+01:00\",\"image\":{\"pid\":\"p02090my\"},\"links\":[{\"url\":\"http:\\/\\/www.bbc.co.uk\\/news\\/magazine-27396981\",\"title\":\"BBC News: Google: Who would want the right to be forgotten?\",\"type\":\"related_site\"},{\"url\":\"http:\\/\\/www.oii.ox.ac.uk\\/people\\/?id=327\",\"title\":\"Professor Luciano Floridi\",\"type\":\"related_site\"},{\"url\":\"http:\\/\\/haxpo.nl\\/hitb2014ams-conference\\/\",\"title\":\"Hack In The Box Amsterdam 2014 \",\"type\":\"related_site\"},{\"url\":\"http:\\/\\/www.bbc.co.uk\\/news\\/uk-wales-26287296\",\"title\":\"BBC News: Microsoft translation system to help more use Welsh\",\"type\":\"related_site\"}],\"long_synopsis\":\"The case of Mario Costeja Gonzalez, a Spaniard whose home was put up for auction 16 years ago because he was suffering financial difficulties, has just led to a ruling in the Court of Justice of the European Union forcing search engines to remove certain links from search results. Mr Gonzalez's request to have the details of his past deleted has led to a debate about the balance between the right to privacy and freedom of speech. Google has set up an expert committee to discuss how to deal with this thorny issue. Luciano Floridi, professor of Philosophy and Ethics of Information at the Oxford Internet Institute in England discusses how the committee should find a solution.  \\r\\n\\r\\nHack in the Box\\r\\nSecurity experts and hackers converged on Amsterdam in the Netherlands this week for the Hack in the Box event. Reporter Jonathan Kent talks to Gareth Mitchell about the event and discusses recent security attacks, like that of eBay recently, in which millions of people have had their personal details compromised and also a bug called Heartbleed which compromised the SSL protocol for transmitting private information across the internet. \\r\\n\\r\\nMachine Translating Welsh \\r\\nThe Welsh Assembly has been working with Microsoft to use machine translation to produce official documents simultaneously in Welsh and English. It is keen to encourage the use of Welsh which is currently spoken by 20% of the population. Gareth meets the translation team in Cardiff. \\r\\n\\r\\n(Photo: A man surfs the internet \\u00a9 AFP\\/Getty)\",\"media_type\":\"audio\",\"medium_synopsis\":\"The Court of Justice of the European Union ruling on the 'right to be forgotten' online. Plus, security event Hack in the Box, and Welsh language now available on Microsoft's Bing.\",\"ownership\":{\"service\":{\"key\":\"worldserviceradio\",\"id\":\"bbc_world_service\",\"title\":\"BBC World Service\",\"type\":\"radio\"}},\"parent\":{\"programme\":{\"expected_child_count\":null,\"short_synopsis\":\"Technological and digital news from around the world.\",\"image\":{\"pid\":\"p00zv8nc\"},\"first_broadcast_date\":\"2008-05-13T10:32:30+01:00\",\"pid\":\"p002w6r2\",\"position\":null,\"title\":\"Click\",\"ownership\":{\"service\":{\"key\":\"worldserviceradio\",\"id\":\"bbc_world_service\",\"title\":\"BBC World Service\",\"type\":\"radio\"}},\"type\":\"brand\"}},\"peers\":{\"next\":{\"media_type\":\"audio\",\"first_broadcast_date\":\"2014-06-10T19:32:30+01:00\",\"pid\":\"p0207qt1\",\"position\":null,\"title\":\"Goal-line Technology\",\"type\":\"episode\"},\"previous\":{\"media_type\":\"audio\",\"first_broadcast_date\":\"2014-05-27T19:32:30+01:00\",\"pid\":\"p01zdr24\",\"position\":null,\"title\":\"TV White Space in Ghana\",\"type\":\"episode\"}},\"pid\":\"p01ztvcp\",\"position\":null,\"short_synopsis\":\"The Court of Justice of the European Union ruling on the 'right to be forgotten' online\",\"supporting_content_items\":[],\"title\":\"Privacy or Freedom of Speech?\",\"type\":\"episode\",\"versions\":[{\"canonical\":1,\"pid\":\"p01ztvfq\",\"duration\":1710,\"types\":[\"Original version\"]}]}}"
     ]
    }
   ],
   "source": [
    "tmp\n",
    "tmp.to_json('data/tmp.json')\n",
    "!head data/tmp.json"
   ]
  },
  {
   "cell_type": "markdown",
   "metadata": {},
   "source": [
    "See the *pandas* documentation for more details: [pandas.DataFrame.to_json](http://pandas.pydata.org/pandas-docs/stable/generated/pandas.DataFrame.to_json.html)."
   ]
  },
  {
   "cell_type": "markdown",
   "metadata": {},
   "source": [
    "## Summary\n",
    "In this Notebook you have seen how to:\n",
    "1.  read JSON data using the `json.loads()` function\n",
    "2.  parse JSON data using *pandas*\n",
    "3.  use *pandas* to parse and manipulate JSON data\n",
    "4.  write data in a DataFrame to a JSON file."
   ]
  },
  {
   "cell_type": "markdown",
   "metadata": {},
   "source": [
    "## What next?"
   ]
  },
  {
   "cell_type": "markdown",
   "metadata": {},
   "source": [
    "If you are working through this Notebook as part of an inline exercise, return to the module materials now.\n",
    "\n",
    "If you are working through this set of Notebooks as a whole, move on to look at `02.2.3 Data file formats - other`. "
   ]
  }
 ],
 "metadata": {
  "kernelspec": {
   "display_name": "Python 3",
   "language": "python",
   "name": "python3"
  },
  "language_info": {
   "codemirror_mode": {
    "name": "ipython",
    "version": 3
   },
   "file_extension": ".py",
   "mimetype": "text/x-python",
   "name": "python",
   "nbconvert_exporter": "python",
   "pygments_lexer": "ipython3",
   "version": "3.4.3"
  }
 },
 "nbformat": 4,
 "nbformat_minor": 0
}
