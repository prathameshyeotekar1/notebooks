{
 "cells": [
  {
   "cell_type": "markdown",
   "metadata": {
    "activity": "activity",
    "collapsed": true
   },
   "source": [
    "\n",
    "# Exploring some data with grouping, cross tabs and pivot tables\n",
    "## Solution Notebook\n",
    "This is a set of worked solutions to the exercise at the end of the `04.5 Split-apply-combine with SQL and pandas` Notebook. \n",
    "\n",
    "Remember there will be several different ways of achieving the required results - but the results should be the same given the same salesbook dataset.\n",
    "\n",
    "\n",
    "## The exercise starts with\n",
    "In the `data` folder there is a `salesbook.csv` file.  \n",
    "\n",
    "It's a fairly boring sales ledger showing for each date (watch the format!) the location of the sales team member, the sales person's name, their sales team, and what was sold (how many and at what unit price).\n"
   ]
  },
  {
   "cell_type": "code",
   "execution_count": null,
   "metadata": {
    "collapsed": true,
    "run_control": {
     "read_only": false
    }
   },
   "outputs": [],
   "source": [
    "import pandas as pd\n",
    "import matplotlib.pyplot as plt"
   ]
  },
  {
   "cell_type": "code",
   "execution_count": null,
   "metadata": {
    "collapsed": false,
    "run_control": {
     "read_only": false
    }
   },
   "outputs": [],
   "source": [
    "!ls data"
   ]
  },
  {
   "cell_type": "markdown",
   "metadata": {},
   "source": [
    "## Your tasks \n",
    "\n",
    "Load the DataFrame from the `CSV` file.\n",
    "\n",
    "You might want to clean up the data a bit. One suggestion is to split the month/day/year, or create functions to do it. (All sales are in 2015 so we could drop that info and we're not interested in the day of the month of the sale, but we are going to be interested in monthly sales - so we want to retain the month values.)\n",
    "\n",
    "You might also want to add a sale amount column (units \\* item cost) to save recalculating each time it's required, as we will be using this value later.\n",
    "\n",
    "Given the above data, and the ability to group datasets, write code to:\n",
    "\n",
    "- a) Show a count of the number of sales records for each District.\n",
    "- b) Show a count of the number of sales records for each Team in each District, including the Team and District margin totals.\n",
    "- c) Show the total sales value for each Team in each District summed over the year.\n",
    "- d) Show the total sales value for each Team Member in each District over the year, showing the District and Team member margin totals. (Remember you need the team name and salesperson name to identify each person uniquely.)\n",
    "- e) Show a bar chart of the number of sales each month. \n",
    "- f) Show a bar chart of the total sales each month.\n",
    "- g) Show a scatter plot showing the Item Cost v. the number of Units in each record.\n",
    "- h) Add a Season column to the DataFrame. For each sale record, the value for Season will be derived from the month: (11,12,1) are Winter, (2,3,4) are Spring, (5,6,7) are Summer, (8,9,10) are Autumn. From the sales in each Season calculate the number, average, maximum, minimum and total sale amount over the season (that is, from all the sales records grouped by season report the number of records, and the average, maximum, minimum and total sales amounts.\n"
   ]
  },
  {
   "cell_type": "code",
   "execution_count": null,
   "metadata": {
    "activity": "activity",
    "collapsed": false,
    "run_control": {
     "read_only": false
    }
   },
   "outputs": [],
   "source": [
    "#  Start by reading in the CSV file.\n",
    "salesbook_df = pd.read_csv('data/salesbook.csv');\n",
    "salesbook_df.head()"
   ]
  },
  {
   "cell_type": "code",
   "execution_count": null,
   "metadata": {
    "activity": "activity",
    "collapsed": false,
    "run_control": {
     "read_only": false
    }
   },
   "outputs": [],
   "source": [
    "# Now add the SaleAmount column.\n",
    "salesbook_df['SaleAmount'] = salesbook_df['Units'] * salesbook_df['Item Cost']\n",
    "salesbook_df.head()"
   ]
  },
  {
   "cell_type": "code",
   "execution_count": null,
   "metadata": {
    "collapsed": false,
    "run_control": {
     "read_only": false
    }
   },
   "outputs": [],
   "source": [
    "# Now add the Month column.\n",
    "\n",
    "# Note: A generator is used here, because I can't get the .month to apply to the \n",
    "# series of parsed datatimes this feels 'clumsy', surely there is a better way.\n",
    "\n",
    "# The code loops over the salesbook_df, inferring the OrderDate format\n",
    "# and converting each OrderDate to a datetime value.  The result is a Series which is assigned\n",
    "# to a new 'Month' column of salesbook_df.\n",
    "salesbook_df['Month'] = ([i.month for i in pd.to_datetime(salesbook_df['OrderDate'], \n",
    "                                                          infer_datetime_format=True)])\n",
    "salesbook_df.head(5)\n"
   ]
  },
  {
   "cell_type": "markdown",
   "metadata": {
    "activity": "activity",
    "commentate": true
   },
   "source": [
    "- a) Show a count of the number of sales records for each District."
   ]
  },
  {
   "cell_type": "code",
   "execution_count": null,
   "metadata": {
    "collapsed": false,
    "run_control": {
     "read_only": false
    }
   },
   "outputs": [],
   "source": [
    "# Counting over one column is a simple group by and count:\n",
    "salesbook_df.groupby(['District']).count()"
   ]
  },
  {
   "cell_type": "code",
   "execution_count": null,
   "metadata": {
    "collapsed": false,
    "run_control": {
     "read_only": false
    }
   },
   "outputs": [],
   "source": [
    "# To make it look a bit tidier, isolate only the District and one other column:\n",
    "salesbook_df[['District','Sales']].groupby(['District']).count()"
   ]
  },
  {
   "cell_type": "markdown",
   "metadata": {
    "activity": "activity"
   },
   "source": [
    "- b) Show a count of the number of sales records for each Team in each District, include the Team and District margin totals."
   ]
  },
  {
   "cell_type": "code",
   "execution_count": null,
   "metadata": {
    "collapsed": false,
    "run_control": {
     "read_only": false
    }
   },
   "outputs": [],
   "source": [
    "# Counting over two distinct columns is easier as a crosstab:\n",
    "pd.crosstab(salesbook_df['Team'], salesbook_df['District'], margins=True)"
   ]
  },
  {
   "cell_type": "markdown",
   "metadata": {
    "activity": "activity"
   },
   "source": [
    "- c) Show the total sales value for each Team in each District summed over the year."
   ]
  },
  {
   "cell_type": "code",
   "execution_count": null,
   "metadata": {
    "collapsed": false,
    "run_control": {
     "read_only": false
    }
   },
   "outputs": [],
   "source": [
    "# Since we're doing more than counting we need a pivot table;\n",
    "# but, we only want the sum function to apply to the SaleAmount column.\n",
    "# So, we strip that and the Team and District columns out of the full Salesbook DataFrame.\n",
    "salesbook_df[['Team','District','SaleAmount']].pivot_table(index=['Team'], \n",
    "                                                           columns=['District'],\n",
    "                                                           aggfunc=np.sum)\n"
   ]
  },
  {
   "cell_type": "markdown",
   "metadata": {
    "activity": "activity"
   },
   "source": [
    "- d) Show the total sales value for each Team Member in each District over the year, showing the District and Team member margin totals. (Remember you need the team name and salesperson name to identify each person uniquely.)"
   ]
  },
  {
   "cell_type": "code",
   "execution_count": null,
   "metadata": {
    "collapsed": false,
    "run_control": {
     "read_only": false
    }
   },
   "outputs": [],
   "source": [
    "# Here we need the Sales column, and we need to form a two level-index for Team and Sales.\n",
    "salesbook_df[['Team','Sales','District','SaleAmount']].pivot_table(index=['Team','Sales'], \n",
    "                                                        columns=['District'],\n",
    "                                                        aggfunc=np.sum,\n",
    "                                                        margins=True)"
   ]
  },
  {
   "cell_type": "markdown",
   "metadata": {
    "activity": "activity"
   },
   "source": [
    "- e) Show a bar chart of the number of sales each month. "
   ]
  },
  {
   "cell_type": "code",
   "execution_count": null,
   "metadata": {
    "collapsed": false,
    "run_control": {
     "read_only": false
    }
   },
   "outputs": [],
   "source": [
    "# First get a count of the sales records in each month.\n",
    "# If we put it into a simple two-column table then plot() can work out the x,y axes itself.\n",
    "MonthBySaleCount_df = salesbook_df[['Month', 'OrderDate']].groupby(['Month']).count()\n",
    "\n",
    "# Now plot the bar chart, it looks a bit easier to read with Month as the y axis.\n",
    "MonthBySaleCount_df.plot.barh()"
   ]
  },
  {
   "cell_type": "code",
   "execution_count": null,
   "metadata": {
    "collapsed": false,
    "run_control": {
     "read_only": false
    }
   },
   "outputs": [],
   "source": [
    "# Not asked for in the question, but\n",
    "# we could use a crosstab and a stacked bar chart to show the District \n",
    "# contribution to the monthly totals.\n",
    "pd.crosstab(salesbook_df['Month'], salesbook_df['District']).plot.barh(stacked=True)"
   ]
  },
  {
   "cell_type": "markdown",
   "metadata": {
    "activity": "activity"
   },
   "source": [
    "- f) Show a bar chart of the total sales each month."
   ]
  },
  {
   "cell_type": "code",
   "execution_count": null,
   "metadata": {
    "collapsed": false,
    "run_control": {
     "read_only": false
    }
   },
   "outputs": [],
   "source": [
    "# We can repeat the recipe for the count of sales example earlier, \n",
    "# adjusting for the SaleAmount and Sum functions.\n",
    "salesbook_df[['Month', 'SaleAmount']].groupby(['Month']).sum().plot.barh()\n"
   ]
  },
  {
   "cell_type": "code",
   "execution_count": null,
   "metadata": {
    "collapsed": false,
    "run_control": {
     "read_only": false
    }
   },
   "outputs": [],
   "source": [
    "# And a similar sleight of hand, this time with pivot tables, can give us the\n",
    "# stacked bar chart to show the District contribition to the monthly sales totals.\n",
    "salesbook_df[['Month', 'District', 'SaleAmount']\n",
    "         ].pivot_table(index=['Month'], \n",
    "                       columns=['District'], \n",
    "                       aggfunc=np.sum\n",
    "                      ).plot.barh(stacked=True)"
   ]
  },
  {
   "cell_type": "markdown",
   "metadata": {
    "activity": "activity"
   },
   "source": [
    "- g) Show a scatter plot showing the Item Cost vs the number of Units in each record."
   ]
  },
  {
   "cell_type": "code",
   "execution_count": null,
   "metadata": {
    "collapsed": false,
    "run_control": {
     "read_only": false
    }
   },
   "outputs": [],
   "source": [
    "salesbook_df.plot.scatter(x='Item Cost', y='Units')"
   ]
  },
  {
   "cell_type": "markdown",
   "metadata": {
    "activity": "activity"
   },
   "source": [
    "- h) Add a Season column to the DataFrame. For each sale record, the value for Season will be derived from the month: (11,12,1) are Winter, (2,3,4) are Spring, (5,6,7) are Summer, (8,9,10) are Autumn. From the sales in each Season calculate the number, average, maximum, minimum and total sale amount over the season (that is, from all the sales records grouped by season report the number of records, and the average, maximum, minimum and total sales amounts).\n"
   ]
  },
  {
   "cell_type": "code",
   "execution_count": null,
   "metadata": {
    "collapsed": false,
    "run_control": {
     "read_only": false
    }
   },
   "outputs": [],
   "source": [
    "# First a simple function to convert months to seasons\n",
    "def month_to_season(month):\n",
    "    season='Winter'\n",
    "    if month in [2,3,4]:\n",
    "        season='Spring'\n",
    "    elif month in [5,6,7]:\n",
    "        season='Summer'\n",
    "    elif month in [8,9,10]:\n",
    "        season='Autumn'\n",
    "    return season\n",
    "# Now add a column to salesbook using the pandas.apply to apply the new \n",
    "# function to the Month column:\n",
    "salesbook_df['Season'] = salesbook_df['Month'].apply(month_to_season)\n",
    "# Check to see it had the desired affect:\n",
    "salesbook_df.head()"
   ]
  },
  {
   "cell_type": "code",
   "execution_count": null,
   "metadata": {
    "collapsed": false,
    "run_control": {
     "read_only": false
    }
   },
   "outputs": [],
   "source": [
    "# Now apply the functions to the grouped season rows -\n",
    "# there's only one column of interest, SalesAmount, so let's focus on that.\n",
    "salesbook_df[['Season','SaleAmount']].groupby(['Season']).agg(['count','mean','min','max','sum'])"
   ]
  },
  {
   "cell_type": "markdown",
   "metadata": {},
   "source": [
    "## What next?"
   ]
  },
  {
   "cell_type": "markdown",
   "metadata": {},
   "source": [
    "\n",
    "Why not take time to share some of your solutions with the other students on the module.  Use OpenStudio to showcase a Notebook with some of your solutions to the above exercises.  While you're there, have a look at the work posted by other students - if the techniques they've used aren't familiar to you ask them to describe how their code works.  Don't be afraid to let them know when you can see improvements to their code - good coders learn from others.\n",
    "\n",
    "If you are working through this Notebook as part of an inline exercise, return to the module materials now.\n",
    "\n",
    "If you are working through this set of Notebooks as a whole, move on to `04.6 Introducing Regular Expressions`."
   ]
  }
 ],
 "metadata": {
  "kernelspec": {
   "display_name": "Python 3",
   "language": "python",
   "name": "python3"
  },
  "language_info": {
   "codemirror_mode": {
    "name": "ipython",
    "version": 3
   },
   "file_extension": ".py",
   "mimetype": "text/x-python",
   "name": "python",
   "nbconvert_exporter": "python",
   "pygments_lexer": "ipython3",
   "version": "3.4.3"
  }
 },
 "nbformat": 4,
 "nbformat_minor": 0
}
