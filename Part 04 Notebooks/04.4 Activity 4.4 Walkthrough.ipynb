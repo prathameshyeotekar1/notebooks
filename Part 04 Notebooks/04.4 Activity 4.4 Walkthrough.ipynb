{
 "cells": [
  {
   "cell_type": "markdown",
   "metadata": {},
   "source": [
    "# Activity 4.4:  a walk-through"
   ]
  },
  {
   "cell_type": "code",
   "execution_count": null,
   "metadata": {
    "collapsed": true,
    "run_control": {
     "read_only": false
    }
   },
   "outputs": [],
   "source": [
    "import pandas as pd\n",
    "import matplotlib.pyplot as plt"
   ]
  },
  {
   "cell_type": "markdown",
   "metadata": {},
   "source": [
    "In Activity 4.4 you are given two datasets - one for each of the made-up courses QQ233 and QQ224. This data is supplied in the CSV data files in the data folder. "
   ]
  },
  {
   "cell_type": "markdown",
   "metadata": {},
   "source": [
    "Using the descriptive analysis tools covered at that point you are asked to compare the two datasets."
   ]
  },
  {
   "cell_type": "markdown",
   "metadata": {},
   "source": [
    "Note: If you have any observations to note, make them in the notebook cells. \n",
    "Try to get into the habit of make a note of what you are attempting to do, and then summarising any outputs or observations before you move on. That way you keep an immediate record of any activity."
   ]
  },
  {
   "cell_type": "markdown",
   "metadata": {},
   "source": [
    "# Start by reading the two datasets from the CSV files\n",
    "Put the data into two _pandas_ DataFrames with meaningful names."
   ]
  },
  {
   "cell_type": "code",
   "execution_count": null,
   "metadata": {
    "collapsed": false,
    "run_control": {
     "read_only": false
    }
   },
   "outputs": [],
   "source": [
    "! ls data/Activity4.4datasets"
   ]
  },
  {
   "cell_type": "code",
   "execution_count": null,
   "metadata": {
    "collapsed": false,
    "run_control": {
     "read_only": false
    }
   },
   "outputs": [],
   "source": [
    "!head data/Activity4.4datasets/QQ223.csv\n",
    "!head data/Activity4.4datasets/QQ224.csv"
   ]
  },
  {
   "cell_type": "code",
   "execution_count": null,
   "metadata": {
    "collapsed": false,
    "run_control": {
     "read_only": false
    }
   },
   "outputs": [],
   "source": [
    "QQ223df = pd.read_csv('data/Activity4.4datasets/QQ223.csv', header=1) \n",
    "QQ223df"
   ]
  },
  {
   "cell_type": "code",
   "execution_count": null,
   "metadata": {
    "collapsed": false,
    "run_control": {
     "read_only": false
    }
   },
   "outputs": [],
   "source": [
    "QQ224df = pd.read_csv('data/Activity4.4datasets/QQ224.csv', header=1) \n",
    "QQ224df"
   ]
  },
  {
   "cell_type": "markdown",
   "metadata": {},
   "source": [
    "# Calculate the required descriptive statistics\n",
    "The question asks for the maximum, minimum, mean and median."
   ]
  },
  {
   "cell_type": "code",
   "execution_count": null,
   "metadata": {
    "collapsed": false,
    "run_control": {
     "read_only": false
    }
   },
   "outputs": [],
   "source": [
    "QQ223df['Mark'].max()"
   ]
  },
  {
   "cell_type": "code",
   "execution_count": null,
   "metadata": {
    "collapsed": false,
    "run_control": {
     "read_only": false
    }
   },
   "outputs": [],
   "source": [
    "QQ223df['Mark'].min()"
   ]
  },
  {
   "cell_type": "code",
   "execution_count": null,
   "metadata": {
    "collapsed": false,
    "run_control": {
     "read_only": false
    }
   },
   "outputs": [],
   "source": [
    "QQ223df['Mark'].mean()"
   ]
  },
  {
   "cell_type": "code",
   "execution_count": null,
   "metadata": {
    "collapsed": false,
    "run_control": {
     "read_only": false
    }
   },
   "outputs": [],
   "source": [
    "QQ223df['Mark'].median()"
   ]
  },
  {
   "cell_type": "code",
   "execution_count": null,
   "metadata": {
    "collapsed": false,
    "run_control": {
     "read_only": false
    }
   },
   "outputs": [],
   "source": [
    "QQ224df['Mark'].max()"
   ]
  },
  {
   "cell_type": "code",
   "execution_count": null,
   "metadata": {
    "collapsed": false,
    "run_control": {
     "read_only": false
    }
   },
   "outputs": [],
   "source": [
    "QQ224df['Mark'].min()"
   ]
  },
  {
   "cell_type": "code",
   "execution_count": null,
   "metadata": {
    "collapsed": false,
    "run_control": {
     "read_only": false
    }
   },
   "outputs": [],
   "source": [
    "QQ224df['Mark'].mean()"
   ]
  },
  {
   "cell_type": "code",
   "execution_count": null,
   "metadata": {
    "collapsed": false,
    "run_control": {
     "read_only": false
    }
   },
   "outputs": [],
   "source": [
    "QQ224df['Mark'].median()"
   ]
  },
  {
   "cell_type": "markdown",
   "metadata": {},
   "source": [
    "The `describe()` method gives some basic descriptive statistics for a Series."
   ]
  },
  {
   "cell_type": "code",
   "execution_count": null,
   "metadata": {
    "collapsed": false,
    "run_control": {
     "read_only": false
    }
   },
   "outputs": [],
   "source": [
    "QQ223df.describe()"
   ]
  },
  {
   "cell_type": "code",
   "execution_count": null,
   "metadata": {
    "collapsed": false,
    "run_control": {
     "read_only": false
    }
   },
   "outputs": [],
   "source": [
    "QQ224df.describe()"
   ]
  },
  {
   "cell_type": "markdown",
   "metadata": {},
   "source": [
    "#### Observations\n",
    "The 25%, 50% and 75% figures (the mark value at which 25% of the population have a lower score, ... 75% are lower, etc.) suggest a skewed distribution of marks between the two modules,  with QQ224 students generally performing better. \n",
    "\n",
    "(We can check this with a simple histogram plot later)."
   ]
  },
  {
   "cell_type": "markdown",
   "metadata": {},
   "source": [
    "# The activity text hints that plotting the two sets of data might be useful.\n",
    "\n",
    "To do that it would be easier if we put the student name and the two sets of marks for each student into a single table.\n",
    "\n",
    "This represents more data about each student, specifically another course mark for each student.\n",
    "So, we want to join the two datasets using the common 'Student' column as the key.\n",
    "\n",
    "First we'll need to rename one of the 'Mark' columns to avoid a name clash."
   ]
  },
  {
   "cell_type": "code",
   "execution_count": null,
   "metadata": {
    "collapsed": false,
    "run_control": {
     "read_only": false
    }
   },
   "outputs": [],
   "source": [
    "# Rename one of the 'Mark' columns.\n",
    "QQ224df.columns = ['Student', 'Mark2']\n",
    "QQ224df"
   ]
  },
  {
   "cell_type": "code",
   "execution_count": null,
   "metadata": {
    "collapsed": false,
    "run_control": {
     "read_only": false
    }
   },
   "outputs": [],
   "source": [
    "# Now join the two DataFrames so that each student has data in a single row.\n",
    "Combineddf = pd.merge(QQ223df, QQ224df, on=['Student'])\n",
    "Combineddf.describe()"
   ]
  },
  {
   "cell_type": "markdown",
   "metadata": {},
   "source": [
    "##### Observations\n",
    "The datasets look like they have no rows that aren't matched in the other dataset: every student does both modules.   If we weren't sure there was a mark for each student in each original dataset we would use an outer join.\n",
    "\n",
    "Note to self: a quick check is that we had 16 rows in each of the original DataFrames, and 16 in the result. No need for the outer join."
   ]
  },
  {
   "cell_type": "markdown",
   "metadata": {},
   "source": [
    "### Now we have a DataFrame with one student per row, we can visually explore the data with some simple `plot()`s \n",
    "\n",
    "Some suggestions are: \n",
    "- a simple scatter plot of the two mark sets\n",
    "- a simple bar chart showing both marks for each student\n",
    "- try sorting on different values, before plotting the bar charts."
   ]
  },
  {
   "cell_type": "code",
   "execution_count": null,
   "metadata": {
    "collapsed": false,
    "run_control": {
     "read_only": false
    }
   },
   "outputs": [],
   "source": [
    "Combineddf.plot.scatter(x='Mark', y='Mark2')"
   ]
  },
  {
   "cell_type": "code",
   "execution_count": null,
   "metadata": {
    "collapsed": false,
    "run_control": {
     "read_only": false
    }
   },
   "outputs": [],
   "source": [
    "Combineddf.plot.bar(x='Student')"
   ]
  },
  {
   "cell_type": "code",
   "execution_count": null,
   "metadata": {
    "collapsed": false,
    "run_control": {
     "read_only": false
    }
   },
   "outputs": [],
   "source": [
    "# Does it help to split out the two Mark sets into different subplots?\n",
    "Combineddf.plot.bar(x='Student', subplots=True)"
   ]
  },
  {
   "cell_type": "markdown",
   "metadata": {},
   "source": [
    "Doesn't look like an improvement."
   ]
  },
  {
   "cell_type": "markdown",
   "metadata": {},
   "source": [
    "**Note to self:**  The above has different _y_-axis values. \n",
    "\n",
    "Left to itself, each subplot has a different range on the _y_-axis.  Setting `ylim` should solve that!"
   ]
  },
  {
   "cell_type": "code",
   "execution_count": null,
   "metadata": {
    "collapsed": false,
    "run_control": {
     "read_only": false
    }
   },
   "outputs": [],
   "source": [
    "Combineddf.plot.bar(x='Student', subplots=True, ylim=(0,110))"
   ]
  },
  {
   "cell_type": "code",
   "execution_count": null,
   "metadata": {
    "collapsed": false,
    "run_control": {
     "read_only": false
    }
   },
   "outputs": [],
   "source": [
    "# Let's try sorting the original bar chart on different values.\n",
    "Combineddf.sort_values(by=['Mark']).plot.bar(x='Student')"
   ]
  },
  {
   "cell_type": "markdown",
   "metadata": {},
   "source": [
    "#### Observations\n",
    "There's a group of P students performing below the pass mark on the Mark module, but doing much better on the Mark2 module.  They seem to stand out a bit as a group.  \n",
    "All the Q students are at the lower end of the performance for the Mark module."
   ]
  },
  {
   "cell_type": "code",
   "execution_count": null,
   "metadata": {
    "collapsed": false,
    "run_control": {
     "read_only": false
    }
   },
   "outputs": [],
   "source": [
    "Combineddf.sort_values(by=['Mark2']).plot.bar(x='Student')"
   ]
  },
  {
   "cell_type": "markdown",
   "metadata": {},
   "source": [
    "#### Observations\n",
    "That noteable P group has lost a member, but there are still three that look unusual in the middle range.  The Q students are also at the lower end of the performance for the Mark2 module."
   ]
  },
  {
   "cell_type": "code",
   "execution_count": null,
   "metadata": {
    "collapsed": false,
    "run_control": {
     "read_only": false
    }
   },
   "outputs": [],
   "source": [
    "Combineddf.sort_values(by=['Student']).plot.bar(x='Student')"
   ]
  },
  {
   "cell_type": "markdown",
   "metadata": {},
   "source": [
    "#### Observations\n",
    "Q students are doing very badly on both modules. \n",
    "\n",
    "P students are doing better on the Mark2 module than the Mark module - _I wish I'd changed the mark column names to show the module codes!_ \n",
    "\n",
    "The two R students are doing slightly better on the Mark module than the Mark2 module. _Let's change those names!_"
   ]
  },
  {
   "cell_type": "code",
   "execution_count": null,
   "metadata": {
    "collapsed": false,
    "run_control": {
     "read_only": false
    }
   },
   "outputs": [],
   "source": [
    "Combineddf.columns=['Student', 'QQ223Mark', 'QQ224Mark']\n",
    "Combineddf"
   ]
  },
  {
   "cell_type": "code",
   "execution_count": null,
   "metadata": {
    "collapsed": false,
    "run_control": {
     "read_only": false
    }
   },
   "outputs": [],
   "source": [
    "Combineddf.sort_values(by=['Student']).plot.bar(x='Student')"
   ]
  },
  {
   "cell_type": "markdown",
   "metadata": {},
   "source": [
    "#### Extended scatter plot\n",
    "I wonder if the performance differences show on the scatter diagram.  Let's add a fourth column to `Combineddf` with the first letter of the student number, then use this to colour the scatter plot. (The 'c' column needs to be numeric - so let's use the ordinal/Unicode value of the first letter, generated using `ord()`.)"
   ]
  },
  {
   "cell_type": "code",
   "execution_count": null,
   "metadata": {
    "collapsed": false,
    "run_control": {
     "read_only": false
    }
   },
   "outputs": [],
   "source": [
    "LetterSeries = pd.Series(ord(i[0]) for i in Combineddf['Student'])\n",
    "Combineddf['Letter'] = LetterSeries\n",
    "Combineddf"
   ]
  },
  {
   "cell_type": "code",
   "execution_count": null,
   "metadata": {
    "collapsed": false,
    "run_control": {
     "read_only": false
    }
   },
   "outputs": [],
   "source": [
    "Combineddf.plot.scatter(x='QQ223Mark', y='QQ224Mark', c='Letter')\n"
   ]
  },
  {
   "cell_type": "markdown",
   "metadata": {},
   "source": [
    "#### Observations\n",
    "The sample is too small to draw any conclusions from the colouring. Q students are clearly clustered 'low' on _x_ and _y_.  The R and P students showing less evidence of distinct clustering.  \n",
    "\n",
    "It's not clear if this is just a small sample bias, or something a bigger population would reinforce.\n",
    "_We don't have a bigger population, so note the observation and move on_."
   ]
  },
  {
   "cell_type": "markdown",
   "metadata": {},
   "source": [
    "#### Oops\n",
    "Forgot to check the apparent skewed distributions - let's take a quick look."
   ]
  },
  {
   "cell_type": "code",
   "execution_count": null,
   "metadata": {
    "collapsed": false,
    "run_control": {
     "read_only": false
    }
   },
   "outputs": [],
   "source": [
    "Combineddf.plot.hist(x='Student', y=['QQ223Mark','QQ224Mark'],\n",
    "                ylim=(0,15), subplots=True)"
   ]
  },
  {
   "cell_type": "markdown",
   "metadata": {},
   "source": [
    "#### Observations\n",
    "This is a small sample set for a histogram; with some bins having only a single data element in them. However, the QQ224 histogram shows more students at the higher marks than the QQ223 histogram."
   ]
  },
  {
   "cell_type": "markdown",
   "metadata": {},
   "source": [
    "## Analysis summary\n",
    "\n",
    "Stats|Max|Min|Mean|Median\n",
    "----|---|---|----|-----\n",
    "QQ223|89|3|44.56|54.5\n",
    "QQ224|99|4|58.06|62.5\n"
   ]
  },
  {
   "cell_type": "markdown",
   "metadata": {},
   "source": [
    "The stats suggest that students generally perform better on QQ224. This is reinforced by the histogram plots, showing QQ224 results skewed toward the higher end."
   ]
  },
  {
   "cell_type": "code",
   "execution_count": null,
   "metadata": {
    "collapsed": false,
    "run_control": {
     "read_only": false
    }
   },
   "outputs": [],
   "source": [
    "Combineddf.plot.hist(x='Student', y=['QQ223Mark','QQ224Mark'], ylim=(0,15), subplots=True)"
   ]
  },
  {
   "cell_type": "markdown",
   "metadata": {},
   "source": [
    "Sorting the data by the student number indicates a difference in sub-groups of students, based on the initial letter of their student number.  Q students perform poorly on both modules, with P and R students showing slight differences in performance patterns."
   ]
  },
  {
   "cell_type": "code",
   "execution_count": null,
   "metadata": {
    "collapsed": false,
    "run_control": {
     "read_only": false
    }
   },
   "outputs": [],
   "source": [
    "Combineddf.sort_values(by=['Student']).plot.bar(x='Student', y=['QQ223Mark','QQ224Mark'])"
   ]
  },
  {
   "cell_type": "markdown",
   "metadata": {},
   "source": [
    "### Warning\n",
    "Any conclusions are hampered by the small size of the datasets, but the significance of the student number allocation is probably worth exploring further."
   ]
  },
  {
   "cell_type": "markdown",
   "metadata": {},
   "source": [
    "## Summary\n",
    "This has been a very quick descriptive analysis of two datasets using simple statistics and simple visualisations."
   ]
  },
  {
   "cell_type": "markdown",
   "metadata": {},
   "source": [
    "# What next?"
   ]
  },
  {
   "cell_type": "markdown",
   "metadata": {},
   "source": [
    "If you are working through this Notebook as part of an inline exercise, return to the module materials now.\n",
    "\n",
    "If you are working through this set of Notebooks as a whole, move on to: `04.5 split-apply-combine with SQL and pandas`."
   ]
  },
  {
   "cell_type": "code",
   "execution_count": null,
   "metadata": {
    "collapsed": true
   },
   "outputs": [],
   "source": []
  }
 ],
 "metadata": {
  "kernelspec": {
   "display_name": "Python 3",
   "language": "python",
   "name": "python3"
  },
  "language_info": {
   "codemirror_mode": {
    "name": "ipython",
    "version": 3
   },
   "file_extension": ".py",
   "mimetype": "text/x-python",
   "name": "python",
   "nbconvert_exporter": "python",
   "pygments_lexer": "ipython3",
   "version": "3.4.3"
  }
 },
 "nbformat": 4,
 "nbformat_minor": 0
}
