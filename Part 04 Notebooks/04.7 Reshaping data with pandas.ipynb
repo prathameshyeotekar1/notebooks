{
 "cells": [
  {
   "cell_type": "markdown",
   "metadata": {},
   "source": [
    "# Reshaping data with _pandas_"
   ]
  },
  {
   "cell_type": "markdown",
   "metadata": {},
   "source": [
    "This Notebook describes some simple patterns for reshaping datasets in *pandas* including transposing rows and columns, and considers the difference between *long* and *wide* formatted data tables and moving between them."
   ]
  },
  {
   "cell_type": "code",
   "execution_count": null,
   "metadata": {
    "collapsed": false,
    "run_control": {
     "read_only": false
    }
   },
   "outputs": [],
   "source": [
    "import pandas as pd\n",
    "import numpy as np"
   ]
  },
  {
   "cell_type": "markdown",
   "metadata": {},
   "source": [
    "## Sample data in a simple DataFrame"
   ]
  },
  {
   "cell_type": "markdown",
   "metadata": {},
   "source": [
    "Let's start by considering a simple example - creating a DataFrame of a particular size and shape from a sequence of numbers.\n",
    "\n",
    "In the following `arange(n)` generates a list with values `0` to `n`.  `reshape(m,n)` produces an array with `m` rows and `n` columns filled in 'column order'.   This array is then turned into a DataFrame with named columns."
   ]
  },
  {
   "cell_type": "code",
   "execution_count": null,
   "metadata": {
    "collapsed": false,
    "run_control": {
     "read_only": false
    }
   },
   "outputs": [],
   "source": [
    "df = pd.DataFrame(np.arange(6).reshape(3,2), columns=['a','b'])\n",
    "df"
   ]
  },
  {
   "cell_type": "markdown",
   "metadata": {},
   "source": [
    "The following simple functions describe the shape of a DataFrame, given the DataFrame or its name, in the form of a short sentence."
   ]
  },
  {
   "cell_type": "code",
   "execution_count": null,
   "metadata": {
    "collapsed": false,
    "run_control": {
     "read_only": false
    }
   },
   "outputs": [],
   "source": [
    "def shape(df):\n",
    "    rows,cols = df.shape\n",
    "    return \"That DataFrame has {0} rows and {1} columns.\".format(rows, cols)\n",
    "\n",
    "def shape_name(df_name):\n",
    "    df = eval(df_name)\n",
    "    rows,cols = df.shape\n",
    "    return \"The DataFrame '{0}' has {1} rows and {2} columns.\".format(df_name, rows, cols)"
   ]
  },
  {
   "cell_type": "code",
   "execution_count": null,
   "metadata": {
    "collapsed": false,
    "run_control": {
     "read_only": false
    }
   },
   "outputs": [],
   "source": [
    "shape(df)"
   ]
  },
  {
   "cell_type": "code",
   "execution_count": null,
   "metadata": {
    "collapsed": false,
    "run_control": {
     "read_only": false
    }
   },
   "outputs": [],
   "source": [
    "shape_name('df')"
   ]
  },
  {
   "cell_type": "markdown",
   "metadata": {},
   "source": [
    "# `transpose()` - turning rows into columns, and columns into rows"
   ]
  },
  {
   "cell_type": "markdown",
   "metadata": {},
   "source": [
    "The `transpose()` method can be applied to a DataFrame to transpose columns and rows."
   ]
  },
  {
   "cell_type": "code",
   "execution_count": null,
   "metadata": {
    "collapsed": false,
    "run_control": {
     "read_only": false
    }
   },
   "outputs": [],
   "source": [
    "df2 = df.transpose()\n",
    "df2"
   ]
  },
  {
   "cell_type": "code",
   "execution_count": null,
   "metadata": {
    "collapsed": false,
    "run_control": {
     "read_only": false
    }
   },
   "outputs": [],
   "source": [
    "shape_name('df2')"
   ]
  },
  {
   "cell_type": "markdown",
   "metadata": {},
   "source": [
    "## Long and wide table representations"
   ]
  },
  {
   "cell_type": "markdown",
   "metadata": {},
   "source": [
    "Tabular data can be arranged in several different representations - two common forms are the _long_ and _wide_ versions of tables.   \n",
    "\n",
    "Let's start by creating a fictitious dataset containing total expenses by expense area for a set of local council directorates.\n",
    "\n",
    "We start by defining some directorates and expense areas."
   ]
  },
  {
   "cell_type": "code",
   "execution_count": null,
   "metadata": {
    "collapsed": false,
    "run_control": {
     "read_only": false
    }
   },
   "outputs": [],
   "source": [
    "directorates = ['Community Wellbeing & Social Care',\n",
    "                'Childrens Services',\n",
    "                'Economy & Environment',\n",
    "                'Resources',\n",
    "                'Corporate']\n",
    "expensetypes = ['Accommodation Costs',\n",
    "                'Payment to Private Contractors',\n",
    "                'Operational Equipment',\n",
    "                'Professional Services']"
   ]
  },
  {
   "cell_type": "markdown",
   "metadata": {},
   "source": [
    "We want to create a dummy value for each expense type in each directorate. \n",
    "\n",
    "The Python `itertools` library has a `product` function that will generate every possible combination of values in these two lists as a list of two tuples, `[ (directorate1, expensetype1), (directorate1, expensetype2), ..., (directorateN, expensetypeN) ]`. \n",
    "\n",
    "The `zip` function can then be used to 'unzip' the two tuple lists to give us separate lists that we can then use to create a dataframe. \n",
    "\n",
    "We can also add in a `Total` column that contains a randomly generated dummy amount."
   ]
  },
  {
   "cell_type": "code",
   "execution_count": null,
   "metadata": {
    "collapsed": false,
    "run_control": {
     "read_only": false
    }
   },
   "outputs": [],
   "source": [
    "import itertools\n",
    "a = list(itertools.product(directorates, expensetypes))\n",
    "unzipa = [t for t in zip(*a)]\n",
    "df_long = pd.DataFrame({'directorates':unzipa[0],\n",
    "                        'expense types':unzipa[1],\n",
    "                        'total':np.random.randint(0,20000,len(directorates)*len(expensetypes))\n",
    "                      })\n",
    "df_long[:6]"
   ]
  },
  {
   "cell_type": "markdown",
   "metadata": {},
   "source": [
    "Here's what the shape of the long DataFrame looks like."
   ]
  },
  {
   "cell_type": "code",
   "execution_count": null,
   "metadata": {
    "collapsed": false,
    "run_control": {
     "read_only": false
    }
   },
   "outputs": [],
   "source": [
    "shape_name('df_long')"
   ]
  },
  {
   "cell_type": "markdown",
   "metadata": {},
   "source": [
    "This is in _long_ format as each directorate has many rows of data, one for each expense type in our example.  \n",
    "\n",
    "Note: it's not long because it has more rows than columns: it's long because each 'thing' in the table (each directorate) has attribute values in multiple rows."
   ]
  },
  {
   "cell_type": "markdown",
   "metadata": {
    "activity": "activityAns"
   },
   "source": [
    "## Exercise\n",
    "\n",
    "How would you find the accommodation costs by directorate?"
   ]
  },
  {
   "cell_type": "code",
   "execution_count": null,
   "metadata": {
    "activity": "activity",
    "collapsed": false,
    "run_control": {
     "read_only": false
    }
   },
   "outputs": [],
   "source": [
    "# Accommodation costs by directorate\n"
   ]
  },
  {
   "cell_type": "code",
   "execution_count": null,
   "metadata": {
    "activity": "activity",
    "code_folding": [
     0
    ],
    "collapsed": false,
    "run_control": {
     "read_only": false
    }
   },
   "outputs": [],
   "source": [
    "# Sample solution.\n",
    "#      One way would be to filter the long DataFrame based on the values \n",
    "#      contained in the *expense types* column. \n",
    "df_long[df_long['expense types']=='Accommodation Costs']"
   ]
  },
  {
   "cell_type": "markdown",
   "metadata": {
    "code_folding": []
   },
   "source": [
    "## Moving between long and wide representations \n",
    "###      `pivot()`:   long to wide, for three-columned DataFrames"
   ]
  },
  {
   "cell_type": "markdown",
   "metadata": {},
   "source": [
    "Suppose we want to reorder this _long_ table into a _wide_ format with the expense types as rows, and the directorates as columns:"
   ]
  },
  {
   "cell_type": "code",
   "execution_count": null,
   "metadata": {
    "collapsed": false,
    "run_control": {
     "read_only": false
    }
   },
   "outputs": [],
   "source": [
    "df_wide = df_long.pivot('expense types', 'directorates', 'total')\n",
    "df_wide"
   ]
  },
  {
   "cell_type": "code",
   "execution_count": null,
   "metadata": {
    "collapsed": false,
    "run_control": {
     "read_only": false
    }
   },
   "outputs": [],
   "source": [
    "shape_name('df_wide')"
   ]
  },
  {
   "cell_type": "markdown",
   "metadata": {},
   "source": [
    "Notice how the pivot operation has created a DataFrame with a row index made up from the expense types. The cell values represent the *total*, though this explict label has been lost.\n",
    "\n",
    "This DataFrame contains the same information as our original data table, but in a more powerfully structured way. Properly indexed dataframes are much richer representations than simple tables and as such can support a wider range of transformations."
   ]
  },
  {
   "cell_type": "markdown",
   "metadata": {
    "activity": "activity"
   },
   "source": [
    "## Exercise\n",
    "Using `df_wide`, write Python code to:\n",
    "- display a list of expenses associated with the 'Economy & Environment' directorate\n",
    "- display a list of the accommodation costs by directorate\n",
    "- show the total amount associated with corporate accommodation costs.\n"
   ]
  },
  {
   "cell_type": "code",
   "execution_count": null,
   "metadata": {
    "activity": "activity",
    "collapsed": false,
    "run_control": {
     "read_only": false
    }
   },
   "outputs": [],
   "source": [
    "# Display a list of expenses associated with the Economy & Environment directorate.\n"
   ]
  },
  {
   "cell_type": "code",
   "execution_count": null,
   "metadata": {
    "activity": "activity",
    "code_folding": [
     0
    ],
    "collapsed": false,
    "run_control": {
     "read_only": false
    }
   },
   "outputs": [],
   "source": [
    "# Sample solution\n",
    "#     Remember there are usually several different ways to achieve something like this in Python.\n",
    "\n",
    "# We pull just the column associated with the required expenses from the DataFrame.\n",
    "df_wide['Economy & Environment']"
   ]
  },
  {
   "cell_type": "code",
   "execution_count": null,
   "metadata": {
    "activity": "activity",
    "collapsed": false,
    "run_control": {
     "read_only": false
    }
   },
   "outputs": [],
   "source": [
    "# Display a list of the accommodation costs by directorate.\n"
   ]
  },
  {
   "cell_type": "code",
   "execution_count": null,
   "metadata": {
    "activity": "activity",
    "code_folding": [
     0
    ],
    "collapsed": false,
    "run_control": {
     "read_only": false
    }
   },
   "outputs": [],
   "source": [
    "# Sample solution\n",
    "\n",
    "# To find the accommodation costs by directorate, we can call the appropriate row index value. \n",
    "df_wide.ix['Accommodation Costs']"
   ]
  },
  {
   "cell_type": "code",
   "execution_count": null,
   "metadata": {
    "activity": "activity",
    "collapsed": false,
    "run_control": {
     "read_only": false
    }
   },
   "outputs": [],
   "source": [
    "# What amount is associated with corporate accommodation costs?\n"
   ]
  },
  {
   "cell_type": "code",
   "execution_count": null,
   "metadata": {
    "activity": "activity",
    "code_folding": [
     0
    ],
    "collapsed": false,
    "run_control": {
     "read_only": false
    }
   },
   "outputs": [],
   "source": [
    "# Sample solution\n",
    "\n",
    "# Either\n",
    "df_wide.ix['Accommodation Costs']['Corporate']\n",
    "\n",
    "#  or\n",
    "#df_wide['Corporate'].ix['Accommodation Costs']"
   ]
  },
  {
   "cell_type": "markdown",
   "metadata": {
    "activity": "activity",
    "code_folding": []
   },
   "source": [
    "## Exercise\n",
    "For the previous examples, how does the `pivot()` operation differ from the `transpose()` method?\n"
   ]
  },
  {
   "cell_type": "code",
   "execution_count": null,
   "metadata": {
    "collapsed": true,
    "run_control": {
     "read_only": false
    }
   },
   "outputs": [],
   "source": [
    "# Discussion\n",
    "# `transpose()` is used to simply switch rows and columns.  \n",
    "# `pivot()` reorganises values that appear in columns, to form rows."
   ]
  },
  {
   "cell_type": "markdown",
   "metadata": {
    "activity": "activity"
   },
   "source": [
    "## Exercise\n",
    "\n",
    "Suppose we want to reorder this _long_ table into a _wide_ format, but this time with the expense types as rows and the directorate as columns - can you do that?"
   ]
  },
  {
   "cell_type": "code",
   "execution_count": null,
   "metadata": {
    "activity": "activity",
    "collapsed": false,
    "run_control": {
     "read_only": false
    }
   },
   "outputs": [],
   "source": [
    "#df_wide2 = df_long.pivot('<replace this with your parameters>')\n",
    "#df_wide2"
   ]
  },
  {
   "cell_type": "code",
   "execution_count": null,
   "metadata": {
    "activity": "activity",
    "code_folding": [
     0
    ],
    "collapsed": false,
    "run_control": {
     "read_only": false
    }
   },
   "outputs": [],
   "source": [
    "# Sample solution\n",
    "df_wide2 = df_long.pivot('directorates', 'expense types', 'total')\n",
    "df_wide2"
   ]
  },
  {
   "cell_type": "code",
   "execution_count": null,
   "metadata": {
    "activity": "activity",
    "collapsed": false,
    "run_control": {
     "read_only": false
    }
   },
   "outputs": [],
   "source": [
    "shape_name('df_wide2')"
   ]
  },
  {
   "cell_type": "markdown",
   "metadata": {},
   "source": [
    "###  `stack()`: from wide to long form\n",
    "\n",
    "We can recreate a _long_ form by 'stacking' the data; in this case we will 'stack' the directorate column headings as sub-levels within each expense type.   This creates a Series with a hierarchical row index."
   ]
  },
  {
   "cell_type": "code",
   "execution_count": null,
   "metadata": {
    "collapsed": false,
    "run_control": {
     "read_only": false
    }
   },
   "outputs": [],
   "source": [
    "df_new_long = df_wide.stack()\n",
    "df_new_long"
   ]
  },
  {
   "cell_type": "code",
   "execution_count": null,
   "metadata": {
    "collapsed": false,
    "run_control": {
     "read_only": false
    }
   },
   "outputs": [],
   "source": [
    "# The output when we stack the df_wide2 DataFrame shouldn't come as a suprise.\n",
    "df_new_long2 = df_wide2.stack()\n",
    "df_new_long"
   ]
  },
  {
   "cell_type": "markdown",
   "metadata": {},
   "source": [
    "If it *was* a surprise, remember that the long, wide, stacked and unstacked forms are just re-shaping the data, they're not changing the data - so if there is a total value for a directorate and expense type in one form it will be the same in all the forms."
   ]
  },
  {
   "cell_type": "markdown",
   "metadata": {},
   "source": [
    "Note that the `Total` attribute name was lost in the `pivot()` operation - it can't be recreated once lost.\n",
    "\n",
    "If you prefer the simple, non-hierarchical, tabular format of the original, we can generate that from the hierarchical stacked form by adding `resetIndex()` after applying the `stack`."
   ]
  },
  {
   "cell_type": "code",
   "execution_count": null,
   "metadata": {
    "collapsed": false,
    "run_control": {
     "read_only": false
    }
   },
   "outputs": [],
   "source": [
    "df_new_long.reset_index()"
   ]
  },
  {
   "cell_type": "markdown",
   "metadata": {},
   "source": [
    "With the hierarchically indexed `df_new_long` series, we can go back to the long form by using `unstack()`. By default this unstacks the 'last' level of the hierarchy, but we can also declare which level to unstack explicitly.\n",
    "\n",
    "Both `stack()` and `unstack()` operate over hierarchical indexes and columns.\n",
    "`pivot()` is simpler, operating with just three-columned _long_ table forms (Object, Attribute, Value). \n",
    "\n",
    "Here's `unstack()` with a named hierarchical level to unstack:"
   ]
  },
  {
   "cell_type": "code",
   "execution_count": null,
   "metadata": {
    "collapsed": false,
    "run_control": {
     "read_only": false
    }
   },
   "outputs": [],
   "source": [
    "df_new_long.unstack('directorates')"
   ]
  },
  {
   "cell_type": "code",
   "execution_count": null,
   "metadata": {
    "collapsed": false,
    "run_control": {
     "read_only": false
    }
   },
   "outputs": [],
   "source": [
    "# And here we unstack using the 'other' level of the hierarchy:\n",
    "df_new_long.unstack('expense types')"
   ]
  },
  {
   "cell_type": "markdown",
   "metadata": {},
   "source": [
    "### Transforming wide to long data: *pandas* `melt()`"
   ]
  },
  {
   "cell_type": "markdown",
   "metadata": {},
   "source": [
    "Data is often provided in wide  formats and we can use the `.melt()` function to select which columns of the wide table to put in long form.\n",
    "\n",
    "Let's start by creating another dummy dataset in a simple table with no meaningful index - the sort of DataFrame we might create by simple reading in a CSV file, or a spreadsheet summary table."
   ]
  },
  {
   "cell_type": "code",
   "execution_count": null,
   "metadata": {
    "collapsed": false,
    "run_control": {
     "read_only": false
    }
   },
   "outputs": [],
   "source": [
    "simple_wide = pd.DataFrame(np.random.randint(0,20000,\n",
    "       len(directorates)*len(expensetypes)).reshape(len(directorates), len(expensetypes)),\n",
    "       columns=expensetypes)\n",
    "simple_wide['directorates'] = directorates\n",
    "simple_wide = simple_wide[['directorates']+expensetypes]\n",
    "simple_wide"
   ]
  },
  {
   "cell_type": "code",
   "execution_count": null,
   "metadata": {
    "collapsed": false,
    "run_control": {
     "read_only": false
    }
   },
   "outputs": [],
   "source": [
    "shape_name('simple_wide')"
   ]
  },
  {
   "cell_type": "markdown",
   "metadata": {},
   "source": [
    "The pandas `.melt()` function allows us to 'melt' selected columns in a wide format data table into a long format.\n",
    "\n",
    "First we indicate the `id_vars`, the columns whose values will form the identifier (keys) for the long format rows (remember the information about specific things in a long table is spread over several rows, each with the same key values).  \n",
    "\n",
    "We can then specify where a 'variable' column identifies the original column name of the melted data and a 'value' column contains the corresponding cell value.\n",
    "\n",
    "The next cell turns our `simple_wide` table into the long form using _all_ the `expensetypes` columns.  \n",
    "The cell below that shows how to select only one or more specific columns from the original `simple_wide` DataFrame."
   ]
  },
  {
   "cell_type": "code",
   "execution_count": null,
   "metadata": {
    "collapsed": false,
    "run_control": {
     "read_only": false
    }
   },
   "outputs": [],
   "source": [
    "simple_melt = pd.melt(simple_wide, id_vars=['directorates'], value_vars=expensetypes)\n",
    "simple_melt"
   ]
  },
  {
   "cell_type": "code",
   "execution_count": null,
   "metadata": {
    "collapsed": false,
    "run_control": {
     "read_only": false
    }
   },
   "outputs": [],
   "source": [
    "shape_name('simple_melt')\n"
   ]
  },
  {
   "cell_type": "code",
   "execution_count": null,
   "metadata": {
    "collapsed": false,
    "run_control": {
     "read_only": false
    }
   },
   "outputs": [],
   "source": [
    "simple_melt_select = pd.melt(simple_wide,\n",
    "                             id_vars=['directorates'],\n",
    "                             value_vars=['Accommodation Costs','Operational Equipment'])\n",
    "simple_melt_select"
   ]
  },
  {
   "cell_type": "code",
   "execution_count": null,
   "metadata": {
    "collapsed": false,
    "run_control": {
     "read_only": false
    }
   },
   "outputs": [],
   "source": [
    "shape_name('simple_melt_select')\n"
   ]
  },
  {
   "cell_type": "markdown",
   "metadata": {},
   "source": [
    "We can unmelt using a `pivot()`, followed by `reset_index()` to convert the hierarchical index values to columns. Note, however, that we are left with the index column named as `variable`. (This doesn't matter, but it's not very tidy!)"
   ]
  },
  {
   "cell_type": "code",
   "execution_count": null,
   "metadata": {
    "collapsed": false,
    "run_control": {
     "read_only": false
    }
   },
   "outputs": [],
   "source": [
    "simple_unmelt = simple_melt.pivot('directorates', 'variable', 'value').reset_index()\n",
    "simple_unmelt"
   ]
  },
  {
   "cell_type": "markdown",
   "metadata": {},
   "source": [
    "## Why is reshaping data useful?"
   ]
  },
  {
   "cell_type": "markdown",
   "metadata": {},
   "source": [
    "By this stage, you may be thinking: *this is all very interesting, but so what?*\n",
    "\n",
    "Many datasets that you are likely to find will come in shapes determined by the publisher. By reshaping a dataset, you may be able to filter it naturally by row or column in a way that is at worst impossible, or at best difficult or clumsy to achieve, using the data in a different shape.\n",
    "\n",
    "In addition, many plotting tools require data to be in a particular shape in order to produce charts of a particular style. The graphics libraries can do the plotting work for you, but only if you give the data to them in the shape they need."
   ]
  },
  {
   "cell_type": "markdown",
   "metadata": {},
   "source": [
    "## What next?"
   ]
  },
  {
   "cell_type": "markdown",
   "metadata": {
    "code_folding": [
     0
    ]
   },
   "source": [
    "If you are working through this Notebook as part of an inline exercise, return to the module materials now.\n",
    "\n",
    "If you are working through this set of Notebooks as a whole, you've completed the Part 4 Notebooks. It's time to move on to Part 5."
   ]
  }
 ],
 "metadata": {
  "kernelspec": {
   "display_name": "Python 3",
   "language": "python",
   "name": "python3"
  },
  "language_info": {
   "codemirror_mode": {
    "name": "ipython",
    "version": 3
   },
   "file_extension": ".py",
   "mimetype": "text/x-python",
   "name": "python",
   "nbconvert_exporter": "python",
   "pygments_lexer": "ipython3",
   "version": "3.4.3"
  }
 },
 "nbformat": 4,
 "nbformat_minor": 0
}
