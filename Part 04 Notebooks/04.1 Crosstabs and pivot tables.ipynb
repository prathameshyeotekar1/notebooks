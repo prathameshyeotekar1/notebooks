{
 "cells": [
  {
   "cell_type": "markdown",
   "metadata": {
    "code_folding": [
     0
    ]
   },
   "source": [
    "# Crosstab and pivot tables\n",
    "## Reshaping and summarising data"
   ]
  },
  {
   "cell_type": "markdown",
   "metadata": {},
   "source": [
    "The cross tabulation (crosstab), and the more general pivot table, allow us to reshape and summarise data in tabular form. \n",
    "\n",
    "Later we'll look at reshaping data as a seperate activity, and we'll also look at the basic building blocks that enable the creation of crosstabs and pivot tables - that is, grouping and aggregation over groups.   But for now we'll take the quick and easy route of preparing cross tabulations.\n",
    "\n",
    "Note that SQL cannot easily produce crosstabs and pivot tables: basically SQL is not good at reshaping data.  SQL's underpinning model of the table gets in the way of morphing the table forms under user control (the core data structure was intended for storage, not analysis).  It's one of the reasons NoSQL languages are seen as being more flexible: reshaping a dataset can be a powerful analysis tool.\n",
    "\n",
    "We'll be looking at the *pandas* `crosstab()` and `pivot_table()` methods, so ... we need a sample DataFrame to work with."
   ]
  },
  {
   "cell_type": "code",
   "execution_count": 1,
   "metadata": {
    "collapsed": false,
    "run_control": {
     "read_only": false
    }
   },
   "outputs": [],
   "source": [
    "import pandas as pd\n",
    "import numpy as np"
   ]
  },
  {
   "cell_type": "markdown",
   "metadata": {},
   "source": [
    "## First, ingest some data\n",
    "### The Isle of Wight council spending data"
   ]
  },
  {
   "cell_type": "markdown",
   "metadata": {},
   "source": [
    "The Isle of Wight spending data is a dataset we've seen before - it gives us a nice clean DataFrame to work with.   (It's also the one used in the sample tables in the crosstab section of Part 4 of the module material.)"
   ]
  },
  {
   "cell_type": "code",
   "execution_count": 2,
   "metadata": {
    "collapsed": false,
    "run_control": {
     "read_only": false
    }
   },
   "outputs": [
    {
     "data": {
      "text/html": [
       "<div>\n",
       "<table border=\"1\" class=\"dataframe\">\n",
       "  <thead>\n",
       "    <tr style=\"text-align: right;\">\n",
       "      <th></th>\n",
       "      <th>Capital or Revenue</th>\n",
       "      <th>Directorate</th>\n",
       "      <th>Transaction Number</th>\n",
       "      <th>Date</th>\n",
       "      <th>Service Area</th>\n",
       "      <th>Expenses Type</th>\n",
       "      <th>Amount</th>\n",
       "      <th>Supplier Name</th>\n",
       "    </tr>\n",
       "  </thead>\n",
       "  <tbody>\n",
       "    <tr>\n",
       "      <th>0</th>\n",
       "      <td>Revenue</td>\n",
       "      <td>Community Wellbeing &amp; Social Care</td>\n",
       "      <td>5105650243</td>\n",
       "      <td>29.01.2014</td>\n",
       "      <td>Drug Misuse - Adults</td>\n",
       "      <td>Charges from Independent Providers</td>\n",
       "      <td>120.00</td>\n",
       "      <td>REDACTED PERSONAL DATA</td>\n",
       "    </tr>\n",
       "    <tr>\n",
       "      <th>1</th>\n",
       "      <td>Revenue</td>\n",
       "      <td>Community Wellbeing &amp; Social Care</td>\n",
       "      <td>5105646636</td>\n",
       "      <td>15.01.2014</td>\n",
       "      <td>Drug Misuse - Adults</td>\n",
       "      <td>Charges from Independent Providers</td>\n",
       "      <td>120.00</td>\n",
       "      <td>REDACTED PERSONAL DATA</td>\n",
       "    </tr>\n",
       "    <tr>\n",
       "      <th>2</th>\n",
       "      <td>Revenue</td>\n",
       "      <td>Community Wellbeing &amp; Social Care</td>\n",
       "      <td>5105648361</td>\n",
       "      <td>22.01.2014</td>\n",
       "      <td>Leaseholds by LA</td>\n",
       "      <td>Accommodation Costs - Leaseholder Payments</td>\n",
       "      <td>695.89</td>\n",
       "      <td>REDACTED PERSONAL DATA</td>\n",
       "    </tr>\n",
       "  </tbody>\n",
       "</table>\n",
       "</div>"
      ],
      "text/plain": [
       "  Capital or Revenue                        Directorate Transaction Number  \\\n",
       "0            Revenue  Community Wellbeing & Social Care         5105650243   \n",
       "1            Revenue  Community Wellbeing & Social Care         5105646636   \n",
       "2            Revenue  Community Wellbeing & Social Care         5105648361   \n",
       "\n",
       "         Date          Service Area  \\\n",
       "0  29.01.2014  Drug Misuse - Adults   \n",
       "1  15.01.2014  Drug Misuse - Adults   \n",
       "2  22.01.2014      Leaseholds by LA   \n",
       "\n",
       "                                Expenses Type  Amount           Supplier Name  \n",
       "0          Charges from Independent Providers  120.00  REDACTED PERSONAL DATA  \n",
       "1          Charges from Independent Providers  120.00  REDACTED PERSONAL DATA  \n",
       "2  Accommodation Costs - Leaseholder Payments  695.89  REDACTED PERSONAL DATA  "
      ]
     },
     "execution_count": 2,
     "metadata": {},
     "output_type": "execute_result"
    }
   ],
   "source": [
    "# Read in the CSV formatted spending data file.\n",
    "df = pd.read_csv('data/spendingdata/IW_PUBLISHED FORMAT - JAN 2014.csv',\n",
    "                 thousands=',', encoding='latin-1')\n",
    "df[:3]"
   ]
  },
  {
   "cell_type": "markdown",
   "metadata": {},
   "source": [
    "## The cross tabulation: counting occurrences"
   ]
  },
  {
   "cell_type": "markdown",
   "metadata": {},
   "source": [
    "The `crosstab()` method provides a convenient way of counting the occurrences of one column value or index value with respect to another.\n",
    "\n",
    "Let's get a count of the number of `Capital` and the number of `Revenue` transactions for each of the Isle of Wight council `Directorates`:"
   ]
  },
  {
   "cell_type": "code",
   "execution_count": 9,
   "metadata": {
    "collapsed": false,
    "run_control": {
     "read_only": false
    }
   },
   "outputs": [
    {
     "data": {
      "text/html": [
       "<div>\n",
       "<table border=\"1\" class=\"dataframe\">\n",
       "  <thead>\n",
       "    <tr style=\"text-align: right;\">\n",
       "      <th>Capital or Revenue</th>\n",
       "      <th>Capital</th>\n",
       "      <th>Revenue</th>\n",
       "    </tr>\n",
       "    <tr>\n",
       "      <th>Directorate</th>\n",
       "      <th></th>\n",
       "      <th></th>\n",
       "    </tr>\n",
       "  </thead>\n",
       "  <tbody>\n",
       "    <tr>\n",
       "      <th>Childrens Services</th>\n",
       "      <td>37</td>\n",
       "      <td>4091</td>\n",
       "    </tr>\n",
       "    <tr>\n",
       "      <th>Community Wellbeing &amp; Social Care</th>\n",
       "      <td>30</td>\n",
       "      <td>5039</td>\n",
       "    </tr>\n",
       "    <tr>\n",
       "      <th>Corporate</th>\n",
       "      <td>36</td>\n",
       "      <td>28</td>\n",
       "    </tr>\n",
       "    <tr>\n",
       "      <th>Economy &amp; Environment</th>\n",
       "      <td>27</td>\n",
       "      <td>2075</td>\n",
       "    </tr>\n",
       "    <tr>\n",
       "      <th>Resources</th>\n",
       "      <td>44</td>\n",
       "      <td>1092</td>\n",
       "    </tr>\n",
       "  </tbody>\n",
       "</table>\n",
       "</div>"
      ],
      "text/plain": [
       "Capital or Revenue                 Capital  Revenue\n",
       "Directorate                                        \n",
       "Childrens Services                      37     4091\n",
       "Community Wellbeing & Social Care       30     5039\n",
       "Corporate                               36       28\n",
       "Economy & Environment                   27     2075\n",
       "Resources                               44     1092"
      ]
     },
     "execution_count": 9,
     "metadata": {},
     "output_type": "execute_result"
    }
   ],
   "source": [
    "pd.crosstab(df['Directorate'], df['Capital or Revenue'])"
   ]
  },
  {
   "cell_type": "markdown",
   "metadata": {},
   "source": [
    "The `crosstab` has reshaped our DataFrame - there is now a row for each unique value in the `Directorate` column of the original table, and a column for each unique value in the `Capital or Revenue` column of the original table.  At the intersection of each row and column there is the count of the number of times that row value and that column value occur in the original table's rows.\n",
    "\n",
    "What would happen if we switched the order of the `df` column references in the above `crosstab` code?  Try it and see if you were right.  There are really two questions here: what happens to the rows and columns, and what happens to the counts?"
   ]
  },
  {
   "cell_type": "code",
   "execution_count": 10,
   "metadata": {
    "collapsed": false,
    "run_control": {
     "read_only": false
    }
   },
   "outputs": [
    {
     "data": {
      "text/html": [
       "<div>\n",
       "<table border=\"1\" class=\"dataframe\">\n",
       "  <thead>\n",
       "    <tr style=\"text-align: right;\">\n",
       "      <th>Directorate</th>\n",
       "      <th>Childrens Services</th>\n",
       "      <th>Community Wellbeing &amp; Social Care</th>\n",
       "      <th>Corporate</th>\n",
       "      <th>Economy &amp; Environment</th>\n",
       "      <th>Resources</th>\n",
       "    </tr>\n",
       "    <tr>\n",
       "      <th>Capital or Revenue</th>\n",
       "      <th></th>\n",
       "      <th></th>\n",
       "      <th></th>\n",
       "      <th></th>\n",
       "      <th></th>\n",
       "    </tr>\n",
       "  </thead>\n",
       "  <tbody>\n",
       "    <tr>\n",
       "      <th>Capital</th>\n",
       "      <td>37</td>\n",
       "      <td>30</td>\n",
       "      <td>36</td>\n",
       "      <td>27</td>\n",
       "      <td>44</td>\n",
       "    </tr>\n",
       "    <tr>\n",
       "      <th>Revenue</th>\n",
       "      <td>4091</td>\n",
       "      <td>5039</td>\n",
       "      <td>28</td>\n",
       "      <td>2075</td>\n",
       "      <td>1092</td>\n",
       "    </tr>\n",
       "  </tbody>\n",
       "</table>\n",
       "</div>"
      ],
      "text/plain": [
       "Directorate         Childrens Services  Community Wellbeing & Social Care  \\\n",
       "Capital or Revenue                                                          \n",
       "Capital                             37                                 30   \n",
       "Revenue                           4091                               5039   \n",
       "\n",
       "Directorate         Corporate  Economy & Environment  Resources  \n",
       "Capital or Revenue                                               \n",
       "Capital                    36                     27         44  \n",
       "Revenue                    28                   2075       1092  "
      ]
     },
     "execution_count": 10,
     "metadata": {},
     "output_type": "execute_result"
    }
   ],
   "source": [
    "pd.crosstab(df['Capital or Revenue'], df['Directorate'])"
   ]
  },
  {
   "cell_type": "markdown",
   "metadata": {},
   "source": [
    "The first of the `crosstab` parameters gives us the column list, the second parameter gives us the row list - so we get a different table shape. But because the same rows and columns are used, the counts at the intersections of the rows and columns remain the same - `Childrens Services` had `37` `Capital` transactions - whatever the order of the shape of the resulting table, or order of the rows and columns."
   ]
  },
  {
   "cell_type": "markdown",
   "metadata": {},
   "source": [
    "We can also capture the total count by row and by column by setting the `margins` parameter to be `True` (by default, `margins=False`). The new `All` column and row contains the row and column totals respectively."
   ]
  },
  {
   "cell_type": "code",
   "execution_count": 11,
   "metadata": {
    "collapsed": false,
    "run_control": {
     "read_only": false
    }
   },
   "outputs": [
    {
     "data": {
      "text/html": [
       "<div>\n",
       "<table border=\"1\" class=\"dataframe\">\n",
       "  <thead>\n",
       "    <tr style=\"text-align: right;\">\n",
       "      <th>Capital or Revenue</th>\n",
       "      <th>Capital</th>\n",
       "      <th>Revenue</th>\n",
       "      <th>All</th>\n",
       "    </tr>\n",
       "    <tr>\n",
       "      <th>Directorate</th>\n",
       "      <th></th>\n",
       "      <th></th>\n",
       "      <th></th>\n",
       "    </tr>\n",
       "  </thead>\n",
       "  <tbody>\n",
       "    <tr>\n",
       "      <th>Childrens Services</th>\n",
       "      <td>37</td>\n",
       "      <td>4091</td>\n",
       "      <td>4128</td>\n",
       "    </tr>\n",
       "    <tr>\n",
       "      <th>Community Wellbeing &amp; Social Care</th>\n",
       "      <td>30</td>\n",
       "      <td>5039</td>\n",
       "      <td>5069</td>\n",
       "    </tr>\n",
       "    <tr>\n",
       "      <th>Corporate</th>\n",
       "      <td>36</td>\n",
       "      <td>28</td>\n",
       "      <td>64</td>\n",
       "    </tr>\n",
       "    <tr>\n",
       "      <th>Economy &amp; Environment</th>\n",
       "      <td>27</td>\n",
       "      <td>2075</td>\n",
       "      <td>2102</td>\n",
       "    </tr>\n",
       "    <tr>\n",
       "      <th>Resources</th>\n",
       "      <td>44</td>\n",
       "      <td>1092</td>\n",
       "      <td>1136</td>\n",
       "    </tr>\n",
       "    <tr>\n",
       "      <th>All</th>\n",
       "      <td>174</td>\n",
       "      <td>12325</td>\n",
       "      <td>12499</td>\n",
       "    </tr>\n",
       "  </tbody>\n",
       "</table>\n",
       "</div>"
      ],
      "text/plain": [
       "Capital or Revenue                 Capital  Revenue    All\n",
       "Directorate                                               \n",
       "Childrens Services                      37     4091   4128\n",
       "Community Wellbeing & Social Care       30     5039   5069\n",
       "Corporate                               36       28     64\n",
       "Economy & Environment                   27     2075   2102\n",
       "Resources                               44     1092   1136\n",
       "All                                    174    12325  12499"
      ]
     },
     "execution_count": 11,
     "metadata": {},
     "output_type": "execute_result"
    }
   ],
   "source": [
    "pd.crosstab(df['Directorate'], df['Capital or Revenue'], margins=True)"
   ]
  },
  {
   "cell_type": "markdown",
   "metadata": {},
   "source": [
    "## The pivot table: generalising to more than counting"
   ]
  },
  {
   "cell_type": "markdown",
   "metadata": {},
   "source": [
    "A rather more general method of summarising data is the `pivot_table()`. The `pivot_table()` provides functionality akin to spreadsheet pivot tables, in that it can be used to aggregate data in a DataFrame, over a hierarchy of columns, in a user-controlled way."
   ]
  },
  {
   "cell_type": "markdown",
   "metadata": {},
   "source": [
    "Let's start with the simplest aggregation over a single column and work our way up.\n",
    "\n",
    "What is the `sum` of the `Amounts` for each `Directorate`?   I've used the numpy `sum` function, but any meaningful aggregate function could be applied to the columns.  "
   ]
  },
  {
   "cell_type": "code",
   "execution_count": 13,
   "metadata": {
    "collapsed": false,
    "run_control": {
     "read_only": false
    }
   },
   "outputs": [
    {
     "data": {
      "text/html": [
       "<div>\n",
       "<table border=\"1\" class=\"dataframe\">\n",
       "  <thead>\n",
       "    <tr style=\"text-align: right;\">\n",
       "      <th></th>\n",
       "      <th>Amount</th>\n",
       "    </tr>\n",
       "    <tr>\n",
       "      <th>Directorate</th>\n",
       "      <th></th>\n",
       "    </tr>\n",
       "  </thead>\n",
       "  <tbody>\n",
       "    <tr>\n",
       "      <th>Childrens Services</th>\n",
       "      <td>4400360.57</td>\n",
       "    </tr>\n",
       "    <tr>\n",
       "      <th>Community Wellbeing &amp; Social Care</th>\n",
       "      <td>4418142.00</td>\n",
       "    </tr>\n",
       "    <tr>\n",
       "      <th>Corporate</th>\n",
       "      <td>-123917.04</td>\n",
       "    </tr>\n",
       "    <tr>\n",
       "      <th>Economy &amp; Environment</th>\n",
       "      <td>3806277.69</td>\n",
       "    </tr>\n",
       "    <tr>\n",
       "      <th>Resources</th>\n",
       "      <td>776363.23</td>\n",
       "    </tr>\n",
       "  </tbody>\n",
       "</table>\n",
       "</div>"
      ],
      "text/plain": [
       "                                       Amount\n",
       "Directorate                                  \n",
       "Childrens Services                 4400360.57\n",
       "Community Wellbeing & Social Care  4418142.00\n",
       "Corporate                          -123917.04\n",
       "Economy & Environment              3806277.69\n",
       "Resources                           776363.23"
      ]
     },
     "execution_count": 13,
     "metadata": {},
     "output_type": "execute_result"
    }
   ],
   "source": [
    "df.pivot_table(index=['Directorate'], aggfunc=np.sum)"
   ]
  },
  {
   "cell_type": "markdown",
   "metadata": {
    "activity": "activity"
   },
   "source": [
    "### ASIDE: Why is only the `Amount` column output?\n",
    "The `df` table has more than just the `Amount` column; so where are the other columns?\n",
    "\n",
    "In the above cell, the `Amount` column is the only column where the `sum` function makes sense. \n",
    "\n",
    "What happens if we apply an aggregation function, like `np.max`,  that makes sense over all the columns? \n",
    "\n",
    "Try it and see."
   ]
  },
  {
   "cell_type": "code",
   "execution_count": 14,
   "metadata": {
    "activity": "activity",
    "collapsed": false,
    "run_control": {
     "read_only": false
    }
   },
   "outputs": [
    {
     "data": {
      "text/html": [
       "<div>\n",
       "<table border=\"1\" class=\"dataframe\">\n",
       "  <thead>\n",
       "    <tr style=\"text-align: right;\">\n",
       "      <th></th>\n",
       "      <th>Amount</th>\n",
       "      <th>Capital or Revenue</th>\n",
       "      <th>Date</th>\n",
       "      <th>Expenses Type</th>\n",
       "      <th>Service Area</th>\n",
       "      <th>Supplier Name</th>\n",
       "      <th>Transaction Number</th>\n",
       "    </tr>\n",
       "    <tr>\n",
       "      <th>Directorate</th>\n",
       "      <th></th>\n",
       "      <th></th>\n",
       "      <th></th>\n",
       "      <th></th>\n",
       "      <th></th>\n",
       "      <th></th>\n",
       "      <th></th>\n",
       "    </tr>\n",
       "  </thead>\n",
       "  <tbody>\n",
       "    <tr>\n",
       "      <th>Childrens Services</th>\n",
       "      <td>268198.52</td>\n",
       "      <td>Revenue</td>\n",
       "      <td>31.12.2013</td>\n",
       "      <td>Water and Sewerage</td>\n",
       "      <td>Youth- West Wight</td>\n",
       "      <td>YOUTH SERVICE</td>\n",
       "      <td>Payroll</td>\n",
       "    </tr>\n",
       "    <tr>\n",
       "      <th>Community Wellbeing &amp; Social Care</th>\n",
       "      <td>276434.00</td>\n",
       "      <td>Revenue</td>\n",
       "      <td>31.01.2014</td>\n",
       "      <td>Water and Sewerage</td>\n",
       "      <td>Wroxall Primary Devolved Capital</td>\n",
       "      <td>YOURCARE LIMITED</td>\n",
       "      <td>Payroll</td>\n",
       "    </tr>\n",
       "    <tr>\n",
       "      <th>Corporate</th>\n",
       "      <td>8320.25</td>\n",
       "      <td>Revenue</td>\n",
       "      <td>31.01.2014</td>\n",
       "      <td>Water and Sewerage</td>\n",
       "      <td>Rent Allowances Granted</td>\n",
       "      <td>WOOTTON PRIMARY SCHOOL</td>\n",
       "      <td>5400001770</td>\n",
       "    </tr>\n",
       "    <tr>\n",
       "      <th>Economy &amp; Environment</th>\n",
       "      <td>1410780.85</td>\n",
       "      <td>Revenue</td>\n",
       "      <td>31.12.2013</td>\n",
       "      <td>Water and Sewerage</td>\n",
       "      <td>Youth Council</td>\n",
       "      <td>ZUMBA FITNESS</td>\n",
       "      <td>Payroll</td>\n",
       "    </tr>\n",
       "    <tr>\n",
       "      <th>Resources</th>\n",
       "      <td>127326.00</td>\n",
       "      <td>Revenue</td>\n",
       "      <td>31.12.2013</td>\n",
       "      <td>Water and Sewerage</td>\n",
       "      <td>Transformation Costs</td>\n",
       "      <td>YMCA WINCHESTER HOUSE DAY NURSERY</td>\n",
       "      <td>Payroll</td>\n",
       "    </tr>\n",
       "  </tbody>\n",
       "</table>\n",
       "</div>"
      ],
      "text/plain": [
       "                                       Amount Capital or Revenue        Date  \\\n",
       "Directorate                                                                    \n",
       "Childrens Services                  268198.52            Revenue  31.12.2013   \n",
       "Community Wellbeing & Social Care   276434.00            Revenue  31.01.2014   \n",
       "Corporate                             8320.25            Revenue  31.01.2014   \n",
       "Economy & Environment              1410780.85            Revenue  31.12.2013   \n",
       "Resources                           127326.00            Revenue  31.12.2013   \n",
       "\n",
       "                                        Expenses Type  \\\n",
       "Directorate                                             \n",
       "Childrens Services                 Water and Sewerage   \n",
       "Community Wellbeing & Social Care  Water and Sewerage   \n",
       "Corporate                          Water and Sewerage   \n",
       "Economy & Environment              Water and Sewerage   \n",
       "Resources                          Water and Sewerage   \n",
       "\n",
       "                                                       Service Area  \\\n",
       "Directorate                                                           \n",
       "Childrens Services                                Youth- West Wight   \n",
       "Community Wellbeing & Social Care  Wroxall Primary Devolved Capital   \n",
       "Corporate                                   Rent Allowances Granted   \n",
       "Economy & Environment                                 Youth Council   \n",
       "Resources                                      Transformation Costs   \n",
       "\n",
       "                                                       Supplier Name  \\\n",
       "Directorate                                                            \n",
       "Childrens Services                                     YOUTH SERVICE   \n",
       "Community Wellbeing & Social Care                   YOURCARE LIMITED   \n",
       "Corporate                                     WOOTTON PRIMARY SCHOOL   \n",
       "Economy & Environment                                  ZUMBA FITNESS   \n",
       "Resources                          YMCA WINCHESTER HOUSE DAY NURSERY   \n",
       "\n",
       "                                  Transaction Number  \n",
       "Directorate                                           \n",
       "Childrens Services                           Payroll  \n",
       "Community Wellbeing & Social Care            Payroll  \n",
       "Corporate                                 5400001770  \n",
       "Economy & Environment                        Payroll  \n",
       "Resources                                    Payroll  "
      ]
     },
     "execution_count": 14,
     "metadata": {},
     "output_type": "execute_result"
    }
   ],
   "source": [
    "# Put your code here and try it.\n",
    "df.pivot_table(index=['Directorate'], aggfunc=np.max)\n",
    "#this is nastly, because max also applies to strings and returns the max string, i.e. the ones closest to z"
   ]
  },
  {
   "cell_type": "markdown",
   "metadata": {},
   "source": [
    "## Pivot table over two, or more, index columns?\n",
    "We said that the pivot table applies the aggregate function over a hierarchy of columns - so let's look at that.\n",
    "\n",
    "Imagine that we need to generate a report that shows the total amount associated with capital or revenue spend for each directorate, with those two amounts reported separately for each directorate. \n",
    "\n",
    "The `pivot_table()` allows us to supply a list of columns for the index value, and that list is used to create the hierarchical breakdown of the aggregations  (later in the module we'll see these are known as `groups`.)\n"
   ]
  },
  {
   "cell_type": "code",
   "execution_count": 15,
   "metadata": {
    "collapsed": false,
    "run_control": {
     "read_only": false
    }
   },
   "outputs": [
    {
     "data": {
      "text/html": [
       "<div>\n",
       "<table border=\"1\" class=\"dataframe\">\n",
       "  <thead>\n",
       "    <tr style=\"text-align: right;\">\n",
       "      <th></th>\n",
       "      <th></th>\n",
       "      <th>Amount</th>\n",
       "    </tr>\n",
       "    <tr>\n",
       "      <th>Directorate</th>\n",
       "      <th>Capital or Revenue</th>\n",
       "      <th></th>\n",
       "    </tr>\n",
       "  </thead>\n",
       "  <tbody>\n",
       "    <tr>\n",
       "      <th rowspan=\"2\" valign=\"top\">Childrens Services</th>\n",
       "      <th>Capital</th>\n",
       "      <td>205436.48</td>\n",
       "    </tr>\n",
       "    <tr>\n",
       "      <th>Revenue</th>\n",
       "      <td>4194924.09</td>\n",
       "    </tr>\n",
       "    <tr>\n",
       "      <th rowspan=\"2\" valign=\"top\">Community Wellbeing &amp; Social Care</th>\n",
       "      <th>Capital</th>\n",
       "      <td>35711.53</td>\n",
       "    </tr>\n",
       "    <tr>\n",
       "      <th>Revenue</th>\n",
       "      <td>4382430.47</td>\n",
       "    </tr>\n",
       "    <tr>\n",
       "      <th rowspan=\"2\" valign=\"top\">Corporate</th>\n",
       "      <th>Capital</th>\n",
       "      <td>32972.17</td>\n",
       "    </tr>\n",
       "    <tr>\n",
       "      <th>Revenue</th>\n",
       "      <td>-156889.21</td>\n",
       "    </tr>\n",
       "    <tr>\n",
       "      <th rowspan=\"2\" valign=\"top\">Economy &amp; Environment</th>\n",
       "      <th>Capital</th>\n",
       "      <td>281325.89</td>\n",
       "    </tr>\n",
       "    <tr>\n",
       "      <th>Revenue</th>\n",
       "      <td>3524951.80</td>\n",
       "    </tr>\n",
       "    <tr>\n",
       "      <th rowspan=\"2\" valign=\"top\">Resources</th>\n",
       "      <th>Capital</th>\n",
       "      <td>107492.38</td>\n",
       "    </tr>\n",
       "    <tr>\n",
       "      <th>Revenue</th>\n",
       "      <td>668870.85</td>\n",
       "    </tr>\n",
       "  </tbody>\n",
       "</table>\n",
       "</div>"
      ],
      "text/plain": [
       "                                                          Amount\n",
       "Directorate                       Capital or Revenue            \n",
       "Childrens Services                Capital              205436.48\n",
       "                                  Revenue             4194924.09\n",
       "Community Wellbeing & Social Care Capital               35711.53\n",
       "                                  Revenue             4382430.47\n",
       "Corporate                         Capital               32972.17\n",
       "                                  Revenue             -156889.21\n",
       "Economy & Environment             Capital              281325.89\n",
       "                                  Revenue             3524951.80\n",
       "Resources                         Capital              107492.38\n",
       "                                  Revenue              668870.85"
      ]
     },
     "execution_count": 15,
     "metadata": {},
     "output_type": "execute_result"
    }
   ],
   "source": [
    "df.pivot_table(index=['Directorate', 'Capital or Revenue'], aggfunc=np.sum)"
   ]
  },
  {
   "cell_type": "code",
   "execution_count": null,
   "metadata": {
    "collapsed": false,
    "run_control": {
     "read_only": false
    }
   },
   "outputs": [],
   "source": [
    "# We could extend this to more columns in the hierarchy, \n",
    "#    - although the Isle of Wight data doesn't have a nice short 'third' column to use, \n",
    "#      so this looks messy. \n",
    "df.pivot_table(index=['Directorate', 'Capital or Revenue', 'Expenses Type'], aggfunc=np.sum)\n",
    "\n",
    "\n",
    "# Here's another hierarchy with a different aggfunc:\n",
    "#df.pivot_table(index=['Directorate', 'Capital or Revenue', 'Supplier Name'], aggfunc='count')"
   ]
  },
  {
   "cell_type": "markdown",
   "metadata": {},
   "source": [
    "__Note:__ in the above we're still depending on the type of the actual `aggfunc` to decide that the `Amount` column is the only one we want. If we put `np.max` in place of `np.sum` in the above, what do you think will happen (remember you can get the `max` of a set of text strings, or numbers, or dates) ... it gets very messy!  \n",
    "\n",
    "There must be some way to control this ....\n",
    "\n",
    "Let's first remind ourselves of the two-level hierarchy we saw earlier."
   ]
  },
  {
   "cell_type": "code",
   "execution_count": 16,
   "metadata": {
    "collapsed": false,
    "run_control": {
     "read_only": false
    }
   },
   "outputs": [
    {
     "data": {
      "text/html": [
       "<div>\n",
       "<table border=\"1\" class=\"dataframe\">\n",
       "  <thead>\n",
       "    <tr style=\"text-align: right;\">\n",
       "      <th></th>\n",
       "      <th></th>\n",
       "      <th>Amount</th>\n",
       "    </tr>\n",
       "    <tr>\n",
       "      <th>Directorate</th>\n",
       "      <th>Capital or Revenue</th>\n",
       "      <th></th>\n",
       "    </tr>\n",
       "  </thead>\n",
       "  <tbody>\n",
       "    <tr>\n",
       "      <th rowspan=\"2\" valign=\"top\">Childrens Services</th>\n",
       "      <th>Capital</th>\n",
       "      <td>205436.48</td>\n",
       "    </tr>\n",
       "    <tr>\n",
       "      <th>Revenue</th>\n",
       "      <td>4194924.09</td>\n",
       "    </tr>\n",
       "    <tr>\n",
       "      <th rowspan=\"2\" valign=\"top\">Community Wellbeing &amp; Social Care</th>\n",
       "      <th>Capital</th>\n",
       "      <td>35711.53</td>\n",
       "    </tr>\n",
       "    <tr>\n",
       "      <th>Revenue</th>\n",
       "      <td>4382430.47</td>\n",
       "    </tr>\n",
       "    <tr>\n",
       "      <th rowspan=\"2\" valign=\"top\">Corporate</th>\n",
       "      <th>Capital</th>\n",
       "      <td>32972.17</td>\n",
       "    </tr>\n",
       "    <tr>\n",
       "      <th>Revenue</th>\n",
       "      <td>-156889.21</td>\n",
       "    </tr>\n",
       "    <tr>\n",
       "      <th rowspan=\"2\" valign=\"top\">Economy &amp; Environment</th>\n",
       "      <th>Capital</th>\n",
       "      <td>281325.89</td>\n",
       "    </tr>\n",
       "    <tr>\n",
       "      <th>Revenue</th>\n",
       "      <td>3524951.80</td>\n",
       "    </tr>\n",
       "    <tr>\n",
       "      <th rowspan=\"2\" valign=\"top\">Resources</th>\n",
       "      <th>Capital</th>\n",
       "      <td>107492.38</td>\n",
       "    </tr>\n",
       "    <tr>\n",
       "      <th>Revenue</th>\n",
       "      <td>668870.85</td>\n",
       "    </tr>\n",
       "  </tbody>\n",
       "</table>\n",
       "</div>"
      ],
      "text/plain": [
       "                                                          Amount\n",
       "Directorate                       Capital or Revenue            \n",
       "Childrens Services                Capital              205436.48\n",
       "                                  Revenue             4194924.09\n",
       "Community Wellbeing & Social Care Capital               35711.53\n",
       "                                  Revenue             4382430.47\n",
       "Corporate                         Capital               32972.17\n",
       "                                  Revenue             -156889.21\n",
       "Economy & Environment             Capital              281325.89\n",
       "                                  Revenue             3524951.80\n",
       "Resources                         Capital              107492.38\n",
       "                                  Revenue              668870.85"
      ]
     },
     "execution_count": 16,
     "metadata": {},
     "output_type": "execute_result"
    }
   ],
   "source": [
    "df.pivot_table(index=['Directorate', 'Capital or Revenue'], aggfunc=np.sum)"
   ]
  },
  {
   "cell_type": "markdown",
   "metadata": {},
   "source": [
    "The `pivot_table()` method also lets us produce the grouped result DataFrames with other shapes - in particular we can choose where to split the hierarchy into rows and columns. \n",
    "\n",
    "So suppose we want to group the sum totals as before at the `Directorate` level, but this time generate a results DataFrame that splits out the `Capital or Revenue` amounts as distinct columns."
   ]
  },
  {
   "cell_type": "code",
   "execution_count": 17,
   "metadata": {
    "collapsed": false,
    "run_control": {
     "read_only": false
    }
   },
   "outputs": [
    {
     "data": {
      "text/html": [
       "<div>\n",
       "<table border=\"1\" class=\"dataframe\">\n",
       "  <thead>\n",
       "    <tr>\n",
       "      <th></th>\n",
       "      <th colspan=\"2\" halign=\"left\">Amount</th>\n",
       "    </tr>\n",
       "    <tr>\n",
       "      <th>Capital or Revenue</th>\n",
       "      <th>Capital</th>\n",
       "      <th>Revenue</th>\n",
       "    </tr>\n",
       "    <tr>\n",
       "      <th>Directorate</th>\n",
       "      <th></th>\n",
       "      <th></th>\n",
       "    </tr>\n",
       "  </thead>\n",
       "  <tbody>\n",
       "    <tr>\n",
       "      <th>Childrens Services</th>\n",
       "      <td>205436.48</td>\n",
       "      <td>4194924.09</td>\n",
       "    </tr>\n",
       "    <tr>\n",
       "      <th>Community Wellbeing &amp; Social Care</th>\n",
       "      <td>35711.53</td>\n",
       "      <td>4382430.47</td>\n",
       "    </tr>\n",
       "    <tr>\n",
       "      <th>Corporate</th>\n",
       "      <td>32972.17</td>\n",
       "      <td>-156889.21</td>\n",
       "    </tr>\n",
       "    <tr>\n",
       "      <th>Economy &amp; Environment</th>\n",
       "      <td>281325.89</td>\n",
       "      <td>3524951.80</td>\n",
       "    </tr>\n",
       "    <tr>\n",
       "      <th>Resources</th>\n",
       "      <td>107492.38</td>\n",
       "      <td>668870.85</td>\n",
       "    </tr>\n",
       "  </tbody>\n",
       "</table>\n",
       "</div>"
      ],
      "text/plain": [
       "                                      Amount            \n",
       "Capital or Revenue                   Capital     Revenue\n",
       "Directorate                                             \n",
       "Childrens Services                 205436.48  4194924.09\n",
       "Community Wellbeing & Social Care   35711.53  4382430.47\n",
       "Corporate                           32972.17  -156889.21\n",
       "Economy & Environment              281325.89  3524951.80\n",
       "Resources                          107492.38   668870.85"
      ]
     },
     "execution_count": 17,
     "metadata": {},
     "output_type": "execute_result"
    }
   ],
   "source": [
    "df.pivot_table(index=['Directorate'], columns=['Capital or Revenue'], aggfunc=np.sum)"
   ]
  },
  {
   "cell_type": "markdown",
   "metadata": {},
   "source": [
    "We could create a hierarchy of rows and columns by using a list for the `index` parameter and a list for the `columns` parameter.\n",
    "The Isle of Wight data really looks messy if you try to do this! There are too many distinct values in the columns that aren't the `Directorate` or `Capital or Revenue` columns. This gives a very wide and very long table."
   ]
  },
  {
   "cell_type": "markdown",
   "metadata": {},
   "source": [
    "When there is a hierarchy over the `index` and over the `columns`, you may also want to generate column or row totals. The `pivot_table()` method can help here too. Set the `margins` parameter to be `True` (the default is `False`)."
   ]
  },
  {
   "cell_type": "code",
   "execution_count": 18,
   "metadata": {
    "collapsed": false,
    "run_control": {
     "read_only": false
    }
   },
   "outputs": [
    {
     "data": {
      "text/html": [
       "<div>\n",
       "<table border=\"1\" class=\"dataframe\">\n",
       "  <thead>\n",
       "    <tr>\n",
       "      <th></th>\n",
       "      <th colspan=\"3\" halign=\"left\">Amount</th>\n",
       "    </tr>\n",
       "    <tr>\n",
       "      <th>Capital or Revenue</th>\n",
       "      <th>Capital</th>\n",
       "      <th>Revenue</th>\n",
       "      <th>All</th>\n",
       "    </tr>\n",
       "    <tr>\n",
       "      <th>Directorate</th>\n",
       "      <th></th>\n",
       "      <th></th>\n",
       "      <th></th>\n",
       "    </tr>\n",
       "  </thead>\n",
       "  <tbody>\n",
       "    <tr>\n",
       "      <th>Childrens Services</th>\n",
       "      <td>205436.48</td>\n",
       "      <td>4194924.09</td>\n",
       "      <td>4400360.57</td>\n",
       "    </tr>\n",
       "    <tr>\n",
       "      <th>Community Wellbeing &amp; Social Care</th>\n",
       "      <td>35711.53</td>\n",
       "      <td>4382430.47</td>\n",
       "      <td>4418142.00</td>\n",
       "    </tr>\n",
       "    <tr>\n",
       "      <th>Corporate</th>\n",
       "      <td>32972.17</td>\n",
       "      <td>-156889.21</td>\n",
       "      <td>-123917.04</td>\n",
       "    </tr>\n",
       "    <tr>\n",
       "      <th>Economy &amp; Environment</th>\n",
       "      <td>281325.89</td>\n",
       "      <td>3524951.80</td>\n",
       "      <td>3806277.69</td>\n",
       "    </tr>\n",
       "    <tr>\n",
       "      <th>Resources</th>\n",
       "      <td>107492.38</td>\n",
       "      <td>668870.85</td>\n",
       "      <td>776363.23</td>\n",
       "    </tr>\n",
       "    <tr>\n",
       "      <th>All</th>\n",
       "      <td>662938.45</td>\n",
       "      <td>12614288.00</td>\n",
       "      <td>13277226.45</td>\n",
       "    </tr>\n",
       "  </tbody>\n",
       "</table>\n",
       "</div>"
      ],
      "text/plain": [
       "                                      Amount                          \n",
       "Capital or Revenue                   Capital      Revenue          All\n",
       "Directorate                                                           \n",
       "Childrens Services                 205436.48   4194924.09   4400360.57\n",
       "Community Wellbeing & Social Care   35711.53   4382430.47   4418142.00\n",
       "Corporate                           32972.17   -156889.21   -123917.04\n",
       "Economy & Environment              281325.89   3524951.80   3806277.69\n",
       "Resources                          107492.38    668870.85    776363.23\n",
       "All                                662938.45  12614288.00  13277226.45"
      ]
     },
     "execution_count": 18,
     "metadata": {},
     "output_type": "execute_result"
    }
   ],
   "source": [
    "df.pivot_table(index=['Directorate'], columns=['Capital or Revenue'], aggfunc=np.sum, margins='True')"
   ]
  },
  {
   "cell_type": "markdown",
   "metadata": {},
   "source": [
    "## Different aggregate functions applied to the columns?"
   ]
  },
  {
   "cell_type": "markdown",
   "metadata": {},
   "source": [
    "We can also apply different aggregation functions to the relevant columns - `aggfunc` accepts a list, each function in the list creates a summary column for each compatible column in the original table."
   ]
  },
  {
   "cell_type": "code",
   "execution_count": 19,
   "metadata": {
    "collapsed": false,
    "run_control": {
     "read_only": false
    }
   },
   "outputs": [
    {
     "data": {
      "text/html": [
       "<div>\n",
       "<table border=\"1\" class=\"dataframe\">\n",
       "  <thead>\n",
       "    <tr>\n",
       "      <th></th>\n",
       "      <th></th>\n",
       "      <th>sum</th>\n",
       "      <th>median</th>\n",
       "    </tr>\n",
       "    <tr>\n",
       "      <th></th>\n",
       "      <th></th>\n",
       "      <th>Amount</th>\n",
       "      <th>Amount</th>\n",
       "    </tr>\n",
       "    <tr>\n",
       "      <th>Directorate</th>\n",
       "      <th>Capital or Revenue</th>\n",
       "      <th></th>\n",
       "      <th></th>\n",
       "    </tr>\n",
       "  </thead>\n",
       "  <tbody>\n",
       "    <tr>\n",
       "      <th rowspan=\"2\" valign=\"top\">Childrens Services</th>\n",
       "      <th>Capital</th>\n",
       "      <td>205436.48</td>\n",
       "      <td>4032.00</td>\n",
       "    </tr>\n",
       "    <tr>\n",
       "      <th>Revenue</th>\n",
       "      <td>4194924.09</td>\n",
       "      <td>115.08</td>\n",
       "    </tr>\n",
       "    <tr>\n",
       "      <th rowspan=\"2\" valign=\"top\">Community Wellbeing &amp; Social Care</th>\n",
       "      <th>Capital</th>\n",
       "      <td>35711.53</td>\n",
       "      <td>504.73</td>\n",
       "    </tr>\n",
       "    <tr>\n",
       "      <th>Revenue</th>\n",
       "      <td>4382430.47</td>\n",
       "      <td>203.69</td>\n",
       "    </tr>\n",
       "    <tr>\n",
       "      <th rowspan=\"2\" valign=\"top\">Corporate</th>\n",
       "      <th>Capital</th>\n",
       "      <td>32972.17</td>\n",
       "      <td>148.62</td>\n",
       "    </tr>\n",
       "    <tr>\n",
       "      <th>Revenue</th>\n",
       "      <td>-156889.21</td>\n",
       "      <td>420.00</td>\n",
       "    </tr>\n",
       "    <tr>\n",
       "      <th rowspan=\"2\" valign=\"top\">Economy &amp; Environment</th>\n",
       "      <th>Capital</th>\n",
       "      <td>281325.89</td>\n",
       "      <td>1870.00</td>\n",
       "    </tr>\n",
       "    <tr>\n",
       "      <th>Revenue</th>\n",
       "      <td>3524951.80</td>\n",
       "      <td>47.00</td>\n",
       "    </tr>\n",
       "    <tr>\n",
       "      <th rowspan=\"2\" valign=\"top\">Resources</th>\n",
       "      <th>Capital</th>\n",
       "      <td>107492.38</td>\n",
       "      <td>1200.50</td>\n",
       "    </tr>\n",
       "    <tr>\n",
       "      <th>Revenue</th>\n",
       "      <td>668870.85</td>\n",
       "      <td>69.06</td>\n",
       "    </tr>\n",
       "  </tbody>\n",
       "</table>\n",
       "</div>"
      ],
      "text/plain": [
       "                                                             sum   median\n",
       "                                                          Amount   Amount\n",
       "Directorate                       Capital or Revenue                     \n",
       "Childrens Services                Capital              205436.48  4032.00\n",
       "                                  Revenue             4194924.09   115.08\n",
       "Community Wellbeing & Social Care Capital               35711.53   504.73\n",
       "                                  Revenue             4382430.47   203.69\n",
       "Corporate                         Capital               32972.17   148.62\n",
       "                                  Revenue             -156889.21   420.00\n",
       "Economy & Environment             Capital              281325.89  1870.00\n",
       "                                  Revenue             3524951.80    47.00\n",
       "Resources                         Capital              107492.38  1200.50\n",
       "                                  Revenue              668870.85    69.06"
      ]
     },
     "execution_count": 19,
     "metadata": {},
     "output_type": "execute_result"
    }
   ],
   "source": [
    "# sum and median both apply to numeric values, so we get two output columns here:\n",
    "df.pivot_table(index=['Directorate', 'Capital or Revenue'], aggfunc=[np.sum, np.median])"
   ]
  },
  {
   "cell_type": "code",
   "execution_count": null,
   "metadata": {
    "collapsed": false,
    "run_control": {
     "read_only": false
    }
   },
   "outputs": [],
   "source": [
    "# and if we have multiple columns, we get a hierarchy:\n",
    "df.pivot_table(index=['Directorate'], columns=['Capital or Revenue'], aggfunc=[np.sum, np.median])"
   ]
  },
  {
   "cell_type": "markdown",
   "metadata": {},
   "source": [
    "## Crowd-sourcing time\n",
    "There's probably a way to apply specific functions to specific named columns (say `sum` to `Amount`, and `max` to `Expenses`; but I can't seem to figure that one out.  \n",
    "\n",
    "If you do identify how to do this, put the recipe up on the module forum to share."
   ]
  },
  {
   "cell_type": "markdown",
   "metadata": {
    "activity": "activity"
   },
   "source": [
    "## Exercise "
   ]
  },
  {
   "cell_type": "markdown",
   "metadata": {
    "activity": "activity",
    "code_folding": [
     0
    ]
   },
   "source": [
    "Use a pivot table to find the median spend in the capital and revenue categories (as the rows) for each directorate (by column)."
   ]
  },
  {
   "cell_type": "code",
   "execution_count": null,
   "metadata": {
    "activity": "activity",
    "collapsed": false,
    "run_control": {
     "read_only": false
    }
   },
   "outputs": [],
   "source": [
    "# YOUR ANSWER HERE.\n"
   ]
  },
  {
   "cell_type": "code",
   "execution_count": null,
   "metadata": {
    "activity": "activity",
    "code_folding": [
     0
    ],
    "collapsed": false,
    "run_control": {
     "read_only": false
    }
   },
   "outputs": [],
   "source": [
    "# Sample solution. Do attempt the exercise yourself before unfolding this sample solution.\n",
    "df.pivot_table(index=['Capital or Revenue'], columns=['Directorate'], aggfunc=np.median)"
   ]
  },
  {
   "cell_type": "markdown",
   "metadata": {},
   "source": [
    "## Summary \n",
    "\n",
    "Cross tabulations and pivot tables are quick ways of getting aggregations over the rows and columns of tabular datasets.   Later in the module we'll look at ways in which DataFrame and SQL tables can be directly manipulated to group common table values across columns.\n",
    "\n",
    "For documentation on crosstabs and pivot tables, the _pandas_ documentation is a good place to start:\n",
    "\n",
    "http://pandas.pydata.org/pandas-docs/stable/generated/pandas.crosstab.html\n",
    "\n",
    "http://pandas.pydata.org/pandas-docs/stable/generated/pandas.pivot_table.html\n"
   ]
  },
  {
   "cell_type": "markdown",
   "metadata": {},
   "source": [
    "## Something to watch out for\n",
    "There seems to be a lack of consistency in what is permitted for the `aggfunc` parameter.\n",
    "\n",
    "numpy aggregation functions are named using the `np.name` notation (`np.median`, `np.sum`, `np.max`, etc.), other aggregation functions require their quoted string name `'count'`, `'median'`, etc.\n",
    "\n",
    "I assume this represents a different naming convention, but I'm having trouble working out why.\n",
    "If you have any insights, please pop them on the forum.\n"
   ]
  },
  {
   "cell_type": "markdown",
   "metadata": {
    "code_folding": [
     0
    ]
   },
   "source": [
    "## What next?\n",
    "If you are working through this Notebook as part of an inline exercise, return to the module materials now.\n",
    "\n",
    "If you are working through this set of Notebooks as a whole, move on to the `04.2 Descriptive statistics in pandas` Notebook."
   ]
  }
 ],
 "metadata": {
  "kernelspec": {
   "display_name": "Python 3",
   "language": "python",
   "name": "python3"
  },
  "language_info": {
   "codemirror_mode": {
    "name": "ipython",
    "version": 3
   },
   "file_extension": ".py",
   "mimetype": "text/x-python",
   "name": "python",
   "nbconvert_exporter": "python",
   "pygments_lexer": "ipython3",
   "version": "3.4.3"
  }
 },
 "nbformat": 4,
 "nbformat_minor": 0
}
