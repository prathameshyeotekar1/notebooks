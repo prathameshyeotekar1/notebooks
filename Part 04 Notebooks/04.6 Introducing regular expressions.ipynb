{
 "cells": [
  {
   "cell_type": "markdown",
   "metadata": {
    "code_folding": []
   },
   "source": [
    "# Regular expressions\n",
    "## Finding stuff in strings"
   ]
  },
  {
   "cell_type": "markdown",
   "metadata": {},
   "source": [
    "When handling data in the form of character strings we're usually interested in finding things - either to count the occurrences or to locate and extract fragments.   Generally raw data strings are messy - especially if they're not system generated - variations in spellings, punctuation, whitespace use, and abbreviations can make raw text difficult to search.   Character strings are also the place where most cleaning time is spent; when handling numeric data you at least know the values you are looking at are numbers, but in a character string anything may be present and requiring cleaning.\n",
    "\n",
    "Regular expressions are intended to make the 'finding' stuff more manageable by allowing search patterns to be used which can be tailored to specific requirements.  In the following we'll see how they can be used to find and extract subsets of strings for further processing.  Regular expressions are widely used - so some basic familiarity with the notation and their application is a useful skill to acquire."
   ]
  },
  {
   "cell_type": "markdown",
   "metadata": {},
   "source": [
    "## Using string methods in programming libraries\n",
    "Programming language string-handling methods, and libraries often contain a rich collection of techniques for finding and manipulating text in strings.\n",
    "\n",
    "Python string methods include the `replace(<find>, <replace>)` method which replaces any substrings which match the `<find>` string with the `<replace>` string.    \n",
    "\n",
    "So the following Python replaces `'this'` with `'that'` in the string `'this string values contains this'`.\n"
   ]
  },
  {
   "cell_type": "code",
   "execution_count": null,
   "metadata": {
    "collapsed": false,
    "run_control": {
     "read_only": false
    },
    "scrolled": true
   },
   "outputs": [],
   "source": [
    "'this string value contains this'.replace('this', 'that') "
   ]
  },
  {
   "cell_type": "markdown",
   "metadata": {},
   "source": [
    "Suppose we start with the sentence \n",
    "`'The quick brown fox jumps over the lazy dog and the lazy cat.'`\n",
    "and use the `replace()` method to replace the string `'the'` with the string `'a'`."
   ]
  },
  {
   "cell_type": "code",
   "execution_count": null,
   "metadata": {
    "collapsed": false,
    "run_control": {
     "read_only": false
    }
   },
   "outputs": [],
   "source": [
    "'The quick brown fox jumps over the lazy dog and the lazy cat.'.replace('the', 'a')"
   ]
  },
  {
   "cell_type": "markdown",
   "metadata": {},
   "source": [
    "Notice the limitation of the simple text matching – `'the'` doesn’t match with the `'The'` at the start of the sentence: `'t'` and `'T'` have different character representations at the binary level, so `'t'` and `'T'` do not match one another.\n",
    "\n",
    "Okay, so let’s switch the text back and try again"
   ]
  },
  {
   "cell_type": "code",
   "execution_count": null,
   "metadata": {
    "collapsed": false,
    "run_control": {
     "read_only": false
    }
   },
   "outputs": [],
   "source": [
    "'The quick brown fox jumps over a lazy dog and a lazy cat'.replace('a', 'the')"
   ]
  },
  {
   "cell_type": "markdown",
   "metadata": {},
   "source": [
    "Oh dear, that doesn’t look right – our simple find and replace operation has replaced all occurrences of the `'a'` character not just the word `'a'` (which has spaces or punctuation either side of it).\n",
    "\n",
    "So the way to switch the `'a'`s back to `'the'`s is to find and replace a string that includes the spaces around the `'a'`"
   ]
  },
  {
   "cell_type": "code",
   "execution_count": null,
   "metadata": {
    "collapsed": false,
    "run_control": {
     "read_only": false
    }
   },
   "outputs": [],
   "source": [
    "'The quick brown fox jumps over a lazy dog and a lazy cat'.replace(' a ',' the ')"
   ]
  },
  {
   "cell_type": "markdown",
   "metadata": {},
   "source": [
    "To simplify this kind of searching and matching we need a more expressive way of specifying the search string - a way of specifying patterns rather than explicit strings to match.  \n",
    "\n",
    "In computer science the general term for such a text pattern is a *regular expression*.  Here we will examine some basic features of regular expressions for text strings (remember we’ve looked at CVS and JSON files which are fundamentally text).    \n",
    "\n",
    "If you’ve looked at the range of search features in search engines, editors and such like you will be aware that you can add extra markers to the search phrase, or set different search instructions (such as to ignore capitalisation) that affect the behaviour of the matching.   \n",
    "\n",
    "At the heart of this process is a pattern-matching engine, and - depending on the complexity of the software you are using - the patterns that can be specified can be quite complex, and very specific. Both OpenRefine and Python (and Java, and several other programming language libraries) use a regular expression language derived from Perl a scripting programming language with strong string-handling functionality.  We’ll give a flavour of the pattern-matching language here, but depending on how much text processing you’re planning to do, you may want to find additional time to explore regular expressions further."
   ]
  },
  {
   "cell_type": "markdown",
   "metadata": {},
   "source": [
    "## Regular expression primer"
   ]
  },
  {
   "cell_type": "markdown",
   "metadata": {},
   "source": [
    "The Python `re` library (`re` for regular expression) has a number of methods allowing us to apply regular expressions.  "
   ]
  },
  {
   "cell_type": "code",
   "execution_count": null,
   "metadata": {
    "collapsed": true,
    "run_control": {
     "read_only": false
    }
   },
   "outputs": [],
   "source": [
    "import re"
   ]
  },
  {
   "cell_type": "markdown",
   "metadata": {},
   "source": [
    "We will use the `search()` method to show how different expression patterns are matched in text strings:\n",
    "\n",
    "    re.search(<pattern>, <text string>)\n",
    "\n",
    "This searches for the first occurence of `<pattern>` in the `<text string>` and returns a list of the matched pattern components.  The matched groups are accessed using the `group` method and the full matched pattern is element `0`.  (We'll come back to this later, but our few first examples will only return a list with a single match and we will show the pattern matched.) \n",
    "\n",
    "So we can find, and show we've found, a text string as we did with the string replace method earlier."
   ]
  },
  {
   "cell_type": "code",
   "execution_count": null,
   "metadata": {
    "collapsed": false,
    "run_control": {
     "read_only": false
    }
   },
   "outputs": [],
   "source": [
    "# A simple text string match to find abc in the longer string.\n",
    "matchObject = re.search('abc', 'aaaaaaabccccccc')\n",
    "matchObject.group(0)"
   ]
  },
  {
   "cell_type": "markdown",
   "metadata": {},
   "source": [
    "There are other methods available in the `re` library that will report where in the text string the match occurred and some allowing replacement or removal of the matched patterns.   \n",
    "\n",
    "Note: if the pattern fails to match, `search` returns nothing to the assignment and the subsequent `group(0)` fails.   A simple boolean test will tell you if the match succeeded or failed:\n",
    "\n",
    "`matchObject = re.search(<pattern>, <string>)\n",
    "if matchObject:\n",
    "    ...`"
   ]
  },
  {
   "cell_type": "markdown",
   "metadata": {},
   "source": [
    "## Matching literal strings"
   ]
  },
  {
   "cell_type": "markdown",
   "metadata": {},
   "source": [
    "The most basic regular expression is a literal string of one or more characters that you want to find in the text.  The previous example was a literal string match.\n",
    "\n",
    "So,  `'abc'` will match `'abc'` inside a string i.e. `'hello abc world'`."
   ]
  },
  {
   "cell_type": "code",
   "execution_count": null,
   "metadata": {
    "collapsed": false,
    "run_control": {
     "read_only": false
    }
   },
   "outputs": [],
   "source": [
    "matchObject = re.search('abc', 'hello abc world')\n",
    "if matchObject:\n",
    "    print(matchObject.group(0))\n",
    "else:\n",
    "    print('No match.')"
   ]
  },
  {
   "cell_type": "markdown",
   "metadata": {},
   "source": [
    "## Matching single character wildcards"
   ]
  },
  {
   "cell_type": "markdown",
   "metadata": {},
   "source": [
    "A wildcard is a pattern that will match against any substrings.\n",
    "\n",
    "The first of the wildcards is the single fullstop `'.'` which matches any single character inside a string.\n",
    "\n",
    "So,  `'a.c'` will match `'abc'`, `'adc'`, `'a9c'`, but not `'abbc'` or `'a9sc'`"
   ]
  },
  {
   "cell_type": "code",
   "execution_count": null,
   "metadata": {
    "collapsed": false,
    "run_control": {
     "read_only": false
    }
   },
   "outputs": [],
   "source": [
    "# So a.c will match abc \n",
    "matchObject = re.search('a.c', 'aaaaaaaabcccccc')\n",
    "if matchObject:\n",
    "    print(matchObject.group(0))\n",
    "else:\n",
    "    print('No match.')\n",
    "\n",
    "# a.c will match adc\n",
    "matchObject = re.search('a.c', 'aaaaaaadccccccc')\n",
    "if matchObject:\n",
    "    print(matchObject.group(0))\n",
    "else:\n",
    "    print('No match.')\n",
    "\n",
    "# a.c will match a c\n",
    "matchObject= re.search('a.c', 'aaaaaaa ccccccc')\n",
    "if matchObject:\n",
    "    print(matchObject.group(0))\n",
    "else:\n",
    "    print('No match.')\n",
    "\n",
    "# To match the actual '.' character preceed it with the '\\' (escape) character\n",
    "# a\\.c will match a.c\n",
    "matchObject= re.search('a\\.c', 'aaa c adc abc aaa.ccccccc')\n",
    "if matchObject:\n",
    "    print(matchObject.group(0))\n",
    "else:\n",
    "    print('No match.')\n",
    "\n",
    "# a.c will not match abbc - the . matches a single character in the pattern\n",
    "matchObject= re.search('a.c', 'aaaaaaabbccccccc')\n",
    "if matchObject:\n",
    "    print(matchObject.group(0))\n",
    "else:\n",
    "    print('No match.')"
   ]
  },
  {
   "cell_type": "markdown",
   "metadata": {},
   "source": [
    "#### Aside\n",
    "It's going to get tedious to write out this full fragment for each example. I'll create a function to apply the pattern and print either the matched text, or 'No match.'"
   ]
  },
  {
   "cell_type": "code",
   "execution_count": null,
   "metadata": {
    "collapsed": false,
    "run_control": {
     "read_only": false
    }
   },
   "outputs": [],
   "source": [
    "def apply_pattern(pattern, search_in):\n",
    "    matchObject = re.search(pattern, search_in)\n",
    "    if matchObject:\n",
    "        print(matchObject.group(0))\n",
    "    else:\n",
    "        print('No match.')\n"
   ]
  },
  {
   "cell_type": "code",
   "execution_count": null,
   "metadata": {
    "collapsed": false,
    "run_control": {
     "read_only": false
    }
   },
   "outputs": [],
   "source": [
    "# Now test it:\n",
    "\n",
    "# To match the actual '.' character, preceed it with the '\\' (escape) character.\n",
    "# a\\.c will match a.c\n",
    "apply_pattern('a\\.c', 'aaa c adc abc aaa.ccccccc')\n",
    "\n",
    "# a.c will not match abbc. The . matches a single character in the pattern.\n",
    "apply_pattern('a.c', 'aaaaaaabbccccccc')\n"
   ]
  },
  {
   "cell_type": "markdown",
   "metadata": {},
   "source": [
    "## Matching one character from a set of characters"
   ]
  },
  {
   "cell_type": "markdown",
   "metadata": {},
   "source": [
    "To match one character from a set of possible matching characters, surround the set of characters with square brackets []. \n",
    "\n",
    "So,  `'a[bcd]c'` will match `'abc'`, `'acc'`, `'adc'`, but not `'abcdc'` "
   ]
  },
  {
   "cell_type": "code",
   "execution_count": null,
   "metadata": {
    "collapsed": false,
    "run_control": {
     "read_only": false
    }
   },
   "outputs": [],
   "source": [
    "# So, a[bcd]c will match abc  \n",
    "apply_pattern('a[bcd]c', 'aaaaaaaabcccccc')\n",
    "\n",
    "# So, a[bcd]c will match abc  \n",
    "apply_pattern('a[bcd]c', 'aaaaaaaaccccccc')\n",
    "\n",
    "# So, a[bcd]c will match abc  \n",
    "apply_pattern('a[bcd]c', 'aaaaaaaadcccccc')\n",
    "\n",
    "# a.c will not match abbc etc. as the [bcd] pattern matches a single character in the pattern\n",
    "apply_pattern('a[bcd]c', 'aaaaaaabbccccccc')\n"
   ]
  },
  {
   "cell_type": "markdown",
   "metadata": {},
   "source": [
    "So what do you think the pattern `'I am 2[1234] years old'` will match?\n",
    "\n",
    "This pattern will match a string beginning `'I am 2'` and ending `' years old'` where the age is one of 21, 22, 23 or 24.\n"
   ]
  },
  {
   "cell_type": "markdown",
   "metadata": {},
   "source": [
    "You can specify a range  inside the set, for example, `'[1-4]'` or `'[a-e]'`. \n",
    "\n",
    "And you can mix ranges and characters such as `'[1-468]'` which is equivalent to `'[123468]'`.\n",
    "\n",
    "You can also use `'[^'` at the start to indicate any character NOT in the set.\n",
    "\n",
    "So `'2[^1234]'` will *not* match `21`, `22`, `23` or `24`, but will match any text string with the `2` followed by a character."
   ]
  },
  {
   "cell_type": "code",
   "execution_count": null,
   "metadata": {
    "collapsed": false,
    "run_control": {
     "read_only": false
    }
   },
   "outputs": [],
   "source": [
    "apply_pattern('2[1-4]', '25262a272324')\n",
    "\n",
    "apply_pattern('2[^1234]', '212223242526')\n",
    "\n",
    "apply_pattern('2[^1234]', '212a23')\n"
   ]
  },
  {
   "cell_type": "code",
   "execution_count": null,
   "metadata": {
    "collapsed": false,
    "run_control": {
     "read_only": false
    }
   },
   "outputs": [],
   "source": [
    "# Now try some variations of the above patterns in this cell to\n",
    "# make sure you are comfortable with these simple patterns.\n",
    "apply_pattern('put your pattern here', 'hello abc world')\n"
   ]
  },
  {
   "cell_type": "markdown",
   "metadata": {},
   "source": [
    "# Matching one pattern from a set of patterns"
   ]
  },
  {
   "cell_type": "markdown",
   "metadata": {},
   "source": [
    "If we want to be able to match one from a set of strings (not single characters) we can separate each string with a | character (vertical bar). Most systems require the list to be surrounded by brackets."
   ]
  },
  {
   "cell_type": "code",
   "execution_count": null,
   "metadata": {
    "collapsed": false,
    "run_control": {
     "read_only": false
    }
   },
   "outputs": [],
   "source": [
    "apply_pattern('(this|that|the other)',\n",
    "              'I want to find the other, not this or that.' )                           "
   ]
  },
  {
   "cell_type": "markdown",
   "metadata": {},
   "source": [
    "## Matching repetitions of pattern parts"
   ]
  },
  {
   "cell_type": "markdown",
   "metadata": {},
   "source": [
    "There are also ways to indicate repetition of patterns: you follow the pattern with a special character, and if the pattern you want to repeat has more than one part you surround the extended pattern with brackets.\n"
   ]
  },
  {
   "cell_type": "markdown",
   "metadata": {},
   "source": [
    "To match one or more repetitions of a pattern we use `+` after the pattern so `'a+bc'` will match `'abc'` `'aabc'` `'aaabc'`, etc.  but not `'aabbc'`.\n",
    "\n",
    "To match zero or more repetitions of a pattern we use `*` after the pattern so `'a*bc'` will match  `'anythingbc'` `'abc'`, `'aabc'`, `'aaabc'`, etc. and this time will match `'aabbc'`.\n",
    "\n",
    "(Can you see why?   The `'a*'` allows for zero repetitions of `'a'`, which means the `'bc'` can match without any preceeding `'a'`s and `'bc'` matches the last two characters of `'aabbc'`.)\n",
    "\n",
    "To match zero or exactly one repetition we can use `?` after the pattern so `'a?bc'`  will match   `'aaabc'`,  `'kabc'`,  and `'kbc'`. \n",
    "\n",
    "And you can specify the exact, minimum or range of repetitions that you want to accept using \n",
    "- `{n}` for exactly n repetitions \n",
    "- `{n,}` for at least n repetitions \n",
    "- `{n,m}` for at least n but no more than m repetitions.\n",
    "\n",
    "So   \n",
    "-      `'a{3}'` will match `'aaa'`\n",
    "-      `'a{3,}'` will match `'aaa'`, `'aaaa'`, `'aaaaa'`, `'aaaaaa'`, etc.\n",
    "-      `'a{3,5}'` will match `'aaa'`, `'aaaa'`, `'aaaaa'`."
   ]
  },
  {
   "cell_type": "code",
   "execution_count": null,
   "metadata": {
    "collapsed": false,
    "run_control": {
     "read_only": false
    }
   },
   "outputs": [],
   "source": [
    "# So + is one or more \n",
    "apply_pattern('a+bc', 'abc')\n",
    "\n",
    "apply_pattern('a+bc', 'aabc')\n",
    "\n",
    "apply_pattern('a+bc', 'aaaaabc')\n"
   ]
  },
  {
   "cell_type": "code",
   "execution_count": null,
   "metadata": {
    "collapsed": false,
    "run_control": {
     "read_only": false
    }
   },
   "outputs": [],
   "source": [
    "# * is zero or more \n",
    "apply_pattern('a*bc', 'anythingbc')\n",
    "\n",
    "apply_pattern('a*bc', 'aaaaabc')\n",
    "\n",
    "apply_pattern('a*bc', 'aabbc')\n"
   ]
  },
  {
   "cell_type": "code",
   "execution_count": null,
   "metadata": {
    "collapsed": false,
    "run_control": {
     "read_only": false
    }
   },
   "outputs": [],
   "source": [
    "# ? is zero or exactly one \n",
    "apply_pattern('a?bc', 'anythingbc')\n",
    "\n",
    "apply_pattern('a?bc', 'aaaaabc')\n",
    "\n",
    "apply_pattern('a?bc', 'aabbc')"
   ]
  },
  {
   "cell_type": "code",
   "execution_count": null,
   "metadata": {
    "collapsed": false,
    "run_control": {
     "read_only": false
    }
   },
   "outputs": [],
   "source": [
    "# and the behaviour of () is to group the pattern to allow multi-part pattern repetition, \n",
    "# e.g. ()+  \n",
    "apply_pattern('(ab)+', 'aaabababbbbbb')"
   ]
  },
  {
   "cell_type": "code",
   "execution_count": null,
   "metadata": {
    "collapsed": false,
    "run_control": {
     "read_only": false
    }
   },
   "outputs": [],
   "source": [
    "# a{3} exactly three repetitions\n",
    "apply_pattern('a{3}', 'aaaaaa')\n",
    "\n",
    "# a{3,} three or more repetitions\n",
    "apply_pattern('a{3,}', 'aaaaaaaaaaaaaaaaaaaaabc')\n",
    "\n",
    "# a{3,5} between three and five repetitions\n",
    "apply_pattern('a{3,5}', 'aabaaaaaabcaaaabc')\n"
   ]
  },
  {
   "cell_type": "markdown",
   "metadata": {
    "collapsed": true
   },
   "source": [
    "The `+*?` and `{}` are referred to as **greedy** qualifiers: they will attempt to match the longest possible repeated string that matches the pattern; if you follow these with a `?` you get the non-greedy or **minimal** match.   \n",
    "\n",
    "Note the difference in the following matches, caused by the additional `?` in the pattern.\n",
    "\n",
    "What will `'a+bc'` match in the string `'xxxaaaaabcxx'`; what about `'a+?bc'` in the same string?"
   ]
  },
  {
   "cell_type": "code",
   "execution_count": null,
   "metadata": {
    "collapsed": false,
    "run_control": {
     "read_only": false
    }
   },
   "outputs": [],
   "source": [
    "# a{3,} three or more repetitions is the greedy version\n",
    "apply_pattern('a{3,}', 'aaaaaaaaaaaaaaaaaaaaabc')\n",
    "\n",
    "\n",
    "# a{3,}? is the non-greedy or minimal match version\n",
    "apply_pattern('a{3,}?', 'aaaaaaaaaaaaaaaaaaaaabc')\n"
   ]
  },
  {
   "cell_type": "markdown",
   "metadata": {},
   "source": [
    "## The escape character to allow matching of special characters"
   ]
  },
  {
   "cell_type": "markdown",
   "metadata": {
    "collapsed": true
   },
   "source": [
    "If you want to match any of the special characters you can preceed it with a backslash `\\ ` to ‘escape’ the wildcard and treat it as a normal character so `'Rock\\+Roll'`  will match `'Rock+Roll'` and`'a+\\?'` will match `'a?'`, `'aa?'`, `'aaa?'`, etc.\n",
    "          "
   ]
  },
  {
   "cell_type": "code",
   "execution_count": null,
   "metadata": {
    "collapsed": false,
    "run_control": {
     "read_only": false
    }
   },
   "outputs": [],
   "source": [
    "# The escape character '\\'\n",
    "apply_pattern('ROCK\\+ROLL','I love ROCK+ROLL')\n"
   ]
  },
  {
   "cell_type": "markdown",
   "metadata": {
    "collapsed": true
   },
   "source": [
    "## Other special characters\n",
    "Finally there are special character sequences for position of the pattern in the text string, or special characters or common groupings of characters: \n",
    "\n",
    "- `^aa` will match `aa` if it appears at the beginning of a line in the search text\n",
    "- `bb$` will match `bb` if it appears at the end of the line \n",
    "- `\\bccc` will match `ccc` if it is at the start of a word (`\\b` matches any word boundary so guess what `ccc\\b` does!) \n",
    "- `\\d` will match any digit, so `\\d` is equivalent to `[0123456789]`, or `[0-9]` \n",
    "- `\\D` is any non-digit \n",
    "- `\\s` is any whitespace character \n",
    "- `\\S` is any non-whitespace character \n",
    "- `\\t` is a tab character.\n"
   ]
  },
  {
   "cell_type": "markdown",
   "metadata": {
    "activity": "activityAns"
   },
   "source": [
    "### Exercise\n",
    "Think about strings that the patterns below will match - then use the code cell below to text your understanding.\n",
    "\n",
    "i)  `'(ab){3}'`\n",
    "\n",
    "ii)  `'c[oa]t'`\n",
    "\n",
    "iii)  `'^Price:[£$][0-9]+\\.[0-9]{2}$'`"
   ]
  },
  {
   "cell_type": "code",
   "execution_count": null,
   "metadata": {
    "activity": "activity",
    "collapsed": false,
    "run_control": {
     "read_only": false
    }
   },
   "outputs": [],
   "source": [
    "# Test the pattern against your own text strings to confirm your understanding\n",
    "apply_pattern('<pattern>', '<test string>')\n"
   ]
  },
  {
   "cell_type": "code",
   "execution_count": null,
   "metadata": {
    "activity": "activity",
    "code_folding": [
     0
    ],
    "collapsed": false,
    "run_control": {
     "read_only": false
    }
   },
   "outputs": [],
   "source": [
    "# Sample solution - before you run the cell check you know what will be matched,\n",
    "# and what will return No match.\n",
    "\n",
    "# i) '(ab){3}'  will match exactly the string `ababab` - three occurences of ab\n",
    "apply_pattern('(ab){3}', 'dsehabababdkjdia')\n",
    "apply_pattern('(ab){3}', 'xxxababxxx')\n",
    "apply_pattern('(ab){3}', 'xxxabababababxxx')\n",
    "\n",
    "# ii) 'c[ao]t will match either `cat` or `cot`\n",
    "apply_pattern('c[oa]t', 'A coat or a cat')\n",
    "apply_pattern('c[oa]t', 'A coat or a cot')\n",
    "\n",
    "# iii) '^Price:[£$][0-9]+\\.[0-9]{2}$' will match: \n",
    "#      the string 'Price:' at the start of a line \n",
    "#      followed by a pount or dollar sign, \n",
    "#      then a series of 1 or more digits digit, \n",
    "#      a decimal point, and two digits at the end of a line.\n",
    "apply_pattern('^Price:[£$][0-9]+\\.[0-9]{2}$', 'Price:£4.23')\n",
    "apply_pattern('^Price:[£$][0-9]+\\.[0-9]{2}$', 'Price:£.93')\n",
    "apply_pattern('^Price:[£$][0-9]+\\.[0-9]{2}$', 'Price:£0.93')\n",
    "apply_pattern('^Price:[£$][0-9]+\\.[0-9]{2}$', 'Price:£0.9')\n",
    "apply_pattern('^Price:[£$][0-9]+\\.[0-9]{2}$', 'Price:$99999.99')\n",
    "apply_pattern('^Price:[£$][0-9]+\\.[0-9]{2}$', 'Full Price:£4.23')\n",
    "apply_pattern('^Price:[£$][0-9]+\\.[0-9]{2}$', 'Price:£4.23 - cheap!')"
   ]
  },
  {
   "cell_type": "markdown",
   "metadata": {
    "activity": "activityAns"
   },
   "source": [
    "### Exercise\n",
    "\n",
    "Write a single regular expression to match each of the following:\n",
    "\n",
    "i) either `Rd`,  `Rd.`,  `Road` or `Road.`  if they appear anywhere in a string.\n",
    "\n",
    "ii) character sequences for the years `1951` to `1963` inclusive (assume they are suffounded by spaces).\n",
    "\n",
    "Use the cells below to test your patterns (remember there will be more than one pattern that will match these).\n"
   ]
  },
  {
   "cell_type": "code",
   "execution_count": null,
   "metadata": {
    "activity": "activity",
    "collapsed": false,
    "run_control": {
     "read_only": false
    }
   },
   "outputs": [],
   "source": [
    "# Test the pattern against your own text strings to confirm your understanding:\n",
    "apply_pattern('<pattern>', 'We live at the end of the Rd. at #2')\n",
    "\n",
    "apply_pattern('<pattern>', 'We live at the end of the Rd, at #2')\n",
    "\n",
    "apply_pattern('<pattern>', 'We live at the end of the Road, at #2')\n",
    "\n",
    "apply_pattern('<pattern>', 'We live at the end of the Road.')\n"
   ]
  },
  {
   "cell_type": "code",
   "execution_count": null,
   "metadata": {
    "activity": "activity",
    "collapsed": false,
    "run_control": {
     "read_only": false
    }
   },
   "outputs": [],
   "source": [
    "# Also test the pattern against your own text strings to confirm your understanding:\n",
    "apply_pattern('<pattern>', ' 1940, 1951, 1953 1999 ')\n",
    "apply_pattern('<pattern>', ' 1940, 1949, 1963 1999 ')\n",
    "apply_pattern('<pattern>', ' 1940, 1949, 1965 1999 ')\n",
    "apply_pattern('<pattern>', ' 1940, 1949, 1950 1999 ')"
   ]
  },
  {
   "cell_type": "code",
   "execution_count": null,
   "metadata": {
    "activity": "activity",
    "code_folding": [
     0
    ],
    "collapsed": true,
    "run_control": {
     "read_only": false
    }
   },
   "outputs": [],
   "source": [
    "# Sample solutions:\n",
    "\n",
    "# i)  'R(oa)?d\\.?'\n",
    "# The (oa)? matches zero or exactly one occurence of oa and \\.? is zero or one occurrences of '.'\n",
    "\n",
    "# ii)  ' 19(5[1-9]|6[0-3]) ' here we have alternate patterns for the 50s and 60s."
   ]
  },
  {
   "cell_type": "markdown",
   "metadata": {
    "code_folding": [
     0
    ]
   },
   "source": [
    "## Extracting the parts of the pattern matched"
   ]
  },
  {
   "cell_type": "markdown",
   "metadata": {
    "code_folding": [
     0
    ]
   },
   "source": [
    "For data cleaning purposes we want to be able to extract the pattern we have matched from the text string.  \n",
    "\n",
    "This gives us the ability to match parts of a string, extract the matched substrings, and make the substrings available via a variable.   \n",
    "\n",
    "In Python and OpenRefine (and Perl) any grouping or pattern expression surrounded by brackets `( )` can be referred to by using a series of numbered variables, one per bracketed set.   The numbering takes a bit of getting used to as the pattern number works by counting the number of opening brackets starting from the left. So  `\\0` means the whole matched string, `\\1` is the first group matched, etc.\n",
    "\n",
    "So far we have only been showing the result of the `re.search` by showing `.group(0)` which is the whole match; but we said earlier that the object returned a list showing each component part that was matched.\n",
    "\n",
    "Look at the following complex pattern:   `([a-zA-Z]+)([0-9]+)`\n",
    "        \n",
    "This has two component parts, each surrounded by `()`s: a string of at least one letter (upper or lower case) followed by a string of at least one digit.   \n",
    "\n",
    "The `groups()` method accesses all the component matches in the text string, and we can pick out individual matches using the `group(n)` methods."
   ]
  },
  {
   "cell_type": "code",
   "execution_count": null,
   "metadata": {
    "collapsed": false,
    "run_control": {
     "read_only": false
    }
   },
   "outputs": [],
   "source": [
    "# Apply the search\n",
    "matchObject = re.search('([a-zA-z]+)([0-9]+)', '24aslkf23qowu89987')\n",
    "\n",
    "if matchObject:\n",
    "    print('First show all the component part matches')\n",
    "    print(matchObject.groups())\n",
    "    print('Now pick out the full match, the letter match and the digit pattern match')\n",
    "    print('.group(0)    ' + matchObject.group(0))\n",
    "    print('.group(1)    ' + matchObject.group(1))\n",
    "    print('.group(2)    ' + matchObject.group(2))\n",
    "else:\n",
    "    print('No match.')"
   ]
  },
  {
   "cell_type": "markdown",
   "metadata": {},
   "source": [
    "#### Aside\n",
    "As before, let's create a function to make these examples less tedious"
   ]
  },
  {
   "cell_type": "code",
   "execution_count": null,
   "metadata": {
    "collapsed": false,
    "run_control": {
     "read_only": false
    }
   },
   "outputs": [],
   "source": [
    "def test_extraction(pattern, target_string):\n",
    "    matchObject = re.search(pattern, target_string)\n",
    "    if matchObject:\n",
    "        print('First show all the component part matches using .groups()')\n",
    "        print(matchObject.groups())\n",
    "        print('Now pick out the individual pattern matches using .group(n)')\n",
    "        i = 0\n",
    "        while i <= len(matchObject.groups()):\n",
    "            print('.group(%d) has value %s' %(i, matchObject.group(i)))\n",
    "            i = i+1\n",
    "    else:\n",
    "        print('No match.')"
   ]
  },
  {
   "cell_type": "code",
   "execution_count": null,
   "metadata": {
    "collapsed": false,
    "run_control": {
     "read_only": false
    }
   },
   "outputs": [],
   "source": [
    "test_extraction('([a-zA-z]+)([0-9]+)', '24aslkf23qowu89987')"
   ]
  },
  {
   "cell_type": "markdown",
   "metadata": {},
   "source": [
    "Nested groups of patterns follow the same numbering scheme, and if we want to force a match of our partial strings we can add () to make a numbered component match."
   ]
  },
  {
   "cell_type": "code",
   "execution_count": null,
   "metadata": {
    "collapsed": false,
    "run_control": {
     "read_only": false
    }
   },
   "outputs": [],
   "source": [
    "test_extraction('((ab){2})(c)([de])', 'aaababce')"
   ]
  },
  {
   "cell_type": "markdown",
   "metadata": {
    "activity": "activityAns"
   },
   "source": [
    "### Exercise\n",
    "\n",
    "Look at the following pattern: \n",
    "\n",
    "`'Price: ([£$])([0-9]+)\\.([0-9]{2})'`\n",
    "\n",
    "Can you see how many components this pattern has, and what each component would represent?"
   ]
  },
  {
   "cell_type": "code",
   "execution_count": null,
   "metadata": {
    "activity": "activity",
    "code_folding": [],
    "collapsed": false,
    "run_control": {
     "read_only": false
    }
   },
   "outputs": [],
   "source": [
    "# Discussion and demonstration\n",
    "# The pattern has three components: the first picks out the \n",
    "# currency symbol, the second the pound or dollar amount \n",
    "# and the final component picks out the pence or cents amounts.\n",
    "\n",
    "# Demonstration of pattern.\n",
    "test_extraction('^Price:([£$])([0-9]+)\\.([0-9]{2}$)', 'Price:£229.22') "
   ]
  },
  {
   "cell_type": "markdown",
   "metadata": {
    "activity": "activityAns",
    "code_folding": [
     0
    ]
   },
   "source": [
    "### Exercise\n",
    "\n",
    "Using the above pattern, and the component pattern parts: write Python code (you'll need `re.search()`, not the `test_extraction()` function) that takes a string that matches the above pattern then uses the component matches to produce a string of the form: \n",
    "\n",
    "- Price:$xxxx.yy  => 'xxxx dollars and yy cents'.\n",
    "  \n",
    "- Price:£xxxx.yy  => 'xxxx pounds and yy pence.'"
   ]
  },
  {
   "cell_type": "code",
   "execution_count": null,
   "metadata": {
    "activity": "activity",
    "collapsed": true,
    "run_control": {
     "read_only": false
    }
   },
   "outputs": [],
   "source": [
    "# Your code here"
   ]
  },
  {
   "cell_type": "code",
   "execution_count": null,
   "metadata": {
    "activity": "activity",
    "code_folding": [
     0
    ],
    "collapsed": false,
    "run_control": {
     "read_only": false
    }
   },
   "outputs": [],
   "source": [
    "# Sample solution\n",
    "matchObject = re.search('^Price:([£$])([0-9]+).([0-9]{2}$)', 'Price:£112.99' )\n",
    "if matchObject:\n",
    "    if matchObject.group(1) == '£':\n",
    "        result = matchObject.group(2) + \" pounds and \" + matchObject.group(3) + \" pence.\"\n",
    "    else :\n",
    "        result = matchObject.group(2) + \" dollars and \" + matchObject.group(3) + \" cents.\"\n",
    "    print(result)\n",
    "else:\n",
    "    print('No match.')"
   ]
  },
  {
   "cell_type": "markdown",
   "metadata": {
    "activity": "activity"
   },
   "source": [
    "### Exercise\n",
    "\n",
    "Write a Python function that will take a string representing a name in the form 'Firstname Surname' and return a tuple with two strings of the form (Surname, FirstName), and ('err', 'err') if the source string is not matched. (To simplify it, no hyphenated surnames - unless you want a challenge!)\n",
    "\n",
    "Assume both names consist of an upper-case letter followed by zero or more lower-case letters.  For example, `'John Whittington'` becomes the tuple `('Whittington', 'John')` while `'J D'` becomes the tuple `('D', 'J')`.\n"
   ]
  },
  {
   "cell_type": "code",
   "execution_count": null,
   "metadata": {
    "activity": "activity",
    "collapsed": true,
    "run_control": {
     "read_only": false
    }
   },
   "outputs": [],
   "source": [
    "# Your code here"
   ]
  },
  {
   "cell_type": "code",
   "execution_count": null,
   "metadata": {
    "activity": "activity",
    "code_folding": [
     0
    ],
    "collapsed": false,
    "run_control": {
     "read_only": false
    }
   },
   "outputs": [],
   "source": [
    "# Sample solution\n",
    "def NameShufflef(source_string):\n",
    "    names_found = re.search('^([A-Z][a-z]*) ([A-Z][a-z]*)$', source_string)\n",
    "    if names_found:\n",
    "        return (names_found.group(2), names_found.group(1)) \n",
    "    else:\n",
    "        return ('err', 'err')"
   ]
  },
  {
   "cell_type": "code",
   "execution_count": null,
   "metadata": {
    "activity": "activity",
    "code_folding": [
     0
    ],
    "collapsed": false,
    "run_control": {
     "read_only": false
    }
   },
   "outputs": [],
   "source": [
    "# Solution test.\n",
    "NameShufflef('John Whittington')"
   ]
  },
  {
   "cell_type": "code",
   "execution_count": null,
   "metadata": {
    "activity": "activity",
    "code_folding": [
     0
    ],
    "collapsed": false,
    "run_control": {
     "read_only": false
    }
   },
   "outputs": [],
   "source": [
    "# Solution test.\n",
    "NameShufflef('J D')"
   ]
  },
  {
   "cell_type": "code",
   "execution_count": null,
   "metadata": {
    "activity": "activity",
    "code_folding": [
     0
    ],
    "collapsed": false,
    "run_control": {
     "read_only": false
    }
   },
   "outputs": [],
   "source": [
    "# Solution test.\n",
    "NameShufflef('JD Smythe')"
   ]
  },
  {
   "cell_type": "code",
   "execution_count": null,
   "metadata": {
    "activity": "activity",
    "code_folding": [
     0
    ],
    "collapsed": false,
    "run_control": {
     "read_only": false
    }
   },
   "outputs": [],
   "source": [
    "# Solution test.\n",
    "NameShufflef('991991 Smith')"
   ]
  },
  {
   "cell_type": "code",
   "execution_count": null,
   "metadata": {
    "activity": "activity",
    "code_folding": [
     0
    ],
    "collapsed": false,
    "run_control": {
     "read_only": false
    }
   },
   "outputs": [],
   "source": [
    "# Solution test.\n",
    "NameShufflef('Arther Terence Smith')"
   ]
  },
  {
   "cell_type": "markdown",
   "metadata": {
    "code_folding": [
     0
    ]
   },
   "source": [
    "## Regular expressions and the *pandas* `replace()` method\n",
    "\n",
    "The *pandas* library  has a `.replace()` method that can be applied to strings in DataFrames."
   ]
  },
  {
   "cell_type": "code",
   "execution_count": null,
   "metadata": {
    "collapsed": true,
    "run_control": {
     "read_only": false
    }
   },
   "outputs": [],
   "source": [
    "import pandas as pd"
   ]
  },
  {
   "cell_type": "code",
   "execution_count": null,
   "metadata": {
    "collapsed": false,
    "run_control": {
     "read_only": false
    }
   },
   "outputs": [],
   "source": [
    "# Some sample strings.\n",
    "samples = pd.DataFrame({'test_string' : ['aba', \n",
    "                                         'abcababcabca', \n",
    "                                         'adfddfda', \n",
    "                                         'The Cat sat on the Mat',\n",
    "                                         'The Dog sat on the Cat',\n",
    "                                         'The Elephant sat on the Dog']})"
   ]
  },
  {
   "cell_type": "code",
   "execution_count": null,
   "metadata": {
    "collapsed": false,
    "run_control": {
     "read_only": false
    }
   },
   "outputs": [],
   "source": [
    "# The string to be replaced must entirely match the string in the DataFrame.\n",
    "\n",
    "# So, the following has no effect on the DataFrame values.\n",
    "print(samples.replace({'test_string' : 'ab'}, 'XXXXXXXXX'))\n",
    "\n",
    "print('====================')\n",
    "\n",
    "# But the following does: aba is the full string in the first element of the dataframe.\n",
    "print(samples.replace({'test_string' : 'aba'}, 'XXXXXXXXX'))"
   ]
  },
  {
   "cell_type": "markdown",
   "metadata": {},
   "source": [
    "As well as exact text matching (seen above) `replace()` can also accept regular expressions as the pattern to find in the string, and use the matched group in the replacement strings - to do that looks like\n",
    "`replace(<pattern to find>, <string to replace>, regex=True)`\n",
    "            \n",
    "Notice in the result that the regular expression can match parts of the target string - it doesn't have to match the full string."
   ]
  },
  {
   "cell_type": "code",
   "execution_count": null,
   "metadata": {
    "collapsed": false,
    "run_control": {
     "read_only": false
    }
   },
   "outputs": [],
   "source": [
    "samples.replace({'test_string' : 'cab'}, 'TAXI', regex=True)"
   ]
  },
  {
   "cell_type": "code",
   "execution_count": null,
   "metadata": {
    "collapsed": false,
    "run_control": {
     "read_only": false
    }
   },
   "outputs": [],
   "source": [
    "# Switch Who sat on What based on regular expression patterns.\n",
    "samples.replace({'test_string' : \"(The )([a-zA-Z]*)( sat on the )([a-zA-Z]*)$\"}, \n",
    "                 r'\\1'+r'\\4'+ r'\\3'+ r'\\2', \n",
    "                 regex=True)\n"
   ]
  },
  {
   "cell_type": "markdown",
   "metadata": {},
   "source": [
    "And if you want to make the replacement in the original DataFrame the `replace()` method has `inplace=True` available."
   ]
  },
  {
   "cell_type": "code",
   "execution_count": null,
   "metadata": {
    "collapsed": false,
    "run_control": {
     "read_only": false
    }
   },
   "outputs": [],
   "source": [
    "samples.replace({'test_string' : \"(The )([a-zA-Z]*)( sat on the )([a-zA-Z]*)$\"}, \n",
    "                r'\\1'+r'\\4'+ r'\\3'+ r'\\2', \n",
    "                regex=True, \n",
    "                inplace=True)\n",
    "samples"
   ]
  },
  {
   "cell_type": "markdown",
   "metadata": {
    "collapsed": true
   },
   "source": [
    "## Summary: regular expressions"
   ]
  },
  {
   "cell_type": "markdown",
   "metadata": {},
   "source": [
    "Pattern matching is a common task when finding things in strings. The regular expression patterns are used in a lot of programming language libraries, and applications such as OpenRefine, where string manipulation is required.\n",
    "\n",
    "The ability to find strings, and then to manipulate the strings by changing or removing substrings, or extracting matches to use in other code, is important.\n",
    "\n",
    "The `re` library documentation can be found at https://docs.python.org/2/library/re.html.\n"
   ]
  },
  {
   "cell_type": "markdown",
   "metadata": {},
   "source": [
    "# SQL string matching\n",
    "SQL doesn't have regular expressions, as such, although there may be additional libraries and packages available within a DBMS to support extended pattern matching.\n",
    "\n",
    "SQL does have the `LIKE` boolean condition which uses a limited form of pattern, with wildcards, to compare against string values.  (You can read it as: `Is this string value LIKE this pattern?`)\n",
    "\n",
    "Standard SQL has four 'wildcards':\n",
    "\n",
    "- %... any string of zero or more characters\n",
    "- \\_... any single character\n",
    "- [xyz]... any single character from the set (x or y or z), or range [a-f]\n",
    "- [^xyz]... any single character _not_ within the specified set or range.\n",
    "\n",
    "If you need to match against a wildcard character most SQL implementation allow you to follow the  pattern string with the keyword `ESCAPE` and the quoted character that will, in that string, be used to escape the next character. So, `test_string LIKE '%-%' ESCAPE '-'` will be true for any character string ending in the `%` character.\n",
    "\n",
    "So using _pandassql_ as our test SQL and using the samples DataFrame created earlier we can see the behaviour of the SQL LIKE in the following. (Unfortunately, SQLite3 - the SQL engine underpinning _pandasql_ - does not support the [] forms.)\n"
   ]
  },
  {
   "cell_type": "code",
   "execution_count": null,
   "metadata": {
    "collapsed": true,
    "run_control": {
     "read_only": false
    }
   },
   "outputs": [],
   "source": [
    "# Start by importing the sqldf function from pandasql.\n",
    "from pandasql import sqldf\n",
    "\n",
    "# Then create a simple wrapper function to allow us to supply \n",
    "# the query 'q' without the surrounding syntax.\n",
    "pysqldf = lambda q: sqldf(q, globals())"
   ]
  },
  {
   "cell_type": "code",
   "execution_count": null,
   "metadata": {
    "collapsed": false,
    "run_control": {
     "read_only": false
    }
   },
   "outputs": [],
   "source": [
    "# Find three-character strings with a 'b' in the middle.\n",
    "query = ''' SELECT * FROM samples WHERE test_string LIKE '_b_'; '''\n",
    "result = pysqldf(query)\n",
    "result"
   ]
  },
  {
   "cell_type": "code",
   "execution_count": null,
   "metadata": {
    "collapsed": false,
    "run_control": {
     "read_only": false
    }
   },
   "outputs": [],
   "source": [
    "# Find any string ending with a 't'.\n",
    "query = ''' SELECT * FROM samples WHERE test_string LIKE '%t'; '''\n",
    "result = pysqldf(query)\n",
    "result"
   ]
  },
  {
   "cell_type": "code",
   "execution_count": null,
   "metadata": {
    "collapsed": false,
    "run_control": {
     "read_only": false
    }
   },
   "outputs": [],
   "source": [
    "# Find any string with 'Dog' in it.\n",
    "query = ''' SELECT * FROM samples WHERE test_string LIKE '%Dog%'; '''\n",
    "result = pysqldf(query)\n",
    "result"
   ]
  },
  {
   "cell_type": "markdown",
   "metadata": {},
   "source": [
    "The LIKE condition can, of course, be used anywhere the other Boolean conditions can be used and in more complex Boolean expressions."
   ]
  },
  {
   "cell_type": "code",
   "execution_count": null,
   "metadata": {
    "collapsed": false,
    "run_control": {
     "read_only": false
    }
   },
   "outputs": [],
   "source": [
    "# Find any string with 'Cat' appearing before 'Dog'.\n",
    "query = ''' SELECT * FROM samples WHERE test_string LIKE '%Cat%Dog%'; '''\n",
    "result = pysqldf(query)\n",
    "result"
   ]
  },
  {
   "cell_type": "markdown",
   "metadata": {},
   "source": [
    "## Summary: SQL LIKE\n",
    "Standard SQL doesn't have a large pool of pattern matching capabilities, which can make it tedious to use for character string processing.  It is always worth checking the  DBMS documentation to see if the basic patterns have been extended, or additional functions are available, to make the pattern capabilities richer."
   ]
  },
  {
   "cell_type": "markdown",
   "metadata": {},
   "source": [
    "## What next?\n",
    "\n",
    "If you are working through this Notebook as part of an inline exercise, return to the module materials now.\n",
    "\n",
    "If you are working through this set of Notebooks as a whole, move on to: `04.7 Reshaping data with pandas`."
   ]
  }
 ],
 "metadata": {
  "kernelspec": {
   "display_name": "Python 3",
   "language": "python",
   "name": "python3"
  },
  "language_info": {
   "codemirror_mode": {
    "name": "ipython",
    "version": 3
   },
   "file_extension": ".py",
   "mimetype": "text/x-python",
   "name": "python",
   "nbconvert_exporter": "python",
   "pygments_lexer": "ipython3",
   "version": "3.4.3"
  }
 },
 "nbformat": 4,
 "nbformat_minor": 0
}
