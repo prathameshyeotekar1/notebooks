{
 "cells": [
  {
   "cell_type": "markdown",
   "metadata": {},
   "source": [
    "# TMA 01, question 3"
   ]
  },
  {
   "cell_type": "markdown",
   "metadata": {},
   "source": [
    "**Name**: [Pablo Toledo]\n",
    "    \n",
    "**PI**: [C4451553]"
   ]
  },
  {
   "cell_type": "markdown",
   "metadata": {},
   "source": [
    "\n",
    "In this question, you will examine a set of results of an Open University online quiz (iCMA). These are genuine results from a level 1 module, though the data has been anonymised by using cryptographic hashes to obscure personal information.\n",
    "\n",
    "The rubric for the iCMA was similar to that for TM351. Students are allowed to take the iCMA as many times as they like, with only their highest score counting. Students have to achieve a threshold score of 40% to pass this iCMA. The iCMA remained open until the module end date. \n",
    "\n",
    "The question has several parts, taking you through the data analysis pipeline. Most of the question parts concern with various analyses of the data. The final part of the question looks at some issues with anonymisation of the data.\n",
    "\n",
    "Record all your activity and observations in this notebook. Generate additional notebook cells as required. \n",
    "\n",
    "Ensure that you have made of copy of the TMA01_Question5 Notebook and renamed it so that it has your personal identifier (PI) at the front of the Notebook filename (i.e. YourPI_TMA01_Question5.ipynb). You must submit this notebook as part of your TMA submission."
   ]
  },
  {
   "cell_type": "code",
   "execution_count": 83,
   "metadata": {
    "collapsed": true,
    "run_control": {
     "read_only": false
    }
   },
   "outputs": [],
   "source": [
    "# Load the necessary libraries here:\n",
    "import pandas as pd\n",
    "import matplotlib.pyplot as plt\n",
    "import numpy as np\n",
    "pd.set_option('notebook_repr_html', False)\n",
    "pd.set_option('max_rows', 20)\n",
    "\n",
    "# add by AH\n",
    "%matplotlib inline\n",
    "\n",
    "# If you require additional libraries to answer any questions \n",
    "# then import them as necessary."
   ]
  },
  {
   "cell_type": "markdown",
   "metadata": {},
   "source": [
    "## <a name=\"contents\"></a> Contents\n",
    "* a) [Import and cleaning](#a) (8 marks)\n",
    "* b) [Number of attempts](#b) (4 marks)\n",
    "* c) [Timescales](#c) (3 marks)\n",
    "* d) [Time and day of quiz](#d) (8 marks)\n",
    "* e) [Difficulty of questions](#e) (7 marks)\n",
    "* f) [Data investigation summary](#f) (5 marks)\n",
    "* g) [Anonymisation and privacy](#g) (10 marks)"
   ]
  },
  {
   "cell_type": "markdown",
   "metadata": {},
   "source": [
    "# <a name=\"a\"></a> a)  Import and cleaning (8 marks) \n",
    "([Contents](#contents))\n",
    "\n",
    "In this part of the question you will load and prepare the data file. You will also quickly examine the data with summaries and visualisations.\n",
    "\n",
    "Read the csv file `data/icma.csv` into a DataFrame called `icma_df` and display the first 3 rows.\n",
    "\n",
    "Note that the 'Started on' and 'Completed' columns contain datetimes and should be converted on import. Also not that a single hyphen is used in the file to denote missing numerical data; hyphens should be converted to 'NA' on import.\n",
    "\n",
    "Also note that it can be easier to see the data if you transpose the dataframe you display: append `.T` to your display function call."
   ]
  },
  {
   "cell_type": "code",
   "execution_count": 84,
   "metadata": {
    "activity": "activity",
    "collapsed": false,
    "run_control": {
     "read_only": false
    },
    "scrolled": false
   },
   "outputs": [
    {
     "data": {
      "text/plain": [
       "                                                     0  \\\n",
       "Surname               b7a1c60935d72dd330a48021b25ec0c4   \n",
       "First name            34f9e4c9be637c99f9b2cfb3f5d1994c   \n",
       "OU Computer Username  b675bd4a9a46ec179a894866ad80b71d   \n",
       "Personal Identifier   ec0b15df629ce1fc564462e81ba6b267   \n",
       "Institution                                        NaN   \n",
       "Department                                         NaN   \n",
       "Email address         b3d15cf86ba4dbbafa458124c09ca816   \n",
       "State                                         Finished   \n",
       "Started on                         2016-01-29 06:56:00   \n",
       "Completed                          2016-02-08 10:31:00   \n",
       "...                                                ...   \n",
       "Q. 11 /1.00                                       0.89   \n",
       "Q. 12 /1.00                                          1   \n",
       "Q. 13 /1.00                                          1   \n",
       "Q. 14 /1.00                                          1   \n",
       "Q. 15 /1.00                                       0.89   \n",
       "Q. 16 /1.00                                          1   \n",
       "Q. 17 /1.00                                          1   \n",
       "Q. 18 /1.00                                          1   \n",
       "Q. 19 /1.00                                       0.89   \n",
       "Q. 20 /1.00                                          0   \n",
       "\n",
       "                                                     1  \\\n",
       "Surname               8933e77b83eee991c3d3aae3c88b8176   \n",
       "First name            d3d2792b4f002c766a99bb7152ccf3ee   \n",
       "OU Computer Username  5759a8752ba4984049c0be67c7a6270f   \n",
       "Personal Identifier   7f30f4954957eb71909d7ec30ccb0e0a   \n",
       "Institution                                        NaN   \n",
       "Department                                         NaN   \n",
       "Email address         ff9114a689c8e5141f46cf1386b5ba9d   \n",
       "State                                         Finished   \n",
       "Started on                         2016-01-29 09:14:00   \n",
       "Completed                          2016-01-30 22:10:00   \n",
       "...                                                ...   \n",
       "Q. 11 /1.00                                          1   \n",
       "Q. 12 /1.00                                          1   \n",
       "Q. 13 /1.00                                          1   \n",
       "Q. 14 /1.00                                          1   \n",
       "Q. 15 /1.00                                       0.89   \n",
       "Q. 16 /1.00                                          1   \n",
       "Q. 17 /1.00                                          1   \n",
       "Q. 18 /1.00                                          1   \n",
       "Q. 19 /1.00                                          1   \n",
       "Q. 20 /1.00                                          1   \n",
       "\n",
       "                                                     2  \n",
       "Surname               aa8af604652b6b631f11061fe8c69809  \n",
       "First name            ec83707bbca209e51a65e9864ac8baeb  \n",
       "OU Computer Username  b8fe6559c9ba7bd27819a5460c9359c8  \n",
       "Personal Identifier   4e74dca9c74ad198eeb162dac5193d9e  \n",
       "Institution                                        NaN  \n",
       "Department                                         NaN  \n",
       "Email address         ec01fe85557bab32113d8fbb47b0685d  \n",
       "State                                         Finished  \n",
       "Started on                         2016-01-29 11:16:00  \n",
       "Completed                          2016-01-29 11:57:00  \n",
       "...                                                ...  \n",
       "Q. 11 /1.00                                          1  \n",
       "Q. 12 /1.00                                          1  \n",
       "Q. 13 /1.00                                          1  \n",
       "Q. 14 /1.00                                          1  \n",
       "Q. 15 /1.00                                          1  \n",
       "Q. 16 /1.00                                          1  \n",
       "Q. 17 /1.00                                          1  \n",
       "Q. 18 /1.00                                          1  \n",
       "Q. 19 /1.00                                          1  \n",
       "Q. 20 /1.00                                          1  \n",
       "\n",
       "[32 rows x 3 columns]"
      ]
     },
     "execution_count": 84,
     "metadata": {},
     "output_type": "execute_result"
    }
   ],
   "source": [
    "#read icma.csv data into dataframe\n",
    "icma_df = pd.read_csv('data/icma.csv', parse_dates=['Started on','Completed'], na_values=['-'])\n",
    "#display first 3 rows\n",
    "icma_df.head(3).T\n"
   ]
  },
  {
   "cell_type": "markdown",
   "metadata": {},
   "source": [
    "Check to see how the columns are typed"
   ]
  },
  {
   "cell_type": "code",
   "execution_count": 85,
   "metadata": {
    "activity": "activity",
    "collapsed": false,
    "run_control": {
     "read_only": false
    },
    "scrolled": true
   },
   "outputs": [
    {
     "data": {
      "text/plain": [
       "Surname                         object\n",
       "First name                      object\n",
       "OU Computer Username            object\n",
       "Personal Identifier             object\n",
       "Institution                    float64\n",
       "Department                     float64\n",
       "Email address                   object\n",
       "State                           object\n",
       "Started on              datetime64[ns]\n",
       "Completed               datetime64[ns]\n",
       "                             ...      \n",
       "Q. 11 /1.00                    float64\n",
       "Q. 12 /1.00                    float64\n",
       "Q. 13 /1.00                    float64\n",
       "Q. 14 /1.00                    float64\n",
       "Q. 15 /1.00                    float64\n",
       "Q. 16 /1.00                    float64\n",
       "Q. 17 /1.00                    float64\n",
       "Q. 18 /1.00                    float64\n",
       "Q. 19 /1.00                    float64\n",
       "Q. 20 /1.00                    float64\n",
       "dtype: object"
      ]
     },
     "execution_count": 85,
     "metadata": {},
     "output_type": "execute_result"
    }
   ],
   "source": [
    "# Enter your code here.\n",
    "icma_df.dtypes"
   ]
  },
  {
   "cell_type": "code",
   "execution_count": 86,
   "metadata": {
    "collapsed": false,
    "run_control": {
     "read_only": false
    },
    "scrolled": false
   },
   "outputs": [
    {
     "data": {
      "text/plain": [
       "                                                     0  \\\n",
       "Surname               b7a1c60935d72dd330a48021b25ec0c4   \n",
       "First name            34f9e4c9be637c99f9b2cfb3f5d1994c   \n",
       "OU Computer Username  b675bd4a9a46ec179a894866ad80b71d   \n",
       "Personal Identifier   ec0b15df629ce1fc564462e81ba6b267   \n",
       "Institution                                        NaN   \n",
       "Department                                         NaN   \n",
       "Email address         b3d15cf86ba4dbbafa458124c09ca816   \n",
       "State                                         Finished   \n",
       "Started on                         2016-01-29 06:56:00   \n",
       "Completed                          2016-02-08 10:31:00   \n",
       "...                                                ...   \n",
       "Q. 11 /1.00                                       0.89   \n",
       "Q. 12 /1.00                                          1   \n",
       "Q. 13 /1.00                                          1   \n",
       "Q. 14 /1.00                                          1   \n",
       "Q. 15 /1.00                                       0.89   \n",
       "Q. 16 /1.00                                          1   \n",
       "Q. 17 /1.00                                          1   \n",
       "Q. 18 /1.00                                          1   \n",
       "Q. 19 /1.00                                       0.89   \n",
       "Q. 20 /1.00                                          0   \n",
       "\n",
       "                                                     1  \\\n",
       "Surname               8933e77b83eee991c3d3aae3c88b8176   \n",
       "First name            d3d2792b4f002c766a99bb7152ccf3ee   \n",
       "OU Computer Username  5759a8752ba4984049c0be67c7a6270f   \n",
       "Personal Identifier   7f30f4954957eb71909d7ec30ccb0e0a   \n",
       "Institution                                        NaN   \n",
       "Department                                         NaN   \n",
       "Email address         ff9114a689c8e5141f46cf1386b5ba9d   \n",
       "State                                         Finished   \n",
       "Started on                         2016-01-29 09:14:00   \n",
       "Completed                          2016-01-30 22:10:00   \n",
       "...                                                ...   \n",
       "Q. 11 /1.00                                          1   \n",
       "Q. 12 /1.00                                          1   \n",
       "Q. 13 /1.00                                          1   \n",
       "Q. 14 /1.00                                          1   \n",
       "Q. 15 /1.00                                       0.89   \n",
       "Q. 16 /1.00                                          1   \n",
       "Q. 17 /1.00                                          1   \n",
       "Q. 18 /1.00                                          1   \n",
       "Q. 19 /1.00                                          1   \n",
       "Q. 20 /1.00                                          1   \n",
       "\n",
       "                                                     2  \n",
       "Surname               aa8af604652b6b631f11061fe8c69809  \n",
       "First name            ec83707bbca209e51a65e9864ac8baeb  \n",
       "OU Computer Username  b8fe6559c9ba7bd27819a5460c9359c8  \n",
       "Personal Identifier   4e74dca9c74ad198eeb162dac5193d9e  \n",
       "Institution                                        NaN  \n",
       "Department                                         NaN  \n",
       "Email address         ec01fe85557bab32113d8fbb47b0685d  \n",
       "State                                         Finished  \n",
       "Started on                         2016-01-29 11:16:00  \n",
       "Completed                          2016-01-29 11:57:00  \n",
       "...                                                ...  \n",
       "Q. 11 /1.00                                          1  \n",
       "Q. 12 /1.00                                          1  \n",
       "Q. 13 /1.00                                          1  \n",
       "Q. 14 /1.00                                          1  \n",
       "Q. 15 /1.00                                          1  \n",
       "Q. 16 /1.00                                          1  \n",
       "Q. 17 /1.00                                          1  \n",
       "Q. 18 /1.00                                          1  \n",
       "Q. 19 /1.00                                          1  \n",
       "Q. 20 /1.00                                          1  \n",
       "\n",
       "[32 rows x 3 columns]"
      ]
     },
     "execution_count": 86,
     "metadata": {},
     "output_type": "execute_result"
    }
   ],
   "source": [
    "# Recalculate the 'Time taken' values.\n",
    "icma_df['Time taken'] = icma_df['Completed'] - icma_df['Started on']\n",
    "icma_df.head(3).T"
   ]
  },
  {
   "cell_type": "markdown",
   "metadata": {},
   "source": [
    "`describe()` the `icma_df` DataFrame. (Again, you may find the results easier to see if you transpose `.T` the description.)"
   ]
  },
  {
   "cell_type": "code",
   "execution_count": 87,
   "metadata": {
    "activity": "activity",
    "collapsed": false,
    "run_control": {
     "read_only": false
    },
    "scrolled": false
   },
   "outputs": [
    {
     "data": {
      "text/plain": [
       "            count                     mean                      std  \\\n",
       "Institution     0                      NaN                      NaN   \n",
       "Department      0                      NaN                      NaN   \n",
       "Time taken    726  16 days 09:30:07.768595  29 days 07:00:03.466198   \n",
       "Grade/20.00   726                  17.1574                  2.75742   \n",
       "Q. 1 /1.00    821                 0.994348                0.0589023   \n",
       "Q. 2 /1.00    809                 0.949184                 0.149324   \n",
       "Q. 3 /1.00    796                 0.895415                 0.211043   \n",
       "Q. 4 /1.00    808                 0.884814                  0.24743   \n",
       "Q. 5 /1.00    782                 0.903619                  0.12584   \n",
       "Q. 6 /1.00    761                 0.771498                 0.247875   \n",
       "...           ...                      ...                      ...   \n",
       "Q. 11 /1.00   755                 0.926702                 0.169854   \n",
       "Q. 12 /1.00   740                 0.892689                 0.207733   \n",
       "Q. 13 /1.00   757                 0.985575                0.0739072   \n",
       "Q. 14 /1.00   748                 0.875428                 0.267047   \n",
       "Q. 15 /1.00   737                 0.864274                  0.20345   \n",
       "Q. 16 /1.00   754                 0.993859                0.0478942   \n",
       "Q. 17 /1.00   749                 0.934927                 0.159529   \n",
       "Q. 18 /1.00   709                 0.668491                   0.3768   \n",
       "Q. 19 /1.00   716                 0.838031                 0.250563   \n",
       "Q. 20 /1.00   726                 0.712617                 0.343511   \n",
       "\n",
       "                         min              25%              50%  \\\n",
       "Institution              NaN              NaN              NaN   \n",
       "Department               NaN              NaN              NaN   \n",
       "Time taken   0 days 00:01:00  0 days 00:35:00  0 days 01:46:00   \n",
       "Grade/20.00                1          16.2875           17.765   \n",
       "Q. 1 /1.00                 0                1                1   \n",
       "Q. 2 /1.00                 0                1                1   \n",
       "Q. 3 /1.00                 0                1                1   \n",
       "Q. 4 /1.00                 0                1                1   \n",
       "Q. 5 /1.00                 0             0.89             0.89   \n",
       "Q. 6 /1.00                 0             0.67             0.78   \n",
       "...                      ...              ...              ...   \n",
       "Q. 11 /1.00                0             0.89                1   \n",
       "Q. 12 /1.00                0             0.89                1   \n",
       "Q. 13 /1.00             0.33                1                1   \n",
       "Q. 14 /1.00                0                1                1   \n",
       "Q. 15 /1.00                0             0.89                1   \n",
       "Q. 16 /1.00             0.33                1                1   \n",
       "Q. 17 /1.00                0                1                1   \n",
       "Q. 18 /1.00                0             0.33             0.67   \n",
       "Q. 19 /1.00                0             0.67                1   \n",
       "Q. 20 /1.00                0              0.5             0.83   \n",
       "\n",
       "                          75%                max  \n",
       "Institution               NaN                NaN  \n",
       "Department                NaN                NaN  \n",
       "Time taken   21 days 18:49:00  154 days 00:58:00  \n",
       "Grade/20.00            18.935                 20  \n",
       "Q. 1 /1.00                  1                  1  \n",
       "Q. 2 /1.00                  1                  1  \n",
       "Q. 3 /1.00                  1                  1  \n",
       "Q. 4 /1.00                  1                  1  \n",
       "Q. 5 /1.00                  1                  1  \n",
       "Q. 6 /1.00                  1                  1  \n",
       "...                       ...                ...  \n",
       "Q. 11 /1.00                 1                  1  \n",
       "Q. 12 /1.00                 1                  1  \n",
       "Q. 13 /1.00                 1                  1  \n",
       "Q. 14 /1.00                 1                  1  \n",
       "Q. 15 /1.00                 1                  1  \n",
       "Q. 16 /1.00                 1                  1  \n",
       "Q. 17 /1.00                 1                  1  \n",
       "Q. 18 /1.00                 1                  1  \n",
       "Q. 19 /1.00                 1                  1  \n",
       "Q. 20 /1.00                 1                  1  \n",
       "\n",
       "[24 rows x 8 columns]"
      ]
     },
     "execution_count": 87,
     "metadata": {},
     "output_type": "execute_result"
    }
   ],
   "source": [
    "# Enter your code here.\n",
    "icma_df.describe().T"
   ]
  },
  {
   "cell_type": "markdown",
   "metadata": {},
   "source": [
    "All iCMA attempts are recorded in the data, whether or not they are finished. The `State` column shows the completion state. What are the different values for State, and how many are in each state? How many questions were answered in each state?"
   ]
  },
  {
   "cell_type": "code",
   "execution_count": 88,
   "metadata": {
    "activity": "activity",
    "collapsed": false,
    "run_control": {
     "read_only": false
    },
    "scrolled": false
   },
   "outputs": [
    {
     "data": {
      "text/plain": [
       "State                 Finished  In progress\n",
       "Surname                    726          108\n",
       "First name                 726          108\n",
       "OU Computer Username       726          108\n",
       "Personal Identifier        726          108\n",
       "Institution                  0            0\n",
       "Department                   0            0\n",
       "Email address              726          108\n",
       "Started on                 726          108\n",
       "Completed                  726            0\n",
       "Time taken                 726            0\n",
       "...                        ...          ...\n",
       "Q. 11 /1.00                706           49\n",
       "Q. 12 /1.00                701           39\n",
       "Q. 13 /1.00                705           52\n",
       "Q. 14 /1.00                704           44\n",
       "Q. 15 /1.00                702           35\n",
       "Q. 16 /1.00                705           49\n",
       "Q. 17 /1.00                705           44\n",
       "Q. 18 /1.00                689           20\n",
       "Q. 19 /1.00                696           20\n",
       "Q. 20 /1.00                696           30\n",
       "\n",
       "[31 rows x 2 columns]"
      ]
     },
     "execution_count": 88,
     "metadata": {},
     "output_type": "execute_result"
    }
   ],
   "source": [
    "# First we group the table by state, and then apply the count function (we could also use a pivot table\n",
    "# but the results are the same). \n",
    "# If we then transpose the table we can easily see we have 2 kinds of states:'Finished' and 'In progress'\n",
    "# There are 726 'finished' ones (see Personal Identifier row), and 108 'In progress'\n",
    "# For each question we can now also see how many questions were answered (e.g. 726 of those students who \n",
    "# finished answered question 1, but only 95 who are still in progress have answered question 1)\n",
    "\n",
    "icma_df.groupby('State').count().T\n"
   ]
  },
  {
   "cell_type": "markdown",
   "metadata": {},
   "source": [
    "Use Pandas `hist()` to generate a histogram of number of tests for each Grade. As the test is out of 20, use 21 bins (0--20 inclusive). Add a suitable title (use `plt.title()`)."
   ]
  },
  {
   "cell_type": "code",
   "execution_count": 89,
   "metadata": {
    "activity": "activity",
    "collapsed": false,
    "run_control": {
     "read_only": false
    }
   },
   "outputs": [
    {
     "data": {
      "text/plain": [
       "array([[<matplotlib.axes._subplots.AxesSubplot object at 0x12208ae80>]], dtype=object)"
      ]
     },
     "execution_count": 89,
     "metadata": {},
     "output_type": "execute_result"
    },
    {
     "data": {
      "image/png": "[encoded data removed]",
      "text/plain": [
       "<matplotlib.figure.Figure at 0x12203eba8>"
      ]
     },
     "metadata": {},
     "output_type": "display_data"
    }
   ],
   "source": [
    "icma_df.hist(column='Grade/20.00', bins=range(21))\n",
    "#NB plt.title, plt.xlabel and plt.ylabel don't work here. Unable to find solution online. \n",
    "#plt.xlabel('Grade/20')\n",
    "#plt.ylabel('Total Students')\n",
    "#plt.title(\"Total number of tests per grade/20\")"
   ]
  },
  {
   "cell_type": "code",
   "execution_count": 90,
   "metadata": {
    "activity": "activity",
    "collapsed": false,
    "run_control": {
     "read_only": false
    }
   },
   "outputs": [
    {
     "data": {
      "text/plain": [
       "array([[<matplotlib.axes._subplots.AxesSubplot object at 0x1222f1b70>]], dtype=object)"
      ]
     },
     "execution_count": 90,
     "metadata": {},
     "output_type": "execute_result"
    },
    {
     "data": {
      "image/png": "[encoded data removed]",
      "text/plain": [
       "<matplotlib.figure.Figure at 0x1222b6668>"
      ]
     },
     "metadata": {},
     "output_type": "display_data"
    }
   ],
   "source": [
    "'added by AH'\n",
    "'note how different bins parameter call'\n",
    "icma_df.hist(column='Grade/20.00', bins=(21))\n"
   ]
  },
  {
   "cell_type": "markdown",
   "metadata": {},
   "source": [
    "The above shows only completed tests. What are the marks awarded for 'In progress' tests?\n",
    "\n",
    "Hint: Sum the question scores. You need to tell .sum() to add by row, not column. Use `fillna()` to include rows with no answered questions."
   ]
  },
  {
   "cell_type": "code",
   "execution_count": 91,
   "metadata": {
    "activity": "activity",
    "collapsed": false,
    "run_control": {
     "read_only": false
    },
    "scrolled": false
   },
   "outputs": [
    {
     "data": {
      "text/plain": [
       "array([<matplotlib.axes._subplots.AxesSubplot object at 0x121959470>,\n",
       "       <matplotlib.axes._subplots.AxesSubplot object at 0x1214e9da0>], dtype=object)"
      ]
     },
     "execution_count": 91,
     "metadata": {},
     "output_type": "execute_result"
    },
    {
     "data": {
      "image/png": "[encoded data removed]",
      "text/plain": [
       "<matplotlib.figure.Figure at 0x122104048>"
      ]
     },
     "metadata": {},
     "output_type": "display_data"
    }
   ],
   "source": [
    "#get list of columns, and discard all non-answer columns\n",
    "answer_columns = list(icma_df)\n",
    "answer_columns = answer_columns[12:]  #discard first 12 columns \n",
    "\n",
    "# now replace all NaNs with 0s for the answer columns only\n",
    "icma_df[answer_columns] = icma_df[answer_columns].fillna(0)\n",
    "\n",
    "# Next, recalculate all the students' scores by summing answer columns for each row, \n",
    "# and update grade column with result \n",
    "icma_df['Grade/20.00'] = icma_df[answer_columns].sum(axis=1) \n",
    "\n",
    "#now we can replot the histogram, and also group by state to compare..\n",
    "icma_df.hist(column='Grade/20.00', bins=range(21), by=['State'], figsize=(10,5))"
   ]
  },
  {
   "cell_type": "markdown",
   "metadata": {},
   "source": [
    "### added by AH\n",
    "*It would be better to have the x-axis labels in an horizontal arrangement*"
   ]
  },
  {
   "cell_type": "markdown",
   "metadata": {},
   "source": [
    "**Question:** \n",
    "What do these tables and charts tell you?  Comment on:\n",
    "\n",
    "1. the proportion of complete and incomplete quizzes, and which data is present or missing in which state.\n",
    "\n",
    "1. the range of values for the time taken.\n",
    "\n",
    "1. the ranges of the overall grade (`Grade/20.00`) and the marks for individual questions (`Q. 1/1.00` to `Q. 20/1.00`).\n",
    "\n",
    "1. the distribution of marks of complete and incomplete quizzes.\n",
    "\n",
    "1. the number of questions answered in quizzes."
   ]
  },
  {
   "cell_type": "markdown",
   "metadata": {
    "activity": "activity"
   },
   "source": [
    "**Write your answer here** _(200 words)_\n",
    "Looking at the table which shows the number of questions answered in each state, we can see there are 726 finished attempts (87%), and 108 unfinished attempts (13%). \n",
    "\n",
    "The table of summary statistics shows us that the average time taken to complete a quiz is 16 days, 9 hours. However, the maximum time taken is an enormous 154 days, which is probably skewing the average. This is supported by a large standard deviation (29 days!), suggesting a highly spread out distribution. This suggests a wide range of study patterns for different students.\n",
    "\n",
    "While there is a large range in scores for each question (0 to 1 in most cases),\n",
    "the average score for each question is very high, with only 2 questions (Q18 and Q20) having a mean score of less than 0.75. Interestingly, one would expect the later questions to have lower scores due to being more difficult, but the data doesn't show this, with some extremely high average marks towards the end of the quiz (such as question 16 with an average of 99%!).\n",
    "\n",
    "In terms of the distribution of marks, we can see from the histogram that the majority of students scored 15 or above, with the average score for all students being 17.16. For students who didn't complete, there is an interesting peak at around 15/20, suggesting that had students clicked submit they would have performed better than they expected to.\n",
    "\n",
    "We can also see differences in how many students attempted a question, and how many gave up. Q1 for instance, was answered by 821 students (98%), compared to Q18 which was only answered by 709 students (83%).\n"
   ]
  },
  {
   "cell_type": "markdown",
   "metadata": {},
   "source": [
    "### added by AH\n",
    "*In a situation like this where there are a few outliers that skew the data, the median is a better statistic than the mean (average). In the cell below I find the median is 1 hour 45 mins. I suspect that these outlier may be due to a working pattern (which I might well emply) of looking at the iCMAs as soon as possible to see what they cover and to guide my study of those sections.\n",
    "With regard to the average scores - could it not be that later questiosn just deal with material in later sections of the course rather than more difficult material? You comment about the students not feeling confident to submit is a valuable one and the kind of input from data analysis that aids policy making.*"
   ]
  },
  {
   "cell_type": "code",
   "execution_count": 136,
   "metadata": {
    "collapsed": false
   },
   "outputs": [
    {
     "data": {
      "text/plain": [
       "Timedelta('0 days 01:46:00')"
      ]
     },
     "execution_count": 136,
     "metadata": {},
     "output_type": "execute_result"
    }
   ],
   "source": [
    "icma_df['Time taken'].median()"
   ]
  },
  {
   "cell_type": "code",
   "execution_count": 92,
   "metadata": {
    "collapsed": true,
    "run_control": {
     "read_only": false
    }
   },
   "outputs": [],
   "source": [
    "# For convenience, hold the selectors for the completed and incomplete attempts\n",
    "finished = icma_df['State'] == 'Finished'\n",
    "in_progress = ~finished\n",
    "\n",
    "# e.g. icma_df[finished] is just the rows corresponding to finished attempts."
   ]
  },
  {
   "cell_type": "code",
   "execution_count": 93,
   "metadata": {
    "collapsed": true,
    "run_control": {
     "read_only": false
    }
   },
   "outputs": [],
   "source": [
    "# For convenience, hold a list of column names that store question marks.\n",
    "question_columns = ['Q. 1 /1.00', 'Q. 2 /1.00',\n",
    "       'Q. 3 /1.00', 'Q. 4 /1.00', 'Q. 5 /1.00', 'Q. 6 /1.00', 'Q. 7 /1.00',\n",
    "       'Q. 8 /1.00', 'Q. 9 /1.00', 'Q. 10 /1.00', 'Q. 11 /1.00', 'Q. 12 /1.00',\n",
    "       'Q. 13 /1.00', 'Q. 14 /1.00', 'Q. 15 /1.00', 'Q. 16 /1.00',\n",
    "       'Q. 17 /1.00', 'Q. 18 /1.00', 'Q. 19 /1.00', 'Q. 20 /1.00']\n",
    "\n",
    "# e.g. icma_df[question_columns] is just the columns for the individual questions"
   ]
  },
  {
   "cell_type": "markdown",
   "metadata": {},
   "source": [
    "Aspects of the data you will explore further are:\n",
    "\n",
    "1. how many attempts each student has made\n",
    "\n",
    "2. how the time taken for the iCMAs affects the score\n",
    "\n",
    "3. times and dates of starting and finishing iCMAs\n",
    "\n",
    "4. which questions are harder than others\n",
    "\n",
    "5. summarising these results and indicating interesting aspects\n",
    "\n",
    "6. anonymity and privacy of the data"
   ]
  },
  {
   "cell_type": "markdown",
   "metadata": {},
   "source": [
    "# <a name=\"b\"></a>b) Number of attempts (4 marks)\n",
    "([Contents](#contents))\n",
    "\n",
    "Students can make multiple attempts at a quiz. In this part of the question, you will see how many attempts different students made."
   ]
  },
  {
   "cell_type": "markdown",
   "metadata": {},
   "source": [
    "Count the number of attempts by each student.\n",
    "\n",
    "Store the results in a new data frame, `attempt_counts_df`. This new dataframe should have one row for each student, with the columns showing the number of quiz attempts for that student."
   ]
  },
  {
   "cell_type": "code",
   "execution_count": 94,
   "metadata": {
    "activity": "activity",
    "collapsed": false,
    "run_control": {
     "read_only": false
    },
    "scrolled": false
   },
   "outputs": [
    {
     "data": {
      "text/plain": [
       "                                  Completed  Department  Email address  \\\n",
       "Personal Identifier                                                      \n",
       "003047356d0f4b451008051bc7580a61          1           0              1   \n",
       "00a0827e06178d3cc66ca00614da7224          1           0              1   \n",
       "00a3ecab1901a4df63f7bbe9305c9273          2           0              2   \n",
       "00b0749a276fadc59c67593679cdd352          2           0              2   \n",
       "00ba4c0d58a2a240bfb77191c790b8a8          1           0              1   \n",
       "\n",
       "                                  First name  Grade/20.00  Institution  \\\n",
       "Personal Identifier                                                      \n",
       "003047356d0f4b451008051bc7580a61           1            1            0   \n",
       "00a0827e06178d3cc66ca00614da7224           1            1            0   \n",
       "00a3ecab1901a4df63f7bbe9305c9273           2            2            0   \n",
       "00b0749a276fadc59c67593679cdd352           2            2            0   \n",
       "00ba4c0d58a2a240bfb77191c790b8a8           1            1            0   \n",
       "\n",
       "                                  OU Computer Username  Q. 1 /1.00  \\\n",
       "Personal Identifier                                                  \n",
       "003047356d0f4b451008051bc7580a61                     1           1   \n",
       "00a0827e06178d3cc66ca00614da7224                     1           1   \n",
       "00a3ecab1901a4df63f7bbe9305c9273                     2           2   \n",
       "00b0749a276fadc59c67593679cdd352                     2           2   \n",
       "00ba4c0d58a2a240bfb77191c790b8a8                     1           1   \n",
       "\n",
       "                                  Q. 10 /1.00  Q. 11 /1.00     ...      \\\n",
       "Personal Identifier                                            ...       \n",
       "003047356d0f4b451008051bc7580a61            1            1     ...       \n",
       "00a0827e06178d3cc66ca00614da7224            1            1     ...       \n",
       "00a3ecab1901a4df63f7bbe9305c9273            2            2     ...       \n",
       "00b0749a276fadc59c67593679cdd352            2            2     ...       \n",
       "00ba4c0d58a2a240bfb77191c790b8a8            1            1     ...       \n",
       "\n",
       "                                  Q. 4 /1.00  Q. 5 /1.00  Q. 6 /1.00  \\\n",
       "Personal Identifier                                                    \n",
       "003047356d0f4b451008051bc7580a61           1           1           1   \n",
       "00a0827e06178d3cc66ca00614da7224           1           1           1   \n",
       "00a3ecab1901a4df63f7bbe9305c9273           2           2           2   \n",
       "00b0749a276fadc59c67593679cdd352           2           2           2   \n",
       "00ba4c0d58a2a240bfb77191c790b8a8           1           1           1   \n",
       "\n",
       "                                  Q. 7 /1.00  Q. 8 /1.00  Q. 9 /1.00  \\\n",
       "Personal Identifier                                                    \n",
       "003047356d0f4b451008051bc7580a61           1           1           1   \n",
       "00a0827e06178d3cc66ca00614da7224           1           1           1   \n",
       "00a3ecab1901a4df63f7bbe9305c9273           2           2           2   \n",
       "00b0749a276fadc59c67593679cdd352           2           2           2   \n",
       "00ba4c0d58a2a240bfb77191c790b8a8           1           1           1   \n",
       "\n",
       "                                  Started on  State  Surname  Time taken  \n",
       "Personal Identifier                                                       \n",
       "003047356d0f4b451008051bc7580a61           1      1        1           1  \n",
       "00a0827e06178d3cc66ca00614da7224           1      1        1           1  \n",
       "00a3ecab1901a4df63f7bbe9305c9273           2      2        2           2  \n",
       "00b0749a276fadc59c67593679cdd352           2      2        2           2  \n",
       "00ba4c0d58a2a240bfb77191c790b8a8           1      1        1           1  \n",
       "\n",
       "[5 rows x 31 columns]"
      ]
     },
     "execution_count": 94,
     "metadata": {},
     "output_type": "execute_result"
    }
   ],
   "source": [
    "# group the icma data by personal identifier - this will be unique for each student\n",
    "# this gives us a count of attempts by each student\n",
    "attempt_counts_df = pd.pivot_table(icma_df, index=['Personal Identifier'],aggfunc='count')\n",
    "attempt_counts_df.head(5)"
   ]
  },
  {
   "cell_type": "markdown",
   "metadata": {},
   "source": [
    "Group `attempt_counts_df` by `Completed` to show the number of students who completed each number of quizzes. (For example, how many students completed no quiz attempts, how many completed 3 attempts, and so on.) Give both the numerical results and a bar chart visualisation."
   ]
  },
  {
   "cell_type": "code",
   "execution_count": 95,
   "metadata": {
    "activity": "activity",
    "collapsed": false,
    "run_control": {
     "read_only": false
    }
   },
   "outputs": [
    {
     "data": {
      "text/plain": [
       "   Quiz Attempts Completed  Total Students\n",
       "0                        0              90\n",
       "1                        1             493\n",
       "2                        2              51\n",
       "3                        3              19\n",
       "4                        4               4\n",
       "5                        5               3\n",
       "6                        6               4\n",
       "7                        8               1\n",
       "8                       11               1"
      ]
     },
     "execution_count": 95,
     "metadata": {},
     "output_type": "execute_result"
    }
   ],
   "source": [
    "# pivot again, this time on completed column, count completed and discard all columns apart from one\n",
    "attempts_summary = pd.pivot_table(attempt_counts_df, index=['Completed'],values=['Email address'],aggfunc='count')\n",
    "attempts_summary.reset_index(inplace=True) #turn Completed into a regular column, and rename columns\n",
    "attempts_summary.rename(columns={'Completed':'Quiz Attempts Completed', 'Email address':'Total Students'}, inplace=True)\n",
    "attempts_summary"
   ]
  },
  {
   "cell_type": "code",
   "execution_count": 96,
   "metadata": {
    "collapsed": false,
    "run_control": {
     "read_only": false
    }
   },
   "outputs": [
    {
     "data": {
      "text/plain": [
       "<matplotlib.text.Text at 0x120fbd748>"
      ]
     },
     "execution_count": 96,
     "metadata": {},
     "output_type": "execute_result"
    },
    {
     "data": {
      "image/png": "[encoded data removed]",
      "text/plain": [
       "<matplotlib.figure.Figure at 0x1213f6cc0>"
      ]
     },
     "metadata": {},
     "output_type": "display_data"
    }
   ],
   "source": [
    "#now plot the above table\n",
    "attempts_summary.plot.bar(x='Quiz Attempts Completed', title=\"Total Quiz Attempts Completed\")\n",
    "plt.xlabel('Quiz Attempts Completed')\n",
    "plt.ylabel('Total Students')"
   ]
  },
  {
   "cell_type": "markdown",
   "metadata": {},
   "source": [
    "Find the PIs of students that completed the quiz more than five times, and how many times they completed the quiz. Display the results in order of number of completed quizzes."
   ]
  },
  {
   "cell_type": "code",
   "execution_count": 97,
   "metadata": {
    "activity": "activity",
    "collapsed": false,
    "run_control": {
     "read_only": false
    }
   },
   "outputs": [
    {
     "data": {
      "text/plain": [
       "Personal Identifier\n",
       "5355523788afb249175bdb8b1d12380e     6\n",
       "86a729acd802df7d50607198c2185979     6\n",
       "c93061b5be7add3dde1d71cf78664b69     6\n",
       "f09d619892b5f1c63015683b6217fe54     6\n",
       "8db4ad5565daec67476734944a321ee7     8\n",
       "de9b3258c50941ba6ff048c203194c8b    11\n",
       "Name: Completed, dtype: int64"
      ]
     },
     "execution_count": 97,
     "metadata": {},
     "output_type": "execute_result"
    }
   ],
   "source": [
    "# Select rows from pivot table where Completed count > 5\n",
    "# apply a sort by completed\n",
    "over_5_quiz_attempts = attempt_counts_df[attempt_counts_df['Completed']>5].sort_values(by=['Completed'])\n",
    "over_5_quiz_attempts['Completed']"
   ]
  },
  {
   "cell_type": "markdown",
   "metadata": {},
   "source": [
    "Find the PI of the student who completed the most number of quizzes. Show the datetime and overall grade of their attempts, in datetime order."
   ]
  },
  {
   "cell_type": "code",
   "execution_count": 98,
   "metadata": {
    "activity": "activity",
    "collapsed": false,
    "run_control": {
     "read_only": false
    }
   },
   "outputs": [
    {
     "data": {
      "text/plain": [
       "              Completed  Grade/20.00\n",
       "34  2016-02-04 14:20:00        12.07\n",
       "88  2016-02-11 15:14:00        12.33\n",
       "97  2016-02-13 13:21:00        13.11\n",
       "103 2016-02-14 13:13:00        14.00\n",
       "105 2016-02-14 14:24:00        17.50\n",
       "109 2016-02-15 14:47:00        15.45\n",
       "111 2016-02-15 15:19:00        16.73\n",
       "112 2016-02-15 15:42:00        16.34\n",
       "121 2016-02-16 14:43:00        18.62\n",
       "123 2016-02-16 15:20:00        18.34\n",
       "125 2016-02-16 15:56:00        19.12"
      ]
     },
     "execution_count": 98,
     "metadata": {},
     "output_type": "execute_result"
    }
   ],
   "source": [
    "#go back to original attempt_counts_df dataframe, and call idxmax method to return the index of the row with the max count\n",
    "#i.e. the PI of the student with the max number of attempts\n",
    "most_quiz_attempts_pi = attempt_counts_df.idxmax()\n",
    "most_quiz_attempts_pi = most_quiz_attempts_pi['Completed']\n",
    "\n",
    "#now use PI of student with most attempts to select all his / her rows from original dataframe\n",
    "attempts = icma_df[icma_df['Personal Identifier'] == most_quiz_attempts_pi]\n",
    "#sort attempts by completed date\n",
    "attempts.sort_values(by=['Completed'])\n",
    "#select just the columns we want\n",
    "attempts[['Completed','Grade/20.00']]"
   ]
  },
  {
   "cell_type": "markdown",
   "metadata": {},
   "source": [
    "Many students started a quiz but did not complete any. What would their scores have been if they had pressed the \"submit\" button on the quiz? Plot the results as a histogram (with 21 bins).\n",
    "\n",
    "First, find the PIs of students with zero completed quizzes. \n",
    "\n",
    "_Hint:_ The Personal Identifier is the `index` of the `attempt_counts` DataFrame. Store the relevant Personal Identifiers in a variable called `zero_attempted`."
   ]
  },
  {
   "cell_type": "code",
   "execution_count": 99,
   "metadata": {
    "activity": "activity",
    "collapsed": false,
    "run_control": {
     "read_only": false
    },
    "scrolled": true
   },
   "outputs": [
    {
     "data": {
      "text/plain": [
       "Index(['01679542bebfb044ca81f73848bc322c', '01c05a8732e2091d2aceab53f6bcc87d',\n",
       "       '065f17ebad6c6258dd55293d7efbf4b5', '0826a6d1da7c62e82c22d7ff4bc6c697',\n",
       "       '0d5b2caddd3153ba426efecc6bdd9f05', '0fac3c1704877efe52fddc6e1162e5c3',\n",
       "       '1198ef963362eb127f888e263a012daf', '1352e5ad87b7171858b955d02cf4b5f4',\n",
       "       '13a5cd6605cb7f8c09fa812bdf575184', '17a3d70bad7c6a0355a9c65e6f694e05',\n",
       "       '181b6b7816deae79627a1a4942ec1189', '184995ce7ac197b6752aac38c4072ebd',\n",
       "       '1fa06ea1b35d1b360f9a8c1395e07f6a', '228cb5a4d543bfa880d7d90bdb4d15e2',\n",
       "       '245ec7644f5159c297eb2b1b82965be1', '256dce1fd1523049b0da537a408909b3',\n",
       "       '25c8e17fe87b1b47294e65ac8755ea09', '29011958b5531db313faa15ac46018b2',\n",
       "       '2ea13f5044a777bb718bd38879d90344', '31e9d5931045f0eb995e89e2ca4e5bfb',\n",
       "       '35635ff8e5cc20633c4ffa11380a4af6', '3739ccdfa542a82f0522506d7aa115c7',\n",
       "       '3830174918e12839f30698416a4af9a3', '38d51786877591180a4f1446f09642fb',\n",
       "       '3d32c15b73037fde7c93ca7ddba88206', '3dddb096209a5a20834800e068a9ed80',\n",
       "       '3e370fa3d04b666fd232c9dafccdd25c', '40c5345dc5e700cd3538dfb2c23e2df7',\n",
       "       '4c2086a037a747c98b8449526e6b93c4', '4eb19d9e5bdcc21392dde742073e5449',\n",
       "       '4ff2ad90ec52ef36fc2572479fba4d7c', '5055e33d802c696a34a00988d683781a',\n",
       "       '56dde1a725f52e314b908305bcad0819', '575f4680c64354158219c277d6532c94',\n",
       "       '57ce0da18422bd5a77fc62b38615f033', '59050e91344327353d026b732a380c54',\n",
       "       '59eb0934528ea196a7843f6e2d476481', '5aefc74c9157da19d8de9b7e313e9ee6',\n",
       "       '5f93fcfa26b649f062b339368ca08787', '5ffcd3541f37b1c699f57376bfef49e6',\n",
       "       '6168849326223c6fc0b3a9caa6f2c67f', '64c09c422447f1397d0146815d10f0bc',\n",
       "       '6a6286a7fcfb4df85e3beda2da32dba4', '6ab577e527fcd4cf81c6f35bce32833a',\n",
       "       '6bb00a38772bd769540d67e578f710f9', '72905c9e40f141402f4f7e71436d9e5e',\n",
       "       '764a7ed54722cc17343ce5ef34cbb0b7', '766e7c5d9d5ea29cec799d8f26652c12',\n",
       "       '78d6cbc3eea347b7bee98ef62c8ebe17', '7b9a664e8d596e994d37a8abf6882b4c',\n",
       "       '7e8041aa5dbdf0d6f74532bbdfc8c5e8', '822aee71af1c6776ae47afa001ef9606',\n",
       "       '84d6a6a2350aebcaf00f924c731ec309', '856fc63844a0aab4f44ae018c53b70ae',\n",
       "       '8752daaf04700d0ae15e8b8daf9fca48', '8ab034b8586e7fff18ec07c6b57829c5',\n",
       "       '8b9cdb41623d86e49ab42ebe03705ee7', '953d2e941bad277652d5f0c41a3e33fa',\n",
       "       '97e247705aaa8595fa1a02f0e04e38f6', 'a4e8d6b3b9173c7e2b1f32edb258a2f4',\n",
       "       'a61cc8e799fe840b6a2cb6a4b0087a28', 'a655111f433d5b2644ed7b00163481ea',\n",
       "       'a6b8c7cf17638a340731dd2e55bceace', 'b7fe7e5f30c78dda9e27fee2446096bb',\n",
       "       'bc5232d92d1d4c297a146ed813a01a5a', 'c00565f0aecfe4b63d042a95d87486ca',\n",
       "       'c1c640f41bedf921604fecf52fde35a3', 'c68ec2d5d9a28cba88f1acc30935ce3e',\n",
       "       'c959702bebc661561e4d98cd3404a5a1', 'caaf871cdf80be7cd2824711986f5353',\n",
       "       'cd30162988d4200afe1cc047654d026a', 'cf3ae2d4882471630795545a86ad9944',\n",
       "       'd383cad8d552206ef886abc24db73167', 'd73aa4f1e1f4d82e5e587ddb0d866e91',\n",
       "       'd7491082fac40b7f00ca1fdd1bb1b0c3', 'd7fecdcd4b5ae855406e42bbd4638777',\n",
       "       'dd530a1b6eaf968adf37250441be2681', 'df535950bf4b94e4bafc3e3a1185a3da',\n",
       "       'e1afc97c387751b8c72030ced7953018', 'e69b9f4756e7335b4bdc6db6946107d8',\n",
       "       'e79e0a902eb53e6088506ffd97cf4aba', 'e9be09553c4df94c6e5317a320308400',\n",
       "       'eae436699194e44c31f1a82819838568', 'ed01798c6f9bab7e608f00c67f3e8f3e',\n",
       "       'f459e265f2e02e4f4442aa6ef6d00806', 'f8b632943dbee103b4a2668c26049ac7',\n",
       "       'fcb697800666346fa164073b40d04e43', 'fd3c373fd7a20be445c384147b4bc8e4',\n",
       "       'fde48e7b9fc630052b63bc106941711b', 'ffde1db48e99481474e60caf2c002aa9'],\n",
       "      dtype='object', name='Personal Identifier')"
      ]
     },
     "execution_count": 99,
     "metadata": {},
     "output_type": "execute_result"
    }
   ],
   "source": [
    "# first, select rows with completed count of 0\n",
    "zero_attempted = attempt_counts_df[attempt_counts_df['Completed']==0]\n",
    "# next, grab the index column (which is the student PI)\n",
    "zero_attempted = zero_attempted.index\n",
    "zero_attempted"
   ]
  },
  {
   "cell_type": "markdown",
   "metadata": {},
   "source": [
    "The code below will select the rows of the `icma_df` DataFrame where the Personal Identifier is in the `zero_attempted` set you just identified. Use it to find the scores each of these quiz attempts would have been awarded had the student simply pressed 'submit'. Plot those results as a histogram (with 21 bins).\n",
    "\n",
    "Ensure you find the total per student, not the total per question."
   ]
  },
  {
   "cell_type": "code",
   "execution_count": 100,
   "metadata": {
    "collapsed": false,
    "run_control": {
     "read_only": false
    },
    "scrolled": true
   },
   "outputs": [
    {
     "data": {
      "text/plain": [
       "                              Surname                        First name  \\\n",
       "6    1b4a4ba779ce44b1d2ce658bbd199c14  7130f665bca85623df6944f349e4080f   \n",
       "27   c574d948293e2fce20f1d2c3ad2e7c52  6225db62f77fbf8cd896ab214c1b183d   \n",
       "57   a551255aba280834b0f4800d42ef1bda  ac0592b0dcb141b624b6512c3a5a207e   \n",
       "70   6627906f306950b8d77614a198c6ebd7  3949260500a1a05c4cd3a97a4b35f9f4   \n",
       "90   ff99f61214c921e5a2ccc1acdadacc78  88c23c38cef5a19b543da3c08d7636bb   \n",
       "92   966bf06d585f2a4c0680f3dec8da7bca  3900772a0dc83c545ff5e17f08cebf9e   \n",
       "93   75ecbcc2ee1ecdf832183cdb019fa07c  10b36dc315e8669cb5d6a31ef431be67   \n",
       "99   a0df726b4cab6f7c18bb05c0e697b865  10aab2ffe5e17184ab06b2c388811e11   \n",
       "110  adf1a5fdec02079b63e310a4236c0479  9e2f6a17030dd80c1c4267e17e494835   \n",
       "115  fea016e501612657bebc4d48d0abd55f  be9f54fd90c1265489eed9c23d485487   \n",
       "..                                ...                               ...   \n",
       "747  a5450848d8ec407c9fae1fe0c6ef0440  3cf7c9f8a5a7d6fe3be50d0f8409fc20   \n",
       "748  4de5cabc03a123aa92436d9864c4c28a  d012a1bf23470a71e503a8fcd48a4fa6   \n",
       "749  40ab070f01e67b5ed143ef6dd28475ec  38b4b2adde282eacba901ebbe1b3b6f0   \n",
       "758  b0d1c0b27a4d32c197229136cffbd612  0fe54ec440a95be0b43fd69b56ebc836   \n",
       "766  4e3b087ab03bdc40efef842e155fb433  88327d48e420a64e68bd78d3e07595b6   \n",
       "773  70461322ab07c6c0e8685804a5d87113  766650f5b60f8b9d44d3c9b2bf114ad7   \n",
       "806  79f9ed63e4b08579ecd527b66b4e1e15  24ddd2a223507534363584a6cc6694d7   \n",
       "828  b751fd84bdef447b9f9cba6fd84e4003  5033b1d9e4d71c945a068e856fbffc5c   \n",
       "831  c0188bada1cbf321ca33be8a6103d3cb  8a18ee2d38798a30132e80cb01c73d64   \n",
       "833  dee9b185fdc3772dd80669a5d3d3f6f9  75ffc9017bf01f43660b2e29a74d2d54   \n",
       "\n",
       "                 OU Computer Username               Personal Identifier  \\\n",
       "6    b17eb52dd4e580b58e100385d233f43f  764a7ed54722cc17343ce5ef34cbb0b7   \n",
       "27   23c673e072ed1924fba62f4a7232517d  a655111f433d5b2644ed7b00163481ea   \n",
       "57   06a4b1369c11daa16485aa3f730dabd8  e69b9f4756e7335b4bdc6db6946107d8   \n",
       "70   b671ea725339c123fad85e9d047db3cd  f8b632943dbee103b4a2668c26049ac7   \n",
       "90   2772042445231475461d597c693ffb43  29011958b5531db313faa15ac46018b2   \n",
       "92   c811c39c572bd96cd763bcc1f558ab00  e1afc97c387751b8c72030ced7953018   \n",
       "93   3c46c0327185cbf559cab29cb549fed2  d383cad8d552206ef886abc24db73167   \n",
       "99   5539a407ac9357730a9ef187aeef6818  3830174918e12839f30698416a4af9a3   \n",
       "110  ba4e4c20bce7ee0d33475363a485f4d6  13a5cd6605cb7f8c09fa812bdf575184   \n",
       "115  2a2786b0981c2c32c3b5398256f970c9  0826a6d1da7c62e82c22d7ff4bc6c697   \n",
       "..                                ...                               ...   \n",
       "747  475cf3768019458e6216fc5da67e4494  df535950bf4b94e4bafc3e3a1185a3da   \n",
       "748  36b00e6c327d2d70b89e5a0d89b5dd17  a4e8d6b3b9173c7e2b1f32edb258a2f4   \n",
       "749  642f073529edeb4994c0bc64a6809ac4  c1c640f41bedf921604fecf52fde35a3   \n",
       "758  84a4649688de3bbbec3ee631e64216cb  fde48e7b9fc630052b63bc106941711b   \n",
       "766  1d48f7cf09f1424cbc1e84c7ae4d18ea  4eb19d9e5bdcc21392dde742073e5449   \n",
       "773  aff1483c102af14484a9f5c427c7a968  17a3d70bad7c6a0355a9c65e6f694e05   \n",
       "806  8667828d90ae338afe450911502d82e5  72905c9e40f141402f4f7e71436d9e5e   \n",
       "828  945e7ce185e28f5cb00ddeb33ae2cd04  1fa06ea1b35d1b360f9a8c1395e07f6a   \n",
       "831  dfa8222e755272987349d618d9f9d806  8b9cdb41623d86e49ab42ebe03705ee7   \n",
       "833  d63ecaeea083263581cfc99fbc7e6d39  b7fe7e5f30c78dda9e27fee2446096bb   \n",
       "\n",
       "     Institution  Department                     Email address        State  \\\n",
       "6            NaN         NaN  6deb878c8a8c61dbd6ab30ff5e257c34  In progress   \n",
       "27           NaN         NaN  e0af3fee19091b96f12c4069c4f57330  In progress   \n",
       "57           NaN         NaN  611f6cf5227af7e6d7be14439cf4f163  In progress   \n",
       "70           NaN         NaN  de012fde4773590eef41ebd0299a2f85  In progress   \n",
       "90           NaN         NaN  de1de4e52f5422814697798822451221  In progress   \n",
       "92           NaN         NaN  b80250de7827923c28dc44527740641b  In progress   \n",
       "93           NaN         NaN  88145b9ec2ea47edae3cdc29007113a8  In progress   \n",
       "99           NaN         NaN  8f176e336a6ae224dbffb09138b259eb  In progress   \n",
       "110          NaN         NaN  47511ef37fe5b31bb28a26bfe7bf8cdf  In progress   \n",
       "115          NaN         NaN  7987deae3659b35ffc729bf60e33096f  In progress   \n",
       "..           ...         ...                               ...          ...   \n",
       "747          NaN         NaN  d6d6cd9a6692281cbfe72c4ec0248776  In progress   \n",
       "748          NaN         NaN  6c8d86e1c7c2a7a4b732ebc369820bf6  In progress   \n",
       "749          NaN         NaN  119b12167752d7041517b30667f8f2a7  In progress   \n",
       "758          NaN         NaN  c6c2b66f8a3bda7aac326c45172ab6e7  In progress   \n",
       "766          NaN         NaN  2d9fc8ed04e4c0038c371355db6189a6  In progress   \n",
       "773          NaN         NaN  506f61ba02be6365f9c0866654ffc37a  In progress   \n",
       "806          NaN         NaN  a9aa2db37f42ad3d927dfc9d8b94f668  In progress   \n",
       "828          NaN         NaN  92b48161555b963b5f204b40448c921a  In progress   \n",
       "831          NaN         NaN  0f5584c748970af93e2747556bd16825  In progress   \n",
       "833          NaN         NaN  415227995b096d9e9740b7ff36153ade  In progress   \n",
       "\n",
       "             Started on Completed     ...       Q. 11 /1.00  Q. 12 /1.00  \\\n",
       "6   2016-01-29 16:03:00       NaT     ...              0.00         0.00   \n",
       "27  2016-02-03 14:09:00       NaT     ...              0.00         0.00   \n",
       "57  2016-02-07 16:31:00       NaT     ...              0.00         0.00   \n",
       "70  2016-02-08 22:36:00       NaT     ...              0.00         0.00   \n",
       "90  2016-02-11 21:20:00       NaT     ...              1.00         1.00   \n",
       "92  2016-02-12 19:11:00       NaT     ...              0.00         0.00   \n",
       "93  2016-02-12 19:21:00       NaT     ...              0.00         0.00   \n",
       "99  2016-02-13 17:17:00       NaT     ...              1.00         0.89   \n",
       "110 2016-02-15 14:30:00       NaT     ...              1.00         1.00   \n",
       "115 2016-02-15 17:35:00       NaT     ...              0.00         0.00   \n",
       "..                  ...       ...     ...               ...          ...   \n",
       "747 2016-05-17 15:16:00       NaT     ...              0.00         0.00   \n",
       "748 2016-05-17 19:43:00       NaT     ...              0.00         0.00   \n",
       "749 2016-05-17 20:05:00       NaT     ...              1.00         0.89   \n",
       "758 2016-05-24 22:17:00       NaT     ...              0.00         0.00   \n",
       "766 2016-05-29 01:58:00       NaT     ...              1.00         0.00   \n",
       "773 2016-06-02 23:55:00       NaT     ...              0.89         0.89   \n",
       "806 2016-07-03 22:41:00       NaT     ...              0.00         0.00   \n",
       "828 2016-07-19 05:12:00       NaT     ...              1.00         1.00   \n",
       "831 2016-07-21 22:03:00       NaT     ...              0.00         0.00   \n",
       "833 2016-07-22 14:52:00       NaT     ...              0.67         0.00   \n",
       "\n",
       "     Q. 13 /1.00  Q. 14 /1.00  Q. 15 /1.00  Q. 16 /1.00  Q. 17 /1.00  \\\n",
       "6           0.00         0.00         0.00         0.00         0.00   \n",
       "27          0.00         0.00         0.00         0.00         0.00   \n",
       "57          0.00         0.00         0.00         0.00         0.00   \n",
       "70          0.00         0.00         0.00         0.00         0.00   \n",
       "90          1.00         0.33         0.00         1.00         0.67   \n",
       "92          0.00         0.00         0.00         0.00         0.00   \n",
       "93          0.00         0.00         0.00         0.00         0.00   \n",
       "99          1.00         1.00         0.00         1.00         0.00   \n",
       "110         1.00         0.67         0.89         1.00         1.00   \n",
       "115         0.00         0.00         0.00         0.00         0.00   \n",
       "..           ...          ...          ...          ...          ...   \n",
       "747         0.00         0.00         0.00         0.00         0.00   \n",
       "748         0.00         0.00         0.00         0.00         0.00   \n",
       "749         0.67         1.00         1.00         0.67         1.00   \n",
       "758         0.00         0.00         0.00         0.00         0.00   \n",
       "766         1.00         0.67         0.89         1.00         1.00   \n",
       "773         1.00         0.00         0.00         1.00         1.00   \n",
       "806         1.00         1.00         0.00         1.00         0.00   \n",
       "828         1.00         1.00         0.56         1.00         1.00   \n",
       "831         0.00         0.00         0.00         0.00         0.00   \n",
       "833         0.00         0.00         0.00         0.00         0.00   \n",
       "\n",
       "     Q. 18 /1.00  Q. 19 /1.00  Q. 20 /1.00  \n",
       "6            0.0         0.00         0.00  \n",
       "27           0.0         0.00         0.00  \n",
       "57           0.0         0.00         0.00  \n",
       "70           0.0         0.00         0.00  \n",
       "90           1.0         0.00         0.83  \n",
       "92           0.0         0.00         0.00  \n",
       "93           0.0         0.00         0.00  \n",
       "99           0.0         0.00         0.00  \n",
       "110          0.0         0.00         0.58  \n",
       "115          0.0         0.00         0.00  \n",
       "..           ...          ...          ...  \n",
       "747          0.0         0.00         0.00  \n",
       "748          0.0         0.00         0.00  \n",
       "749          1.0         1.00         0.50  \n",
       "758          0.0         0.00         0.00  \n",
       "766          0.0         0.00         0.00  \n",
       "773          0.0         0.44         0.67  \n",
       "806          0.0         0.00         0.00  \n",
       "828          0.0         0.00         0.17  \n",
       "831          0.0         0.00         0.00  \n",
       "833          0.0         0.00         0.00  \n",
       "\n",
       "[90 rows x 32 columns]"
      ]
     },
     "execution_count": 100,
     "metadata": {},
     "output_type": "execute_result"
    }
   ],
   "source": [
    "unsubmitted_attempts = icma_df[icma_df['Personal Identifier'].isin(zero_attempted)]\n",
    "unsubmitted_attempts"
   ]
  },
  {
   "cell_type": "code",
   "execution_count": 141,
   "metadata": {
    "activity": "activity",
    "collapsed": false,
    "run_control": {
     "read_only": false
    }
   },
   "outputs": [
    {
     "data": {
      "text/plain": [
       "array([[<matplotlib.axes._subplots.AxesSubplot object at 0x126825cf8>]], dtype=object)"
      ]
     },
     "execution_count": 141,
     "metadata": {},
     "output_type": "execute_result"
    },
    {
     "data": {
      "image/png": "[encoded data removed]",
      "text/plain": [
       "<matplotlib.figure.Figure at 0x1263ae9e8>"
      ]
     },
     "metadata": {},
     "output_type": "display_data"
    }
   ],
   "source": [
    "#we simply select the grade/20 column from unsubmitted_attempts and plot this, as we've already \n",
    "#set the score of non-answered questions to 0 and recalculated the total score \n",
    "unsubmitted_attempts.hist(column='Grade/20.00', bins=range(21))\n",
    "#NB plt.title, plt.xlabel and plt.ylabel don't work here. Unable to find solution online. \n",
    "#plt.xlabel('Grade/20')\n",
    "#plt.ylabel('Total Students')\n",
    "#plt.title(\"Grade/20 for students who didn't submit test\")"
   ]
  },
  {
   "cell_type": "code",
   "execution_count": 142,
   "metadata": {
    "activity": "activity",
    "collapsed": false,
    "run_control": {
     "read_only": false
    }
   },
   "outputs": [
    {
     "data": {
      "text/plain": [
       "<matplotlib.text.Text at 0x124081470>"
      ]
     },
     "execution_count": 142,
     "metadata": {},
     "output_type": "execute_result"
    },
    {
     "data": {
      "image/png": "[encoded data removed]",
      "text/plain": [
       "<matplotlib.figure.Figure at 0x124046b00>"
      ]
     },
     "metadata": {},
     "output_type": "display_data"
    }
   ],
   "source": [
    "'ADDED BY AH'\n",
    "#we simply select the grade/20 column from unsubmitted_attempts and plot this, as we've already \n",
    "#set the score of non-answered questions to 0 and recalculated the total score \n",
    "unsubmitted_attempts.hist(column='Grade/20.00', bins=range(21))\n",
    "#NB plt.title, plt.xlabel and plt.ylabel don't work here. Unable to find solution online. \n",
    "'IT SEEMS TO WORK ON MY PYTHON INSTALLATION!'\n",
    "plt.xlabel('Grade/20')\n",
    "plt.ylabel('Total Students')\n",
    "plt.title(\"Grade/20 for students who didn't submit test\")"
   ]
  },
  {
   "cell_type": "markdown",
   "metadata": {},
   "source": [
    "### added by AH\n",
    "*I am not sure of the safety of setting non-answered questions to 0. They seem to be different than answerign and getting it wrong. But maybe I am being too fussy*\n"
   ]
  },
  {
   "cell_type": "markdown",
   "metadata": {},
   "source": [
    "## Analysis\n",
    "What do these graphs and data extracts tell you about how students take quizzes?"
   ]
  },
  {
   "cell_type": "markdown",
   "metadata": {
    "activity": "activity"
   },
   "source": [
    "**Write your answer here** _(100 words)_\n",
    "These graphs and data tell us that while most students (74%) attempt and complete the quiz just once, there are a sizable proportion (13.5%) that attempt the quiz but don't complete it, even though by doing so they might have attained a reasonable grade (15 out of 90 students who didn't click submit would have scored 15/20 or higher). Conversely 12% of students complete the quiz multiple times in order to gain a higher score. One student even completed the quiz 11 times, increasing his/her score from 12 to 19. These results probably show differing study patterns in students, with some more motivated than others to score highly on the ICMAs. These results could also indicate students who have completed a quiz, but simply forgot to press submit."
   ]
  },
  {
   "cell_type": "markdown",
   "metadata": {},
   "source": [
    "### added by AH\n",
    "*Excellent analysis*"
   ]
  },
  {
   "cell_type": "markdown",
   "metadata": {},
   "source": [
    "# <a name=\"c\"></a> c) Timescales (3 marks)\n",
    "([Contents](#contents))\n",
    "\n",
    "Does the time taken to complete a quiz have any bearing on the score for that quiz attempt? In other words, does taking your time over a quiz lead to a higher mark, or vice versa?"
   ]
  },
  {
   "cell_type": "markdown",
   "metadata": {},
   "source": [
    "Add a new column to the `icma_df` DataFrame that holds the number of hours for that quiz attempt. \n",
    "\n",
    "The 'Time taken' data are `timedelta` objects. The `.total_seconds()` method of `timedelta` gives the number of seconds in that time interval. You will need to `.apply()` that function to every row of the `icma_df` DataFrame.\n",
    "\n",
    "`describe` the distribution of times. Plot a histogram of number of quiz attempts against time taken."
   ]
  },
  {
   "cell_type": "code",
   "execution_count": 102,
   "metadata": {
    "activity": "activity",
    "collapsed": false,
    "run_control": {
     "read_only": false
    }
   },
   "outputs": [
    {
     "data": {
      "text/plain": [
       "count     726.000000\n",
       "mean      393.502158\n",
       "std       703.000963\n",
       "min         0.016667\n",
       "25%         0.583333\n",
       "50%         1.766667\n",
       "75%       522.816667\n",
       "max      3696.966667\n",
       "Name: Hours taken, dtype: float64"
      ]
     },
     "execution_count": 102,
     "metadata": {},
     "output_type": "execute_result"
    }
   ],
   "source": [
    "# create a new 'Hours taken' column based on 'Time taken', and apply function to divide \n",
    "# time delta (i.e. a time period) by a 1 hour time delta, to find the number of hours\n",
    "icma_df['Hours taken'] = icma_df['Time taken'].apply(lambda x: x / np.timedelta64(1, 'h'))\n",
    "\n",
    "#now describe the distribution of times\n",
    "icma_df['Hours taken'].describe()"
   ]
  },
  {
   "cell_type": "code",
   "execution_count": 103,
   "metadata": {
    "activity": "activity",
    "collapsed": false,
    "run_control": {
     "read_only": false
    }
   },
   "outputs": [
    {
     "data": {
      "text/plain": [
       "array([[<matplotlib.axes._subplots.AxesSubplot object at 0x122472a58>]], dtype=object)"
      ]
     },
     "execution_count": 103,
     "metadata": {},
     "output_type": "execute_result"
    },
    {
     "data": {
      "image/png": "[encoded data removed]",
      "text/plain": [
       "<matplotlib.figure.Figure at 0x11d3efda0>"
      ]
     },
     "metadata": {},
     "output_type": "display_data"
    }
   ],
   "source": [
    "# now plot a histogram of the hours taken\n",
    "icma_df.hist(column='Hours taken')\n",
    "#NB plt.title, plt.xlabel and plt.ylabel don't work here. Unable to find solution online. \n",
    "#plt.xlabel('Hours taken')\n",
    "#plt.ylabel('Total Students')\n",
    "#plt.title(\"Number of hours taken to complete each test\")"
   ]
  },
  {
   "cell_type": "markdown",
   "metadata": {},
   "source": [
    "Many quizzes are completed quickly. How many are completed in less than two hours? Plot a histogram of number of quizzes completed by time. Include only the quizzes completed in less than two hours, and use 40 bins to show the detail."
   ]
  },
  {
   "cell_type": "code",
   "execution_count": 104,
   "metadata": {
    "activity": "activity",
    "collapsed": false,
    "run_control": {
     "read_only": false
    }
   },
   "outputs": [
    {
     "data": {
      "text/plain": [
       "                              Surname                        First name  \\\n",
       "2    aa8af604652b6b631f11061fe8c69809  ec83707bbca209e51a65e9864ac8baeb   \n",
       "3    615bbea6dd8739d5aea38087d86175ea  19f2b4e849a31f6f0c43781e40fe14a5   \n",
       "7    fe0a1584a31c05fc75c52f7fd539fc0c  ac6e926ec3ef752a634271124d6328e7   \n",
       "9    1209bb7c8834eac267c8c79c7cf0adb0  4360e2dcc2592270feb9da346e64a495   \n",
       "11   c201bd2ac4e934165ef71882b28d4fe3  33957e81e4dc94e74fb958ff1ce34e4e   \n",
       "12   8933e77b83eee991c3d3aae3c88b8176  d3d2792b4f002c766a99bb7152ccf3ee   \n",
       "13   cad2ee9ce762fd64e8235c070706f2d0  b0197af0bb2c037fd5c6bbe840b06c6b   \n",
       "14   fc923dd175c9c06984df402f39ed0ab0  529131b502682340edc778ed6d24c134   \n",
       "16   f2e29b6dc252b243a626b0d8c44e1608  de425c58493063ed07bcc28a0b7d8e40   \n",
       "17   1f0a357744ee3b1a21d568e733edccfe  41a8d5bf5bb0a30b1dca315181dc3eb9   \n",
       "..                                ...                               ...   \n",
       "819  12aa76b64b26333515b84f3995754eb7  f14c6028d0cc32cc3010073b99450f76   \n",
       "820  a559c2a31c758cba17c50f0c68879492  7677fe1da1e9a2bd12e783ac1f20a236   \n",
       "821  a559c2a31c758cba17c50f0c68879492  7677fe1da1e9a2bd12e783ac1f20a236   \n",
       "822  a559c2a31c758cba17c50f0c68879492  7677fe1da1e9a2bd12e783ac1f20a236   \n",
       "823  710d376d2209cbfee34f812f5b34d36e  371a59b25a5fabf4fd493bc6300a49f3   \n",
       "824  964f73c31f31547d0ae3c9effe5cc971  e17b220d8cac5aae18808417eaf21057   \n",
       "825  9c56e20595cf6a86d9a42d604fea3899  9be228d1bd689abe0667787be2c62fc5   \n",
       "826  bb3438dc4a8f3943d45a6a8b5b86f1d1  3cc79a93e56bc2c96e3e03596546e0ba   \n",
       "827  d62b171406df4bfce8fe66f091fc6e6b  4a9f7f2e6c0c90996c883c61796abd87   \n",
       "832  5a247e123a50b1b183c299d24480b802  9c8783e9cee055cb45c847dd4d6df54b   \n",
       "\n",
       "                 OU Computer Username               Personal Identifier  \\\n",
       "2    b8fe6559c9ba7bd27819a5460c9359c8  4e74dca9c74ad198eeb162dac5193d9e   \n",
       "3    18f13b6a9d7fccaf6b4ee35e380f3da2  94a997d5af26916f52f3a8bc4c88cc89   \n",
       "7    564b23a00ad9052da59f54f1c3c56c8e  28ef47c2253e325c478698287ece1029   \n",
       "9    4d59ddec2fe415e72c133d6e4ed8ae74  cd0618a9ae302e56f5e5d151378e6e58   \n",
       "11   fff8aafa0b17b1c0fe1e53c0947d4b81  b8449b69715271304f341ebeb0003fdf   \n",
       "12   5759a8752ba4984049c0be67c7a6270f  7f30f4954957eb71909d7ec30ccb0e0a   \n",
       "13   9a0c46024ca1ab2cc18aec172bbfbc9d  c93061b5be7add3dde1d71cf78664b69   \n",
       "14   ddb8b3f6cd12b8667f619444c4644d90  107d2e3e45ee6f04308b9f0c5a20caf4   \n",
       "16   ebad0a4f525401d570ae6af382244b74  9cbbf8c73e350590adc27b89268eacc6   \n",
       "17   2016486e0f4f0dc6858b01aba16c3510  ee089b4af0720857d9260689648d42bb   \n",
       "..                                ...                               ...   \n",
       "819  4ee56e7d7d7e0cdd5834e72b551ac971  f318d60a7a7fb574a30793abab44ae05   \n",
       "820  3e9743a3da61bd5dd87c07dd262f750b  8db4ad5565daec67476734944a321ee7   \n",
       "821  3e9743a3da61bd5dd87c07dd262f750b  8db4ad5565daec67476734944a321ee7   \n",
       "822  3e9743a3da61bd5dd87c07dd262f750b  8db4ad5565daec67476734944a321ee7   \n",
       "823  caca043bbc38b91aa76fdd8903092373  4d7f9cfcfb2b91a8411b60dc2a2e1dd1   \n",
       "824  41e6fdb5d35e23e9cd5fdc688cc2585c  bc630412db47c0aafc6151e3a5d96243   \n",
       "825  4639f76ce301fa94c4a5d97623db16ec  b706000f1a4449adbe528013b5bd6e9c   \n",
       "826  04dabbd3a25552d8ace082f2f5388cb8  51ddad754eee7bb2afddbe6299d805bc   \n",
       "827  aeb316747bbab0da1f119e65c7a84691  bfade4812577b870c2ab4f338407e7ba   \n",
       "832  2cd271d80bbed5e5dcb906b8616f59cc  916f55643f042f4ff19d8bfaa816da31   \n",
       "\n",
       "     Institution  Department                     Email address     State  \\\n",
       "2            NaN         NaN  ec01fe85557bab32113d8fbb47b0685d  Finished   \n",
       "3            NaN         NaN  860dd783e86cac9751dde00e1319c9b9  Finished   \n",
       "7            NaN         NaN  22704ac9f42eeb956e3b72c8243c255c  Finished   \n",
       "9            NaN         NaN  0dfbd8431e881fef15fd6785ad8c2f4d  Finished   \n",
       "11           NaN         NaN  b236c677b536dd1a592ca1da2e7aedce  Finished   \n",
       "12           NaN         NaN  ff9114a689c8e5141f46cf1386b5ba9d  Finished   \n",
       "13           NaN         NaN  09b9d82717ca0c18f0cf58615c8d3efe  Finished   \n",
       "14           NaN         NaN  7e938138a62102a0db2bec13e8167142  Finished   \n",
       "16           NaN         NaN  8ef21cebedf1f002552adf07f7e32e1f  Finished   \n",
       "17           NaN         NaN  da291a563204563cb0cb8de9f851536f  Finished   \n",
       "..           ...         ...                               ...       ...   \n",
       "819          NaN         NaN  85f96eb2237faa9c6d99c90baf779852  Finished   \n",
       "820          NaN         NaN  7be37101bab55f54af95d74112da556b  Finished   \n",
       "821          NaN         NaN  7be37101bab55f54af95d74112da556b  Finished   \n",
       "822          NaN         NaN  7be37101bab55f54af95d74112da556b  Finished   \n",
       "823          NaN         NaN  4a0ae13c5e08a686b447420e5089aaea  Finished   \n",
       "824          NaN         NaN  27868f59198067ce268774fcca8bd56f  Finished   \n",
       "825          NaN         NaN  8b561b94ec529d1336e3163fbc7d2ce5  Finished   \n",
       "826          NaN         NaN  a46e9940fb7bb98604758b40faef42e9  Finished   \n",
       "827          NaN         NaN  6b20344f15d6d055f1dc939ad01739fe  Finished   \n",
       "832          NaN         NaN  415d967ab9587be2c743bcb3dc1bcedd  Finished   \n",
       "\n",
       "             Started on           Completed     ...       Q. 12 /1.00  \\\n",
       "2   2016-01-29 11:16:00 2016-01-29 11:57:00     ...              1.00   \n",
       "3   2016-01-29 12:08:00 2016-01-29 12:51:00     ...              1.00   \n",
       "7   2016-01-29 22:07:00 2016-01-29 22:51:00     ...              1.00   \n",
       "9   2016-01-30 13:28:00 2016-01-30 13:44:00     ...              1.00   \n",
       "11  2016-01-30 16:12:00 2016-01-30 16:40:00     ...              0.89   \n",
       "12  2016-01-30 22:20:00 2016-01-30 22:36:00     ...              1.00   \n",
       "13  2016-01-31 08:47:00 2016-01-31 09:27:00     ...              1.00   \n",
       "14  2016-01-31 10:53:00 2016-01-31 12:01:00     ...              1.00   \n",
       "16  2016-01-31 21:58:00 2016-01-31 22:25:00     ...              1.00   \n",
       "17  2016-01-31 22:21:00 2016-01-31 22:46:00     ...              1.00   \n",
       "..                  ...                 ...     ...               ...   \n",
       "819 2016-07-15 14:25:00 2016-07-15 14:52:00     ...              1.00   \n",
       "820 2016-07-15 16:02:00 2016-07-15 16:21:00     ...              0.00   \n",
       "821 2016-07-15 16:21:00 2016-07-15 16:41:00     ...              1.00   \n",
       "822 2016-07-15 16:42:00 2016-07-15 17:07:00     ...              1.00   \n",
       "823 2016-07-17 12:50:00 2016-07-17 13:15:00     ...              0.89   \n",
       "824 2016-07-17 18:47:00 2016-07-17 19:21:00     ...              1.00   \n",
       "825 2016-07-17 18:55:00 2016-07-17 20:00:00     ...              0.89   \n",
       "826 2016-07-18 00:22:00 2016-07-18 00:49:00     ...              0.67   \n",
       "827 2016-07-18 15:06:00 2016-07-18 16:01:00     ...              1.00   \n",
       "832 2016-07-22 11:18:00 2016-07-22 13:09:00     ...              1.00   \n",
       "\n",
       "     Q. 13 /1.00  Q. 14 /1.00  Q. 15 /1.00  Q. 16 /1.00  Q. 17 /1.00  \\\n",
       "2            1.0         1.00         1.00          1.0          1.0   \n",
       "3            1.0         1.00         1.00          1.0          1.0   \n",
       "7            1.0         1.00         0.89          1.0          1.0   \n",
       "9            1.0         1.00         1.00          1.0          1.0   \n",
       "11           1.0         1.00         0.89          1.0          1.0   \n",
       "12           1.0         1.00         1.00          1.0          1.0   \n",
       "13           1.0         1.00         1.00          1.0          1.0   \n",
       "14           1.0         0.00         0.89          1.0          1.0   \n",
       "16           1.0         1.00         1.00          1.0          1.0   \n",
       "17           1.0         1.00         0.11          1.0          1.0   \n",
       "..           ...          ...          ...          ...          ...   \n",
       "819          1.0         1.00         1.00          1.0          1.0   \n",
       "820          0.0         0.00         0.00          0.0          0.0   \n",
       "821          1.0         1.00         1.00          1.0          1.0   \n",
       "822          1.0         1.00         1.00          1.0          1.0   \n",
       "823          1.0         1.00         0.56          1.0          1.0   \n",
       "824          1.0         1.00         1.00          1.0          1.0   \n",
       "825          1.0         1.00         1.00          1.0          1.0   \n",
       "826          1.0         0.67         0.33          1.0          1.0   \n",
       "827          1.0         0.33         0.89          1.0          1.0   \n",
       "832          1.0         1.00         1.00          1.0          1.0   \n",
       "\n",
       "     Q. 18 /1.00  Q. 19 /1.00  Q. 20 /1.00  Hours taken  \n",
       "2           1.00         1.00         1.00     0.683333  \n",
       "3           1.00         1.00         1.00     0.716667  \n",
       "7           1.00         1.00         0.50     0.733333  \n",
       "9           1.00         1.00         1.00     0.266667  \n",
       "11          0.00         0.44         0.92     0.466667  \n",
       "12          1.00         1.00         1.00     0.266667  \n",
       "13          1.00         1.00         0.83     0.666667  \n",
       "14          0.67         0.89         0.00     1.133333  \n",
       "16          0.33         1.00         1.00     0.450000  \n",
       "17          1.00         1.00         0.33     0.416667  \n",
       "..           ...          ...          ...          ...  \n",
       "819         1.00         0.44         1.00     0.450000  \n",
       "820         0.00         0.00         0.00     0.316667  \n",
       "821         0.00         1.00         1.00     0.333333  \n",
       "822         1.00         1.00         1.00     0.416667  \n",
       "823         0.33         1.00         0.17     0.416667  \n",
       "824         1.00         1.00         0.17     0.566667  \n",
       "825         0.67         0.67         0.83     1.083333  \n",
       "826         0.00         0.22         0.00     0.450000  \n",
       "827         0.00         1.00         0.50     0.916667  \n",
       "832         1.00         1.00         0.17     1.850000  \n",
       "\n",
       "[370 rows x 33 columns]"
      ]
     },
     "execution_count": 104,
     "metadata": {},
     "output_type": "execute_result"
    }
   ],
   "source": [
    "#select all rows where hours taken < 2\n",
    "quizzes_under_2_hours = icma_df[icma_df['Hours taken']<2]\n",
    "quizzes_under_2_hours"
   ]
  },
  {
   "cell_type": "code",
   "execution_count": 105,
   "metadata": {
    "activity": "activity",
    "collapsed": false,
    "run_control": {
     "read_only": false
    }
   },
   "outputs": [
    {
     "data": {
      "text/plain": [
       "array([[<matplotlib.axes._subplots.AxesSubplot object at 0x1224a3e80>]], dtype=object)"
      ]
     },
     "execution_count": 105,
     "metadata": {},
     "output_type": "execute_result"
    },
    {
     "data": {
      "image/png": "[encoded data removed]",
      "text/plain": [
       "<matplotlib.figure.Figure at 0x1225bfdd8>"
      ]
     },
     "metadata": {},
     "output_type": "display_data"
    }
   ],
   "source": [
    "#plot histogram of hours taken with bin size of 40\n",
    "quizzes_under_2_hours.hist(column='Hours taken', bins=40)\n",
    "#NB plt.title, plt.xlabel and plt.ylabel don't work here. Unable to find solution online. \n",
    "#plt.xlabel('Hours taken')\n",
    "#plt.ylabel('Total Students')\n",
    "#plt.title(\"Number of hours taken to complete each test (for attempts less than 2 hours long)\")"
   ]
  },
  {
   "cell_type": "markdown",
   "metadata": {},
   "source": [
    "Plot scatter plots of time taken against grade, for all attempts and for attempts completed within two hours."
   ]
  },
  {
   "cell_type": "code",
   "execution_count": 106,
   "metadata": {
    "activity": "activity",
    "collapsed": false,
    "run_control": {
     "read_only": false
    }
   },
   "outputs": [
    {
     "data": {
      "text/plain": [
       "<matplotlib.axes._subplots.AxesSubplot at 0x1229754e0>"
      ]
     },
     "execution_count": 106,
     "metadata": {},
     "output_type": "execute_result"
    },
    {
     "data": {
      "image/png": "[encoded data removed]",
      "text/plain": [
       "<matplotlib.figure.Figure at 0x12296eb38>"
      ]
     },
     "metadata": {},
     "output_type": "display_data"
    }
   ],
   "source": [
    "# scatter plot of time taken against grade for all attempts\n",
    "icma_df.plot.scatter(x='Hours taken', y='Grade/20.00', \n",
    "                     color='red', \n",
    "                     title=\"Time taken (hours) against grade/20 (all attempts)\",\n",
    "                     figsize=(12,5))"
   ]
  },
  {
   "cell_type": "code",
   "execution_count": 107,
   "metadata": {
    "activity": "activity",
    "collapsed": false,
    "run_control": {
     "read_only": false
    }
   },
   "outputs": [
    {
     "data": {
      "text/plain": [
       "<matplotlib.axes._subplots.AxesSubplot at 0x1229a5f60>"
      ]
     },
     "execution_count": 107,
     "metadata": {},
     "output_type": "execute_result"
    },
    {
     "data": {
      "image/png": "[encoded data removed]",
      "text/plain": [
       "<matplotlib.figure.Figure at 0x122baf860>"
      ]
     },
     "metadata": {},
     "output_type": "display_data"
    }
   ],
   "source": [
    "# scatter plot of time taken against grade for attempts less than 2 hours\n",
    "quizzes_under_2_hours.plot.scatter(x='Hours taken', y='Grade/20.00', \n",
    "                     color='blue', \n",
    "                     title=\"Time taken (hours) against grade/20 (attempts under 2 hours)\",\n",
    "                     figsize=(12,5))"
   ]
  },
  {
   "cell_type": "markdown",
   "metadata": {},
   "source": [
    "## Analysis\n",
    "What does these plots and summaries of the data tell you about how the time to complete a quiz affects the score of that quiz?"
   ]
  },
  {
   "cell_type": "markdown",
   "metadata": {
    "activity": "activity"
   },
   "source": [
    "**Write your answer here** _(100 words)_\n",
    "From looking at scatter graphs we can clearly see that the majority of students complete their tests quickly (50% of students within 1.76 hours, 75% of students within 523 hours), and score highly (between 15 and 20). In the 2 hour scatter graph we can also see a clustering of high results around the half hour mark, with the grade falling slightly between half hour and 2 hours. In the other scatter graph we see this pattern more clearly, with the grade visibly dropping as the number of hours increases. Its also interesting to note that the grade also drops for students that completed within 15m. The later results could be explained by students leaving it too long to take the quiz, by which point they have forgotten the material. The former could conversely be explained by students rushing to complete the test and not taking the required to read and think about the questions."
   ]
  },
  {
   "cell_type": "markdown",
   "metadata": {},
   "source": [
    "### added\n",
    "*Again a very good analysis from the plots. You get slightly different answers from the model-solutions given by the OU which I am sure is due to your counting non-answeres as 0, which affects mean values etc.*"
   ]
  },
  {
   "cell_type": "markdown",
   "metadata": {},
   "source": [
    "# <a name=\"d\"></a> d) Time and day of quiz (8 marks)\n",
    "([Contents](#contents))\n",
    "\n",
    "Does when a quiz is started or finished have any effect on its grade?"
   ]
  },
  {
   "cell_type": "markdown",
   "metadata": {},
   "source": [
    "_Pandas_ doesn't like making scatter plots with time as one axis. This code will convert the start time of a quiz into an integer (number of seconds), add it to the `icma_df` DataFrame, then draw a scatter plot."
   ]
  },
  {
   "cell_type": "code",
   "execution_count": 108,
   "metadata": {
    "collapsed": false,
    "run_control": {
     "read_only": false
    }
   },
   "outputs": [
    {
     "data": {
      "text/plain": [
       "<matplotlib.axes._subplots.AxesSubplot at 0x1229b3748>"
      ]
     },
     "execution_count": 108,
     "metadata": {},
     "output_type": "execute_result"
    },
    {
     "data": {
      "image/png": "[encoded data removed]",
      "text/plain": [
       "<matplotlib.figure.Figure at 0x122da8278>"
      ]
     },
     "metadata": {},
     "output_type": "display_data"
    }
   ],
   "source": [
    "icma_df['Start'] = icma_df['Started on'].astype(np.int64)\n",
    "icma_df.plot.scatter(x='Start', y='Grade/20.00')"
   ]
  },
  {
   "cell_type": "markdown",
   "metadata": {},
   "source": [
    "Make a scatter plot of completion time against score."
   ]
  },
  {
   "cell_type": "code",
   "execution_count": 109,
   "metadata": {
    "activity": "activity",
    "collapsed": false,
    "run_control": {
     "read_only": false
    }
   },
   "outputs": [
    {
     "data": {
      "text/plain": [
       "<matplotlib.axes._subplots.AxesSubplot at 0x12306fa90>"
      ]
     },
     "execution_count": 109,
     "metadata": {},
     "output_type": "execute_result"
    },
    {
     "data": {
      "image/png": "[encoded data removed]",
      "text/plain": [
       "<matplotlib.figure.Figure at 0x1230790b8>"
      ]
     },
     "metadata": {},
     "output_type": "display_data"
    }
   ],
   "source": [
    "icma_df['End'] = icma_df['Completed'].astype(np.int64)\n",
    "icma_df.plot.scatter(x='Start', y='Grade/20.00')"
   ]
  },
  {
   "cell_type": "markdown",
   "metadata": {},
   "source": [
    "### added\n",
    "*You forgot to chnage the x-axis label to 'End' on the plot above. Beware the dangers of cut and paste, and check all elements of the plot.*"
   ]
  },
  {
   "cell_type": "code",
   "execution_count": 110,
   "metadata": {
    "collapsed": false,
    "run_control": {
     "read_only": false
    },
    "scrolled": false
   },
   "outputs": [
    {
     "data": {
      "text/plain": [
       "                                                     0  \\\n",
       "Surname               b7a1c60935d72dd330a48021b25ec0c4   \n",
       "First name            34f9e4c9be637c99f9b2cfb3f5d1994c   \n",
       "OU Computer Username  b675bd4a9a46ec179a894866ad80b71d   \n",
       "Personal Identifier   ec0b15df629ce1fc564462e81ba6b267   \n",
       "Institution                                        NaN   \n",
       "Department                                         NaN   \n",
       "Email address         b3d15cf86ba4dbbafa458124c09ca816   \n",
       "State                                         Finished   \n",
       "Started on                         2016-01-29 06:56:00   \n",
       "Completed                          2016-02-08 10:31:00   \n",
       "...                                                ...   \n",
       "Q. 15 /1.00                                       0.89   \n",
       "Q. 16 /1.00                                          1   \n",
       "Q. 17 /1.00                                          1   \n",
       "Q. 18 /1.00                                          1   \n",
       "Q. 19 /1.00                                       0.89   \n",
       "Q. 20 /1.00                                          0   \n",
       "Hours taken                                    243.583   \n",
       "Start                              1454050560000000000   \n",
       "End                                1454927460000000000   \n",
       "DoW                                                  4   \n",
       "\n",
       "                                                     1  \\\n",
       "Surname               8933e77b83eee991c3d3aae3c88b8176   \n",
       "First name            d3d2792b4f002c766a99bb7152ccf3ee   \n",
       "OU Computer Username  5759a8752ba4984049c0be67c7a6270f   \n",
       "Personal Identifier   7f30f4954957eb71909d7ec30ccb0e0a   \n",
       "Institution                                        NaN   \n",
       "Department                                         NaN   \n",
       "Email address         ff9114a689c8e5141f46cf1386b5ba9d   \n",
       "State                                         Finished   \n",
       "Started on                         2016-01-29 09:14:00   \n",
       "Completed                          2016-01-30 22:10:00   \n",
       "...                                                ...   \n",
       "Q. 15 /1.00                                       0.89   \n",
       "Q. 16 /1.00                                          1   \n",
       "Q. 17 /1.00                                          1   \n",
       "Q. 18 /1.00                                          1   \n",
       "Q. 19 /1.00                                          1   \n",
       "Q. 20 /1.00                                          1   \n",
       "Hours taken                                    36.9333   \n",
       "Start                              1454058840000000000   \n",
       "End                                1454191800000000000   \n",
       "DoW                                                  4   \n",
       "\n",
       "                                                     2  \n",
       "Surname               aa8af604652b6b631f11061fe8c69809  \n",
       "First name            ec83707bbca209e51a65e9864ac8baeb  \n",
       "OU Computer Username  b8fe6559c9ba7bd27819a5460c9359c8  \n",
       "Personal Identifier   4e74dca9c74ad198eeb162dac5193d9e  \n",
       "Institution                                        NaN  \n",
       "Department                                         NaN  \n",
       "Email address         ec01fe85557bab32113d8fbb47b0685d  \n",
       "State                                         Finished  \n",
       "Started on                         2016-01-29 11:16:00  \n",
       "Completed                          2016-01-29 11:57:00  \n",
       "...                                                ...  \n",
       "Q. 15 /1.00                                          1  \n",
       "Q. 16 /1.00                                          1  \n",
       "Q. 17 /1.00                                          1  \n",
       "Q. 18 /1.00                                          1  \n",
       "Q. 19 /1.00                                          1  \n",
       "Q. 20 /1.00                                          1  \n",
       "Hours taken                                   0.683333  \n",
       "Start                              1454066160000000000  \n",
       "End                                1454068620000000000  \n",
       "DoW                                                  4  \n",
       "\n",
       "[36 rows x 3 columns]"
      ]
     },
     "execution_count": 110,
     "metadata": {},
     "output_type": "execute_result"
    }
   ],
   "source": [
    "# The following line of code maps dates to day of the week with Monday=0, Sunday=6\n",
    "icma_df['DoW'] = icma_df['Started on'].dt.weekday\n",
    "icma_df[:3].T"
   ]
  },
  {
   "cell_type": "markdown",
   "metadata": {},
   "source": [
    "How many quiz attempts were started on each day of the week? What were the average scores of those completed quiz attempts?\n",
    "\n",
    "Show the numeric results of each of these questions, and produce a bar chart of the results.\n",
    "\n",
    "Make a scatter plot of day of week against score."
   ]
  },
  {
   "cell_type": "code",
   "execution_count": 111,
   "metadata": {
    "activity": "activity",
    "collapsed": false,
    "run_control": {
     "read_only": false
    }
   },
   "outputs": [
    {
     "data": {
      "text/plain": [
       "     Started on\n",
       "DoW            \n",
       "0           135\n",
       "1           123\n",
       "2           132\n",
       "3           133\n",
       "4           104\n",
       "5            89\n",
       "6           118"
      ]
     },
     "execution_count": 111,
     "metadata": {},
     "output_type": "execute_result"
    }
   ],
   "source": [
    "# Show the number of quizzes started on each day of the week.\n",
    "quizzes_by_dow = pd.pivot_table(icma_df, index=['DoW'], values=['Started on'], aggfunc='count')\n",
    "quizzes_by_dow"
   ]
  },
  {
   "cell_type": "code",
   "execution_count": 112,
   "metadata": {
    "activity": "activity",
    "collapsed": false,
    "run_control": {
     "read_only": false
    }
   },
   "outputs": [
    {
     "data": {
      "text/plain": [
       "<matplotlib.text.Text at 0x123181208>"
      ]
     },
     "execution_count": 112,
     "metadata": {},
     "output_type": "execute_result"
    },
    {
     "data": {
      "image/png": "[encoded data removed]",
      "text/plain": [
       "<matplotlib.figure.Figure at 0x123170160>"
      ]
     },
     "metadata": {},
     "output_type": "display_data"
    }
   ],
   "source": [
    "# Plot the results above as a bar chart.\n",
    "quizzes_by_dow.plot.bar(title=\"Total quizzes started each week day\",\n",
    "                        figsize=(10,5),\n",
    "                        color='blue')\n",
    "plt.xlabel('Weekday Started on (0 = Monday)')\n",
    "plt.ylabel('Total Quizzes Started')\n"
   ]
  },
  {
   "cell_type": "code",
   "execution_count": 113,
   "metadata": {
    "activity": "activity",
    "collapsed": false,
    "run_control": {
     "read_only": false
    }
   },
   "outputs": [
    {
     "data": {
      "text/plain": [
       "     Grade/20.00\n",
       "DoW             \n",
       "0      16.388593\n",
       "1      16.093984\n",
       "2      15.744621\n",
       "3      15.585714\n",
       "4      15.791635\n",
       "5      15.662135\n",
       "6      16.618051"
      ]
     },
     "execution_count": 113,
     "metadata": {},
     "output_type": "execute_result"
    }
   ],
   "source": [
    "# Show the mean score of quizzes started on each day of the week.\n",
    "mean_quiz_score_by_dow = pd.pivot_table(icma_df, index=['DoW'], \n",
    "                                        values=['Grade/20.00'], \n",
    "                                        aggfunc='mean')\n",
    "mean_quiz_score_by_dow"
   ]
  },
  {
   "cell_type": "code",
   "execution_count": 114,
   "metadata": {
    "activity": "activity",
    "collapsed": false,
    "run_control": {
     "read_only": false
    }
   },
   "outputs": [
    {
     "data": {
      "text/plain": [
       "<matplotlib.text.Text at 0x123158828>"
      ]
     },
     "execution_count": 114,
     "metadata": {},
     "output_type": "execute_result"
    },
    {
     "data": {
      "image/png": "[encoded data removed]",
      "text/plain": [
       "<matplotlib.figure.Figure at 0x123274908>"
      ]
     },
     "metadata": {},
     "output_type": "display_data"
    }
   ],
   "source": [
    "# Plot the results above as a bar chart.\n",
    "mean_quiz_score_by_dow.plot.bar(title=\"Average grade each weekday\", \n",
    "                               figsize=(10,5),\n",
    "                               color='purple')\n",
    "plt.xlabel('Weekday Started on (0 = Monday)')\n",
    "plt.ylabel('Average grade')\n"
   ]
  },
  {
   "cell_type": "code",
   "execution_count": 115,
   "metadata": {
    "activity": "activity",
    "collapsed": false,
    "run_control": {
     "read_only": false
    },
    "scrolled": true
   },
   "outputs": [
    {
     "data": {
      "text/plain": [
       "<matplotlib.axes._subplots.AxesSubplot at 0x1235840f0>"
      ]
     },
     "execution_count": 115,
     "metadata": {},
     "output_type": "execute_result"
    },
    {
     "data": {
      "image/png": "[encoded data removed]",
      "text/plain": [
       "<matplotlib.figure.Figure at 0x123590198>"
      ]
     },
     "metadata": {},
     "output_type": "display_data"
    }
   ],
   "source": [
    "# Plot the results above as a scatter chart, of grade against day of week.\n",
    "icma_df.plot.scatter(x='DoW', y='Grade/20.00', \n",
    "                     color='green', \n",
    "                     title=\"Grade/20 against day of week started\",\n",
    "                     figsize=(12,5))"
   ]
  },
  {
   "cell_type": "markdown",
   "metadata": {},
   "source": [
    "Perform the same analysis for time of day. Find the hour that each quiz was started, and give numerical and graphical representations of the number of quizzes completed each hour and their average score. Use intermediate steps as needed."
   ]
  },
  {
   "cell_type": "code",
   "execution_count": 116,
   "metadata": {
    "activity": "activity",
    "collapsed": false,
    "run_control": {
     "read_only": false
    }
   },
   "outputs": [],
   "source": [
    "#add new column, 'Hour started', calculated in the same way as day of week started\n",
    "icma_df['Hour started'] = icma_df['Started on'].dt.hour\n"
   ]
  },
  {
   "cell_type": "code",
   "execution_count": 117,
   "metadata": {
    "collapsed": false,
    "run_control": {
     "read_only": false
    }
   },
   "outputs": [
    {
     "data": {
      "text/plain": [
       "           Started on  Hour started  DoW\n",
       "0 2016-01-29 06:56:00             6    4\n",
       "1 2016-01-29 09:14:00             9    4\n",
       "2 2016-01-29 11:16:00            11    4\n",
       "3 2016-01-29 12:08:00            12    4\n",
       "4 2016-01-29 12:51:00            12    4"
      ]
     },
     "execution_count": 117,
     "metadata": {},
     "output_type": "execute_result"
    }
   ],
   "source": [
    "#check new column to make sure it looks sensible\n",
    "icma_df[['Started on', 'Hour started', 'DoW']].head(5)"
   ]
  },
  {
   "cell_type": "code",
   "execution_count": 118,
   "metadata": {
    "collapsed": false,
    "run_control": {
     "read_only": false
    }
   },
   "outputs": [
    {
     "data": {
      "text/plain": [
       "              Started on\n",
       "Hour started            \n",
       "0                     14\n",
       "1                     13\n",
       "2                      1\n",
       "3                      5\n",
       "4                      4\n",
       "5                      7\n",
       "6                      8\n",
       "7                     15\n",
       "8                     17\n",
       "9                     20\n",
       "...                  ...\n",
       "14                    70\n",
       "15                    68\n",
       "16                    57\n",
       "17                    50\n",
       "18                    47\n",
       "19                    60\n",
       "20                    68\n",
       "21                    44\n",
       "22                    46\n",
       "23                    19\n",
       "\n",
       "[24 rows x 1 columns]"
      ]
     },
     "execution_count": 118,
     "metadata": {},
     "output_type": "execute_result"
    }
   ],
   "source": [
    "#now lets get the number of quizzes started each hour:\n",
    "quizzes_by_hour = pd.pivot_table(icma_df, index=['Hour started'], values=['Started on'], aggfunc='count')\n",
    "quizzes_by_hour"
   ]
  },
  {
   "cell_type": "code",
   "execution_count": 119,
   "metadata": {
    "collapsed": false,
    "run_control": {
     "read_only": false
    }
   },
   "outputs": [
    {
     "data": {
      "text/plain": [
       "<matplotlib.text.Text at 0x1237a32e8>"
      ]
     },
     "execution_count": 119,
     "metadata": {},
     "output_type": "execute_result"
    },
    {
     "data": {
      "image/png": "[encoded data removed]",
      "text/plain": [
       "<matplotlib.figure.Figure at 0x12374c4e0>"
      ]
     },
     "metadata": {},
     "output_type": "display_data"
    }
   ],
   "source": [
    "# Plot the results above as a bar chart.\n",
    "quizzes_by_hour.plot.bar(title=\"Total quizzes started each hour\",\n",
    "                        figsize=(10,5),\n",
    "                        color='black')\n",
    "plt.xlabel('Hour Quiz Started')\n",
    "plt.ylabel('Total Quizzes Started')"
   ]
  },
  {
   "cell_type": "code",
   "execution_count": 120,
   "metadata": {
    "collapsed": false,
    "run_control": {
     "read_only": false
    }
   },
   "outputs": [
    {
     "data": {
      "text/plain": [
       "              Grade/20.00\n",
       "Hour started             \n",
       "0               16.025714\n",
       "1               16.346154\n",
       "2               17.430000\n",
       "3               18.872000\n",
       "4               17.310000\n",
       "5               14.474286\n",
       "6               16.341250\n",
       "7               13.199333\n",
       "8               16.137059\n",
       "9               17.723000\n",
       "...                   ...\n",
       "14              15.919714\n",
       "15              15.693971\n",
       "16              16.463509\n",
       "17              15.677600\n",
       "18              16.554681\n",
       "19              15.874000\n",
       "20              16.275441\n",
       "21              16.864091\n",
       "22              15.306522\n",
       "23              14.786316\n",
       "\n",
       "[24 rows x 1 columns]"
      ]
     },
     "execution_count": 120,
     "metadata": {},
     "output_type": "execute_result"
    }
   ],
   "source": [
    "#now lets calculate the mean score for every hour the quiz was started\n",
    "mean_quiz_score_by_hour = pd.pivot_table(icma_df, index=['Hour started'], values=['Grade/20.00'], aggfunc='mean')\n",
    "mean_quiz_score_by_hour"
   ]
  },
  {
   "cell_type": "code",
   "execution_count": 121,
   "metadata": {
    "collapsed": false,
    "run_control": {
     "read_only": false
    }
   },
   "outputs": [
    {
     "data": {
      "text/plain": [
       "<matplotlib.text.Text at 0x123c38b38>"
      ]
     },
     "execution_count": 121,
     "metadata": {},
     "output_type": "execute_result"
    },
    {
     "data": {
      "image/png": "[encoded data removed]",
      "text/plain": [
       "<matplotlib.figure.Figure at 0x1237a6ef0>"
      ]
     },
     "metadata": {},
     "output_type": "display_data"
    }
   ],
   "source": [
    "#and finally, lets plot the above table in a bar chart\n",
    "mean_quiz_score_by_hour.plot.bar(title=\"Average grade each hour\", \n",
    "                               figsize=(10,5),\n",
    "                               color='orange')\n",
    "plt.xlabel('Hour Started')\n",
    "plt.ylabel('Average grade')"
   ]
  },
  {
   "cell_type": "markdown",
   "metadata": {},
   "source": [
    "Do the complete and incomplete quiz attempts have a different distribution of starting times?\n",
    "\n",
    "Generate two plots in one figure, with the finished quiz times above the in-progress quiz times. Give each plot a title and perhaps a different colour. (Keeping calls of \n",
    "```\n",
    "plt.tight_layout()\n",
    "fig.subplots_adjust(top=0.90)\n",
    "```\n",
    "to the very end of your code cell can improve the layout.)\n",
    "\n",
    "Use `reindex()` and `fillna()` to fill in any missing groups so that both graphs have the same number of data points."
   ]
  },
  {
   "cell_type": "code",
   "execution_count": 122,
   "metadata": {
    "activity": "activity",
    "collapsed": false,
    "run_control": {
     "read_only": false
    }
   },
   "outputs": [
    {
     "data": {
      "text/plain": [
       "<matplotlib.figure.Figure at 0x123c92ac8>"
      ]
     },
     "metadata": {},
     "output_type": "display_data"
    },
    {
     "data": {
      "image/png": "[encoded data removed]",
      "text/plain": [
       "<matplotlib.figure.Figure at 0x123ceb208>"
      ]
     },
     "metadata": {},
     "output_type": "display_data"
    }
   ],
   "source": [
    "fig = plt.figure(figsize=(8, 8))\n",
    "fig.suptitle(\"Attempts by hour\", fontsize='x-large')\n",
    "\n",
    "#lets pivot icma_df again, this time on Hour started and State\n",
    "#NB unstack turns the 2 state rows / hour into 2 columns\n",
    "quizzes_by_hour_and_state = pd.pivot_table(icma_df, index=['Hour started', 'State'], \n",
    "                                           values=['Grade/20.00'], \n",
    "                                           aggfunc='count').unstack() \n",
    "\n",
    "#now we reset the index (so we can plot Hour Started), and fill NaNs with 0s\n",
    "quizzes_by_hour_and_state.reset_index(inplace=True)\n",
    "quizzes_by_hour_and_state.fillna(0, inplace=True)\n",
    "quizzes_by_hour_and_state.columns = ['Hour started', 'Finished', 'In progress']\n",
    "\n",
    "#now lets plot the number of quizzes attempted by hour, for finished and in progress students\n",
    "quizzes_by_hour_and_state.plot.bar(\n",
    "                               x=['Hour started'],\n",
    "                               y=['In progress', 'Finished'],\n",
    "                               figsize=(10,10),\n",
    "                               subplots=True,\n",
    "                               colormap='Dark2_r')\n",
    "plt.xlabel('Hour Started')\n",
    "plt.ylabel('Number of quizzes started')\n",
    "\n",
    "# Keep these lines at the end\n",
    "plt.tight_layout()\n",
    "fig.subplots_adjust(top=0.90)\n",
    "\n",
    "# NB would have been much quicker to do a histogram here: E.g.\n",
    "#icma_df.hist(column='Hour started',\n",
    "#                bins=range(25),\n",
    "#                by=['State'],\n",
    "#                figsize=(15,5))\n",
    "#which I think gives the same result!\n"
   ]
  },
  {
   "cell_type": "markdown",
   "metadata": {},
   "source": [
    "## Analysis\n",
    "What does these plots and summaries of the data tell you about how the time of day quiz affects the score of that quiz?"
   ]
  },
  {
   "cell_type": "markdown",
   "metadata": {
    "activity": "activityAns"
   },
   "source": [
    "**Write your answer here** _(150 words)_\n",
    "The time of day doesn't seem to be a significant factor in the grade obtained. The (orange) chart which shows the average grade / hour does seem to peak at 3am, and 9am, and dip at around 7am. However, when we look at the distribution of start times we can clearly see the peak time which students choose to take their tests are between 12 and 3pm, and again between 7 and 8pm. This seems to be true for both complete and incomplete quizzes (see above bar chart). The 3am peak in average grade obtained is therefore based on a small number of students (5 or so), and so can be ignored as the only thing it tells us is that a small number of students work best in the middle of the night! \n",
    "\n",
    "There seems to be another peak of average score at around 9am. This could indicate that students perform better when tested in the morning, but again this is only based on around 20 or so students which is too small a sample (compared to the other students tested) to draw any conclusions. In the end it may only tell us that some students are 'morning people'.\n",
    "\n",
    "Ultimately, I think this data reflects that there are a mixture of study patterns which suit different students - some work best in the morning, others in the middle of the night. Most students however, will take their tests between 12 and 3pm, or 7 and 8pm, and performance seems reasonably similar regardless. \n",
    "\n",
    "Interestingly, the day of week charts show that a) less students take quizzes on Fridays and Saturdays, and b) students tend to do better if they take quizzes on Sundays and Mondays."
   ]
  },
  {
   "cell_type": "markdown",
   "metadata": {},
   "source": [
    "### added\n",
    "*You should really have made a few comments about the overall structure of the times of day (independent of the impact on grades), to put the latter paragraphs into context*"
   ]
  },
  {
   "cell_type": "markdown",
   "metadata": {},
   "source": [
    "# <a name=\"e\"></a> e) Difficulty of questions (7 marks)\n",
    "([Contents](#contents))\n",
    "\n",
    "Which questions are harder? \n",
    "\n",
    "Note that we can judge difficulty in two ways: lower grades for particular questions, or fewer questions answered (students tend to avoid questions they perceive as difficult)."
   ]
  },
  {
   "cell_type": "markdown",
   "metadata": {},
   "source": [
    "Generate graphs to show the number of scores for each question. Generate three graphs, for all attempts, completed quizzes, and in-progress quizzes. \n",
    "\n",
    "Plot the three graphs, one above the other, in one figure. Give each subplot a title and use different colours for each plot. Again, `plt.tight_layout()` and `fig.subplots_adjust()` may improve the appearance."
   ]
  },
  {
   "cell_type": "code",
   "execution_count": 144,
   "metadata": {
    "activity": "activity",
    "collapsed": false,
    "run_control": {
     "read_only": false
    }
   },
   "outputs": [
    {
     "data": {
      "text/plain": [
       "<matplotlib.text.Text at 0x12407ae10>"
      ]
     },
     "execution_count": 144,
     "metadata": {},
     "output_type": "execute_result"
    },
    {
     "data": {
      "image/png": "[encoded data removed]",
      "text/plain": [
       "<matplotlib.figure.Figure at 0x123cc7a20>"
      ]
     },
     "metadata": {},
     "output_type": "display_data"
    }
   ],
   "source": [
    "#firstly, we need to read in the csv file again, as we've already filled NA values with 0\n",
    "#we need to go back to the raw data, so we can count the number of non-null (i.e. answered)\n",
    "#values for each question\n",
    "\n",
    "icma_raw_df = pd.read_csv('data/icma.csv', parse_dates=['Started on','Completed'], na_values=['-'])\n",
    "\n",
    "#now we can pivot on state, sum all non-NA values, and just report on the question colums\n",
    "#margins=true gives us a total column\n",
    "questions_answered = pd.pivot_table(icma_raw_df, index=['State'], values=question_columns, aggfunc='count', margins=True)\n",
    "\n",
    "#we need to transpose the table, to get the questions on the bottom.\n",
    "questions_answered = questions_answered.T\n",
    "#we need to reset the index to be able to use the question column\n",
    "questions_answered.reset_index(inplace=True)\n",
    "questions_answered.rename(columns={'index':'Question'}, inplace = True)\n",
    "#lets sort the results by average score to make it easier to interpret the graph\n",
    "questions_answered.sort_values(by='All', inplace=True)\n",
    "#now we can plot the number of scores for each question\n",
    "questions_answered.plot.bar(title=\"Number of attempts\", \n",
    "                               x=['Question'],\n",
    "                               y=['In progress', 'Finished', 'All'],\n",
    "                               figsize=(15,15),\n",
    "                               subplots=True,\n",
    "                               colormap='Dark2_r')\n",
    "plt.xlabel('Question')\n",
    "plt.ylabel('Number of times answered')"
   ]
  },
  {
   "cell_type": "markdown",
   "metadata": {},
   "source": [
    "### added\n",
    "*I can see why you ordered the questions by result, but a more natural axis label would be the natural ordering of the questions (Q1 to Q20). Both types of plot togetehr would be even more useful*"
   ]
  },
  {
   "cell_type": "markdown",
   "metadata": {},
   "source": [
    "Create a scatter plot that shows the number of questions answered (_x_ axis) against the grade for that quiz attempt (_y_ axis). You may find it easier to add a column to the `icma_df` DataFrame to store the number of attempted questions."
   ]
  },
  {
   "cell_type": "code",
   "execution_count": 124,
   "metadata": {
    "activity": "activity",
    "collapsed": false,
    "run_control": {
     "read_only": false
    },
    "scrolled": false
   },
   "outputs": [
    {
     "data": {
      "text/plain": [
       "<matplotlib.axes._subplots.AxesSubplot at 0x1235dc198>"
      ]
     },
     "execution_count": 124,
     "metadata": {},
     "output_type": "execute_result"
    },
    {
     "data": {
      "image/png": "[encoded data removed]",
      "text/plain": [
       "<matplotlib.figure.Figure at 0x123738e48>"
      ]
     },
     "metadata": {},
     "output_type": "display_data"
    }
   ],
   "source": [
    "# first, lets create a new column 'Total attempted questions' \n",
    "icma_raw_df['Total attempted questions'] = icma_raw_df[question_columns].count(axis=1)\n",
    "\n",
    "# Plot the results above as a scatter chart, with no of questions answered on the x-axis, \n",
    "#and grade on the y-axis\n",
    "icma_raw_df.plot.scatter(x='Total attempted questions', y='Grade/20.00', \n",
    "                     color='red', \n",
    "                     title=\"Total Attempted questions vs Grade/20\",\n",
    "                     figsize=(15,8))"
   ]
  },
  {
   "cell_type": "markdown",
   "metadata": {},
   "source": [
    "Similar to the counts above, produce three charts that show the mean scores for each question. You should have one graph for all attempts, one for completed attemtps, and one for in-progress attempts. Ensure you are taking the average per question, not the score per attempt."
   ]
  },
  {
   "cell_type": "code",
   "execution_count": 125,
   "metadata": {
    "activity": "activity",
    "collapsed": false,
    "run_control": {
     "read_only": false
    }
   },
   "outputs": [
    {
     "data": {
      "text/plain": [
       "<matplotlib.text.Text at 0x125653080>"
      ]
     },
     "execution_count": 125,
     "metadata": {},
     "output_type": "execute_result"
    },
    {
     "data": {
      "image/png": "[encoded data removed]",
      "text/plain": [
       "<matplotlib.figure.Figure at 0x1255fc7b8>"
      ]
     },
     "metadata": {},
     "output_type": "display_data"
    }
   ],
   "source": [
    "#fig = plt.figure(figsize=(8, 10)) # Make the whole figure big enough to see the individual graphs.\n",
    "\n",
    "#fig.suptitle(\"Mean scores\", fontsize='x-large')\n",
    "\n",
    "#now we can pivot on state, calculate the mean for all non-NA values, and just report on the question colums\n",
    "#margins=true gives us a total column\n",
    "avg_question_score = pd.pivot_table(icma_raw_df, index=['State'], values=question_columns, aggfunc='mean', margins=True)\n",
    "\n",
    "#we need to transpose the table, to get the questions on the bottom.\n",
    "avg_question_score = avg_question_score.T\n",
    "#we need to reset the index to be able to use the question column\n",
    "avg_question_score.reset_index(inplace=True)\n",
    "avg_question_score.rename(columns={'index':'Question'}, inplace = True)\n",
    "#lets sort the results by average score to make it easier to interpret the graph\n",
    "avg_question_score.sort_values(by='All', inplace=True)\n",
    "\n",
    "#now we can plot the average score for each question\n",
    "avg_question_score.plot.bar(title=\"Average score per question\", \n",
    "                              x=['Question'],\n",
    "                              y=['In progress', 'Finished', 'All'],\n",
    "                              figsize=(15,15),\n",
    "                              subplots=True,\n",
    "                              colormap='Purples')\n",
    "plt.xlabel('Question')\n",
    "plt.ylabel('Average score')"
   ]
  },
  {
   "cell_type": "markdown",
   "metadata": {},
   "source": [
    "Generate a bar chart that shows two columns for each question. One column should show the number of attempts at that question, the other column should show the mean score. You should rescale the number of question attempts to fit the range 0–1 so that the two types of data a visible on the same graph. \n",
    "\n",
    "Use only data from completed quiz attempts.\n",
    "\n",
    "You may need to generate intermediate DataFrames as you go. "
   ]
  },
  {
   "cell_type": "code",
   "execution_count": 126,
   "metadata": {
    "activity": "activity",
    "collapsed": false,
    "run_control": {
     "read_only": false
    },
    "scrolled": true
   },
   "outputs": [
    {
     "data": {
      "text/plain": [
       "<matplotlib.text.Text at 0x125877e10>"
      ]
     },
     "execution_count": 126,
     "metadata": {},
     "output_type": "execute_result"
    },
    {
     "data": {
      "image/png": "[encoded data removed]",
      "text/plain": [
       "<matplotlib.figure.Figure at 0x1259432b0>"
      ]
     },
     "metadata": {},
     "output_type": "display_data"
    }
   ],
   "source": [
    "from pandas import DataFrame\n",
    "#we want a table, with q1 - 20 as rows, and an attempts and average score column\n",
    "#first, lets discard all non-completed rows, and only keep the question columns\n",
    "question_attempts = icma_raw_df[icma_raw_df['State'] == 'Finished']\n",
    "question_attempts = question_attempts[question_columns]\n",
    "\n",
    "#next, lets get the column count and mean from the question_attempts dataframe\n",
    "\n",
    "#get total question attempts, divided by 1000\n",
    "question_count = question_attempts.count() / 1000\n",
    "\n",
    "#get mean score for each question\n",
    "question_average = question_attempts.mean()\n",
    "\n",
    "#now we can build a new dataframe from the count and mean series above\n",
    "question_attempts_vs_mean_score = DataFrame(data={'Attempts':question_count, \n",
    "                                                  'Average score':question_average})\n",
    "#lets sort the dataframe\n",
    "question_attempts_vs_mean_score.sort_values(by='Average score', inplace=True\n",
    "                                           )\n",
    "#now we can plot the above table\n",
    "question_attempts_vs_mean_score.plot.bar(title=\"Numbef of attempts vs Average score\", \n",
    "                              figsize=(15,8),\n",
    "                              colormap='Blues')\n",
    "plt.xlabel('Question')\n",
    "plt.ylabel('Number of attempts (thousands) and Average score (max score = 1)')"
   ]
  },
  {
   "cell_type": "markdown",
   "metadata": {},
   "source": [
    "## Analysis\n",
    "What does these plots and summaries of the data tell you about which questions are harder?"
   ]
  },
  {
   "cell_type": "markdown",
   "metadata": {
    "activity": "activity"
   },
   "source": [
    "**Write your answer here** _(150 words)_\n",
    "The data plots seem to paint a clear picture as to the difficulty of the questions in this quiz. If we take the first measure of difficulty, the number of times a question is attempted, we can see from the first chart that Questions 18, 19 and 20 have the least attempts, in particular for students who didn't complete the Quiz. Question 6 also proved tricky for in progress students (grey chart), but not so for the completed students (red chart). \n",
    "\n",
    "If we take the other measure of difficulty (average question score), we can see from the purple bar charts that Question 18, 20 and 6 have the lowest average score, for both in progress and completed students.\n",
    "\n",
    "These findings are again reflected in the final (blue) chart, which shows number of attempts and average score plotted together. For Question 18, 20 and 6 it seems that the difficulty of the question is reflected in both the low number of attempts and the low average score. Question 19 is interesting however, in that it was the 2nd least attempted question but only the 5th lowest average score, suggesting the question was easier than anticipated by students who attempted it."
   ]
  },
  {
   "cell_type": "markdown",
   "metadata": {},
   "source": [
    "# <a name=\"f\"></a> f) Data investigation summary (5 marks)\n",
    "([Contents](#contents))\n",
    "\n",
    "Look back over the analysis you have produced. Summarise the main conclusions you have drawn from this work. Highlight how different results can be combined to deduce more about the dataset. Take note of these questions:\n",
    "\n",
    "* What conclusions can you draw about how and when students answer the iCMAs, and any effects that may have on the quiz grade? \n",
    "\n",
    "* What are the differences between the completed and in progress quiz attempts?\n",
    "\n",
    "If you were extending this exploration, how might you proceed? "
   ]
  },
  {
   "cell_type": "markdown",
   "metadata": {
    "activity": "activity"
   },
   "source": [
    "**Write your answer here**  _(400 words)_\n",
    "This analysis has yielded some interesting insights into students' study patterns and their results for this quiz. The data showed performance was very high in this quiz, with 87% of all  attempts completed, and only 13% remaining uncompleted. Of those completed attempts 25% scored 19/20 or above, and over half gained 17.8 or above. Of those students who completed the quiz, it was also clear that a good proportion (12.5%) took the quiz multiple times in order to gain a higher score (with 1 student taking the quiz 11 times!).\n",
    "\n",
    "Of those students who didn't complete a quiz attempt, the data suggests that 17% of those students would have scored 15/20 or above, suggesting that these students would have performed better than they realised, or that in some cases perhaps students forgot to press submit. \n",
    "\n",
    "Examining the effect of the time and day the test was started, it is clear that most students take their tests between 12 and 3pm, and that students tend not to take tests on a Friday or Saturday. Students who took their tests on a Sunday or Monday tended to get a higher grade on average, though there didn't seem to be any obvious correlation between the time a test was started and the final grade.\n",
    "\n",
    "The amount of time taken on the quiz was also examined. This showed that 75% of attempts are completed within 22 days, and 50% within 2 hours. There was no obvious correlation between time taken and grade achieved within this time frame, although the data showed a gentle downwards trend in grade for tests which took over 3 weeks to complete (suggesting students had forgotten the material), and a marked deterioration in grade for tests completed in under 15 minutes (suggesting students hadn't taken the time to read or understand the questions properly).\n",
    "\n",
    "In terms of question difficulty, this was measured in 2 ways: number of times a question was attempted (with harder questions being attempted less), and average score gained for that question. Using both measures this showed that question 6, 18 and 20 were found especially difficult by students. Question 19 was the 2nd least attempted question, but only the 5th lowest average score, suggesting that once students tackled they performed reasonably. This could suggest a poorly worded question.  \n",
    "\n",
    "While these findings are interesting, its important to bear in mind that this analysis is based on a single test, and so its difficult to draw more general conclusions about student study patterns and performance on ICMAs. More broad and general conclusions could be made from analysing more data across several ICMAs for these students (longitudinal data), or by increasing the number of data points across several tests from other modules (cross sectional data). Another interesting area of research would be to investigate the effect of retaking a quiz on the final grade, an effect which was only explored for 1 student in this analysis.\n"
   ]
  },
  {
   "cell_type": "markdown",
   "metadata": {},
   "source": [
    "### added by AH\n",
    "*In a summary of analysis, it is almost always a good idea to five actual numbers (of stduents, of attempts etc., not just percentages, so that the reader has a sense of scale, and whether 'shot noise' might affect the conclusions (e.g. 50% of 2 students!)*"
   ]
  },
  {
   "cell_type": "markdown",
   "metadata": {},
   "source": [
    "# <a name=\"g\"></a> g) Anonymisation and privacy (10 marks)\n",
    "([Contents](#contents))\n",
    "\n",
    "The raw data for this question contained students' full names, personal email addresses, OU computer usernames, and personal identifiers. Open University students, as part of their registration agreement, give permission to The Open University for their personal data to be used internally for analysis and research."
   ]
  },
  {
   "cell_type": "markdown",
   "metadata": {},
   "source": [
    "## i) (4 marks)\n",
    "What issues would there be in releasing this data for analysis by TM351 students? What laws would govern the disclosure of this data, and would unredacted data release be legal? In what way are full names, email addresses, OU computer usernames, and personal identifiers \"personal data\"? What other information in the dataset could be used to identify individuals?\n",
    "\n",
    "Justify your answers."
   ]
  },
  {
   "cell_type": "markdown",
   "metadata": {
    "activity": "activity"
   },
   "source": [
    "**Write your answer here**  _(300 words)_\n",
    "Data on students ICMA performance is clearly a requirement for the OU, as this data forms part of the students' academic record. It is also of use in monitoring student performance, study patterns, gauging the difficulty of tests and courses etc. Such data however, is classed as personal data under the Data Protection Act 1998, and therefore places legal obligations on the OU as the 'data controller' in protecting the student's data. \n",
    "\n",
    "If the OU were planning on releasing the data for analysis without redacting or anonymising any data, they would be breaching the 'fair and lawful' processing principle of the DPA. This principle puts legal responsibly on the OU (the 'data controller') to prevent personal data being disclosed to anyone other than the student it related to (the 'data subject'). 'Personal data' is defined as any data relating to living individuals by which an individual can be identified, either on its own or by cross-referencing with other available data. As the OU's ICMA data contains the names, email addresses and usernames of students, this data is explicitly personal data. It could be used for unsolicited marketing or publication without the student's consent. As the data relates to a course offered by the OU, this data could also be cross-referenced with other publically available information (linked in or facebook for example), to identify individuals.\n",
    "\n",
    " As long as the data allowed students to be identifiable, there would be a breach of the DPA if this data was release (unless a case could be made for such a release to be considered 'fair and lawful' processing). In order for this data to be released legally the OU would have to break the link between the data, and the identity of the students. This can be achieved through a variety of techniques including redacting (removing) sensitive parts of the data (such as names), or anonymising the data so that it no longer identifies an individual (through aggregation or obfuscation).\n"
   ]
  },
  {
   "cell_type": "markdown",
   "metadata": {},
   "source": [
    "### added\n",
    "*Very good answer. The only things you forgot to mention is the possible triangulation of this data with other datasets. Also, if it was not analoymised, you as students would become responsible for the data security, which is unreasonable given your student status (different for OU staff).*"
   ]
  },
  {
   "cell_type": "markdown",
   "metadata": {},
   "source": [
    "## ii) (4 marks)\n",
    "One approach to obscuring the data is to use a cryptographic hash function, such as MD5. Such a hash function is deterministic (each value always results in the same hash), one-way (the original value cannot be recovered from the hashed value), and collision-free (two different values will not generate the same hashed value). See the examples below:"
   ]
  },
  {
   "cell_type": "code",
   "execution_count": 127,
   "metadata": {
    "collapsed": false,
    "run_control": {
     "read_only": false
    }
   },
   "outputs": [
    {
     "name": "stdout",
     "output_type": "stream",
     "text": [
      "TM351 f2b9934cd167c59b513af9157ea63b02\n",
      "TM352 b379e8f5811f6f59e24a3f0f2307fe86\n",
      "tm351 954ed12ba4dc405d3967e086b872f10d\n"
     ]
    }
   ],
   "source": [
    "import hashlib\n",
    "\n",
    "print('TM351', hashlib.md5('TM351'.encode('ascii','ignore')).hexdigest())\n",
    "print('TM352', hashlib.md5('TM352'.encode('ascii','ignore')).hexdigest())\n",
    "print('tm351', hashlib.md5('tm351'.encode('ascii','ignore')).hexdigest())"
   ]
  },
  {
   "cell_type": "markdown",
   "metadata": {},
   "source": [
    "This technique could be used easily with the iCMA data by applying such a hash function to some of the data (name, email address, personal identifier, OU username) and only releasing the hashed values. \n",
    "\n",
    "What form of anonymisation is this? \n",
    "\n",
    "What are the advantages and disadvantages of this approach? How could data, obscured in this way, be used to deanonyimise some or all of the data? \n",
    "\n",
    "(For information, the data in this released dataset had the personal identifiers replaced (masked) by randomly-generated keys. Nonce values for other personal information were generated deterministically from the new personal identifiers. These values were then hashed and stored.)"
   ]
  },
  {
   "cell_type": "markdown",
   "metadata": {
    "activity": "activityAns"
   },
   "source": [
    "**Write your answer here**  _(250 words)_\n",
    "This is an example pseudonymisation, where personal data is anonymised by replacing the personal attributes with another value or code (in this case, by replacing the name, email address, personal identifier and OU username with hashed values). \n",
    "\n",
    "This approach has the advantage of allowing a record relating to an individual student to be kept intact, retaining all relevant details, and to be linked to other related records, but without revealing the identity of the student. If the hash function is of sufficient strength, and doesn't allow you to work out the original data from the hashed value (one-way), this can be a very effective means of protecting personal data.\n",
    "\n",
    "There are weaknesses to this approach however. Sometimes, despite pseudonymisation, an individual can still be reidentified. However strong a hashing function is, there may be other data available in the public domain which allows a 'motivated intruder' to combine other data sources together and deduce the identify of an individual (or at least narrow the possibilities down to a small number of individuals). This is especially true in small datasets, where the very presence or absence of a record can allow reidentification when combined with other easily available data such as electoral registers.\n",
    "\n",
    "Sadly, it is impossible to be certain that reidentification won't be possible now or in the future. The best that can be done is to reduce the risk by taking adequate precautions are taken (such as reviewing existing public sources of information, or performing a 'motivated intruder' test) and weigh up the possible risks and benefits of this form of anonymization over other methods.\n"
   ]
  },
  {
   "cell_type": "markdown",
   "metadata": {},
   "source": [
    "### added\n",
    "*Also, given a student ID, someone could regenerate the hashed values and find that person's data in the dataset. Even if these data are not known, the range of values for the data are small and it's not infeasible for a 'motivated intruder' to generate hashed values for, say, all PIs, all OUCUs, and the most common names, and use that to identify Open University students.*"
   ]
  },
  {
   "cell_type": "markdown",
   "metadata": {},
   "source": [
    "## iii) (2 marks)\n",
    "Give two other approaches that could be used to anonymise the iCMA data so it could be published for analysis? What are their disadvantages?"
   ]
  },
  {
   "cell_type": "markdown",
   "metadata": {
    "activity": "activityAns"
   },
   "source": [
    "**Write your answer here**  _(200 words)_\n",
    "Other anonymization methods which could be used are suppression (redaction) or aggregation.\n",
    "\n",
    "Suppression means suppressing any personal data before release. In this example, it could mean removing the student's name, email address etc. This approach carries the same risks as pseudonymisation, in that given a sufficiently motivated individual and other data to cross-reference against, the student could be re-identified.\n",
    "\n",
    "Aggregation means aggregating all student records together, and releasing summary data which related to the group of students as a whole, rather than individuals (for instance, average mark, average time spent on a quiz etc.). This method has the advantage that it almost impossible to re-identify individuals with a sufficiently large dataset, as data relating to individuals has been discarded and rolled up into summary values. However, as the dataset gets smaller the likelihood of identification increases. For this reason, summary values relating to small populations are often suppressed before release.\n"
   ]
  },
  {
   "cell_type": "markdown",
   "metadata": {
    "collapsed": true,
    "run_control": {
     "read_only": false
    }
   },
   "source": [
    "### 45 marks in total"
   ]
  }
 ],
 "metadata": {
  "kernelspec": {
   "display_name": "Python 3",
   "language": "python",
   "name": "python3"
  },
  "language_info": {
   "codemirror_mode": {
    "name": "ipython",
    "version": 3
   },
   "file_extension": ".py",
   "mimetype": "text/x-python",
   "name": "python",
   "nbconvert_exporter": "python",
   "pygments_lexer": "ipython3",
   "version": "3.4.4"
  }
 },
 "nbformat": 4,
 "nbformat_minor": 0
}
