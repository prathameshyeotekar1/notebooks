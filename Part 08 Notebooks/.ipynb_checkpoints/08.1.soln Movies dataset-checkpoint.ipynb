{
 "cells": [
  {
   "cell_type": "markdown",
   "metadata": {
    "run_control": {
     "read_only": false
    }
   },
   "source": [
    "# Movies dataset\n",
    "## Solution Notebook"
   ]
  },
  {
   "cell_type": "markdown",
   "metadata": {
    "collapsed": true,
    "run_control": {
     "read_only": false
    }
   },
   "source": [
    "This is a set of worked solutions to the `08.1 Movies dataset` Notebook.\n",
    "The solutions given here should be viewed as guide only; other equally acceptable solutions may be possible."
   ]
  },
  {
   "cell_type": "markdown",
   "metadata": {
    "activity": "activity"
   },
   "source": [
    "## Activity\n",
    "Using the tools that you have used previously to manipulate `DataFrames`, characterise the Movies dataset by answering the following questions about the data recorded in the dataset:\n",
    "\n",
    "    1 How many movies, actors, directors and countries are there?\n",
    "    2 How many unique movie titles are there?\n",
    "    3 What are the earliest and latest years of release?\n",
    "    4 What are the ranges of values for critics, audience and user ratings?\n",
    "    5 How many movies are classified under each genre? \n",
    "    6 Missing data - How many movies are recorded without:\n",
    "        6.1 a title?\n",
    "        6.2 a year of release?\n",
    "        6.3 critics, audience or user ratings?\n",
    "        6.4 any actors?\n",
    "        6.5 a director?\n",
    "        6.6 a country of origin?\n",
    "        6.7 any genres?"
   ]
  },
  {
   "cell_type": "markdown",
   "metadata": {},
   "source": [
    "#### Create a separate DataFrame from each individual Movies dataset"
   ]
  },
  {
   "cell_type": "code",
   "execution_count": null,
   "metadata": {
    "collapsed": true,
    "run_control": {
     "read_only": false
    }
   },
   "outputs": [],
   "source": [
    "import pandas as pd"
   ]
  },
  {
   "cell_type": "code",
   "execution_count": null,
   "metadata": {
    "collapsed": true,
    "run_control": {
     "read_only": false
    }
   },
   "outputs": [],
   "source": [
    "# Create the DataFrame 'movie' from the CSV data file 'movie.csv'.\n",
    "movie = pd.read_csv('data/movie.csv')\n",
    "# Create the DataFrame 'movie_actor' from the CSV data file 'movie_actor.csv'.\n",
    "movie_actor = pd.read_csv('data/movie_actor.csv')\n",
    "# Create the DataFrame 'movie_country' from the CSV data file 'movie_country.csv'.\n",
    "movie_country = pd.read_csv('data/movie_country.csv')\n",
    "# Create the DataFrame 'movie_director' from the CSV data file 'movie_director.csv'.\n",
    "movie_director = pd.read_csv('data/movie_director.csv')\n",
    "# Create the DataFrame 'movie_genre' from the CSV data file 'movie_genre.csv'.\n",
    "movie_genre = pd.read_csv('data/movie_genre.csv')"
   ]
  },
  {
   "cell_type": "markdown",
   "metadata": {
    "activity": "activity"
   },
   "source": [
    "1 How many movies, actors, directors and countries are there?"
   ]
  },
  {
   "cell_type": "code",
   "execution_count": null,
   "metadata": {
    "collapsed": true,
    "run_control": {
     "read_only": false
    }
   },
   "outputs": [],
   "source": [
    "len(movie)"
   ]
  },
  {
   "cell_type": "markdown",
   "metadata": {},
   "source": [
    "Notes:\n",
    "\n",
    "The Python built-in function [len( )](https://docs.python.org/3/library/functions.html#len) \n",
    "returns the number of items (rows) in the `DataFrame` specified. \n",
    "See 01.3 Basic python data structures Notebook. \n"
   ]
  },
  {
   "cell_type": "code",
   "execution_count": null,
   "metadata": {
    "collapsed": true,
    "run_control": {
     "read_only": false
    }
   },
   "outputs": [],
   "source": [
    "len(movie_actor['actor_name'].unique())"
   ]
  },
  {
   "cell_type": "markdown",
   "metadata": {},
   "source": [
    "Notes:\n",
    "\n",
    "[movie_actor['actor_name']](http://pandas.pydata.org/pandas-docs/version/0.17.1/dsintro.html#indexing-selection) \n",
    "returns a `Series` containing the values of 'actor_name'. \n",
    "See 02.1 Pandas Dataframes Notebook. \n",
    "\n",
    "[unique()](http://pandas.pydata.org/pandas-docs/version/0.17.1/generated/pandas.Series.unique.html) \n",
    "returns an `Array` of unique values of 'actor_name' in the `Series` specified.\n",
    "See 02.1 Pandas Dataframes Notebook. "
   ]
  },
  {
   "cell_type": "code",
   "execution_count": null,
   "metadata": {
    "collapsed": true,
    "run_control": {
     "read_only": false
    }
   },
   "outputs": [],
   "source": [
    "len(movie_director['director_name'].unique())"
   ]
  },
  {
   "cell_type": "code",
   "execution_count": null,
   "metadata": {
    "collapsed": true,
    "run_control": {
     "read_only": false
    }
   },
   "outputs": [],
   "source": [
    "len(movie_country['country'].unique())"
   ]
  },
  {
   "cell_type": "markdown",
   "metadata": {
    "activity": "activity"
   },
   "source": [
    "2 How many unique movie titles are there?"
   ]
  },
  {
   "cell_type": "code",
   "execution_count": null,
   "metadata": {
    "collapsed": true,
    "run_control": {
     "read_only": false
    }
   },
   "outputs": [],
   "source": [
    "len(movie['title'].unique())"
   ]
  },
  {
   "cell_type": "markdown",
   "metadata": {
    "activity": "activity"
   },
   "source": [
    "3 What are the earliest and latest years of release?"
   ]
  },
  {
   "cell_type": "code",
   "execution_count": null,
   "metadata": {
    "collapsed": true,
    "run_control": {
     "read_only": false
    }
   },
   "outputs": [],
   "source": [
    "print(movie['year'].min())\n",
    "print(movie['year'].max())"
   ]
  },
  {
   "cell_type": "markdown",
   "metadata": {},
   "source": [
    "Notes:\n",
    "\n",
    "[min()](http://pandas.pydata.org/pandas-docs/version/0.17.1/generated/pandas.Series.min.html) \n",
    "returns the minimum of the values in the `Series` specified. See 04.2 Descriptive statistics in pandas Notebook\n",
    "\n",
    "[max()](http://pandas.pydata.org/pandas-docs/version/0.17.1/generated/pandas.Series.max.html) \n",
    "returns the maximum of the values in the `Series` specified. See 04.2 Descriptive statistics in pandas Notebook"
   ]
  },
  {
   "cell_type": "markdown",
   "metadata": {
    "activity": "activity"
   },
   "source": [
    "4 What are the ranges of values for critics, audience and user ratings?"
   ]
  },
  {
   "cell_type": "code",
   "execution_count": null,
   "metadata": {
    "collapsed": true,
    "run_control": {
     "read_only": false
    }
   },
   "outputs": [],
   "source": [
    "# RottenTomatoes - all critics: average rating\n",
    "print(movie['rt_all_critics_rating'].min())\n",
    "print(movie['rt_all_critics_rating'].max())"
   ]
  },
  {
   "cell_type": "code",
   "execution_count": null,
   "metadata": {
    "collapsed": true,
    "run_control": {
     "read_only": false
    }
   },
   "outputs": [],
   "source": [
    "# RottenTomatoes - top critics: average rating\n",
    "print(movie['rt_top_critics_rating'].min())\n",
    "print(movie['rt_top_critics_rating'].max())"
   ]
  },
  {
   "cell_type": "code",
   "execution_count": null,
   "metadata": {
    "collapsed": true,
    "run_control": {
     "read_only": false
    }
   },
   "outputs": [],
   "source": [
    "# RottenTomatoes - audience: average rating\n",
    "print(movie['rt_audience_rating'].min())\n",
    "print(movie['rt_audience_rating'].max())"
   ]
  },
  {
   "cell_type": "code",
   "execution_count": null,
   "metadata": {
    "collapsed": true,
    "run_control": {
     "read_only": false
    }
   },
   "outputs": [],
   "source": [
    "# MovieLens - users: average rating\n",
    "print(movie['ml_user_rating'].min())\n",
    "print(movie['ml_user_rating'].max())"
   ]
  },
  {
   "cell_type": "markdown",
   "metadata": {
    "activity": "activity"
   },
   "source": [
    "5 How many movies are classified under each genre?"
   ]
  },
  {
   "cell_type": "code",
   "execution_count": null,
   "metadata": {
    "collapsed": true,
    "run_control": {
     "read_only": false
    }
   },
   "outputs": [],
   "source": [
    "movie_genre.pivot_table(index=['genre'], aggfunc='count')"
   ]
  },
  {
   "cell_type": "markdown",
   "metadata": {},
   "source": [
    "Notes:\n",
    "    \n",
    "See 04.1 Crosstabs and pivot tables Notebook."
   ]
  },
  {
   "cell_type": "markdown",
   "metadata": {
    "activity": "activity"
   },
   "source": [
    "6.1 How many movies are recorded without a title?"
   ]
  },
  {
   "cell_type": "code",
   "execution_count": null,
   "metadata": {
    "collapsed": true,
    "run_control": {
     "read_only": false
    }
   },
   "outputs": [],
   "source": [
    "len(movie[movie['title'].isnull()])"
   ]
  },
  {
   "cell_type": "markdown",
   "metadata": {},
   "source": [
    "Notes:\n",
    "\n",
    "[movie['title']](http://pandas.pydata.org/pandas-docs/version/0.17.1/dsintro.html#indexing-selection) \n",
    "returns a `Series` containing the values of 'title'. \n",
    "See 02.1 Pandas Dataframes Notebook. \n",
    "\n",
    "[isnull()](http://pandas.pydata.org/pandas-docs/version/0.17.1/generated/pandas.Series.isnull.html) \n",
    "returns a `boolean` for each element in the `Series` indicating if the values are `null`. See 03.4 Handling missing data Notebook\n",
    "\n",
    "movie[movie['title'].isnull()] performs a `selection` choosing those rows where `isnull()` returns `true`. \n",
    "See 03.2 Selecting and projecting, sorting and limiting Notebook.\n",
    "\n",
    "The Python built-in functions [len()](https://docs.python.org/3/library/functions.html#len) \n",
    "returns the number of items (rows) in the `DataFrame` specified. \n",
    "See 01.3 Basic python data structures Notebook. \n",
    "\n",
    "\n",
    "Alternative solution:\n",
    "\n",
    "`len(movie[movie.title.isnull()])`\n",
    "\n",
    "See 02.1 Pandas Dataframes Notebook."
   ]
  },
  {
   "cell_type": "markdown",
   "metadata": {
    "activity": "activity"
   },
   "source": [
    "6.2 How many movies are recorded without a year of release?"
   ]
  },
  {
   "cell_type": "code",
   "execution_count": null,
   "metadata": {
    "collapsed": true,
    "run_control": {
     "read_only": false
    }
   },
   "outputs": [],
   "source": [
    "len(movie[movie.year.isnull()])"
   ]
  },
  {
   "cell_type": "markdown",
   "metadata": {
    "activity": "activity"
   },
   "source": [
    "6.3 How many movies are recorded without critics, audience or user ratings?"
   ]
  },
  {
   "cell_type": "code",
   "execution_count": null,
   "metadata": {
    "collapsed": true,
    "run_control": {
     "read_only": false
    }
   },
   "outputs": [],
   "source": [
    "# RottenTomatoes - all critics: average rating\n",
    "len(movie[movie.rt_all_critics_rating.isnull()])"
   ]
  },
  {
   "cell_type": "code",
   "execution_count": null,
   "metadata": {
    "collapsed": true,
    "run_control": {
     "read_only": false
    }
   },
   "outputs": [],
   "source": [
    "# RottenTomatoes - top critics: average rating\n",
    "len(movie[movie.rt_top_critics_rating.isnull()])"
   ]
  },
  {
   "cell_type": "code",
   "execution_count": null,
   "metadata": {
    "collapsed": true,
    "run_control": {
     "read_only": false
    }
   },
   "outputs": [],
   "source": [
    "# RottenTomatoes - audience: average rating\n",
    "len(movie[movie.rt_audience_rating.isnull()])"
   ]
  },
  {
   "cell_type": "code",
   "execution_count": null,
   "metadata": {
    "collapsed": true,
    "run_control": {
     "read_only": false
    }
   },
   "outputs": [],
   "source": [
    "# MovieLens - users: average rating\n",
    "len(movie[movie.ml_user_rating.isnull()])"
   ]
  },
  {
   "cell_type": "markdown",
   "metadata": {
    "activity": "activity"
   },
   "source": [
    "6.4 How many movies are recorded without any actors?"
   ]
  },
  {
   "cell_type": "code",
   "execution_count": null,
   "metadata": {
    "collapsed": true,
    "run_control": {
     "read_only": false
    }
   },
   "outputs": [],
   "source": [
    "len(set(movie['movie_id']).difference(set(movie_actor['movie_id'])))"
   ]
  },
  {
   "cell_type": "markdown",
   "metadata": {},
   "source": [
    "Notes:\n",
    "\n",
    "[set(...)](https://docs.python.org/3/library/stdtypes.html#set) \n",
    "returns a `Set` whose elements are taken from the `Series`. \n",
    "See 01.3 Basic python data structures Notebook. \n",
    "\n",
    "[.difference(...)](https://docs.python.org/3/library/stdtypes.html#set) \n",
    "performs a set `difference` returning those elements present in the first set but not the second.\n",
    "See 01.3 Basic python data structures Notebook. "
   ]
  },
  {
   "cell_type": "markdown",
   "metadata": {
    "activity": "activity"
   },
   "source": [
    "6.5 How many movies are recorded without a director?"
   ]
  },
  {
   "cell_type": "code",
   "execution_count": null,
   "metadata": {
    "collapsed": true,
    "run_control": {
     "read_only": false
    }
   },
   "outputs": [],
   "source": [
    "len(movie)-len(movie_director)"
   ]
  },
  {
   "cell_type": "markdown",
   "metadata": {},
   "source": [
    "Notes:\n",
    "\n",
    "Since \"Each movie has one director\" we can simply compare the number of rows in each `DataFrame`."
   ]
  },
  {
   "cell_type": "markdown",
   "metadata": {
    "activity": "activity"
   },
   "source": [
    "6.6 How many movies are recorded without a country of origin?"
   ]
  },
  {
   "cell_type": "code",
   "execution_count": null,
   "metadata": {
    "collapsed": true,
    "run_control": {
     "read_only": false
    }
   },
   "outputs": [],
   "source": [
    "len(movie)-len(movie_country)"
   ]
  },
  {
   "cell_type": "markdown",
   "metadata": {
    "activity": "activity"
   },
   "source": [
    "6.7 How many movies are recorded without any genres."
   ]
  },
  {
   "cell_type": "code",
   "execution_count": null,
   "metadata": {
    "collapsed": true,
    "run_control": {
     "read_only": false
    }
   },
   "outputs": [],
   "source": [
    "len(set(movie['movie_id']).difference(set(movie_genre[(movie_genre['genre']!='(no genres listed)')]['movie_id'])))"
   ]
  },
  {
   "cell_type": "markdown",
   "metadata": {},
   "source": [
    "Notes:\n",
    "    \n",
    "Since we identified earlier the presence of '(no genres listed)' genre, we have eliminated it from the 'movie_genre' `DataFrame`."
   ]
  }
 ],
 "metadata": {
  "kernelspec": {
   "display_name": "Python 3",
   "language": "python",
   "name": "python3"
  },
  "language_info": {
   "codemirror_mode": {
    "name": "ipython",
    "version": 3
   },
   "file_extension": ".py",
   "mimetype": "text/x-python",
   "name": "python",
   "nbconvert_exporter": "python",
   "pygments_lexer": "ipython3",
   "version": "3.4.3"
  }
 },
 "nbformat": 4,
 "nbformat_minor": 0
}
