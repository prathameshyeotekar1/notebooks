{
 "cells": [
  {
   "cell_type": "markdown",
   "metadata": {
    "run_control": {
     "read_only": false
    }
   },
   "source": [
    "# Movies dataset"
   ]
  },
  {
   "cell_type": "markdown",
   "metadata": {},
   "source": [
    "In this Notebook you will explore the contents of the Movies dataset using the tools you have used previously to \n",
    "manipulate `DataFrames`. \n",
    "You will be using this dataset, which contains data about movies, their actors and directors, and audience and \n",
    "critics' ratings, as a relational database in some of the practical activities in Parts 9-12.\n",
    "\n",
    "This dataset is derived from the [MovieLens + IMDb/Rotten Tomatoes](http://grouplens.org/datasets/hetrec-2011/) dataset \n",
    "made available at the *2nd International Workshop on Information Heterogeneity and Fusion in Recommender Systems* \n",
    "([HetRec 2011](http://ir.ii.uam.es/hetrec2011)) at the *5th ACM Conference on Recommender Systems* \n",
    "([RecSys 2011](http://recsys.acm.org/2011)). \n",
    "It is an extension of the [MovieLens 10M](http://grouplens.org/datasets/movielens/) \n",
    "dataset containing additional data from the \n",
    "[Internet Movie Database (IMDb)](http://www.imdb.com/) and the [RottenTomatoes (RT)](http://www.rottentomatoes.com/) \n",
    "movie review system.\n",
    "\n",
    "This dataset comprises the following five individual datasets:\n",
    "\n",
    "`movie (movie_id, title, year, rt_all_critics_rating, rt_top_critics_rating, rt_audience_rating, ml_user_rating)`\n",
    "\n",
    "Each row records the following data about a particular movie identified by the `movie_id` primary key (PK) column.\n",
    "\n",
    "column | description\n",
    "------ | -----------\n",
    "movie_id  (PK) | movie identifier\n",
    "title | movie title\n",
    "year | year of release\n",
    "rt_all_critics_rating | RottenTomatoes - all critics: average rating\n",
    "rt_top_critics_rating | RottenTomatoes - top critics: average rating\n",
    "rt_audience_rating | RottenTomatoes - audience: average rating\n",
    "ml_user_rating | MovieLens - users: average rating\n",
    "\n",
    "\n",
    "`movie_actor (movie_id, actor_name, ranking)`\n",
    "\n",
    "Each movie features one or more actors. Each row records a particular actor featuring in a particular movie \n",
    "identified by the `movie_id` and `actor_name` primary key columns.\n",
    "\n",
    "\n",
    "column | description\n",
    "------ | -----------\n",
    "movie_id  (PK) | movie identifier\n",
    "actor_name  (PK) | actor's name\n",
    "ranking | position of actor on the movie's cast list\n",
    "\n",
    "`movie_country (movie_id, country)`\n",
    "\n",
    "Each movie has one country of origin. Each row records the country of origin of a particular movie \n",
    "identified by the `movie_id` primary key column.\n",
    "\n",
    "column | description\n",
    "------ | -----------\n",
    "movie_id  (PK) | movie identifier\n",
    "country | country of origin\n",
    "\n",
    "`movie_director (movie_id, director_name)`\n",
    "\n",
    "Each movie has one director. Each row records the director of a particular movie \n",
    "identified by the `movie_id` primary key column.\n",
    "\n",
    "\n",
    "column | description\n",
    "------ | -----------\n",
    "movie_id  (PK) | movie identifier\n",
    "director_name | director's name\n",
    "\n",
    "`movie_genre (movie_id, genre)`\n",
    "\n",
    "Each movie is categorised as belonging to one or more movie genres. Each row records a particular genre that \n",
    "categorises a particular movie identified by the `movie_id` and `genre` primary key columns.\n",
    "\n",
    "\n",
    "column | description\n",
    "------ | -----------\n",
    "movie_id  (PK) | movie identifier\n",
    "genre  (PK) | movie genre\n",
    "\n"
   ]
  },
  {
   "cell_type": "markdown",
   "metadata": {},
   "source": [
    "#### Create a separate DataFrame from each individual Movies dataset"
   ]
  },
  {
   "cell_type": "code",
   "execution_count": 74,
   "metadata": {
    "collapsed": true,
    "run_control": {
     "read_only": false
    }
   },
   "outputs": [],
   "source": [
    "import pandas as pd"
   ]
  },
  {
   "cell_type": "markdown",
   "metadata": {},
   "source": [
    "`movie (movie_id, title, year, rt_all_critics_rating, rt_top_critics_rating, rt_audience_rating, ml_user_rating)`"
   ]
  },
  {
   "cell_type": "code",
   "execution_count": 75,
   "metadata": {
    "collapsed": false,
    "run_control": {
     "read_only": false
    }
   },
   "outputs": [
    {
     "data": {
      "text/html": [
       "<div>\n",
       "<table border=\"1\" class=\"dataframe\">\n",
       "  <thead>\n",
       "    <tr style=\"text-align: right;\">\n",
       "      <th></th>\n",
       "      <th>movie_id</th>\n",
       "      <th>title</th>\n",
       "      <th>year</th>\n",
       "      <th>rt_all_critics_rating</th>\n",
       "      <th>rt_top_critics_rating</th>\n",
       "      <th>rt_audience_rating</th>\n",
       "      <th>ml_user_rating</th>\n",
       "    </tr>\n",
       "  </thead>\n",
       "  <tbody>\n",
       "    <tr>\n",
       "      <th>0</th>\n",
       "      <td>1</td>\n",
       "      <td>Toy Story</td>\n",
       "      <td>1995</td>\n",
       "      <td>9</td>\n",
       "      <td>8.5</td>\n",
       "      <td>3.7</td>\n",
       "      <td>3.9</td>\n",
       "    </tr>\n",
       "  </tbody>\n",
       "</table>\n",
       "</div>"
      ],
      "text/plain": [
       "   movie_id      title  year  rt_all_critics_rating  rt_top_critics_rating  \\\n",
       "0         1  Toy Story  1995                      9                    8.5   \n",
       "\n",
       "   rt_audience_rating  ml_user_rating  \n",
       "0                 3.7             3.9  "
      ]
     },
     "execution_count": 75,
     "metadata": {},
     "output_type": "execute_result"
    }
   ],
   "source": [
    "# Create the DataFrame 'movie' from the CSV data file 'movie.csv'.\n",
    "movie = pd.read_csv('data/movie.csv')\n",
    "# Display data about the movie with the movie identifier of '1'.\n",
    "movie[movie.movie_id==1]"
   ]
  },
  {
   "cell_type": "markdown",
   "metadata": {},
   "source": [
    "`movie_actor (movie_id, actor_name, ranking)`"
   ]
  },
  {
   "cell_type": "code",
   "execution_count": 76,
   "metadata": {
    "collapsed": false,
    "run_control": {
     "read_only": false
    }
   },
   "outputs": [
    {
     "data": {
      "text/html": [
       "<div>\n",
       "<table border=\"1\" class=\"dataframe\">\n",
       "  <thead>\n",
       "    <tr style=\"text-align: right;\">\n",
       "      <th></th>\n",
       "      <th>movie_id</th>\n",
       "      <th>actor_name</th>\n",
       "      <th>ranking</th>\n",
       "    </tr>\n",
       "  </thead>\n",
       "  <tbody>\n",
       "    <tr>\n",
       "      <th>22</th>\n",
       "      <td>1</td>\n",
       "      <td>Tom Hanks</td>\n",
       "      <td>1</td>\n",
       "    </tr>\n",
       "    <tr>\n",
       "      <th>21</th>\n",
       "      <td>1</td>\n",
       "      <td>Tim Allen</td>\n",
       "      <td>2</td>\n",
       "    </tr>\n",
       "    <tr>\n",
       "      <th>2</th>\n",
       "      <td>1</td>\n",
       "      <td>Don Rickles</td>\n",
       "      <td>3</td>\n",
       "    </tr>\n",
       "    <tr>\n",
       "      <th>7</th>\n",
       "      <td>1</td>\n",
       "      <td>Jim Varney</td>\n",
       "      <td>4</td>\n",
       "    </tr>\n",
       "    <tr>\n",
       "      <th>23</th>\n",
       "      <td>1</td>\n",
       "      <td>Wallace Shawn</td>\n",
       "      <td>5</td>\n",
       "    </tr>\n",
       "    <tr>\n",
       "      <th>5</th>\n",
       "      <td>1</td>\n",
       "      <td>Jack Angel</td>\n",
       "      <td>6</td>\n",
       "    </tr>\n",
       "    <tr>\n",
       "      <th>20</th>\n",
       "      <td>1</td>\n",
       "      <td>Sherry Lynn</td>\n",
       "      <td>7</td>\n",
       "    </tr>\n",
       "    <tr>\n",
       "      <th>13</th>\n",
       "      <td>1</td>\n",
       "      <td>Laurie Metcalf</td>\n",
       "      <td>8</td>\n",
       "    </tr>\n",
       "    <tr>\n",
       "      <th>14</th>\n",
       "      <td>1</td>\n",
       "      <td>Patrick Pinney</td>\n",
       "      <td>9</td>\n",
       "    </tr>\n",
       "    <tr>\n",
       "      <th>0</th>\n",
       "      <td>1</td>\n",
       "      <td>Annie Potts</td>\n",
       "      <td>10</td>\n",
       "    </tr>\n",
       "    <tr>\n",
       "      <th>16</th>\n",
       "      <td>1</td>\n",
       "      <td>Philip Proctor</td>\n",
       "      <td>11</td>\n",
       "    </tr>\n",
       "    <tr>\n",
       "      <th>11</th>\n",
       "      <td>1</td>\n",
       "      <td>John Ratzenberger</td>\n",
       "      <td>12</td>\n",
       "    </tr>\n",
       "    <tr>\n",
       "      <th>3</th>\n",
       "      <td>1</td>\n",
       "      <td>Erik von Detten</td>\n",
       "      <td>13</td>\n",
       "    </tr>\n",
       "    <tr>\n",
       "      <th>17</th>\n",
       "      <td>1</td>\n",
       "      <td>R. Lee Ermey</td>\n",
       "      <td>14</td>\n",
       "    </tr>\n",
       "    <tr>\n",
       "      <th>15</th>\n",
       "      <td>1</td>\n",
       "      <td>Penn Jillette</td>\n",
       "      <td>15</td>\n",
       "    </tr>\n",
       "    <tr>\n",
       "      <th>9</th>\n",
       "      <td>1</td>\n",
       "      <td>Joe Ranft</td>\n",
       "      <td>16</td>\n",
       "    </tr>\n",
       "    <tr>\n",
       "      <th>4</th>\n",
       "      <td>1</td>\n",
       "      <td>Greg Berg</td>\n",
       "      <td>17</td>\n",
       "    </tr>\n",
       "    <tr>\n",
       "      <th>19</th>\n",
       "      <td>1</td>\n",
       "      <td>Scott McAfee</td>\n",
       "      <td>18</td>\n",
       "    </tr>\n",
       "    <tr>\n",
       "      <th>6</th>\n",
       "      <td>1</td>\n",
       "      <td>Jan Rabson</td>\n",
       "      <td>19</td>\n",
       "    </tr>\n",
       "    <tr>\n",
       "      <th>1</th>\n",
       "      <td>1</td>\n",
       "      <td>Bill Farmer</td>\n",
       "      <td>20</td>\n",
       "    </tr>\n",
       "    <tr>\n",
       "      <th>12</th>\n",
       "      <td>1</td>\n",
       "      <td>Kendall Cunningham</td>\n",
       "      <td>21</td>\n",
       "    </tr>\n",
       "    <tr>\n",
       "      <th>18</th>\n",
       "      <td>1</td>\n",
       "      <td>Sarah Freeman</td>\n",
       "      <td>22</td>\n",
       "    </tr>\n",
       "    <tr>\n",
       "      <th>10</th>\n",
       "      <td>1</td>\n",
       "      <td>John Morris</td>\n",
       "      <td>23</td>\n",
       "    </tr>\n",
       "    <tr>\n",
       "      <th>8</th>\n",
       "      <td>1</td>\n",
       "      <td>Joan Cusack</td>\n",
       "      <td>24</td>\n",
       "    </tr>\n",
       "  </tbody>\n",
       "</table>\n",
       "</div>"
      ],
      "text/plain": [
       "    movie_id          actor_name  ranking\n",
       "22         1           Tom Hanks        1\n",
       "21         1           Tim Allen        2\n",
       "2          1         Don Rickles        3\n",
       "7          1          Jim Varney        4\n",
       "23         1       Wallace Shawn        5\n",
       "5          1          Jack Angel        6\n",
       "20         1         Sherry Lynn        7\n",
       "13         1      Laurie Metcalf        8\n",
       "14         1      Patrick Pinney        9\n",
       "0          1         Annie Potts       10\n",
       "16         1      Philip Proctor       11\n",
       "11         1   John Ratzenberger       12\n",
       "3          1     Erik von Detten       13\n",
       "17         1        R. Lee Ermey       14\n",
       "15         1       Penn Jillette       15\n",
       "9          1           Joe Ranft       16\n",
       "4          1           Greg Berg       17\n",
       "19         1        Scott McAfee       18\n",
       "6          1          Jan Rabson       19\n",
       "1          1         Bill Farmer       20\n",
       "12         1  Kendall Cunningham       21\n",
       "18         1       Sarah Freeman       22\n",
       "10         1         John Morris       23\n",
       "8          1         Joan Cusack       24"
      ]
     },
     "execution_count": 76,
     "metadata": {},
     "output_type": "execute_result"
    }
   ],
   "source": [
    "# Create the DataFrame 'movie_actor' from the CSV data file 'movie_actor.csv'.\n",
    "movie_actor = pd.read_csv('data/movie_actor.csv')\n",
    "# Display the actors featuring in the movie with the movie identifier of '1' in the order as given on the cast list.\n",
    "movie_actor[movie_actor.movie_id==1].sort_values(by=['ranking'])"
   ]
  },
  {
   "cell_type": "markdown",
   "metadata": {},
   "source": [
    "`movie_country (movie_id, country)`"
   ]
  },
  {
   "cell_type": "code",
   "execution_count": 77,
   "metadata": {
    "collapsed": false,
    "run_control": {
     "read_only": false
    }
   },
   "outputs": [
    {
     "data": {
      "text/html": [
       "<div>\n",
       "<table border=\"1\" class=\"dataframe\">\n",
       "  <thead>\n",
       "    <tr style=\"text-align: right;\">\n",
       "      <th></th>\n",
       "      <th>movie_id</th>\n",
       "      <th>country</th>\n",
       "    </tr>\n",
       "  </thead>\n",
       "  <tbody>\n",
       "    <tr>\n",
       "      <th>0</th>\n",
       "      <td>1</td>\n",
       "      <td>USA</td>\n",
       "    </tr>\n",
       "  </tbody>\n",
       "</table>\n",
       "</div>"
      ],
      "text/plain": [
       "   movie_id country\n",
       "0         1     USA"
      ]
     },
     "execution_count": 77,
     "metadata": {},
     "output_type": "execute_result"
    }
   ],
   "source": [
    "# Create the DataFrame 'movie_country' from the CSV data file 'movie_country.csv'.\n",
    "movie_country = pd.read_csv('data/movie_country.csv')\n",
    "# Display the country of origin of the movie with the movie identifier of '1'.\n",
    "movie_country[movie_country.movie_id==1]"
   ]
  },
  {
   "cell_type": "markdown",
   "metadata": {},
   "source": [
    "`movie_director (movie_id, director_name)`"
   ]
  },
  {
   "cell_type": "code",
   "execution_count": 78,
   "metadata": {
    "collapsed": false,
    "run_control": {
     "read_only": false
    }
   },
   "outputs": [
    {
     "data": {
      "text/html": [
       "<div>\n",
       "<table border=\"1\" class=\"dataframe\">\n",
       "  <thead>\n",
       "    <tr style=\"text-align: right;\">\n",
       "      <th></th>\n",
       "      <th>movie_id</th>\n",
       "      <th>director_name</th>\n",
       "    </tr>\n",
       "  </thead>\n",
       "  <tbody>\n",
       "    <tr>\n",
       "      <th>0</th>\n",
       "      <td>1</td>\n",
       "      <td>John Lasseter</td>\n",
       "    </tr>\n",
       "  </tbody>\n",
       "</table>\n",
       "</div>"
      ],
      "text/plain": [
       "   movie_id  director_name\n",
       "0         1  John Lasseter"
      ]
     },
     "execution_count": 78,
     "metadata": {},
     "output_type": "execute_result"
    }
   ],
   "source": [
    "# Create the DataFrame 'movie_director' from the CSV data file 'movie_director.csv'.\n",
    "movie_director = pd.read_csv('data/movie_director.csv')\n",
    "# Display the director of the movie with the movie identifier of '1'.\n",
    "movie_director[movie_director.movie_id==1]"
   ]
  },
  {
   "cell_type": "markdown",
   "metadata": {},
   "source": [
    "`movie_genre (movie_id, genre)`"
   ]
  },
  {
   "cell_type": "code",
   "execution_count": 79,
   "metadata": {
    "collapsed": false,
    "run_control": {
     "read_only": false
    }
   },
   "outputs": [
    {
     "data": {
      "text/html": [
       "<div>\n",
       "<table border=\"1\" class=\"dataframe\">\n",
       "  <thead>\n",
       "    <tr style=\"text-align: right;\">\n",
       "      <th></th>\n",
       "      <th>movie_id</th>\n",
       "      <th>genre</th>\n",
       "    </tr>\n",
       "  </thead>\n",
       "  <tbody>\n",
       "    <tr>\n",
       "      <th>0</th>\n",
       "      <td>1</td>\n",
       "      <td>Adventure</td>\n",
       "    </tr>\n",
       "    <tr>\n",
       "      <th>1</th>\n",
       "      <td>1</td>\n",
       "      <td>Animation</td>\n",
       "    </tr>\n",
       "    <tr>\n",
       "      <th>2</th>\n",
       "      <td>1</td>\n",
       "      <td>Children</td>\n",
       "    </tr>\n",
       "    <tr>\n",
       "      <th>3</th>\n",
       "      <td>1</td>\n",
       "      <td>Comedy</td>\n",
       "    </tr>\n",
       "    <tr>\n",
       "      <th>4</th>\n",
       "      <td>1</td>\n",
       "      <td>Fantasy</td>\n",
       "    </tr>\n",
       "  </tbody>\n",
       "</table>\n",
       "</div>"
      ],
      "text/plain": [
       "   movie_id      genre\n",
       "0         1  Adventure\n",
       "1         1  Animation\n",
       "2         1   Children\n",
       "3         1     Comedy\n",
       "4         1    Fantasy"
      ]
     },
     "execution_count": 79,
     "metadata": {},
     "output_type": "execute_result"
    }
   ],
   "source": [
    "# Create the DataFrame 'movie_genre' from the CSV data file 'movie_genre.csv'.\n",
    "movie_genre = pd.read_csv('data/movie_genre.csv')\n",
    "# Display the genres of the movie with the movie identifier of '1'.\n",
    "movie_genre[movie_genre.movie_id==1]"
   ]
  },
  {
   "cell_type": "markdown",
   "metadata": {
    "activity": "activity"
   },
   "source": [
    "## Activity\n",
    "Using the tools that you have used previously to manipulate `DataFrames`, characterise the Movies dataset by answering the following questions about the data recorded in the dataset:\n",
    "\n",
    "    1 How many movies, actors, directors and countries are there?\n",
    "    2 How many unique movie titles are there?\n",
    "    3 What are the earliest and latest years of release?\n",
    "    4 What are the ranges of values for critics, audience and user ratings?\n",
    "    5 How many movies are classified under each genre? \n",
    "    6 Missing data - How many movies are recorded without:\n",
    "        6.1 a title?\n",
    "        6.2 a year of release?\n",
    "        6.3 critics, audience or user ratings?\n",
    "        6.4 any actors?\n",
    "        6.5 a director?\n",
    "        6.6 a country of origin?\n",
    "        6.7 any genres?\n",
    "        "
   ]
  },
  {
   "cell_type": "code",
   "execution_count": 90,
   "metadata": {
    "activity": "activity",
    "collapsed": false,
    "run_control": {
     "read_only": false
    }
   },
   "outputs": [
    {
     "data": {
      "text/plain": [
       "4"
      ]
     },
     "execution_count": 90,
     "metadata": {},
     "output_type": "execute_result"
    }
   ],
   "source": [
    "# how many movies?\n",
    "movie.count(axis=0)\n",
    "\n",
    "#how many unique movie titles?\n",
    "len(movie['title'].unique())\n",
    "\n",
    "#earliest and latest years of release\n",
    "movie['year'].min()\n",
    "movie['year'].max()\n",
    "\n",
    "#ranges of values for ratings\n",
    "movie[['rt_all_critics_rating','rt_top_critics_rating','rt_audience_rating','ml_user_rating']].describe()\n",
    "\n",
    "#how many movies are classified under each genre?\n",
    "movie_genre.pivot_table(index='genre', values='movie_id', aggfunc='count')\n",
    "\n",
    "#how many movies contain null values\n",
    "movie[movie.isnull()['rt_all_critics_rating'] == True]\n",
    "movie[movie.isnull()['rt_top_critics_rating'] == True]\n",
    "movie[movie.isnull()['rt_audience_rating'] == True]\n",
    "len(movie[movie['ml_user_rating'].isnull()])\n",
    "\n",
    "#len(movie[movie.isnull().any(axis=1)])"
   ]
  },
  {
   "cell_type": "markdown",
   "metadata": {
    "activity": "activity"
   },
   "source": [
    "Solutions can be found in the `08.1.soln Movies dataset` Notebook, but please DO attempt the activity yourself before looking at these solutions."
   ]
  },
  {
   "cell_type": "markdown",
   "metadata": {},
   "source": [
    "## Summary\n",
    "In this Notebook you have explored the Movies dataset in order to familiarise yourself with the data that you will\n",
    "using as a relational database in some of the practical activities in Parts 9-12. In particular, the presence of \n",
    "missing data, which you may need to accommodate when writing SQL queries against the data."
   ]
  },
  {
   "cell_type": "markdown",
   "metadata": {
    "collapsed": true,
    "run_control": {
     "read_only": false
    }
   },
   "source": [
    "## What next?\n",
    "If you are working through this Notebook as part of an inline exercise, return to the module materials now.\n",
    "\n",
    "If you are working through this set of Notebooks as a whole, move on to `Part 9` Notebooks."
   ]
  }
 ],
 "metadata": {
  "kernelspec": {
   "display_name": "Python 3",
   "language": "python",
   "name": "python3"
  },
  "language_info": {
   "codemirror_mode": {
    "name": "ipython",
    "version": 3
   },
   "file_extension": ".py",
   "mimetype": "text/x-python",
   "name": "python",
   "nbconvert_exporter": "python",
   "pygments_lexer": "ipython3",
   "version": "3.4.3"
  }
 },
 "nbformat": 4,
 "nbformat_minor": 0
}
