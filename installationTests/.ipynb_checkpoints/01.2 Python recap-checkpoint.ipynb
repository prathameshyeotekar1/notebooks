{
 "cells": [
  {
   "cell_type": "markdown",
   "metadata": {},
   "source": [
    "# Python recap"
   ]
  },
  {
   "cell_type": "markdown",
   "metadata": {},
   "source": [
    "Although the design of an IPython Notebook encourages the development of code in small fragments, this does not mean that each cell is independent of all the other cells. Rather, the Notebook is an interface to a current IPython shell, and as such has access to the current state of that shell."
   ]
  },
  {
   "cell_type": "code",
   "execution_count": null,
   "metadata": {
    "collapsed": false,
    "run_control": {
     "read_only": false
    }
   },
   "outputs": [],
   "source": [
    "txt = \"Hello World\""
   ]
  },
  {
   "cell_type": "markdown",
   "metadata": {},
   "source": [
    "If you executed the first code cell above, you will have set the value of the `txt` variable. This means we can access its value again in other cells; you will see this if you run the next cell. (If you changed the text away from *Hello World*, then your last replacement message should be displayed):"
   ]
  },
  {
   "cell_type": "code",
   "execution_count": null,
   "metadata": {
    "collapsed": false,
    "run_control": {
     "read_only": false
    }
   },
   "outputs": [],
   "source": [
    "print(txt)"
   ]
  },
  {
   "cell_type": "markdown",
   "metadata": {},
   "source": [
    "So, IPython uses a *global* naming space - named things, like variables (`txt` above), are available in all the code cells within the Notebook. "
   ]
  },
  {
   "cell_type": "markdown",
   "metadata": {},
   "source": [
    "## Some Python basics"
   ]
  },
  {
   "cell_type": "markdown",
   "metadata": {},
   "source": [
    "Sometimes it can be useful to build up quite rich messages using the contents of several variables. One way of achieving this is to print a string that contains some placeholder variables, and then insert appropriate values into those placeholders.\n",
    "\n",
    "By inspection - and running - of the following code, can you see how it works? See if you can change the message that is displayed, either by editing the cell directly, creating a new cell and copying the code, or selecting the cell and copying and pasting it.  Try creating a new variable with a new string value, and adding that into the printed message."
   ]
  },
  {
   "cell_type": "code",
   "execution_count": null,
   "metadata": {
    "collapsed": false,
    "run_control": {
     "read_only": false
    }
   },
   "outputs": [],
   "source": [
    "print( \"This message includes the earlier one: '{0}'. {1}?\".format(txt, \"See what I did there\") )"
   ]
  },
  {
   "cell_type": "raw",
   "metadata": {},
   "source": []
  },
  {
   "cell_type": "markdown",
   "metadata": {},
   "source": [
    "We can also use the `format` statement to display numbers - and the result of arithmetic..."
   ]
  },
  {
   "cell_type": "code",
   "execution_count": null,
   "metadata": {
    "collapsed": false,
    "run_control": {
     "read_only": false
    }
   },
   "outputs": [],
   "source": [
    "a = 12\n",
    "\n",
    "result = \"The sum of {0} and {1} is {2}. {3}\".format( 7, a, a+7, \"Magic!\" )\n",
    "\n",
    "print(result)\n",
    "\n",
    "print(\"print() displays output lines. We can also simply output the value of the last item in the cell without using print...\")\n",
    "\n",
    "result"
   ]
  },
  {
   "cell_type": "markdown",
   "metadata": {},
   "source": [
    "### Python types\n",
    "Python supports different *types* of object:"
   ]
  },
  {
   "cell_type": "code",
   "execution_count": null,
   "metadata": {
    "collapsed": false,
    "run_control": {
     "read_only": false
    }
   },
   "outputs": [],
   "source": [
    "# A string: str.\n",
    "txt  =\"This is a string\"\n",
    "print(txt)\n",
    "\n",
    "# Strip leading and trailing white space from a string.\n",
    "print( \"this, \"+\"that   \".strip() +\"the other\")\n",
    "\n",
    "# Typically, the sorts of quotation mark you use don't matter.\n",
    "# If you are careful about the nesting, you can include one sort of quote inside another.\n",
    "print( \"this \"+'that, ' +'\"the other\"')\n",
    "\n",
    "# An integer: int.\n",
    "integer = 7\n",
    "print(integer)\n",
    "\n",
    "# A boolean value (True or False): bool.\n",
    "flag = False\n",
    "otherFlag = bool(1)\n",
    "print(flag, otherFlag)\n",
    "\n",
    "# A floating-point number: float.\n",
    "floatingPoint = 3.5\n",
    "print(floatingPoint)\n",
    "\n",
    "# Note that Python will automatically cast some datatypes when required \n",
    "#    (here an integer value and floating-point value are added together, \n",
    "#     the result is a floating-point value).\n",
    "integer + floatingPoint"
   ]
  },
  {
   "cell_type": "markdown",
   "metadata": {},
   "source": [
    "So what happens if you run the previous cell? The 'output' of the last line of code in the last cell is the one that is displayed.\n",
    "\n",
    "We can also refer to that value returned from the last run cell using a specially defined variable: _\n",
    "\n",
    "Run the previous cell and then the following one. "
   ]
  },
  {
   "cell_type": "code",
   "execution_count": null,
   "metadata": {
    "collapsed": false,
    "run_control": {
     "read_only": false
    }
   },
   "outputs": [],
   "source": [
    "_"
   ]
  },
  {
   "cell_type": "markdown",
   "metadata": {},
   "source": [
    "What do you think the following cell will do? Try running it to see."
   ]
  },
  {
   "cell_type": "code",
   "execution_count": null,
   "metadata": {
    "collapsed": false,
    "run_control": {
     "read_only": false
    }
   },
   "outputs": [],
   "source": [
    "_ * 10"
   ]
  },
  {
   "cell_type": "markdown",
   "metadata": {
    "activity": "activity"
   },
   "source": [
    "## Activity\n",
    "To get a feel for how different types of object can be combined, create a new code cell below and try some of the following operations by copying them one at a time into a code cell and then running that cell. Test your understanding by trying to predict the output each statement will give.\n",
    "\n",
    "Remember, only the output of the last line of code in the cell is displayed. \n",
    "\n",
    "Don't worry if you get an error message, you won't break the Notebook - it just means the two types don't work with the operator you provided. You might also find that the error message helps you debug what is wrong with your statement.\n",
    "\n",
    "```\n",
    "1 * 5\n",
    "1.0 * 5\n",
    "'Three' + 'plus' + '4'\n",
    "'Three' + 'plus' + 4\n",
    "\"Three\" + ' plus ' + str(4)\n",
    "int(3.78)\n",
    "4 + int('5'+'6')\n",
    "True\n",
    "not True\n",
    "bool(0)\n",
    "None\n",
    "not None\n",
    "```"
   ]
  },
  {
   "cell_type": "markdown",
   "metadata": {},
   "source": [
    "## What next?"
   ]
  },
  {
   "cell_type": "markdown",
   "metadata": {},
   "source": [
    "If you are working through this Notebook as part of an inline exercise, return to the module materials now.\n",
    "\n",
    "If you are working through this set of Notebooks as a whole, move on to the next step in the bootcamp: `01.3 Basic python data structures`. "
   ]
  }
 ],
 "metadata": {
  "kernelspec": {
   "display_name": "Python 3",
   "language": "python",
   "name": "python3"
  },
  "language_info": {
   "codemirror_mode": {
    "name": "ipython",
    "version": 3
   },
   "file_extension": ".py",
   "mimetype": "text/x-python",
   "name": "python",
   "nbconvert_exporter": "python",
   "pygments_lexer": "ipython3",
   "version": "3.4.3"
  }
 },
 "nbformat": 4,
 "nbformat_minor": 0
}
