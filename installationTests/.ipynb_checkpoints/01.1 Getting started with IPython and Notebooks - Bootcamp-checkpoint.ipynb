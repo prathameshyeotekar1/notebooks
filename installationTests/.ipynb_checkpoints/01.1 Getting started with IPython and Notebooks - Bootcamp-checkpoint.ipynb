{
 "cells": [
  {
   "cell_type": "markdown",
   "metadata": {
    "code_folding": []
   },
   "source": [
    "# Python recap and IPython Notebook bootcamp"
   ]
  },
  {
   "cell_type": "markdown",
   "metadata": {},
   "source": [
    "Whilst TM351 is not a programming course, and whilst you do not need to be an expert programmer to complete it, you will be expected to make use of the Python programming language, and some powerful libraries developed for it, as a part of a computational toolkit for working with data.\n",
    "\n",
    "This session has been developed as a quick review of what we might term *pragmatic Python for data wranglers*.\n",
    "\n",
    "* If IPython Notebooks are new to you, the bootcamp will provide a useful exercise in learning how to make use of it.\n",
    "* If you are already a proficient Python programmer, much of what is covered in the bootcamp should be familiar to you. Indeed, you may find some of the treatments simplistic and argue that there are more concise ways of writing a particular line of code, or more idiomatic ways of writing another.\n",
    "* If you consider yourself a novice Python programmer, or if Python is a completely new language to you, this session should give you enough examples of how to use particular language elements or constructions to *get stuff done*.  However, if you are interested in taking your Python knowledge further, there are many excellent tutorials available, such as the ['standard' Python tutorial](https://docs.python.org/3/tutorial/index.html)."
   ]
  },
  {
   "cell_type": "markdown",
   "metadata": {},
   "source": [
    "Whilst Python code is often presented as complete program listings, the approach we will take for the first third of the module at least is to use Python in an interactive way. That is, we will be running lines of Python code, observing the results, then writing and executing further lines of code. To a certain extent, we will be using Python as the means by which we can work with data from a variety of sources and have conversations with it.\n",
    "\n",
    "This document is presented as an *IPython Notebook*, a browser-based interface to an IPython shell, an enhanced interactive version of Python. The session has been designed to be interactive.  So you can update and edit most cells, and there will be exercises for you to work through. \n"
   ]
  },
  {
   "cell_type": "markdown",
   "metadata": {},
   "source": [
    "## Notebook cells\n",
    "The notebook is made up of cells which can contain text in a variety of presentational styles, such as headers, raw text, or as in the case of this cell, rendered Markdown (*Markdown* is a simple text markup language, a bit like a simple HTML, but without the angle brackets!). \n",
    "\n",
    "### Code cells\n",
    "Cells can also contain Python program code that can be executed in a variety of ways (these cells are preceeded by the text string _In [n]:_). For example, if you click on the cell below to select it, you should find that it becomes highlighted by a surrounding box. You can execute the Python code contained in a selected Code cell by:\n",
    "\n",
    "* from the *Cell* menu, select *Run* \n",
    "* hitting the play button in the toolbar at the top of the Notebook; the cursor also moves to the next cell\n",
    "* entering Shift+Return; again, the cell contents are executed and the cursor moves to the next cell.\n",
    "\n",
    "*See if you can execute the code in the following cell.*"
   ]
  },
  {
   "cell_type": "code",
   "execution_count": 6,
   "metadata": {
    "code_folding": [],
    "collapsed": false,
    "run_control": {
     "read_only": false
    }
   },
   "outputs": [
    {
     "name": "stdout",
     "output_type": "stream",
     "text": [
      "Hello pablo\n"
     ]
    }
   ],
   "source": [
    "txt=\"Hello pablo\"\n",
    "\n",
    "# If we precede a line with a hash (American: pound) symbol in a code cell,\n",
    "# it is treated as an unexecuted comment line.\n",
    "print(txt)"
   ]
  },
  {
   "cell_type": "markdown",
   "metadata": {},
   "source": [
    "Did you try executing the contents of the cell immediately above? \n",
    "\n",
    "If so, what happened? \n",
    "\n",
    "You should have seen the *Hello World* message displayed in an output area of the cell immediately below the code area.\n",
    "\n",
    "\n",
    "\n",
    "You can edit the contents of the cell by double-clicking into the cell and changing the text as required. In the previous cell, we assigned a string *Hello World* to the *variable* `txt` and then printed it out. Double-click on the cell above to open it for editing. Change the message to a message of your own and run the cell again. Does your message get printed out?\n",
    "\n",
    "You can also get out of an open/edit mode cell by simply clicking on another cell: the current state of the cell you were editing will be saved automatically. If the original cell was a code cell, clicking outside of it does not run it: the output of any previous run will remain and may now no longer correspond to the output of actually running the cell.\n",
    "\n",
    "To clear the output of a single cell,  click on the cell and use the *Cell* menu, *Current Output* option. If you want to clear the output of all the cells in a Notebook, then select the *Cell* menu, *All Output* option."
   ]
  },
  {
   "cell_type": "markdown",
   "metadata": {},
   "source": [
    "### Markdown cells and cell editting\n",
    "As well as editing cells containing code, you can edit cells containing the 'free' Markdown text, such as the text contents of this cell, or add new cells.  You can **insert** a cell from the toolbar using the *Insert* menu or the button containing a plus (+) symbol. The new cell will be inserted immediately below the currently selected/highlighted cell or the 'open' cell that currently contains the cursor.\n",
    "\n",
    "The display type of the cell can be selected from the drop-down menu on the toolbar at the top of the Notebook - the default is *Code* which, in this module, is executable Python code. \n",
    "\n",
    "Other cell types are also possible, such as *Heading* cells at a variety of header levels, and *Markdown* cells that allow you to write 'human readable' text such as this block of text using the Markdown markup language. You can find an introduction to Markdown syntax from the _Help_ menu or from here: [Markdown: Basics](http://daringfireball.net/projects/markdown/basics). Note that you can also embed HTML markup in Markdown cells. When you run a Heading or Markdown cell, the markup code is rendered appropriately.\n",
    "\n",
    "Insert a cell immediately beneath this one, and set it to be a *Markdown* cell. Write three or four lines describing your immediate impressions about the IPython Notebook environment.  \n",
    "\n",
    "To **delete** a cell, select it and then click on the scissors icon in the toolbar, or from the *Edit* menu select *Delete Cell*.  If you cut a cell by accident, you can undo the action using the *Undo Delete Cell* option from the *Edit* menu.\n",
    "\n",
    "You can also **copy** and **paste** cells using the clipboard icons or the appropriate commands in the *Edit* menu. The *paste* operation pastes the previously copied cell immediately below the currently selected cell.\n",
    "\n",
    "To **alter the order** of cells in the notebook, move them up and down using the up and down arrows.\n",
    "\n",
    "*Feel free to have a play with the Notebook's editing commands now to get a feel for how they work.*"
   ]
  },
  {
   "cell_type": "markdown",
   "metadata": {},
   "source": [
    "The Notebooks autosave regularly, but you can also create a checkpoint by clicking the floppy disk icon or choosing the appropriate selection from the *File* menu. You can also return to the last checkpoint from the *File* menu.\n",
    "\n",
    "One of the things we would like you to do is take ownership of these Notebooks: feel free to add additional commentary or code cells to them at any time.\n",
    "\n",
    "If you would like to distinguish your notes from the module notes, you can change the colour of the text appearing in the Markdown cell by adding a piece of HTML code such as `<div style=\"color:blue\">` to the start of the cell, as shown in the following example cell.\n",
    "\n",
    "By inspection of the HTML code fragments, in this cell and the one below, can you work out how to set the colour from <span style=\"color:blue\">*blue*</span> to <span style=\"color:magenta\">*magenta*</span>, or <span style=\"color:red\">*red*</span>?"
   ]
  },
  {
   "cell_type": "markdown",
   "metadata": {},
   "source": [
    "<div style=\"color:blue\">These are some notes about my progress so far - my very own personal learning diary!:-)"
   ]
  },
  {
   "cell_type": "markdown",
   "metadata": {},
   "source": [
    "If you make any mistakes when editing a cell, you should be able to undo your actions within that cell by using the traditional undo command: `Ctrl+Z`."
   ]
  },
  {
   "cell_type": "markdown",
   "metadata": {},
   "source": [
    "### In passing, say 'Hi' to the command line..."
   ]
  },
  {
   "cell_type": "markdown",
   "metadata": {},
   "source": [
    "Before we start the Python recap, it's worth noting that an IPython Notebook also allows you to run command-line commands as a terminal on the underlying operating system. If you are running this IPython Notebook on the TM351 virtual machine, the underlying operating system is a version of Linux. You can run Linux command-line commands in a Notebook cell by prefixing the command with a !. For example:"
   ]
  },
  {
   "cell_type": "code",
   "execution_count": 9,
   "metadata": {
    "collapsed": false,
    "run_control": {
     "read_only": false
    }
   },
   "outputs": [
    {
     "name": "stdout",
     "output_type": "stream",
     "text": [
      "/vagrant/notebooks/Part 01 Notebooks\r\n"
     ]
    }
   ],
   "source": [
    "#Display the current directory\n",
    "!pwd"
   ]
  },
  {
   "cell_type": "code",
   "execution_count": 7,
   "metadata": {
    "collapsed": false,
    "run_control": {
     "read_only": false
    },
    "scrolled": true
   },
   "outputs": [
    {
     "name": "stdout",
     "output_type": "stream",
     "text": [
      "01.1 Getting started with IPython and Notebooks - Bootcamp.ipynb\r\n",
      "01.2 Python recap.ipynb\r\n",
      "01.3 Basic python data structures.ipynb\r\n",
      "01.4 Defining new functions in python.ipynb\r\n",
      "01.5 Python file handling.ipynb\r\n",
      "data\r\n"
     ]
    }
   ],
   "source": [
    "#Display the contents of the current directory\n",
    "!ls"
   ]
  },
  {
   "cell_type": "markdown",
   "metadata": {},
   "source": [
    "A helpful feature of IPython is that you can press the Tab key to complete commands and to read some of the built-in documentation on different commands. For example:"
   ]
  },
  {
   "cell_type": "code",
   "execution_count": null,
   "metadata": {
    "collapsed": false,
    "run_control": {
     "read_only": false
    }
   },
   "outputs": [],
   "source": [
    "# Enter 'pr' on the line below and press the Tab key to see the autocomplete options.\n",
    "# Use the keyboard arrow keys to move up and down the list and press Return to autocomplete to the selected item.\n"
   ]
  },
  {
   "cell_type": "code",
   "execution_count": 8,
   "metadata": {
    "collapsed": false,
    "run_control": {
     "read_only": false
    }
   },
   "outputs": [],
   "source": [
    "# Enter ??print below, and run the code cell.\n",
    "# In the slider window below, you should see a short text documenting the print command.\n",
    "#    The slider window may be minimised so look for the slider tab in the \n",
    "#    middle of the screen on the bottom edge of your browser window.\n",
    "??print"
   ]
  },
  {
   "cell_type": "markdown",
   "metadata": {},
   "source": [
    "## What next?"
   ]
  },
  {
   "cell_type": "markdown",
   "metadata": {},
   "source": [
    "If you are working through this Notebook as part of an inline exercise, return to the module materials now.\n",
    "\n",
    "If you are working through this set of Notebooks as a whole, move on to the next step in the bootcamp: `01.2 Python recap`."
   ]
  }
 ],
 "metadata": {
  "kernelspec": {
   "display_name": "Python 3",
   "language": "python",
   "name": "python3"
  },
  "language_info": {
   "codemirror_mode": {
    "name": "ipython",
    "version": 3
   },
   "file_extension": ".py",
   "mimetype": "text/x-python",
   "name": "python",
   "nbconvert_exporter": "python",
   "pygments_lexer": "ipython3",
   "version": "3.4.3"
  }
 },
 "nbformat": 4,
 "nbformat_minor": 0
}
